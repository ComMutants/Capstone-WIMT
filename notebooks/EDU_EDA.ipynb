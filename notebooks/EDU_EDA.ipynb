{
 "metadata": {
  "language_info": {
   "codemirror_mode": {
    "name": "ipython",
    "version": 3
   },
   "file_extension": ".py",
   "mimetype": "text/x-python",
   "name": "python",
   "nbconvert_exporter": "python",
   "pygments_lexer": "ipython3",
   "version": "3.8.5"
  },
  "orig_nbformat": 4,
  "kernelspec": {
   "name": "python3",
   "display_name": "Python 3.8.5 64-bit ('.venv': venv)"
  },
  "interpreter": {
   "hash": "f7e9aa0a9fe1ceb3c33c5aa0b358d6952771ff9c315b2715a747dc81bd71c7e9"
  }
 },
 "nbformat": 4,
 "nbformat_minor": 2,
 "cells": [
  {
   "cell_type": "code",
   "execution_count": null,
   "metadata": {},
   "outputs": [],
   "source": [
    "import sys\n",
    "# adding to the path variables the one folder higher (locally, not changing system variables)\n",
    "sys.path.append(\"..\")\n",
    "import pandas as pd\n",
    "import numpy as np\n",
    "import warnings\n",
    "import mlflow\n",
    "from modeling.config import TRACKING_URI, EXPERIMENT_NAME\n",
    "from pandas_profiling import ProfileReport\n",
    "import pyarrow.feather as feather\n",
    "import time\n",
    "from datetime import datetime\n",
    "from datetime import timedelta\n",
    "import seaborn as sns\n"
   ]
  },
  {
   "cell_type": "code",
   "execution_count": null,
   "metadata": {},
   "outputs": [],
   "source": [
    "export_df = feather.read_feather(\"../data/cleaned_data.feather\")"
   ]
  },
  {
   "cell_type": "code",
   "execution_count": null,
   "metadata": {},
   "outputs": [],
   "source": [
    "export_df[\"event_timestamp\"]=pd.to_datetime(export_df[\"event_timestamp\"]*1000, unit=\"ns\")"
   ]
  },
  {
   "cell_type": "code",
   "execution_count": null,
   "metadata": {},
   "outputs": [],
   "source": [
    "export_df[\"notif_viewed_ontime\"]=list(map(lambda x,y,z: '' if x==\"notification_received\" else (1 if y < z else 0), export_df[\"event_name\"], export_df[\"event_timestamp\"],export_df[\"closed_at\"])) #1 if the user view it on time  0 if not  and null if hasnt yet seen it "
   ]
  },
  {
   "cell_type": "code",
   "execution_count": null,
   "metadata": {},
   "outputs": [],
   "source": [
    "export_df[\"reaction_time\"]=list(map(lambda x,y,z,w: y-w\n",
    "if (x==1) else (y-z if (x==0) else 0), \n",
    "export_df[\"notif_viewed_ontime\"],export_df[\"event_timestamp\"],export_df[\"closed_at\"],export_df[\"created_at\"]))"
   ]
  },
  {
   "cell_type": "code",
   "execution_count": null,
   "metadata": {},
   "outputs": [],
   "source": [
    "# IMPORTANT: REACTION TIME FOR THE CASES OF NOTIF VIEWED ONTIME = 0 IS THE DIFFERENCE BETWEEN INCIDENT CLOSED AND INCIDENT_INTERACTION\n",
    "# NOTIF VIEWED ONTIME= 1 IS DIFF BETWEEN INCIDENT CREATED AND INCIDENT INTERACTION"
   ]
  },
  {
   "source": [
    "PLOT OF REACTION TIME VS OPEN/DISMISSED FOR ACTIVE USERS\n",
    "PLOT OF "
   ],
   "cell_type": "markdown",
   "metadata": {}
  },
  {
   "cell_type": "code",
   "execution_count": null,
   "metadata": {},
   "outputs": [],
   "source": [
    "\n",
    "active_df=export_df[export_df[\"notif_viewed_ontime\"]==1].reset_index(drop=True)\n",
    "unactive_df=export_df[export_df[\"notif_viewed_ontime\"]==0].reset_index(drop=True)\n",
    "#active_df.drop('notif_viewed_ontime', axis=1, inplace=True)\n",
    "#unactive_df.drop('notif_viewed_ontime', axis=1, inplace=True)"
   ]
  },
  {
   "cell_type": "code",
   "execution_count": null,
   "metadata": {},
   "outputs": [],
   "source": [
    "export_df.info()"
   ]
  },
  {
   "source": [
    "# ASK TIM"
   ],
   "cell_type": "markdown",
   "metadata": {}
  },
  {
   "cell_type": "code",
   "execution_count": 41,
   "metadata": {},
   "outputs": [
    {
     "output_type": "execute_result",
     "data": {
      "text/plain": [
       "                  event_timestamp            event_name user_id  \\\n",
       "0      2021-05-29 04:16:36.618000  notification_dismiss   8c7b7   \n",
       "1      2021-05-29 04:16:36.622001  notification_dismiss   8c7b7   \n",
       "2      2021-05-29 17:14:09.994000  notification_dismiss   8c7b7   \n",
       "3      2021-05-29 03:17:06.023000  notification_dismiss   3f1e8   \n",
       "4      2021-05-29 01:27:23.251000  notification_dismiss   81354   \n",
       "...                           ...                   ...     ...   \n",
       "381734 2021-07-06 12:16:54.144002   notification_opened   b6c41   \n",
       "381735 2021-07-06 13:04:46.270002   notification_opened   b6c41   \n",
       "381736 2021-07-05 23:05:16.648000   notification_opened   7a79c   \n",
       "381737 2021-07-06 17:08:21.329002   notification_opened   0bf97   \n",
       "381738 2021-07-06 15:46:40.447000   notification_opened   a07a7   \n",
       "\n",
       "                created_at        published_at           closed_at  \\\n",
       "0      2021-05-29 02:07:09 2021-05-29 02:07:12 2021-05-29 03:01:00   \n",
       "1      2021-05-29 03:17:01 2021-05-29 03:17:12 2021-05-29 04:01:00   \n",
       "2      2021-05-29 13:12:27 2021-05-29 13:12:42 2021-05-29 14:01:00   \n",
       "3      2021-05-29 01:21:13 2021-05-29 01:21:34 2021-05-29 02:17:00   \n",
       "4      2021-05-28 20:37:32 2021-05-28 20:38:12 2021-05-28 21:03:00   \n",
       "...                    ...                 ...                 ...   \n",
       "381734 2021-07-06 10:58:23 2021-07-06 10:58:26 2021-07-06 12:00:00   \n",
       "381735 2021-07-06 12:19:18 2021-07-06 12:19:25 2021-07-06 12:50:00   \n",
       "381736 2021-07-05 21:39:17 2021-07-05 21:39:20 2021-07-05 22:40:01   \n",
       "381737 2021-07-06 16:47:02 2021-07-06 16:47:39                 NaT   \n",
       "381738 2021-07-06 11:50:35 2021-07-06 11:50:40 2021-07-06 13:00:00   \n",
       "\n",
       "                    cause         effect  \\\n",
       "0       VehicularAccident         Delays   \n",
       "1                Incident         Delays   \n",
       "2                Incident         Delays   \n",
       "3           BrokenVehicle         Delays   \n",
       "4       VehicularAccident         Delays   \n",
       "...                   ...            ...   \n",
       "381734           Incident         Delays   \n",
       "381735  VehicularAccident  LaneReduction   \n",
       "381736           Incident         Delays   \n",
       "381737      Demonstration         Delays   \n",
       "381738           Incident         Delays   \n",
       "\n",
       "                                              description  \\\n",
       "0       ⌛  ¡No de nuevo! Hay retrasos por accidente ve...   \n",
       "1       ⏳ ¡Pa variar! Usuarios reportan retrasos de ha...   \n",
       "2       ⏳ ¡No te esponjes! Usuarios reportan retrasos ...   \n",
       "3       🚗 ¡Sopas! Retrasos por vehículo descompuesto e...   \n",
       "4       ⌛ ¡Ah jijo! Hay retrasos por accidente vehicul...   \n",
       "...                                                   ...   \n",
       "381734  ⏳ ¡Changos! Usuarios informan retrasos de más ...   \n",
       "381735  ⏳ ¡Chanfle! Reducción de carriles por percance...   \n",
       "381736  ⏳ No te agüites, pero usuarios reportan retras...   \n",
       "381737  ✋ ¡Chanclas! Hay cierre de circulación por man...   \n",
       "381738  ⏳ ¡Changos! Usuarios informan retrasos de más ...   \n",
       "\n",
       "        area_of_effect_coordinates_latitude  \\\n",
       "0                                -99.170952   \n",
       "1                                       NaN   \n",
       "2                                       NaN   \n",
       "3                                -99.066870   \n",
       "4                                -99.082618   \n",
       "...                                     ...   \n",
       "381734                                  NaN   \n",
       "381735                           -99.059346   \n",
       "381736                                  NaN   \n",
       "381737                           -99.041880   \n",
       "381738                                  NaN   \n",
       "\n",
       "        area_of_effect_coordinates_longitude notif_viewed_ontime  \\\n",
       "0                                  19.393843                   0   \n",
       "1                                        NaN                   0   \n",
       "2                                        NaN                   0   \n",
       "3                                  19.404783                   0   \n",
       "4                                  19.421229                   0   \n",
       "...                                      ...                 ...   \n",
       "381734                                   NaN                   0   \n",
       "381735                             19.304670                   0   \n",
       "381736                                   NaN                   0   \n",
       "381737                             19.343449                   0   \n",
       "381738                                   NaN                   0   \n",
       "\n",
       "              reaction_time  \n",
       "0             4536618000000  \n",
       "1              936622001000  \n",
       "2            11589994000000  \n",
       "3             3606023000000  \n",
       "4            15863251000000  \n",
       "...                     ...  \n",
       "381734        1014144002000  \n",
       "381735         886270002000  \n",
       "381736        1515648000000  \n",
       "381737 -9223372036854775808  \n",
       "381738       10000447000000  \n",
       "\n",
       "[381739 rows x 13 columns]"
      ],
      "text/html": "<div>\n<style scoped>\n    .dataframe tbody tr th:only-of-type {\n        vertical-align: middle;\n    }\n\n    .dataframe tbody tr th {\n        vertical-align: top;\n    }\n\n    .dataframe thead th {\n        text-align: right;\n    }\n</style>\n<table border=\"1\" class=\"dataframe\">\n  <thead>\n    <tr style=\"text-align: right;\">\n      <th></th>\n      <th>event_timestamp</th>\n      <th>event_name</th>\n      <th>user_id</th>\n      <th>created_at</th>\n      <th>published_at</th>\n      <th>closed_at</th>\n      <th>cause</th>\n      <th>effect</th>\n      <th>description</th>\n      <th>area_of_effect_coordinates_latitude</th>\n      <th>area_of_effect_coordinates_longitude</th>\n      <th>notif_viewed_ontime</th>\n      <th>reaction_time</th>\n    </tr>\n  </thead>\n  <tbody>\n    <tr>\n      <th>0</th>\n      <td>2021-05-29 04:16:36.618000</td>\n      <td>notification_dismiss</td>\n      <td>8c7b7</td>\n      <td>2021-05-29 02:07:09</td>\n      <td>2021-05-29 02:07:12</td>\n      <td>2021-05-29 03:01:00</td>\n      <td>VehicularAccident</td>\n      <td>Delays</td>\n      <td>⌛  ¡No de nuevo! Hay retrasos por accidente ve...</td>\n      <td>-99.170952</td>\n      <td>19.393843</td>\n      <td>0</td>\n      <td>4536618000000</td>\n    </tr>\n    <tr>\n      <th>1</th>\n      <td>2021-05-29 04:16:36.622001</td>\n      <td>notification_dismiss</td>\n      <td>8c7b7</td>\n      <td>2021-05-29 03:17:01</td>\n      <td>2021-05-29 03:17:12</td>\n      <td>2021-05-29 04:01:00</td>\n      <td>Incident</td>\n      <td>Delays</td>\n      <td>⏳ ¡Pa variar! Usuarios reportan retrasos de ha...</td>\n      <td>NaN</td>\n      <td>NaN</td>\n      <td>0</td>\n      <td>936622001000</td>\n    </tr>\n    <tr>\n      <th>2</th>\n      <td>2021-05-29 17:14:09.994000</td>\n      <td>notification_dismiss</td>\n      <td>8c7b7</td>\n      <td>2021-05-29 13:12:27</td>\n      <td>2021-05-29 13:12:42</td>\n      <td>2021-05-29 14:01:00</td>\n      <td>Incident</td>\n      <td>Delays</td>\n      <td>⏳ ¡No te esponjes! Usuarios reportan retrasos ...</td>\n      <td>NaN</td>\n      <td>NaN</td>\n      <td>0</td>\n      <td>11589994000000</td>\n    </tr>\n    <tr>\n      <th>3</th>\n      <td>2021-05-29 03:17:06.023000</td>\n      <td>notification_dismiss</td>\n      <td>3f1e8</td>\n      <td>2021-05-29 01:21:13</td>\n      <td>2021-05-29 01:21:34</td>\n      <td>2021-05-29 02:17:00</td>\n      <td>BrokenVehicle</td>\n      <td>Delays</td>\n      <td>🚗 ¡Sopas! Retrasos por vehículo descompuesto e...</td>\n      <td>-99.066870</td>\n      <td>19.404783</td>\n      <td>0</td>\n      <td>3606023000000</td>\n    </tr>\n    <tr>\n      <th>4</th>\n      <td>2021-05-29 01:27:23.251000</td>\n      <td>notification_dismiss</td>\n      <td>81354</td>\n      <td>2021-05-28 20:37:32</td>\n      <td>2021-05-28 20:38:12</td>\n      <td>2021-05-28 21:03:00</td>\n      <td>VehicularAccident</td>\n      <td>Delays</td>\n      <td>⌛ ¡Ah jijo! Hay retrasos por accidente vehicul...</td>\n      <td>-99.082618</td>\n      <td>19.421229</td>\n      <td>0</td>\n      <td>15863251000000</td>\n    </tr>\n    <tr>\n      <th>...</th>\n      <td>...</td>\n      <td>...</td>\n      <td>...</td>\n      <td>...</td>\n      <td>...</td>\n      <td>...</td>\n      <td>...</td>\n      <td>...</td>\n      <td>...</td>\n      <td>...</td>\n      <td>...</td>\n      <td>...</td>\n      <td>...</td>\n    </tr>\n    <tr>\n      <th>381734</th>\n      <td>2021-07-06 12:16:54.144002</td>\n      <td>notification_opened</td>\n      <td>b6c41</td>\n      <td>2021-07-06 10:58:23</td>\n      <td>2021-07-06 10:58:26</td>\n      <td>2021-07-06 12:00:00</td>\n      <td>Incident</td>\n      <td>Delays</td>\n      <td>⏳ ¡Changos! Usuarios informan retrasos de más ...</td>\n      <td>NaN</td>\n      <td>NaN</td>\n      <td>0</td>\n      <td>1014144002000</td>\n    </tr>\n    <tr>\n      <th>381735</th>\n      <td>2021-07-06 13:04:46.270002</td>\n      <td>notification_opened</td>\n      <td>b6c41</td>\n      <td>2021-07-06 12:19:18</td>\n      <td>2021-07-06 12:19:25</td>\n      <td>2021-07-06 12:50:00</td>\n      <td>VehicularAccident</td>\n      <td>LaneReduction</td>\n      <td>⏳ ¡Chanfle! Reducción de carriles por percance...</td>\n      <td>-99.059346</td>\n      <td>19.304670</td>\n      <td>0</td>\n      <td>886270002000</td>\n    </tr>\n    <tr>\n      <th>381736</th>\n      <td>2021-07-05 23:05:16.648000</td>\n      <td>notification_opened</td>\n      <td>7a79c</td>\n      <td>2021-07-05 21:39:17</td>\n      <td>2021-07-05 21:39:20</td>\n      <td>2021-07-05 22:40:01</td>\n      <td>Incident</td>\n      <td>Delays</td>\n      <td>⏳ No te agüites, pero usuarios reportan retras...</td>\n      <td>NaN</td>\n      <td>NaN</td>\n      <td>0</td>\n      <td>1515648000000</td>\n    </tr>\n    <tr>\n      <th>381737</th>\n      <td>2021-07-06 17:08:21.329002</td>\n      <td>notification_opened</td>\n      <td>0bf97</td>\n      <td>2021-07-06 16:47:02</td>\n      <td>2021-07-06 16:47:39</td>\n      <td>NaT</td>\n      <td>Demonstration</td>\n      <td>Delays</td>\n      <td>✋ ¡Chanclas! Hay cierre de circulación por man...</td>\n      <td>-99.041880</td>\n      <td>19.343449</td>\n      <td>0</td>\n      <td>-9223372036854775808</td>\n    </tr>\n    <tr>\n      <th>381738</th>\n      <td>2021-07-06 15:46:40.447000</td>\n      <td>notification_opened</td>\n      <td>a07a7</td>\n      <td>2021-07-06 11:50:35</td>\n      <td>2021-07-06 11:50:40</td>\n      <td>2021-07-06 13:00:00</td>\n      <td>Incident</td>\n      <td>Delays</td>\n      <td>⏳ ¡Changos! Usuarios informan retrasos de más ...</td>\n      <td>NaN</td>\n      <td>NaN</td>\n      <td>0</td>\n      <td>10000447000000</td>\n    </tr>\n  </tbody>\n</table>\n<p>381739 rows × 13 columns</p>\n</div>"
     },
     "metadata": {},
     "execution_count": 41
    }
   ],
   "source": [
    "#ask tim\n",
    "unactive_analysis_df\n",
    "#unactive_analysis_df['reaction_time'] = unactive_analysis_df['reaction_time'].apply(lambda x: x.value)\n",
    "#unactive_analysis_df[[\"reaction_time\",\"notif_viewed_ontime\",\"event_name\"]].head()\n",
    "#sns.scatterplot(data=unactive_analysis_df[[\"reaction_time\",\"notif_viewed_ontime\",\"event_name\"]], x= \"reaction_time\",y= \"notif_viewed_ontime\", hue=\"event_name\")"
   ]
  },
  {
   "source": [
    "# Analyzing agencies"
   ],
   "cell_type": "markdown",
   "metadata": {}
  },
  {
   "cell_type": "code",
   "execution_count": null,
   "metadata": {},
   "outputs": [],
   "source": [
    "#Deeper understanding on agencies. Choosing aggfunc sum, as we want to know how many users are affected by their notifications. Observing values for both active and unactive users, it does not matter, as this is addressed in another part.\n",
    "agencies_by_cause = pd.pivot_table(export_df, values=['agency_GewRJAw5tUmC4Ku4AX1-SQ', 'agency_GtvOEQAFZ0GtU6u4AXwvPg','agency_HE59N3RXM0q5vKu4AXlQZg','agency_JUR9bFXmVkWDHqu4AXaY0g', 'agency_JfA8Bw8Zp024Kqu4AXiSpQ','agency_MgUq5b9mOEunx6u4AXt_BA','agency_NuuRQ2I1Q0a50Kv-AVKlLA', 'agency_V2AIQQKgmUO3VazvAOA-Cw','agency_jLjibFoim0iwWau4AWoEdQ', 'agency_pky7jovXYkaw-awAAMrQ3g',\n",
    "'agency_zCy9zG00HEqGeKu4AWZYNQ'], index=['cause'], aggfunc=np.sum, fill_value=0, margins=True, margins_name= 'Total')\n",
    "agencies_by_effect = pd.pivot_table(export_df, values=['agency_GewRJAw5tUmC4Ku4AX1-SQ', 'agency_GtvOEQAFZ0GtU6u4AXwvPg','agency_HE59N3RXM0q5vKu4AXlQZg','agency_JUR9bFXmVkWDHqu4AXaY0g', 'agency_JfA8Bw8Zp024Kqu4AXiSpQ','agency_MgUq5b9mOEunx6u4AXt_BA','agency_NuuRQ2I1Q0a50Kv-AVKlLA', 'agency_V2AIQQKgmUO3VazvAOA-Cw','agency_jLjibFoim0iwWau4AWoEdQ', 'agency_pky7jovXYkaw-awAAMrQ3g',\n",
    "'agency_zCy9zG00HEqGeKu4AWZYNQ'], index=['effect'], aggfunc=np.sum, fill_value=0, margins=True, margins_name= 'Total')"
   ]
  },
  {
   "cell_type": "code",
   "execution_count": null,
   "metadata": {},
   "outputs": [],
   "source": [
    "#Agencies MgUq5b9mOEunx6u4AXt_BA and V2AIQQKgmUO3VazvAOA-Cw created no incidents, dropping them\n",
    "agencies_by_effect.drop([\"agency_MgUq5b9mOEunx6u4AXt_BA\",\"agency_V2AIQQKgmUO3VazvAOA-Cw\"],axis=1, inplace=True)\n",
    "agencies_by_cause.drop([\"agency_MgUq5b9mOEunx6u4AXt_BA\",\"agency_V2AIQQKgmUO3VazvAOA-Cw\"],axis=1, inplace=True)"
   ]
  },
  {
   "source": [
    "# Unactive users"
   ],
   "cell_type": "markdown",
   "metadata": {}
  },
  {
   "cell_type": "code",
   "execution_count": null,
   "metadata": {},
   "outputs": [],
   "source": [
    "unactive_df"
   ]
  },
  {
   "cell_type": "code",
   "execution_count": null,
   "metadata": {},
   "outputs": [],
   "source": [
    "unactive_df.columns"
   ]
  },
  {
   "cell_type": "code",
   "execution_count": null,
   "metadata": {},
   "outputs": [],
   "source": [
    "unactive_analysis_df=unactive_df.drop(['agency_GewRJAw5tUmC4Ku4AX1-SQ', 'agency_GtvOEQAFZ0GtU6u4AXwvPg',\n",
    "       'agency_HE59N3RXM0q5vKu4AXlQZg', 'agency_JUR9bFXmVkWDHqu4AXaY0g',\n",
    "       'agency_JfA8Bw8Zp024Kqu4AXiSpQ', 'agency_MgUq5b9mOEunx6u4AXt_BA',\n",
    "       'agency_NuuRQ2I1Q0a50Kv-AVKlLA', 'agency_V2AIQQKgmUO3VazvAOA-Cw',\n",
    "       'agency_jLjibFoim0iwWau4AWoEdQ', 'agency_pky7jovXYkaw-awAAMrQ3g',\n",
    "       'agency_zCy9zG00HEqGeKu4AWZYNQ', 'surrogate_id','document_id'], axis=1)"
   ]
  },
  {
   "cell_type": "code",
   "execution_count": null,
   "metadata": {},
   "outputs": [],
   "source": [
    "unactive_analysis_df"
   ]
  },
  {
   "cell_type": "code",
   "execution_count": null,
   "metadata": {},
   "outputs": [],
   "source": []
  },
  {
   "cell_type": "code",
   "execution_count": null,
   "metadata": {},
   "outputs": [],
   "source": [
    "# Filtering new users"
   ]
  },
  {
   "cell_type": "code",
   "execution_count": null,
   "metadata": {},
   "outputs": [],
   "source": [
    "export_df.tail()"
   ]
  },
  {
   "cell_type": "code",
   "execution_count": null,
   "metadata": {},
   "outputs": [],
   "source": []
  }
 ]
}