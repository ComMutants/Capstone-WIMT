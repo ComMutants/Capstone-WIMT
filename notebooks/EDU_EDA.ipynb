{
 "metadata": {
  "language_info": {
   "codemirror_mode": {
    "name": "ipython",
    "version": 3
   },
   "file_extension": ".py",
   "mimetype": "text/x-python",
   "name": "python",
   "nbconvert_exporter": "python",
   "pygments_lexer": "ipython3",
   "version": "3.8.5"
  },
  "orig_nbformat": 4,
  "kernelspec": {
   "name": "python3",
   "display_name": "Python 3.8.5 64-bit ('.venv': venv)"
  },
  "interpreter": {
   "hash": "f7e9aa0a9fe1ceb3c33c5aa0b358d6952771ff9c315b2715a747dc81bd71c7e9"
  }
 },
 "nbformat": 4,
 "nbformat_minor": 2,
 "cells": [
  {
   "cell_type": "code",
   "execution_count": 1,
   "metadata": {},
   "outputs": [],
   "source": [
    "import sys\n",
    "# adding to the path variables the one folder higher (locally, not changing system variables)\n",
    "sys.path.append(\"..\")\n",
    "import pandas as pd\n",
    "import numpy as np\n",
    "import warnings\n",
    "import mlflow\n",
    "from modeling.config import TRACKING_URI, EXPERIMENT_NAME\n",
    "from pandas_profiling import ProfileReport\n",
    "import pyarrow.feather as feather\n",
    "import time\n",
    "from datetime import datetime\n",
    "from datetime import timedelta\n"
   ]
  },
  {
   "cell_type": "code",
   "execution_count": 2,
   "metadata": {},
   "outputs": [],
   "source": [
    "export_df = feather.read_feather(\"../data/cleaned_data.feather\")"
   ]
  },
  {
   "cell_type": "code",
   "execution_count": 3,
   "metadata": {},
   "outputs": [],
   "source": [
    "export_df[\"event_timestamp\"]=pd.to_datetime(export_df[\"event_timestamp\"]*1000, unit=\"ns\")\n",
    "# utc=True"
   ]
  },
  {
   "cell_type": "code",
   "execution_count": 4,
   "metadata": {},
   "outputs": [
    {
     "output_type": "stream",
     "name": "stdout",
     "text": [
      "<class 'pandas.core.frame.DataFrame'>\nRangeIndex: 2203480 entries, 0 to 2203479\nData columns (total 24 columns):\n #   Column                                Dtype         \n---  ------                                -----         \n 0   event_timestamp                       datetime64[ns]\n 1   event_name                            object        \n 2   user_id                               object        \n 3   document_id                           object        \n 4   surrogate_id                          object        \n 5   created_at                            datetime64[ns]\n 6   published_at                          datetime64[ns]\n 7   closed_at                             datetime64[ns]\n 8   cause                                 object        \n 9   effect                                object        \n 10  description                           object        \n 11  area_of_effect_coordinates_latitude   float64       \n 12  area_of_effect_coordinates_longitude  float64       \n 13  agency_GewRJAw5tUmC4Ku4AX1-SQ         float64       \n 14  agency_GtvOEQAFZ0GtU6u4AXwvPg         float64       \n 15  agency_HE59N3RXM0q5vKu4AXlQZg         float64       \n 16  agency_JUR9bFXmVkWDHqu4AXaY0g         float64       \n 17  agency_JfA8Bw8Zp024Kqu4AXiSpQ         float64       \n 18  agency_MgUq5b9mOEunx6u4AXt_BA         float64       \n 19  agency_NuuRQ2I1Q0a50Kv-AVKlLA         float64       \n 20  agency_V2AIQQKgmUO3VazvAOA-Cw         float64       \n 21  agency_jLjibFoim0iwWau4AWoEdQ         float64       \n 22  agency_pky7jovXYkaw-awAAMrQ3g         float64       \n 23  agency_zCy9zG00HEqGeKu4AWZYNQ         float64       \ndtypes: datetime64[ns](4), float64(13), object(7)\nmemory usage: 403.5+ MB\n"
     ]
    }
   ],
   "source": [
    "export_df.info()"
   ]
  },
  {
   "cell_type": "code",
   "execution_count": 5,
   "metadata": {},
   "outputs": [],
   "source": [
    "export_df[\"notif_viewed_ontime\"]=list(map(lambda x,y,z: '' if x==\"notification_received\" else (1 if y < z else 0), export_df[\"event_name\"], export_df[\"event_timestamp\"],export_df[\"closed_at\"])) #1 if the user view it on time  0 if not  and null if hasnt yet seen it "
   ]
  },
  {
   "cell_type": "code",
   "execution_count": 6,
   "metadata": {},
   "outputs": [],
   "source": [
    "export_df[\"reaction_time\"]=list(map(lambda x,y,z,w: y-z\n",
    "if (x==1 and y>z) else (y-w if (x==1 and y>w) else 0), \n",
    "export_df[\"notif_viewed_ontime\"],export_df[\"event_timestamp\"],export_df[\"published_at\"],export_df[\"created_at\"]))"
   ]
  },
  {
   "cell_type": "code",
   "execution_count": 7,
   "metadata": {},
   "outputs": [],
   "source": [
    "active_df=export_df[export_df[\"notif_viewed_ontime\"]==1].reset_index(drop=True)\n",
    "unactive_df=export_df[export_df[\"notif_viewed_ontime\"]==0].reset_index(drop=True)\n",
    "active_df.drop('notif_viewed_ontime', axis=1, inplace=True)\n",
    "unactive_df.drop('notif_viewed_ontime', axis=1, inplace=True)"
   ]
  },
  {
   "cell_type": "code",
   "execution_count": 8,
   "metadata": {},
   "outputs": [
    {
     "output_type": "execute_result",
     "data": {
      "text/plain": [
       "     1294757\n",
       "1     526984\n",
       "0     381739\n",
       "Name: notif_viewed_ontime, dtype: int64"
      ]
     },
     "metadata": {},
     "execution_count": 8
    }
   ],
   "source": [
    "export_df[\"notif_viewed_ontime\"].value_counts()"
   ]
  },
  {
   "cell_type": "code",
   "execution_count": 9,
   "metadata": {},
   "outputs": [
    {
     "output_type": "execute_result",
     "data": {
      "text/plain": [
       "0                         1677153\n",
       "0 days 00:00:18.714001          6\n",
       "0 days 00:00:30.305001          6\n",
       "0 days 00:00:21.825001          6\n",
       "0 days 00:01:59.771001          5\n",
       "                           ...   \n",
       "0 days 00:04:20.433000          1\n",
       "0 days 00:59:20.928000          1\n",
       "0 days 01:17:13.169000          1\n",
       "0 days 02:41:20.646000          1\n",
       "0 days 00:03:01.242001          1\n",
       "Name: reaction_time, Length: 501600, dtype: int64"
      ]
     },
     "metadata": {},
     "execution_count": 9
    }
   ],
   "source": [
    "export_df[\"reaction_time\"].value_counts()"
   ]
  },
  {
   "cell_type": "code",
   "execution_count": 10,
   "metadata": {},
   "outputs": [
    {
     "output_type": "execute_result",
     "data": {
      "text/plain": [
       "                   event_timestamp             event_name user_id  \\\n",
       "0       2021-05-28 22:22:07.928000  notification_received   ac6d3   \n",
       "1       2021-05-28 22:29:19.952000   notification_dismiss   ac6d3   \n",
       "2       2021-05-29 00:35:53.374000  notification_received   ac6d3   \n",
       "3       2021-05-29 00:36:08.285001   notification_dismiss   ac6d3   \n",
       "4       2021-05-29 03:13:31.584001  notification_received   ac6d3   \n",
       "...                            ...                    ...     ...   \n",
       "2203475 2021-07-06 14:21:02.819000  notification_received   e0b4d   \n",
       "2203476 2021-07-06 15:21:40.674000  notification_received   e0b4d   \n",
       "2203477 2021-07-06 16:05:21.801000  notification_received   e0b4d   \n",
       "2203478 2021-07-05 23:42:09.057001  notification_received   427c1   \n",
       "2203479 2021-07-06 10:58:39.343000  notification_received   427c1   \n",
       "\n",
       "                  document_id            surrogate_id          created_at  \\\n",
       "0        -Map3NyDNGaNwnfF6F0B  4Np4EQPA6xGpKOFIXMTiIg 2021-05-28 22:21:37   \n",
       "1        -Map3NyDNGaNwnfF6F0B  4Np4EQPA6xGpKOFIXMTiIg 2021-05-28 22:21:37   \n",
       "2        -MapQ4JNaTLEWbF2EG-b  kGA96xDA6xGpKOFIXMTiIg 2021-05-29 00:00:46   \n",
       "3        -MapQ4JNaTLEWbF2EG-b  kGA96xDA6xGpKOFIXMTiIg 2021-05-29 00:00:46   \n",
       "4        -Maq63vqDUxQRawQ_3Au  YKlNxSvA6xGpKOFIXMTiIg 2021-05-29 03:12:59   \n",
       "...                       ...                     ...                 ...   \n",
       "2203475  -MdwBMI8mNXadCw7GwTc  kCtjX2Xe6xGa3QeEZ-Zg-g 2021-07-06 14:20:53   \n",
       "2203476  -MdwPCoa1U3j5wMZ8J99  YNy_023e6xGa3QeEZ-Zg-g 2021-07-06 15:21:25   \n",
       "2203477  -MdwZE8hMtqpcYoaNhzM  0AF_8XPe6xGa3QeEZ-Zg-g 2021-07-06 16:05:11   \n",
       "2203478  -Mdt2BT-2y05YXyJctt2  ADiylurd6xGf17VsriRlgg 2021-07-05 23:41:58   \n",
       "2203479  -MdvT00Ih682ZROXWv-n  MOp-FUne6xGEdyPHk--PKA 2021-07-06 10:58:23   \n",
       "\n",
       "               published_at           closed_at              cause  \\\n",
       "0       2021-05-28 22:21:44 2021-05-28 23:01:00  VehicularAccident   \n",
       "1       2021-05-28 22:21:44 2021-05-28 23:01:00  VehicularAccident   \n",
       "2       2021-05-29 00:21:36 2021-05-29 01:01:00  VehicularAccident   \n",
       "3       2021-05-29 00:21:36 2021-05-29 01:01:00  VehicularAccident   \n",
       "4       2021-05-29 03:15:13 2021-05-29 13:59:03      Demonstration   \n",
       "...                     ...                 ...                ...   \n",
       "2203475 2021-07-06 14:20:59 2021-07-06 15:21:33      Demonstration   \n",
       "2203476 2021-07-06 15:21:36 2021-07-06 20:46:48      Demonstration   \n",
       "2203477 2021-07-06 16:05:16 2021-07-06 17:37:59      Demonstration   \n",
       "2203478 2021-07-05 23:42:01 2021-07-06 02:00:01               Rain   \n",
       "2203479 2021-07-06 10:58:26 2021-07-06 12:00:00           Incident   \n",
       "\n",
       "                      effect  ... agency_JUR9bFXmVkWDHqu4AXaY0g  \\\n",
       "0                     Delays  ...                           0.0   \n",
       "1                     Delays  ...                           0.0   \n",
       "2                     Delays  ...                           0.0   \n",
       "3                     Delays  ...                           0.0   \n",
       "4        CirculationShutdown  ...                           0.0   \n",
       "...                      ...  ...                           ...   \n",
       "2203475  SuspensionOfService  ...                           0.0   \n",
       "2203476  SuspensionOfService  ...                           0.0   \n",
       "2203477  SuspensionOfService  ...                           0.0   \n",
       "2203478               Delays  ...                           1.0   \n",
       "2203479               Delays  ...                           1.0   \n",
       "\n",
       "         agency_JfA8Bw8Zp024Kqu4AXiSpQ  agency_MgUq5b9mOEunx6u4AXt_BA  \\\n",
       "0                                  0.0                            0.0   \n",
       "1                                  0.0                            0.0   \n",
       "2                                  0.0                            0.0   \n",
       "3                                  0.0                            0.0   \n",
       "4                                  1.0                            0.0   \n",
       "...                                ...                            ...   \n",
       "2203475                            1.0                            0.0   \n",
       "2203476                            1.0                            0.0   \n",
       "2203477                            1.0                            0.0   \n",
       "2203478                            0.0                            0.0   \n",
       "2203479                            0.0                            0.0   \n",
       "\n",
       "         agency_NuuRQ2I1Q0a50Kv-AVKlLA  agency_V2AIQQKgmUO3VazvAOA-Cw  \\\n",
       "0                                  0.0                            0.0   \n",
       "1                                  0.0                            0.0   \n",
       "2                                  0.0                            0.0   \n",
       "3                                  0.0                            0.0   \n",
       "4                                  0.0                            0.0   \n",
       "...                                ...                            ...   \n",
       "2203475                            0.0                            0.0   \n",
       "2203476                            0.0                            0.0   \n",
       "2203477                            0.0                            0.0   \n",
       "2203478                            0.0                            0.0   \n",
       "2203479                            0.0                            0.0   \n",
       "\n",
       "         agency_jLjibFoim0iwWau4AWoEdQ  agency_pky7jovXYkaw-awAAMrQ3g  \\\n",
       "0                                  0.0                            0.0   \n",
       "1                                  0.0                            0.0   \n",
       "2                                  0.0                            0.0   \n",
       "3                                  0.0                            0.0   \n",
       "4                                  0.0                            0.0   \n",
       "...                                ...                            ...   \n",
       "2203475                            0.0                            0.0   \n",
       "2203476                            0.0                            0.0   \n",
       "2203477                            0.0                            0.0   \n",
       "2203478                            0.0                            0.0   \n",
       "2203479                            0.0                            0.0   \n",
       "\n",
       "         agency_zCy9zG00HEqGeKu4AWZYNQ  notif_viewed_ontime  \\\n",
       "0                                  1.0                        \n",
       "1                                  1.0                    1   \n",
       "2                                  1.0                        \n",
       "3                                  1.0                    1   \n",
       "4                                  1.0                        \n",
       "...                                ...                  ...   \n",
       "2203475                            0.0                        \n",
       "2203476                            0.0                        \n",
       "2203477                            0.0                        \n",
       "2203478                            0.0                        \n",
       "2203479                            0.0                        \n",
       "\n",
       "                  reaction_time  \n",
       "0                             0  \n",
       "1        0 days 00:07:35.952000  \n",
       "2                             0  \n",
       "3        0 days 00:14:32.285001  \n",
       "4                             0  \n",
       "...                         ...  \n",
       "2203475                       0  \n",
       "2203476                       0  \n",
       "2203477                       0  \n",
       "2203478                       0  \n",
       "2203479                       0  \n",
       "\n",
       "[2203480 rows x 26 columns]"
      ],
      "text/html": "<div>\n<style scoped>\n    .dataframe tbody tr th:only-of-type {\n        vertical-align: middle;\n    }\n\n    .dataframe tbody tr th {\n        vertical-align: top;\n    }\n\n    .dataframe thead th {\n        text-align: right;\n    }\n</style>\n<table border=\"1\" class=\"dataframe\">\n  <thead>\n    <tr style=\"text-align: right;\">\n      <th></th>\n      <th>event_timestamp</th>\n      <th>event_name</th>\n      <th>user_id</th>\n      <th>document_id</th>\n      <th>surrogate_id</th>\n      <th>created_at</th>\n      <th>published_at</th>\n      <th>closed_at</th>\n      <th>cause</th>\n      <th>effect</th>\n      <th>...</th>\n      <th>agency_JUR9bFXmVkWDHqu4AXaY0g</th>\n      <th>agency_JfA8Bw8Zp024Kqu4AXiSpQ</th>\n      <th>agency_MgUq5b9mOEunx6u4AXt_BA</th>\n      <th>agency_NuuRQ2I1Q0a50Kv-AVKlLA</th>\n      <th>agency_V2AIQQKgmUO3VazvAOA-Cw</th>\n      <th>agency_jLjibFoim0iwWau4AWoEdQ</th>\n      <th>agency_pky7jovXYkaw-awAAMrQ3g</th>\n      <th>agency_zCy9zG00HEqGeKu4AWZYNQ</th>\n      <th>notif_viewed_ontime</th>\n      <th>reaction_time</th>\n    </tr>\n  </thead>\n  <tbody>\n    <tr>\n      <th>0</th>\n      <td>2021-05-28 22:22:07.928000</td>\n      <td>notification_received</td>\n      <td>ac6d3</td>\n      <td>-Map3NyDNGaNwnfF6F0B</td>\n      <td>4Np4EQPA6xGpKOFIXMTiIg</td>\n      <td>2021-05-28 22:21:37</td>\n      <td>2021-05-28 22:21:44</td>\n      <td>2021-05-28 23:01:00</td>\n      <td>VehicularAccident</td>\n      <td>Delays</td>\n      <td>...</td>\n      <td>0.0</td>\n      <td>0.0</td>\n      <td>0.0</td>\n      <td>0.0</td>\n      <td>0.0</td>\n      <td>0.0</td>\n      <td>0.0</td>\n      <td>1.0</td>\n      <td></td>\n      <td>0</td>\n    </tr>\n    <tr>\n      <th>1</th>\n      <td>2021-05-28 22:29:19.952000</td>\n      <td>notification_dismiss</td>\n      <td>ac6d3</td>\n      <td>-Map3NyDNGaNwnfF6F0B</td>\n      <td>4Np4EQPA6xGpKOFIXMTiIg</td>\n      <td>2021-05-28 22:21:37</td>\n      <td>2021-05-28 22:21:44</td>\n      <td>2021-05-28 23:01:00</td>\n      <td>VehicularAccident</td>\n      <td>Delays</td>\n      <td>...</td>\n      <td>0.0</td>\n      <td>0.0</td>\n      <td>0.0</td>\n      <td>0.0</td>\n      <td>0.0</td>\n      <td>0.0</td>\n      <td>0.0</td>\n      <td>1.0</td>\n      <td>1</td>\n      <td>0 days 00:07:35.952000</td>\n    </tr>\n    <tr>\n      <th>2</th>\n      <td>2021-05-29 00:35:53.374000</td>\n      <td>notification_received</td>\n      <td>ac6d3</td>\n      <td>-MapQ4JNaTLEWbF2EG-b</td>\n      <td>kGA96xDA6xGpKOFIXMTiIg</td>\n      <td>2021-05-29 00:00:46</td>\n      <td>2021-05-29 00:21:36</td>\n      <td>2021-05-29 01:01:00</td>\n      <td>VehicularAccident</td>\n      <td>Delays</td>\n      <td>...</td>\n      <td>0.0</td>\n      <td>0.0</td>\n      <td>0.0</td>\n      <td>0.0</td>\n      <td>0.0</td>\n      <td>0.0</td>\n      <td>0.0</td>\n      <td>1.0</td>\n      <td></td>\n      <td>0</td>\n    </tr>\n    <tr>\n      <th>3</th>\n      <td>2021-05-29 00:36:08.285001</td>\n      <td>notification_dismiss</td>\n      <td>ac6d3</td>\n      <td>-MapQ4JNaTLEWbF2EG-b</td>\n      <td>kGA96xDA6xGpKOFIXMTiIg</td>\n      <td>2021-05-29 00:00:46</td>\n      <td>2021-05-29 00:21:36</td>\n      <td>2021-05-29 01:01:00</td>\n      <td>VehicularAccident</td>\n      <td>Delays</td>\n      <td>...</td>\n      <td>0.0</td>\n      <td>0.0</td>\n      <td>0.0</td>\n      <td>0.0</td>\n      <td>0.0</td>\n      <td>0.0</td>\n      <td>0.0</td>\n      <td>1.0</td>\n      <td>1</td>\n      <td>0 days 00:14:32.285001</td>\n    </tr>\n    <tr>\n      <th>4</th>\n      <td>2021-05-29 03:13:31.584001</td>\n      <td>notification_received</td>\n      <td>ac6d3</td>\n      <td>-Maq63vqDUxQRawQ_3Au</td>\n      <td>YKlNxSvA6xGpKOFIXMTiIg</td>\n      <td>2021-05-29 03:12:59</td>\n      <td>2021-05-29 03:15:13</td>\n      <td>2021-05-29 13:59:03</td>\n      <td>Demonstration</td>\n      <td>CirculationShutdown</td>\n      <td>...</td>\n      <td>0.0</td>\n      <td>1.0</td>\n      <td>0.0</td>\n      <td>0.0</td>\n      <td>0.0</td>\n      <td>0.0</td>\n      <td>0.0</td>\n      <td>1.0</td>\n      <td></td>\n      <td>0</td>\n    </tr>\n    <tr>\n      <th>...</th>\n      <td>...</td>\n      <td>...</td>\n      <td>...</td>\n      <td>...</td>\n      <td>...</td>\n      <td>...</td>\n      <td>...</td>\n      <td>...</td>\n      <td>...</td>\n      <td>...</td>\n      <td>...</td>\n      <td>...</td>\n      <td>...</td>\n      <td>...</td>\n      <td>...</td>\n      <td>...</td>\n      <td>...</td>\n      <td>...</td>\n      <td>...</td>\n      <td>...</td>\n      <td>...</td>\n    </tr>\n    <tr>\n      <th>2203475</th>\n      <td>2021-07-06 14:21:02.819000</td>\n      <td>notification_received</td>\n      <td>e0b4d</td>\n      <td>-MdwBMI8mNXadCw7GwTc</td>\n      <td>kCtjX2Xe6xGa3QeEZ-Zg-g</td>\n      <td>2021-07-06 14:20:53</td>\n      <td>2021-07-06 14:20:59</td>\n      <td>2021-07-06 15:21:33</td>\n      <td>Demonstration</td>\n      <td>SuspensionOfService</td>\n      <td>...</td>\n      <td>0.0</td>\n      <td>1.0</td>\n      <td>0.0</td>\n      <td>0.0</td>\n      <td>0.0</td>\n      <td>0.0</td>\n      <td>0.0</td>\n      <td>0.0</td>\n      <td></td>\n      <td>0</td>\n    </tr>\n    <tr>\n      <th>2203476</th>\n      <td>2021-07-06 15:21:40.674000</td>\n      <td>notification_received</td>\n      <td>e0b4d</td>\n      <td>-MdwPCoa1U3j5wMZ8J99</td>\n      <td>YNy_023e6xGa3QeEZ-Zg-g</td>\n      <td>2021-07-06 15:21:25</td>\n      <td>2021-07-06 15:21:36</td>\n      <td>2021-07-06 20:46:48</td>\n      <td>Demonstration</td>\n      <td>SuspensionOfService</td>\n      <td>...</td>\n      <td>0.0</td>\n      <td>1.0</td>\n      <td>0.0</td>\n      <td>0.0</td>\n      <td>0.0</td>\n      <td>0.0</td>\n      <td>0.0</td>\n      <td>0.0</td>\n      <td></td>\n      <td>0</td>\n    </tr>\n    <tr>\n      <th>2203477</th>\n      <td>2021-07-06 16:05:21.801000</td>\n      <td>notification_received</td>\n      <td>e0b4d</td>\n      <td>-MdwZE8hMtqpcYoaNhzM</td>\n      <td>0AF_8XPe6xGa3QeEZ-Zg-g</td>\n      <td>2021-07-06 16:05:11</td>\n      <td>2021-07-06 16:05:16</td>\n      <td>2021-07-06 17:37:59</td>\n      <td>Demonstration</td>\n      <td>SuspensionOfService</td>\n      <td>...</td>\n      <td>0.0</td>\n      <td>1.0</td>\n      <td>0.0</td>\n      <td>0.0</td>\n      <td>0.0</td>\n      <td>0.0</td>\n      <td>0.0</td>\n      <td>0.0</td>\n      <td></td>\n      <td>0</td>\n    </tr>\n    <tr>\n      <th>2203478</th>\n      <td>2021-07-05 23:42:09.057001</td>\n      <td>notification_received</td>\n      <td>427c1</td>\n      <td>-Mdt2BT-2y05YXyJctt2</td>\n      <td>ADiylurd6xGf17VsriRlgg</td>\n      <td>2021-07-05 23:41:58</td>\n      <td>2021-07-05 23:42:01</td>\n      <td>2021-07-06 02:00:01</td>\n      <td>Rain</td>\n      <td>Delays</td>\n      <td>...</td>\n      <td>1.0</td>\n      <td>0.0</td>\n      <td>0.0</td>\n      <td>0.0</td>\n      <td>0.0</td>\n      <td>0.0</td>\n      <td>0.0</td>\n      <td>0.0</td>\n      <td></td>\n      <td>0</td>\n    </tr>\n    <tr>\n      <th>2203479</th>\n      <td>2021-07-06 10:58:39.343000</td>\n      <td>notification_received</td>\n      <td>427c1</td>\n      <td>-MdvT00Ih682ZROXWv-n</td>\n      <td>MOp-FUne6xGEdyPHk--PKA</td>\n      <td>2021-07-06 10:58:23</td>\n      <td>2021-07-06 10:58:26</td>\n      <td>2021-07-06 12:00:00</td>\n      <td>Incident</td>\n      <td>Delays</td>\n      <td>...</td>\n      <td>1.0</td>\n      <td>0.0</td>\n      <td>0.0</td>\n      <td>0.0</td>\n      <td>0.0</td>\n      <td>0.0</td>\n      <td>0.0</td>\n      <td>0.0</td>\n      <td></td>\n      <td>0</td>\n    </tr>\n  </tbody>\n</table>\n<p>2203480 rows × 26 columns</p>\n</div>"
     },
     "metadata": {},
     "execution_count": 10
    }
   ],
   "source": [
    "export_df"
   ]
  },
  {
   "source": [
    "# Analyzing agencies"
   ],
   "cell_type": "markdown",
   "metadata": {}
  },
  {
   "cell_type": "code",
   "execution_count": 11,
   "metadata": {},
   "outputs": [],
   "source": [
    "#Deeper understanding on agencies. Choosing aggfunc sum, as we want to know how many users are affected by their notifications. Observing values for both active and unactive users, it does not matter, as this is addressed in another part.\n",
    "agencies_by_cause = pd.pivot_table(export_df, values=['agency_GewRJAw5tUmC4Ku4AX1-SQ', 'agency_GtvOEQAFZ0GtU6u4AXwvPg','agency_HE59N3RXM0q5vKu4AXlQZg','agency_JUR9bFXmVkWDHqu4AXaY0g', 'agency_JfA8Bw8Zp024Kqu4AXiSpQ','agency_MgUq5b9mOEunx6u4AXt_BA','agency_NuuRQ2I1Q0a50Kv-AVKlLA', 'agency_V2AIQQKgmUO3VazvAOA-Cw','agency_jLjibFoim0iwWau4AWoEdQ', 'agency_pky7jovXYkaw-awAAMrQ3g',\n",
    "'agency_zCy9zG00HEqGeKu4AWZYNQ'], index=['cause'], aggfunc=np.sum, fill_value=0, margins=True, margins_name= 'Total')\n",
    "agencies_by_effect = pd.pivot_table(export_df, values=['agency_GewRJAw5tUmC4Ku4AX1-SQ', 'agency_GtvOEQAFZ0GtU6u4AXwvPg','agency_HE59N3RXM0q5vKu4AXlQZg','agency_JUR9bFXmVkWDHqu4AXaY0g', 'agency_JfA8Bw8Zp024Kqu4AXiSpQ','agency_MgUq5b9mOEunx6u4AXt_BA','agency_NuuRQ2I1Q0a50Kv-AVKlLA', 'agency_V2AIQQKgmUO3VazvAOA-Cw','agency_jLjibFoim0iwWau4AWoEdQ', 'agency_pky7jovXYkaw-awAAMrQ3g',\n",
    "'agency_zCy9zG00HEqGeKu4AWZYNQ'], index=['effect'], aggfunc=np.sum, fill_value=0, margins=True, margins_name= 'Total')"
   ]
  },
  {
   "cell_type": "code",
   "execution_count": 12,
   "metadata": {},
   "outputs": [],
   "source": [
    "#Agencies MgUq5b9mOEunx6u4AXt_BA and V2AIQQKgmUO3VazvAOA-Cw created no incidents, dropping them\n",
    "agencies_by_effect.drop([\"agency_MgUq5b9mOEunx6u4AXt_BA\",\"agency_V2AIQQKgmUO3VazvAOA-Cw\"],axis=1, inplace=True)\n",
    "agencies_by_cause.drop([\"agency_MgUq5b9mOEunx6u4AXt_BA\",\"agency_V2AIQQKgmUO3VazvAOA-Cw\"],axis=1, inplace=True)"
   ]
  },
  {
   "source": [
    "# Unactive users"
   ],
   "cell_type": "markdown",
   "metadata": {}
  },
  {
   "cell_type": "code",
   "execution_count": 13,
   "metadata": {},
   "outputs": [
    {
     "output_type": "execute_result",
     "data": {
      "text/plain": [
       "                  event_timestamp            event_name user_id  \\\n",
       "0      2021-05-29 04:16:36.618000  notification_dismiss   8c7b7   \n",
       "1      2021-05-29 04:16:36.622001  notification_dismiss   8c7b7   \n",
       "2      2021-05-29 17:14:09.994000  notification_dismiss   8c7b7   \n",
       "3      2021-05-29 03:17:06.023000  notification_dismiss   3f1e8   \n",
       "4      2021-05-29 01:27:23.251000  notification_dismiss   81354   \n",
       "...                           ...                   ...     ...   \n",
       "381734 2021-07-06 12:16:54.144002   notification_opened   b6c41   \n",
       "381735 2021-07-06 13:04:46.270002   notification_opened   b6c41   \n",
       "381736 2021-07-05 23:05:16.648000   notification_opened   7a79c   \n",
       "381737 2021-07-06 17:08:21.329002   notification_opened   0bf97   \n",
       "381738 2021-07-06 15:46:40.447000   notification_opened   a07a7   \n",
       "\n",
       "                 document_id            surrogate_id          created_at  \\\n",
       "0       -Maps-egC8fFLZM4HR5g  wB4ikyLA6xGpKOFIXMTiIg 2021-05-29 02:07:09   \n",
       "1       -Maq7-D7bhcEaFBU1LDW  gDALVizA6xGpKOFIXMTiIg 2021-05-29 03:17:01   \n",
       "2       -MasFHCt_lTuNt_x16dH  oA37g3_A6xGNq1u4NrDE6w 2021-05-29 13:12:27   \n",
       "3       -MaphUnb8wb5IgmR7X9E  gGZoKBzA6xGpKOFIXMTiIg 2021-05-29 01:21:13   \n",
       "4       -MaogZKKMIQ_Virmn0eB  UIg1h_S_6xGvWA3t6Gmi5Q 2021-05-28 20:37:32   \n",
       "...                      ...                     ...                 ...   \n",
       "381734  -MdvT00Ih682ZROXWv-n  MOp-FUne6xGEdyPHk--PKA 2021-07-06 10:58:23   \n",
       "381735  -MdvkXIakRmEyb5NrwhW  YJhCY1Te6xGEdyPHk--PKA 2021-07-06 12:19:18   \n",
       "381736  -Mdsb6FPBr0BBEK8UFBY  oHf4ctnd6xGfY3t29ZPLVg 2021-07-05 21:39:17   \n",
       "381737  -Mdwhnz9Hyl6NGRfhlhM  oAKtyXne6xGa3QeEZ-Zg-g 2021-07-06 16:47:02   \n",
       "381738  -MdvdxWMgWY0lOHOgCcV  cAb0X1De6xGEdyPHk--PKA 2021-07-06 11:50:35   \n",
       "\n",
       "              published_at           closed_at              cause  \\\n",
       "0      2021-05-29 02:07:12 2021-05-29 03:01:00  VehicularAccident   \n",
       "1      2021-05-29 03:17:12 2021-05-29 04:01:00           Incident   \n",
       "2      2021-05-29 13:12:42 2021-05-29 14:01:00           Incident   \n",
       "3      2021-05-29 01:21:34 2021-05-29 02:17:00      BrokenVehicle   \n",
       "4      2021-05-28 20:38:12 2021-05-28 21:03:00  VehicularAccident   \n",
       "...                    ...                 ...                ...   \n",
       "381734 2021-07-06 10:58:26 2021-07-06 12:00:00           Incident   \n",
       "381735 2021-07-06 12:19:25 2021-07-06 12:50:00  VehicularAccident   \n",
       "381736 2021-07-05 21:39:20 2021-07-05 22:40:01           Incident   \n",
       "381737 2021-07-06 16:47:39                 NaT      Demonstration   \n",
       "381738 2021-07-06 11:50:40 2021-07-06 13:00:00           Incident   \n",
       "\n",
       "               effect  ... agency_HE59N3RXM0q5vKu4AXlQZg  \\\n",
       "0              Delays  ...                           0.0   \n",
       "1              Delays  ...                           0.0   \n",
       "2              Delays  ...                           0.0   \n",
       "3              Delays  ...                           0.0   \n",
       "4              Delays  ...                           0.0   \n",
       "...               ...  ...                           ...   \n",
       "381734         Delays  ...                           0.0   \n",
       "381735  LaneReduction  ...                           0.0   \n",
       "381736         Delays  ...                           0.0   \n",
       "381737         Delays  ...                           0.0   \n",
       "381738         Delays  ...                           0.0   \n",
       "\n",
       "        agency_JUR9bFXmVkWDHqu4AXaY0g  agency_JfA8Bw8Zp024Kqu4AXiSpQ  \\\n",
       "0                                 0.0                            1.0   \n",
       "1                                 1.0                            0.0   \n",
       "2                                 1.0                            0.0   \n",
       "3                                 0.0                            0.0   \n",
       "4                                 0.0                            0.0   \n",
       "...                               ...                            ...   \n",
       "381734                            1.0                            0.0   \n",
       "381735                            0.0                            0.0   \n",
       "381736                            1.0                            0.0   \n",
       "381737                            0.0                            0.0   \n",
       "381738                            1.0                            0.0   \n",
       "\n",
       "        agency_MgUq5b9mOEunx6u4AXt_BA  agency_NuuRQ2I1Q0a50Kv-AVKlLA  \\\n",
       "0                                 0.0                            0.0   \n",
       "1                                 0.0                            0.0   \n",
       "2                                 0.0                            0.0   \n",
       "3                                 0.0                            0.0   \n",
       "4                                 0.0                            0.0   \n",
       "...                               ...                            ...   \n",
       "381734                            0.0                            0.0   \n",
       "381735                            0.0                            0.0   \n",
       "381736                            0.0                            0.0   \n",
       "381737                            0.0                            0.0   \n",
       "381738                            0.0                            0.0   \n",
       "\n",
       "        agency_V2AIQQKgmUO3VazvAOA-Cw  agency_jLjibFoim0iwWau4AWoEdQ  \\\n",
       "0                                 0.0                            0.0   \n",
       "1                                 0.0                            0.0   \n",
       "2                                 0.0                            0.0   \n",
       "3                                 0.0                            0.0   \n",
       "4                                 0.0                            0.0   \n",
       "...                               ...                            ...   \n",
       "381734                            0.0                            0.0   \n",
       "381735                            0.0                            0.0   \n",
       "381736                            0.0                            0.0   \n",
       "381737                            0.0                            0.0   \n",
       "381738                            0.0                            0.0   \n",
       "\n",
       "        agency_pky7jovXYkaw-awAAMrQ3g  agency_zCy9zG00HEqGeKu4AWZYNQ  \\\n",
       "0                                 0.0                            0.0   \n",
       "1                                 0.0                            0.0   \n",
       "2                                 0.0                            0.0   \n",
       "3                                 0.0                            1.0   \n",
       "4                                 0.0                            1.0   \n",
       "...                               ...                            ...   \n",
       "381734                            0.0                            0.0   \n",
       "381735                            0.0                            1.0   \n",
       "381736                            0.0                            0.0   \n",
       "381737                            0.0                            1.0   \n",
       "381738                            0.0                            0.0   \n",
       "\n",
       "        reaction_time  \n",
       "0                   0  \n",
       "1                   0  \n",
       "2                   0  \n",
       "3                   0  \n",
       "4                   0  \n",
       "...               ...  \n",
       "381734              0  \n",
       "381735              0  \n",
       "381736              0  \n",
       "381737              0  \n",
       "381738              0  \n",
       "\n",
       "[381739 rows x 25 columns]"
      ],
      "text/html": "<div>\n<style scoped>\n    .dataframe tbody tr th:only-of-type {\n        vertical-align: middle;\n    }\n\n    .dataframe tbody tr th {\n        vertical-align: top;\n    }\n\n    .dataframe thead th {\n        text-align: right;\n    }\n</style>\n<table border=\"1\" class=\"dataframe\">\n  <thead>\n    <tr style=\"text-align: right;\">\n      <th></th>\n      <th>event_timestamp</th>\n      <th>event_name</th>\n      <th>user_id</th>\n      <th>document_id</th>\n      <th>surrogate_id</th>\n      <th>created_at</th>\n      <th>published_at</th>\n      <th>closed_at</th>\n      <th>cause</th>\n      <th>effect</th>\n      <th>...</th>\n      <th>agency_HE59N3RXM0q5vKu4AXlQZg</th>\n      <th>agency_JUR9bFXmVkWDHqu4AXaY0g</th>\n      <th>agency_JfA8Bw8Zp024Kqu4AXiSpQ</th>\n      <th>agency_MgUq5b9mOEunx6u4AXt_BA</th>\n      <th>agency_NuuRQ2I1Q0a50Kv-AVKlLA</th>\n      <th>agency_V2AIQQKgmUO3VazvAOA-Cw</th>\n      <th>agency_jLjibFoim0iwWau4AWoEdQ</th>\n      <th>agency_pky7jovXYkaw-awAAMrQ3g</th>\n      <th>agency_zCy9zG00HEqGeKu4AWZYNQ</th>\n      <th>reaction_time</th>\n    </tr>\n  </thead>\n  <tbody>\n    <tr>\n      <th>0</th>\n      <td>2021-05-29 04:16:36.618000</td>\n      <td>notification_dismiss</td>\n      <td>8c7b7</td>\n      <td>-Maps-egC8fFLZM4HR5g</td>\n      <td>wB4ikyLA6xGpKOFIXMTiIg</td>\n      <td>2021-05-29 02:07:09</td>\n      <td>2021-05-29 02:07:12</td>\n      <td>2021-05-29 03:01:00</td>\n      <td>VehicularAccident</td>\n      <td>Delays</td>\n      <td>...</td>\n      <td>0.0</td>\n      <td>0.0</td>\n      <td>1.0</td>\n      <td>0.0</td>\n      <td>0.0</td>\n      <td>0.0</td>\n      <td>0.0</td>\n      <td>0.0</td>\n      <td>0.0</td>\n      <td>0</td>\n    </tr>\n    <tr>\n      <th>1</th>\n      <td>2021-05-29 04:16:36.622001</td>\n      <td>notification_dismiss</td>\n      <td>8c7b7</td>\n      <td>-Maq7-D7bhcEaFBU1LDW</td>\n      <td>gDALVizA6xGpKOFIXMTiIg</td>\n      <td>2021-05-29 03:17:01</td>\n      <td>2021-05-29 03:17:12</td>\n      <td>2021-05-29 04:01:00</td>\n      <td>Incident</td>\n      <td>Delays</td>\n      <td>...</td>\n      <td>0.0</td>\n      <td>1.0</td>\n      <td>0.0</td>\n      <td>0.0</td>\n      <td>0.0</td>\n      <td>0.0</td>\n      <td>0.0</td>\n      <td>0.0</td>\n      <td>0.0</td>\n      <td>0</td>\n    </tr>\n    <tr>\n      <th>2</th>\n      <td>2021-05-29 17:14:09.994000</td>\n      <td>notification_dismiss</td>\n      <td>8c7b7</td>\n      <td>-MasFHCt_lTuNt_x16dH</td>\n      <td>oA37g3_A6xGNq1u4NrDE6w</td>\n      <td>2021-05-29 13:12:27</td>\n      <td>2021-05-29 13:12:42</td>\n      <td>2021-05-29 14:01:00</td>\n      <td>Incident</td>\n      <td>Delays</td>\n      <td>...</td>\n      <td>0.0</td>\n      <td>1.0</td>\n      <td>0.0</td>\n      <td>0.0</td>\n      <td>0.0</td>\n      <td>0.0</td>\n      <td>0.0</td>\n      <td>0.0</td>\n      <td>0.0</td>\n      <td>0</td>\n    </tr>\n    <tr>\n      <th>3</th>\n      <td>2021-05-29 03:17:06.023000</td>\n      <td>notification_dismiss</td>\n      <td>3f1e8</td>\n      <td>-MaphUnb8wb5IgmR7X9E</td>\n      <td>gGZoKBzA6xGpKOFIXMTiIg</td>\n      <td>2021-05-29 01:21:13</td>\n      <td>2021-05-29 01:21:34</td>\n      <td>2021-05-29 02:17:00</td>\n      <td>BrokenVehicle</td>\n      <td>Delays</td>\n      <td>...</td>\n      <td>0.0</td>\n      <td>0.0</td>\n      <td>0.0</td>\n      <td>0.0</td>\n      <td>0.0</td>\n      <td>0.0</td>\n      <td>0.0</td>\n      <td>0.0</td>\n      <td>1.0</td>\n      <td>0</td>\n    </tr>\n    <tr>\n      <th>4</th>\n      <td>2021-05-29 01:27:23.251000</td>\n      <td>notification_dismiss</td>\n      <td>81354</td>\n      <td>-MaogZKKMIQ_Virmn0eB</td>\n      <td>UIg1h_S_6xGvWA3t6Gmi5Q</td>\n      <td>2021-05-28 20:37:32</td>\n      <td>2021-05-28 20:38:12</td>\n      <td>2021-05-28 21:03:00</td>\n      <td>VehicularAccident</td>\n      <td>Delays</td>\n      <td>...</td>\n      <td>0.0</td>\n      <td>0.0</td>\n      <td>0.0</td>\n      <td>0.0</td>\n      <td>0.0</td>\n      <td>0.0</td>\n      <td>0.0</td>\n      <td>0.0</td>\n      <td>1.0</td>\n      <td>0</td>\n    </tr>\n    <tr>\n      <th>...</th>\n      <td>...</td>\n      <td>...</td>\n      <td>...</td>\n      <td>...</td>\n      <td>...</td>\n      <td>...</td>\n      <td>...</td>\n      <td>...</td>\n      <td>...</td>\n      <td>...</td>\n      <td>...</td>\n      <td>...</td>\n      <td>...</td>\n      <td>...</td>\n      <td>...</td>\n      <td>...</td>\n      <td>...</td>\n      <td>...</td>\n      <td>...</td>\n      <td>...</td>\n      <td>...</td>\n    </tr>\n    <tr>\n      <th>381734</th>\n      <td>2021-07-06 12:16:54.144002</td>\n      <td>notification_opened</td>\n      <td>b6c41</td>\n      <td>-MdvT00Ih682ZROXWv-n</td>\n      <td>MOp-FUne6xGEdyPHk--PKA</td>\n      <td>2021-07-06 10:58:23</td>\n      <td>2021-07-06 10:58:26</td>\n      <td>2021-07-06 12:00:00</td>\n      <td>Incident</td>\n      <td>Delays</td>\n      <td>...</td>\n      <td>0.0</td>\n      <td>1.0</td>\n      <td>0.0</td>\n      <td>0.0</td>\n      <td>0.0</td>\n      <td>0.0</td>\n      <td>0.0</td>\n      <td>0.0</td>\n      <td>0.0</td>\n      <td>0</td>\n    </tr>\n    <tr>\n      <th>381735</th>\n      <td>2021-07-06 13:04:46.270002</td>\n      <td>notification_opened</td>\n      <td>b6c41</td>\n      <td>-MdvkXIakRmEyb5NrwhW</td>\n      <td>YJhCY1Te6xGEdyPHk--PKA</td>\n      <td>2021-07-06 12:19:18</td>\n      <td>2021-07-06 12:19:25</td>\n      <td>2021-07-06 12:50:00</td>\n      <td>VehicularAccident</td>\n      <td>LaneReduction</td>\n      <td>...</td>\n      <td>0.0</td>\n      <td>0.0</td>\n      <td>0.0</td>\n      <td>0.0</td>\n      <td>0.0</td>\n      <td>0.0</td>\n      <td>0.0</td>\n      <td>0.0</td>\n      <td>1.0</td>\n      <td>0</td>\n    </tr>\n    <tr>\n      <th>381736</th>\n      <td>2021-07-05 23:05:16.648000</td>\n      <td>notification_opened</td>\n      <td>7a79c</td>\n      <td>-Mdsb6FPBr0BBEK8UFBY</td>\n      <td>oHf4ctnd6xGfY3t29ZPLVg</td>\n      <td>2021-07-05 21:39:17</td>\n      <td>2021-07-05 21:39:20</td>\n      <td>2021-07-05 22:40:01</td>\n      <td>Incident</td>\n      <td>Delays</td>\n      <td>...</td>\n      <td>0.0</td>\n      <td>1.0</td>\n      <td>0.0</td>\n      <td>0.0</td>\n      <td>0.0</td>\n      <td>0.0</td>\n      <td>0.0</td>\n      <td>0.0</td>\n      <td>0.0</td>\n      <td>0</td>\n    </tr>\n    <tr>\n      <th>381737</th>\n      <td>2021-07-06 17:08:21.329002</td>\n      <td>notification_opened</td>\n      <td>0bf97</td>\n      <td>-Mdwhnz9Hyl6NGRfhlhM</td>\n      <td>oAKtyXne6xGa3QeEZ-Zg-g</td>\n      <td>2021-07-06 16:47:02</td>\n      <td>2021-07-06 16:47:39</td>\n      <td>NaT</td>\n      <td>Demonstration</td>\n      <td>Delays</td>\n      <td>...</td>\n      <td>0.0</td>\n      <td>0.0</td>\n      <td>0.0</td>\n      <td>0.0</td>\n      <td>0.0</td>\n      <td>0.0</td>\n      <td>0.0</td>\n      <td>0.0</td>\n      <td>1.0</td>\n      <td>0</td>\n    </tr>\n    <tr>\n      <th>381738</th>\n      <td>2021-07-06 15:46:40.447000</td>\n      <td>notification_opened</td>\n      <td>a07a7</td>\n      <td>-MdvdxWMgWY0lOHOgCcV</td>\n      <td>cAb0X1De6xGEdyPHk--PKA</td>\n      <td>2021-07-06 11:50:35</td>\n      <td>2021-07-06 11:50:40</td>\n      <td>2021-07-06 13:00:00</td>\n      <td>Incident</td>\n      <td>Delays</td>\n      <td>...</td>\n      <td>0.0</td>\n      <td>1.0</td>\n      <td>0.0</td>\n      <td>0.0</td>\n      <td>0.0</td>\n      <td>0.0</td>\n      <td>0.0</td>\n      <td>0.0</td>\n      <td>0.0</td>\n      <td>0</td>\n    </tr>\n  </tbody>\n</table>\n<p>381739 rows × 25 columns</p>\n</div>"
     },
     "metadata": {},
     "execution_count": 13
    }
   ],
   "source": [
    "unactive_df"
   ]
  },
  {
   "cell_type": "code",
   "execution_count": 14,
   "metadata": {},
   "outputs": [
    {
     "output_type": "execute_result",
     "data": {
      "text/plain": [
       "Index(['event_timestamp', 'event_name', 'user_id', 'document_id',\n",
       "       'surrogate_id', 'created_at', 'published_at', 'closed_at', 'cause',\n",
       "       'effect', 'description', 'area_of_effect_coordinates_latitude',\n",
       "       'area_of_effect_coordinates_longitude', 'agency_GewRJAw5tUmC4Ku4AX1-SQ',\n",
       "       'agency_GtvOEQAFZ0GtU6u4AXwvPg', 'agency_HE59N3RXM0q5vKu4AXlQZg',\n",
       "       'agency_JUR9bFXmVkWDHqu4AXaY0g', 'agency_JfA8Bw8Zp024Kqu4AXiSpQ',\n",
       "       'agency_MgUq5b9mOEunx6u4AXt_BA', 'agency_NuuRQ2I1Q0a50Kv-AVKlLA',\n",
       "       'agency_V2AIQQKgmUO3VazvAOA-Cw', 'agency_jLjibFoim0iwWau4AWoEdQ',\n",
       "       'agency_pky7jovXYkaw-awAAMrQ3g', 'agency_zCy9zG00HEqGeKu4AWZYNQ',\n",
       "       'reaction_time'],\n",
       "      dtype='object')"
      ]
     },
     "metadata": {},
     "execution_count": 14
    }
   ],
   "source": [
    "unactive_df.columns"
   ]
  },
  {
   "cell_type": "code",
   "execution_count": 15,
   "metadata": {},
   "outputs": [],
   "source": [
    "unactive_analysis_df=unactive_df.drop(['agency_GewRJAw5tUmC4Ku4AX1-SQ', 'agency_GtvOEQAFZ0GtU6u4AXwvPg',\n",
    "       'agency_HE59N3RXM0q5vKu4AXlQZg', 'agency_JUR9bFXmVkWDHqu4AXaY0g',\n",
    "       'agency_JfA8Bw8Zp024Kqu4AXiSpQ', 'agency_MgUq5b9mOEunx6u4AXt_BA',\n",
    "       'agency_NuuRQ2I1Q0a50Kv-AVKlLA', 'agency_V2AIQQKgmUO3VazvAOA-Cw',\n",
    "       'agency_jLjibFoim0iwWau4AWoEdQ', 'agency_pky7jovXYkaw-awAAMrQ3g',\n",
    "       'agency_zCy9zG00HEqGeKu4AWZYNQ', 'surrogate_id','document_id'], axis=1)"
   ]
  },
  {
   "cell_type": "code",
   "execution_count": 16,
   "metadata": {},
   "outputs": [
    {
     "output_type": "execute_result",
     "data": {
      "text/plain": [
       "                  event_timestamp            event_name user_id  \\\n",
       "0      2021-05-29 04:16:36.618000  notification_dismiss   8c7b7   \n",
       "1      2021-05-29 04:16:36.622001  notification_dismiss   8c7b7   \n",
       "2      2021-05-29 17:14:09.994000  notification_dismiss   8c7b7   \n",
       "3      2021-05-29 03:17:06.023000  notification_dismiss   3f1e8   \n",
       "4      2021-05-29 01:27:23.251000  notification_dismiss   81354   \n",
       "...                           ...                   ...     ...   \n",
       "381734 2021-07-06 12:16:54.144002   notification_opened   b6c41   \n",
       "381735 2021-07-06 13:04:46.270002   notification_opened   b6c41   \n",
       "381736 2021-07-05 23:05:16.648000   notification_opened   7a79c   \n",
       "381737 2021-07-06 17:08:21.329002   notification_opened   0bf97   \n",
       "381738 2021-07-06 15:46:40.447000   notification_opened   a07a7   \n",
       "\n",
       "                created_at        published_at           closed_at  \\\n",
       "0      2021-05-29 02:07:09 2021-05-29 02:07:12 2021-05-29 03:01:00   \n",
       "1      2021-05-29 03:17:01 2021-05-29 03:17:12 2021-05-29 04:01:00   \n",
       "2      2021-05-29 13:12:27 2021-05-29 13:12:42 2021-05-29 14:01:00   \n",
       "3      2021-05-29 01:21:13 2021-05-29 01:21:34 2021-05-29 02:17:00   \n",
       "4      2021-05-28 20:37:32 2021-05-28 20:38:12 2021-05-28 21:03:00   \n",
       "...                    ...                 ...                 ...   \n",
       "381734 2021-07-06 10:58:23 2021-07-06 10:58:26 2021-07-06 12:00:00   \n",
       "381735 2021-07-06 12:19:18 2021-07-06 12:19:25 2021-07-06 12:50:00   \n",
       "381736 2021-07-05 21:39:17 2021-07-05 21:39:20 2021-07-05 22:40:01   \n",
       "381737 2021-07-06 16:47:02 2021-07-06 16:47:39                 NaT   \n",
       "381738 2021-07-06 11:50:35 2021-07-06 11:50:40 2021-07-06 13:00:00   \n",
       "\n",
       "                    cause         effect  \\\n",
       "0       VehicularAccident         Delays   \n",
       "1                Incident         Delays   \n",
       "2                Incident         Delays   \n",
       "3           BrokenVehicle         Delays   \n",
       "4       VehicularAccident         Delays   \n",
       "...                   ...            ...   \n",
       "381734           Incident         Delays   \n",
       "381735  VehicularAccident  LaneReduction   \n",
       "381736           Incident         Delays   \n",
       "381737      Demonstration         Delays   \n",
       "381738           Incident         Delays   \n",
       "\n",
       "                                              description  \\\n",
       "0       ⌛  ¡No de nuevo! Hay retrasos por accidente ve...   \n",
       "1       ⏳ ¡Pa variar! Usuarios reportan retrasos de ha...   \n",
       "2       ⏳ ¡No te esponjes! Usuarios reportan retrasos ...   \n",
       "3       🚗 ¡Sopas! Retrasos por vehículo descompuesto e...   \n",
       "4       ⌛ ¡Ah jijo! Hay retrasos por accidente vehicul...   \n",
       "...                                                   ...   \n",
       "381734  ⏳ ¡Changos! Usuarios informan retrasos de más ...   \n",
       "381735  ⏳ ¡Chanfle! Reducción de carriles por percance...   \n",
       "381736  ⏳ No te agüites, pero usuarios reportan retras...   \n",
       "381737  ✋ ¡Chanclas! Hay cierre de circulación por man...   \n",
       "381738  ⏳ ¡Changos! Usuarios informan retrasos de más ...   \n",
       "\n",
       "        area_of_effect_coordinates_latitude  \\\n",
       "0                                -99.170952   \n",
       "1                                       NaN   \n",
       "2                                       NaN   \n",
       "3                                -99.066870   \n",
       "4                                -99.082618   \n",
       "...                                     ...   \n",
       "381734                                  NaN   \n",
       "381735                           -99.059346   \n",
       "381736                                  NaN   \n",
       "381737                           -99.041880   \n",
       "381738                                  NaN   \n",
       "\n",
       "        area_of_effect_coordinates_longitude reaction_time  \n",
       "0                                  19.393843             0  \n",
       "1                                        NaN             0  \n",
       "2                                        NaN             0  \n",
       "3                                  19.404783             0  \n",
       "4                                  19.421229             0  \n",
       "...                                      ...           ...  \n",
       "381734                                   NaN             0  \n",
       "381735                             19.304670             0  \n",
       "381736                                   NaN             0  \n",
       "381737                             19.343449             0  \n",
       "381738                                   NaN             0  \n",
       "\n",
       "[381739 rows x 12 columns]"
      ],
      "text/html": "<div>\n<style scoped>\n    .dataframe tbody tr th:only-of-type {\n        vertical-align: middle;\n    }\n\n    .dataframe tbody tr th {\n        vertical-align: top;\n    }\n\n    .dataframe thead th {\n        text-align: right;\n    }\n</style>\n<table border=\"1\" class=\"dataframe\">\n  <thead>\n    <tr style=\"text-align: right;\">\n      <th></th>\n      <th>event_timestamp</th>\n      <th>event_name</th>\n      <th>user_id</th>\n      <th>created_at</th>\n      <th>published_at</th>\n      <th>closed_at</th>\n      <th>cause</th>\n      <th>effect</th>\n      <th>description</th>\n      <th>area_of_effect_coordinates_latitude</th>\n      <th>area_of_effect_coordinates_longitude</th>\n      <th>reaction_time</th>\n    </tr>\n  </thead>\n  <tbody>\n    <tr>\n      <th>0</th>\n      <td>2021-05-29 04:16:36.618000</td>\n      <td>notification_dismiss</td>\n      <td>8c7b7</td>\n      <td>2021-05-29 02:07:09</td>\n      <td>2021-05-29 02:07:12</td>\n      <td>2021-05-29 03:01:00</td>\n      <td>VehicularAccident</td>\n      <td>Delays</td>\n      <td>⌛  ¡No de nuevo! Hay retrasos por accidente ve...</td>\n      <td>-99.170952</td>\n      <td>19.393843</td>\n      <td>0</td>\n    </tr>\n    <tr>\n      <th>1</th>\n      <td>2021-05-29 04:16:36.622001</td>\n      <td>notification_dismiss</td>\n      <td>8c7b7</td>\n      <td>2021-05-29 03:17:01</td>\n      <td>2021-05-29 03:17:12</td>\n      <td>2021-05-29 04:01:00</td>\n      <td>Incident</td>\n      <td>Delays</td>\n      <td>⏳ ¡Pa variar! Usuarios reportan retrasos de ha...</td>\n      <td>NaN</td>\n      <td>NaN</td>\n      <td>0</td>\n    </tr>\n    <tr>\n      <th>2</th>\n      <td>2021-05-29 17:14:09.994000</td>\n      <td>notification_dismiss</td>\n      <td>8c7b7</td>\n      <td>2021-05-29 13:12:27</td>\n      <td>2021-05-29 13:12:42</td>\n      <td>2021-05-29 14:01:00</td>\n      <td>Incident</td>\n      <td>Delays</td>\n      <td>⏳ ¡No te esponjes! Usuarios reportan retrasos ...</td>\n      <td>NaN</td>\n      <td>NaN</td>\n      <td>0</td>\n    </tr>\n    <tr>\n      <th>3</th>\n      <td>2021-05-29 03:17:06.023000</td>\n      <td>notification_dismiss</td>\n      <td>3f1e8</td>\n      <td>2021-05-29 01:21:13</td>\n      <td>2021-05-29 01:21:34</td>\n      <td>2021-05-29 02:17:00</td>\n      <td>BrokenVehicle</td>\n      <td>Delays</td>\n      <td>🚗 ¡Sopas! Retrasos por vehículo descompuesto e...</td>\n      <td>-99.066870</td>\n      <td>19.404783</td>\n      <td>0</td>\n    </tr>\n    <tr>\n      <th>4</th>\n      <td>2021-05-29 01:27:23.251000</td>\n      <td>notification_dismiss</td>\n      <td>81354</td>\n      <td>2021-05-28 20:37:32</td>\n      <td>2021-05-28 20:38:12</td>\n      <td>2021-05-28 21:03:00</td>\n      <td>VehicularAccident</td>\n      <td>Delays</td>\n      <td>⌛ ¡Ah jijo! Hay retrasos por accidente vehicul...</td>\n      <td>-99.082618</td>\n      <td>19.421229</td>\n      <td>0</td>\n    </tr>\n    <tr>\n      <th>...</th>\n      <td>...</td>\n      <td>...</td>\n      <td>...</td>\n      <td>...</td>\n      <td>...</td>\n      <td>...</td>\n      <td>...</td>\n      <td>...</td>\n      <td>...</td>\n      <td>...</td>\n      <td>...</td>\n      <td>...</td>\n    </tr>\n    <tr>\n      <th>381734</th>\n      <td>2021-07-06 12:16:54.144002</td>\n      <td>notification_opened</td>\n      <td>b6c41</td>\n      <td>2021-07-06 10:58:23</td>\n      <td>2021-07-06 10:58:26</td>\n      <td>2021-07-06 12:00:00</td>\n      <td>Incident</td>\n      <td>Delays</td>\n      <td>⏳ ¡Changos! Usuarios informan retrasos de más ...</td>\n      <td>NaN</td>\n      <td>NaN</td>\n      <td>0</td>\n    </tr>\n    <tr>\n      <th>381735</th>\n      <td>2021-07-06 13:04:46.270002</td>\n      <td>notification_opened</td>\n      <td>b6c41</td>\n      <td>2021-07-06 12:19:18</td>\n      <td>2021-07-06 12:19:25</td>\n      <td>2021-07-06 12:50:00</td>\n      <td>VehicularAccident</td>\n      <td>LaneReduction</td>\n      <td>⏳ ¡Chanfle! Reducción de carriles por percance...</td>\n      <td>-99.059346</td>\n      <td>19.304670</td>\n      <td>0</td>\n    </tr>\n    <tr>\n      <th>381736</th>\n      <td>2021-07-05 23:05:16.648000</td>\n      <td>notification_opened</td>\n      <td>7a79c</td>\n      <td>2021-07-05 21:39:17</td>\n      <td>2021-07-05 21:39:20</td>\n      <td>2021-07-05 22:40:01</td>\n      <td>Incident</td>\n      <td>Delays</td>\n      <td>⏳ No te agüites, pero usuarios reportan retras...</td>\n      <td>NaN</td>\n      <td>NaN</td>\n      <td>0</td>\n    </tr>\n    <tr>\n      <th>381737</th>\n      <td>2021-07-06 17:08:21.329002</td>\n      <td>notification_opened</td>\n      <td>0bf97</td>\n      <td>2021-07-06 16:47:02</td>\n      <td>2021-07-06 16:47:39</td>\n      <td>NaT</td>\n      <td>Demonstration</td>\n      <td>Delays</td>\n      <td>✋ ¡Chanclas! Hay cierre de circulación por man...</td>\n      <td>-99.041880</td>\n      <td>19.343449</td>\n      <td>0</td>\n    </tr>\n    <tr>\n      <th>381738</th>\n      <td>2021-07-06 15:46:40.447000</td>\n      <td>notification_opened</td>\n      <td>a07a7</td>\n      <td>2021-07-06 11:50:35</td>\n      <td>2021-07-06 11:50:40</td>\n      <td>2021-07-06 13:00:00</td>\n      <td>Incident</td>\n      <td>Delays</td>\n      <td>⏳ ¡Changos! Usuarios informan retrasos de más ...</td>\n      <td>NaN</td>\n      <td>NaN</td>\n      <td>0</td>\n    </tr>\n  </tbody>\n</table>\n<p>381739 rows × 12 columns</p>\n</div>"
     },
     "metadata": {},
     "execution_count": 16
    }
   ],
   "source": [
    "unactive_analysis_df"
   ]
  },
  {
   "cell_type": "code",
   "execution_count": 17,
   "metadata": {},
   "outputs": [
    {
     "output_type": "execute_result",
     "data": {
      "text/plain": [
       "96133    2021-01-01 00:24:50\n",
       "90882    2021-01-01 00:24:50\n",
       "90879    2021-01-01 00:24:50\n",
       "90883    2021-01-01 02:11:51\n",
       "90877    2021-01-01 02:11:51\n",
       "                 ...        \n",
       "355943   2021-07-07 03:47:43\n",
       "18611    2021-07-07 03:47:43\n",
       "356256   2021-07-07 03:47:43\n",
       "355934   2021-07-07 03:47:43\n",
       "356347   2021-07-07 03:47:43\n",
       "Name: created_at, Length: 381739, dtype: datetime64[ns]"
      ]
     },
     "metadata": {},
     "execution_count": 17
    }
   ],
   "source": [
    "unactive_analysis_df['created_at'].sort_values(ascending=True)\n"
   ]
  },
  {
   "cell_type": "code",
   "execution_count": 18,
   "metadata": {},
   "outputs": [
    {
     "output_type": "execute_result",
     "data": {
      "text/plain": [
       "Empty DataFrame\n",
       "Columns: [event_timestamp, event_name, user_id, created_at, published_at, closed_at, cause, effect, description, area_of_effect_coordinates_latitude, area_of_effect_coordinates_longitude, reaction_time]\n",
       "Index: []"
      ],
      "text/html": "<div>\n<style scoped>\n    .dataframe tbody tr th:only-of-type {\n        vertical-align: middle;\n    }\n\n    .dataframe tbody tr th {\n        vertical-align: top;\n    }\n\n    .dataframe thead th {\n        text-align: right;\n    }\n</style>\n<table border=\"1\" class=\"dataframe\">\n  <thead>\n    <tr style=\"text-align: right;\">\n      <th></th>\n      <th>event_timestamp</th>\n      <th>event_name</th>\n      <th>user_id</th>\n      <th>created_at</th>\n      <th>published_at</th>\n      <th>closed_at</th>\n      <th>cause</th>\n      <th>effect</th>\n      <th>description</th>\n      <th>area_of_effect_coordinates_latitude</th>\n      <th>area_of_effect_coordinates_longitude</th>\n      <th>reaction_time</th>\n    </tr>\n  </thead>\n  <tbody>\n  </tbody>\n</table>\n</div>"
     },
     "metadata": {},
     "execution_count": 18
    }
   ],
   "source": [
    "unactive_analysis_df.query('created_at==\"NaT\"')\n"
   ]
  },
  {
   "cell_type": "code",
   "execution_count": 19,
   "metadata": {},
   "outputs": [
    {
     "output_type": "execute_result",
     "data": {
      "text/plain": [
       "Empty DataFrame\n",
       "Columns: [event_timestamp, event_name, user_id, document_id, surrogate_id, created_at, published_at, closed_at, cause, effect, description, area_of_effect_coordinates_latitude, area_of_effect_coordinates_longitude, agency_GewRJAw5tUmC4Ku4AX1-SQ, agency_GtvOEQAFZ0GtU6u4AXwvPg, agency_HE59N3RXM0q5vKu4AXlQZg, agency_JUR9bFXmVkWDHqu4AXaY0g, agency_JfA8Bw8Zp024Kqu4AXiSpQ, agency_MgUq5b9mOEunx6u4AXt_BA, agency_NuuRQ2I1Q0a50Kv-AVKlLA, agency_V2AIQQKgmUO3VazvAOA-Cw, agency_jLjibFoim0iwWau4AWoEdQ, agency_pky7jovXYkaw-awAAMrQ3g, agency_zCy9zG00HEqGeKu4AWZYNQ, notif_viewed_ontime, reaction_time]\n",
       "Index: []\n",
       "\n",
       "[0 rows x 26 columns]"
      ],
      "text/html": "<div>\n<style scoped>\n    .dataframe tbody tr th:only-of-type {\n        vertical-align: middle;\n    }\n\n    .dataframe tbody tr th {\n        vertical-align: top;\n    }\n\n    .dataframe thead th {\n        text-align: right;\n    }\n</style>\n<table border=\"1\" class=\"dataframe\">\n  <thead>\n    <tr style=\"text-align: right;\">\n      <th></th>\n      <th>event_timestamp</th>\n      <th>event_name</th>\n      <th>user_id</th>\n      <th>document_id</th>\n      <th>surrogate_id</th>\n      <th>created_at</th>\n      <th>published_at</th>\n      <th>closed_at</th>\n      <th>cause</th>\n      <th>effect</th>\n      <th>...</th>\n      <th>agency_JUR9bFXmVkWDHqu4AXaY0g</th>\n      <th>agency_JfA8Bw8Zp024Kqu4AXiSpQ</th>\n      <th>agency_MgUq5b9mOEunx6u4AXt_BA</th>\n      <th>agency_NuuRQ2I1Q0a50Kv-AVKlLA</th>\n      <th>agency_V2AIQQKgmUO3VazvAOA-Cw</th>\n      <th>agency_jLjibFoim0iwWau4AWoEdQ</th>\n      <th>agency_pky7jovXYkaw-awAAMrQ3g</th>\n      <th>agency_zCy9zG00HEqGeKu4AWZYNQ</th>\n      <th>notif_viewed_ontime</th>\n      <th>reaction_time</th>\n    </tr>\n  </thead>\n  <tbody>\n  </tbody>\n</table>\n<p>0 rows × 26 columns</p>\n</div>"
     },
     "metadata": {},
     "execution_count": 19
    }
   ],
   "source": [
    "export_df[export_df[\"created_at\"].isnull()]"
   ]
  },
  {
   "cell_type": "code",
   "execution_count": null,
   "metadata": {},
   "outputs": [],
   "source": []
  }
 ]
}