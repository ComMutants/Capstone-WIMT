{
 "metadata": {
  "language_info": {
   "codemirror_mode": {
    "name": "ipython",
    "version": 3
   },
   "file_extension": ".py",
   "mimetype": "text/x-python",
   "name": "python",
   "nbconvert_exporter": "python",
   "pygments_lexer": "ipython3",
   "version": "3.8.5"
  },
  "orig_nbformat": 4,
  "kernelspec": {
   "name": "python3",
   "display_name": "Python 3.8.5 64-bit ('.venv': venv)"
  },
  "interpreter": {
   "hash": "f7e9aa0a9fe1ceb3c33c5aa0b358d6952771ff9c315b2715a747dc81bd71c7e9"
  }
 },
 "nbformat": 4,
 "nbformat_minor": 2,
 "cells": [
  {
   "cell_type": "code",
   "execution_count": 107,
   "metadata": {},
   "outputs": [],
   "source": [
    "import sys\n",
    "# adding to the path variables the one folder higher (locally, not changing system variables)\n",
    "sys.path.append(\"..\")\n",
    "import pandas as pd\n",
    "import numpy as np\n",
    "import warnings\n",
    "import mlflow\n",
    "from modeling.config import TRACKING_URI, EXPERIMENT_NAME\n",
    "from pandas_profiling import ProfileReport\n",
    "import pyarrow.feather as feather\n",
    "import time\n",
    "from datetime import datetime\n",
    "from datetime import timedelta\n"
   ]
  },
  {
   "cell_type": "code",
   "execution_count": 128,
   "metadata": {},
   "outputs": [],
   "source": [
    "export_df = feather.read_feather(\"../data/cleaned_data.feather\")\n"
   ]
  },
  {
   "cell_type": "code",
   "execution_count": 129,
   "metadata": {},
   "outputs": [],
   "source": [
    "export_df[\"event_timestamp\"]=pd.to_datetime(export_df[\"event_timestamp\"]*1000, unit=\"ns\", utc=True)"
   ]
  },
  {
   "source": [
    "#\n",
    "Create a variable for classifying notifications: 1 if dismissed/opened in time the accident is active, 0 for when it is already expired. #8"
   ],
   "cell_type": "markdown",
   "metadata": {}
  },
  {
   "cell_type": "code",
   "execution_count": 130,
   "metadata": {},
   "outputs": [],
   "source": [
    "export_df[\"notif_outdated\"]=list(map(lambda x,y,z: 0 if x==\"notification_received\" else (1 if y < z else 2), export_df[\"event_name\"], export_df[\"event_timestamp\"],export_df[\"closed_at\"]))"
   ]
  },
  {
   "cell_type": "code",
   "execution_count": 132,
   "metadata": {},
   "outputs": [],
   "source": [
    "export_df[\"reaction_time\"]=list(map(lambda x,y,z,w: y-z\n",
    "if (x==1 and y>z) else (y-w if (x==1 and y>w) else \"Null\"), \n",
    "export_df[\"notif_outdated\"],export_df[\"event_timestamp\"],export_df[\"published_at\"],export_df[\"created_at\"]))"
   ]
  },
  {
   "cell_type": "code",
   "execution_count": 134,
   "metadata": {},
   "outputs": [
    {
     "output_type": "execute_result",
     "data": {
      "text/plain": [
       "Null                      1705668\n",
       "0 days 00:00:30.305001          6\n",
       "0 days 00:00:21.825001          6\n",
       "0 days 00:00:18.714001          6\n",
       "0 days 00:04:07.070001          5\n",
       "                           ...   \n",
       "0 days 00:06:09.104000          1\n",
       "0 days 00:04:20.433000          1\n",
       "0 days 00:59:20.928000          1\n",
       "0 days 01:17:13.169000          1\n",
       "0 days 00:03:01.242001          1\n",
       "Name: reaction_time, Length: 501600, dtype: int64"
      ]
     },
     "metadata": {},
     "execution_count": 134
    }
   ],
   "source": [
    "export_df[\"reaction_time\"].value_counts()"
   ]
  },
  {
   "cell_type": "code",
   "execution_count": 135,
   "metadata": {},
   "outputs": [
    {
     "output_type": "execute_result",
     "data": {
      "text/plain": [
       "                         event_timestamp             event_name user_id  \\\n",
       "0       2021-05-28 22:22:07.928000+00:00  notification_received   ac6d3   \n",
       "1       2021-05-28 22:29:19.952000+00:00   notification_dismiss   ac6d3   \n",
       "2       2021-05-29 00:35:53.374000+00:00  notification_received   ac6d3   \n",
       "3       2021-05-29 00:36:08.285001+00:00   notification_dismiss   ac6d3   \n",
       "4       2021-05-29 03:13:31.584001+00:00  notification_received   ac6d3   \n",
       "...                                  ...                    ...     ...   \n",
       "2231990 2021-07-06 14:21:02.819000+00:00  notification_received   e0b4d   \n",
       "2231991 2021-07-06 15:21:40.674000+00:00  notification_received   e0b4d   \n",
       "2231992 2021-07-06 16:05:21.801000+00:00  notification_received   e0b4d   \n",
       "2231993 2021-07-05 23:42:09.057001+00:00  notification_received   427c1   \n",
       "2231994 2021-07-06 10:58:39.343000+00:00  notification_received   427c1   \n",
       "\n",
       "                  document_id            surrogate_id  \\\n",
       "0        -Map3NyDNGaNwnfF6F0B  4Np4EQPA6xGpKOFIXMTiIg   \n",
       "1        -Map3NyDNGaNwnfF6F0B  4Np4EQPA6xGpKOFIXMTiIg   \n",
       "2        -MapQ4JNaTLEWbF2EG-b  kGA96xDA6xGpKOFIXMTiIg   \n",
       "3        -MapQ4JNaTLEWbF2EG-b  kGA96xDA6xGpKOFIXMTiIg   \n",
       "4        -Maq63vqDUxQRawQ_3Au  YKlNxSvA6xGpKOFIXMTiIg   \n",
       "...                       ...                     ...   \n",
       "2231990  -MdwBMI8mNXadCw7GwTc  kCtjX2Xe6xGa3QeEZ-Zg-g   \n",
       "2231991  -MdwPCoa1U3j5wMZ8J99  YNy_023e6xGa3QeEZ-Zg-g   \n",
       "2231992  -MdwZE8hMtqpcYoaNhzM  0AF_8XPe6xGa3QeEZ-Zg-g   \n",
       "2231993  -Mdt2BT-2y05YXyJctt2  ADiylurd6xGf17VsriRlgg   \n",
       "2231994  -MdvT00Ih682ZROXWv-n  MOp-FUne6xGEdyPHk--PKA   \n",
       "\n",
       "                       created_at              published_at  \\\n",
       "0       2021-05-28 22:21:37+00:00 2021-05-28 22:21:44+00:00   \n",
       "1       2021-05-28 22:21:37+00:00 2021-05-28 22:21:44+00:00   \n",
       "2       2021-05-29 00:00:46+00:00 2021-05-29 00:21:36+00:00   \n",
       "3       2021-05-29 00:00:46+00:00 2021-05-29 00:21:36+00:00   \n",
       "4       2021-05-29 03:12:59+00:00 2021-05-29 03:15:13+00:00   \n",
       "...                           ...                       ...   \n",
       "2231990 2021-07-06 14:20:53+00:00 2021-07-06 14:20:59+00:00   \n",
       "2231991 2021-07-06 15:21:25+00:00 2021-07-06 15:21:36+00:00   \n",
       "2231992 2021-07-06 16:05:11+00:00 2021-07-06 16:05:16+00:00   \n",
       "2231993 2021-07-05 23:41:58+00:00 2021-07-05 23:42:01+00:00   \n",
       "2231994 2021-07-06 10:58:23+00:00 2021-07-06 10:58:26+00:00   \n",
       "\n",
       "                        closed_at              cause               effect  \\\n",
       "0       2021-05-28 23:01:00+00:00  VehicularAccident               Delays   \n",
       "1       2021-05-28 23:01:00+00:00  VehicularAccident               Delays   \n",
       "2       2021-05-29 01:01:00+00:00  VehicularAccident               Delays   \n",
       "3       2021-05-29 01:01:00+00:00  VehicularAccident               Delays   \n",
       "4       2021-05-29 13:59:03+00:00      Demonstration  CirculationShutdown   \n",
       "...                           ...                ...                  ...   \n",
       "2231990 2021-07-06 15:21:33+00:00      Demonstration  SuspensionOfService   \n",
       "2231991 2021-07-06 20:46:48+00:00      Demonstration  SuspensionOfService   \n",
       "2231992 2021-07-06 17:37:59+00:00      Demonstration  SuspensionOfService   \n",
       "2231993 2021-07-06 02:00:01+00:00               Rain               Delays   \n",
       "2231994 2021-07-06 12:00:00+00:00           Incident               Delays   \n",
       "\n",
       "         ... agency_JUR9bFXmVkWDHqu4AXaY0g agency_JfA8Bw8Zp024Kqu4AXiSpQ  \\\n",
       "0        ...                           0.0                           0.0   \n",
       "1        ...                           0.0                           0.0   \n",
       "2        ...                           0.0                           0.0   \n",
       "3        ...                           0.0                           0.0   \n",
       "4        ...                           0.0                           1.0   \n",
       "...      ...                           ...                           ...   \n",
       "2231990  ...                           0.0                           1.0   \n",
       "2231991  ...                           0.0                           1.0   \n",
       "2231992  ...                           0.0                           1.0   \n",
       "2231993  ...                           1.0                           0.0   \n",
       "2231994  ...                           1.0                           0.0   \n",
       "\n",
       "         agency_MgUq5b9mOEunx6u4AXt_BA  agency_NuuRQ2I1Q0a50Kv-AVKlLA  \\\n",
       "0                                  0.0                            0.0   \n",
       "1                                  0.0                            0.0   \n",
       "2                                  0.0                            0.0   \n",
       "3                                  0.0                            0.0   \n",
       "4                                  0.0                            0.0   \n",
       "...                                ...                            ...   \n",
       "2231990                            0.0                            0.0   \n",
       "2231991                            0.0                            0.0   \n",
       "2231992                            0.0                            0.0   \n",
       "2231993                            0.0                            0.0   \n",
       "2231994                            0.0                            0.0   \n",
       "\n",
       "         agency_V2AIQQKgmUO3VazvAOA-Cw  agency_jLjibFoim0iwWau4AWoEdQ  \\\n",
       "0                                  0.0                            0.0   \n",
       "1                                  0.0                            0.0   \n",
       "2                                  0.0                            0.0   \n",
       "3                                  0.0                            0.0   \n",
       "4                                  0.0                            0.0   \n",
       "...                                ...                            ...   \n",
       "2231990                            0.0                            0.0   \n",
       "2231991                            0.0                            0.0   \n",
       "2231992                            0.0                            0.0   \n",
       "2231993                            0.0                            0.0   \n",
       "2231994                            0.0                            0.0   \n",
       "\n",
       "         agency_pky7jovXYkaw-awAAMrQ3g  agency_zCy9zG00HEqGeKu4AWZYNQ  \\\n",
       "0                                  0.0                            1.0   \n",
       "1                                  0.0                            1.0   \n",
       "2                                  0.0                            1.0   \n",
       "3                                  0.0                            1.0   \n",
       "4                                  0.0                            1.0   \n",
       "...                                ...                            ...   \n",
       "2231990                            0.0                            0.0   \n",
       "2231991                            0.0                            0.0   \n",
       "2231992                            0.0                            0.0   \n",
       "2231993                            0.0                            0.0   \n",
       "2231994                            0.0                            0.0   \n",
       "\n",
       "         notif_outdated           reaction_time  \n",
       "0                     0                    Null  \n",
       "1                     1  0 days 00:07:35.952000  \n",
       "2                     0                    Null  \n",
       "3                     1  0 days 00:14:32.285001  \n",
       "4                     0                    Null  \n",
       "...                 ...                     ...  \n",
       "2231990               0                    Null  \n",
       "2231991               0                    Null  \n",
       "2231992               0                    Null  \n",
       "2231993               0                    Null  \n",
       "2231994               0                    Null  \n",
       "\n",
       "[2231995 rows x 25 columns]"
      ],
      "text/html": "<div>\n<style scoped>\n    .dataframe tbody tr th:only-of-type {\n        vertical-align: middle;\n    }\n\n    .dataframe tbody tr th {\n        vertical-align: top;\n    }\n\n    .dataframe thead th {\n        text-align: right;\n    }\n</style>\n<table border=\"1\" class=\"dataframe\">\n  <thead>\n    <tr style=\"text-align: right;\">\n      <th></th>\n      <th>event_timestamp</th>\n      <th>event_name</th>\n      <th>user_id</th>\n      <th>document_id</th>\n      <th>surrogate_id</th>\n      <th>created_at</th>\n      <th>published_at</th>\n      <th>closed_at</th>\n      <th>cause</th>\n      <th>effect</th>\n      <th>...</th>\n      <th>agency_JUR9bFXmVkWDHqu4AXaY0g</th>\n      <th>agency_JfA8Bw8Zp024Kqu4AXiSpQ</th>\n      <th>agency_MgUq5b9mOEunx6u4AXt_BA</th>\n      <th>agency_NuuRQ2I1Q0a50Kv-AVKlLA</th>\n      <th>agency_V2AIQQKgmUO3VazvAOA-Cw</th>\n      <th>agency_jLjibFoim0iwWau4AWoEdQ</th>\n      <th>agency_pky7jovXYkaw-awAAMrQ3g</th>\n      <th>agency_zCy9zG00HEqGeKu4AWZYNQ</th>\n      <th>notif_outdated</th>\n      <th>reaction_time</th>\n    </tr>\n  </thead>\n  <tbody>\n    <tr>\n      <th>0</th>\n      <td>2021-05-28 22:22:07.928000+00:00</td>\n      <td>notification_received</td>\n      <td>ac6d3</td>\n      <td>-Map3NyDNGaNwnfF6F0B</td>\n      <td>4Np4EQPA6xGpKOFIXMTiIg</td>\n      <td>2021-05-28 22:21:37+00:00</td>\n      <td>2021-05-28 22:21:44+00:00</td>\n      <td>2021-05-28 23:01:00+00:00</td>\n      <td>VehicularAccident</td>\n      <td>Delays</td>\n      <td>...</td>\n      <td>0.0</td>\n      <td>0.0</td>\n      <td>0.0</td>\n      <td>0.0</td>\n      <td>0.0</td>\n      <td>0.0</td>\n      <td>0.0</td>\n      <td>1.0</td>\n      <td>0</td>\n      <td>Null</td>\n    </tr>\n    <tr>\n      <th>1</th>\n      <td>2021-05-28 22:29:19.952000+00:00</td>\n      <td>notification_dismiss</td>\n      <td>ac6d3</td>\n      <td>-Map3NyDNGaNwnfF6F0B</td>\n      <td>4Np4EQPA6xGpKOFIXMTiIg</td>\n      <td>2021-05-28 22:21:37+00:00</td>\n      <td>2021-05-28 22:21:44+00:00</td>\n      <td>2021-05-28 23:01:00+00:00</td>\n      <td>VehicularAccident</td>\n      <td>Delays</td>\n      <td>...</td>\n      <td>0.0</td>\n      <td>0.0</td>\n      <td>0.0</td>\n      <td>0.0</td>\n      <td>0.0</td>\n      <td>0.0</td>\n      <td>0.0</td>\n      <td>1.0</td>\n      <td>1</td>\n      <td>0 days 00:07:35.952000</td>\n    </tr>\n    <tr>\n      <th>2</th>\n      <td>2021-05-29 00:35:53.374000+00:00</td>\n      <td>notification_received</td>\n      <td>ac6d3</td>\n      <td>-MapQ4JNaTLEWbF2EG-b</td>\n      <td>kGA96xDA6xGpKOFIXMTiIg</td>\n      <td>2021-05-29 00:00:46+00:00</td>\n      <td>2021-05-29 00:21:36+00:00</td>\n      <td>2021-05-29 01:01:00+00:00</td>\n      <td>VehicularAccident</td>\n      <td>Delays</td>\n      <td>...</td>\n      <td>0.0</td>\n      <td>0.0</td>\n      <td>0.0</td>\n      <td>0.0</td>\n      <td>0.0</td>\n      <td>0.0</td>\n      <td>0.0</td>\n      <td>1.0</td>\n      <td>0</td>\n      <td>Null</td>\n    </tr>\n    <tr>\n      <th>3</th>\n      <td>2021-05-29 00:36:08.285001+00:00</td>\n      <td>notification_dismiss</td>\n      <td>ac6d3</td>\n      <td>-MapQ4JNaTLEWbF2EG-b</td>\n      <td>kGA96xDA6xGpKOFIXMTiIg</td>\n      <td>2021-05-29 00:00:46+00:00</td>\n      <td>2021-05-29 00:21:36+00:00</td>\n      <td>2021-05-29 01:01:00+00:00</td>\n      <td>VehicularAccident</td>\n      <td>Delays</td>\n      <td>...</td>\n      <td>0.0</td>\n      <td>0.0</td>\n      <td>0.0</td>\n      <td>0.0</td>\n      <td>0.0</td>\n      <td>0.0</td>\n      <td>0.0</td>\n      <td>1.0</td>\n      <td>1</td>\n      <td>0 days 00:14:32.285001</td>\n    </tr>\n    <tr>\n      <th>4</th>\n      <td>2021-05-29 03:13:31.584001+00:00</td>\n      <td>notification_received</td>\n      <td>ac6d3</td>\n      <td>-Maq63vqDUxQRawQ_3Au</td>\n      <td>YKlNxSvA6xGpKOFIXMTiIg</td>\n      <td>2021-05-29 03:12:59+00:00</td>\n      <td>2021-05-29 03:15:13+00:00</td>\n      <td>2021-05-29 13:59:03+00:00</td>\n      <td>Demonstration</td>\n      <td>CirculationShutdown</td>\n      <td>...</td>\n      <td>0.0</td>\n      <td>1.0</td>\n      <td>0.0</td>\n      <td>0.0</td>\n      <td>0.0</td>\n      <td>0.0</td>\n      <td>0.0</td>\n      <td>1.0</td>\n      <td>0</td>\n      <td>Null</td>\n    </tr>\n    <tr>\n      <th>...</th>\n      <td>...</td>\n      <td>...</td>\n      <td>...</td>\n      <td>...</td>\n      <td>...</td>\n      <td>...</td>\n      <td>...</td>\n      <td>...</td>\n      <td>...</td>\n      <td>...</td>\n      <td>...</td>\n      <td>...</td>\n      <td>...</td>\n      <td>...</td>\n      <td>...</td>\n      <td>...</td>\n      <td>...</td>\n      <td>...</td>\n      <td>...</td>\n      <td>...</td>\n      <td>...</td>\n    </tr>\n    <tr>\n      <th>2231990</th>\n      <td>2021-07-06 14:21:02.819000+00:00</td>\n      <td>notification_received</td>\n      <td>e0b4d</td>\n      <td>-MdwBMI8mNXadCw7GwTc</td>\n      <td>kCtjX2Xe6xGa3QeEZ-Zg-g</td>\n      <td>2021-07-06 14:20:53+00:00</td>\n      <td>2021-07-06 14:20:59+00:00</td>\n      <td>2021-07-06 15:21:33+00:00</td>\n      <td>Demonstration</td>\n      <td>SuspensionOfService</td>\n      <td>...</td>\n      <td>0.0</td>\n      <td>1.0</td>\n      <td>0.0</td>\n      <td>0.0</td>\n      <td>0.0</td>\n      <td>0.0</td>\n      <td>0.0</td>\n      <td>0.0</td>\n      <td>0</td>\n      <td>Null</td>\n    </tr>\n    <tr>\n      <th>2231991</th>\n      <td>2021-07-06 15:21:40.674000+00:00</td>\n      <td>notification_received</td>\n      <td>e0b4d</td>\n      <td>-MdwPCoa1U3j5wMZ8J99</td>\n      <td>YNy_023e6xGa3QeEZ-Zg-g</td>\n      <td>2021-07-06 15:21:25+00:00</td>\n      <td>2021-07-06 15:21:36+00:00</td>\n      <td>2021-07-06 20:46:48+00:00</td>\n      <td>Demonstration</td>\n      <td>SuspensionOfService</td>\n      <td>...</td>\n      <td>0.0</td>\n      <td>1.0</td>\n      <td>0.0</td>\n      <td>0.0</td>\n      <td>0.0</td>\n      <td>0.0</td>\n      <td>0.0</td>\n      <td>0.0</td>\n      <td>0</td>\n      <td>Null</td>\n    </tr>\n    <tr>\n      <th>2231992</th>\n      <td>2021-07-06 16:05:21.801000+00:00</td>\n      <td>notification_received</td>\n      <td>e0b4d</td>\n      <td>-MdwZE8hMtqpcYoaNhzM</td>\n      <td>0AF_8XPe6xGa3QeEZ-Zg-g</td>\n      <td>2021-07-06 16:05:11+00:00</td>\n      <td>2021-07-06 16:05:16+00:00</td>\n      <td>2021-07-06 17:37:59+00:00</td>\n      <td>Demonstration</td>\n      <td>SuspensionOfService</td>\n      <td>...</td>\n      <td>0.0</td>\n      <td>1.0</td>\n      <td>0.0</td>\n      <td>0.0</td>\n      <td>0.0</td>\n      <td>0.0</td>\n      <td>0.0</td>\n      <td>0.0</td>\n      <td>0</td>\n      <td>Null</td>\n    </tr>\n    <tr>\n      <th>2231993</th>\n      <td>2021-07-05 23:42:09.057001+00:00</td>\n      <td>notification_received</td>\n      <td>427c1</td>\n      <td>-Mdt2BT-2y05YXyJctt2</td>\n      <td>ADiylurd6xGf17VsriRlgg</td>\n      <td>2021-07-05 23:41:58+00:00</td>\n      <td>2021-07-05 23:42:01+00:00</td>\n      <td>2021-07-06 02:00:01+00:00</td>\n      <td>Rain</td>\n      <td>Delays</td>\n      <td>...</td>\n      <td>1.0</td>\n      <td>0.0</td>\n      <td>0.0</td>\n      <td>0.0</td>\n      <td>0.0</td>\n      <td>0.0</td>\n      <td>0.0</td>\n      <td>0.0</td>\n      <td>0</td>\n      <td>Null</td>\n    </tr>\n    <tr>\n      <th>2231994</th>\n      <td>2021-07-06 10:58:39.343000+00:00</td>\n      <td>notification_received</td>\n      <td>427c1</td>\n      <td>-MdvT00Ih682ZROXWv-n</td>\n      <td>MOp-FUne6xGEdyPHk--PKA</td>\n      <td>2021-07-06 10:58:23+00:00</td>\n      <td>2021-07-06 10:58:26+00:00</td>\n      <td>2021-07-06 12:00:00+00:00</td>\n      <td>Incident</td>\n      <td>Delays</td>\n      <td>...</td>\n      <td>1.0</td>\n      <td>0.0</td>\n      <td>0.0</td>\n      <td>0.0</td>\n      <td>0.0</td>\n      <td>0.0</td>\n      <td>0.0</td>\n      <td>0.0</td>\n      <td>0</td>\n      <td>Null</td>\n    </tr>\n  </tbody>\n</table>\n<p>2231995 rows × 25 columns</p>\n</div>"
     },
     "metadata": {},
     "execution_count": 135
    }
   ],
   "source": [
    "export_df"
   ]
  }
 ]
}