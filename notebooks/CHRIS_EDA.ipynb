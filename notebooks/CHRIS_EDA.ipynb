{
 "metadata": {
  "language_info": {
   "codemirror_mode": {
    "name": "ipython",
    "version": 3
   },
   "file_extension": ".py",
   "mimetype": "text/x-python",
   "name": "python",
   "nbconvert_exporter": "python",
   "pygments_lexer": "ipython3",
   "version": "3.8.5"
  },
  "orig_nbformat": 4,
  "kernelspec": {
   "name": "python3",
   "display_name": "Python 3.8.5 64-bit ('.venv': venv)"
  },
  "interpreter": {
   "hash": "625ce6474a05a4b666800a4ef0d977d00d0d81149e2d5d11cdcd26de80422014"
  }
 },
 "nbformat": 4,
 "nbformat_minor": 2,
 "cells": [
  {
   "cell_type": "code",
   "execution_count": 1,
   "metadata": {},
   "outputs": [],
   "source": [
    "import sys\n",
    "# adding to the path variables the one folder higher (locally, not changing system variables)\n",
    "sys.path.append(\"..\")\n",
    "import pandas as pd\n",
    "import numpy as np\n",
    "import warnings\n",
    "import mlflow\n",
    "from modeling.config import TRACKING_URI, EXPERIMENT_NAME\n",
    "from pandas_profiling import ProfileReport\n",
    "import pyarrow.feather as feather\n",
    "import time\n",
    "from datetime import datetime\n"
   ]
  },
  {
   "cell_type": "code",
   "execution_count": 2,
   "metadata": {},
   "outputs": [],
   "source": [
    "export_df = feather.read_feather(\"../data/cleaned_data.feather\")"
   ]
  },
  {
   "cell_type": "code",
   "execution_count": 3,
   "metadata": {},
   "outputs": [],
   "source": [
    "export_df[\"event_timestamp\"]=pd.to_datetime(export_df[\"event_timestamp\"]*1000, unit=\"ns\")"
   ]
  },
  {
   "cell_type": "code",
   "execution_count": 4,
   "metadata": {},
   "outputs": [],
   "source": [
    "export_df[\"notif_viewed_ontime\"]=list(map(lambda x,y,z: np.nan if x==\"notification_received\" else (1 if y < z else 0), export_df[\"event_name\"], export_df[\"event_timestamp\"],export_df[\"closed_at\"])) #1 if the user view it on time  0 if not  and null if hasnt yet seen it \n"
   ]
  },
  {
   "cell_type": "code",
   "execution_count": 5,
   "metadata": {},
   "outputs": [
    {
     "output_type": "execute_result",
     "data": {
      "text/plain": [
       "17886"
      ]
     },
     "metadata": {},
     "execution_count": 5
    }
   ],
   "source": [
    "export_df['user_id'].nunique()"
   ]
  },
  {
   "cell_type": "code",
   "execution_count": 6,
   "metadata": {},
   "outputs": [],
   "source": [
    "\n",
    "export_df.dropna ( subset=['notif_viewed_ontime'], inplace=True)\n",
    "export_df.reset_index(drop=True, inplace=True)\n",
    "export_df[\"notif_viewed_ontime\"]=export_df[\"notif_viewed_ontime\"].astype(int)"
   ]
  },
  {
   "cell_type": "code",
   "execution_count": null,
   "metadata": {},
   "outputs": [],
   "source": []
  },
  {
   "cell_type": "code",
   "execution_count": 7,
   "metadata": {},
   "outputs": [],
   "source": [
    "\n",
    "export_df[\"reaction_time\"]=list(map(lambda x,y,z,w: float(pd.Timedelta(y - z).seconds/60)\n",
    "if (x==1) else float(pd.Timedelta(y - w).seconds/60), \n",
    "export_df[\"notif_viewed_ontime\"],export_df[\"event_timestamp\"],export_df[\"created_at\"],export_df[\"closed_at\"]))\n"
   ]
  },
  {
   "cell_type": "code",
   "execution_count": 11,
   "metadata": {},
   "outputs": [],
   "source": [
    "active_df.loc[active_df['event_name'].isin(['notification_opened', 'notification_view_alternatives' ,  'notification_share']),'opened']= 1\n",
    "active_df.loc[active_df['event_name'].isin(['notification_received', 'notification_dismiss']),'opened']= 0\n",
    "active_df['opened']=active_df['opened'].astype(int)\n"
   ]
  },
  {
   "cell_type": "code",
   "execution_count": 8,
   "metadata": {},
   "outputs": [
    {
     "output_type": "stream",
     "name": "stdout",
     "text": [
      "<class 'pandas.core.frame.DataFrame'>\nRangeIndex: 908723 entries, 0 to 908722\nData columns (total 26 columns):\n #   Column                                Non-Null Count   Dtype         \n---  ------                                --------------   -----         \n 0   event_timestamp                       908723 non-null  datetime64[ns]\n 1   event_name                            908723 non-null  object        \n 2   user_id                               908723 non-null  object        \n 3   document_id                           908723 non-null  object        \n 4   surrogate_id                          908723 non-null  object        \n 5   created_at                            908723 non-null  datetime64[ns]\n 6   published_at                          908723 non-null  datetime64[ns]\n 7   closed_at                             908060 non-null  datetime64[ns]\n 8   cause                                 908723 non-null  object        \n 9   effect                                908723 non-null  object        \n 10  description                           908723 non-null  object        \n 11  area_of_effect_coordinates_latitude   584293 non-null  float64       \n 12  area_of_effect_coordinates_longitude  584293 non-null  float64       \n 13  agency_GewRJAw5tUmC4Ku4AX1-SQ         908723 non-null  float64       \n 14  agency_GtvOEQAFZ0GtU6u4AXwvPg         908723 non-null  float64       \n 15  agency_HE59N3RXM0q5vKu4AXlQZg         908723 non-null  float64       \n 16  agency_JUR9bFXmVkWDHqu4AXaY0g         908723 non-null  float64       \n 17  agency_JfA8Bw8Zp024Kqu4AXiSpQ         908723 non-null  float64       \n 18  agency_MgUq5b9mOEunx6u4AXt_BA         908723 non-null  float64       \n 19  agency_NuuRQ2I1Q0a50Kv-AVKlLA         908723 non-null  float64       \n 20  agency_V2AIQQKgmUO3VazvAOA-Cw         908723 non-null  float64       \n 21  agency_jLjibFoim0iwWau4AWoEdQ         908723 non-null  float64       \n 22  agency_pky7jovXYkaw-awAAMrQ3g         908723 non-null  float64       \n 23  agency_zCy9zG00HEqGeKu4AWZYNQ         908723 non-null  float64       \n 24  notif_viewed_ontime                   908723 non-null  int64         \n 25  reaction_time                         908060 non-null  float64       \ndtypes: datetime64[ns](4), float64(14), int64(1), object(7)\nmemory usage: 180.3+ MB\n"
     ]
    }
   ],
   "source": [
    "export_df.info()"
   ]
  },
  {
   "cell_type": "code",
   "execution_count": 9,
   "metadata": {},
   "outputs": [],
   "source": [
    "#!pip install -U spacy\n",
    "#!pip install -U pip setuptools wheel\n",
    "#!python -m spacy download en_core_news_sm\n",
    "#!python -m spacy download es_core_news_sm\n",
    "#!pip install spacymoji\n",
    "\n",
    "import spacy\n",
    "from spacymoji import Emoji\n",
    "import string\n",
    "import re\n"
   ]
  },
  {
   "cell_type": "code",
   "execution_count": 10,
   "metadata": {},
   "outputs": [],
   "source": [
    "export_df['description'] = export_df['description'].astype('string')"
   ]
  },
  {
   "cell_type": "code",
   "execution_count": 11,
   "metadata": {},
   "outputs": [],
   "source": [
    "export_df['lenght'] = len(export_df['description'])"
   ]
  },
  {
   "cell_type": "code",
   "execution_count": 16,
   "metadata": {},
   "outputs": [],
   "source": [
    "nlp = spacy.load('es_core_news_sm')\n",
    "nlp.add_pipe(\"emoji\", first=True)\n",
    "emoji= Emoji(nlp)"
   ]
  },
  {
   "cell_type": "code",
   "execution_count": 17,
   "metadata": {},
   "outputs": [
    {
     "output_type": "execute_result",
     "data": {
      "text/plain": [
       "<spacymoji.Emoji at 0x131568190>"
      ]
     },
     "metadata": {},
     "execution_count": 17
    }
   ],
   "source": [
    "emoji"
   ]
  },
  {
   "cell_type": "code",
   "execution_count": 84,
   "metadata": {},
   "outputs": [],
   "source": [
    "def adding_emoji(x):\n",
    "    emolist=[]\n",
    "    doc = nlp(x)\n",
    "    print(x)\n",
    "    print (doc)\n",
    "    for i in doc:\n",
    "        if  i._.has_emoji is True:\n",
    "            emolist.append(i)\n",
    "    for e in x:\n",
    "        print(e)\n",
    "    #export_df['emoji']= doc._.emoji\n",
    "   # doc = nlp(x)df['emojis'][i] = doc._.emoji\n",
    "\n",
    "    return export_df['emoji']"
   ]
  },
  {
   "cell_type": "code",
   "execution_count": 85,
   "metadata": {
    "tags": [
     "outputPrepend"
    ]
   },
   "outputs": [
    {
     "output_type": "stream",
     "name": "stdout",
     "text": [
      " accidente vehicular en Periférico  poco antes Paseo de las Palmas, en dirección a Reforma.\n",
      "✋ ¡Tómalo en cuenta! Servicio provisional por manifestantes de Indios Verdes-Reforma, El Caminero-Sonora y de Indios Verdes a Santa Cruz Atoyac en la línea 1 del Metrobús.\n",
      "✋ Se restablece la circulación de Av. Insurgentes a partir de Puebla, luego de manifestantes.\n",
      "⏳ ¡Changos! Retrasos por percance en Av. Insurgentes Norte a la altura de Héroes Ferrocarrileros.\n",
      "🚇 ¡Hora de escuchar que rolitas nuevas salieron! Usuarios reportan retrasos en la línea 1 del Metro, rumbo a Pantitlán. \n",
      "⏳ ¡Ponte al tiro! Hay retrasos por accidente vehicular en Circuito Interior después de la Raza, rumbo a la Calz. Guadalupe.\n",
      "⏳ ¡Anticípate! Hay retrasos por servicios de emergencia en Calle Rossini y Eje Central L. Cárdenas.\n",
      "⏳ ¡Ah jijo! Hay retrasos por accidente vehicular en Calz. de los Misterios a la altura de Granados, rumbo a Eje 2 Norte.\n",
      "⏳ Cómprate un té de pasiflora porque el avance de los trenes es lento en las líneas 1, 2, 3, 4, 5, 8, 9 y 12 del Metro, debido a lluvias.\n",
      "⏳ ¡Chin! Retrasos por percance sobre Ferrocarril Hidalgo a la altura de Av. Rio Consulado.\n",
      "⏳ ¡Ponte al tiro! Hay retrasos por accidente vehicular en Circuito Interior después de la Raza, rumbo a la Calz. Guadalupe.\n",
      "⏳ ¡No de nuevo! Hay retrasos por vehículo descompuesto en Av. Rio Consulado a la altura de Norte 180, rumbo al Sur.\n",
      "⏳ ¡Anticípate! Hay retrasos por servicios de emergencia en Calzada de Tlalpan a la altura del Metro Portales, rumbo al Sur. \n",
      "⏳ ¡Chanfle! Hay retrasos por servicios de emergencia en Herreros a la altura de Eje 1 Norte.\n",
      "✋ ¡Se ve se siente! Afectación vial por manifestantes en Av. Insurgentes a la altura de la Glorieta de Insurgentes con dirección al Norte.\n",
      "🚫 ¡Changos! Hay suspensión del servicio por manifestación, en las estaciones Balderas y Cuauhtémoc de la línea 3 del Metrobús.\n",
      "🚫 ¡Qué no te agarre en curva! Hay suspensión del servicio por manifestación, en las estaciones Balderas y Cuauhtémoc de la línea 3 del Metrobús. \n",
      "🚫 ¡Ah jijo! Hay suspensión del servicio por manifestación, en las estaciones El Chopo, Revolución y Plaza de la República de la línea 1 del Metrobús. \n",
      "🚫 ¡Ah jijo! Continúa la suspensión del servicio por manifestación, en las estaciones que van de Reforma a Álvaro Obregón en la línea 1 del Metrobús, en ambos sentidos.\n",
      "🚫 ¡Qué no te agarre en curva! Continúa la suspensión del servicio por manifestación, en las estaciones que van de Mina a Cuauhtémoc en la línea 3 del Metrobús. \n",
      "\n",
      "✋ ¡Tómalo en cuenta! Cierre vial por manifestantes en Av. Insurgentes, desde Jalapa hasta Av. Chapultepec. \n",
      "✋ ¡Tómalo en cuenta! Servicio provisional por manifestantes de Indios Verdes-Reforma, El Caminero-Sonora y de Indios Verdes a Santa Cruz Atoyac en la línea 1 del Metrobús.\n",
      "✋¡Mucho ojo! Continúa la suspensión del servicio en la estación Insurgentes de la línea 1 del Metrobús, por manifestación.\n",
      "✋ Se restablece la circulación de Av. Insurgentes a partir de Puebla, luego de manifestantes.\n",
      "⏳ ¡Oh no! Retrasos por accidente sobre Glorieta de Insurgentes.\n",
      "⏳ ¡Changos! Retrasos por percance en Av. Insurgentes Norte a la altura de Héroes Ferrocarrileros.\n",
      "🚧 ¡Anticípate! Hay retrasos por obras de mantenimiento en Los Reyes, a partir de la Universidad Humanitas hasta el Metro Santa Martha con rumbo CDMX.\n",
      "✋ ¡Tómalo en cuenta! Servicio provisional por manifestantes de Indios Verdes-Reforma, El Caminero-Sonora y de Indios Verdes a Santa Cruz Atoyac en la línea 1 del Metrobús.\n",
      "✋ Se restablece la circulación de Dr. Gabriel Hernández y Niños Héroes entre Dr. Río de la Loza y Dr. Lavista, luego de manifestantes. \n",
      "⏳ ¡Pon tu playlist favorita! Usuarios reportan retrasos y aglomeraciones en la línea 1 del Metro.\n",
      "✋ Se restablece la circulación de Av. Insurgentes a partir de Puebla, luego de manifestantes.\n",
      "⏳ ¡Changos! Retrasos por percance en Av. Insurgentes Norte a la altura de Héroes Ferrocarrileros.\n",
      "⏳ ¡Ojo! Retrasos por servicios de emergencia en Viaducto Río de la Piedad a la altura de Francisco Del Paso Y Troncoso.\n",
      "🚫 ¡Chin! Corte de circulación por obras en Viaducto Río de la Piedad a la altura de Río Churubusco con dirección al poniente.\n",
      "\n",
      "🚗 ¡Ay no! Reducción de carriles por accidente vehicular en la Carretera México-Pachuca antes del vigilante en dirección a la CDMX.\n",
      "⏳ ¡Tómalo en cuenta! Hay retrasos por incidente en la Carretera México-Texcoco a la altura de La Festival.\n",
      "✋ ¡Qué no te sorprenda! Hay cierre de circulación por incidente en la Carretera México-Texcoco a la altura de La Festival, rumbo a los Reyes.\n",
      "✋ ¡Ah jijo! Hay cierre de circulación por manifestación en Vía Morelos a la altura del 30-30, rumbo a Puente Fierro. \n",
      "⏳ ¡Qué no te sorprenda! Hay retrasos por vehículos que hacen fila para la vacuna en Av Chimalhuacán a la altura de Av. Adolfo López Mateos. \n",
      "⏳ ¡Anticípate! Hay retrasos por servicios de emergencia en calle El Cuernito a la altura de calle Tlaxcaltecas.\n",
      "⏳ Cómprate un té de pasiflora porque el avance de los trenes es lento en las líneas 1, 2, 3, 4, 5, 8, 9 y 12 del Metro, debido a lluvias.\n",
      "✋ ¡Tómalo en cuenta! Servicio provisional por manifestantes de Indios Verdes-Reforma, El Caminero-Sonora y de Indios Verdes a Santa Cruz Atoyac en la línea 1 del Metrobús.\n",
      "⏳ ¡Ponte truchas! Suspensión del servicio en estaciones que van de Álvaro Obregón a Hamburgo en la línea 1 del Metrobús, por manifestantes.\n",
      "✋ ¡Tómalo en cuenta! Cierre vial por manifestantes en Av. Insurgentes, desde Jalapa hasta Av. Chapultepec. \n",
      "✋¡Mucho ojo! Continúa la suspensión del servicio en la estación Insurgentes de la línea 1 del Metrobús, por manifestación.\n",
      "✋ Se restablece la circulación de Av. Insurgentes a partir de Puebla, luego de manifestantes.\n",
      "⏳ ¡Pon tu playlist favorita! Usuarios reportan retrasos y aglomeraciones en la línea 1 del Metro.\n",
      "🚫 ¡Ora! Hay suspensión del servicio por manifestación, en las estaciones que van de El Caballito a Hamburgo en la línea 7 del Metrobús. \n",
      "\n",
      "🚗 ¡Aguas! Reducción de carriles por accidente vehicular en Av. Xochimilco a la altura de Calle 2, en dirección a Av. Río Churubusco.\n",
      "⏳ ¡Qué no te sorprenda! Hay retrasos por vehículos que hacen fila para la vacuna en Av Chimalhuacán a la altura de Av. Adolfo López Mateos. \n",
      "✋ ¡Qué no te sorprenda! Hay cierre de circulación por manifestación en Puente de Alvarado a la altura de Ponciano Arriaga, en ambos sentidos. \n",
      "⏳ ¡Anticípate! Retrasos por volcadura en Periférico entre Conscripto y Río San Joaquín, al sur.\n",
      "🚑 ¡Cuidado! Afectación vial por servicios de emergencia en Fray Servando Teresa y Mier en la incorporación a la Calz. San Antonio Abad.\n",
      "🚗 ¡Chanfle! Afectación vial por accidente vehicular en Periférico  poco antes Paseo de las Palmas, en dirección a Reforma.\n",
      "⏳ Cómprate un té de pasiflora porque el avance de los trenes es lento en las líneas 1, 2, 3, 4, 5, 8, 9 y 12 del Metro, debido a lluvias.\n",
      "⏳ Cómprate un té de pasiflora porque el avance de los trenes es lento en las líneas 1, 2, 3, 4, 5, 8, 9 y 12 del Metro, debido a lluvias.\n",
      "⏳ ¡Ora! Hay retrasos por accidente vehicular en el Eje 3 Sur a la altura de la calle de Avena, rumbo a Circuito Interior.\n",
      "⏳ ¡No de nuevo! Hay retrasos por accidente vehicular en Av. San Antonio a la altura de Periférico, rumbo a Revolución.\n",
      "⏳ ¡Mucho ojo! Retrasos por percance en Calz. Ignacio Zaragoza a la altura de metro Acatitla, dirección Ixtapaluca.\n",
      "⏳ ¡No de nuevo! Hay retrasos por vehículo descompuesto en Av. Rio Consulado a la altura de Norte 180, rumbo al Sur.\n",
      "✋¡Mucho ojo! Continúa la suspensión del servicio en la estación Insurgentes de la línea 1 del Metrobús, por manifestación.\n",
      "✋ Se restablece la circulación de Av. Insurgentes a partir de Puebla, luego de manifestantes.\n",
      "⏳ ¡Oh no! Retrasos por accidente sobre Glorieta de Insurgentes.\n",
      "⏳ ¡Changos! Retrasos por percance en Av. Insurgentes Norte a la altura de Héroes Ferrocarrileros.\n",
      "🚫 ¡Ah jijo! Continúa la suspensión del servicio por manifestación, en las estaciones que van de Reforma a Álvaro Obregón en la línea 1 del Metrobús, en ambos sentidos.\n",
      "✋ ¡Tómalo en cuenta! Servicio provisional por manifestantes de Indios Verdes-Reforma, El Caminero-Sonora y de Indios Verdes a Santa Cruz Atoyac en la línea 1 del Metrobús.\n",
      "⏳ Cómprate un té de pasiflora porque el avance de los trenes es lento en las líneas 1, 2, 3, 4, 5, 8, 9 y 12 del Metro, debido a lluvias.\n",
      "✋¡Mucho ojo! Continúa la suspensión del servicio en la estación Insurgentes de la línea 1 del Metrobús, por manifestación.\n",
      "✋ Se restablece la circulación de Av. Insurgentes a partir de Puebla, luego de manifestantes.\n",
      "⏳ ¡Oh no! Retrasos por accidente sobre Glorieta de Insurgentes.\n",
      "⏳ ¡Changos! Retrasos por percance en Av. Insurgentes Norte a la altura de Héroes Ferrocarrileros.\n",
      "✋ ¡Tómalo en cuenta! Cierre vial por manifestantes en Av. Insurgentes, desde Jalapa hasta Av. Chapultepec. \n",
      "⏳ Cómprate un té de pasiflora porque el avance de los trenes es lento en las líneas 1, 2, 3, 4, 5, 8, 9 y 12 del Metro, debido a lluvias.\n",
      "⏳ ¡Chin! Retrasos por volcadura en Ferrocarril de Río Frío entre Oriente 219 y Oriente 217.\n",
      "🚫 ¡Chin! Corte de circulación por obras en Viaducto Río de la Piedad a la altura de Río Churubusco con dirección al poniente.\n",
      "\n",
      "✋ ¡Qué no te sorprenda! Hay cierre de circulación por incidente en la Carretera México-Texcoco a la altura de La Festival, rumbo a los Reyes.\n",
      "⏳ ¡Tómalo en cuenta! Hay retrasos por incidente en la Carretera México-Texcoco a la altura de La Festival.\n",
      "⏳ ¡Tómalo en cuenta! Hay retrasos por accidente vehicular en Calle Añil a la altura de la ENED.\n",
      "⏳ Cómprate un té de pasiflora porque el avance de los trenes es lento en las líneas 1, 2, 3, 4, 5, 8, 9 y 12 del Metro, debido a lluvias.\n",
      "⏳ ¡Que no te agarre en curva! Usuarios informan retrasos de hasta 15 minutos en la Línea A del Metro. Entra a \"Mi Ruta\" en tu app para encontrar alternativas de transporte.\n",
      "⏳ ¡Mucho ojo! Retrasos por percance en Calz. Ignacio Zaragoza a la altura de metro Acatitla, dirección Ixtapaluca.\n",
      "✋ ¡Qué no te sorprenda! Hay cierre de circulación por incidente en la Carretera México-Texcoco a la altura de La Festival, rumbo a los Reyes.\n",
      "⏳ ¡Tómalo en cuenta! Hay retrasos por incidente en la Carretera México-Texcoco a la altura de La Festival.\n",
      "🚧 ¡Anticípate! Hay retrasos por obras de mantenimiento en Los Reyes, a partir de la Universidad Humanitas hasta el Metro Santa Martha con rumbo CDMX.\n",
      "⏳ ¡Oh no! Retrasos por carambola sobre eje 5 sur y periférico Oriente. \n",
      "⏳ ¡Mucho ojo! Retrasos por servicios de emergencia acuden al Anillo Periférico a la altura de Lic. Rafael Reyes Espíndola, al Norte.\n",
      "⏳ ¡Oh no! Retrasos por carambola sobre eje 5 sur y periférico Oriente. \n",
      "🚗 ¡Changos! Afectación vial por accidente vehicular en Viaducto Río Piedad a la altura de Metro Puebla hacia Circuito Interior.\n",
      "🚧 ¡Aguas! Reducción de carriles por obras en Santos Dumont, de Juan Guillermo Villasana a Eje 1 Norte.\n",
      "⏳ ¡No de nuevo! Hay retrasos por accidente vehicular en Viaducto Río Piedad antes del Eje 1 Ote., rumbo a Zaragoza.\n",
      "🚗 ¡Aguas! Reducción de carriles por accidente vehicular en Av. Xochimilco a la altura de Calle 2, en dirección a Av. Río Churubusco.\n",
      "🚫 ¡Chin! Corte de circulación por obras en Viaducto Río de la Piedad a la altura de Río Churubusco con dirección al poniente.\n",
      "\n",
      "⏳ ¡Ponte truchas! Suspensión del servicio en estaciones que van de Álvaro Obregón a Hamburgo en la línea 1 del Metrobús, por manifestantes.\n",
      "✋ ¡Tómalo en cuenta! Servicio provisional por manifestantes de Indios Verdes-Reforma, El Caminero-Sonora y de Indios Verdes a Santa Cruz Atoyac en la línea 1 del Metrobús.\n",
      "✋ Se restablece la circulación de Av. Insurgentes a partir de Puebla, luego de manifestantes.\n",
      "⏳ ¡Oh no! Retrasos por accidente sobre Glorieta de Insurgentes.\n",
      "🚫 ¡Qué no te agarre en curva! Continúa la suspensión del servicio por manifestación, en las estaciones que van de Mina a Cuauhtémoc en la línea 3 del Metrobús. \n",
      "\n",
      "⏳ ¡Chin! Retrasos por accidente en Av. Central Carlos Hank González a la altura del Metro Ciudad Azteca hacia Oceanía.\n",
      "⏳ ¡Ponte al tiro! Hay retrasos por accidente vehicular en Circuito Interior después de la Raza, rumbo a la Calz. Guadalupe.\n",
      "⏳ ¡Anticípate! Hay retrasos por servicios de emergencia en Calle Rossini y Eje Central L. Cárdenas.\n",
      "⏳ Cómprate un té de pasiflora porque el avance de los trenes es lento en las líneas 1, 2, 3, 4, 5, 8, 9 y 12 del Metro, debido a lluvias.\n",
      "⏳ ¡Y sigue! Servicio lento en líneas 2, 3, 5, 8, 9 y 12 del Metro, por lluvias.\n",
      "⏳ ¡Tómalo en cuenta! Por lluvias se presenta servicio lento en líneas 2, 3, 8 y 9 del Metro.\n",
      "🚇 ¡Saca el sudoku! Usuarios reportan retrasos en la línea 2 del Metro.\n",
      "⏳ ¡Pon tu playlist favorita! Usuarios reportan retrasos y aglomeraciones en la línea 1 del Metro.\n",
      "⏳ Cómprate un té de pasiflora porque el avance de los trenes es lento en las líneas 1, 2, 3, 4, 5, 8, 9 y 12 del Metro, debido a lluvias.\n",
      "⏳ ¡Que no te agarre en curva! Usuarios informan retrasos de hasta 15 minutos en la Línea A del Metro. Entra a \"Mi Ruta\" en tu app para encontrar alternativas de transporte.\n",
      "⏳ Cómprate un té de pasiflora porque el avance de los trenes es lento en las líneas 1, 2, 3, 4, 5, 8, 9 y 12 del Metro, debido a lluvias.\n",
      "🔥 ¡Oh no! Retrasos por incendio en Dr. Balmis y Eje Central Lázaro Cárdenas.\n",
      "🚗 ¡Aguas! Reducción de carriles por accidente vehicular en Av. Tláhuac pasando Av. José Clemente Orozco, en dirección al Anillo Periférico.\n",
      "⏳ ¡Anticípate! Hay retrasos por servicios de emergencia en Calle Rossini y Eje Central L. Cárdenas.\n",
      "⏳ ¡Oh, oh! Usuarios reportan retrasos de hasta 10 minutos en la Línea 2 del Metro. \n",
      "🚑 ¡Cuidado! Afectación vial por servicios de emergencia en Av. Parque Lira, a la altura del Eje 4 Sur.\n",
      "🚇 ¡Rumbo te informa! Servicio provisional por manifestación de Tepalcates a Upiicsa y de Tlacotal a Tacubaya/ Col. del Valle; cierre de estaciones Iztacalco y Goma.\n",
      "⏳ ¡Anticípate! Hay retrasos por servicios de emergencia en Av. Paseo del Pedregal y Cascada.\n",
      "⏳ ¡Ah jijo! Hay retrasos por accidente vehicular en Av. Constituyentes a la altura de a la altura de Gob. Tiburcio Montiel, rumbo a Circuito Interior.\n",
      "🚇 ¡Ponte unas rolitas! Usuarios reportan retrasos en la línea 2 del Metro. \n",
      "⏳ ¡Anticípate! Hay retrasos por servicios de emergencia en Anillo Periférico y Antiguo Canal Cuemanco, rumbo al Norte. \n",
      "⏳ ¡Changos! Hay retrasos por servicios de emergencia en Av. Insurgentes y Loreto, rumbo al Sur.\n",
      "✋ ¡Va de nuez! Hay cierre de circulación por manifestación en Calle General Gabriel Hernández al cruce con Dr. Río de la Loza.\n",
      "\n",
      "\n",
      "⏳ ¡Achis achis! Hay retrasos por accidente vehicular en Av. Universidad a la altura de Félix Cuevas, rumbo a Eje 8 Sur.\n",
      "🚇 ¡Respira hondo! Usuarios reportan retrasos de hasta 10 minutos en la línea 1 del Metro.\n",
      "🚇 ¿Nos echamos una partidita 🎮? Usuarios reportan retrasos en la línea 3 del Metro. \n",
      "⏳ ¡Ponte unos rolones! Hay retrasos en la línea 2 del Metrobús, por manifestación.\n",
      "⏳ ¡Chanclas! Retrasos por accidente sobre Calz. de Tlalpan a la altura de Eje 7 Sur con dirección a Av. Río Churubusco.\n",
      "⏳ ¡Anticípate! Retrasos por incidente en la línea 1 del Metro.\n",
      "🚫 ¡Ah jijo! Hay suspensión del servicio en las estaciones De los Misterios, Hospital Infantil y Delegación GAM de la línea 6 del Metrobús por manifestación.\n",
      "⏳ ¡Chin! Retrasos por volcadura en Ferrocarril de Río Frío entre Oriente 219 y Oriente 217.\n",
      "🚧 ¡Aguas! Reducción de carriles por mantenimiento en la Autopista México Cuernavaca a la altura del Puente Clavel Norte, dirección CDMX.\n",
      "🚫 ¡Chin! Corte de circulación por obras en Viaducto Río de la Piedad a la altura de Río Churubusco con dirección al poniente.\n",
      "\n",
      "⏳ ¡Tómalo en cuenta! Hay retrasos por accidente vehicular en Calle Añil a la altura de la ENED.\n",
      "⏳ ¡Anticípate! Hay retrasos por servicios de emergencia en Calle Rossini y Eje Central L. Cárdenas.\n",
      "🚧 ¡Anticípate! Hay retrasos por obras de mantenimiento en Los Reyes, a partir de la Universidad Humanitas hasta el Metro Santa Martha con rumbo CDMX.\n",
      "🚗 ¡Aguas! Reducción de carriles por accidente vehicular en Av. Xochimilco a la altura de Calle 2, en dirección a Av. Río Churubusco.\n",
      "🚗 ¡Aguas! Reducción de carriles por accidente vehicular en Av. Tláhuac pasando Av. José Clemente Orozco, en dirección al Anillo Periférico.\n",
      "⏳ ¡Ora! Hay retrasos por accidente vehicular en el Eje 3 Sur a la altura de la calle de Avena, rumbo a Circuito Interior.\n",
      "⏳ ¡Ah jijo! Hay retrasos por Vehículo descompuesto en Circuito Interior a la altura de Calz. Ignacio Zaragoza, rumbo al Norte.\n",
      "⏳ ¡No de nuevo! Hay retrasos por vehículo descompuesto en Av. Rio Consulado a la altura de Norte 180, rumbo al Sur.\n",
      "🚫 ¡Qué no te agarre en curva! Continúa la suspensión del servicio por manifestación, en las estaciones que van de Mina a Cuauhtémoc en la línea 3 del Metrobús. \n",
      "\n",
      "⏳ Cómprate un té de pasiflora porque el avance de los trenes es lento en las líneas 1, 2, 3, 4, 5, 8, 9 y 12 del Metro, debido a lluvias.\n",
      "⏳ ¡Oh no! Retrasos por carambola sobre eje 5 sur y periférico Oriente. \n",
      "🚗 ¡Aguas! Reducción de carriles por accidente vehicular en Av. Xochimilco a la altura de Calle 2, en dirección a Av. Río Churubusco.\n",
      "⏳ ¡Que no te agarre en curva! Usuarios informan retrasos de hasta 15 minutos en la Línea A del Metro. Entra a \"Mi Ruta\" en tu app para encontrar alternativas de transporte.\n",
      "✋ ¡Se ve se siente! Afectación vial por manifestantes en Av. Insurgentes a la altura de la Glorieta de Insurgentes con dirección al Norte.\n",
      "🚑 ¡Cuidado! Afectación vial por servicios de emergencia en Circuito Interior a la altura de Av. Ing. Eduardo Molina, hacia el AICM. \n",
      "✋ ¡Anticípate! Hay cierre de circulación por manifestación en Avenida Ingeniero Eduardo Molina al Cruce con Circuito Interior.\n",
      "\n",
      "\n",
      "🚫 ¡Changos! Hay suspensión del servicio por manifestación, en las estaciones Balderas y Cuauhtémoc de la línea 3 del Metrobús.\n",
      "⏳ ¡Ponte al tiro! Hay retrasos por accidente vehicular en Circuito Interior después de División del Norte, rumbo a Calz, de Tlalpan.\n",
      "🚫 ¡Qué no te agarre en curva! Hay suspensión del servicio por manifestación, en las estaciones Balderas y Cuauhtémoc de la línea 3 del Metrobús. \n",
      "🚫 ¡Ah jijo! Hay suspensión del servicio por manifestación, en las estaciones El Chopo, Revolución y Plaza de la República de la línea 1 del Metrobús. \n",
      "🚫 ¡Ah jijo! Continúa la suspensión del servicio por manifestación, en las estaciones que van de Reforma a Álvaro Obregón en la línea 1 del Metrobús, en ambos sentidos.\n",
      "🚫 ¡Qué no te agarre en curva! Continúa la suspensión del servicio por manifestación, en las estaciones que van de Mina a Cuauhtémoc en la línea 3 del Metrobús. \n",
      "\n",
      "⏳ ¡Pon tu playlist favorita! Usuarios reportan retrasos y aglomeraciones en la línea 1 del Metro.\n",
      "✋ ¡Tómalo en cuenta! Cierre vial por manifestantes en Av. Insurgentes, desde Jalapa hasta Av. Chapultepec. \n",
      "✋ ¡Tómalo en cuenta! Servicio provisional por manifestantes de Indios Verdes-Reforma, El Caminero-Sonora y de Indios Verdes a Santa Cruz Atoyac en la línea 1 del Metrobús.\n",
      "⏳ ¡Changos! Retrasos por percance sobre Eje central a la altura de calle Río de los Remedios, rumbo al norte.\n",
      "✋ ¡Tómalo en cuenta! Servicio provisional por manifestantes de Indios Verdes-Reforma, El Caminero-Sonora y de Indios Verdes a Santa Cruz Atoyac en la línea 1 del Metrobús.\n",
      "✋¡Mucho ojo! Continúa la suspensión del servicio en la estación Insurgentes de la línea 1 del Metrobús, por manifestación.\n",
      "✋ Se restablece la circulación de Av. Insurgentes a partir de Puebla, luego de manifestantes.\n",
      "⏳ ¡Oh no! Retrasos por accidente sobre Glorieta de Insurgentes.\n",
      "⏳ ¡Changos! Retrasos por percance en Av. Insurgentes Norte a la altura de Héroes Ferrocarrileros.\n",
      "⏳ ¡No de nuevo! Hay retrasos por vehículo descompuesto en Av. Rio Consulado a la altura de Norte 180, rumbo al Sur.\n",
      "⏳ ¡Tómalo en cuenta! Hay retrasos por accidente vehicular en Calle Añil a la altura de la ENED.\n",
      "⏳ ¡Ah jijo! Hay retrasos por Vehículo descompuesto en Circuito Interior a la altura de Calz. Ignacio Zaragoza, rumbo al Norte.\n",
      "✋¡Mucho ojo! Continúa la suspensión del servicio en la estación Insurgentes de la línea 1 del Metrobús, por manifestación.\n"
     ]
    },
    {
     "output_type": "error",
     "ename": "KeyboardInterrupt",
     "evalue": "",
     "traceback": [
      "\u001b[0;31m---------------------------------------------------------------------------\u001b[0m",
      "\u001b[0;31mKeyboardInterrupt\u001b[0m                         Traceback (most recent call last)",
      "\u001b[0;32m/var/folders/qh/lkng7tfs74l0y2_trwbr1byh0000gn/T/ipykernel_4387/905356609.py\u001b[0m in \u001b[0;36m<module>\u001b[0;34m\u001b[0m\n\u001b[0;32m----> 1\u001b[0;31m \u001b[0mexport_df\u001b[0m\u001b[0;34m[\u001b[0m\u001b[0;34m'emoji'\u001b[0m\u001b[0;34m]\u001b[0m\u001b[0;34m=\u001b[0m \u001b[0mexport_df\u001b[0m\u001b[0;34m[\u001b[0m\u001b[0;34m\"description\"\u001b[0m\u001b[0;34m]\u001b[0m\u001b[0;34m.\u001b[0m\u001b[0mapply\u001b[0m\u001b[0;34m(\u001b[0m\u001b[0;32mlambda\u001b[0m \u001b[0mx\u001b[0m\u001b[0;34m:\u001b[0m \u001b[0mget_emoji\u001b[0m\u001b[0;34m(\u001b[0m\u001b[0mx\u001b[0m\u001b[0;34m)\u001b[0m\u001b[0;34m)\u001b[0m\u001b[0;34m\u001b[0m\u001b[0;34m\u001b[0m\u001b[0m\n\u001b[0m",
      "\u001b[0;32m~/neuefische/Capstone-WIMT/.venv/lib/python3.8/site-packages/pandas/core/series.py\u001b[0m in \u001b[0;36mapply\u001b[0;34m(self, func, convert_dtype, args, **kwds)\u001b[0m\n\u001b[1;32m   4106\u001b[0m             \u001b[0;32melse\u001b[0m\u001b[0;34m:\u001b[0m\u001b[0;34m\u001b[0m\u001b[0;34m\u001b[0m\u001b[0m\n\u001b[1;32m   4107\u001b[0m                 \u001b[0mvalues\u001b[0m \u001b[0;34m=\u001b[0m \u001b[0mself\u001b[0m\u001b[0;34m.\u001b[0m\u001b[0mastype\u001b[0m\u001b[0;34m(\u001b[0m\u001b[0mobject\u001b[0m\u001b[0;34m)\u001b[0m\u001b[0;34m.\u001b[0m\u001b[0m_values\u001b[0m\u001b[0;34m\u001b[0m\u001b[0;34m\u001b[0m\u001b[0m\n\u001b[0;32m-> 4108\u001b[0;31m                 \u001b[0mmapped\u001b[0m \u001b[0;34m=\u001b[0m \u001b[0mlib\u001b[0m\u001b[0;34m.\u001b[0m\u001b[0mmap_infer\u001b[0m\u001b[0;34m(\u001b[0m\u001b[0mvalues\u001b[0m\u001b[0;34m,\u001b[0m \u001b[0mf\u001b[0m\u001b[0;34m,\u001b[0m \u001b[0mconvert\u001b[0m\u001b[0;34m=\u001b[0m\u001b[0mconvert_dtype\u001b[0m\u001b[0;34m)\u001b[0m\u001b[0;34m\u001b[0m\u001b[0;34m\u001b[0m\u001b[0m\n\u001b[0m\u001b[1;32m   4109\u001b[0m \u001b[0;34m\u001b[0m\u001b[0m\n\u001b[1;32m   4110\u001b[0m         \u001b[0;32mif\u001b[0m \u001b[0mlen\u001b[0m\u001b[0;34m(\u001b[0m\u001b[0mmapped\u001b[0m\u001b[0;34m)\u001b[0m \u001b[0;32mand\u001b[0m \u001b[0misinstance\u001b[0m\u001b[0;34m(\u001b[0m\u001b[0mmapped\u001b[0m\u001b[0;34m[\u001b[0m\u001b[0;36m0\u001b[0m\u001b[0;34m]\u001b[0m\u001b[0;34m,\u001b[0m \u001b[0mSeries\u001b[0m\u001b[0;34m)\u001b[0m\u001b[0;34m:\u001b[0m\u001b[0;34m\u001b[0m\u001b[0;34m\u001b[0m\u001b[0m\n",
      "\u001b[0;32mpandas/_libs/lib.pyx\u001b[0m in \u001b[0;36mpandas._libs.lib.map_infer\u001b[0;34m()\u001b[0m\n",
      "\u001b[0;32m/var/folders/qh/lkng7tfs74l0y2_trwbr1byh0000gn/T/ipykernel_4387/905356609.py\u001b[0m in \u001b[0;36m<lambda>\u001b[0;34m(x)\u001b[0m\n\u001b[0;32m----> 1\u001b[0;31m \u001b[0mexport_df\u001b[0m\u001b[0;34m[\u001b[0m\u001b[0;34m'emoji'\u001b[0m\u001b[0;34m]\u001b[0m\u001b[0;34m=\u001b[0m \u001b[0mexport_df\u001b[0m\u001b[0;34m[\u001b[0m\u001b[0;34m\"description\"\u001b[0m\u001b[0;34m]\u001b[0m\u001b[0;34m.\u001b[0m\u001b[0mapply\u001b[0m\u001b[0;34m(\u001b[0m\u001b[0;32mlambda\u001b[0m \u001b[0mx\u001b[0m\u001b[0;34m:\u001b[0m \u001b[0mget_emoji\u001b[0m\u001b[0;34m(\u001b[0m\u001b[0mx\u001b[0m\u001b[0;34m)\u001b[0m\u001b[0;34m)\u001b[0m\u001b[0;34m\u001b[0m\u001b[0;34m\u001b[0m\u001b[0m\n\u001b[0m",
      "\u001b[0;32m/var/folders/qh/lkng7tfs74l0y2_trwbr1byh0000gn/T/ipykernel_4387/2774475910.py\u001b[0m in \u001b[0;36mget_emoji\u001b[0;34m(x)\u001b[0m\n\u001b[1;32m     10\u001b[0m     \u001b[0;31m#x=x.split(' ')\u001b[0m\u001b[0;34m\u001b[0m\u001b[0;34m\u001b[0m\u001b[0;34m\u001b[0m\u001b[0m\n\u001b[1;32m     11\u001b[0m     \u001b[0;31m#emoji_intext=[]\u001b[0m\u001b[0;34m\u001b[0m\u001b[0;34m\u001b[0m\u001b[0;34m\u001b[0m\u001b[0m\n\u001b[0;32m---> 12\u001b[0;31m     \u001b[0mdoc\u001b[0m \u001b[0;34m=\u001b[0m \u001b[0mnlp\u001b[0m\u001b[0;34m(\u001b[0m\u001b[0mx\u001b[0m\u001b[0;34m)\u001b[0m\u001b[0;34m\u001b[0m\u001b[0;34m\u001b[0m\u001b[0m\n\u001b[0m\u001b[1;32m     13\u001b[0m     \u001b[0mprint\u001b[0m\u001b[0;34m(\u001b[0m\u001b[0mdoc\u001b[0m\u001b[0;34m)\u001b[0m\u001b[0;34m\u001b[0m\u001b[0;34m\u001b[0m\u001b[0m\n\u001b[1;32m     14\u001b[0m     \u001b[0ml\u001b[0m\u001b[0;34m=\u001b[0m\u001b[0;34m[\u001b[0m\u001b[0;34m]\u001b[0m\u001b[0;34m\u001b[0m\u001b[0;34m\u001b[0m\u001b[0m\n",
      "\u001b[0;32m~/neuefische/Capstone-WIMT/.venv/lib/python3.8/site-packages/spacy/language.py\u001b[0m in \u001b[0;36m__call__\u001b[0;34m(self, text, disable, component_cfg)\u001b[0m\n\u001b[1;32m    998\u001b[0m                 \u001b[0merror_handler\u001b[0m \u001b[0;34m=\u001b[0m \u001b[0mproc\u001b[0m\u001b[0;34m.\u001b[0m\u001b[0mget_error_handler\u001b[0m\u001b[0;34m(\u001b[0m\u001b[0;34m)\u001b[0m\u001b[0;34m\u001b[0m\u001b[0;34m\u001b[0m\u001b[0m\n\u001b[1;32m    999\u001b[0m             \u001b[0;32mtry\u001b[0m\u001b[0;34m:\u001b[0m\u001b[0;34m\u001b[0m\u001b[0;34m\u001b[0m\u001b[0m\n\u001b[0;32m-> 1000\u001b[0;31m                 \u001b[0mdoc\u001b[0m \u001b[0;34m=\u001b[0m \u001b[0mproc\u001b[0m\u001b[0;34m(\u001b[0m\u001b[0mdoc\u001b[0m\u001b[0;34m,\u001b[0m \u001b[0;34m**\u001b[0m\u001b[0mcomponent_cfg\u001b[0m\u001b[0;34m.\u001b[0m\u001b[0mget\u001b[0m\u001b[0;34m(\u001b[0m\u001b[0mname\u001b[0m\u001b[0;34m,\u001b[0m \u001b[0;34m{\u001b[0m\u001b[0;34m}\u001b[0m\u001b[0;34m)\u001b[0m\u001b[0;34m)\u001b[0m\u001b[0;34m\u001b[0m\u001b[0;34m\u001b[0m\u001b[0m\n\u001b[0m\u001b[1;32m   1001\u001b[0m             \u001b[0;32mexcept\u001b[0m \u001b[0mKeyError\u001b[0m \u001b[0;32mas\u001b[0m \u001b[0me\u001b[0m\u001b[0;34m:\u001b[0m\u001b[0;34m\u001b[0m\u001b[0;34m\u001b[0m\u001b[0m\n\u001b[1;32m   1002\u001b[0m                 \u001b[0;31m# This typically happens if a component is not initialized\u001b[0m\u001b[0;34m\u001b[0m\u001b[0;34m\u001b[0m\u001b[0;34m\u001b[0m\u001b[0m\n",
      "\u001b[0;31mKeyboardInterrupt\u001b[0m: "
     ]
    }
   ],
   "source": [
    "export_df['emoji']= export_df[\"description\"].apply(lambda x: get_emoji(x))"
   ]
  },
  {
   "cell_type": "code",
   "execution_count": null,
   "metadata": {},
   "outputs": [],
   "source": [
    "export_df\n",
    "\n"
   ]
  },
  {
   "cell_type": "code",
   "execution_count": null,
   "metadata": {},
   "outputs": [],
   "source": [
    "def no_emoji (x):\n",
    "    doc=nlp(x)\n",
    "    "
   ]
  },
  {
   "cell_type": "code",
   "execution_count": null,
   "metadata": {},
   "outputs": [],
   "source": [
    "export_df['description_noemoji']= export_df[\"description\"].apply(lambda x: no_emoji(x))"
   ]
  },
  {
   "cell_type": "code",
   "execution_count": 9,
   "metadata": {},
   "outputs": [
    {
     "output_type": "execute_result",
     "data": {
      "text/plain": [
       "       area_of_effect_coordinates_latitude  \\\n",
       "count                        584293.000000   \n",
       "mean                            -99.132993   \n",
       "std                               0.053488   \n",
       "min                             -99.384879   \n",
       "25%                             -99.169431   \n",
       "50%                             -99.141207   \n",
       "75%                             -99.098607   \n",
       "max                             -98.880082   \n",
       "\n",
       "       area_of_effect_coordinates_longitude  agency_GewRJAw5tUmC4Ku4AX1-SQ  \\\n",
       "count                         584293.000000                  908723.000000   \n",
       "mean                              19.412858                       0.008122   \n",
       "std                                0.061724                       0.089758   \n",
       "min                               19.181813                       0.000000   \n",
       "25%                               19.373042                       0.000000   \n",
       "50%                               19.418486                       0.000000   \n",
       "75%                               19.441254                       0.000000   \n",
       "max                               19.851115                       1.000000   \n",
       "\n",
       "       agency_GtvOEQAFZ0GtU6u4AXwvPg  agency_HE59N3RXM0q5vKu4AXlQZg  \\\n",
       "count                  908723.000000                  908723.000000   \n",
       "mean                        0.447737                       0.012590   \n",
       "std                         0.497261                       0.111498   \n",
       "min                         0.000000                       0.000000   \n",
       "25%                         0.000000                       0.000000   \n",
       "50%                         0.000000                       0.000000   \n",
       "75%                         1.000000                       0.000000   \n",
       "max                         1.000000                       1.000000   \n",
       "\n",
       "       agency_JUR9bFXmVkWDHqu4AXaY0g  agency_JfA8Bw8Zp024Kqu4AXiSpQ  \\\n",
       "count                  908723.000000                  908723.000000   \n",
       "mean                        0.300901                       0.177653   \n",
       "std                         0.458650                       0.382220   \n",
       "min                         0.000000                       0.000000   \n",
       "25%                         0.000000                       0.000000   \n",
       "50%                         0.000000                       0.000000   \n",
       "75%                         1.000000                       0.000000   \n",
       "max                         1.000000                       1.000000   \n",
       "\n",
       "       agency_MgUq5b9mOEunx6u4AXt_BA  agency_NuuRQ2I1Q0a50Kv-AVKlLA  \\\n",
       "count                       908723.0                  908723.000000   \n",
       "mean                             0.0                       0.036584   \n",
       "std                              0.0                       0.187739   \n",
       "min                              0.0                       0.000000   \n",
       "25%                              0.0                       0.000000   \n",
       "50%                              0.0                       0.000000   \n",
       "75%                              0.0                       0.000000   \n",
       "max                              0.0                       1.000000   \n",
       "\n",
       "       agency_V2AIQQKgmUO3VazvAOA-Cw  agency_jLjibFoim0iwWau4AWoEdQ  \\\n",
       "count                       908723.0                  908723.000000   \n",
       "mean                             0.0                       0.000458   \n",
       "std                              0.0                       0.021391   \n",
       "min                              0.0                       0.000000   \n",
       "25%                              0.0                       0.000000   \n",
       "50%                              0.0                       0.000000   \n",
       "75%                              0.0                       0.000000   \n",
       "max                              0.0                       1.000000   \n",
       "\n",
       "       agency_pky7jovXYkaw-awAAMrQ3g  agency_zCy9zG00HEqGeKu4AWZYNQ  \\\n",
       "count                  908723.000000                  908723.000000   \n",
       "mean                        0.001115                       0.605955   \n",
       "std                         0.033369                       0.488645   \n",
       "min                         0.000000                       0.000000   \n",
       "25%                         0.000000                       0.000000   \n",
       "50%                         0.000000                       1.000000   \n",
       "75%                         0.000000                       1.000000   \n",
       "max                         1.000000                       1.000000   \n",
       "\n",
       "       notif_viewed_ontime  reaction_time  \n",
       "count        908723.000000  908060.000000  \n",
       "mean              0.579917     117.079080  \n",
       "std               0.493572     226.508678  \n",
       "min               0.000000       0.000000  \n",
       "25%               0.000000       8.850000  \n",
       "50%               1.000000      30.883333  \n",
       "75%               1.000000     104.016667  \n",
       "max               1.000000    1439.983333  "
      ],
      "text/html": "<div>\n<style scoped>\n    .dataframe tbody tr th:only-of-type {\n        vertical-align: middle;\n    }\n\n    .dataframe tbody tr th {\n        vertical-align: top;\n    }\n\n    .dataframe thead th {\n        text-align: right;\n    }\n</style>\n<table border=\"1\" class=\"dataframe\">\n  <thead>\n    <tr style=\"text-align: right;\">\n      <th></th>\n      <th>area_of_effect_coordinates_latitude</th>\n      <th>area_of_effect_coordinates_longitude</th>\n      <th>agency_GewRJAw5tUmC4Ku4AX1-SQ</th>\n      <th>agency_GtvOEQAFZ0GtU6u4AXwvPg</th>\n      <th>agency_HE59N3RXM0q5vKu4AXlQZg</th>\n      <th>agency_JUR9bFXmVkWDHqu4AXaY0g</th>\n      <th>agency_JfA8Bw8Zp024Kqu4AXiSpQ</th>\n      <th>agency_MgUq5b9mOEunx6u4AXt_BA</th>\n      <th>agency_NuuRQ2I1Q0a50Kv-AVKlLA</th>\n      <th>agency_V2AIQQKgmUO3VazvAOA-Cw</th>\n      <th>agency_jLjibFoim0iwWau4AWoEdQ</th>\n      <th>agency_pky7jovXYkaw-awAAMrQ3g</th>\n      <th>agency_zCy9zG00HEqGeKu4AWZYNQ</th>\n      <th>notif_viewed_ontime</th>\n      <th>reaction_time</th>\n    </tr>\n  </thead>\n  <tbody>\n    <tr>\n      <th>count</th>\n      <td>584293.000000</td>\n      <td>584293.000000</td>\n      <td>908723.000000</td>\n      <td>908723.000000</td>\n      <td>908723.000000</td>\n      <td>908723.000000</td>\n      <td>908723.000000</td>\n      <td>908723.0</td>\n      <td>908723.000000</td>\n      <td>908723.0</td>\n      <td>908723.000000</td>\n      <td>908723.000000</td>\n      <td>908723.000000</td>\n      <td>908723.000000</td>\n      <td>908060.000000</td>\n    </tr>\n    <tr>\n      <th>mean</th>\n      <td>-99.132993</td>\n      <td>19.412858</td>\n      <td>0.008122</td>\n      <td>0.447737</td>\n      <td>0.012590</td>\n      <td>0.300901</td>\n      <td>0.177653</td>\n      <td>0.0</td>\n      <td>0.036584</td>\n      <td>0.0</td>\n      <td>0.000458</td>\n      <td>0.001115</td>\n      <td>0.605955</td>\n      <td>0.579917</td>\n      <td>117.079080</td>\n    </tr>\n    <tr>\n      <th>std</th>\n      <td>0.053488</td>\n      <td>0.061724</td>\n      <td>0.089758</td>\n      <td>0.497261</td>\n      <td>0.111498</td>\n      <td>0.458650</td>\n      <td>0.382220</td>\n      <td>0.0</td>\n      <td>0.187739</td>\n      <td>0.0</td>\n      <td>0.021391</td>\n      <td>0.033369</td>\n      <td>0.488645</td>\n      <td>0.493572</td>\n      <td>226.508678</td>\n    </tr>\n    <tr>\n      <th>min</th>\n      <td>-99.384879</td>\n      <td>19.181813</td>\n      <td>0.000000</td>\n      <td>0.000000</td>\n      <td>0.000000</td>\n      <td>0.000000</td>\n      <td>0.000000</td>\n      <td>0.0</td>\n      <td>0.000000</td>\n      <td>0.0</td>\n      <td>0.000000</td>\n      <td>0.000000</td>\n      <td>0.000000</td>\n      <td>0.000000</td>\n      <td>0.000000</td>\n    </tr>\n    <tr>\n      <th>25%</th>\n      <td>-99.169431</td>\n      <td>19.373042</td>\n      <td>0.000000</td>\n      <td>0.000000</td>\n      <td>0.000000</td>\n      <td>0.000000</td>\n      <td>0.000000</td>\n      <td>0.0</td>\n      <td>0.000000</td>\n      <td>0.0</td>\n      <td>0.000000</td>\n      <td>0.000000</td>\n      <td>0.000000</td>\n      <td>0.000000</td>\n      <td>8.850000</td>\n    </tr>\n    <tr>\n      <th>50%</th>\n      <td>-99.141207</td>\n      <td>19.418486</td>\n      <td>0.000000</td>\n      <td>0.000000</td>\n      <td>0.000000</td>\n      <td>0.000000</td>\n      <td>0.000000</td>\n      <td>0.0</td>\n      <td>0.000000</td>\n      <td>0.0</td>\n      <td>0.000000</td>\n      <td>0.000000</td>\n      <td>1.000000</td>\n      <td>1.000000</td>\n      <td>30.883333</td>\n    </tr>\n    <tr>\n      <th>75%</th>\n      <td>-99.098607</td>\n      <td>19.441254</td>\n      <td>0.000000</td>\n      <td>1.000000</td>\n      <td>0.000000</td>\n      <td>1.000000</td>\n      <td>0.000000</td>\n      <td>0.0</td>\n      <td>0.000000</td>\n      <td>0.0</td>\n      <td>0.000000</td>\n      <td>0.000000</td>\n      <td>1.000000</td>\n      <td>1.000000</td>\n      <td>104.016667</td>\n    </tr>\n    <tr>\n      <th>max</th>\n      <td>-98.880082</td>\n      <td>19.851115</td>\n      <td>1.000000</td>\n      <td>1.000000</td>\n      <td>1.000000</td>\n      <td>1.000000</td>\n      <td>1.000000</td>\n      <td>0.0</td>\n      <td>1.000000</td>\n      <td>0.0</td>\n      <td>1.000000</td>\n      <td>1.000000</td>\n      <td>1.000000</td>\n      <td>1.000000</td>\n      <td>1439.983333</td>\n    </tr>\n  </tbody>\n</table>\n</div>"
     },
     "metadata": {},
     "execution_count": 9
    }
   ],
   "source": [
    "active_df.describe()"
   ]
  },
  {
   "cell_type": "code",
   "execution_count": 10,
   "metadata": {},
   "outputs": [
    {
     "output_type": "stream",
     "name": "stdout",
     "text": [
      "<class 'pandas.core.frame.DataFrame'>\nRangeIndex: 908723 entries, 0 to 908722\nData columns (total 26 columns):\n #   Column                                Non-Null Count   Dtype         \n---  ------                                --------------   -----         \n 0   event_timestamp                       908723 non-null  datetime64[ns]\n 1   event_name                            908723 non-null  object        \n 2   user_id                               908723 non-null  object        \n 3   document_id                           908723 non-null  object        \n 4   surrogate_id                          908723 non-null  object        \n 5   created_at                            908723 non-null  datetime64[ns]\n 6   published_at                          908723 non-null  datetime64[ns]\n 7   closed_at                             908060 non-null  datetime64[ns]\n 8   cause                                 908723 non-null  object        \n 9   effect                                908723 non-null  object        \n 10  description                           908723 non-null  object        \n 11  area_of_effect_coordinates_latitude   584293 non-null  float64       \n 12  area_of_effect_coordinates_longitude  584293 non-null  float64       \n 13  agency_GewRJAw5tUmC4Ku4AX1-SQ         908723 non-null  float64       \n 14  agency_GtvOEQAFZ0GtU6u4AXwvPg         908723 non-null  float64       \n 15  agency_HE59N3RXM0q5vKu4AXlQZg         908723 non-null  float64       \n 16  agency_JUR9bFXmVkWDHqu4AXaY0g         908723 non-null  float64       \n 17  agency_JfA8Bw8Zp024Kqu4AXiSpQ         908723 non-null  float64       \n 18  agency_MgUq5b9mOEunx6u4AXt_BA         908723 non-null  float64       \n 19  agency_NuuRQ2I1Q0a50Kv-AVKlLA         908723 non-null  float64       \n 20  agency_V2AIQQKgmUO3VazvAOA-Cw         908723 non-null  float64       \n 21  agency_jLjibFoim0iwWau4AWoEdQ         908723 non-null  float64       \n 22  agency_pky7jovXYkaw-awAAMrQ3g         908723 non-null  float64       \n 23  agency_zCy9zG00HEqGeKu4AWZYNQ         908723 non-null  float64       \n 24  notif_viewed_ontime                   908723 non-null  int64         \n 25  reaction_time                         908060 non-null  float64       \ndtypes: datetime64[ns](4), float64(14), int64(1), object(7)\nmemory usage: 180.3+ MB\n"
     ]
    }
   ],
   "source": [
    "active_df.info()"
   ]
  },
  {
   "cell_type": "code",
   "execution_count": 13,
   "metadata": {},
   "outputs": [
    {
     "output_type": "execute_result",
     "data": {
      "text/plain": [
       "         area_of_effect_coordinates_latitude  \\\n",
       "user_id                                        \n",
       "00087                           -1684.767232   \n",
       "00117                               0.000000   \n",
       "001e1                           -1686.475347   \n",
       "00205                           -1784.841298   \n",
       "0026c                           -1586.079503   \n",
       "...                                      ...   \n",
       "fff2a                          -17638.600783   \n",
       "fff48                           -3766.492158   \n",
       "fff4d                               0.000000   \n",
       "fff82                           -8125.727148   \n",
       "fffef                               0.000000   \n",
       "\n",
       "         area_of_effect_coordinates_longitude  agency_GewRJAw5tUmC4Ku4AX1-SQ  \\\n",
       "user_id                                                                        \n",
       "00087                              330.804900                            0.0   \n",
       "00117                                0.000000                            0.0   \n",
       "001e1                              328.643503                            0.0   \n",
       "00205                              349.420908                            0.0   \n",
       "0026c                              311.013728                            0.0   \n",
       "...                                       ...                            ...   \n",
       "fff2a                             3458.458357                            0.0   \n",
       "fff48                              736.428435                            5.0   \n",
       "fff4d                                0.000000                            0.0   \n",
       "fff82                             1588.767232                            1.0   \n",
       "fffef                                0.000000                            0.0   \n",
       "\n",
       "         agency_GtvOEQAFZ0GtU6u4AXwvPg  agency_HE59N3RXM0q5vKu4AXlQZg  \\\n",
       "user_id                                                                 \n",
       "00087                              8.0                            0.0   \n",
       "00117                              0.0                            0.0   \n",
       "001e1                             17.0                            0.0   \n",
       "00205                             18.0                            0.0   \n",
       "0026c                             11.0                            0.0   \n",
       "...                                ...                            ...   \n",
       "fff2a                            144.0                            0.0   \n",
       "fff48                             27.0                            0.0   \n",
       "fff4d                              0.0                            0.0   \n",
       "fff82                             82.0                            0.0   \n",
       "fffef                              0.0                            0.0   \n",
       "\n",
       "         agency_JUR9bFXmVkWDHqu4AXaY0g  agency_JfA8Bw8Zp024Kqu4AXiSpQ  \\\n",
       "user_id                                                                 \n",
       "00087                              0.0                            3.0   \n",
       "00117                              4.0                            0.0   \n",
       "001e1                              0.0                            0.0   \n",
       "00205                              1.0                            0.0   \n",
       "0026c                              8.0                            2.0   \n",
       "...                                ...                            ...   \n",
       "fff2a                            136.0                            3.0   \n",
       "fff48                              2.0                            3.0   \n",
       "fff4d                              8.0                            0.0   \n",
       "fff82                              0.0                            2.0   \n",
       "fffef                              3.0                            0.0   \n",
       "\n",
       "         agency_MgUq5b9mOEunx6u4AXt_BA  agency_NuuRQ2I1Q0a50Kv-AVKlLA  \\\n",
       "user_id                                                                 \n",
       "00087                              0.0                            1.0   \n",
       "00117                              0.0                            0.0   \n",
       "001e1                              0.0                            0.0   \n",
       "00205                              0.0                            2.0   \n",
       "0026c                              0.0                            2.0   \n",
       "...                                ...                            ...   \n",
       "fff2a                              0.0                           19.0   \n",
       "fff48                              0.0                            0.0   \n",
       "fff4d                              0.0                            0.0   \n",
       "fff82                              0.0                            4.0   \n",
       "fffef                              0.0                            0.0   \n",
       "\n",
       "         agency_V2AIQQKgmUO3VazvAOA-Cw  agency_jLjibFoim0iwWau4AWoEdQ  \\\n",
       "user_id                                                                 \n",
       "00087                              0.0                            0.0   \n",
       "00117                              0.0                            0.0   \n",
       "001e1                              0.0                            0.0   \n",
       "00205                              0.0                            0.0   \n",
       "0026c                              0.0                            0.0   \n",
       "...                                ...                            ...   \n",
       "fff2a                              0.0                            0.0   \n",
       "fff48                              0.0                            0.0   \n",
       "fff4d                              0.0                            0.0   \n",
       "fff82                              0.0                            0.0   \n",
       "fffef                              0.0                            0.0   \n",
       "\n",
       "         agency_pky7jovXYkaw-awAAMrQ3g  agency_zCy9zG00HEqGeKu4AWZYNQ  \\\n",
       "user_id                                                                 \n",
       "00087                              0.0                           17.0   \n",
       "00117                              0.0                            0.0   \n",
       "001e1                              0.0                           17.0   \n",
       "00205                              0.0                           18.0   \n",
       "0026c                              0.0                           16.0   \n",
       "...                                ...                            ...   \n",
       "fff2a                              0.0                          176.0   \n",
       "fff48                              0.0                           38.0   \n",
       "fff4d                              0.0                            0.0   \n",
       "fff82                              0.0                           82.0   \n",
       "fffef                              0.0                            0.0   \n",
       "\n",
       "         notif_viewed_ontime  reaction_time  opened  count1  opened_rate  \\\n",
       "user_id                                                                    \n",
       "00087                     14     278.766667       0      17     0.000000   \n",
       "00117                      3      77.766667       0       4     0.000000   \n",
       "001e1                     16     345.316667       0      17     0.000000   \n",
       "00205                      1    9337.500000       6      18     0.333333   \n",
       "0026c                      2    7689.466667       2      24     0.083333   \n",
       "...                      ...            ...     ...     ...          ...   \n",
       "fff2a                    248    7980.416667       0     302     0.000000   \n",
       "fff48                     23    2534.350000       1      41     0.024390   \n",
       "fff4d                      4     787.550000       2       8     0.250000   \n",
       "fff82                      3   42681.350000       0      82     0.000000   \n",
       "fffef                      1     211.500000       0       3     0.000000   \n",
       "\n",
       "         ontime_activity_rate  \n",
       "user_id                        \n",
       "00087                0.823529  \n",
       "00117                0.750000  \n",
       "001e1                0.941176  \n",
       "00205                0.055556  \n",
       "0026c                0.083333  \n",
       "...                       ...  \n",
       "fff2a                0.821192  \n",
       "fff48                0.560976  \n",
       "fff4d                0.500000  \n",
       "fff82                0.036585  \n",
       "fffef                0.333333  \n",
       "\n",
       "[13263 rows x 19 columns]"
      ],
      "text/html": "<div>\n<style scoped>\n    .dataframe tbody tr th:only-of-type {\n        vertical-align: middle;\n    }\n\n    .dataframe tbody tr th {\n        vertical-align: top;\n    }\n\n    .dataframe thead th {\n        text-align: right;\n    }\n</style>\n<table border=\"1\" class=\"dataframe\">\n  <thead>\n    <tr style=\"text-align: right;\">\n      <th></th>\n      <th>area_of_effect_coordinates_latitude</th>\n      <th>area_of_effect_coordinates_longitude</th>\n      <th>agency_GewRJAw5tUmC4Ku4AX1-SQ</th>\n      <th>agency_GtvOEQAFZ0GtU6u4AXwvPg</th>\n      <th>agency_HE59N3RXM0q5vKu4AXlQZg</th>\n      <th>agency_JUR9bFXmVkWDHqu4AXaY0g</th>\n      <th>agency_JfA8Bw8Zp024Kqu4AXiSpQ</th>\n      <th>agency_MgUq5b9mOEunx6u4AXt_BA</th>\n      <th>agency_NuuRQ2I1Q0a50Kv-AVKlLA</th>\n      <th>agency_V2AIQQKgmUO3VazvAOA-Cw</th>\n      <th>agency_jLjibFoim0iwWau4AWoEdQ</th>\n      <th>agency_pky7jovXYkaw-awAAMrQ3g</th>\n      <th>agency_zCy9zG00HEqGeKu4AWZYNQ</th>\n      <th>notif_viewed_ontime</th>\n      <th>reaction_time</th>\n      <th>opened</th>\n      <th>count1</th>\n      <th>opened_rate</th>\n      <th>ontime_activity_rate</th>\n    </tr>\n    <tr>\n      <th>user_id</th>\n      <th></th>\n      <th></th>\n      <th></th>\n      <th></th>\n      <th></th>\n      <th></th>\n      <th></th>\n      <th></th>\n      <th></th>\n      <th></th>\n      <th></th>\n      <th></th>\n      <th></th>\n      <th></th>\n      <th></th>\n      <th></th>\n      <th></th>\n      <th></th>\n      <th></th>\n    </tr>\n  </thead>\n  <tbody>\n    <tr>\n      <th>00087</th>\n      <td>-1684.767232</td>\n      <td>330.804900</td>\n      <td>0.0</td>\n      <td>8.0</td>\n      <td>0.0</td>\n      <td>0.0</td>\n      <td>3.0</td>\n      <td>0.0</td>\n      <td>1.0</td>\n      <td>0.0</td>\n      <td>0.0</td>\n      <td>0.0</td>\n      <td>17.0</td>\n      <td>14</td>\n      <td>278.766667</td>\n      <td>0</td>\n      <td>17</td>\n      <td>0.000000</td>\n      <td>0.823529</td>\n    </tr>\n    <tr>\n      <th>00117</th>\n      <td>0.000000</td>\n      <td>0.000000</td>\n      <td>0.0</td>\n      <td>0.0</td>\n      <td>0.0</td>\n      <td>4.0</td>\n      <td>0.0</td>\n      <td>0.0</td>\n      <td>0.0</td>\n      <td>0.0</td>\n      <td>0.0</td>\n      <td>0.0</td>\n      <td>0.0</td>\n      <td>3</td>\n      <td>77.766667</td>\n      <td>0</td>\n      <td>4</td>\n      <td>0.000000</td>\n      <td>0.750000</td>\n    </tr>\n    <tr>\n      <th>001e1</th>\n      <td>-1686.475347</td>\n      <td>328.643503</td>\n      <td>0.0</td>\n      <td>17.0</td>\n      <td>0.0</td>\n      <td>0.0</td>\n      <td>0.0</td>\n      <td>0.0</td>\n      <td>0.0</td>\n      <td>0.0</td>\n      <td>0.0</td>\n      <td>0.0</td>\n      <td>17.0</td>\n      <td>16</td>\n      <td>345.316667</td>\n      <td>0</td>\n      <td>17</td>\n      <td>0.000000</td>\n      <td>0.941176</td>\n    </tr>\n    <tr>\n      <th>00205</th>\n      <td>-1784.841298</td>\n      <td>349.420908</td>\n      <td>0.0</td>\n      <td>18.0</td>\n      <td>0.0</td>\n      <td>1.0</td>\n      <td>0.0</td>\n      <td>0.0</td>\n      <td>2.0</td>\n      <td>0.0</td>\n      <td>0.0</td>\n      <td>0.0</td>\n      <td>18.0</td>\n      <td>1</td>\n      <td>9337.500000</td>\n      <td>6</td>\n      <td>18</td>\n      <td>0.333333</td>\n      <td>0.055556</td>\n    </tr>\n    <tr>\n      <th>0026c</th>\n      <td>-1586.079503</td>\n      <td>311.013728</td>\n      <td>0.0</td>\n      <td>11.0</td>\n      <td>0.0</td>\n      <td>8.0</td>\n      <td>2.0</td>\n      <td>0.0</td>\n      <td>2.0</td>\n      <td>0.0</td>\n      <td>0.0</td>\n      <td>0.0</td>\n      <td>16.0</td>\n      <td>2</td>\n      <td>7689.466667</td>\n      <td>2</td>\n      <td>24</td>\n      <td>0.083333</td>\n      <td>0.083333</td>\n    </tr>\n    <tr>\n      <th>...</th>\n      <td>...</td>\n      <td>...</td>\n      <td>...</td>\n      <td>...</td>\n      <td>...</td>\n      <td>...</td>\n      <td>...</td>\n      <td>...</td>\n      <td>...</td>\n      <td>...</td>\n      <td>...</td>\n      <td>...</td>\n      <td>...</td>\n      <td>...</td>\n      <td>...</td>\n      <td>...</td>\n      <td>...</td>\n      <td>...</td>\n      <td>...</td>\n    </tr>\n    <tr>\n      <th>fff2a</th>\n      <td>-17638.600783</td>\n      <td>3458.458357</td>\n      <td>0.0</td>\n      <td>144.0</td>\n      <td>0.0</td>\n      <td>136.0</td>\n      <td>3.0</td>\n      <td>0.0</td>\n      <td>19.0</td>\n      <td>0.0</td>\n      <td>0.0</td>\n      <td>0.0</td>\n      <td>176.0</td>\n      <td>248</td>\n      <td>7980.416667</td>\n      <td>0</td>\n      <td>302</td>\n      <td>0.000000</td>\n      <td>0.821192</td>\n    </tr>\n    <tr>\n      <th>fff48</th>\n      <td>-3766.492158</td>\n      <td>736.428435</td>\n      <td>5.0</td>\n      <td>27.0</td>\n      <td>0.0</td>\n      <td>2.0</td>\n      <td>3.0</td>\n      <td>0.0</td>\n      <td>0.0</td>\n      <td>0.0</td>\n      <td>0.0</td>\n      <td>0.0</td>\n      <td>38.0</td>\n      <td>23</td>\n      <td>2534.350000</td>\n      <td>1</td>\n      <td>41</td>\n      <td>0.024390</td>\n      <td>0.560976</td>\n    </tr>\n    <tr>\n      <th>fff4d</th>\n      <td>0.000000</td>\n      <td>0.000000</td>\n      <td>0.0</td>\n      <td>0.0</td>\n      <td>0.0</td>\n      <td>8.0</td>\n      <td>0.0</td>\n      <td>0.0</td>\n      <td>0.0</td>\n      <td>0.0</td>\n      <td>0.0</td>\n      <td>0.0</td>\n      <td>0.0</td>\n      <td>4</td>\n      <td>787.550000</td>\n      <td>2</td>\n      <td>8</td>\n      <td>0.250000</td>\n      <td>0.500000</td>\n    </tr>\n    <tr>\n      <th>fff82</th>\n      <td>-8125.727148</td>\n      <td>1588.767232</td>\n      <td>1.0</td>\n      <td>82.0</td>\n      <td>0.0</td>\n      <td>0.0</td>\n      <td>2.0</td>\n      <td>0.0</td>\n      <td>4.0</td>\n      <td>0.0</td>\n      <td>0.0</td>\n      <td>0.0</td>\n      <td>82.0</td>\n      <td>3</td>\n      <td>42681.350000</td>\n      <td>0</td>\n      <td>82</td>\n      <td>0.000000</td>\n      <td>0.036585</td>\n    </tr>\n    <tr>\n      <th>fffef</th>\n      <td>0.000000</td>\n      <td>0.000000</td>\n      <td>0.0</td>\n      <td>0.0</td>\n      <td>0.0</td>\n      <td>3.0</td>\n      <td>0.0</td>\n      <td>0.0</td>\n      <td>0.0</td>\n      <td>0.0</td>\n      <td>0.0</td>\n      <td>0.0</td>\n      <td>0.0</td>\n      <td>1</td>\n      <td>211.500000</td>\n      <td>0</td>\n      <td>3</td>\n      <td>0.000000</td>\n      <td>0.333333</td>\n    </tr>\n  </tbody>\n</table>\n<p>13263 rows × 19 columns</p>\n</div>"
     },
     "metadata": {},
     "execution_count": 13
    }
   ],
   "source": [
    "gpbyuser= active_df.groupby( by= ['user_id'])\n",
    "gpbyuser2=gpbyuser.sum()\n",
    "gpbyuser2['count1'] = gpbyuser.size()\n",
    "gpbyuser2['opened_rate'] = gpbyuser2['opened']/gpbyuser2['count1']\n",
    "gpbyuser2['ontime_activity_rate'] = gpbyuser2[\"notif_viewed_ontime\"]/gpbyuser2['count1']\n",
    "gpbyuser2"
   ]
  },
  {
   "cell_type": "code",
   "execution_count": 14,
   "metadata": {},
   "outputs": [
    {
     "output_type": "execute_result",
     "data": {
      "text/plain": [
       "         area_of_effect_coordinates_latitude  \\\n",
       "user_id                                        \n",
       "00087                           -1684.767232   \n",
       "00117                               0.000000   \n",
       "001e1                           -1686.475347   \n",
       "00205                           -1784.841298   \n",
       "0026c                           -1586.079503   \n",
       "...                                      ...   \n",
       "fff2a                          -17638.600783   \n",
       "fff48                           -3766.492158   \n",
       "fff4d                               0.000000   \n",
       "fff82                           -8125.727148   \n",
       "fffef                               0.000000   \n",
       "\n",
       "         area_of_effect_coordinates_longitude  agency_GewRJAw5tUmC4Ku4AX1-SQ  \\\n",
       "user_id                                                                        \n",
       "00087                              330.804900                            0.0   \n",
       "00117                                0.000000                            0.0   \n",
       "001e1                              328.643503                            0.0   \n",
       "00205                              349.420908                            0.0   \n",
       "0026c                              311.013728                            0.0   \n",
       "...                                       ...                            ...   \n",
       "fff2a                             3458.458357                            0.0   \n",
       "fff48                              736.428435                            5.0   \n",
       "fff4d                                0.000000                            0.0   \n",
       "fff82                             1588.767232                            1.0   \n",
       "fffef                                0.000000                            0.0   \n",
       "\n",
       "         agency_GtvOEQAFZ0GtU6u4AXwvPg  agency_HE59N3RXM0q5vKu4AXlQZg  \\\n",
       "user_id                                                                 \n",
       "00087                              8.0                            0.0   \n",
       "00117                              0.0                            0.0   \n",
       "001e1                             17.0                            0.0   \n",
       "00205                             18.0                            0.0   \n",
       "0026c                             11.0                            0.0   \n",
       "...                                ...                            ...   \n",
       "fff2a                            144.0                            0.0   \n",
       "fff48                             27.0                            0.0   \n",
       "fff4d                              0.0                            0.0   \n",
       "fff82                             82.0                            0.0   \n",
       "fffef                              0.0                            0.0   \n",
       "\n",
       "         agency_JUR9bFXmVkWDHqu4AXaY0g  agency_JfA8Bw8Zp024Kqu4AXiSpQ  \\\n",
       "user_id                                                                 \n",
       "00087                              0.0                            3.0   \n",
       "00117                              4.0                            0.0   \n",
       "001e1                              0.0                            0.0   \n",
       "00205                              1.0                            0.0   \n",
       "0026c                              8.0                            2.0   \n",
       "...                                ...                            ...   \n",
       "fff2a                            136.0                            3.0   \n",
       "fff48                              2.0                            3.0   \n",
       "fff4d                              8.0                            0.0   \n",
       "fff82                              0.0                            2.0   \n",
       "fffef                              3.0                            0.0   \n",
       "\n",
       "         agency_MgUq5b9mOEunx6u4AXt_BA  agency_NuuRQ2I1Q0a50Kv-AVKlLA  \\\n",
       "user_id                                                                 \n",
       "00087                              0.0                            1.0   \n",
       "00117                              0.0                            0.0   \n",
       "001e1                              0.0                            0.0   \n",
       "00205                              0.0                            2.0   \n",
       "0026c                              0.0                            2.0   \n",
       "...                                ...                            ...   \n",
       "fff2a                              0.0                           19.0   \n",
       "fff48                              0.0                            0.0   \n",
       "fff4d                              0.0                            0.0   \n",
       "fff82                              0.0                            4.0   \n",
       "fffef                              0.0                            0.0   \n",
       "\n",
       "         agency_V2AIQQKgmUO3VazvAOA-Cw  agency_jLjibFoim0iwWau4AWoEdQ  \\\n",
       "user_id                                                                 \n",
       "00087                              0.0                            0.0   \n",
       "00117                              0.0                            0.0   \n",
       "001e1                              0.0                            0.0   \n",
       "00205                              0.0                            0.0   \n",
       "0026c                              0.0                            0.0   \n",
       "...                                ...                            ...   \n",
       "fff2a                              0.0                            0.0   \n",
       "fff48                              0.0                            0.0   \n",
       "fff4d                              0.0                            0.0   \n",
       "fff82                              0.0                            0.0   \n",
       "fffef                              0.0                            0.0   \n",
       "\n",
       "         agency_pky7jovXYkaw-awAAMrQ3g  agency_zCy9zG00HEqGeKu4AWZYNQ  \\\n",
       "user_id                                                                 \n",
       "00087                              0.0                           17.0   \n",
       "00117                              0.0                            0.0   \n",
       "001e1                              0.0                           17.0   \n",
       "00205                              0.0                           18.0   \n",
       "0026c                              0.0                           16.0   \n",
       "...                                ...                            ...   \n",
       "fff2a                              0.0                          176.0   \n",
       "fff48                              0.0                           38.0   \n",
       "fff4d                              0.0                            0.0   \n",
       "fff82                              0.0                           82.0   \n",
       "fffef                              0.0                            0.0   \n",
       "\n",
       "         notif_viewed_ontime  reaction_time  opened  count1  opened_rate  \\\n",
       "user_id                                                                    \n",
       "00087                     14     278.766667       0      17     0.000000   \n",
       "00117                      3      77.766667       0       4     0.000000   \n",
       "001e1                     16     345.316667       0      17     0.000000   \n",
       "00205                      1    9337.500000       6      18     0.333333   \n",
       "0026c                      2    7689.466667       2      24     0.083333   \n",
       "...                      ...            ...     ...     ...          ...   \n",
       "fff2a                    248    7980.416667       0     302     0.000000   \n",
       "fff48                     23    2534.350000       1      41     0.024390   \n",
       "fff4d                      4     787.550000       2       8     0.250000   \n",
       "fff82                      3   42681.350000       0      82     0.000000   \n",
       "fffef                      1     211.500000       0       3     0.000000   \n",
       "\n",
       "         ontime_activity_rate  \n",
       "user_id                        \n",
       "00087                0.823529  \n",
       "00117                0.750000  \n",
       "001e1                0.941176  \n",
       "00205                0.055556  \n",
       "0026c                0.083333  \n",
       "...                       ...  \n",
       "fff2a                0.821192  \n",
       "fff48                0.560976  \n",
       "fff4d                0.500000  \n",
       "fff82                0.036585  \n",
       "fffef                0.333333  \n",
       "\n",
       "[10642 rows x 19 columns]"
      ],
      "text/html": "<div>\n<style scoped>\n    .dataframe tbody tr th:only-of-type {\n        vertical-align: middle;\n    }\n\n    .dataframe tbody tr th {\n        vertical-align: top;\n    }\n\n    .dataframe thead th {\n        text-align: right;\n    }\n</style>\n<table border=\"1\" class=\"dataframe\">\n  <thead>\n    <tr style=\"text-align: right;\">\n      <th></th>\n      <th>area_of_effect_coordinates_latitude</th>\n      <th>area_of_effect_coordinates_longitude</th>\n      <th>agency_GewRJAw5tUmC4Ku4AX1-SQ</th>\n      <th>agency_GtvOEQAFZ0GtU6u4AXwvPg</th>\n      <th>agency_HE59N3RXM0q5vKu4AXlQZg</th>\n      <th>agency_JUR9bFXmVkWDHqu4AXaY0g</th>\n      <th>agency_JfA8Bw8Zp024Kqu4AXiSpQ</th>\n      <th>agency_MgUq5b9mOEunx6u4AXt_BA</th>\n      <th>agency_NuuRQ2I1Q0a50Kv-AVKlLA</th>\n      <th>agency_V2AIQQKgmUO3VazvAOA-Cw</th>\n      <th>agency_jLjibFoim0iwWau4AWoEdQ</th>\n      <th>agency_pky7jovXYkaw-awAAMrQ3g</th>\n      <th>agency_zCy9zG00HEqGeKu4AWZYNQ</th>\n      <th>notif_viewed_ontime</th>\n      <th>reaction_time</th>\n      <th>opened</th>\n      <th>count1</th>\n      <th>opened_rate</th>\n      <th>ontime_activity_rate</th>\n    </tr>\n    <tr>\n      <th>user_id</th>\n      <th></th>\n      <th></th>\n      <th></th>\n      <th></th>\n      <th></th>\n      <th></th>\n      <th></th>\n      <th></th>\n      <th></th>\n      <th></th>\n      <th></th>\n      <th></th>\n      <th></th>\n      <th></th>\n      <th></th>\n      <th></th>\n      <th></th>\n      <th></th>\n      <th></th>\n    </tr>\n  </thead>\n  <tbody>\n    <tr>\n      <th>00087</th>\n      <td>-1684.767232</td>\n      <td>330.804900</td>\n      <td>0.0</td>\n      <td>8.0</td>\n      <td>0.0</td>\n      <td>0.0</td>\n      <td>3.0</td>\n      <td>0.0</td>\n      <td>1.0</td>\n      <td>0.0</td>\n      <td>0.0</td>\n      <td>0.0</td>\n      <td>17.0</td>\n      <td>14</td>\n      <td>278.766667</td>\n      <td>0</td>\n      <td>17</td>\n      <td>0.000000</td>\n      <td>0.823529</td>\n    </tr>\n    <tr>\n      <th>00117</th>\n      <td>0.000000</td>\n      <td>0.000000</td>\n      <td>0.0</td>\n      <td>0.0</td>\n      <td>0.0</td>\n      <td>4.0</td>\n      <td>0.0</td>\n      <td>0.0</td>\n      <td>0.0</td>\n      <td>0.0</td>\n      <td>0.0</td>\n      <td>0.0</td>\n      <td>0.0</td>\n      <td>3</td>\n      <td>77.766667</td>\n      <td>0</td>\n      <td>4</td>\n      <td>0.000000</td>\n      <td>0.750000</td>\n    </tr>\n    <tr>\n      <th>001e1</th>\n      <td>-1686.475347</td>\n      <td>328.643503</td>\n      <td>0.0</td>\n      <td>17.0</td>\n      <td>0.0</td>\n      <td>0.0</td>\n      <td>0.0</td>\n      <td>0.0</td>\n      <td>0.0</td>\n      <td>0.0</td>\n      <td>0.0</td>\n      <td>0.0</td>\n      <td>17.0</td>\n      <td>16</td>\n      <td>345.316667</td>\n      <td>0</td>\n      <td>17</td>\n      <td>0.000000</td>\n      <td>0.941176</td>\n    </tr>\n    <tr>\n      <th>00205</th>\n      <td>-1784.841298</td>\n      <td>349.420908</td>\n      <td>0.0</td>\n      <td>18.0</td>\n      <td>0.0</td>\n      <td>1.0</td>\n      <td>0.0</td>\n      <td>0.0</td>\n      <td>2.0</td>\n      <td>0.0</td>\n      <td>0.0</td>\n      <td>0.0</td>\n      <td>18.0</td>\n      <td>1</td>\n      <td>9337.500000</td>\n      <td>6</td>\n      <td>18</td>\n      <td>0.333333</td>\n      <td>0.055556</td>\n    </tr>\n    <tr>\n      <th>0026c</th>\n      <td>-1586.079503</td>\n      <td>311.013728</td>\n      <td>0.0</td>\n      <td>11.0</td>\n      <td>0.0</td>\n      <td>8.0</td>\n      <td>2.0</td>\n      <td>0.0</td>\n      <td>2.0</td>\n      <td>0.0</td>\n      <td>0.0</td>\n      <td>0.0</td>\n      <td>16.0</td>\n      <td>2</td>\n      <td>7689.466667</td>\n      <td>2</td>\n      <td>24</td>\n      <td>0.083333</td>\n      <td>0.083333</td>\n    </tr>\n    <tr>\n      <th>...</th>\n      <td>...</td>\n      <td>...</td>\n      <td>...</td>\n      <td>...</td>\n      <td>...</td>\n      <td>...</td>\n      <td>...</td>\n      <td>...</td>\n      <td>...</td>\n      <td>...</td>\n      <td>...</td>\n      <td>...</td>\n      <td>...</td>\n      <td>...</td>\n      <td>...</td>\n      <td>...</td>\n      <td>...</td>\n      <td>...</td>\n      <td>...</td>\n    </tr>\n    <tr>\n      <th>fff2a</th>\n      <td>-17638.600783</td>\n      <td>3458.458357</td>\n      <td>0.0</td>\n      <td>144.0</td>\n      <td>0.0</td>\n      <td>136.0</td>\n      <td>3.0</td>\n      <td>0.0</td>\n      <td>19.0</td>\n      <td>0.0</td>\n      <td>0.0</td>\n      <td>0.0</td>\n      <td>176.0</td>\n      <td>248</td>\n      <td>7980.416667</td>\n      <td>0</td>\n      <td>302</td>\n      <td>0.000000</td>\n      <td>0.821192</td>\n    </tr>\n    <tr>\n      <th>fff48</th>\n      <td>-3766.492158</td>\n      <td>736.428435</td>\n      <td>5.0</td>\n      <td>27.0</td>\n      <td>0.0</td>\n      <td>2.0</td>\n      <td>3.0</td>\n      <td>0.0</td>\n      <td>0.0</td>\n      <td>0.0</td>\n      <td>0.0</td>\n      <td>0.0</td>\n      <td>38.0</td>\n      <td>23</td>\n      <td>2534.350000</td>\n      <td>1</td>\n      <td>41</td>\n      <td>0.024390</td>\n      <td>0.560976</td>\n    </tr>\n    <tr>\n      <th>fff4d</th>\n      <td>0.000000</td>\n      <td>0.000000</td>\n      <td>0.0</td>\n      <td>0.0</td>\n      <td>0.0</td>\n      <td>8.0</td>\n      <td>0.0</td>\n      <td>0.0</td>\n      <td>0.0</td>\n      <td>0.0</td>\n      <td>0.0</td>\n      <td>0.0</td>\n      <td>0.0</td>\n      <td>4</td>\n      <td>787.550000</td>\n      <td>2</td>\n      <td>8</td>\n      <td>0.250000</td>\n      <td>0.500000</td>\n    </tr>\n    <tr>\n      <th>fff82</th>\n      <td>-8125.727148</td>\n      <td>1588.767232</td>\n      <td>1.0</td>\n      <td>82.0</td>\n      <td>0.0</td>\n      <td>0.0</td>\n      <td>2.0</td>\n      <td>0.0</td>\n      <td>4.0</td>\n      <td>0.0</td>\n      <td>0.0</td>\n      <td>0.0</td>\n      <td>82.0</td>\n      <td>3</td>\n      <td>42681.350000</td>\n      <td>0</td>\n      <td>82</td>\n      <td>0.000000</td>\n      <td>0.036585</td>\n    </tr>\n    <tr>\n      <th>fffef</th>\n      <td>0.000000</td>\n      <td>0.000000</td>\n      <td>0.0</td>\n      <td>0.0</td>\n      <td>0.0</td>\n      <td>3.0</td>\n      <td>0.0</td>\n      <td>0.0</td>\n      <td>0.0</td>\n      <td>0.0</td>\n      <td>0.0</td>\n      <td>0.0</td>\n      <td>0.0</td>\n      <td>1</td>\n      <td>211.500000</td>\n      <td>0</td>\n      <td>3</td>\n      <td>0.000000</td>\n      <td>0.333333</td>\n    </tr>\n  </tbody>\n</table>\n<p>10642 rows × 19 columns</p>\n</div>"
     },
     "metadata": {},
     "execution_count": 14
    }
   ],
   "source": [
    "gpbyuser2.drop(gpbyuser2[gpbyuser2['count1'] <3 ].index, inplace=True  )\n",
    "real_users=gpbyuser2.index.tolist()\n",
    "real_users\n",
    "gpbyuser2"
   ]
  },
  {
   "cell_type": "code",
   "execution_count": 15,
   "metadata": {},
   "outputs": [
    {
     "output_type": "execute_result",
     "data": {
      "text/plain": [
       "10642"
      ]
     },
     "metadata": {},
     "execution_count": 15
    }
   ],
   "source": [
    "real_users=gpbyuser2.index.tolist()\n",
    "len(real_users)"
   ]
  },
  {
   "cell_type": "code",
   "execution_count": 16,
   "metadata": {},
   "outputs": [],
   "source": [
    "active_df=active_df[active_df['user_id'].isin(real_users)]"
   ]
  },
  {
   "cell_type": "code",
   "execution_count": 17,
   "metadata": {},
   "outputs": [
    {
     "output_type": "execute_result",
     "data": {
      "text/plain": [
       "10642"
      ]
     },
     "metadata": {},
     "execution_count": 17
    }
   ],
   "source": [
    "active_df.user_id.nunique()"
   ]
  },
  {
   "cell_type": "code",
   "execution_count": 25,
   "metadata": {},
   "outputs": [],
   "source": [
    "gpbyincident= active_df.groupby( by= ['document_id', 'description','cause', 'effect'])\n",
    "gpbyincident2=gpbyincident.sum()\n",
    "gpbyincident2['count1'] = gpbyincident.size()\n",
    "gpbyincident2['opened_rate'] = gpbyincident2['opened']/gpbyincident2['count1']\n",
    "gpbyincident2['ontime_activity_rate'] = gpbyincident2[\"notif_viewed_ontime\"]/gpbyincident2['count1']\n",
    "\n",
    "\n"
   ]
  },
  {
   "cell_type": "code",
   "execution_count": 23,
   "metadata": {},
   "outputs": [],
   "source": [
    "gpbycause= active_df.groupby( by= ['cause'])\n",
    "gpbycause2=gpbycause.sum()\n",
    "gpbycause2['count1'] = gpbycause.size()\n",
    "gpbycause2['opened_rate'] = gpbycause2['opened']/gpbycause2['count1']\n",
    "gpbycause2['ontime_activity_rate'] = gpbycause2[\"notif_viewed_ontime\"]/gpbycause2['count1']\n",
    "\n"
   ]
  },
  {
   "cell_type": "code",
   "execution_count": 24,
   "metadata": {},
   "outputs": [
    {
     "output_type": "display_data",
     "data": {
      "text/plain": "<Figure size 1120x960 with 1 Axes>",
      "image/svg+xml": "<?xml version=\"1.0\" encoding=\"utf-8\" standalone=\"no\"?>\n<!DOCTYPE svg PUBLIC \"-//W3C//DTD SVG 1.1//EN\"\n  \"http://www.w3.org/Graphics/SVG/1.1/DTD/svg11.dtd\">\n<!-- Created with matplotlib (https://matplotlib.org/) -->\n<svg height=\"697.354375pt\" version=\"1.1\" viewBox=\"0 0 829.003125 697.354375\" width=\"829.003125pt\" xmlns=\"http://www.w3.org/2000/svg\" xmlns:xlink=\"http://www.w3.org/1999/xlink\">\n <metadata>\n  <rdf:RDF xmlns:cc=\"http://creativecommons.org/ns#\" xmlns:dc=\"http://purl.org/dc/elements/1.1/\" xmlns:rdf=\"http://www.w3.org/1999/02/22-rdf-syntax-ns#\">\n   <cc:Work>\n    <dc:type rdf:resource=\"http://purl.org/dc/dcmitype/StillImage\"/>\n    <dc:date>2021-07-16T14:52:38.177005</dc:date>\n    <dc:format>image/svg+xml</dc:format>\n    <dc:creator>\n     <cc:Agent>\n      <dc:title>Matplotlib v3.3.4, https://matplotlib.org/</dc:title>\n     </cc:Agent>\n    </dc:creator>\n   </cc:Work>\n  </rdf:RDF>\n </metadata>\n <defs>\n  <style type=\"text/css\">*{stroke-linecap:butt;stroke-linejoin:round;}</style>\n </defs>\n <g id=\"figure_1\">\n  <g id=\"patch_1\">\n   <path d=\"M 0 697.354375 \nL 829.003125 697.354375 \nL 829.003125 -0 \nL 0 -0 \nz\n\" style=\"fill:none;\"/>\n  </g>\n  <g id=\"axes_1\">\n   <g id=\"patch_2\">\n    <path d=\"M 40.603125 659.52 \nL 821.803125 659.52 \nL 821.803125 7.2 \nL 40.603125 7.2 \nz\n\" style=\"fill:#ffffff;\"/>\n   </g>\n   <g id=\"patch_3\">\n    <path clip-path=\"url(#p75aac4bee4)\" d=\"M 76.112216 659.52 \nL 83.214034 659.52 \nL 83.214034 38.262857 \nL 76.112216 38.262857 \nz\n\" style=\"fill:#1f77b4;\"/>\n   </g>\n   <g id=\"patch_4\">\n    <path clip-path=\"url(#p75aac4bee4)\" d=\"M 83.214034 659.52 \nL 90.315852 659.52 \nL 90.315852 567.338746 \nL 83.214034 567.338746 \nz\n\" style=\"fill:#1f77b4;\"/>\n   </g>\n   <g id=\"patch_5\">\n    <path clip-path=\"url(#p75aac4bee4)\" d=\"M 90.315852 659.52 \nL 97.41767 659.52 \nL 97.41767 592.755941 \nL 90.315852 592.755941 \nz\n\" style=\"fill:#1f77b4;\"/>\n   </g>\n   <g id=\"patch_6\">\n    <path clip-path=\"url(#p75aac4bee4)\" d=\"M 97.41767 659.52 \nL 104.519489 659.52 \nL 104.519489 611.613859 \nL 97.41767 611.613859 \nz\n\" style=\"fill:#1f77b4;\"/>\n   </g>\n   <g id=\"patch_7\">\n    <path clip-path=\"url(#p75aac4bee4)\" d=\"M 104.519489 659.52 \nL 111.621307 659.52 \nL 111.621307 623.092592 \nL 104.519489 623.092592 \nz\n\" style=\"fill:#1f77b4;\"/>\n   </g>\n   <g id=\"patch_8\">\n    <path clip-path=\"url(#p75aac4bee4)\" d=\"M 111.621307 659.52 \nL 118.723125 659.52 \nL 118.723125 628.012049 \nL 111.621307 628.012049 \nz\n\" style=\"fill:#1f77b4;\"/>\n   </g>\n   <g id=\"patch_9\">\n    <path clip-path=\"url(#p75aac4bee4)\" d=\"M 118.723125 659.52 \nL 125.824943 659.52 \nL 125.824943 634.805585 \nL 118.723125 634.805585 \nz\n\" style=\"fill:#1f77b4;\"/>\n   </g>\n   <g id=\"patch_10\">\n    <path clip-path=\"url(#p75aac4bee4)\" d=\"M 125.824943 659.52 \nL 132.926761 659.52 \nL 132.926761 638.436613 \nL 125.824943 638.436613 \nz\n\" style=\"fill:#1f77b4;\"/>\n   </g>\n   <g id=\"patch_11\">\n    <path clip-path=\"url(#p75aac4bee4)\" d=\"M 132.926761 659.52 \nL 140.02858 659.52 \nL 140.02858 641.247731 \nL 132.926761 641.247731 \nz\n\" style=\"fill:#1f77b4;\"/>\n   </g>\n   <g id=\"patch_12\">\n    <path clip-path=\"url(#p75aac4bee4)\" d=\"M 140.02858 659.52 \nL 147.130398 659.52 \nL 147.130398 647.338487 \nL 140.02858 647.338487 \nz\n\" style=\"fill:#1f77b4;\"/>\n   </g>\n   <g id=\"patch_13\">\n    <path clip-path=\"url(#p75aac4bee4)\" d=\"M 147.130398 659.52 \nL 154.232216 659.52 \nL 154.232216 643.35607 \nL 147.130398 643.35607 \nz\n\" style=\"fill:#1f77b4;\"/>\n   </g>\n   <g id=\"patch_14\">\n    <path clip-path=\"url(#p75aac4bee4)\" d=\"M 154.232216 659.52 \nL 161.334034 659.52 \nL 161.334034 645.698668 \nL 154.232216 645.698668 \nz\n\" style=\"fill:#1f77b4;\"/>\n   </g>\n   <g id=\"patch_15\">\n    <path clip-path=\"url(#p75aac4bee4)\" d=\"M 161.334034 659.52 \nL 168.435852 659.52 \nL 168.435852 644.058849 \nL 161.334034 644.058849 \nz\n\" style=\"fill:#1f77b4;\"/>\n   </g>\n   <g id=\"patch_16\">\n    <path clip-path=\"url(#p75aac4bee4)\" d=\"M 168.435852 659.52 \nL 175.53767 659.52 \nL 175.53767 651.906555 \nL 168.435852 651.906555 \nz\n\" style=\"fill:#1f77b4;\"/>\n   </g>\n   <g id=\"patch_17\">\n    <path clip-path=\"url(#p75aac4bee4)\" d=\"M 175.53767 659.52 \nL 182.639489 659.52 \nL 182.639489 645.230149 \nL 175.53767 645.230149 \nz\n\" style=\"fill:#1f77b4;\"/>\n   </g>\n   <g id=\"patch_18\">\n    <path clip-path=\"url(#p75aac4bee4)\" d=\"M 182.639489 659.52 \nL 189.741307 659.52 \nL 189.741307 654.366283 \nL 182.639489 654.366283 \nz\n\" style=\"fill:#1f77b4;\"/>\n   </g>\n   <g id=\"patch_19\">\n    <path clip-path=\"url(#p75aac4bee4)\" d=\"M 189.741307 659.52 \nL 196.843125 659.52 \nL 196.843125 642.067641 \nL 189.741307 642.067641 \nz\n\" style=\"fill:#1f77b4;\"/>\n   </g>\n   <g id=\"patch_20\">\n    <path clip-path=\"url(#p75aac4bee4)\" d=\"M 196.843125 659.52 \nL 203.944943 659.52 \nL 203.944943 655.888972 \nL 196.843125 655.888972 \nz\n\" style=\"fill:#1f77b4;\"/>\n   </g>\n   <g id=\"patch_21\">\n    <path clip-path=\"url(#p75aac4bee4)\" d=\"M 203.944943 659.52 \nL 211.046761 659.52 \nL 211.046761 652.609334 \nL 203.944943 652.609334 \nz\n\" style=\"fill:#1f77b4;\"/>\n   </g>\n   <g id=\"patch_22\">\n    <path clip-path=\"url(#p75aac4bee4)\" d=\"M 211.046761 659.52 \nL 218.14858 659.52 \nL 218.14858 656.943142 \nL 211.046761 656.943142 \nz\n\" style=\"fill:#1f77b4;\"/>\n   </g>\n   <g id=\"patch_23\">\n    <path clip-path=\"url(#p75aac4bee4)\" d=\"M 218.14858 659.52 \nL 225.250398 659.52 \nL 225.250398 641.013471 \nL 218.14858 641.013471 \nz\n\" style=\"fill:#1f77b4;\"/>\n   </g>\n   <g id=\"patch_24\">\n    <path clip-path=\"url(#p75aac4bee4)\" d=\"M 225.250398 659.52 \nL 232.352216 659.52 \nL 232.352216 655.888972 \nL 225.250398 655.888972 \nz\n\" style=\"fill:#1f77b4;\"/>\n   </g>\n   <g id=\"patch_25\">\n    <path clip-path=\"url(#p75aac4bee4)\" d=\"M 232.352216 659.52 \nL 239.454034 659.52 \nL 239.454034 654.951933 \nL 232.352216 654.951933 \nz\n\" style=\"fill:#1f77b4;\"/>\n   </g>\n   <g id=\"patch_26\">\n    <path clip-path=\"url(#p75aac4bee4)\" d=\"M 239.454034 659.52 \nL 246.555852 659.52 \nL 246.555852 656.591752 \nL 239.454034 656.591752 \nz\n\" style=\"fill:#1f77b4;\"/>\n   </g>\n   <g id=\"patch_27\">\n    <path clip-path=\"url(#p75aac4bee4)\" d=\"M 246.555852 659.52 \nL 253.65767 659.52 \nL 253.65767 658.348701 \nL 246.555852 658.348701 \nz\n\" style=\"fill:#1f77b4;\"/>\n   </g>\n   <g id=\"patch_28\">\n    <path clip-path=\"url(#p75aac4bee4)\" d=\"M 253.65767 659.52 \nL 260.759489 659.52 \nL 260.759489 639.725042 \nL 253.65767 639.725042 \nz\n\" style=\"fill:#1f77b4;\"/>\n   </g>\n   <g id=\"patch_29\">\n    <path clip-path=\"url(#p75aac4bee4)\" d=\"M 260.759489 659.52 \nL 267.861307 659.52 \nL 267.861307 658.114441 \nL 260.759489 658.114441 \nz\n\" style=\"fill:#1f77b4;\"/>\n   </g>\n   <g id=\"patch_30\">\n    <path clip-path=\"url(#p75aac4bee4)\" d=\"M 267.861307 659.52 \nL 274.963125 659.52 \nL 274.963125 656.474622 \nL 267.861307 656.474622 \nz\n\" style=\"fill:#1f77b4;\"/>\n   </g>\n   <g id=\"patch_31\">\n    <path clip-path=\"url(#p75aac4bee4)\" d=\"M 274.963125 659.52 \nL 282.064943 659.52 \nL 282.064943 654.366283 \nL 274.963125 654.366283 \nz\n\" style=\"fill:#1f77b4;\"/>\n   </g>\n   <g id=\"patch_32\">\n    <path clip-path=\"url(#p75aac4bee4)\" d=\"M 282.064943 659.52 \nL 289.166761 659.52 \nL 289.166761 658.582961 \nL 282.064943 658.582961 \nz\n\" style=\"fill:#1f77b4;\"/>\n   </g>\n   <g id=\"patch_33\">\n    <path clip-path=\"url(#p75aac4bee4)\" d=\"M 289.166761 659.52 \nL 296.26858 659.52 \nL 296.26858 657.528791 \nL 289.166761 657.528791 \nz\n\" style=\"fill:#1f77b4;\"/>\n   </g>\n   <g id=\"patch_34\">\n    <path clip-path=\"url(#p75aac4bee4)\" d=\"M 296.26858 659.52 \nL 303.370398 659.52 \nL 303.370398 658.348701 \nL 296.26858 658.348701 \nz\n\" style=\"fill:#1f77b4;\"/>\n   </g>\n   <g id=\"patch_35\">\n    <path clip-path=\"url(#p75aac4bee4)\" d=\"M 303.370398 659.52 \nL 310.472216 659.52 \nL 310.472216 658.582961 \nL 303.370398 658.582961 \nz\n\" style=\"fill:#1f77b4;\"/>\n   </g>\n   <g id=\"patch_36\">\n    <path clip-path=\"url(#p75aac4bee4)\" d=\"M 310.472216 659.52 \nL 317.574034 659.52 \nL 317.574034 638.788003 \nL 310.472216 638.788003 \nz\n\" style=\"fill:#1f77b4;\"/>\n   </g>\n   <g id=\"patch_37\">\n    <path clip-path=\"url(#p75aac4bee4)\" d=\"M 317.574034 659.52 \nL 324.675852 659.52 \nL 324.675852 658.93435 \nL 317.574034 658.93435 \nz\n\" style=\"fill:#1f77b4;\"/>\n   </g>\n   <g id=\"patch_38\">\n    <path clip-path=\"url(#p75aac4bee4)\" d=\"M 324.675852 659.52 \nL 331.77767 659.52 \nL 331.77767 658.465831 \nL 324.675852 658.465831 \nz\n\" style=\"fill:#1f77b4;\"/>\n   </g>\n   <g id=\"patch_39\">\n    <path clip-path=\"url(#p75aac4bee4)\" d=\"M 331.77767 659.52 \nL 338.879489 659.52 \nL 338.879489 657.763051 \nL 331.77767 657.763051 \nz\n\" style=\"fill:#1f77b4;\"/>\n   </g>\n   <g id=\"patch_40\">\n    <path clip-path=\"url(#p75aac4bee4)\" d=\"M 338.879489 659.52 \nL 345.981307 659.52 \nL 345.981307 657.411661 \nL 338.879489 657.411661 \nz\n\" style=\"fill:#1f77b4;\"/>\n   </g>\n   <g id=\"patch_41\">\n    <path clip-path=\"url(#p75aac4bee4)\" d=\"M 345.981307 659.52 \nL 353.083125 659.52 \nL 353.083125 658.81722 \nL 345.981307 658.81722 \nz\n\" style=\"fill:#1f77b4;\"/>\n   </g>\n   <g id=\"patch_42\">\n    <path clip-path=\"url(#p75aac4bee4)\" d=\"M 353.083125 659.52 \nL 360.184943 659.52 \nL 360.184943 659.05148 \nL 353.083125 659.05148 \nz\n\" style=\"fill:#1f77b4;\"/>\n   </g>\n   <g id=\"patch_43\">\n    <path clip-path=\"url(#p75aac4bee4)\" d=\"M 360.184943 659.52 \nL 367.286761 659.52 \nL 367.286761 654.834803 \nL 360.184943 654.834803 \nz\n\" style=\"fill:#1f77b4;\"/>\n   </g>\n   <g id=\"patch_44\">\n    <path clip-path=\"url(#p75aac4bee4)\" d=\"M 367.286761 659.52 \nL 374.38858 659.52 \nL 374.38858 658.81722 \nL 367.286761 658.81722 \nz\n\" style=\"fill:#1f77b4;\"/>\n   </g>\n   <g id=\"patch_45\">\n    <path clip-path=\"url(#p75aac4bee4)\" d=\"M 374.38858 659.52 \nL 381.490398 659.52 \nL 381.490398 656.943142 \nL 374.38858 656.943142 \nz\n\" style=\"fill:#1f77b4;\"/>\n   </g>\n   <g id=\"patch_46\">\n    <path clip-path=\"url(#p75aac4bee4)\" d=\"M 381.490398 659.52 \nL 388.592216 659.52 \nL 388.592216 659.05148 \nL 381.490398 659.05148 \nz\n\" style=\"fill:#1f77b4;\"/>\n   </g>\n   <g id=\"patch_47\">\n    <path clip-path=\"url(#p75aac4bee4)\" d=\"M 388.592216 659.52 \nL 395.694034 659.52 \nL 395.694034 658.70009 \nL 388.592216 658.70009 \nz\n\" style=\"fill:#1f77b4;\"/>\n   </g>\n   <g id=\"patch_48\">\n    <path clip-path=\"url(#p75aac4bee4)\" d=\"M 395.694034 659.52 \nL 402.795852 659.52 \nL 402.795852 658.465831 \nL 395.694034 658.465831 \nz\n\" style=\"fill:#1f77b4;\"/>\n   </g>\n   <g id=\"patch_49\">\n    <path clip-path=\"url(#p75aac4bee4)\" d=\"M 402.795852 659.52 \nL 409.89767 659.52 \nL 409.89767 658.582961 \nL 402.795852 658.582961 \nz\n\" style=\"fill:#1f77b4;\"/>\n   </g>\n   <g id=\"patch_50\">\n    <path clip-path=\"url(#p75aac4bee4)\" d=\"M 409.89767 659.52 \nL 416.999489 659.52 \nL 416.999489 659.16861 \nL 409.89767 659.16861 \nz\n\" style=\"fill:#1f77b4;\"/>\n   </g>\n   <g id=\"patch_51\">\n    <path clip-path=\"url(#p75aac4bee4)\" d=\"M 416.999489 659.52 \nL 424.101307 659.52 \nL 424.101307 658.81722 \nL 416.999489 658.81722 \nz\n\" style=\"fill:#1f77b4;\"/>\n   </g>\n   <g id=\"patch_52\">\n    <path clip-path=\"url(#p75aac4bee4)\" d=\"M 424.101307 659.52 \nL 431.203125 659.52 \nL 431.203125 659.16861 \nL 424.101307 659.16861 \nz\n\" style=\"fill:#1f77b4;\"/>\n   </g>\n   <g id=\"patch_53\">\n    <path clip-path=\"url(#p75aac4bee4)\" d=\"M 431.203125 659.52 \nL 438.304943 659.52 \nL 438.304943 649.095436 \nL 431.203125 649.095436 \nz\n\" style=\"fill:#1f77b4;\"/>\n   </g>\n   <g id=\"patch_54\">\n    <path clip-path=\"url(#p75aac4bee4)\" d=\"M 438.304943 659.52 \nL 445.406761 659.52 \nL 445.406761 659.28574 \nL 438.304943 659.28574 \nz\n\" style=\"fill:#1f77b4;\"/>\n   </g>\n   <g id=\"patch_55\">\n    <path clip-path=\"url(#p75aac4bee4)\" d=\"M 445.406761 659.52 \nL 452.50858 659.52 \nL 452.50858 658.93435 \nL 445.406761 658.93435 \nz\n\" style=\"fill:#1f77b4;\"/>\n   </g>\n   <g id=\"patch_56\">\n    <path clip-path=\"url(#p75aac4bee4)\" d=\"M 452.50858 659.52 \nL 459.610398 659.52 \nL 459.610398 659.28574 \nL 452.50858 659.28574 \nz\n\" style=\"fill:#1f77b4;\"/>\n   </g>\n   <g id=\"patch_57\">\n    <path clip-path=\"url(#p75aac4bee4)\" d=\"M 459.610398 659.52 \nL 466.712216 659.52 \nL 466.712216 659.05148 \nL 459.610398 659.05148 \nz\n\" style=\"fill:#1f77b4;\"/>\n   </g>\n   <g id=\"patch_58\">\n    <path clip-path=\"url(#p75aac4bee4)\" d=\"M 466.712216 659.52 \nL 473.814034 659.52 \nL 473.814034 658.93435 \nL 466.712216 658.93435 \nz\n\" style=\"fill:#1f77b4;\"/>\n   </g>\n   <g id=\"patch_59\">\n    <path clip-path=\"url(#p75aac4bee4)\" d=\"M 473.814034 659.52 \nL 480.915852 659.52 \nL 480.915852 658.93435 \nL 473.814034 658.93435 \nz\n\" style=\"fill:#1f77b4;\"/>\n   </g>\n   <g id=\"patch_60\">\n    <path clip-path=\"url(#p75aac4bee4)\" d=\"M 480.915852 659.52 \nL 488.01767 659.52 \nL 488.01767 658.465831 \nL 480.915852 658.465831 \nz\n\" style=\"fill:#1f77b4;\"/>\n   </g>\n   <g id=\"patch_61\">\n    <path clip-path=\"url(#p75aac4bee4)\" d=\"M 488.01767 659.52 \nL 495.119489 659.52 \nL 495.119489 659.16861 \nL 488.01767 659.16861 \nz\n\" style=\"fill:#1f77b4;\"/>\n   </g>\n   <g id=\"patch_62\">\n    <path clip-path=\"url(#p75aac4bee4)\" d=\"M 495.119489 659.52 \nL 502.221307 659.52 \nL 502.221307 659.52 \nL 495.119489 659.52 \nz\n\" style=\"fill:#1f77b4;\"/>\n   </g>\n   <g id=\"patch_63\">\n    <path clip-path=\"url(#p75aac4bee4)\" d=\"M 502.221307 659.52 \nL 509.323125 659.52 \nL 509.323125 657.411661 \nL 502.221307 657.411661 \nz\n\" style=\"fill:#1f77b4;\"/>\n   </g>\n   <g id=\"patch_64\">\n    <path clip-path=\"url(#p75aac4bee4)\" d=\"M 509.323125 659.52 \nL 516.424943 659.52 \nL 516.424943 658.93435 \nL 509.323125 658.93435 \nz\n\" style=\"fill:#1f77b4;\"/>\n   </g>\n   <g id=\"patch_65\">\n    <path clip-path=\"url(#p75aac4bee4)\" d=\"M 516.424943 659.52 \nL 523.526761 659.52 \nL 523.526761 658.81722 \nL 516.424943 658.81722 \nz\n\" style=\"fill:#1f77b4;\"/>\n   </g>\n   <g id=\"patch_66\">\n    <path clip-path=\"url(#p75aac4bee4)\" d=\"M 523.526761 659.52 \nL 530.62858 659.52 \nL 530.62858 659.16861 \nL 523.526761 659.16861 \nz\n\" style=\"fill:#1f77b4;\"/>\n   </g>\n   <g id=\"patch_67\">\n    <path clip-path=\"url(#p75aac4bee4)\" d=\"M 530.62858 659.52 \nL 537.730398 659.52 \nL 537.730398 659.28574 \nL 530.62858 659.28574 \nz\n\" style=\"fill:#1f77b4;\"/>\n   </g>\n   <g id=\"patch_68\">\n    <path clip-path=\"url(#p75aac4bee4)\" d=\"M 537.730398 659.52 \nL 544.832216 659.52 \nL 544.832216 659.40287 \nL 537.730398 659.40287 \nz\n\" style=\"fill:#1f77b4;\"/>\n   </g>\n   <g id=\"patch_69\">\n    <path clip-path=\"url(#p75aac4bee4)\" d=\"M 544.832216 659.52 \nL 551.934034 659.52 \nL 551.934034 652.726464 \nL 544.832216 652.726464 \nz\n\" style=\"fill:#1f77b4;\"/>\n   </g>\n   <g id=\"patch_70\">\n    <path clip-path=\"url(#p75aac4bee4)\" d=\"M 551.934034 659.52 \nL 559.035852 659.52 \nL 559.035852 659.28574 \nL 551.934034 659.28574 \nz\n\" style=\"fill:#1f77b4;\"/>\n   </g>\n   <g id=\"patch_71\">\n    <path clip-path=\"url(#p75aac4bee4)\" d=\"M 559.035852 659.52 \nL 566.13767 659.52 \nL 566.13767 659.28574 \nL 559.035852 659.28574 \nz\n\" style=\"fill:#1f77b4;\"/>\n   </g>\n   <g id=\"patch_72\">\n    <path clip-path=\"url(#p75aac4bee4)\" d=\"M 566.13767 659.52 \nL 573.239489 659.52 \nL 573.239489 658.93435 \nL 566.13767 658.93435 \nz\n\" style=\"fill:#1f77b4;\"/>\n   </g>\n   <g id=\"patch_73\">\n    <path clip-path=\"url(#p75aac4bee4)\" d=\"M 573.239489 659.52 \nL 580.341307 659.52 \nL 580.341307 659.52 \nL 573.239489 659.52 \nz\n\" style=\"fill:#1f77b4;\"/>\n   </g>\n   <g id=\"patch_74\">\n    <path clip-path=\"url(#p75aac4bee4)\" d=\"M 580.341307 659.52 \nL 587.443125 659.52 \nL 587.443125 658.81722 \nL 580.341307 658.81722 \nz\n\" style=\"fill:#1f77b4;\"/>\n   </g>\n   <g id=\"patch_75\">\n    <path clip-path=\"url(#p75aac4bee4)\" d=\"M 587.443125 659.52 \nL 594.544943 659.52 \nL 594.544943 659.28574 \nL 587.443125 659.28574 \nz\n\" style=\"fill:#1f77b4;\"/>\n   </g>\n   <g id=\"patch_76\">\n    <path clip-path=\"url(#p75aac4bee4)\" d=\"M 594.544943 659.52 \nL 601.646761 659.52 \nL 601.646761 659.16861 \nL 594.544943 659.16861 \nz\n\" style=\"fill:#1f77b4;\"/>\n   </g>\n   <g id=\"patch_77\">\n    <path clip-path=\"url(#p75aac4bee4)\" d=\"M 601.646761 659.52 \nL 608.74858 659.52 \nL 608.74858 659.16861 \nL 601.646761 659.16861 \nz\n\" style=\"fill:#1f77b4;\"/>\n   </g>\n   <g id=\"patch_78\">\n    <path clip-path=\"url(#p75aac4bee4)\" d=\"M 608.74858 659.52 \nL 615.850398 659.52 \nL 615.850398 657.411661 \nL 608.74858 657.411661 \nz\n\" style=\"fill:#1f77b4;\"/>\n   </g>\n   <g id=\"patch_79\">\n    <path clip-path=\"url(#p75aac4bee4)\" d=\"M 615.850398 659.52 \nL 622.952216 659.52 \nL 622.952216 659.40287 \nL 615.850398 659.40287 \nz\n\" style=\"fill:#1f77b4;\"/>\n   </g>\n   <g id=\"patch_80\">\n    <path clip-path=\"url(#p75aac4bee4)\" d=\"M 622.952216 659.52 \nL 630.054034 659.52 \nL 630.054034 658.70009 \nL 622.952216 658.70009 \nz\n\" style=\"fill:#1f77b4;\"/>\n   </g>\n   <g id=\"patch_81\">\n    <path clip-path=\"url(#p75aac4bee4)\" d=\"M 630.054034 659.52 \nL 637.155852 659.52 \nL 637.155852 659.16861 \nL 630.054034 659.16861 \nz\n\" style=\"fill:#1f77b4;\"/>\n   </g>\n   <g id=\"patch_82\">\n    <path clip-path=\"url(#p75aac4bee4)\" d=\"M 637.155852 659.52 \nL 644.25767 659.52 \nL 644.25767 659.52 \nL 637.155852 659.52 \nz\n\" style=\"fill:#1f77b4;\"/>\n   </g>\n   <g id=\"patch_83\">\n    <path clip-path=\"url(#p75aac4bee4)\" d=\"M 644.25767 659.52 \nL 651.359489 659.52 \nL 651.359489 658.70009 \nL 644.25767 658.70009 \nz\n\" style=\"fill:#1f77b4;\"/>\n   </g>\n   <g id=\"patch_84\">\n    <path clip-path=\"url(#p75aac4bee4)\" d=\"M 651.359489 659.52 \nL 658.461307 659.52 \nL 658.461307 659.40287 \nL 651.359489 659.40287 \nz\n\" style=\"fill:#1f77b4;\"/>\n   </g>\n   <g id=\"patch_85\">\n    <path clip-path=\"url(#p75aac4bee4)\" d=\"M 658.461307 659.52 \nL 665.563125 659.52 \nL 665.563125 659.52 \nL 658.461307 659.52 \nz\n\" style=\"fill:#1f77b4;\"/>\n   </g>\n   <g id=\"patch_86\">\n    <path clip-path=\"url(#p75aac4bee4)\" d=\"M 665.563125 659.52 \nL 672.664943 659.52 \nL 672.664943 658.465831 \nL 665.563125 658.465831 \nz\n\" style=\"fill:#1f77b4;\"/>\n   </g>\n   <g id=\"patch_87\">\n    <path clip-path=\"url(#p75aac4bee4)\" d=\"M 672.664943 659.52 \nL 679.766761 659.52 \nL 679.766761 659.52 \nL 672.664943 659.52 \nz\n\" style=\"fill:#1f77b4;\"/>\n   </g>\n   <g id=\"patch_88\">\n    <path clip-path=\"url(#p75aac4bee4)\" d=\"M 679.766761 659.52 \nL 686.86858 659.52 \nL 686.86858 658.81722 \nL 679.766761 658.81722 \nz\n\" style=\"fill:#1f77b4;\"/>\n   </g>\n   <g id=\"patch_89\">\n    <path clip-path=\"url(#p75aac4bee4)\" d=\"M 686.86858 659.52 \nL 693.970398 659.52 \nL 693.970398 659.16861 \nL 686.86858 659.16861 \nz\n\" style=\"fill:#1f77b4;\"/>\n   </g>\n   <g id=\"patch_90\">\n    <path clip-path=\"url(#p75aac4bee4)\" d=\"M 693.970398 659.52 \nL 701.072216 659.52 \nL 701.072216 659.52 \nL 693.970398 659.52 \nz\n\" style=\"fill:#1f77b4;\"/>\n   </g>\n   <g id=\"patch_91\">\n    <path clip-path=\"url(#p75aac4bee4)\" d=\"M 701.072216 659.52 \nL 708.174034 659.52 \nL 708.174034 659.16861 \nL 701.072216 659.16861 \nz\n\" style=\"fill:#1f77b4;\"/>\n   </g>\n   <g id=\"patch_92\">\n    <path clip-path=\"url(#p75aac4bee4)\" d=\"M 708.174034 659.52 \nL 715.275852 659.52 \nL 715.275852 659.28574 \nL 708.174034 659.28574 \nz\n\" style=\"fill:#1f77b4;\"/>\n   </g>\n   <g id=\"patch_93\">\n    <path clip-path=\"url(#p75aac4bee4)\" d=\"M 715.275852 659.52 \nL 722.37767 659.52 \nL 722.37767 659.05148 \nL 715.275852 659.05148 \nz\n\" style=\"fill:#1f77b4;\"/>\n   </g>\n   <g id=\"patch_94\">\n    <path clip-path=\"url(#p75aac4bee4)\" d=\"M 722.37767 659.52 \nL 729.479489 659.52 \nL 729.479489 659.52 \nL 722.37767 659.52 \nz\n\" style=\"fill:#1f77b4;\"/>\n   </g>\n   <g id=\"patch_95\">\n    <path clip-path=\"url(#p75aac4bee4)\" d=\"M 729.479489 659.52 \nL 736.581307 659.52 \nL 736.581307 659.28574 \nL 729.479489 659.28574 \nz\n\" style=\"fill:#1f77b4;\"/>\n   </g>\n   <g id=\"patch_96\">\n    <path clip-path=\"url(#p75aac4bee4)\" d=\"M 736.581307 659.52 \nL 743.683125 659.52 \nL 743.683125 659.28574 \nL 736.581307 659.28574 \nz\n\" style=\"fill:#1f77b4;\"/>\n   </g>\n   <g id=\"patch_97\">\n    <path clip-path=\"url(#p75aac4bee4)\" d=\"M 743.683125 659.52 \nL 750.784943 659.52 \nL 750.784943 659.28574 \nL 743.683125 659.28574 \nz\n\" style=\"fill:#1f77b4;\"/>\n   </g>\n   <g id=\"patch_98\">\n    <path clip-path=\"url(#p75aac4bee4)\" d=\"M 750.784943 659.52 \nL 757.886761 659.52 \nL 757.886761 659.52 \nL 750.784943 659.52 \nz\n\" style=\"fill:#1f77b4;\"/>\n   </g>\n   <g id=\"patch_99\">\n    <path clip-path=\"url(#p75aac4bee4)\" d=\"M 757.886761 659.52 \nL 764.98858 659.52 \nL 764.98858 659.52 \nL 757.886761 659.52 \nz\n\" style=\"fill:#1f77b4;\"/>\n   </g>\n   <g id=\"patch_100\">\n    <path clip-path=\"url(#p75aac4bee4)\" d=\"M 764.98858 659.52 \nL 772.090398 659.52 \nL 772.090398 659.40287 \nL 764.98858 659.40287 \nz\n\" style=\"fill:#1f77b4;\"/>\n   </g>\n   <g id=\"patch_101\">\n    <path clip-path=\"url(#p75aac4bee4)\" d=\"M 772.090398 659.52 \nL 779.192216 659.52 \nL 779.192216 659.40287 \nL 772.090398 659.40287 \nz\n\" style=\"fill:#1f77b4;\"/>\n   </g>\n   <g id=\"patch_102\">\n    <path clip-path=\"url(#p75aac4bee4)\" d=\"M 779.192216 659.52 \nL 786.294034 659.52 \nL 786.294034 630.237518 \nL 779.192216 630.237518 \nz\n\" style=\"fill:#1f77b4;\"/>\n   </g>\n   <g id=\"matplotlib.axis_1\">\n    <g id=\"xtick_1\">\n     <g id=\"line2d_1\">\n      <defs>\n       <path d=\"M 0 0 \nL 0 3.5 \n\" id=\"md49699d1ff\" style=\"stroke:#000000;stroke-width:0.8;\"/>\n      </defs>\n      <g>\n       <use style=\"stroke:#000000;stroke-width:0.8;\" x=\"76.112216\" xlink:href=\"#md49699d1ff\" y=\"659.52\"/>\n      </g>\n     </g>\n     <g id=\"text_1\">\n      <!-- 0.0 -->\n      <g transform=\"translate(68.160653 674.118438)scale(0.1 -0.1)\">\n       <defs>\n        <path d=\"M 31.78125 66.40625 \nQ 24.171875 66.40625 20.328125 58.90625 \nQ 16.5 51.421875 16.5 36.375 \nQ 16.5 21.390625 20.328125 13.890625 \nQ 24.171875 6.390625 31.78125 6.390625 \nQ 39.453125 6.390625 43.28125 13.890625 \nQ 47.125 21.390625 47.125 36.375 \nQ 47.125 51.421875 43.28125 58.90625 \nQ 39.453125 66.40625 31.78125 66.40625 \nz\nM 31.78125 74.21875 \nQ 44.046875 74.21875 50.515625 64.515625 \nQ 56.984375 54.828125 56.984375 36.375 \nQ 56.984375 17.96875 50.515625 8.265625 \nQ 44.046875 -1.421875 31.78125 -1.421875 \nQ 19.53125 -1.421875 13.0625 8.265625 \nQ 6.59375 17.96875 6.59375 36.375 \nQ 6.59375 54.828125 13.0625 64.515625 \nQ 19.53125 74.21875 31.78125 74.21875 \nz\n\" id=\"DejaVuSans-48\"/>\n        <path d=\"M 10.6875 12.40625 \nL 21 12.40625 \nL 21 0 \nL 10.6875 0 \nz\n\" id=\"DejaVuSans-46\"/>\n       </defs>\n       <use xlink:href=\"#DejaVuSans-48\"/>\n       <use x=\"63.623047\" xlink:href=\"#DejaVuSans-46\"/>\n       <use x=\"95.410156\" xlink:href=\"#DejaVuSans-48\"/>\n      </g>\n     </g>\n    </g>\n    <g id=\"xtick_2\">\n     <g id=\"line2d_2\">\n      <g>\n       <use style=\"stroke:#000000;stroke-width:0.8;\" x=\"218.14858\" xlink:href=\"#md49699d1ff\" y=\"659.52\"/>\n      </g>\n     </g>\n     <g id=\"text_2\">\n      <!-- 0.2 -->\n      <g transform=\"translate(210.197017 674.118438)scale(0.1 -0.1)\">\n       <defs>\n        <path d=\"M 19.1875 8.296875 \nL 53.609375 8.296875 \nL 53.609375 0 \nL 7.328125 0 \nL 7.328125 8.296875 \nQ 12.9375 14.109375 22.625 23.890625 \nQ 32.328125 33.6875 34.8125 36.53125 \nQ 39.546875 41.84375 41.421875 45.53125 \nQ 43.3125 49.21875 43.3125 52.78125 \nQ 43.3125 58.59375 39.234375 62.25 \nQ 35.15625 65.921875 28.609375 65.921875 \nQ 23.96875 65.921875 18.8125 64.3125 \nQ 13.671875 62.703125 7.8125 59.421875 \nL 7.8125 69.390625 \nQ 13.765625 71.78125 18.9375 73 \nQ 24.125 74.21875 28.421875 74.21875 \nQ 39.75 74.21875 46.484375 68.546875 \nQ 53.21875 62.890625 53.21875 53.421875 \nQ 53.21875 48.921875 51.53125 44.890625 \nQ 49.859375 40.875 45.40625 35.40625 \nQ 44.1875 33.984375 37.640625 27.21875 \nQ 31.109375 20.453125 19.1875 8.296875 \nz\n\" id=\"DejaVuSans-50\"/>\n       </defs>\n       <use xlink:href=\"#DejaVuSans-48\"/>\n       <use x=\"63.623047\" xlink:href=\"#DejaVuSans-46\"/>\n       <use x=\"95.410156\" xlink:href=\"#DejaVuSans-50\"/>\n      </g>\n     </g>\n    </g>\n    <g id=\"xtick_3\">\n     <g id=\"line2d_3\">\n      <g>\n       <use style=\"stroke:#000000;stroke-width:0.8;\" x=\"360.184943\" xlink:href=\"#md49699d1ff\" y=\"659.52\"/>\n      </g>\n     </g>\n     <g id=\"text_3\">\n      <!-- 0.4 -->\n      <g transform=\"translate(352.233381 674.118438)scale(0.1 -0.1)\">\n       <defs>\n        <path d=\"M 37.796875 64.3125 \nL 12.890625 25.390625 \nL 37.796875 25.390625 \nz\nM 35.203125 72.90625 \nL 47.609375 72.90625 \nL 47.609375 25.390625 \nL 58.015625 25.390625 \nL 58.015625 17.1875 \nL 47.609375 17.1875 \nL 47.609375 0 \nL 37.796875 0 \nL 37.796875 17.1875 \nL 4.890625 17.1875 \nL 4.890625 26.703125 \nz\n\" id=\"DejaVuSans-52\"/>\n       </defs>\n       <use xlink:href=\"#DejaVuSans-48\"/>\n       <use x=\"63.623047\" xlink:href=\"#DejaVuSans-46\"/>\n       <use x=\"95.410156\" xlink:href=\"#DejaVuSans-52\"/>\n      </g>\n     </g>\n    </g>\n    <g id=\"xtick_4\">\n     <g id=\"line2d_4\">\n      <g>\n       <use style=\"stroke:#000000;stroke-width:0.8;\" x=\"502.221307\" xlink:href=\"#md49699d1ff\" y=\"659.52\"/>\n      </g>\n     </g>\n     <g id=\"text_4\">\n      <!-- 0.6 -->\n      <g transform=\"translate(494.269744 674.118438)scale(0.1 -0.1)\">\n       <defs>\n        <path d=\"M 33.015625 40.375 \nQ 26.375 40.375 22.484375 35.828125 \nQ 18.609375 31.296875 18.609375 23.390625 \nQ 18.609375 15.53125 22.484375 10.953125 \nQ 26.375 6.390625 33.015625 6.390625 \nQ 39.65625 6.390625 43.53125 10.953125 \nQ 47.40625 15.53125 47.40625 23.390625 \nQ 47.40625 31.296875 43.53125 35.828125 \nQ 39.65625 40.375 33.015625 40.375 \nz\nM 52.59375 71.296875 \nL 52.59375 62.3125 \nQ 48.875 64.0625 45.09375 64.984375 \nQ 41.3125 65.921875 37.59375 65.921875 \nQ 27.828125 65.921875 22.671875 59.328125 \nQ 17.53125 52.734375 16.796875 39.40625 \nQ 19.671875 43.65625 24.015625 45.921875 \nQ 28.375 48.1875 33.59375 48.1875 \nQ 44.578125 48.1875 50.953125 41.515625 \nQ 57.328125 34.859375 57.328125 23.390625 \nQ 57.328125 12.15625 50.6875 5.359375 \nQ 44.046875 -1.421875 33.015625 -1.421875 \nQ 20.359375 -1.421875 13.671875 8.265625 \nQ 6.984375 17.96875 6.984375 36.375 \nQ 6.984375 53.65625 15.1875 63.9375 \nQ 23.390625 74.21875 37.203125 74.21875 \nQ 40.921875 74.21875 44.703125 73.484375 \nQ 48.484375 72.75 52.59375 71.296875 \nz\n\" id=\"DejaVuSans-54\"/>\n       </defs>\n       <use xlink:href=\"#DejaVuSans-48\"/>\n       <use x=\"63.623047\" xlink:href=\"#DejaVuSans-46\"/>\n       <use x=\"95.410156\" xlink:href=\"#DejaVuSans-54\"/>\n      </g>\n     </g>\n    </g>\n    <g id=\"xtick_5\">\n     <g id=\"line2d_5\">\n      <g>\n       <use style=\"stroke:#000000;stroke-width:0.8;\" x=\"644.25767\" xlink:href=\"#md49699d1ff\" y=\"659.52\"/>\n      </g>\n     </g>\n     <g id=\"text_5\">\n      <!-- 0.8 -->\n      <g transform=\"translate(636.306108 674.118438)scale(0.1 -0.1)\">\n       <defs>\n        <path d=\"M 31.78125 34.625 \nQ 24.75 34.625 20.71875 30.859375 \nQ 16.703125 27.09375 16.703125 20.515625 \nQ 16.703125 13.921875 20.71875 10.15625 \nQ 24.75 6.390625 31.78125 6.390625 \nQ 38.8125 6.390625 42.859375 10.171875 \nQ 46.921875 13.96875 46.921875 20.515625 \nQ 46.921875 27.09375 42.890625 30.859375 \nQ 38.875 34.625 31.78125 34.625 \nz\nM 21.921875 38.8125 \nQ 15.578125 40.375 12.03125 44.71875 \nQ 8.5 49.078125 8.5 55.328125 \nQ 8.5 64.0625 14.71875 69.140625 \nQ 20.953125 74.21875 31.78125 74.21875 \nQ 42.671875 74.21875 48.875 69.140625 \nQ 55.078125 64.0625 55.078125 55.328125 \nQ 55.078125 49.078125 51.53125 44.71875 \nQ 48 40.375 41.703125 38.8125 \nQ 48.828125 37.15625 52.796875 32.3125 \nQ 56.78125 27.484375 56.78125 20.515625 \nQ 56.78125 9.90625 50.3125 4.234375 \nQ 43.84375 -1.421875 31.78125 -1.421875 \nQ 19.734375 -1.421875 13.25 4.234375 \nQ 6.78125 9.90625 6.78125 20.515625 \nQ 6.78125 27.484375 10.78125 32.3125 \nQ 14.796875 37.15625 21.921875 38.8125 \nz\nM 18.3125 54.390625 \nQ 18.3125 48.734375 21.84375 45.5625 \nQ 25.390625 42.390625 31.78125 42.390625 \nQ 38.140625 42.390625 41.71875 45.5625 \nQ 45.3125 48.734375 45.3125 54.390625 \nQ 45.3125 60.0625 41.71875 63.234375 \nQ 38.140625 66.40625 31.78125 66.40625 \nQ 25.390625 66.40625 21.84375 63.234375 \nQ 18.3125 60.0625 18.3125 54.390625 \nz\n\" id=\"DejaVuSans-56\"/>\n       </defs>\n       <use xlink:href=\"#DejaVuSans-48\"/>\n       <use x=\"63.623047\" xlink:href=\"#DejaVuSans-46\"/>\n       <use x=\"95.410156\" xlink:href=\"#DejaVuSans-56\"/>\n      </g>\n     </g>\n    </g>\n    <g id=\"xtick_6\">\n     <g id=\"line2d_6\">\n      <g>\n       <use style=\"stroke:#000000;stroke-width:0.8;\" x=\"786.294034\" xlink:href=\"#md49699d1ff\" y=\"659.52\"/>\n      </g>\n     </g>\n     <g id=\"text_6\">\n      <!-- 1.0 -->\n      <g transform=\"translate(778.342472 674.118438)scale(0.1 -0.1)\">\n       <defs>\n        <path d=\"M 12.40625 8.296875 \nL 28.515625 8.296875 \nL 28.515625 63.921875 \nL 10.984375 60.40625 \nL 10.984375 69.390625 \nL 28.421875 72.90625 \nL 38.28125 72.90625 \nL 38.28125 8.296875 \nL 54.390625 8.296875 \nL 54.390625 0 \nL 12.40625 0 \nz\n\" id=\"DejaVuSans-49\"/>\n       </defs>\n       <use xlink:href=\"#DejaVuSans-49\"/>\n       <use x=\"63.623047\" xlink:href=\"#DejaVuSans-46\"/>\n       <use x=\"95.410156\" xlink:href=\"#DejaVuSans-48\"/>\n      </g>\n     </g>\n    </g>\n    <g id=\"text_7\">\n     <!-- opened_rate -->\n     <g transform=\"translate(399.817188 687.796563)scale(0.1 -0.1)\">\n      <defs>\n       <path d=\"M 30.609375 48.390625 \nQ 23.390625 48.390625 19.1875 42.75 \nQ 14.984375 37.109375 14.984375 27.296875 \nQ 14.984375 17.484375 19.15625 11.84375 \nQ 23.34375 6.203125 30.609375 6.203125 \nQ 37.796875 6.203125 41.984375 11.859375 \nQ 46.1875 17.53125 46.1875 27.296875 \nQ 46.1875 37.015625 41.984375 42.703125 \nQ 37.796875 48.390625 30.609375 48.390625 \nz\nM 30.609375 56 \nQ 42.328125 56 49.015625 48.375 \nQ 55.71875 40.765625 55.71875 27.296875 \nQ 55.71875 13.875 49.015625 6.21875 \nQ 42.328125 -1.421875 30.609375 -1.421875 \nQ 18.84375 -1.421875 12.171875 6.21875 \nQ 5.515625 13.875 5.515625 27.296875 \nQ 5.515625 40.765625 12.171875 48.375 \nQ 18.84375 56 30.609375 56 \nz\n\" id=\"DejaVuSans-111\"/>\n       <path d=\"M 18.109375 8.203125 \nL 18.109375 -20.796875 \nL 9.078125 -20.796875 \nL 9.078125 54.6875 \nL 18.109375 54.6875 \nL 18.109375 46.390625 \nQ 20.953125 51.265625 25.265625 53.625 \nQ 29.59375 56 35.59375 56 \nQ 45.5625 56 51.78125 48.09375 \nQ 58.015625 40.1875 58.015625 27.296875 \nQ 58.015625 14.40625 51.78125 6.484375 \nQ 45.5625 -1.421875 35.59375 -1.421875 \nQ 29.59375 -1.421875 25.265625 0.953125 \nQ 20.953125 3.328125 18.109375 8.203125 \nz\nM 48.6875 27.296875 \nQ 48.6875 37.203125 44.609375 42.84375 \nQ 40.53125 48.484375 33.40625 48.484375 \nQ 26.265625 48.484375 22.1875 42.84375 \nQ 18.109375 37.203125 18.109375 27.296875 \nQ 18.109375 17.390625 22.1875 11.75 \nQ 26.265625 6.109375 33.40625 6.109375 \nQ 40.53125 6.109375 44.609375 11.75 \nQ 48.6875 17.390625 48.6875 27.296875 \nz\n\" id=\"DejaVuSans-112\"/>\n       <path d=\"M 56.203125 29.59375 \nL 56.203125 25.203125 \nL 14.890625 25.203125 \nQ 15.484375 15.921875 20.484375 11.0625 \nQ 25.484375 6.203125 34.421875 6.203125 \nQ 39.59375 6.203125 44.453125 7.46875 \nQ 49.3125 8.734375 54.109375 11.28125 \nL 54.109375 2.78125 \nQ 49.265625 0.734375 44.1875 -0.34375 \nQ 39.109375 -1.421875 33.890625 -1.421875 \nQ 20.796875 -1.421875 13.15625 6.1875 \nQ 5.515625 13.8125 5.515625 26.8125 \nQ 5.515625 40.234375 12.765625 48.109375 \nQ 20.015625 56 32.328125 56 \nQ 43.359375 56 49.78125 48.890625 \nQ 56.203125 41.796875 56.203125 29.59375 \nz\nM 47.21875 32.234375 \nQ 47.125 39.59375 43.09375 43.984375 \nQ 39.0625 48.390625 32.421875 48.390625 \nQ 24.90625 48.390625 20.390625 44.140625 \nQ 15.875 39.890625 15.1875 32.171875 \nz\n\" id=\"DejaVuSans-101\"/>\n       <path d=\"M 54.890625 33.015625 \nL 54.890625 0 \nL 45.90625 0 \nL 45.90625 32.71875 \nQ 45.90625 40.484375 42.875 44.328125 \nQ 39.84375 48.1875 33.796875 48.1875 \nQ 26.515625 48.1875 22.3125 43.546875 \nQ 18.109375 38.921875 18.109375 30.90625 \nL 18.109375 0 \nL 9.078125 0 \nL 9.078125 54.6875 \nL 18.109375 54.6875 \nL 18.109375 46.1875 \nQ 21.34375 51.125 25.703125 53.5625 \nQ 30.078125 56 35.796875 56 \nQ 45.21875 56 50.046875 50.171875 \nQ 54.890625 44.34375 54.890625 33.015625 \nz\n\" id=\"DejaVuSans-110\"/>\n       <path d=\"M 45.40625 46.390625 \nL 45.40625 75.984375 \nL 54.390625 75.984375 \nL 54.390625 0 \nL 45.40625 0 \nL 45.40625 8.203125 \nQ 42.578125 3.328125 38.25 0.953125 \nQ 33.9375 -1.421875 27.875 -1.421875 \nQ 17.96875 -1.421875 11.734375 6.484375 \nQ 5.515625 14.40625 5.515625 27.296875 \nQ 5.515625 40.1875 11.734375 48.09375 \nQ 17.96875 56 27.875 56 \nQ 33.9375 56 38.25 53.625 \nQ 42.578125 51.265625 45.40625 46.390625 \nz\nM 14.796875 27.296875 \nQ 14.796875 17.390625 18.875 11.75 \nQ 22.953125 6.109375 30.078125 6.109375 \nQ 37.203125 6.109375 41.296875 11.75 \nQ 45.40625 17.390625 45.40625 27.296875 \nQ 45.40625 37.203125 41.296875 42.84375 \nQ 37.203125 48.484375 30.078125 48.484375 \nQ 22.953125 48.484375 18.875 42.84375 \nQ 14.796875 37.203125 14.796875 27.296875 \nz\n\" id=\"DejaVuSans-100\"/>\n       <path d=\"M 50.984375 -16.609375 \nL 50.984375 -23.578125 \nL -0.984375 -23.578125 \nL -0.984375 -16.609375 \nz\n\" id=\"DejaVuSans-95\"/>\n       <path d=\"M 41.109375 46.296875 \nQ 39.59375 47.171875 37.8125 47.578125 \nQ 36.03125 48 33.890625 48 \nQ 26.265625 48 22.1875 43.046875 \nQ 18.109375 38.09375 18.109375 28.8125 \nL 18.109375 0 \nL 9.078125 0 \nL 9.078125 54.6875 \nL 18.109375 54.6875 \nL 18.109375 46.1875 \nQ 20.953125 51.171875 25.484375 53.578125 \nQ 30.03125 56 36.53125 56 \nQ 37.453125 56 38.578125 55.875 \nQ 39.703125 55.765625 41.0625 55.515625 \nz\n\" id=\"DejaVuSans-114\"/>\n       <path d=\"M 34.28125 27.484375 \nQ 23.390625 27.484375 19.1875 25 \nQ 14.984375 22.515625 14.984375 16.5 \nQ 14.984375 11.71875 18.140625 8.90625 \nQ 21.296875 6.109375 26.703125 6.109375 \nQ 34.1875 6.109375 38.703125 11.40625 \nQ 43.21875 16.703125 43.21875 25.484375 \nL 43.21875 27.484375 \nz\nM 52.203125 31.203125 \nL 52.203125 0 \nL 43.21875 0 \nL 43.21875 8.296875 \nQ 40.140625 3.328125 35.546875 0.953125 \nQ 30.953125 -1.421875 24.3125 -1.421875 \nQ 15.921875 -1.421875 10.953125 3.296875 \nQ 6 8.015625 6 15.921875 \nQ 6 25.140625 12.171875 29.828125 \nQ 18.359375 34.515625 30.609375 34.515625 \nL 43.21875 34.515625 \nL 43.21875 35.40625 \nQ 43.21875 41.609375 39.140625 45 \nQ 35.0625 48.390625 27.6875 48.390625 \nQ 23 48.390625 18.546875 47.265625 \nQ 14.109375 46.140625 10.015625 43.890625 \nL 10.015625 52.203125 \nQ 14.9375 54.109375 19.578125 55.046875 \nQ 24.21875 56 28.609375 56 \nQ 40.484375 56 46.34375 49.84375 \nQ 52.203125 43.703125 52.203125 31.203125 \nz\n\" id=\"DejaVuSans-97\"/>\n       <path d=\"M 18.3125 70.21875 \nL 18.3125 54.6875 \nL 36.8125 54.6875 \nL 36.8125 47.703125 \nL 18.3125 47.703125 \nL 18.3125 18.015625 \nQ 18.3125 11.328125 20.140625 9.421875 \nQ 21.96875 7.515625 27.59375 7.515625 \nL 36.8125 7.515625 \nL 36.8125 0 \nL 27.59375 0 \nQ 17.1875 0 13.234375 3.875 \nQ 9.28125 7.765625 9.28125 18.015625 \nL 9.28125 47.703125 \nL 2.6875 47.703125 \nL 2.6875 54.6875 \nL 9.28125 54.6875 \nL 9.28125 70.21875 \nz\n\" id=\"DejaVuSans-116\"/>\n      </defs>\n      <use xlink:href=\"#DejaVuSans-111\"/>\n      <use x=\"61.181641\" xlink:href=\"#DejaVuSans-112\"/>\n      <use x=\"124.658203\" xlink:href=\"#DejaVuSans-101\"/>\n      <use x=\"186.181641\" xlink:href=\"#DejaVuSans-110\"/>\n      <use x=\"249.560547\" xlink:href=\"#DejaVuSans-101\"/>\n      <use x=\"311.083984\" xlink:href=\"#DejaVuSans-100\"/>\n      <use x=\"374.560547\" xlink:href=\"#DejaVuSans-95\"/>\n      <use x=\"424.560547\" xlink:href=\"#DejaVuSans-114\"/>\n      <use x=\"465.673828\" xlink:href=\"#DejaVuSans-97\"/>\n      <use x=\"526.953125\" xlink:href=\"#DejaVuSans-116\"/>\n      <use x=\"566.162109\" xlink:href=\"#DejaVuSans-101\"/>\n     </g>\n    </g>\n   </g>\n   <g id=\"matplotlib.axis_2\">\n    <g id=\"ytick_1\">\n     <g id=\"line2d_7\">\n      <defs>\n       <path d=\"M 0 0 \nL -3.5 0 \n\" id=\"m4aa50d4c16\" style=\"stroke:#000000;stroke-width:0.8;\"/>\n      </defs>\n      <g>\n       <use style=\"stroke:#000000;stroke-width:0.8;\" x=\"40.603125\" xlink:href=\"#m4aa50d4c16\" y=\"659.52\"/>\n      </g>\n     </g>\n     <g id=\"text_8\">\n      <!-- 0 -->\n      <g transform=\"translate(27.240625 663.319219)scale(0.1 -0.1)\">\n       <use xlink:href=\"#DejaVuSans-48\"/>\n      </g>\n     </g>\n    </g>\n    <g id=\"ytick_2\">\n     <g id=\"line2d_8\">\n      <g>\n       <use style=\"stroke:#000000;stroke-width:0.8;\" x=\"40.603125\" xlink:href=\"#m4aa50d4c16\" y=\"534.87033\"/>\n      </g>\n     </g>\n     <g id=\"text_9\">\n      <!-- 10 -->\n      <g transform=\"translate(20.878125 538.669548)scale(0.1 -0.1)\">\n       <use xlink:href=\"#DejaVuSans-49\"/>\n       <use x=\"63.623047\" xlink:href=\"#DejaVuSans-48\"/>\n      </g>\n     </g>\n    </g>\n    <g id=\"ytick_3\">\n     <g id=\"line2d_9\">\n      <g>\n       <use style=\"stroke:#000000;stroke-width:0.8;\" x=\"40.603125\" xlink:href=\"#m4aa50d4c16\" y=\"410.220659\"/>\n      </g>\n     </g>\n     <g id=\"text_10\">\n      <!-- 20 -->\n      <g transform=\"translate(20.878125 414.019878)scale(0.1 -0.1)\">\n       <use xlink:href=\"#DejaVuSans-50\"/>\n       <use x=\"63.623047\" xlink:href=\"#DejaVuSans-48\"/>\n      </g>\n     </g>\n    </g>\n    <g id=\"ytick_4\">\n     <g id=\"line2d_10\">\n      <g>\n       <use style=\"stroke:#000000;stroke-width:0.8;\" x=\"40.603125\" xlink:href=\"#m4aa50d4c16\" y=\"285.570989\"/>\n      </g>\n     </g>\n     <g id=\"text_11\">\n      <!-- 30 -->\n      <g transform=\"translate(20.878125 289.370208)scale(0.1 -0.1)\">\n       <defs>\n        <path d=\"M 40.578125 39.3125 \nQ 47.65625 37.796875 51.625 33 \nQ 55.609375 28.21875 55.609375 21.1875 \nQ 55.609375 10.40625 48.1875 4.484375 \nQ 40.765625 -1.421875 27.09375 -1.421875 \nQ 22.515625 -1.421875 17.65625 -0.515625 \nQ 12.796875 0.390625 7.625 2.203125 \nL 7.625 11.71875 \nQ 11.71875 9.328125 16.59375 8.109375 \nQ 21.484375 6.890625 26.8125 6.890625 \nQ 36.078125 6.890625 40.9375 10.546875 \nQ 45.796875 14.203125 45.796875 21.1875 \nQ 45.796875 27.640625 41.28125 31.265625 \nQ 36.765625 34.90625 28.71875 34.90625 \nL 20.21875 34.90625 \nL 20.21875 43.015625 \nL 29.109375 43.015625 \nQ 36.375 43.015625 40.234375 45.921875 \nQ 44.09375 48.828125 44.09375 54.296875 \nQ 44.09375 59.90625 40.109375 62.90625 \nQ 36.140625 65.921875 28.71875 65.921875 \nQ 24.65625 65.921875 20.015625 65.03125 \nQ 15.375 64.15625 9.8125 62.3125 \nL 9.8125 71.09375 \nQ 15.4375 72.65625 20.34375 73.4375 \nQ 25.25 74.21875 29.59375 74.21875 \nQ 40.828125 74.21875 47.359375 69.109375 \nQ 53.90625 64.015625 53.90625 55.328125 \nQ 53.90625 49.265625 50.4375 45.09375 \nQ 46.96875 40.921875 40.578125 39.3125 \nz\n\" id=\"DejaVuSans-51\"/>\n       </defs>\n       <use xlink:href=\"#DejaVuSans-51\"/>\n       <use x=\"63.623047\" xlink:href=\"#DejaVuSans-48\"/>\n      </g>\n     </g>\n    </g>\n    <g id=\"ytick_5\">\n     <g id=\"line2d_11\">\n      <g>\n       <use style=\"stroke:#000000;stroke-width:0.8;\" x=\"40.603125\" xlink:href=\"#m4aa50d4c16\" y=\"160.921319\"/>\n      </g>\n     </g>\n     <g id=\"text_12\">\n      <!-- 40 -->\n      <g transform=\"translate(20.878125 164.720537)scale(0.1 -0.1)\">\n       <use xlink:href=\"#DejaVuSans-52\"/>\n       <use x=\"63.623047\" xlink:href=\"#DejaVuSans-48\"/>\n      </g>\n     </g>\n    </g>\n    <g id=\"ytick_6\">\n     <g id=\"line2d_12\">\n      <g>\n       <use style=\"stroke:#000000;stroke-width:0.8;\" x=\"40.603125\" xlink:href=\"#m4aa50d4c16\" y=\"36.271648\"/>\n      </g>\n     </g>\n     <g id=\"text_13\">\n      <!-- 50 -->\n      <g transform=\"translate(20.878125 40.070867)scale(0.1 -0.1)\">\n       <defs>\n        <path d=\"M 10.796875 72.90625 \nL 49.515625 72.90625 \nL 49.515625 64.59375 \nL 19.828125 64.59375 \nL 19.828125 46.734375 \nQ 21.96875 47.46875 24.109375 47.828125 \nQ 26.265625 48.1875 28.421875 48.1875 \nQ 40.625 48.1875 47.75 41.5 \nQ 54.890625 34.8125 54.890625 23.390625 \nQ 54.890625 11.625 47.5625 5.09375 \nQ 40.234375 -1.421875 26.90625 -1.421875 \nQ 22.3125 -1.421875 17.546875 -0.640625 \nQ 12.796875 0.140625 7.71875 1.703125 \nL 7.71875 11.625 \nQ 12.109375 9.234375 16.796875 8.0625 \nQ 21.484375 6.890625 26.703125 6.890625 \nQ 35.15625 6.890625 40.078125 11.328125 \nQ 45.015625 15.765625 45.015625 23.390625 \nQ 45.015625 31 40.078125 35.4375 \nQ 35.15625 39.890625 26.703125 39.890625 \nQ 22.75 39.890625 18.8125 39.015625 \nQ 14.890625 38.140625 10.796875 36.28125 \nz\n\" id=\"DejaVuSans-53\"/>\n       </defs>\n       <use xlink:href=\"#DejaVuSans-53\"/>\n       <use x=\"63.623047\" xlink:href=\"#DejaVuSans-48\"/>\n      </g>\n     </g>\n    </g>\n    <g id=\"text_14\">\n     <!-- Probability -->\n     <g transform=\"translate(14.798438 359.788906)rotate(-90)scale(0.1 -0.1)\">\n      <defs>\n       <path d=\"M 19.671875 64.796875 \nL 19.671875 37.40625 \nL 32.078125 37.40625 \nQ 38.96875 37.40625 42.71875 40.96875 \nQ 46.484375 44.53125 46.484375 51.125 \nQ 46.484375 57.671875 42.71875 61.234375 \nQ 38.96875 64.796875 32.078125 64.796875 \nz\nM 9.8125 72.90625 \nL 32.078125 72.90625 \nQ 44.34375 72.90625 50.609375 67.359375 \nQ 56.890625 61.8125 56.890625 51.125 \nQ 56.890625 40.328125 50.609375 34.8125 \nQ 44.34375 29.296875 32.078125 29.296875 \nL 19.671875 29.296875 \nL 19.671875 0 \nL 9.8125 0 \nz\n\" id=\"DejaVuSans-80\"/>\n       <path d=\"M 48.6875 27.296875 \nQ 48.6875 37.203125 44.609375 42.84375 \nQ 40.53125 48.484375 33.40625 48.484375 \nQ 26.265625 48.484375 22.1875 42.84375 \nQ 18.109375 37.203125 18.109375 27.296875 \nQ 18.109375 17.390625 22.1875 11.75 \nQ 26.265625 6.109375 33.40625 6.109375 \nQ 40.53125 6.109375 44.609375 11.75 \nQ 48.6875 17.390625 48.6875 27.296875 \nz\nM 18.109375 46.390625 \nQ 20.953125 51.265625 25.265625 53.625 \nQ 29.59375 56 35.59375 56 \nQ 45.5625 56 51.78125 48.09375 \nQ 58.015625 40.1875 58.015625 27.296875 \nQ 58.015625 14.40625 51.78125 6.484375 \nQ 45.5625 -1.421875 35.59375 -1.421875 \nQ 29.59375 -1.421875 25.265625 0.953125 \nQ 20.953125 3.328125 18.109375 8.203125 \nL 18.109375 0 \nL 9.078125 0 \nL 9.078125 75.984375 \nL 18.109375 75.984375 \nz\n\" id=\"DejaVuSans-98\"/>\n       <path d=\"M 9.421875 54.6875 \nL 18.40625 54.6875 \nL 18.40625 0 \nL 9.421875 0 \nz\nM 9.421875 75.984375 \nL 18.40625 75.984375 \nL 18.40625 64.59375 \nL 9.421875 64.59375 \nz\n\" id=\"DejaVuSans-105\"/>\n       <path d=\"M 9.421875 75.984375 \nL 18.40625 75.984375 \nL 18.40625 0 \nL 9.421875 0 \nz\n\" id=\"DejaVuSans-108\"/>\n       <path d=\"M 32.171875 -5.078125 \nQ 28.375 -14.84375 24.75 -17.8125 \nQ 21.140625 -20.796875 15.09375 -20.796875 \nL 7.90625 -20.796875 \nL 7.90625 -13.28125 \nL 13.1875 -13.28125 \nQ 16.890625 -13.28125 18.9375 -11.515625 \nQ 21 -9.765625 23.484375 -3.21875 \nL 25.09375 0.875 \nL 2.984375 54.6875 \nL 12.5 54.6875 \nL 29.59375 11.921875 \nL 46.6875 54.6875 \nL 56.203125 54.6875 \nz\n\" id=\"DejaVuSans-121\"/>\n      </defs>\n      <use xlink:href=\"#DejaVuSans-80\"/>\n      <use x=\"58.552734\" xlink:href=\"#DejaVuSans-114\"/>\n      <use x=\"97.416016\" xlink:href=\"#DejaVuSans-111\"/>\n      <use x=\"158.597656\" xlink:href=\"#DejaVuSans-98\"/>\n      <use x=\"222.074219\" xlink:href=\"#DejaVuSans-97\"/>\n      <use x=\"283.353516\" xlink:href=\"#DejaVuSans-98\"/>\n      <use x=\"346.830078\" xlink:href=\"#DejaVuSans-105\"/>\n      <use x=\"374.613281\" xlink:href=\"#DejaVuSans-108\"/>\n      <use x=\"402.396484\" xlink:href=\"#DejaVuSans-105\"/>\n      <use x=\"430.179688\" xlink:href=\"#DejaVuSans-116\"/>\n      <use x=\"469.388672\" xlink:href=\"#DejaVuSans-121\"/>\n     </g>\n    </g>\n   </g>\n   <g id=\"patch_103\">\n    <path d=\"M 40.603125 659.52 \nL 40.603125 7.2 \n\" style=\"fill:none;stroke:#000000;stroke-linecap:square;stroke-linejoin:miter;stroke-width:0.8;\"/>\n   </g>\n   <g id=\"patch_104\">\n    <path d=\"M 821.803125 659.52 \nL 821.803125 7.2 \n\" style=\"fill:none;stroke:#000000;stroke-linecap:square;stroke-linejoin:miter;stroke-width:0.8;\"/>\n   </g>\n   <g id=\"patch_105\">\n    <path d=\"M 40.603125 659.52 \nL 821.803125 659.52 \n\" style=\"fill:none;stroke:#000000;stroke-linecap:square;stroke-linejoin:miter;stroke-width:0.8;\"/>\n   </g>\n   <g id=\"patch_106\">\n    <path d=\"M 40.603125 7.2 \nL 821.803125 7.2 \n\" style=\"fill:none;stroke:#000000;stroke-linecap:square;stroke-linejoin:miter;stroke-width:0.8;\"/>\n   </g>\n  </g>\n </g>\n <defs>\n  <clipPath id=\"p75aac4bee4\">\n   <rect height=\"652.32\" width=\"781.2\" x=\"40.603125\" y=\"7.2\"/>\n  </clipPath>\n </defs>\n</svg>\n",
      "image/png": "[encoded data removed]"
     },
     "metadata": {
      "needs_background": "light"
     }
    }
   ],
   "source": [
    "import matplotlib.pyplot as plt\n",
    "from matplotlib.pyplot import figure\n",
    "%matplotlib inline\n",
    "\n",
    "x=gpbyuser2.opened_rate\n",
    "\n",
    "figure(figsize=(14, 12), dpi=80)\n",
    "plt.hist(x, density=True, bins=100)  # density=False would make counts\n",
    "plt.ylabel('Probability')\n",
    "plt.xlabel('opened_rate');"
   ]
  },
  {
   "cell_type": "code",
   "execution_count": 26,
   "metadata": {},
   "outputs": [
    {
     "output_type": "execute_result",
     "data": {
      "text/plain": [
       "         area_of_effect_coordinates_latitude  \\\n",
       "user_id                                        \n",
       "00087                           -1684.767232   \n",
       "00117                               0.000000   \n",
       "001e1                           -1686.475347   \n",
       "002f1                            -297.426877   \n",
       "002fa                            -297.701659   \n",
       "...                                      ...   \n",
       "ffd86                            -693.858813   \n",
       "ffedf                               0.000000   \n",
       "fff2a                          -17638.600783   \n",
       "fff82                           -8125.727148   \n",
       "fffef                               0.000000   \n",
       "\n",
       "         area_of_effect_coordinates_longitude  agency_GewRJAw5tUmC4Ku4AX1-SQ  \\\n",
       "user_id                                                                        \n",
       "00087                              330.804900                            0.0   \n",
       "00117                                0.000000                            0.0   \n",
       "001e1                              328.643503                            0.0   \n",
       "002f1                               58.184144                            0.0   \n",
       "002fa                               58.497048                            0.0   \n",
       "...                                       ...                            ...   \n",
       "ffd86                              137.385153                            0.0   \n",
       "ffedf                                0.000000                            0.0   \n",
       "fff2a                             3458.458357                            0.0   \n",
       "fff82                             1588.767232                            1.0   \n",
       "fffef                                0.000000                            0.0   \n",
       "\n",
       "         agency_GtvOEQAFZ0GtU6u4AXwvPg  agency_HE59N3RXM0q5vKu4AXlQZg  \\\n",
       "user_id                                                                 \n",
       "00087                              8.0                            0.0   \n",
       "00117                              0.0                            0.0   \n",
       "001e1                             17.0                            0.0   \n",
       "002f1                              0.0                            0.0   \n",
       "002fa                              0.0                            0.0   \n",
       "...                                ...                            ...   \n",
       "ffd86                              0.0                           22.0   \n",
       "ffedf                              0.0                            0.0   \n",
       "fff2a                            144.0                            0.0   \n",
       "fff82                             82.0                            0.0   \n",
       "fffef                              0.0                            0.0   \n",
       "\n",
       "         agency_JUR9bFXmVkWDHqu4AXaY0g  agency_JfA8Bw8Zp024Kqu4AXiSpQ  \\\n",
       "user_id                                                                 \n",
       "00087                              0.0                            3.0   \n",
       "00117                              4.0                            0.0   \n",
       "001e1                              0.0                            0.0   \n",
       "002f1                              0.0                            5.0   \n",
       "002fa                              0.0                            0.0   \n",
       "...                                ...                            ...   \n",
       "ffd86                              0.0                            0.0   \n",
       "ffedf                              4.0                            0.0   \n",
       "fff2a                            136.0                            3.0   \n",
       "fff82                              0.0                            2.0   \n",
       "fffef                              3.0                            0.0   \n",
       "\n",
       "         agency_MgUq5b9mOEunx6u4AXt_BA  agency_NuuRQ2I1Q0a50Kv-AVKlLA  \\\n",
       "user_id                                                                 \n",
       "00087                              0.0                            1.0   \n",
       "00117                              0.0                            0.0   \n",
       "001e1                              0.0                            0.0   \n",
       "002f1                              0.0                            0.0   \n",
       "002fa                              0.0                            0.0   \n",
       "...                                ...                            ...   \n",
       "ffd86                              0.0                            0.0   \n",
       "ffedf                              0.0                            0.0   \n",
       "fff2a                              0.0                           19.0   \n",
       "fff82                              0.0                            4.0   \n",
       "fffef                              0.0                            0.0   \n",
       "\n",
       "         agency_V2AIQQKgmUO3VazvAOA-Cw  agency_jLjibFoim0iwWau4AWoEdQ  \\\n",
       "user_id                                                                 \n",
       "00087                              0.0                            0.0   \n",
       "00117                              0.0                            0.0   \n",
       "001e1                              0.0                            0.0   \n",
       "002f1                              0.0                            0.0   \n",
       "002fa                              0.0                            0.0   \n",
       "...                                ...                            ...   \n",
       "ffd86                              0.0                            0.0   \n",
       "ffedf                              0.0                            0.0   \n",
       "fff2a                              0.0                            0.0   \n",
       "fff82                              0.0                            0.0   \n",
       "fffef                              0.0                            0.0   \n",
       "\n",
       "         agency_pky7jovXYkaw-awAAMrQ3g  agency_zCy9zG00HEqGeKu4AWZYNQ  \\\n",
       "user_id                                                                 \n",
       "00087                              0.0                           17.0   \n",
       "00117                              0.0                            0.0   \n",
       "001e1                              0.0                           17.0   \n",
       "002f1                              0.0                            0.0   \n",
       "002fa                              0.0                            3.0   \n",
       "...                                ...                            ...   \n",
       "ffd86                              0.0                            7.0   \n",
       "ffedf                              0.0                            0.0   \n",
       "fff2a                              0.0                          176.0   \n",
       "fff82                              0.0                           82.0   \n",
       "fffef                              0.0                            0.0   \n",
       "\n",
       "         notif_viewed_ontime  reaction_time  opened  count1  opened_rate  \\\n",
       "user_id                                                                    \n",
       "00087                     14     278.766667       0      17          0.0   \n",
       "00117                      3      77.766667       0       4          0.0   \n",
       "001e1                     16     345.316667       0      17          0.0   \n",
       "002f1                      0    2550.566667       0       5          0.0   \n",
       "002fa                      0     139.716667       0       3          0.0   \n",
       "...                      ...            ...     ...     ...          ...   \n",
       "ffd86                     12    3652.716667       0      22          0.0   \n",
       "ffedf                      4     411.050000       0       4          0.0   \n",
       "fff2a                    248    7980.416667       0     302          0.0   \n",
       "fff82                      3   42681.350000       0      82          0.0   \n",
       "fffef                      1     211.500000       0       3          0.0   \n",
       "\n",
       "         ontime_activity_rate  \n",
       "user_id                        \n",
       "00087                0.823529  \n",
       "00117                0.750000  \n",
       "001e1                0.941176  \n",
       "002f1                0.000000  \n",
       "002fa                0.000000  \n",
       "...                       ...  \n",
       "ffd86                0.545455  \n",
       "ffedf                1.000000  \n",
       "fff2a                0.821192  \n",
       "fff82                0.036585  \n",
       "fffef                0.333333  \n",
       "\n",
       "[4598 rows x 19 columns]"
      ],
      "text/html": "<div>\n<style scoped>\n    .dataframe tbody tr th:only-of-type {\n        vertical-align: middle;\n    }\n\n    .dataframe tbody tr th {\n        vertical-align: top;\n    }\n\n    .dataframe thead th {\n        text-align: right;\n    }\n</style>\n<table border=\"1\" class=\"dataframe\">\n  <thead>\n    <tr style=\"text-align: right;\">\n      <th></th>\n      <th>area_of_effect_coordinates_latitude</th>\n      <th>area_of_effect_coordinates_longitude</th>\n      <th>agency_GewRJAw5tUmC4Ku4AX1-SQ</th>\n      <th>agency_GtvOEQAFZ0GtU6u4AXwvPg</th>\n      <th>agency_HE59N3RXM0q5vKu4AXlQZg</th>\n      <th>agency_JUR9bFXmVkWDHqu4AXaY0g</th>\n      <th>agency_JfA8Bw8Zp024Kqu4AXiSpQ</th>\n      <th>agency_MgUq5b9mOEunx6u4AXt_BA</th>\n      <th>agency_NuuRQ2I1Q0a50Kv-AVKlLA</th>\n      <th>agency_V2AIQQKgmUO3VazvAOA-Cw</th>\n      <th>agency_jLjibFoim0iwWau4AWoEdQ</th>\n      <th>agency_pky7jovXYkaw-awAAMrQ3g</th>\n      <th>agency_zCy9zG00HEqGeKu4AWZYNQ</th>\n      <th>notif_viewed_ontime</th>\n      <th>reaction_time</th>\n      <th>opened</th>\n      <th>count1</th>\n      <th>opened_rate</th>\n      <th>ontime_activity_rate</th>\n    </tr>\n    <tr>\n      <th>user_id</th>\n      <th></th>\n      <th></th>\n      <th></th>\n      <th></th>\n      <th></th>\n      <th></th>\n      <th></th>\n      <th></th>\n      <th></th>\n      <th></th>\n      <th></th>\n      <th></th>\n      <th></th>\n      <th></th>\n      <th></th>\n      <th></th>\n      <th></th>\n      <th></th>\n      <th></th>\n    </tr>\n  </thead>\n  <tbody>\n    <tr>\n      <th>00087</th>\n      <td>-1684.767232</td>\n      <td>330.804900</td>\n      <td>0.0</td>\n      <td>8.0</td>\n      <td>0.0</td>\n      <td>0.0</td>\n      <td>3.0</td>\n      <td>0.0</td>\n      <td>1.0</td>\n      <td>0.0</td>\n      <td>0.0</td>\n      <td>0.0</td>\n      <td>17.0</td>\n      <td>14</td>\n      <td>278.766667</td>\n      <td>0</td>\n      <td>17</td>\n      <td>0.0</td>\n      <td>0.823529</td>\n    </tr>\n    <tr>\n      <th>00117</th>\n      <td>0.000000</td>\n      <td>0.000000</td>\n      <td>0.0</td>\n      <td>0.0</td>\n      <td>0.0</td>\n      <td>4.0</td>\n      <td>0.0</td>\n      <td>0.0</td>\n      <td>0.0</td>\n      <td>0.0</td>\n      <td>0.0</td>\n      <td>0.0</td>\n      <td>0.0</td>\n      <td>3</td>\n      <td>77.766667</td>\n      <td>0</td>\n      <td>4</td>\n      <td>0.0</td>\n      <td>0.750000</td>\n    </tr>\n    <tr>\n      <th>001e1</th>\n      <td>-1686.475347</td>\n      <td>328.643503</td>\n      <td>0.0</td>\n      <td>17.0</td>\n      <td>0.0</td>\n      <td>0.0</td>\n      <td>0.0</td>\n      <td>0.0</td>\n      <td>0.0</td>\n      <td>0.0</td>\n      <td>0.0</td>\n      <td>0.0</td>\n      <td>17.0</td>\n      <td>16</td>\n      <td>345.316667</td>\n      <td>0</td>\n      <td>17</td>\n      <td>0.0</td>\n      <td>0.941176</td>\n    </tr>\n    <tr>\n      <th>002f1</th>\n      <td>-297.426877</td>\n      <td>58.184144</td>\n      <td>0.0</td>\n      <td>0.0</td>\n      <td>0.0</td>\n      <td>0.0</td>\n      <td>5.0</td>\n      <td>0.0</td>\n      <td>0.0</td>\n      <td>0.0</td>\n      <td>0.0</td>\n      <td>0.0</td>\n      <td>0.0</td>\n      <td>0</td>\n      <td>2550.566667</td>\n      <td>0</td>\n      <td>5</td>\n      <td>0.0</td>\n      <td>0.000000</td>\n    </tr>\n    <tr>\n      <th>002fa</th>\n      <td>-297.701659</td>\n      <td>58.497048</td>\n      <td>0.0</td>\n      <td>0.0</td>\n      <td>0.0</td>\n      <td>0.0</td>\n      <td>0.0</td>\n      <td>0.0</td>\n      <td>0.0</td>\n      <td>0.0</td>\n      <td>0.0</td>\n      <td>0.0</td>\n      <td>3.0</td>\n      <td>0</td>\n      <td>139.716667</td>\n      <td>0</td>\n      <td>3</td>\n      <td>0.0</td>\n      <td>0.000000</td>\n    </tr>\n    <tr>\n      <th>...</th>\n      <td>...</td>\n      <td>...</td>\n      <td>...</td>\n      <td>...</td>\n      <td>...</td>\n      <td>...</td>\n      <td>...</td>\n      <td>...</td>\n      <td>...</td>\n      <td>...</td>\n      <td>...</td>\n      <td>...</td>\n      <td>...</td>\n      <td>...</td>\n      <td>...</td>\n      <td>...</td>\n      <td>...</td>\n      <td>...</td>\n      <td>...</td>\n    </tr>\n    <tr>\n      <th>ffd86</th>\n      <td>-693.858813</td>\n      <td>137.385153</td>\n      <td>0.0</td>\n      <td>0.0</td>\n      <td>22.0</td>\n      <td>0.0</td>\n      <td>0.0</td>\n      <td>0.0</td>\n      <td>0.0</td>\n      <td>0.0</td>\n      <td>0.0</td>\n      <td>0.0</td>\n      <td>7.0</td>\n      <td>12</td>\n      <td>3652.716667</td>\n      <td>0</td>\n      <td>22</td>\n      <td>0.0</td>\n      <td>0.545455</td>\n    </tr>\n    <tr>\n      <th>ffedf</th>\n      <td>0.000000</td>\n      <td>0.000000</td>\n      <td>0.0</td>\n      <td>0.0</td>\n      <td>0.0</td>\n      <td>4.0</td>\n      <td>0.0</td>\n      <td>0.0</td>\n      <td>0.0</td>\n      <td>0.0</td>\n      <td>0.0</td>\n      <td>0.0</td>\n      <td>0.0</td>\n      <td>4</td>\n      <td>411.050000</td>\n      <td>0</td>\n      <td>4</td>\n      <td>0.0</td>\n      <td>1.000000</td>\n    </tr>\n    <tr>\n      <th>fff2a</th>\n      <td>-17638.600783</td>\n      <td>3458.458357</td>\n      <td>0.0</td>\n      <td>144.0</td>\n      <td>0.0</td>\n      <td>136.0</td>\n      <td>3.0</td>\n      <td>0.0</td>\n      <td>19.0</td>\n      <td>0.0</td>\n      <td>0.0</td>\n      <td>0.0</td>\n      <td>176.0</td>\n      <td>248</td>\n      <td>7980.416667</td>\n      <td>0</td>\n      <td>302</td>\n      <td>0.0</td>\n      <td>0.821192</td>\n    </tr>\n    <tr>\n      <th>fff82</th>\n      <td>-8125.727148</td>\n      <td>1588.767232</td>\n      <td>1.0</td>\n      <td>82.0</td>\n      <td>0.0</td>\n      <td>0.0</td>\n      <td>2.0</td>\n      <td>0.0</td>\n      <td>4.0</td>\n      <td>0.0</td>\n      <td>0.0</td>\n      <td>0.0</td>\n      <td>82.0</td>\n      <td>3</td>\n      <td>42681.350000</td>\n      <td>0</td>\n      <td>82</td>\n      <td>0.0</td>\n      <td>0.036585</td>\n    </tr>\n    <tr>\n      <th>fffef</th>\n      <td>0.000000</td>\n      <td>0.000000</td>\n      <td>0.0</td>\n      <td>0.0</td>\n      <td>0.0</td>\n      <td>3.0</td>\n      <td>0.0</td>\n      <td>0.0</td>\n      <td>0.0</td>\n      <td>0.0</td>\n      <td>0.0</td>\n      <td>0.0</td>\n      <td>0.0</td>\n      <td>1</td>\n      <td>211.500000</td>\n      <td>0</td>\n      <td>3</td>\n      <td>0.0</td>\n      <td>0.333333</td>\n    </tr>\n  </tbody>\n</table>\n<p>4598 rows × 19 columns</p>\n</div>"
     },
     "metadata": {},
     "execution_count": 26
    }
   ],
   "source": [
    "gpbyuser_dismissers= gpbyuser2.loc[gpbyuser2['opened_rate']== 0 ]\n",
    "gpbyuser_dismissers"
   ]
  },
  {
   "cell_type": "code",
   "execution_count": 27,
   "metadata": {},
   "outputs": [
    {
     "output_type": "execute_result",
     "data": {
      "text/plain": [
       "         area_of_effect_coordinates_latitude  \\\n",
       "user_id                                        \n",
       "0072a                            -198.225494   \n",
       "00de8                             -99.128561   \n",
       "00f03                            -297.434092   \n",
       "02423                               0.000000   \n",
       "02aa0                             -99.209317   \n",
       "...                                      ...   \n",
       "fd695                            -495.775587   \n",
       "ff2ac                             -99.079372   \n",
       "ff623                            -297.435218   \n",
       "ffb6e                            -297.093995   \n",
       "ffbe7                               0.000000   \n",
       "\n",
       "         area_of_effect_coordinates_longitude  agency_GewRJAw5tUmC4Ku4AX1-SQ  \\\n",
       "user_id                                                                        \n",
       "0072a                               38.964150                            0.0   \n",
       "00de8                               19.481313                            0.0   \n",
       "00f03                               58.370746                            0.0   \n",
       "02423                                0.000000                            0.0   \n",
       "02aa0                               19.460743                            0.0   \n",
       "...                                       ...                            ...   \n",
       "fd695                               97.116459                            0.0   \n",
       "ff2ac                               19.451504                            0.0   \n",
       "ff623                               57.949825                            0.0   \n",
       "ffb6e                               58.240704                            0.0   \n",
       "ffbe7                                0.000000                            0.0   \n",
       "\n",
       "         agency_GtvOEQAFZ0GtU6u4AXwvPg  agency_HE59N3RXM0q5vKu4AXlQZg  \\\n",
       "user_id                                                                 \n",
       "0072a                              1.0                            1.0   \n",
       "00de8                              0.0                            0.0   \n",
       "00f03                              2.0                            0.0   \n",
       "02423                              0.0                            0.0   \n",
       "02aa0                              1.0                            0.0   \n",
       "...                                ...                            ...   \n",
       "fd695                              5.0                            0.0   \n",
       "ff2ac                              1.0                            0.0   \n",
       "ff623                              2.0                            0.0   \n",
       "ffb6e                              1.0                            0.0   \n",
       "ffbe7                              0.0                            0.0   \n",
       "\n",
       "         agency_JUR9bFXmVkWDHqu4AXaY0g  agency_JfA8Bw8Zp024Kqu4AXiSpQ  \\\n",
       "user_id                                                                 \n",
       "0072a                              1.0                            1.0   \n",
       "00de8                              2.0                            1.0   \n",
       "00f03                              0.0                           11.0   \n",
       "02423                              3.0                            0.0   \n",
       "02aa0                              3.0                            0.0   \n",
       "...                                ...                            ...   \n",
       "fd695                              0.0                            3.0   \n",
       "ff2ac                              2.0                            0.0   \n",
       "ff623                              2.0                            0.0   \n",
       "ffb6e                              0.0                            0.0   \n",
       "ffbe7                              5.0                            0.0   \n",
       "\n",
       "         agency_MgUq5b9mOEunx6u4AXt_BA  agency_NuuRQ2I1Q0a50Kv-AVKlLA  \\\n",
       "user_id                                                                 \n",
       "0072a                              0.0                            0.0   \n",
       "00de8                              0.0                            0.0   \n",
       "00f03                              0.0                            0.0   \n",
       "02423                              0.0                            0.0   \n",
       "02aa0                              0.0                            0.0   \n",
       "...                                ...                            ...   \n",
       "fd695                              0.0                            0.0   \n",
       "ff2ac                              0.0                            0.0   \n",
       "ff623                              0.0                            0.0   \n",
       "ffb6e                              0.0                            0.0   \n",
       "ffbe7                              0.0                            0.0   \n",
       "\n",
       "         agency_V2AIQQKgmUO3VazvAOA-Cw  agency_jLjibFoim0iwWau4AWoEdQ  \\\n",
       "user_id                                                                 \n",
       "0072a                              0.0                            0.0   \n",
       "00de8                              0.0                            0.0   \n",
       "00f03                              0.0                            0.0   \n",
       "02423                              0.0                            0.0   \n",
       "02aa0                              0.0                            0.0   \n",
       "...                                ...                            ...   \n",
       "fd695                              0.0                            0.0   \n",
       "ff2ac                              0.0                            0.0   \n",
       "ff623                              0.0                            0.0   \n",
       "ffb6e                              0.0                            0.0   \n",
       "ffbe7                              0.0                            0.0   \n",
       "\n",
       "         agency_pky7jovXYkaw-awAAMrQ3g  agency_zCy9zG00HEqGeKu4AWZYNQ  \\\n",
       "user_id                                                                 \n",
       "0072a                              0.0                            2.0   \n",
       "00de8                              0.0                            1.0   \n",
       "00f03                              0.0                            3.0   \n",
       "02423                              0.0                            0.0   \n",
       "02aa0                              0.0                            1.0   \n",
       "...                                ...                            ...   \n",
       "fd695                              0.0                            5.0   \n",
       "ff2ac                              0.0                            1.0   \n",
       "ff623                              1.0                            3.0   \n",
       "ffb6e                              0.0                            3.0   \n",
       "ffbe7                              0.0                            0.0   \n",
       "\n",
       "         notif_viewed_ontime  reaction_time  opened  count1  opened_rate  \\\n",
       "user_id                                                                    \n",
       "0072a                      3     193.966667       4       4          1.0   \n",
       "00de8                      3      48.850000       3       3          1.0   \n",
       "00f03                     11      78.050000      11      11          1.0   \n",
       "02423                      2     326.233333       3       3          1.0   \n",
       "02aa0                      3     136.966667       3       3          1.0   \n",
       "...                      ...            ...     ...     ...          ...   \n",
       "fd695                      7     150.916667       7       7          1.0   \n",
       "ff2ac                      3      43.033333       3       3          1.0   \n",
       "ff623                      2     237.716667       5       5          1.0   \n",
       "ffb6e                      3     466.200000       3       3          1.0   \n",
       "ffbe7                      5      16.766667       5       5          1.0   \n",
       "\n",
       "         ontime_activity_rate  \n",
       "user_id                        \n",
       "0072a                0.750000  \n",
       "00de8                1.000000  \n",
       "00f03                1.000000  \n",
       "02423                0.666667  \n",
       "02aa0                1.000000  \n",
       "...                       ...  \n",
       "fd695                1.000000  \n",
       "ff2ac                1.000000  \n",
       "ff623                0.400000  \n",
       "ffb6e                1.000000  \n",
       "ffbe7                1.000000  \n",
       "\n",
       "[248 rows x 19 columns]"
      ],
      "text/html": "<div>\n<style scoped>\n    .dataframe tbody tr th:only-of-type {\n        vertical-align: middle;\n    }\n\n    .dataframe tbody tr th {\n        vertical-align: top;\n    }\n\n    .dataframe thead th {\n        text-align: right;\n    }\n</style>\n<table border=\"1\" class=\"dataframe\">\n  <thead>\n    <tr style=\"text-align: right;\">\n      <th></th>\n      <th>area_of_effect_coordinates_latitude</th>\n      <th>area_of_effect_coordinates_longitude</th>\n      <th>agency_GewRJAw5tUmC4Ku4AX1-SQ</th>\n      <th>agency_GtvOEQAFZ0GtU6u4AXwvPg</th>\n      <th>agency_HE59N3RXM0q5vKu4AXlQZg</th>\n      <th>agency_JUR9bFXmVkWDHqu4AXaY0g</th>\n      <th>agency_JfA8Bw8Zp024Kqu4AXiSpQ</th>\n      <th>agency_MgUq5b9mOEunx6u4AXt_BA</th>\n      <th>agency_NuuRQ2I1Q0a50Kv-AVKlLA</th>\n      <th>agency_V2AIQQKgmUO3VazvAOA-Cw</th>\n      <th>agency_jLjibFoim0iwWau4AWoEdQ</th>\n      <th>agency_pky7jovXYkaw-awAAMrQ3g</th>\n      <th>agency_zCy9zG00HEqGeKu4AWZYNQ</th>\n      <th>notif_viewed_ontime</th>\n      <th>reaction_time</th>\n      <th>opened</th>\n      <th>count1</th>\n      <th>opened_rate</th>\n      <th>ontime_activity_rate</th>\n    </tr>\n    <tr>\n      <th>user_id</th>\n      <th></th>\n      <th></th>\n      <th></th>\n      <th></th>\n      <th></th>\n      <th></th>\n      <th></th>\n      <th></th>\n      <th></th>\n      <th></th>\n      <th></th>\n      <th></th>\n      <th></th>\n      <th></th>\n      <th></th>\n      <th></th>\n      <th></th>\n      <th></th>\n      <th></th>\n    </tr>\n  </thead>\n  <tbody>\n    <tr>\n      <th>0072a</th>\n      <td>-198.225494</td>\n      <td>38.964150</td>\n      <td>0.0</td>\n      <td>1.0</td>\n      <td>1.0</td>\n      <td>1.0</td>\n      <td>1.0</td>\n      <td>0.0</td>\n      <td>0.0</td>\n      <td>0.0</td>\n      <td>0.0</td>\n      <td>0.0</td>\n      <td>2.0</td>\n      <td>3</td>\n      <td>193.966667</td>\n      <td>4</td>\n      <td>4</td>\n      <td>1.0</td>\n      <td>0.750000</td>\n    </tr>\n    <tr>\n      <th>00de8</th>\n      <td>-99.128561</td>\n      <td>19.481313</td>\n      <td>0.0</td>\n      <td>0.0</td>\n      <td>0.0</td>\n      <td>2.0</td>\n      <td>1.0</td>\n      <td>0.0</td>\n      <td>0.0</td>\n      <td>0.0</td>\n      <td>0.0</td>\n      <td>0.0</td>\n      <td>1.0</td>\n      <td>3</td>\n      <td>48.850000</td>\n      <td>3</td>\n      <td>3</td>\n      <td>1.0</td>\n      <td>1.000000</td>\n    </tr>\n    <tr>\n      <th>00f03</th>\n      <td>-297.434092</td>\n      <td>58.370746</td>\n      <td>0.0</td>\n      <td>2.0</td>\n      <td>0.0</td>\n      <td>0.0</td>\n      <td>11.0</td>\n      <td>0.0</td>\n      <td>0.0</td>\n      <td>0.0</td>\n      <td>0.0</td>\n      <td>0.0</td>\n      <td>3.0</td>\n      <td>11</td>\n      <td>78.050000</td>\n      <td>11</td>\n      <td>11</td>\n      <td>1.0</td>\n      <td>1.000000</td>\n    </tr>\n    <tr>\n      <th>02423</th>\n      <td>0.000000</td>\n      <td>0.000000</td>\n      <td>0.0</td>\n      <td>0.0</td>\n      <td>0.0</td>\n      <td>3.0</td>\n      <td>0.0</td>\n      <td>0.0</td>\n      <td>0.0</td>\n      <td>0.0</td>\n      <td>0.0</td>\n      <td>0.0</td>\n      <td>0.0</td>\n      <td>2</td>\n      <td>326.233333</td>\n      <td>3</td>\n      <td>3</td>\n      <td>1.0</td>\n      <td>0.666667</td>\n    </tr>\n    <tr>\n      <th>02aa0</th>\n      <td>-99.209317</td>\n      <td>19.460743</td>\n      <td>0.0</td>\n      <td>1.0</td>\n      <td>0.0</td>\n      <td>3.0</td>\n      <td>0.0</td>\n      <td>0.0</td>\n      <td>0.0</td>\n      <td>0.0</td>\n      <td>0.0</td>\n      <td>0.0</td>\n      <td>1.0</td>\n      <td>3</td>\n      <td>136.966667</td>\n      <td>3</td>\n      <td>3</td>\n      <td>1.0</td>\n      <td>1.000000</td>\n    </tr>\n    <tr>\n      <th>...</th>\n      <td>...</td>\n      <td>...</td>\n      <td>...</td>\n      <td>...</td>\n      <td>...</td>\n      <td>...</td>\n      <td>...</td>\n      <td>...</td>\n      <td>...</td>\n      <td>...</td>\n      <td>...</td>\n      <td>...</td>\n      <td>...</td>\n      <td>...</td>\n      <td>...</td>\n      <td>...</td>\n      <td>...</td>\n      <td>...</td>\n      <td>...</td>\n    </tr>\n    <tr>\n      <th>fd695</th>\n      <td>-495.775587</td>\n      <td>97.116459</td>\n      <td>0.0</td>\n      <td>5.0</td>\n      <td>0.0</td>\n      <td>0.0</td>\n      <td>3.0</td>\n      <td>0.0</td>\n      <td>0.0</td>\n      <td>0.0</td>\n      <td>0.0</td>\n      <td>0.0</td>\n      <td>5.0</td>\n      <td>7</td>\n      <td>150.916667</td>\n      <td>7</td>\n      <td>7</td>\n      <td>1.0</td>\n      <td>1.000000</td>\n    </tr>\n    <tr>\n      <th>ff2ac</th>\n      <td>-99.079372</td>\n      <td>19.451504</td>\n      <td>0.0</td>\n      <td>1.0</td>\n      <td>0.0</td>\n      <td>2.0</td>\n      <td>0.0</td>\n      <td>0.0</td>\n      <td>0.0</td>\n      <td>0.0</td>\n      <td>0.0</td>\n      <td>0.0</td>\n      <td>1.0</td>\n      <td>3</td>\n      <td>43.033333</td>\n      <td>3</td>\n      <td>3</td>\n      <td>1.0</td>\n      <td>1.000000</td>\n    </tr>\n    <tr>\n      <th>ff623</th>\n      <td>-297.435218</td>\n      <td>57.949825</td>\n      <td>0.0</td>\n      <td>2.0</td>\n      <td>0.0</td>\n      <td>2.0</td>\n      <td>0.0</td>\n      <td>0.0</td>\n      <td>0.0</td>\n      <td>0.0</td>\n      <td>0.0</td>\n      <td>1.0</td>\n      <td>3.0</td>\n      <td>2</td>\n      <td>237.716667</td>\n      <td>5</td>\n      <td>5</td>\n      <td>1.0</td>\n      <td>0.400000</td>\n    </tr>\n    <tr>\n      <th>ffb6e</th>\n      <td>-297.093995</td>\n      <td>58.240704</td>\n      <td>0.0</td>\n      <td>1.0</td>\n      <td>0.0</td>\n      <td>0.0</td>\n      <td>0.0</td>\n      <td>0.0</td>\n      <td>0.0</td>\n      <td>0.0</td>\n      <td>0.0</td>\n      <td>0.0</td>\n      <td>3.0</td>\n      <td>3</td>\n      <td>466.200000</td>\n      <td>3</td>\n      <td>3</td>\n      <td>1.0</td>\n      <td>1.000000</td>\n    </tr>\n    <tr>\n      <th>ffbe7</th>\n      <td>0.000000</td>\n      <td>0.000000</td>\n      <td>0.0</td>\n      <td>0.0</td>\n      <td>0.0</td>\n      <td>5.0</td>\n      <td>0.0</td>\n      <td>0.0</td>\n      <td>0.0</td>\n      <td>0.0</td>\n      <td>0.0</td>\n      <td>0.0</td>\n      <td>0.0</td>\n      <td>5</td>\n      <td>16.766667</td>\n      <td>5</td>\n      <td>5</td>\n      <td>1.0</td>\n      <td>1.000000</td>\n    </tr>\n  </tbody>\n</table>\n<p>248 rows × 19 columns</p>\n</div>"
     },
     "metadata": {},
     "execution_count": 27
    }
   ],
   "source": [
    "gpbyuser_openers= gpbyuser2.loc[gpbyuser2['opened_rate']== 1]\n",
    "gpbyuser_openers"
   ]
  },
  {
   "cell_type": "code",
   "execution_count": 28,
   "metadata": {},
   "outputs": [
    {
     "output_type": "execute_result",
     "data": {
      "text/plain": [
       "3     73\n",
       "4     49\n",
       "5     29\n",
       "6     20\n",
       "8     17\n",
       "7     15\n",
       "10     8\n",
       "11     8\n",
       "9      6\n",
       "13     4\n",
       "16     3\n",
       "19     3\n",
       "12     2\n",
       "14     2\n",
       "17     2\n",
       "18     2\n",
       "24     1\n",
       "26     1\n",
       "27     1\n",
       "44     1\n",
       "62     1\n",
       "Name: count1, dtype: int64"
      ]
     },
     "metadata": {},
     "execution_count": 28
    }
   ],
   "source": [
    "gpbyuser_openers['count1'].sort_values().value_counts()"
   ]
  },
  {
   "cell_type": "code",
   "execution_count": 26,
   "metadata": {},
   "outputs": [
    {
     "output_type": "display_data",
     "data": {
      "text/plain": "<Figure size 1440x720 with 1 Axes>",
      "image/svg+xml": "<?xml version=\"1.0\" encoding=\"utf-8\" standalone=\"no\"?>\n<!DOCTYPE svg PUBLIC \"-//W3C//DTD SVG 1.1//EN\"\n  \"http://www.w3.org/Graphics/SVG/1.1/DTD/svg11.dtd\">\n<!-- Created with matplotlib (https://matplotlib.org/) -->\n<svg height=\"592.821094pt\" version=\"1.1\" viewBox=\"0 0 1173.366094 592.821094\" width=\"1173.366094pt\" xmlns=\"http://www.w3.org/2000/svg\" xmlns:xlink=\"http://www.w3.org/1999/xlink\">\n <metadata>\n  <rdf:RDF xmlns:cc=\"http://creativecommons.org/ns#\" xmlns:dc=\"http://purl.org/dc/elements/1.1/\" xmlns:rdf=\"http://www.w3.org/1999/02/22-rdf-syntax-ns#\">\n   <cc:Work>\n    <dc:type rdf:resource=\"http://purl.org/dc/dcmitype/StillImage\"/>\n    <dc:date>2021-07-16T13:18:51.258493</dc:date>\n    <dc:format>image/svg+xml</dc:format>\n    <dc:creator>\n     <cc:Agent>\n      <dc:title>Matplotlib v3.3.4, https://matplotlib.org/</dc:title>\n     </cc:Agent>\n    </dc:creator>\n   </cc:Work>\n  </rdf:RDF>\n </metadata>\n <defs>\n  <style type=\"text/css\">*{stroke-linecap:butt;stroke-linejoin:round;}</style>\n </defs>\n <g id=\"figure_1\">\n  <g id=\"patch_1\">\n   <path d=\"M 0 592.821094 \nL 1173.366094 592.821094 \nL 1173.366094 0 \nL 0 0 \nz\n\" style=\"fill:#ffffff;\"/>\n  </g>\n  <g id=\"axes_1\">\n   <g id=\"patch_2\">\n    <path d=\"M 50.166094 550.8 \nL 1166.166094 550.8 \nL 1166.166094 7.2 \nL 50.166094 7.2 \nz\n\" style=\"fill:#eaeaf2;\"/>\n   </g>\n   <g id=\"matplotlib.axis_1\">\n    <g id=\"xtick_1\">\n     <g id=\"line2d_1\">\n      <path clip-path=\"url(#p70f6ed0068)\" d=\"M 221.263166 550.8 \nL 221.263166 7.2 \n\" style=\"fill:none;stroke:#ffffff;stroke-linecap:round;\"/>\n     </g>\n     <g id=\"text_1\">\n      <!-- 10 -->\n      <g style=\"fill:#262626;\" transform=\"translate(215.146135 568.173594)scale(0.11 -0.11)\">\n       <defs>\n        <path d=\"M 37.25 0 \nL 28.46875 0 \nL 28.46875 56 \nQ 25.296875 52.984375 20.140625 49.953125 \nQ 14.984375 46.921875 10.890625 45.40625 \nL 10.890625 53.90625 \nQ 18.265625 57.375 23.78125 62.296875 \nQ 29.296875 67.234375 31.59375 71.875 \nL 37.25 71.875 \nz\n\" id=\"ArialMT-49\"/>\n        <path d=\"M 4.15625 35.296875 \nQ 4.15625 48 6.765625 55.734375 \nQ 9.375 63.484375 14.515625 67.671875 \nQ 19.671875 71.875 27.484375 71.875 \nQ 33.25 71.875 37.59375 69.546875 \nQ 41.9375 67.234375 44.765625 62.859375 \nQ 47.609375 58.5 49.21875 52.21875 \nQ 50.828125 45.953125 50.828125 35.296875 \nQ 50.828125 22.703125 48.234375 14.96875 \nQ 45.65625 7.234375 40.5 3 \nQ 35.359375 -1.21875 27.484375 -1.21875 \nQ 17.140625 -1.21875 11.234375 6.203125 \nQ 4.15625 15.140625 4.15625 35.296875 \nz\nM 13.1875 35.296875 \nQ 13.1875 17.671875 17.3125 11.828125 \nQ 21.4375 6 27.484375 6 \nQ 33.546875 6 37.671875 11.859375 \nQ 41.796875 17.71875 41.796875 35.296875 \nQ 41.796875 52.984375 37.671875 58.78125 \nQ 33.546875 64.59375 27.390625 64.59375 \nQ 21.34375 64.59375 17.71875 59.46875 \nQ 13.1875 52.9375 13.1875 35.296875 \nz\n\" id=\"ArialMT-48\"/>\n       </defs>\n       <use xlink:href=\"#ArialMT-49\"/>\n       <use x=\"55.615234\" xlink:href=\"#ArialMT-48\"/>\n      </g>\n     </g>\n    </g>\n    <g id=\"xtick_2\">\n     <g id=\"line2d_2\">\n      <path clip-path=\"url(#p70f6ed0068)\" d=\"M 393.220023 550.8 \nL 393.220023 7.2 \n\" style=\"fill:none;stroke:#ffffff;stroke-linecap:round;\"/>\n     </g>\n     <g id=\"text_2\">\n      <!-- 20 -->\n      <g style=\"fill:#262626;\" transform=\"translate(387.102992 568.173594)scale(0.11 -0.11)\">\n       <defs>\n        <path d=\"M 50.34375 8.453125 \nL 50.34375 0 \nL 3.03125 0 \nQ 2.9375 3.171875 4.046875 6.109375 \nQ 5.859375 10.9375 9.828125 15.625 \nQ 13.8125 20.3125 21.34375 26.46875 \nQ 33.015625 36.03125 37.109375 41.625 \nQ 41.21875 47.21875 41.21875 52.203125 \nQ 41.21875 57.421875 37.46875 61 \nQ 33.734375 64.59375 27.734375 64.59375 \nQ 21.390625 64.59375 17.578125 60.78125 \nQ 13.765625 56.984375 13.71875 50.25 \nL 4.6875 51.171875 \nQ 5.609375 61.28125 11.65625 66.578125 \nQ 17.71875 71.875 27.9375 71.875 \nQ 38.234375 71.875 44.234375 66.15625 \nQ 50.25 60.453125 50.25 52 \nQ 50.25 47.703125 48.484375 43.546875 \nQ 46.734375 39.40625 42.65625 34.8125 \nQ 38.578125 30.21875 29.109375 22.21875 \nQ 21.1875 15.578125 18.9375 13.203125 \nQ 16.703125 10.84375 15.234375 8.453125 \nz\n\" id=\"ArialMT-50\"/>\n       </defs>\n       <use xlink:href=\"#ArialMT-50\"/>\n       <use x=\"55.615234\" xlink:href=\"#ArialMT-48\"/>\n      </g>\n     </g>\n    </g>\n    <g id=\"xtick_3\">\n     <g id=\"line2d_3\">\n      <path clip-path=\"url(#p70f6ed0068)\" d=\"M 565.17688 550.8 \nL 565.17688 7.2 \n\" style=\"fill:none;stroke:#ffffff;stroke-linecap:round;\"/>\n     </g>\n     <g id=\"text_3\">\n      <!-- 30 -->\n      <g style=\"fill:#262626;\" transform=\"translate(559.059848 568.173594)scale(0.11 -0.11)\">\n       <defs>\n        <path d=\"M 4.203125 18.890625 \nL 12.984375 20.0625 \nQ 14.5 12.59375 18.140625 9.296875 \nQ 21.78125 6 27 6 \nQ 33.203125 6 37.46875 10.296875 \nQ 41.75 14.59375 41.75 20.953125 \nQ 41.75 27 37.796875 30.921875 \nQ 33.84375 34.859375 27.734375 34.859375 \nQ 25.25 34.859375 21.53125 33.890625 \nL 22.515625 41.609375 \nQ 23.390625 41.5 23.921875 41.5 \nQ 29.546875 41.5 34.03125 44.421875 \nQ 38.53125 47.359375 38.53125 53.46875 \nQ 38.53125 58.296875 35.25 61.46875 \nQ 31.984375 64.65625 26.8125 64.65625 \nQ 21.6875 64.65625 18.265625 61.421875 \nQ 14.84375 58.203125 13.875 51.765625 \nL 5.078125 53.328125 \nQ 6.6875 62.15625 12.390625 67.015625 \nQ 18.109375 71.875 26.609375 71.875 \nQ 32.46875 71.875 37.390625 69.359375 \nQ 42.328125 66.84375 44.9375 62.5 \nQ 47.5625 58.15625 47.5625 53.265625 \nQ 47.5625 48.640625 45.0625 44.828125 \nQ 42.578125 41.015625 37.703125 38.765625 \nQ 44.046875 37.3125 47.5625 32.6875 \nQ 51.078125 28.078125 51.078125 21.140625 \nQ 51.078125 11.765625 44.234375 5.25 \nQ 37.40625 -1.265625 26.953125 -1.265625 \nQ 17.53125 -1.265625 11.296875 4.34375 \nQ 5.078125 9.96875 4.203125 18.890625 \nz\n\" id=\"ArialMT-51\"/>\n       </defs>\n       <use xlink:href=\"#ArialMT-51\"/>\n       <use x=\"55.615234\" xlink:href=\"#ArialMT-48\"/>\n      </g>\n     </g>\n    </g>\n    <g id=\"xtick_4\">\n     <g id=\"line2d_4\">\n      <path clip-path=\"url(#p70f6ed0068)\" d=\"M 737.133736 550.8 \nL 737.133736 7.2 \n\" style=\"fill:none;stroke:#ffffff;stroke-linecap:round;\"/>\n     </g>\n     <g id=\"text_4\">\n      <!-- 40 -->\n      <g style=\"fill:#262626;\" transform=\"translate(731.016705 568.173594)scale(0.11 -0.11)\">\n       <defs>\n        <path d=\"M 32.328125 0 \nL 32.328125 17.140625 \nL 1.265625 17.140625 \nL 1.265625 25.203125 \nL 33.9375 71.578125 \nL 41.109375 71.578125 \nL 41.109375 25.203125 \nL 50.78125 25.203125 \nL 50.78125 17.140625 \nL 41.109375 17.140625 \nL 41.109375 0 \nz\nM 32.328125 25.203125 \nL 32.328125 57.46875 \nL 9.90625 25.203125 \nz\n\" id=\"ArialMT-52\"/>\n       </defs>\n       <use xlink:href=\"#ArialMT-52\"/>\n       <use x=\"55.615234\" xlink:href=\"#ArialMT-48\"/>\n      </g>\n     </g>\n    </g>\n    <g id=\"xtick_5\">\n     <g id=\"line2d_5\">\n      <path clip-path=\"url(#p70f6ed0068)\" d=\"M 909.090593 550.8 \nL 909.090593 7.2 \n\" style=\"fill:none;stroke:#ffffff;stroke-linecap:round;\"/>\n     </g>\n     <g id=\"text_5\">\n      <!-- 50 -->\n      <g style=\"fill:#262626;\" transform=\"translate(902.973562 568.173594)scale(0.11 -0.11)\">\n       <defs>\n        <path d=\"M 4.15625 18.75 \nL 13.375 19.53125 \nQ 14.40625 12.796875 18.140625 9.390625 \nQ 21.875 6 27.15625 6 \nQ 33.5 6 37.890625 10.78125 \nQ 42.28125 15.578125 42.28125 23.484375 \nQ 42.28125 31 38.0625 35.34375 \nQ 33.84375 39.703125 27 39.703125 \nQ 22.75 39.703125 19.328125 37.765625 \nQ 15.921875 35.84375 13.96875 32.765625 \nL 5.71875 33.84375 \nL 12.640625 70.609375 \nL 48.25 70.609375 \nL 48.25 62.203125 \nL 19.671875 62.203125 \nL 15.828125 42.96875 \nQ 22.265625 47.46875 29.34375 47.46875 \nQ 38.71875 47.46875 45.15625 40.96875 \nQ 51.609375 34.46875 51.609375 24.265625 \nQ 51.609375 14.546875 45.953125 7.46875 \nQ 39.0625 -1.21875 27.15625 -1.21875 \nQ 17.390625 -1.21875 11.203125 4.25 \nQ 5.03125 9.71875 4.15625 18.75 \nz\n\" id=\"ArialMT-53\"/>\n       </defs>\n       <use xlink:href=\"#ArialMT-53\"/>\n       <use x=\"55.615234\" xlink:href=\"#ArialMT-48\"/>\n      </g>\n     </g>\n    </g>\n    <g id=\"xtick_6\">\n     <g id=\"line2d_6\">\n      <path clip-path=\"url(#p70f6ed0068)\" d=\"M 1081.04745 550.8 \nL 1081.04745 7.2 \n\" style=\"fill:none;stroke:#ffffff;stroke-linecap:round;\"/>\n     </g>\n     <g id=\"text_6\">\n      <!-- 60 -->\n      <g style=\"fill:#262626;\" transform=\"translate(1074.930418 568.173594)scale(0.11 -0.11)\">\n       <defs>\n        <path d=\"M 49.75 54.046875 \nL 41.015625 53.375 \nQ 39.84375 58.546875 37.703125 60.890625 \nQ 34.125 64.65625 28.90625 64.65625 \nQ 24.703125 64.65625 21.53125 62.3125 \nQ 17.390625 59.28125 14.984375 53.46875 \nQ 12.59375 47.65625 12.5 36.921875 \nQ 15.671875 41.75 20.265625 44.09375 \nQ 24.859375 46.4375 29.890625 46.4375 \nQ 38.671875 46.4375 44.84375 39.96875 \nQ 51.03125 33.5 51.03125 23.25 \nQ 51.03125 16.5 48.125 10.71875 \nQ 45.21875 4.9375 40.140625 1.859375 \nQ 35.0625 -1.21875 28.609375 -1.21875 \nQ 17.625 -1.21875 10.6875 6.859375 \nQ 3.765625 14.9375 3.765625 33.5 \nQ 3.765625 54.25 11.421875 63.671875 \nQ 18.109375 71.875 29.4375 71.875 \nQ 37.890625 71.875 43.28125 67.140625 \nQ 48.6875 62.40625 49.75 54.046875 \nz\nM 13.875 23.1875 \nQ 13.875 18.65625 15.796875 14.5 \nQ 17.71875 10.359375 21.1875 8.171875 \nQ 24.65625 6 28.46875 6 \nQ 34.03125 6 38.03125 10.484375 \nQ 42.046875 14.984375 42.046875 22.703125 \nQ 42.046875 30.125 38.078125 34.390625 \nQ 34.125 38.671875 28.125 38.671875 \nQ 22.171875 38.671875 18.015625 34.390625 \nQ 13.875 30.125 13.875 23.1875 \nz\n\" id=\"ArialMT-54\"/>\n       </defs>\n       <use xlink:href=\"#ArialMT-54\"/>\n       <use x=\"55.615234\" xlink:href=\"#ArialMT-48\"/>\n      </g>\n     </g>\n    </g>\n    <g id=\"text_7\">\n     <!-- notification by user -->\n     <g style=\"fill:#262626;\" transform=\"translate(558.142031 583.095469)scale(0.12 -0.12)\">\n      <defs>\n       <path d=\"M 6.59375 0 \nL 6.59375 51.859375 \nL 14.5 51.859375 \nL 14.5 44.484375 \nQ 20.21875 53.03125 31 53.03125 \nQ 35.6875 53.03125 39.625 51.34375 \nQ 43.5625 49.65625 45.515625 46.921875 \nQ 47.46875 44.1875 48.25 40.4375 \nQ 48.734375 37.984375 48.734375 31.890625 \nL 48.734375 0 \nL 39.9375 0 \nL 39.9375 31.546875 \nQ 39.9375 36.921875 38.90625 39.578125 \nQ 37.890625 42.234375 35.28125 43.8125 \nQ 32.671875 45.40625 29.15625 45.40625 \nQ 23.53125 45.40625 19.453125 41.84375 \nQ 15.375 38.28125 15.375 28.328125 \nL 15.375 0 \nz\n\" id=\"ArialMT-110\"/>\n       <path d=\"M 3.328125 25.921875 \nQ 3.328125 40.328125 11.328125 47.265625 \nQ 18.015625 53.03125 27.640625 53.03125 \nQ 38.328125 53.03125 45.109375 46.015625 \nQ 51.90625 39.015625 51.90625 26.65625 \nQ 51.90625 16.65625 48.90625 10.90625 \nQ 45.90625 5.171875 40.15625 2 \nQ 34.421875 -1.171875 27.640625 -1.171875 \nQ 16.75 -1.171875 10.03125 5.8125 \nQ 3.328125 12.796875 3.328125 25.921875 \nz\nM 12.359375 25.921875 \nQ 12.359375 15.96875 16.703125 11.015625 \nQ 21.046875 6.0625 27.640625 6.0625 \nQ 34.1875 6.0625 38.53125 11.03125 \nQ 42.875 16.015625 42.875 26.21875 \nQ 42.875 35.84375 38.5 40.796875 \nQ 34.125 45.75 27.640625 45.75 \nQ 21.046875 45.75 16.703125 40.8125 \nQ 12.359375 35.890625 12.359375 25.921875 \nz\n\" id=\"ArialMT-111\"/>\n       <path d=\"M 25.78125 7.859375 \nL 27.046875 0.09375 \nQ 23.34375 -0.6875 20.40625 -0.6875 \nQ 15.625 -0.6875 12.984375 0.828125 \nQ 10.359375 2.34375 9.28125 4.8125 \nQ 8.203125 7.28125 8.203125 15.1875 \nL 8.203125 45.015625 \nL 1.765625 45.015625 \nL 1.765625 51.859375 \nL 8.203125 51.859375 \nL 8.203125 64.703125 \nL 16.9375 69.96875 \nL 16.9375 51.859375 \nL 25.78125 51.859375 \nL 25.78125 45.015625 \nL 16.9375 45.015625 \nL 16.9375 14.703125 \nQ 16.9375 10.9375 17.40625 9.859375 \nQ 17.875 8.796875 18.921875 8.15625 \nQ 19.96875 7.515625 21.921875 7.515625 \nQ 23.390625 7.515625 25.78125 7.859375 \nz\n\" id=\"ArialMT-116\"/>\n       <path d=\"M 6.640625 61.46875 \nL 6.640625 71.578125 \nL 15.4375 71.578125 \nL 15.4375 61.46875 \nz\nM 6.640625 0 \nL 6.640625 51.859375 \nL 15.4375 51.859375 \nL 15.4375 0 \nz\n\" id=\"ArialMT-105\"/>\n       <path d=\"M 8.6875 0 \nL 8.6875 45.015625 \nL 0.921875 45.015625 \nL 0.921875 51.859375 \nL 8.6875 51.859375 \nL 8.6875 57.375 \nQ 8.6875 62.59375 9.625 65.140625 \nQ 10.890625 68.5625 14.078125 70.671875 \nQ 17.28125 72.796875 23.046875 72.796875 \nQ 26.765625 72.796875 31.25 71.921875 \nL 29.9375 64.265625 \nQ 27.203125 64.75 24.75 64.75 \nQ 20.75 64.75 19.09375 63.03125 \nQ 17.4375 61.328125 17.4375 56.640625 \nL 17.4375 51.859375 \nL 27.546875 51.859375 \nL 27.546875 45.015625 \nL 17.4375 45.015625 \nL 17.4375 0 \nz\n\" id=\"ArialMT-102\"/>\n       <path d=\"M 40.4375 19 \nL 49.078125 17.875 \nQ 47.65625 8.9375 41.8125 3.875 \nQ 35.984375 -1.171875 27.484375 -1.171875 \nQ 16.84375 -1.171875 10.375 5.78125 \nQ 3.90625 12.75 3.90625 25.734375 \nQ 3.90625 34.125 6.6875 40.421875 \nQ 9.46875 46.734375 15.15625 49.875 \nQ 20.84375 53.03125 27.546875 53.03125 \nQ 35.984375 53.03125 41.359375 48.75 \nQ 46.734375 44.484375 48.25 36.625 \nL 39.703125 35.296875 \nQ 38.484375 40.53125 35.375 43.15625 \nQ 32.28125 45.796875 27.875 45.796875 \nQ 21.234375 45.796875 17.078125 41.03125 \nQ 12.9375 36.28125 12.9375 25.984375 \nQ 12.9375 15.53125 16.9375 10.796875 \nQ 20.953125 6.0625 27.390625 6.0625 \nQ 32.5625 6.0625 36.03125 9.234375 \nQ 39.5 12.40625 40.4375 19 \nz\n\" id=\"ArialMT-99\"/>\n       <path d=\"M 40.4375 6.390625 \nQ 35.546875 2.25 31.03125 0.53125 \nQ 26.515625 -1.171875 21.34375 -1.171875 \nQ 12.796875 -1.171875 8.203125 3 \nQ 3.609375 7.171875 3.609375 13.671875 \nQ 3.609375 17.484375 5.34375 20.625 \nQ 7.078125 23.78125 9.890625 25.6875 \nQ 12.703125 27.59375 16.21875 28.5625 \nQ 18.796875 29.25 24.03125 29.890625 \nQ 34.671875 31.15625 39.703125 32.90625 \nQ 39.75 34.71875 39.75 35.203125 \nQ 39.75 40.578125 37.25 42.78125 \nQ 33.890625 45.75 27.25 45.75 \nQ 21.046875 45.75 18.09375 43.578125 \nQ 15.140625 41.40625 13.71875 35.890625 \nL 5.125 37.0625 \nQ 6.296875 42.578125 8.984375 45.96875 \nQ 11.671875 49.359375 16.75 51.1875 \nQ 21.828125 53.03125 28.515625 53.03125 \nQ 35.15625 53.03125 39.296875 51.46875 \nQ 43.453125 49.90625 45.40625 47.53125 \nQ 47.359375 45.171875 48.140625 41.546875 \nQ 48.578125 39.3125 48.578125 33.453125 \nL 48.578125 21.734375 \nQ 48.578125 9.46875 49.140625 6.21875 \nQ 49.703125 2.984375 51.375 0 \nL 42.1875 0 \nQ 40.828125 2.734375 40.4375 6.390625 \nz\nM 39.703125 26.03125 \nQ 34.90625 24.078125 25.34375 22.703125 \nQ 19.921875 21.921875 17.671875 20.9375 \nQ 15.4375 19.96875 14.203125 18.09375 \nQ 12.984375 16.21875 12.984375 13.921875 \nQ 12.984375 10.40625 15.640625 8.0625 \nQ 18.3125 5.71875 23.4375 5.71875 \nQ 28.515625 5.71875 32.46875 7.9375 \nQ 36.421875 10.15625 38.28125 14.015625 \nQ 39.703125 17 39.703125 22.796875 \nz\n\" id=\"ArialMT-97\"/>\n       <path id=\"ArialMT-32\"/>\n       <path d=\"M 14.703125 0 \nL 6.546875 0 \nL 6.546875 71.578125 \nL 15.328125 71.578125 \nL 15.328125 46.046875 \nQ 20.90625 53.03125 29.546875 53.03125 \nQ 34.328125 53.03125 38.59375 51.09375 \nQ 42.875 49.171875 45.625 45.671875 \nQ 48.390625 42.1875 49.953125 37.25 \nQ 51.515625 32.328125 51.515625 26.703125 \nQ 51.515625 13.375 44.921875 6.09375 \nQ 38.328125 -1.171875 29.109375 -1.171875 \nQ 19.921875 -1.171875 14.703125 6.5 \nz\nM 14.59375 26.3125 \nQ 14.59375 17 17.140625 12.84375 \nQ 21.296875 6.0625 28.375 6.0625 \nQ 34.125 6.0625 38.328125 11.0625 \nQ 42.53125 16.0625 42.53125 25.984375 \nQ 42.53125 36.140625 38.5 40.96875 \nQ 34.46875 45.796875 28.765625 45.796875 \nQ 23 45.796875 18.796875 40.796875 \nQ 14.59375 35.796875 14.59375 26.3125 \nz\n\" id=\"ArialMT-98\"/>\n       <path d=\"M 6.203125 -19.96875 \nL 5.21875 -11.71875 \nQ 8.109375 -12.5 10.25 -12.5 \nQ 13.1875 -12.5 14.9375 -11.515625 \nQ 16.703125 -10.546875 17.828125 -8.796875 \nQ 18.65625 -7.46875 20.515625 -2.25 \nQ 20.75 -1.515625 21.296875 -0.09375 \nL 1.609375 51.859375 \nL 11.078125 51.859375 \nL 21.875 21.828125 \nQ 23.96875 16.109375 25.640625 9.8125 \nQ 27.15625 15.875 29.25 21.625 \nL 40.328125 51.859375 \nL 49.125 51.859375 \nL 29.390625 -0.875 \nQ 26.21875 -9.421875 24.46875 -12.640625 \nQ 22.125 -17 19.09375 -19.015625 \nQ 16.0625 -21.046875 11.859375 -21.046875 \nQ 9.328125 -21.046875 6.203125 -19.96875 \nz\n\" id=\"ArialMT-121\"/>\n       <path d=\"M 40.578125 0 \nL 40.578125 7.625 \nQ 34.515625 -1.171875 24.125 -1.171875 \nQ 19.53125 -1.171875 15.546875 0.578125 \nQ 11.578125 2.34375 9.640625 5 \nQ 7.71875 7.671875 6.9375 11.53125 \nQ 6.390625 14.109375 6.390625 19.734375 \nL 6.390625 51.859375 \nL 15.1875 51.859375 \nL 15.1875 23.09375 \nQ 15.1875 16.21875 15.71875 13.8125 \nQ 16.546875 10.359375 19.234375 8.375 \nQ 21.921875 6.390625 25.875 6.390625 \nQ 29.828125 6.390625 33.296875 8.421875 \nQ 36.765625 10.453125 38.203125 13.9375 \nQ 39.65625 17.4375 39.65625 24.078125 \nL 39.65625 51.859375 \nL 48.4375 51.859375 \nL 48.4375 0 \nz\n\" id=\"ArialMT-117\"/>\n       <path d=\"M 3.078125 15.484375 \nL 11.765625 16.84375 \nQ 12.5 11.625 15.84375 8.84375 \nQ 19.1875 6.0625 25.203125 6.0625 \nQ 31.25 6.0625 34.171875 8.515625 \nQ 37.109375 10.984375 37.109375 14.3125 \nQ 37.109375 17.28125 34.515625 19 \nQ 32.71875 20.171875 25.53125 21.96875 \nQ 15.875 24.421875 12.140625 26.203125 \nQ 8.40625 27.984375 6.46875 31.125 \nQ 4.546875 34.28125 4.546875 38.09375 \nQ 4.546875 41.546875 6.125 44.5 \nQ 7.71875 47.46875 10.453125 49.421875 \nQ 12.5 50.921875 16.03125 51.96875 \nQ 19.578125 53.03125 23.640625 53.03125 \nQ 29.734375 53.03125 34.34375 51.265625 \nQ 38.96875 49.515625 41.15625 46.5 \nQ 43.359375 43.5 44.1875 38.484375 \nL 35.59375 37.3125 \nQ 35.015625 41.3125 32.203125 43.546875 \nQ 29.390625 45.796875 24.265625 45.796875 \nQ 18.21875 45.796875 15.625 43.796875 \nQ 13.03125 41.796875 13.03125 39.109375 \nQ 13.03125 37.40625 14.109375 36.03125 \nQ 15.1875 34.625 17.484375 33.6875 \nQ 18.796875 33.203125 25.25 31.453125 \nQ 34.578125 28.953125 38.25 27.359375 \nQ 41.9375 25.78125 44.03125 22.75 \nQ 46.140625 19.734375 46.140625 15.234375 \nQ 46.140625 10.84375 43.578125 6.953125 \nQ 41.015625 3.078125 36.171875 0.953125 \nQ 31.34375 -1.171875 25.25 -1.171875 \nQ 15.140625 -1.171875 9.84375 3.03125 \nQ 4.546875 7.234375 3.078125 15.484375 \nz\n\" id=\"ArialMT-115\"/>\n       <path d=\"M 42.09375 16.703125 \nL 51.171875 15.578125 \nQ 49.03125 7.625 43.21875 3.21875 \nQ 37.40625 -1.171875 28.375 -1.171875 \nQ 17 -1.171875 10.328125 5.828125 \nQ 3.65625 12.84375 3.65625 25.484375 \nQ 3.65625 38.578125 10.390625 45.796875 \nQ 17.140625 53.03125 27.875 53.03125 \nQ 38.28125 53.03125 44.875 45.953125 \nQ 51.46875 38.875 51.46875 26.03125 \nQ 51.46875 25.25 51.421875 23.6875 \nL 12.75 23.6875 \nQ 13.234375 15.140625 17.578125 10.59375 \nQ 21.921875 6.0625 28.421875 6.0625 \nQ 33.25 6.0625 36.671875 8.59375 \nQ 40.09375 11.140625 42.09375 16.703125 \nz\nM 13.234375 30.90625 \nL 42.1875 30.90625 \nQ 41.609375 37.453125 38.875 40.71875 \nQ 34.671875 45.796875 27.984375 45.796875 \nQ 21.921875 45.796875 17.796875 41.75 \nQ 13.671875 37.703125 13.234375 30.90625 \nz\n\" id=\"ArialMT-101\"/>\n       <path d=\"M 6.5 0 \nL 6.5 51.859375 \nL 14.40625 51.859375 \nL 14.40625 44 \nQ 17.4375 49.515625 20 51.265625 \nQ 22.5625 53.03125 25.640625 53.03125 \nQ 30.078125 53.03125 34.671875 50.203125 \nL 31.640625 42.046875 \nQ 28.421875 43.953125 25.203125 43.953125 \nQ 22.3125 43.953125 20.015625 42.21875 \nQ 17.71875 40.484375 16.75 37.40625 \nQ 15.28125 32.71875 15.28125 27.15625 \nL 15.28125 0 \nz\n\" id=\"ArialMT-114\"/>\n      </defs>\n      <use xlink:href=\"#ArialMT-110\"/>\n      <use x=\"55.615234\" xlink:href=\"#ArialMT-111\"/>\n      <use x=\"111.230469\" xlink:href=\"#ArialMT-116\"/>\n      <use x=\"139.013672\" xlink:href=\"#ArialMT-105\"/>\n      <use x=\"161.230469\" xlink:href=\"#ArialMT-102\"/>\n      <use x=\"189.013672\" xlink:href=\"#ArialMT-105\"/>\n      <use x=\"211.230469\" xlink:href=\"#ArialMT-99\"/>\n      <use x=\"261.230469\" xlink:href=\"#ArialMT-97\"/>\n      <use x=\"316.845703\" xlink:href=\"#ArialMT-116\"/>\n      <use x=\"344.628906\" xlink:href=\"#ArialMT-105\"/>\n      <use x=\"366.845703\" xlink:href=\"#ArialMT-111\"/>\n      <use x=\"422.460938\" xlink:href=\"#ArialMT-110\"/>\n      <use x=\"478.076172\" xlink:href=\"#ArialMT-32\"/>\n      <use x=\"505.859375\" xlink:href=\"#ArialMT-98\"/>\n      <use x=\"561.474609\" xlink:href=\"#ArialMT-121\"/>\n      <use x=\"611.474609\" xlink:href=\"#ArialMT-32\"/>\n      <use x=\"639.257812\" xlink:href=\"#ArialMT-117\"/>\n      <use x=\"694.873047\" xlink:href=\"#ArialMT-115\"/>\n      <use x=\"744.873047\" xlink:href=\"#ArialMT-101\"/>\n      <use x=\"800.488281\" xlink:href=\"#ArialMT-114\"/>\n     </g>\n    </g>\n   </g>\n   <g id=\"matplotlib.axis_2\">\n    <g id=\"ytick_1\">\n     <g id=\"line2d_7\">\n      <path clip-path=\"url(#p70f6ed0068)\" d=\"M 50.166094 550.8 \nL 1166.166094 550.8 \n\" style=\"fill:none;stroke:#ffffff;stroke-linecap:round;\"/>\n     </g>\n     <g id=\"text_8\">\n      <!-- 0 -->\n      <g style=\"fill:#262626;\" transform=\"translate(34.549063 554.736797)scale(0.11 -0.11)\">\n       <use xlink:href=\"#ArialMT-48\"/>\n      </g>\n     </g>\n    </g>\n    <g id=\"ytick_2\">\n     <g id=\"line2d_8\">\n      <path clip-path=\"url(#p70f6ed0068)\" d=\"M 50.166094 465.928806 \nL 1166.166094 465.928806 \n\" style=\"fill:none;stroke:#ffffff;stroke-linecap:round;\"/>\n     </g>\n     <g id=\"text_9\">\n      <!-- 20 -->\n      <g style=\"fill:#262626;\" transform=\"translate(28.432031 469.865602)scale(0.11 -0.11)\">\n       <use xlink:href=\"#ArialMT-50\"/>\n       <use x=\"55.615234\" xlink:href=\"#ArialMT-48\"/>\n      </g>\n     </g>\n    </g>\n    <g id=\"ytick_3\">\n     <g id=\"line2d_9\">\n      <path clip-path=\"url(#p70f6ed0068)\" d=\"M 50.166094 381.057611 \nL 1166.166094 381.057611 \n\" style=\"fill:none;stroke:#ffffff;stroke-linecap:round;\"/>\n     </g>\n     <g id=\"text_10\">\n      <!-- 40 -->\n      <g style=\"fill:#262626;\" transform=\"translate(28.432031 384.994408)scale(0.11 -0.11)\">\n       <use xlink:href=\"#ArialMT-52\"/>\n       <use x=\"55.615234\" xlink:href=\"#ArialMT-48\"/>\n      </g>\n     </g>\n    </g>\n    <g id=\"ytick_4\">\n     <g id=\"line2d_10\">\n      <path clip-path=\"url(#p70f6ed0068)\" d=\"M 50.166094 296.186417 \nL 1166.166094 296.186417 \n\" style=\"fill:none;stroke:#ffffff;stroke-linecap:round;\"/>\n     </g>\n     <g id=\"text_11\">\n      <!-- 60 -->\n      <g style=\"fill:#262626;\" transform=\"translate(28.432031 300.123214)scale(0.11 -0.11)\">\n       <use xlink:href=\"#ArialMT-54\"/>\n       <use x=\"55.615234\" xlink:href=\"#ArialMT-48\"/>\n      </g>\n     </g>\n    </g>\n    <g id=\"ytick_5\">\n     <g id=\"line2d_11\">\n      <path clip-path=\"url(#p70f6ed0068)\" d=\"M 50.166094 211.315222 \nL 1166.166094 211.315222 \n\" style=\"fill:none;stroke:#ffffff;stroke-linecap:round;\"/>\n     </g>\n     <g id=\"text_12\">\n      <!-- 80 -->\n      <g style=\"fill:#262626;\" transform=\"translate(28.432031 215.252019)scale(0.11 -0.11)\">\n       <defs>\n        <path d=\"M 17.671875 38.8125 \nQ 12.203125 40.828125 9.5625 44.53125 \nQ 6.9375 48.25 6.9375 53.421875 \nQ 6.9375 61.234375 12.546875 66.546875 \nQ 18.171875 71.875 27.484375 71.875 \nQ 36.859375 71.875 42.578125 66.421875 \nQ 48.296875 60.984375 48.296875 53.171875 \nQ 48.296875 48.1875 45.671875 44.5 \nQ 43.0625 40.828125 37.75 38.8125 \nQ 44.34375 36.671875 47.78125 31.875 \nQ 51.21875 27.09375 51.21875 20.453125 \nQ 51.21875 11.28125 44.71875 5.03125 \nQ 38.234375 -1.21875 27.640625 -1.21875 \nQ 17.046875 -1.21875 10.546875 5.046875 \nQ 4.046875 11.328125 4.046875 20.703125 \nQ 4.046875 27.6875 7.59375 32.390625 \nQ 11.140625 37.109375 17.671875 38.8125 \nz\nM 15.921875 53.71875 \nQ 15.921875 48.640625 19.1875 45.40625 \nQ 22.46875 42.1875 27.6875 42.1875 \nQ 32.765625 42.1875 36.015625 45.375 \nQ 39.265625 48.578125 39.265625 53.21875 \nQ 39.265625 58.0625 35.90625 61.359375 \nQ 32.5625 64.65625 27.59375 64.65625 \nQ 22.5625 64.65625 19.234375 61.421875 \nQ 15.921875 58.203125 15.921875 53.71875 \nz\nM 13.09375 20.65625 \nQ 13.09375 16.890625 14.875 13.375 \nQ 16.65625 9.859375 20.171875 7.921875 \nQ 23.6875 6 27.734375 6 \nQ 34.03125 6 38.125 10.046875 \nQ 42.234375 14.109375 42.234375 20.359375 \nQ 42.234375 26.703125 38.015625 30.859375 \nQ 33.796875 35.015625 27.4375 35.015625 \nQ 21.234375 35.015625 17.15625 30.90625 \nQ 13.09375 26.8125 13.09375 20.65625 \nz\n\" id=\"ArialMT-56\"/>\n       </defs>\n       <use xlink:href=\"#ArialMT-56\"/>\n       <use x=\"55.615234\" xlink:href=\"#ArialMT-48\"/>\n      </g>\n     </g>\n    </g>\n    <g id=\"ytick_6\">\n     <g id=\"line2d_12\">\n      <path clip-path=\"url(#p70f6ed0068)\" d=\"M 50.166094 126.444028 \nL 1166.166094 126.444028 \n\" style=\"fill:none;stroke:#ffffff;stroke-linecap:round;\"/>\n     </g>\n     <g id=\"text_13\">\n      <!-- 100 -->\n      <g style=\"fill:#262626;\" transform=\"translate(22.315 130.380825)scale(0.11 -0.11)\">\n       <use xlink:href=\"#ArialMT-49\"/>\n       <use x=\"55.615234\" xlink:href=\"#ArialMT-48\"/>\n       <use x=\"111.230469\" xlink:href=\"#ArialMT-48\"/>\n      </g>\n     </g>\n    </g>\n    <g id=\"ytick_7\">\n     <g id=\"line2d_13\">\n      <path clip-path=\"url(#p70f6ed0068)\" d=\"M 50.166094 41.572834 \nL 1166.166094 41.572834 \n\" style=\"fill:none;stroke:#ffffff;stroke-linecap:round;\"/>\n     </g>\n     <g id=\"text_14\">\n      <!-- 120 -->\n      <g style=\"fill:#262626;\" transform=\"translate(22.315 45.509631)scale(0.11 -0.11)\">\n       <use xlink:href=\"#ArialMT-49\"/>\n       <use x=\"55.615234\" xlink:href=\"#ArialMT-50\"/>\n       <use x=\"111.230469\" xlink:href=\"#ArialMT-48\"/>\n      </g>\n     </g>\n    </g>\n    <g id=\"text_15\">\n     <!-- density -->\n     <g style=\"fill:#262626;\" transform=\"translate(15.789375 298.009687)rotate(-90)scale(0.12 -0.12)\">\n      <defs>\n       <path d=\"M 40.234375 0 \nL 40.234375 6.546875 \nQ 35.296875 -1.171875 25.734375 -1.171875 \nQ 19.53125 -1.171875 14.328125 2.25 \nQ 9.125 5.671875 6.265625 11.796875 \nQ 3.421875 17.921875 3.421875 25.875 \nQ 3.421875 33.640625 6 39.96875 \nQ 8.59375 46.296875 13.765625 49.65625 \nQ 18.953125 53.03125 25.34375 53.03125 \nQ 30.03125 53.03125 33.6875 51.046875 \nQ 37.359375 49.078125 39.65625 45.90625 \nL 39.65625 71.578125 \nL 48.390625 71.578125 \nL 48.390625 0 \nz\nM 12.453125 25.875 \nQ 12.453125 15.921875 16.640625 10.984375 \nQ 20.84375 6.0625 26.5625 6.0625 \nQ 32.328125 6.0625 36.34375 10.765625 \nQ 40.375 15.484375 40.375 25.140625 \nQ 40.375 35.796875 36.265625 40.765625 \nQ 32.171875 45.75 26.171875 45.75 \nQ 20.3125 45.75 16.375 40.96875 \nQ 12.453125 36.1875 12.453125 25.875 \nz\n\" id=\"ArialMT-100\"/>\n      </defs>\n      <use xlink:href=\"#ArialMT-100\"/>\n      <use x=\"55.615234\" xlink:href=\"#ArialMT-101\"/>\n      <use x=\"111.230469\" xlink:href=\"#ArialMT-110\"/>\n      <use x=\"166.845703\" xlink:href=\"#ArialMT-115\"/>\n      <use x=\"216.845703\" xlink:href=\"#ArialMT-105\"/>\n      <use x=\"239.0625\" xlink:href=\"#ArialMT-116\"/>\n      <use x=\"266.845703\" xlink:href=\"#ArialMT-121\"/>\n     </g>\n    </g>\n   </g>\n   <g id=\"patch_3\">\n    <path clip-path=\"url(#p70f6ed0068)\" d=\"M 100.893366 550.8 \nL 123.951218 550.8 \nL 123.951218 33.085714 \nL 100.893366 33.085714 \nz\n\" style=\"fill:#4c72b0;fill-opacity:0.75;stroke:#ffffff;stroke-linejoin:miter;\"/>\n   </g>\n   <g id=\"patch_4\">\n    <path clip-path=\"url(#p70f6ed0068)\" d=\"M 123.951218 550.8 \nL 147.009069 550.8 \nL 147.009069 427.736768 \nL 123.951218 427.736768 \nz\n\" style=\"fill:#4c72b0;fill-opacity:0.75;stroke:#ffffff;stroke-linejoin:miter;\"/>\n   </g>\n   <g id=\"patch_5\">\n    <path clip-path=\"url(#p70f6ed0068)\" d=\"M 147.009069 550.8 \nL 170.06692 550.8 \nL 170.06692 402.27541 \nL 147.009069 402.27541 \nz\n\" style=\"fill:#4c72b0;fill-opacity:0.75;stroke:#ffffff;stroke-linejoin:miter;\"/>\n   </g>\n   <g id=\"patch_6\">\n    <path clip-path=\"url(#p70f6ed0068)\" d=\"M 170.06692 550.8 \nL 193.124771 550.8 \nL 193.124771 478.659485 \nL 170.06692 478.659485 \nz\n\" style=\"fill:#4c72b0;fill-opacity:0.75;stroke:#ffffff;stroke-linejoin:miter;\"/>\n   </g>\n   <g id=\"patch_7\">\n    <path clip-path=\"url(#p70f6ed0068)\" d=\"M 193.124771 550.8 \nL 216.182623 550.8 \nL 216.182623 525.338642 \nL 193.124771 525.338642 \nz\n\" style=\"fill:#4c72b0;fill-opacity:0.75;stroke:#ffffff;stroke-linejoin:miter;\"/>\n   </g>\n   <g id=\"patch_8\">\n    <path clip-path=\"url(#p70f6ed0068)\" d=\"M 216.182623 550.8 \nL 239.240474 550.8 \nL 239.240474 482.903044 \nL 216.182623 482.903044 \nz\n\" style=\"fill:#4c72b0;fill-opacity:0.75;stroke:#ffffff;stroke-linejoin:miter;\"/>\n   </g>\n   <g id=\"patch_9\">\n    <path clip-path=\"url(#p70f6ed0068)\" d=\"M 239.240474 550.8 \nL 262.298325 550.8 \nL 262.298325 542.312881 \nL 239.240474 542.312881 \nz\n\" style=\"fill:#4c72b0;fill-opacity:0.75;stroke:#ffffff;stroke-linejoin:miter;\"/>\n   </g>\n   <g id=\"patch_10\">\n    <path clip-path=\"url(#p70f6ed0068)\" d=\"M 262.298325 550.8 \nL 285.356176 550.8 \nL 285.356176 533.825761 \nL 262.298325 533.825761 \nz\n\" style=\"fill:#4c72b0;fill-opacity:0.75;stroke:#ffffff;stroke-linejoin:miter;\"/>\n   </g>\n   <g id=\"patch_11\">\n    <path clip-path=\"url(#p70f6ed0068)\" d=\"M 285.356176 550.8 \nL 308.414028 550.8 \nL 308.414028 542.312881 \nL 285.356176 542.312881 \nz\n\" style=\"fill:#4c72b0;fill-opacity:0.75;stroke:#ffffff;stroke-linejoin:miter;\"/>\n   </g>\n   <g id=\"patch_12\">\n    <path clip-path=\"url(#p70f6ed0068)\" d=\"M 308.414028 550.8 \nL 331.471879 550.8 \nL 331.471879 538.069321 \nL 308.414028 538.069321 \nz\n\" style=\"fill:#4c72b0;fill-opacity:0.75;stroke:#ffffff;stroke-linejoin:miter;\"/>\n   </g>\n   <g id=\"patch_13\">\n    <path clip-path=\"url(#p70f6ed0068)\" d=\"M 331.471879 550.8 \nL 354.52973 550.8 \nL 354.52973 542.312881 \nL 331.471879 542.312881 \nz\n\" style=\"fill:#4c72b0;fill-opacity:0.75;stroke:#ffffff;stroke-linejoin:miter;\"/>\n   </g>\n   <g id=\"patch_14\">\n    <path clip-path=\"url(#p70f6ed0068)\" d=\"M 354.52973 550.8 \nL 377.587581 550.8 \nL 377.587581 529.582201 \nL 354.52973 529.582201 \nz\n\" style=\"fill:#4c72b0;fill-opacity:0.75;stroke:#ffffff;stroke-linejoin:miter;\"/>\n   </g>\n   <g id=\"patch_15\">\n    <path clip-path=\"url(#p70f6ed0068)\" d=\"M 377.587581 550.8 \nL 400.645433 550.8 \nL 400.645433 550.8 \nL 377.587581 550.8 \nz\n\" style=\"fill:#4c72b0;fill-opacity:0.75;stroke:#ffffff;stroke-linejoin:miter;\"/>\n   </g>\n   <g id=\"patch_16\">\n    <path clip-path=\"url(#p70f6ed0068)\" d=\"M 400.645433 550.8 \nL 423.703284 550.8 \nL 423.703284 550.8 \nL 400.645433 550.8 \nz\n\" style=\"fill:#4c72b0;fill-opacity:0.75;stroke:#ffffff;stroke-linejoin:miter;\"/>\n   </g>\n   <g id=\"patch_17\">\n    <path clip-path=\"url(#p70f6ed0068)\" d=\"M 423.703284 550.8 \nL 446.761135 550.8 \nL 446.761135 550.8 \nL 423.703284 550.8 \nz\n\" style=\"fill:#4c72b0;fill-opacity:0.75;stroke:#ffffff;stroke-linejoin:miter;\"/>\n   </g>\n   <g id=\"patch_18\">\n    <path clip-path=\"url(#p70f6ed0068)\" d=\"M 446.761135 550.8 \nL 469.818986 550.8 \nL 469.818986 546.55644 \nL 446.761135 546.55644 \nz\n\" style=\"fill:#4c72b0;fill-opacity:0.75;stroke:#ffffff;stroke-linejoin:miter;\"/>\n   </g>\n   <g id=\"patch_19\">\n    <path clip-path=\"url(#p70f6ed0068)\" d=\"M 469.818986 550.8 \nL 492.876838 550.8 \nL 492.876838 550.8 \nL 469.818986 550.8 \nz\n\" style=\"fill:#4c72b0;fill-opacity:0.75;stroke:#ffffff;stroke-linejoin:miter;\"/>\n   </g>\n   <g id=\"patch_20\">\n    <path clip-path=\"url(#p70f6ed0068)\" d=\"M 492.876838 550.8 \nL 515.934689 550.8 \nL 515.934689 542.312881 \nL 492.876838 542.312881 \nz\n\" style=\"fill:#4c72b0;fill-opacity:0.75;stroke:#ffffff;stroke-linejoin:miter;\"/>\n   </g>\n   <g id=\"patch_21\">\n    <path clip-path=\"url(#p70f6ed0068)\" d=\"M 515.934689 550.8 \nL 538.99254 550.8 \nL 538.99254 550.8 \nL 515.934689 550.8 \nz\n\" style=\"fill:#4c72b0;fill-opacity:0.75;stroke:#ffffff;stroke-linejoin:miter;\"/>\n   </g>\n   <g id=\"patch_22\">\n    <path clip-path=\"url(#p70f6ed0068)\" d=\"M 538.99254 550.8 \nL 562.050391 550.8 \nL 562.050391 550.8 \nL 538.99254 550.8 \nz\n\" style=\"fill:#4c72b0;fill-opacity:0.75;stroke:#ffffff;stroke-linejoin:miter;\"/>\n   </g>\n   <g id=\"patch_23\">\n    <path clip-path=\"url(#p70f6ed0068)\" d=\"M 562.050391 550.8 \nL 585.108243 550.8 \nL 585.108243 550.8 \nL 562.050391 550.8 \nz\n\" style=\"fill:#4c72b0;fill-opacity:0.75;stroke:#ffffff;stroke-linejoin:miter;\"/>\n   </g>\n   <g id=\"patch_24\">\n    <path clip-path=\"url(#p70f6ed0068)\" d=\"M 585.108243 550.8 \nL 608.166094 550.8 \nL 608.166094 550.8 \nL 585.108243 550.8 \nz\n\" style=\"fill:#4c72b0;fill-opacity:0.75;stroke:#ffffff;stroke-linejoin:miter;\"/>\n   </g>\n   <g id=\"patch_25\">\n    <path clip-path=\"url(#p70f6ed0068)\" d=\"M 608.166094 550.8 \nL 631.223945 550.8 \nL 631.223945 550.8 \nL 608.166094 550.8 \nz\n\" style=\"fill:#4c72b0;fill-opacity:0.75;stroke:#ffffff;stroke-linejoin:miter;\"/>\n   </g>\n   <g id=\"patch_26\">\n    <path clip-path=\"url(#p70f6ed0068)\" d=\"M 631.223945 550.8 \nL 654.281796 550.8 \nL 654.281796 550.8 \nL 631.223945 550.8 \nz\n\" style=\"fill:#4c72b0;fill-opacity:0.75;stroke:#ffffff;stroke-linejoin:miter;\"/>\n   </g>\n   <g id=\"patch_27\">\n    <path clip-path=\"url(#p70f6ed0068)\" d=\"M 654.281796 550.8 \nL 677.339647 550.8 \nL 677.339647 550.8 \nL 654.281796 550.8 \nz\n\" style=\"fill:#4c72b0;fill-opacity:0.75;stroke:#ffffff;stroke-linejoin:miter;\"/>\n   </g>\n   <g id=\"patch_28\">\n    <path clip-path=\"url(#p70f6ed0068)\" d=\"M 677.339647 550.8 \nL 700.397499 550.8 \nL 700.397499 550.8 \nL 677.339647 550.8 \nz\n\" style=\"fill:#4c72b0;fill-opacity:0.75;stroke:#ffffff;stroke-linejoin:miter;\"/>\n   </g>\n   <g id=\"patch_29\">\n    <path clip-path=\"url(#p70f6ed0068)\" d=\"M 700.397499 550.8 \nL 723.45535 550.8 \nL 723.45535 550.8 \nL 700.397499 550.8 \nz\n\" style=\"fill:#4c72b0;fill-opacity:0.75;stroke:#ffffff;stroke-linejoin:miter;\"/>\n   </g>\n   <g id=\"patch_30\">\n    <path clip-path=\"url(#p70f6ed0068)\" d=\"M 723.45535 550.8 \nL 746.513201 550.8 \nL 746.513201 550.8 \nL 723.45535 550.8 \nz\n\" style=\"fill:#4c72b0;fill-opacity:0.75;stroke:#ffffff;stroke-linejoin:miter;\"/>\n   </g>\n   <g id=\"patch_31\">\n    <path clip-path=\"url(#p70f6ed0068)\" d=\"M 746.513201 550.8 \nL 769.571052 550.8 \nL 769.571052 550.8 \nL 746.513201 550.8 \nz\n\" style=\"fill:#4c72b0;fill-opacity:0.75;stroke:#ffffff;stroke-linejoin:miter;\"/>\n   </g>\n   <g id=\"patch_32\">\n    <path clip-path=\"url(#p70f6ed0068)\" d=\"M 769.571052 550.8 \nL 792.628904 550.8 \nL 792.628904 550.8 \nL 769.571052 550.8 \nz\n\" style=\"fill:#4c72b0;fill-opacity:0.75;stroke:#ffffff;stroke-linejoin:miter;\"/>\n   </g>\n   <g id=\"patch_33\">\n    <path clip-path=\"url(#p70f6ed0068)\" d=\"M 792.628904 550.8 \nL 815.686755 550.8 \nL 815.686755 546.55644 \nL 792.628904 546.55644 \nz\n\" style=\"fill:#4c72b0;fill-opacity:0.75;stroke:#ffffff;stroke-linejoin:miter;\"/>\n   </g>\n   <g id=\"patch_34\">\n    <path clip-path=\"url(#p70f6ed0068)\" d=\"M 815.686755 550.8 \nL 838.744606 550.8 \nL 838.744606 550.8 \nL 815.686755 550.8 \nz\n\" style=\"fill:#4c72b0;fill-opacity:0.75;stroke:#ffffff;stroke-linejoin:miter;\"/>\n   </g>\n   <g id=\"patch_35\">\n    <path clip-path=\"url(#p70f6ed0068)\" d=\"M 838.744606 550.8 \nL 861.802457 550.8 \nL 861.802457 550.8 \nL 838.744606 550.8 \nz\n\" style=\"fill:#4c72b0;fill-opacity:0.75;stroke:#ffffff;stroke-linejoin:miter;\"/>\n   </g>\n   <g id=\"patch_36\">\n    <path clip-path=\"url(#p70f6ed0068)\" d=\"M 861.802457 550.8 \nL 884.860309 550.8 \nL 884.860309 550.8 \nL 861.802457 550.8 \nz\n\" style=\"fill:#4c72b0;fill-opacity:0.75;stroke:#ffffff;stroke-linejoin:miter;\"/>\n   </g>\n   <g id=\"patch_37\">\n    <path clip-path=\"url(#p70f6ed0068)\" d=\"M 884.860309 550.8 \nL 907.91816 550.8 \nL 907.91816 550.8 \nL 884.860309 550.8 \nz\n\" style=\"fill:#4c72b0;fill-opacity:0.75;stroke:#ffffff;stroke-linejoin:miter;\"/>\n   </g>\n   <g id=\"patch_38\">\n    <path clip-path=\"url(#p70f6ed0068)\" d=\"M 907.91816 550.8 \nL 930.976011 550.8 \nL 930.976011 550.8 \nL 907.91816 550.8 \nz\n\" style=\"fill:#4c72b0;fill-opacity:0.75;stroke:#ffffff;stroke-linejoin:miter;\"/>\n   </g>\n   <g id=\"patch_39\">\n    <path clip-path=\"url(#p70f6ed0068)\" d=\"M 930.976011 550.8 \nL 954.033862 550.8 \nL 954.033862 550.8 \nL 930.976011 550.8 \nz\n\" style=\"fill:#4c72b0;fill-opacity:0.75;stroke:#ffffff;stroke-linejoin:miter;\"/>\n   </g>\n   <g id=\"patch_40\">\n    <path clip-path=\"url(#p70f6ed0068)\" d=\"M 954.033862 550.8 \nL 977.091714 550.8 \nL 977.091714 550.8 \nL 954.033862 550.8 \nz\n\" style=\"fill:#4c72b0;fill-opacity:0.75;stroke:#ffffff;stroke-linejoin:miter;\"/>\n   </g>\n   <g id=\"patch_41\">\n    <path clip-path=\"url(#p70f6ed0068)\" d=\"M 977.091714 550.8 \nL 1000.149565 550.8 \nL 1000.149565 550.8 \nL 977.091714 550.8 \nz\n\" style=\"fill:#4c72b0;fill-opacity:0.75;stroke:#ffffff;stroke-linejoin:miter;\"/>\n   </g>\n   <g id=\"patch_42\">\n    <path clip-path=\"url(#p70f6ed0068)\" d=\"M 1000.149565 550.8 \nL 1023.207416 550.8 \nL 1023.207416 550.8 \nL 1000.149565 550.8 \nz\n\" style=\"fill:#4c72b0;fill-opacity:0.75;stroke:#ffffff;stroke-linejoin:miter;\"/>\n   </g>\n   <g id=\"patch_43\">\n    <path clip-path=\"url(#p70f6ed0068)\" d=\"M 1023.207416 550.8 \nL 1046.265267 550.8 \nL 1046.265267 550.8 \nL 1023.207416 550.8 \nz\n\" style=\"fill:#4c72b0;fill-opacity:0.75;stroke:#ffffff;stroke-linejoin:miter;\"/>\n   </g>\n   <g id=\"patch_44\">\n    <path clip-path=\"url(#p70f6ed0068)\" d=\"M 1046.265267 550.8 \nL 1069.323119 550.8 \nL 1069.323119 550.8 \nL 1046.265267 550.8 \nz\n\" style=\"fill:#4c72b0;fill-opacity:0.75;stroke:#ffffff;stroke-linejoin:miter;\"/>\n   </g>\n   <g id=\"patch_45\">\n    <path clip-path=\"url(#p70f6ed0068)\" d=\"M 1069.323119 550.8 \nL 1092.38097 550.8 \nL 1092.38097 550.8 \nL 1069.323119 550.8 \nz\n\" style=\"fill:#4c72b0;fill-opacity:0.75;stroke:#ffffff;stroke-linejoin:miter;\"/>\n   </g>\n   <g id=\"patch_46\">\n    <path clip-path=\"url(#p70f6ed0068)\" d=\"M 1092.38097 550.8 \nL 1115.438821 550.8 \nL 1115.438821 546.55644 \nL 1092.38097 546.55644 \nz\n\" style=\"fill:#4c72b0;fill-opacity:0.75;stroke:#ffffff;stroke-linejoin:miter;\"/>\n   </g>\n   <g id=\"patch_47\">\n    <path d=\"M 50.166094 550.8 \nL 50.166094 7.2 \n\" style=\"fill:none;stroke:#ffffff;stroke-linecap:square;stroke-linejoin:miter;stroke-width:1.25;\"/>\n   </g>\n   <g id=\"patch_48\">\n    <path d=\"M 1166.166094 550.8 \nL 1166.166094 7.2 \n\" style=\"fill:none;stroke:#ffffff;stroke-linecap:square;stroke-linejoin:miter;stroke-width:1.25;\"/>\n   </g>\n   <g id=\"patch_49\">\n    <path d=\"M 50.166094 550.8 \nL 1166.166094 550.8 \n\" style=\"fill:none;stroke:#ffffff;stroke-linecap:square;stroke-linejoin:miter;stroke-width:1.25;\"/>\n   </g>\n   <g id=\"patch_50\">\n    <path d=\"M 50.166094 7.2 \nL 1166.166094 7.2 \n\" style=\"fill:none;stroke:#ffffff;stroke-linecap:square;stroke-linejoin:miter;stroke-width:1.25;\"/>\n   </g>\n  </g>\n </g>\n <defs>\n  <clipPath id=\"p70f6ed0068\">\n   <rect height=\"543.6\" width=\"1116\" x=\"50.166094\" y=\"7.2\"/>\n  </clipPath>\n </defs>\n</svg>\n",
      "image/png": "[encoded data removed]"
     },
     "metadata": {}
    }
   ],
   "source": [
    "import matplotlib.pyplot as plt\n",
    "import seaborn as sns\n",
    "from matplotlib.pyplot import figure\n",
    "%matplotlib inline\n",
    "\n",
    "x=gpbyuser_openers['count1']\n",
    "\n",
    "sns.set(rc={'figure.figsize':(20,10)})\n",
    "sns.histplot(x)\n",
    "plt.ylabel('density')\n",
    "plt.xlabel('notification by user');"
   ]
  },
  {
   "cell_type": "code",
   "execution_count": 29,
   "metadata": {},
   "outputs": [
    {
     "output_type": "stream",
     "name": "stdout",
     "text": [
      "Requirement already satisfied: pandas-profiling in /Users/chrisgilibert/neuefische/Capstone-WIMT/.venv/lib/python3.8/site-packages (2.11.0)\n",
      "Requirement already satisfied: missingno>=0.4.2 in /Users/chrisgilibert/neuefische/Capstone-WIMT/.venv/lib/python3.8/site-packages (from pandas-profiling) (0.5.0)\n",
      "Requirement already satisfied: tangled-up-in-unicode>=0.0.6 in /Users/chrisgilibert/neuefische/Capstone-WIMT/.venv/lib/python3.8/site-packages (from pandas-profiling) (0.1.0)\n",
      "Requirement already satisfied: attrs>=19.3.0 in /Users/chrisgilibert/neuefische/Capstone-WIMT/.venv/lib/python3.8/site-packages (from pandas-profiling) (21.2.0)\n",
      "Requirement already satisfied: requests>=2.24.0 in /Users/chrisgilibert/neuefische/Capstone-WIMT/.venv/lib/python3.8/site-packages (from pandas-profiling) (2.25.1)\n",
      "Requirement already satisfied: htmlmin>=0.1.12 in /Users/chrisgilibert/neuefische/Capstone-WIMT/.venv/lib/python3.8/site-packages (from pandas-profiling) (0.1.12)\n",
      "Requirement already satisfied: pandas!=1.0.0,!=1.0.1,!=1.0.2,!=1.1.0,>=0.25.3 in /Users/chrisgilibert/neuefische/Capstone-WIMT/.venv/lib/python3.8/site-packages (from pandas-profiling) (1.2.1)\n",
      "Requirement already satisfied: joblib in /Users/chrisgilibert/neuefische/Capstone-WIMT/.venv/lib/python3.8/site-packages (from pandas-profiling) (1.0.1)\n",
      "Requirement already satisfied: scipy>=1.4.1 in /Users/chrisgilibert/neuefische/Capstone-WIMT/.venv/lib/python3.8/site-packages (from pandas-profiling) (1.6.0)\n",
      "Requirement already satisfied: confuse>=1.0.0 in /Users/chrisgilibert/neuefische/Capstone-WIMT/.venv/lib/python3.8/site-packages (from pandas-profiling) (1.5.0)\n",
      "Requirement already satisfied: ipywidgets>=7.5.1 in /Users/chrisgilibert/neuefische/Capstone-WIMT/.venv/lib/python3.8/site-packages (from pandas-profiling) (7.6.3)\n",
      "Requirement already satisfied: seaborn>=0.10.1 in /Users/chrisgilibert/neuefische/Capstone-WIMT/.venv/lib/python3.8/site-packages (from pandas-profiling) (0.11.1)\n",
      "Requirement already satisfied: numpy>=1.16.0 in /Users/chrisgilibert/neuefische/Capstone-WIMT/.venv/lib/python3.8/site-packages (from pandas-profiling) (1.20.1)\n",
      "Requirement already satisfied: phik>=0.10.0 in /Users/chrisgilibert/neuefische/Capstone-WIMT/.venv/lib/python3.8/site-packages (from pandas-profiling) (0.11.2)\n",
      "Requirement already satisfied: visions[type_image_path]==0.6.0 in /Users/chrisgilibert/neuefische/Capstone-WIMT/.venv/lib/python3.8/site-packages (from pandas-profiling) (0.6.0)\n",
      "Requirement already satisfied: jinja2>=2.11.1 in /Users/chrisgilibert/neuefische/Capstone-WIMT/.venv/lib/python3.8/site-packages (from pandas-profiling) (3.0.1)\n",
      "Requirement already satisfied: tqdm>=4.48.2 in /Users/chrisgilibert/neuefische/Capstone-WIMT/.venv/lib/python3.8/site-packages (from pandas-profiling) (4.61.2)\n",
      "Requirement already satisfied: matplotlib>=3.2.0 in /Users/chrisgilibert/neuefische/Capstone-WIMT/.venv/lib/python3.8/site-packages (from pandas-profiling) (3.3.4)\n",
      "Requirement already satisfied: networkx>=2.4 in /Users/chrisgilibert/neuefische/Capstone-WIMT/.venv/lib/python3.8/site-packages (from visions[type_image_path]==0.6.0->pandas-profiling) (2.5.1)\n",
      "Requirement already satisfied: Pillow in /Users/chrisgilibert/neuefische/Capstone-WIMT/.venv/lib/python3.8/site-packages (from visions[type_image_path]==0.6.0->pandas-profiling) (8.3.1)\n",
      "Requirement already satisfied: imagehash in /Users/chrisgilibert/neuefische/Capstone-WIMT/.venv/lib/python3.8/site-packages (from visions[type_image_path]==0.6.0->pandas-profiling) (4.2.0)\n",
      "Requirement already satisfied: pyyaml in /Users/chrisgilibert/neuefische/Capstone-WIMT/.venv/lib/python3.8/site-packages (from confuse>=1.0.0->pandas-profiling) (5.4.1)\n",
      "Requirement already satisfied: ipykernel>=4.5.1 in /Users/chrisgilibert/neuefische/Capstone-WIMT/.venv/lib/python3.8/site-packages (from ipywidgets>=7.5.1->pandas-profiling) (6.0.1)\n",
      "Requirement already satisfied: traitlets>=4.3.1 in /Users/chrisgilibert/neuefische/Capstone-WIMT/.venv/lib/python3.8/site-packages (from ipywidgets>=7.5.1->pandas-profiling) (5.0.5)\n",
      "Requirement already satisfied: widgetsnbextension~=3.5.0 in /Users/chrisgilibert/neuefische/Capstone-WIMT/.venv/lib/python3.8/site-packages (from ipywidgets>=7.5.1->pandas-profiling) (3.5.1)\n",
      "Requirement already satisfied: nbformat>=4.2.0 in /Users/chrisgilibert/neuefische/Capstone-WIMT/.venv/lib/python3.8/site-packages (from ipywidgets>=7.5.1->pandas-profiling) (5.1.3)\n",
      "Requirement already satisfied: ipython>=4.0.0 in /Users/chrisgilibert/neuefische/Capstone-WIMT/.venv/lib/python3.8/site-packages (from ipywidgets>=7.5.1->pandas-profiling) (7.25.0)\n",
      "Requirement already satisfied: jupyterlab-widgets>=1.0.0 in /Users/chrisgilibert/neuefische/Capstone-WIMT/.venv/lib/python3.8/site-packages (from ipywidgets>=7.5.1->pandas-profiling) (1.0.0)\n",
      "Requirement already satisfied: matplotlib-inline<0.2.0appnope,>=0.1.0 in /Users/chrisgilibert/neuefische/Capstone-WIMT/.venv/lib/python3.8/site-packages (from ipykernel>=4.5.1->ipywidgets>=7.5.1->pandas-profiling) (0.1.2)\n",
      "Requirement already satisfied: debugpy>=1.0.0 in /Users/chrisgilibert/neuefische/Capstone-WIMT/.venv/lib/python3.8/site-packages (from ipykernel>=4.5.1->ipywidgets>=7.5.1->pandas-profiling) (1.3.0)\n",
      "Requirement already satisfied: tornado>=4.2 in /Users/chrisgilibert/neuefische/Capstone-WIMT/.venv/lib/python3.8/site-packages (from ipykernel>=4.5.1->ipywidgets>=7.5.1->pandas-profiling) (6.1)\n",
      "Requirement already satisfied: jupyter-client in /Users/chrisgilibert/neuefische/Capstone-WIMT/.venv/lib/python3.8/site-packages (from ipykernel>=4.5.1->ipywidgets>=7.5.1->pandas-profiling) (6.1.12)\n",
      "Requirement already satisfied: jedi>=0.16 in /Users/chrisgilibert/neuefische/Capstone-WIMT/.venv/lib/python3.8/site-packages (from ipython>=4.0.0->ipywidgets>=7.5.1->pandas-profiling) (0.18.0)\n",
      "Requirement already satisfied: prompt-toolkit!=3.0.0,!=3.0.1,<3.1.0,>=2.0.0 in /Users/chrisgilibert/neuefische/Capstone-WIMT/.venv/lib/python3.8/site-packages (from ipython>=4.0.0->ipywidgets>=7.5.1->pandas-profiling) (3.0.19)\n",
      "Requirement already satisfied: setuptools>=18.5 in /Users/chrisgilibert/neuefische/Capstone-WIMT/.venv/lib/python3.8/site-packages (from ipython>=4.0.0->ipywidgets>=7.5.1->pandas-profiling) (47.1.0)\n",
      "Requirement already satisfied: backcall in /Users/chrisgilibert/neuefische/Capstone-WIMT/.venv/lib/python3.8/site-packages (from ipython>=4.0.0->ipywidgets>=7.5.1->pandas-profiling) (0.2.0)\n",
      "Requirement already satisfied: pygments in /Users/chrisgilibert/neuefische/Capstone-WIMT/.venv/lib/python3.8/site-packages (from ipython>=4.0.0->ipywidgets>=7.5.1->pandas-profiling) (2.9.0)\n",
      "Requirement already satisfied: pickleshare in /Users/chrisgilibert/neuefische/Capstone-WIMT/.venv/lib/python3.8/site-packages (from ipython>=4.0.0->ipywidgets>=7.5.1->pandas-profiling) (0.7.5)\n",
      "Requirement already satisfied: decorator in /Users/chrisgilibert/neuefische/Capstone-WIMT/.venv/lib/python3.8/site-packages (from ipython>=4.0.0->ipywidgets>=7.5.1->pandas-profiling) (4.4.2)\n",
      "Requirement already satisfied: appnope in /Users/chrisgilibert/neuefische/Capstone-WIMT/.venv/lib/python3.8/site-packages (from ipython>=4.0.0->ipywidgets>=7.5.1->pandas-profiling) (0.1.2)\n",
      "Requirement already satisfied: pexpect>4.3 in /Users/chrisgilibert/neuefische/Capstone-WIMT/.venv/lib/python3.8/site-packages (from ipython>=4.0.0->ipywidgets>=7.5.1->pandas-profiling) (4.8.0)\n",
      "Requirement already satisfied: parso<0.9.0,>=0.8.0 in /Users/chrisgilibert/neuefische/Capstone-WIMT/.venv/lib/python3.8/site-packages (from jedi>=0.16->ipython>=4.0.0->ipywidgets>=7.5.1->pandas-profiling) (0.8.2)\n",
      "Requirement already satisfied: MarkupSafe>=2.0 in /Users/chrisgilibert/neuefische/Capstone-WIMT/.venv/lib/python3.8/site-packages (from jinja2>=2.11.1->pandas-profiling) (2.0.1)\n",
      "Requirement already satisfied: pyparsing!=2.0.4,!=2.1.2,!=2.1.6,>=2.0.3 in /Users/chrisgilibert/neuefische/Capstone-WIMT/.venv/lib/python3.8/site-packages (from matplotlib>=3.2.0->pandas-profiling) (2.4.7)\n",
      "Requirement already satisfied: kiwisolver>=1.0.1 in /Users/chrisgilibert/neuefische/Capstone-WIMT/.venv/lib/python3.8/site-packages (from matplotlib>=3.2.0->pandas-profiling) (1.3.1)\n",
      "Requirement already satisfied: python-dateutil>=2.1 in /Users/chrisgilibert/neuefische/Capstone-WIMT/.venv/lib/python3.8/site-packages (from matplotlib>=3.2.0->pandas-profiling) (2.8.1)\n",
      "Requirement already satisfied: cycler>=0.10 in /Users/chrisgilibert/neuefische/Capstone-WIMT/.venv/lib/python3.8/site-packages (from matplotlib>=3.2.0->pandas-profiling) (0.10.0)\n",
      "Requirement already satisfied: six in /Users/chrisgilibert/neuefische/Capstone-WIMT/.venv/lib/python3.8/site-packages (from cycler>=0.10->matplotlib>=3.2.0->pandas-profiling) (1.16.0)\n",
      "Requirement already satisfied: jupyter-core in /Users/chrisgilibert/neuefische/Capstone-WIMT/.venv/lib/python3.8/site-packages (from nbformat>=4.2.0->ipywidgets>=7.5.1->pandas-profiling) (4.7.1)\n",
      "Requirement already satisfied: jsonschema!=2.5.0,>=2.4 in /Users/chrisgilibert/neuefische/Capstone-WIMT/.venv/lib/python3.8/site-packages (from nbformat>=4.2.0->ipywidgets>=7.5.1->pandas-profiling) (3.2.0)\n",
      "Requirement already satisfied: ipython-genutils in /Users/chrisgilibert/neuefische/Capstone-WIMT/.venv/lib/python3.8/site-packages (from nbformat>=4.2.0->ipywidgets>=7.5.1->pandas-profiling) (0.2.0)\n",
      "Requirement already satisfied: pyrsistent>=0.14.0 in /Users/chrisgilibert/neuefische/Capstone-WIMT/.venv/lib/python3.8/site-packages (from jsonschema!=2.5.0,>=2.4->nbformat>=4.2.0->ipywidgets>=7.5.1->pandas-profiling) (0.18.0)\n",
      "Requirement already satisfied: pytz>=2017.3 in /Users/chrisgilibert/neuefische/Capstone-WIMT/.venv/lib/python3.8/site-packages (from pandas!=1.0.0,!=1.0.1,!=1.0.2,!=1.1.0,>=0.25.3->pandas-profiling) (2021.1)\n",
      "Requirement already satisfied: ptyprocess>=0.5 in /Users/chrisgilibert/neuefische/Capstone-WIMT/.venv/lib/python3.8/site-packages (from pexpect>4.3->ipython>=4.0.0->ipywidgets>=7.5.1->pandas-profiling) (0.7.0)\n",
      "Requirement already satisfied: wcwidth in /Users/chrisgilibert/neuefische/Capstone-WIMT/.venv/lib/python3.8/site-packages (from prompt-toolkit!=3.0.0,!=3.0.1,<3.1.0,>=2.0.0->ipython>=4.0.0->ipywidgets>=7.5.1->pandas-profiling) (0.2.5)\n",
      "Requirement already satisfied: chardet<5,>=3.0.2 in /Users/chrisgilibert/neuefische/Capstone-WIMT/.venv/lib/python3.8/site-packages (from requests>=2.24.0->pandas-profiling) (4.0.0)\n",
      "Requirement already satisfied: certifi>=2017.4.17 in /Users/chrisgilibert/neuefische/Capstone-WIMT/.venv/lib/python3.8/site-packages (from requests>=2.24.0->pandas-profiling) (2021.5.30)\n",
      "Requirement already satisfied: idna<3,>=2.5 in /Users/chrisgilibert/neuefische/Capstone-WIMT/.venv/lib/python3.8/site-packages (from requests>=2.24.0->pandas-profiling) (2.10)\n",
      "Requirement already satisfied: urllib3<1.27,>=1.21.1 in /Users/chrisgilibert/neuefische/Capstone-WIMT/.venv/lib/python3.8/site-packages (from requests>=2.24.0->pandas-profiling) (1.26.6)\n",
      "Requirement already satisfied: notebook>=4.4.1 in /Users/chrisgilibert/neuefische/Capstone-WIMT/.venv/lib/python3.8/site-packages (from widgetsnbextension~=3.5.0->ipywidgets>=7.5.1->pandas-profiling) (6.4.0)\n",
      "Requirement already satisfied: prometheus-client in /Users/chrisgilibert/neuefische/Capstone-WIMT/.venv/lib/python3.8/site-packages (from notebook>=4.4.1->widgetsnbextension~=3.5.0->ipywidgets>=7.5.1->pandas-profiling) (0.11.0)\n",
      "Requirement already satisfied: argon2-cffi in /Users/chrisgilibert/neuefische/Capstone-WIMT/.venv/lib/python3.8/site-packages (from notebook>=4.4.1->widgetsnbextension~=3.5.0->ipywidgets>=7.5.1->pandas-profiling) (20.1.0)\n",
      "Requirement already satisfied: nbconvert in /Users/chrisgilibert/neuefische/Capstone-WIMT/.venv/lib/python3.8/site-packages (from notebook>=4.4.1->widgetsnbextension~=3.5.0->ipywidgets>=7.5.1->pandas-profiling) (6.1.0)\n",
      "Requirement already satisfied: terminado>=0.8.3 in /Users/chrisgilibert/neuefische/Capstone-WIMT/.venv/lib/python3.8/site-packages (from notebook>=4.4.1->widgetsnbextension~=3.5.0->ipywidgets>=7.5.1->pandas-profiling) (0.10.1)\n",
      "Requirement already satisfied: Send2Trash>=1.5.0 in /Users/chrisgilibert/neuefische/Capstone-WIMT/.venv/lib/python3.8/site-packages (from notebook>=4.4.1->widgetsnbextension~=3.5.0->ipywidgets>=7.5.1->pandas-profiling) (1.7.1)\n",
      "Requirement already satisfied: pyzmq>=17 in /Users/chrisgilibert/neuefische/Capstone-WIMT/.venv/lib/python3.8/site-packages (from notebook>=4.4.1->widgetsnbextension~=3.5.0->ipywidgets>=7.5.1->pandas-profiling) (22.1.0)\n",
      "Requirement already satisfied: cffi>=1.0.0 in /Users/chrisgilibert/neuefische/Capstone-WIMT/.venv/lib/python3.8/site-packages (from argon2-cffi->notebook>=4.4.1->widgetsnbextension~=3.5.0->ipywidgets>=7.5.1->pandas-profiling) (1.14.5)\n",
      "Requirement already satisfied: pycparser in /Users/chrisgilibert/neuefische/Capstone-WIMT/.venv/lib/python3.8/site-packages (from cffi>=1.0.0->argon2-cffi->notebook>=4.4.1->widgetsnbextension~=3.5.0->ipywidgets>=7.5.1->pandas-profiling) (2.20)\n",
      "Requirement already satisfied: PyWavelets in /Users/chrisgilibert/neuefische/Capstone-WIMT/.venv/lib/python3.8/site-packages (from imagehash->visions[type_image_path]==0.6.0->pandas-profiling) (1.1.1)\n",
      "Requirement already satisfied: jupyterlab-pygments in /Users/chrisgilibert/neuefische/Capstone-WIMT/.venv/lib/python3.8/site-packages (from nbconvert->notebook>=4.4.1->widgetsnbextension~=3.5.0->ipywidgets>=7.5.1->pandas-profiling) (0.1.2)\n",
      "Requirement already satisfied: pandocfilters>=1.4.1 in /Users/chrisgilibert/neuefische/Capstone-WIMT/.venv/lib/python3.8/site-packages (from nbconvert->notebook>=4.4.1->widgetsnbextension~=3.5.0->ipywidgets>=7.5.1->pandas-profiling) (1.4.3)\n",
      "Requirement already satisfied: testpath in /Users/chrisgilibert/neuefische/Capstone-WIMT/.venv/lib/python3.8/site-packages (from nbconvert->notebook>=4.4.1->widgetsnbextension~=3.5.0->ipywidgets>=7.5.1->pandas-profiling) (0.5.0)\n",
      "Requirement already satisfied: nbclient<0.6.0,>=0.5.0 in /Users/chrisgilibert/neuefische/Capstone-WIMT/.venv/lib/python3.8/site-packages (from nbconvert->notebook>=4.4.1->widgetsnbextension~=3.5.0->ipywidgets>=7.5.1->pandas-profiling) (0.5.3)\n",
      "Requirement already satisfied: entrypoints>=0.2.2 in /Users/chrisgilibert/neuefische/Capstone-WIMT/.venv/lib/python3.8/site-packages (from nbconvert->notebook>=4.4.1->widgetsnbextension~=3.5.0->ipywidgets>=7.5.1->pandas-profiling) (0.3)\n",
      "Requirement already satisfied: bleach in /Users/chrisgilibert/neuefische/Capstone-WIMT/.venv/lib/python3.8/site-packages (from nbconvert->notebook>=4.4.1->widgetsnbextension~=3.5.0->ipywidgets>=7.5.1->pandas-profiling) (3.3.0)\n",
      "Requirement already satisfied: defusedxml in /Users/chrisgilibert/neuefische/Capstone-WIMT/.venv/lib/python3.8/site-packages (from nbconvert->notebook>=4.4.1->widgetsnbextension~=3.5.0->ipywidgets>=7.5.1->pandas-profiling) (0.7.1)\n",
      "Requirement already satisfied: mistune<2,>=0.8.1 in /Users/chrisgilibert/neuefische/Capstone-WIMT/.venv/lib/python3.8/site-packages (from nbconvert->notebook>=4.4.1->widgetsnbextension~=3.5.0->ipywidgets>=7.5.1->pandas-profiling) (0.8.4)\n",
      "Requirement already satisfied: nest-asyncio in /Users/chrisgilibert/neuefische/Capstone-WIMT/.venv/lib/python3.8/site-packages (from nbclient<0.6.0,>=0.5.0->nbconvert->notebook>=4.4.1->widgetsnbextension~=3.5.0->ipywidgets>=7.5.1->pandas-profiling) (1.5.1)\n",
      "Requirement already satisfied: async-generator in /Users/chrisgilibert/neuefische/Capstone-WIMT/.venv/lib/python3.8/site-packages (from nbclient<0.6.0,>=0.5.0->nbconvert->notebook>=4.4.1->widgetsnbextension~=3.5.0->ipywidgets>=7.5.1->pandas-profiling) (1.10)\n",
      "Requirement already satisfied: packaging in /Users/chrisgilibert/neuefische/Capstone-WIMT/.venv/lib/python3.8/site-packages (from bleach->nbconvert->notebook>=4.4.1->widgetsnbextension~=3.5.0->ipywidgets>=7.5.1->pandas-profiling) (21.0)\n",
      "Requirement already satisfied: webencodings in /Users/chrisgilibert/neuefische/Capstone-WIMT/.venv/lib/python3.8/site-packages (from bleach->nbconvert->notebook>=4.4.1->widgetsnbextension~=3.5.0->ipywidgets>=7.5.1->pandas-profiling) (0.5.1)\n",
      "Summarize dataset:  75%|███████▌  | 30/40 [06:10<00:52,  5.28s/it, Calculate kendall correlation] /Users/chrisgilibert/neuefische/Capstone-WIMT/.venv/lib/python3.8/site-packages/scipy/stats/stats.py:4594: RuntimeWarning: overflow encountered in long_scalars\n",
      "  (2 * xtie * ytie) / m + x0 * y0 / (9 * m * (size - 2)))\n",
      "/Users/chrisgilibert/neuefische/Capstone-WIMT/.venv/lib/python3.8/site-packages/scipy/stats/stats.py:4596: RuntimeWarning: invalid value encountered in sqrt\n",
      "  np.sqrt(var) / np.sqrt(2)))\n",
      "Summarize dataset: 100%|██████████| 40/40 [07:25<00:00, 11.14s/it, Completed]\n",
      "Generate report structure: 100%|██████████| 1/1 [00:14<00:00, 14.84s/it]\n",
      "Render HTML: 100%|██████████| 1/1 [00:02<00:00,  2.07s/it]\n",
      "Export report to file: 100%|██████████| 1/1 [00:00<00:00, 85.13it/s]\n"
     ]
    }
   ],
   "source": [
    "!pip3 install pandas-profiling\n",
    "from pandas_profiling import ProfileReport\n",
    "profexport = ProfileReport(active_df)\n",
    "profexport.to_file(output_file='profexport.html')\n"
   ]
  },
  {
   "cell_type": "code",
   "execution_count": 30,
   "metadata": {},
   "outputs": [
    {
     "output_type": "stream",
     "name": "stderr",
     "text": [
      "Summarize dataset: 100%|██████████| 36/36 [00:49<00:00,  1.38s/it, Completed]\n",
      "Generate report structure: 100%|██████████| 1/1 [00:11<00:00, 11.39s/it]\n",
      "Render HTML: 100%|██████████| 1/1 [00:13<00:00, 13.97s/it]\n",
      "Export report to file: 100%|██████████| 1/1 [00:00<00:00, 18.93it/s]\n"
     ]
    }
   ],
   "source": [
    "profincident = ProfileReport(gpbyincident2)\n",
    "profincident.to_file(output_file='profincident.html')\n"
   ]
  },
  {
   "cell_type": "code",
   "execution_count": 31,
   "metadata": {},
   "outputs": [
    {
     "output_type": "stream",
     "name": "stderr",
     "text": [
      "Summarize dataset: 100%|██████████| 33/33 [00:45<00:00,  1.38s/it, Completed]\n",
      "Generate report structure: 100%|██████████| 1/1 [00:08<00:00,  8.94s/it]\n",
      "Render HTML: 100%|██████████| 1/1 [00:04<00:00,  4.22s/it]\n",
      "Export report to file: 100%|██████████| 1/1 [00:00<00:00, 19.83it/s]\n"
     ]
    }
   ],
   "source": [
    "profcause = ProfileReport(gpbycause2)\n",
    "profcause.to_file(output_file='profcause.html')\n"
   ]
  },
  {
   "cell_type": "code",
   "execution_count": 32,
   "metadata": {},
   "outputs": [
    {
     "output_type": "stream",
     "name": "stderr",
     "text": [
      "Summarize dataset: 100%|██████████| 33/33 [01:29<00:00,  2.71s/it, Completed]\n",
      "Generate report structure: 100%|██████████| 1/1 [00:09<00:00,  9.30s/it]\n",
      "Render HTML: 100%|██████████| 1/1 [00:11<00:00, 11.24s/it]\n",
      "Export report to file: 100%|██████████| 1/1 [00:00<00:00, 14.47it/s]\n"
     ]
    }
   ],
   "source": [
    "profallusers= ProfileReport(gpbyuser2)\n",
    "profallusers.to_file(output_file='profallusers.html')\n"
   ]
  },
  {
   "cell_type": "code",
   "execution_count": 33,
   "metadata": {},
   "outputs": [
    {
     "output_type": "stream",
     "name": "stderr",
     "text": [
      "Summarize dataset: 100%|██████████| 33/33 [01:01<00:00,  1.87s/it, Completed]\n",
      "Generate report structure: 100%|██████████| 1/1 [00:09<00:00,  9.27s/it]\n",
      "Render HTML: 100%|██████████| 1/1 [00:07<00:00,  7.92s/it]\n",
      "Export report to file: 100%|██████████| 1/1 [00:00<00:00, 14.94it/s]\n"
     ]
    }
   ],
   "source": [
    "profusersdismiss= ProfileReport(gpbyuser_dismissers)\n",
    "profusersdismiss.to_file(output_file='profusersdismiss.html')\n"
   ]
  },
  {
   "cell_type": "code",
   "execution_count": 34,
   "metadata": {},
   "outputs": [
    {
     "output_type": "stream",
     "name": "stderr",
     "text": [
      "Summarize dataset: 100%|██████████| 33/33 [00:31<00:00,  1.06it/s, Completed]\n",
      "Generate report structure: 100%|██████████| 1/1 [00:07<00:00,  8.00s/it]\n",
      "Render HTML: 100%|██████████| 1/1 [00:04<00:00,  4.21s/it]\n",
      "Export report to file: 100%|██████████| 1/1 [00:00<00:00, 11.26it/s]\n"
     ]
    }
   ],
   "source": [
    "profusersopen= ProfileReport(gpbyuser_openers)\n",
    "profusersopen.to_file(output_file='profusersopen.html')"
   ]
  },
  {
   "cell_type": "code",
   "execution_count": null,
   "metadata": {},
   "outputs": [],
   "source": []
  }
 ]
}