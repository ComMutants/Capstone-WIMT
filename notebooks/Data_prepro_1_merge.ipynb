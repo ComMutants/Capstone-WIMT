{
 "cells": [
  {
   "cell_type": "markdown",
   "metadata": {},
   "source": [
    "# Unnest the alert data file and merge it with the notification file\n",
    "In this notebook we will parse the alert file which is a json and merge this file with the notifications to have one new csv."
   ]
  },
  {
   "cell_type": "code",
   "execution_count": 1,
   "metadata": {},
   "outputs": [],
   "source": [
    "# Import general packages\n",
    "import pandas as pd\n",
    "import numpy as np\n",
    "import statistics\n",
    "pd.set_option('max_columns', None) #Shows all columns always! No ... inbetween columns.\n",
    "\n",
    "# Processing json file\n",
    "import json\n",
    "\n",
    "# Switch off warnings\n",
    "import warnings \n",
    "warnings.filterwarnings('ignore')"
   ]
  },
  {
   "cell_type": "markdown",
   "metadata": {},
   "source": [
    "## Parsing the json file to a pandas dataframe"
   ]
  },
  {
   "cell_type": "code",
   "execution_count": 2,
   "metadata": {},
   "outputs": [],
   "source": [
    "# Load json file\n",
    "with open('../data/alerts_20200615-20201119.json') as data_file:\n",
    "    data = json.load(data_file)"
   ]
  },
  {
   "cell_type": "code",
   "execution_count": 3,
   "metadata": {},
   "outputs": [],
   "source": [
    "# Create dataframe and extract first level of json file\n",
    "alerts = pd.json_normalize(data['alerts'], max_level=0)"
   ]
  },
  {
   "cell_type": "code",
   "execution_count": 4,
   "metadata": {},
   "outputs": [
    {
     "data": {
      "text/html": [
       "<div>\n",
       "<style scoped>\n",
       "    .dataframe tbody tr th:only-of-type {\n",
       "        vertical-align: middle;\n",
       "    }\n",
       "\n",
       "    .dataframe tbody tr th {\n",
       "        vertical-align: top;\n",
       "    }\n",
       "\n",
       "    .dataframe thead th {\n",
       "        text-align: right;\n",
       "    }\n",
       "</style>\n",
       "<table border=\"1\" class=\"dataframe\">\n",
       "  <thead>\n",
       "    <tr style=\"text-align: right;\">\n",
       "      <th></th>\n",
       "      <th>dateCreated</th>\n",
       "      <th>datePublished</th>\n",
       "      <th>dateClosed</th>\n",
       "      <th>affectedTransport</th>\n",
       "      <th>locationSelection</th>\n",
       "      <th>reportId</th>\n",
       "      <th>feedId</th>\n",
       "      <th>cause</th>\n",
       "      <th>effect</th>\n",
       "      <th>description</th>\n",
       "    </tr>\n",
       "  </thead>\n",
       "  <tbody>\n",
       "    <tr>\n",
       "      <th>0</th>\n",
       "      <td>2020-06-15T18:15:58.500Z</td>\n",
       "      <td>2020-06-15T18:26:44.598Z</td>\n",
       "      <td>2020-06-15T19:10:00.776Z</td>\n",
       "      <td>{'IFCZKKX7-k6Z96u1AIhqQg': {'6bE4GjRfgUanCKu1A...</td>\n",
       "      <td>{\"type\":\"FeatureCollection\",\"features\":[{\"type...</td>\n",
       "      <td>501468</td>\n",
       "      <td>TDxLYyiCXYN0YxYBDYjj</td>\n",
       "      <td>March</td>\n",
       "      <td>CirculationShutdown</td>\n",
       "      <td>Cierre vial en José María Izazaga de José Marí...</td>\n",
       "    </tr>\n",
       "  </tbody>\n",
       "</table>\n",
       "</div>"
      ],
      "text/plain": [
       "                dateCreated             datePublished  \\\n",
       "0  2020-06-15T18:15:58.500Z  2020-06-15T18:26:44.598Z   \n",
       "\n",
       "                 dateClosed  \\\n",
       "0  2020-06-15T19:10:00.776Z   \n",
       "\n",
       "                                   affectedTransport  \\\n",
       "0  {'IFCZKKX7-k6Z96u1AIhqQg': {'6bE4GjRfgUanCKu1A...   \n",
       "\n",
       "                                   locationSelection reportId  \\\n",
       "0  {\"type\":\"FeatureCollection\",\"features\":[{\"type...   501468   \n",
       "\n",
       "                 feedId  cause               effect  \\\n",
       "0  TDxLYyiCXYN0YxYBDYjj  March  CirculationShutdown   \n",
       "\n",
       "                                         description  \n",
       "0  Cierre vial en José María Izazaga de José Marí...  "
      ]
     },
     "execution_count": 4,
     "metadata": {},
     "output_type": "execute_result"
    }
   ],
   "source": [
    "# Glance into the dataframe \n",
    "alerts.head(1)"
   ]
  },
  {
   "cell_type": "code",
   "execution_count": 5,
   "metadata": {},
   "outputs": [
    {
     "name": "stdout",
     "output_type": "stream",
     "text": [
      "(4495, 10)\n",
      "Index(['dateCreated', 'datePublished', 'dateClosed', 'affectedTransport',\n",
      "       'locationSelection', 'reportId', 'feedId', 'cause', 'effect',\n",
      "       'description'],\n",
      "      dtype='object')\n"
     ]
    }
   ],
   "source": [
    "print(alerts.shape)\n",
    "print(alerts.columns)"
   ]
  },
  {
   "cell_type": "code",
   "execution_count": 6,
   "metadata": {},
   "outputs": [],
   "source": [
    "# The column 'affectedTransport' contains several dictionaries\n",
    "agencies = alerts[\"affectedTransport\"]"
   ]
  },
  {
   "cell_type": "code",
   "execution_count": 7,
   "metadata": {},
   "outputs": [],
   "source": [
    "# Get the transport agencies along keys from the transport dictionary\n",
    "def get_agencies(transport_dict):\n",
    "    return list(sorted(transport_dict.keys()))"
   ]
  },
  {
   "cell_type": "code",
   "execution_count": 8,
   "metadata": {},
   "outputs": [],
   "source": [
    "# Get the nested lines along the keys\n",
    "def get_lines_nested(transport_dict):\n",
    "    lines = []\n",
    "    for k, v in sorted(transport_dict.items()): \n",
    "        # now our v is another .. dict with line name and items .. but as there are more lines than agiencies.. this will need to be nested list\n",
    "        lines.append(sorted(v.keys()))\n",
    "    return lines"
   ]
  },
  {
   "cell_type": "code",
   "execution_count": 9,
   "metadata": {},
   "outputs": [],
   "source": [
    "# Get the metadata nested in the lines along the keys\n",
    "label = \"closedState\" # publishedId, publishedState, stopId\n",
    "def get_metadata_nested(label, transport_dict):\n",
    "    metadata = []\n",
    "    for k, v in sorted(transport_dict.items()): \n",
    "    # k is agency, v is line and we have more lines per agency\n",
    "        metametadata = []\n",
    "        for kk, vv in sorted(v.items()):\n",
    "            # these are the values we want\n",
    "            # value = d.get(key, \"empty\")\n",
    "            metametadata.append(vv.get(label, None))\n",
    "        metadata.append(metametadata)\n",
    "    return metadata"
   ]
  },
  {
   "cell_type": "code",
   "execution_count": 10,
   "metadata": {},
   "outputs": [
    {
     "data": {
      "text/plain": [
       "Index(['dateCreated', 'datePublished', 'dateClosed', 'affectedTransport',\n",
       "       'locationSelection', 'reportId', 'feedId', 'cause', 'effect',\n",
       "       'description', 'agencies', 'lines_nested', 'publishedIds_nested'],\n",
       "      dtype='object')"
      ]
     },
     "execution_count": 10,
     "metadata": {},
     "output_type": "execute_result"
    }
   ],
   "source": [
    "# Extract agencies from 'affectedTransport' into Pandas dataframe alerts\n",
    "alerts['agencies'] = alerts['affectedTransport'].apply(lambda x: get_agencies(x))\n",
    "\n",
    "# Creation of nested variables into the dataframe Pandas dataframe alerts\n",
    "alerts['lines_nested'] = alerts['affectedTransport'].apply(lambda x: get_lines_nested(x))\n",
    "alerts['publishedIds_nested'] = alerts['affectedTransport'].apply(lambda x: get_metadata_nested('publishedId',x))\n",
    "\n",
    "# Print columns\n",
    "alerts.columns"
   ]
  },
  {
   "cell_type": "code",
   "execution_count": 11,
   "metadata": {},
   "outputs": [
    {
     "name": "stdout",
     "output_type": "stream",
     "text": [
      "*Agencies:  ['GtvOEQAFZ0GtU6u4AXwvPg', 'JUR9bFXmVkWDHqu4AXaY0g', 'JfA8Bw8Zp024Kqu4AXiSpQ']\n",
      "*Nested lines:  [['7Kq2iXAEkUuXWau4AXww3Q', 'I9INYshyhEinHqu4AXwwzw', 'iMzaKgmc8EiJ_6u4AXwwoQ', 'jT3h9UcgUkeURKu4AXwv3Q', 'vBhN2IRVp0azE6u4AXwwWg'], ['_a2kY7D-6EqBHKu4AXaZiw'], ['2M6bixGmNUa206u4AXiSuA']]\n",
      "*publishedIds_nested:  [['VIM11MpZ3EmIgJgPR5ujcA', 'zrOeGJz5m0qy4yt66QvIVA', 'BZHFQ9rZPU6Vy7822TT2WQ', 'LYQyD5ROV0SAHBQMA5ehYQ', 'g_lc2vUk-EynCFEY8qqSNw'], ['dCHaFlmaUEaPtB626diqRQ'], ['jWddj92aBUSohqCTLQCMZg']]\n"
     ]
    }
   ],
   "source": [
    "# The dataframe's dictionaries contain several nested lists, e.g. see alert No. 3\n",
    "print('*Agencies: ', alerts[\"agencies\"][3])\n",
    "print('*Nested lines: ', alerts[\"lines_nested\"][3]) #lines nested in agencies\n",
    "print('*publishedIds_nested: ', alerts[\"publishedIds_nested\"][3]) #publisedIDs nested in lines"
   ]
  },
  {
   "cell_type": "code",
   "execution_count": 12,
   "metadata": {},
   "outputs": [
    {
     "name": "stdout",
     "output_type": "stream",
     "text": [
      "Index(['dateCreated', 'datePublished', 'dateClosed', 'affectedTransport',\n",
      "       'locationSelection', 'reportId', 'feedId', 'cause', 'effect',\n",
      "       'description', 'agencies', 'lines_nested', 'publishedIds_nested',\n",
      "       'alert_index'],\n",
      "      dtype='object')\n"
     ]
    },
    {
     "data": {
      "text/html": [
       "<div>\n",
       "<style scoped>\n",
       "    .dataframe tbody tr th:only-of-type {\n",
       "        vertical-align: middle;\n",
       "    }\n",
       "\n",
       "    .dataframe tbody tr th {\n",
       "        vertical-align: top;\n",
       "    }\n",
       "\n",
       "    .dataframe thead th {\n",
       "        text-align: right;\n",
       "    }\n",
       "</style>\n",
       "<table border=\"1\" class=\"dataframe\">\n",
       "  <thead>\n",
       "    <tr style=\"text-align: right;\">\n",
       "      <th></th>\n",
       "      <th>dateCreated</th>\n",
       "      <th>datePublished</th>\n",
       "      <th>dateClosed</th>\n",
       "      <th>affectedTransport</th>\n",
       "      <th>locationSelection</th>\n",
       "      <th>reportId</th>\n",
       "      <th>feedId</th>\n",
       "      <th>cause</th>\n",
       "      <th>effect</th>\n",
       "      <th>description</th>\n",
       "      <th>agencies</th>\n",
       "      <th>lines_nested</th>\n",
       "      <th>publishedIds_nested</th>\n",
       "      <th>alert_index</th>\n",
       "    </tr>\n",
       "  </thead>\n",
       "  <tbody>\n",
       "    <tr>\n",
       "      <th>0</th>\n",
       "      <td>2020-06-15T18:15:58.500Z</td>\n",
       "      <td>2020-06-15T18:26:44.598Z</td>\n",
       "      <td>2020-06-15T19:10:00.776Z</td>\n",
       "      <td>{'IFCZKKX7-k6Z96u1AIhqQg': {'6bE4GjRfgUanCKu1A...</td>\n",
       "      <td>{\"type\":\"FeatureCollection\",\"features\":[{\"type...</td>\n",
       "      <td>501468</td>\n",
       "      <td>TDxLYyiCXYN0YxYBDYjj</td>\n",
       "      <td>March</td>\n",
       "      <td>CirculationShutdown</td>\n",
       "      <td>Cierre vial en José María Izazaga de José Marí...</td>\n",
       "      <td>[GtvOEQAFZ0GtU6u4AXwvPg, IFCZKKX7-k6Z96u1AIhqQ...</td>\n",
       "      <td>[[m1ukaXkjLkaCiau4AXwvzg], [6bE4GjRfgUanCKu1AI...</td>\n",
       "      <td>[[O26r3Zng20KQMs4b5uOoig], [YtC9yZBWsEW0H2JTWy...</td>\n",
       "      <td>0</td>\n",
       "    </tr>\n",
       "    <tr>\n",
       "      <th>1</th>\n",
       "      <td>2020-06-15T18:26:38.579Z</td>\n",
       "      <td>2020-06-15T18:26:47.264Z</td>\n",
       "      <td>2020-06-15T18:35:01.496Z</td>\n",
       "      <td>{'JUR9bFXmVkWDHqu4AXaY0g': {'Ugvp4KWhfE-5eKu4A...</td>\n",
       "      <td>{\"type\":\"FeatureCollection\",\"features\":[{\"type...</td>\n",
       "      <td>1272592149247188993</td>\n",
       "      <td>9wuROlKTul0dN6uiZUae</td>\n",
       "      <td>March</td>\n",
       "      <td>Delays</td>\n",
       "      <td>Manifestantes provenientes de José María Pino ...</td>\n",
       "      <td>[JUR9bFXmVkWDHqu4AXaY0g]</td>\n",
       "      <td>[[Ugvp4KWhfE-5eKu4AXaZLg]]</td>\n",
       "      <td>[[1MiSoiLFUUaL6PUDwMEUkA]]</td>\n",
       "      <td>1</td>\n",
       "    </tr>\n",
       "  </tbody>\n",
       "</table>\n",
       "</div>"
      ],
      "text/plain": [
       "                dateCreated             datePublished  \\\n",
       "0  2020-06-15T18:15:58.500Z  2020-06-15T18:26:44.598Z   \n",
       "1  2020-06-15T18:26:38.579Z  2020-06-15T18:26:47.264Z   \n",
       "\n",
       "                 dateClosed  \\\n",
       "0  2020-06-15T19:10:00.776Z   \n",
       "1  2020-06-15T18:35:01.496Z   \n",
       "\n",
       "                                   affectedTransport  \\\n",
       "0  {'IFCZKKX7-k6Z96u1AIhqQg': {'6bE4GjRfgUanCKu1A...   \n",
       "1  {'JUR9bFXmVkWDHqu4AXaY0g': {'Ugvp4KWhfE-5eKu4A...   \n",
       "\n",
       "                                   locationSelection             reportId  \\\n",
       "0  {\"type\":\"FeatureCollection\",\"features\":[{\"type...               501468   \n",
       "1  {\"type\":\"FeatureCollection\",\"features\":[{\"type...  1272592149247188993   \n",
       "\n",
       "                 feedId  cause               effect  \\\n",
       "0  TDxLYyiCXYN0YxYBDYjj  March  CirculationShutdown   \n",
       "1  9wuROlKTul0dN6uiZUae  March               Delays   \n",
       "\n",
       "                                         description  \\\n",
       "0  Cierre vial en José María Izazaga de José Marí...   \n",
       "1  Manifestantes provenientes de José María Pino ...   \n",
       "\n",
       "                                            agencies  \\\n",
       "0  [GtvOEQAFZ0GtU6u4AXwvPg, IFCZKKX7-k6Z96u1AIhqQ...   \n",
       "1                           [JUR9bFXmVkWDHqu4AXaY0g]   \n",
       "\n",
       "                                        lines_nested  \\\n",
       "0  [[m1ukaXkjLkaCiau4AXwvzg], [6bE4GjRfgUanCKu1AI...   \n",
       "1                         [[Ugvp4KWhfE-5eKu4AXaZLg]]   \n",
       "\n",
       "                                 publishedIds_nested  alert_index  \n",
       "0  [[O26r3Zng20KQMs4b5uOoig], [YtC9yZBWsEW0H2JTWy...            0  \n",
       "1                         [[1MiSoiLFUUaL6PUDwMEUkA]]            1  "
      ]
     },
     "execution_count": 12,
     "metadata": {},
     "output_type": "execute_result"
    }
   ],
   "source": [
    "# Assign a unique index ID to each row of the dataset\n",
    "alerts['alert_index'] = np.arange(alerts.shape[0])\n",
    "print(alerts.columns)\n",
    "alerts.head(2)"
   ]
  },
  {
   "cell_type": "code",
   "execution_count": 13,
   "metadata": {},
   "outputs": [
    {
     "name": "stdout",
     "output_type": "stream",
     "text": [
      "Index(['dateCreated', 'datePublished', 'dateClosed', 'locationSelection',\n",
      "       'reportId', 'feedId', 'cause', 'effect', 'description', 'alert_index'],\n",
      "      dtype='object')\n"
     ]
    }
   ],
   "source": [
    "# Drop no longer needed columns in alerts dataframe and create a new dataframe alerts_trimmed\n",
    "alerts_trimmed = alerts.drop(['agencies', 'lines_nested', 'affectedTransport', 'publishedIds_nested'], axis=1)\n",
    "print(alerts_trimmed.columns)"
   ]
  },
  {
   "cell_type": "code",
   "execution_count": 14,
   "metadata": {},
   "outputs": [],
   "source": [
    "# Detangle the nested lists and create a new dataframe df_detangled\n",
    "rows_list1 = []\n",
    "\n",
    "for row_index, row in alerts.iterrows():\n",
    "    alert_index = row['alert_index']\n",
    "    agency_count = len(row['agencies'])\n",
    "    for i in range(agency_count):    \n",
    "        agency = row['agencies'][i]\n",
    "        lines = row['lines_nested'][i]\n",
    "        publishedIds = row['publishedIds_nested'][i]\n",
    "        lines_count = len(lines)\n",
    "        for i2 in range(lines_count):\n",
    "            line = lines[i2]\n",
    "            publishedId = publishedIds[i2]\n",
    "\n",
    "            dict1 = {}\n",
    "            dict1['alert_index'] = alert_index\n",
    "            dict1['agency'] =  agency\n",
    "            dict1['line'] = line\n",
    "            dict1['publishedId'] = publishedId\n",
    "\n",
    "            rows_list1.append(dict1)\n",
    "\n",
    "df_detangled= pd.DataFrame(rows_list1)"
   ]
  },
  {
   "cell_type": "code",
   "execution_count": 15,
   "metadata": {},
   "outputs": [
    {
     "name": "stdout",
     "output_type": "stream",
     "text": [
      "Index(['dateCreated', 'datePublished', 'dateClosed', 'locationSelection',\n",
      "       'reportId', 'feedId', 'cause', 'effect', 'description', 'alert_index',\n",
      "       'agency', 'line', 'publishedId'],\n",
      "      dtype='object')\n",
      "(33087, 13)\n"
     ]
    }
   ],
   "source": [
    "# Merge the df_detangled and the alerts_trimmed dataframes based on 'alert_index'\n",
    "alerts_exploded = pd.merge(alerts_trimmed, df_detangled, on = 'alert_index')\n",
    "print(alerts_exploded.columns)\n",
    "print(alerts_exploded.shape)"
   ]
  },
  {
   "cell_type": "markdown",
   "metadata": {},
   "source": [
    "## Merge the original json- and the csv-file"
   ]
  },
  {
   "cell_type": "code",
   "execution_count": 16,
   "metadata": {},
   "outputs": [],
   "source": [
    "# Merge the two csv files\n",
    "# Rename column\n",
    "alerts_exploded.rename(columns={'publishedId': 'AlertID'}, inplace=True)\n",
    "\n",
    "# Export dataframe as csv file\n",
    "alerts_exploded.to_csv(r'../data/alerts_exploded.csv', index = False)\n",
    "\n",
    "# Merge the two csv files based on column 'AlertID'\n",
    "df_notifications = pd.read_csv(\"../data/notifications_202009-202011.csv\")\n",
    "df_alerts_exploded = pd.read_csv(\"../data/alerts_exploded.csv\")\n",
    "df = df_notifications.merge(df_alerts_exploded, on=\"AlertID\").fillna(\"\")\n",
    "df.to_csv(r'../data/df_merged.csv', index=False)"
   ]
  },
  {
   "cell_type": "code",
   "execution_count": 17,
   "metadata": {},
   "outputs": [
    {
     "name": "stdout",
     "output_type": "stream",
     "text": [
      "(30012, 6)\n",
      "(33087, 13)\n",
      "(25508, 18)\n"
     ]
    }
   ],
   "source": [
    "# Check shape of dataframes\n",
    "print(df_notifications.shape)\n",
    "print(df_alerts_exploded.shape)\n",
    "print(df.shape)"
   ]
  },
  {
   "cell_type": "markdown",
   "metadata": {},
   "source": [
    "In total we should have 30012 rows of data, but when merging we only have 25508 rows. In total 7579 AlertIDs/PublishedIDs of the two dataframes do not match. "
   ]
  },
  {
   "cell_type": "code",
   "execution_count": 18,
   "metadata": {},
   "outputs": [
    {
     "data": {
      "text/plain": [
       "Index(['device', 'AlertID', 'event_date', 'event_timestamp', 'event_name',\n",
       "       'version', 'dateCreated', 'datePublished', 'dateClosed',\n",
       "       'locationSelection', 'reportId', 'feedId', 'cause', 'effect',\n",
       "       'description', 'alert_index', 'agency', 'line'],\n",
       "      dtype='object')"
      ]
     },
     "execution_count": 18,
     "metadata": {},
     "output_type": "execute_result"
    }
   ],
   "source": [
    "df.columns"
   ]
  }
 ],
 "metadata": {
  "kernelspec": {
   "display_name": "Python 3",
   "language": "python",
   "name": "python3"
  },
  "language_info": {
   "codemirror_mode": {
    "name": "ipython",
    "version": 3
   },
   "file_extension": ".py",
   "mimetype": "text/x-python",
   "name": "python",
   "nbconvert_exporter": "python",
   "pygments_lexer": "ipython3",
   "version": "3.8.5"
  }
 },
 "nbformat": 4,
 "nbformat_minor": 4
}
