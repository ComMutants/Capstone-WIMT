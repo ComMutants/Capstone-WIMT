{
 "metadata": {
  "language_info": {
   "codemirror_mode": {
    "name": "ipython",
    "version": 3
   },
   "file_extension": ".py",
   "mimetype": "text/x-python",
   "name": "python",
   "nbconvert_exporter": "python",
   "pygments_lexer": "ipython3",
   "version": "3.8.5"
  },
  "orig_nbformat": 4,
  "kernelspec": {
   "name": "python3",
   "display_name": "Python 3.8.5 64-bit ('.venv': venv)"
  },
  "interpreter": {
   "hash": "f7e9aa0a9fe1ceb3c33c5aa0b358d6952771ff9c315b2715a747dc81bd71c7e9"
  }
 },
 "nbformat": 4,
 "nbformat_minor": 2,
 "cells": [
  {
   "cell_type": "code",
   "execution_count": 1,
   "metadata": {},
   "outputs": [],
   "source": [
    "import numpy as np  \n",
    "import matplotlib.pyplot as plt \n",
    "import pandas as pd  \n",
    "from sklearn.tree import DecisionTreeClassifier\n",
    "from sklearn.metrics import fbeta_score, accuracy_score, confusion_matrix\n",
    "from sklearn.metrics import classification_report\n",
    "import pyarrow.feather as feather\n",
    "from sklearn.model_selection import train_test_split\n",
    "from sklearn.model_selection import GridSearchCV\n",
    "# Suppress warnings \n",
    "# (sometimes you might want to ignore warnings, that's how you can achieve this)\n",
    "import warnings\n",
    "warnings.filterwarnings('ignore')\n",
    "#! brew install graphviz\n",
    "RSEED= 42"
   ]
  },
  {
   "cell_type": "code",
   "execution_count": 2,
   "metadata": {},
   "outputs": [],
   "source": [
    "export_df = feather.read_feather(\"../data/cleaned_data.feather\")"
   ]
  },
  {
   "cell_type": "code",
   "execution_count": 3,
   "metadata": {},
   "outputs": [],
   "source": [
    "#Previous step to get the target opening ratio\n",
    "gpbyincident= export_df.groupby( by= ['document_id'])\n",
    "gpbyincident2=gpbyincident.sum()\n",
    "gpbyincident2['count1'] = gpbyincident.size()\n",
    "gpbyincident2['opened_rate'] = gpbyincident2['opened']/gpbyincident2['count1']\n",
    "gpbyincident2['ontime_activity_rate'] = gpbyincident2[\"notif_viewed_ontime\"]/gpbyincident2['count1']\n",
    "merge_column=gpbyincident2['opened_rate'].copy()"
   ]
  },
  {
   "cell_type": "code",
   "execution_count": 4,
   "metadata": {},
   "outputs": [],
   "source": [
    "basemodel_df= export_df.merge(merge_column, left_on=\"document_id\", right_index=True)"
   ]
  },
  {
   "cell_type": "code",
   "execution_count": 5,
   "metadata": {},
   "outputs": [],
   "source": [
    "basemodel_df=pd.get_dummies(data=basemodel_df,columns= [\"cause\",\"effect\"],drop_first=True)"
   ]
  },
  {
   "cell_type": "code",
   "execution_count": 6,
   "metadata": {},
   "outputs": [],
   "source": [
    "basemodel_df.drop(['event_timestamp', 'event_name', 'user_id', 'document_id','surrogate_id', 'created_at', 'published_at', 'closed_at','notif_viewed_ontime', 'reaction_time','description','opened_rate','area_of_effect_coordinates_latitude','area_of_effect_coordinates_longitude'],axis=1, inplace=True)\n",
    "#dropping description and coordinates for base model"
   ]
  },
  {
   "cell_type": "code",
   "execution_count": 7,
   "metadata": {},
   "outputs": [],
   "source": [
    "# Function to split the dataset \n",
    "def splitdataset(df): \n",
    "    # Separating the target variable \n",
    "    #X = balance_data.values[:, 1:5] \n",
    "    #Y = df.values[:, 28]\n",
    "    train_size = int(len(df) * 0.8)\n",
    "    train, test = df[0:train_size], df[train_size:len(df)]\n",
    "    X_train= train.drop([\"opened\"], axis=1)\n",
    "    X_test= test.drop([\"opened\"], axis=1)\n",
    "    y_train= train[\"opened\"]\n",
    "    y_test= test[\"opened\"]\n",
    "    print('Observations: %d' % (len(train) + len(test)))\n",
    "    print('Training Observations: %d' % (len(train)))\n",
    "    print('Testing Observations: %d' % (len(test)))\n",
    "    return X_train, X_test, y_train, y_test"
   ]
  },
  {
   "cell_type": "code",
   "execution_count": 16,
   "metadata": {},
   "outputs": [
    {
     "output_type": "stream",
     "name": "stdout",
     "text": [
      "Observations: 908723\nTraining Observations: 726978\nTesting Observations: 181745\n"
     ]
    }
   ],
   "source": [
    "X_train, X_test, y_train, y_test=splitdataset(basemodel_df)"
   ]
  },
  {
   "cell_type": "code",
   "execution_count": 17,
   "metadata": {},
   "outputs": [
    {
     "output_type": "execute_result",
     "data": {
      "text/plain": [
       "        agency_GewRJAw5tUmC4Ku4AX1-SQ  agency_GtvOEQAFZ0GtU6u4AXwvPg  \\\n",
       "0                                 0.0                            1.0   \n",
       "12                                0.0                            1.0   \n",
       "33                                0.0                            1.0   \n",
       "68                                0.0                            1.0   \n",
       "72                                0.0                            1.0   \n",
       "...                               ...                            ...   \n",
       "900363                            0.0                            1.0   \n",
       "900390                            0.0                            1.0   \n",
       "900503                            0.0                            1.0   \n",
       "900986                            0.0                            1.0   \n",
       "901363                            0.0                            1.0   \n",
       "\n",
       "        agency_HE59N3RXM0q5vKu4AXlQZg  agency_JUR9bFXmVkWDHqu4AXaY0g  \\\n",
       "0                                 0.0                            0.0   \n",
       "12                                0.0                            0.0   \n",
       "33                                0.0                            0.0   \n",
       "68                                0.0                            0.0   \n",
       "72                                0.0                            0.0   \n",
       "...                               ...                            ...   \n",
       "900363                            0.0                            0.0   \n",
       "900390                            0.0                            0.0   \n",
       "900503                            0.0                            0.0   \n",
       "900986                            0.0                            0.0   \n",
       "901363                            0.0                            0.0   \n",
       "\n",
       "        agency_JfA8Bw8Zp024Kqu4AXiSpQ  agency_MgUq5b9mOEunx6u4AXt_BA  \\\n",
       "0                                 0.0                            0.0   \n",
       "12                                0.0                            0.0   \n",
       "33                                0.0                            0.0   \n",
       "68                                0.0                            0.0   \n",
       "72                                0.0                            0.0   \n",
       "...                               ...                            ...   \n",
       "900363                            0.0                            0.0   \n",
       "900390                            0.0                            0.0   \n",
       "900503                            0.0                            0.0   \n",
       "900986                            0.0                            0.0   \n",
       "901363                            0.0                            0.0   \n",
       "\n",
       "        agency_NuuRQ2I1Q0a50Kv-AVKlLA  agency_V2AIQQKgmUO3VazvAOA-Cw  \\\n",
       "0                                 0.0                            0.0   \n",
       "12                                0.0                            0.0   \n",
       "33                                0.0                            0.0   \n",
       "68                                0.0                            0.0   \n",
       "72                                0.0                            0.0   \n",
       "...                               ...                            ...   \n",
       "900363                            0.0                            0.0   \n",
       "900390                            0.0                            0.0   \n",
       "900503                            0.0                            0.0   \n",
       "900986                            0.0                            0.0   \n",
       "901363                            0.0                            0.0   \n",
       "\n",
       "        agency_jLjibFoim0iwWau4AWoEdQ  agency_pky7jovXYkaw-awAAMrQ3g  ...  \\\n",
       "0                                 0.0                            0.0  ...   \n",
       "12                                0.0                            0.0  ...   \n",
       "33                                0.0                            0.0  ...   \n",
       "68                                0.0                            0.0  ...   \n",
       "72                                0.0                            0.0  ...   \n",
       "...                               ...                            ...  ...   \n",
       "900363                            0.0                            0.0  ...   \n",
       "900390                            0.0                            0.0  ...   \n",
       "900503                            0.0                            0.0  ...   \n",
       "900986                            0.0                            0.0  ...   \n",
       "901363                            0.0                            0.0  ...   \n",
       "\n",
       "        effect_Delays  effect_Evacuation  effect_FullCapacity  \\\n",
       "0                   1                  0                    0   \n",
       "12                  1                  0                    0   \n",
       "33                  1                  0                    0   \n",
       "68                  1                  0                    0   \n",
       "72                  1                  0                    0   \n",
       "...               ...                ...                  ...   \n",
       "900363              1                  0                    0   \n",
       "900390              1                  0                    0   \n",
       "900503              1                  0                    0   \n",
       "900986              1                  0                    0   \n",
       "901363              1                  0                    0   \n",
       "\n",
       "        effect_HighWaitingTime  effect_InterimService  effect_LaneReduction  \\\n",
       "0                            0                      0                     0   \n",
       "12                           0                      0                     0   \n",
       "33                           0                      0                     0   \n",
       "68                           0                      0                     0   \n",
       "72                           0                      0                     0   \n",
       "...                        ...                    ...                   ...   \n",
       "900363                       0                      0                     0   \n",
       "900390                       0                      0                     0   \n",
       "900503                       0                      0                     0   \n",
       "900986                       0                      0                     0   \n",
       "901363                       0                      0                     0   \n",
       "\n",
       "        effect_RouteDetour  effect_SecuritySpeed  effect_SuspensionOfService  \\\n",
       "0                        0                     0                           0   \n",
       "12                       0                     0                           0   \n",
       "33                       0                     0                           0   \n",
       "68                       0                     0                           0   \n",
       "72                       0                     0                           0   \n",
       "...                    ...                   ...                         ...   \n",
       "900363                   0                     0                           0   \n",
       "900390                   0                     0                           0   \n",
       "900503                   0                     0                           0   \n",
       "900986                   0                     0                           0   \n",
       "901363                   0                     0                           0   \n",
       "\n",
       "        effect_TrafficImpact  \n",
       "0                          0  \n",
       "12                         0  \n",
       "33                         0  \n",
       "68                         0  \n",
       "72                         0  \n",
       "...                      ...  \n",
       "900363                     0  \n",
       "900390                     0  \n",
       "900503                     0  \n",
       "900986                     0  \n",
       "901363                     0  \n",
       "\n",
       "[726978 rows x 50 columns]"
      ],
      "text/html": "<div>\n<style scoped>\n    .dataframe tbody tr th:only-of-type {\n        vertical-align: middle;\n    }\n\n    .dataframe tbody tr th {\n        vertical-align: top;\n    }\n\n    .dataframe thead th {\n        text-align: right;\n    }\n</style>\n<table border=\"1\" class=\"dataframe\">\n  <thead>\n    <tr style=\"text-align: right;\">\n      <th></th>\n      <th>agency_GewRJAw5tUmC4Ku4AX1-SQ</th>\n      <th>agency_GtvOEQAFZ0GtU6u4AXwvPg</th>\n      <th>agency_HE59N3RXM0q5vKu4AXlQZg</th>\n      <th>agency_JUR9bFXmVkWDHqu4AXaY0g</th>\n      <th>agency_JfA8Bw8Zp024Kqu4AXiSpQ</th>\n      <th>agency_MgUq5b9mOEunx6u4AXt_BA</th>\n      <th>agency_NuuRQ2I1Q0a50Kv-AVKlLA</th>\n      <th>agency_V2AIQQKgmUO3VazvAOA-Cw</th>\n      <th>agency_jLjibFoim0iwWau4AWoEdQ</th>\n      <th>agency_pky7jovXYkaw-awAAMrQ3g</th>\n      <th>...</th>\n      <th>effect_Delays</th>\n      <th>effect_Evacuation</th>\n      <th>effect_FullCapacity</th>\n      <th>effect_HighWaitingTime</th>\n      <th>effect_InterimService</th>\n      <th>effect_LaneReduction</th>\n      <th>effect_RouteDetour</th>\n      <th>effect_SecuritySpeed</th>\n      <th>effect_SuspensionOfService</th>\n      <th>effect_TrafficImpact</th>\n    </tr>\n  </thead>\n  <tbody>\n    <tr>\n      <th>0</th>\n      <td>0.0</td>\n      <td>1.0</td>\n      <td>0.0</td>\n      <td>0.0</td>\n      <td>0.0</td>\n      <td>0.0</td>\n      <td>0.0</td>\n      <td>0.0</td>\n      <td>0.0</td>\n      <td>0.0</td>\n      <td>...</td>\n      <td>1</td>\n      <td>0</td>\n      <td>0</td>\n      <td>0</td>\n      <td>0</td>\n      <td>0</td>\n      <td>0</td>\n      <td>0</td>\n      <td>0</td>\n      <td>0</td>\n    </tr>\n    <tr>\n      <th>12</th>\n      <td>0.0</td>\n      <td>1.0</td>\n      <td>0.0</td>\n      <td>0.0</td>\n      <td>0.0</td>\n      <td>0.0</td>\n      <td>0.0</td>\n      <td>0.0</td>\n      <td>0.0</td>\n      <td>0.0</td>\n      <td>...</td>\n      <td>1</td>\n      <td>0</td>\n      <td>0</td>\n      <td>0</td>\n      <td>0</td>\n      <td>0</td>\n      <td>0</td>\n      <td>0</td>\n      <td>0</td>\n      <td>0</td>\n    </tr>\n    <tr>\n      <th>33</th>\n      <td>0.0</td>\n      <td>1.0</td>\n      <td>0.0</td>\n      <td>0.0</td>\n      <td>0.0</td>\n      <td>0.0</td>\n      <td>0.0</td>\n      <td>0.0</td>\n      <td>0.0</td>\n      <td>0.0</td>\n      <td>...</td>\n      <td>1</td>\n      <td>0</td>\n      <td>0</td>\n      <td>0</td>\n      <td>0</td>\n      <td>0</td>\n      <td>0</td>\n      <td>0</td>\n      <td>0</td>\n      <td>0</td>\n    </tr>\n    <tr>\n      <th>68</th>\n      <td>0.0</td>\n      <td>1.0</td>\n      <td>0.0</td>\n      <td>0.0</td>\n      <td>0.0</td>\n      <td>0.0</td>\n      <td>0.0</td>\n      <td>0.0</td>\n      <td>0.0</td>\n      <td>0.0</td>\n      <td>...</td>\n      <td>1</td>\n      <td>0</td>\n      <td>0</td>\n      <td>0</td>\n      <td>0</td>\n      <td>0</td>\n      <td>0</td>\n      <td>0</td>\n      <td>0</td>\n      <td>0</td>\n    </tr>\n    <tr>\n      <th>72</th>\n      <td>0.0</td>\n      <td>1.0</td>\n      <td>0.0</td>\n      <td>0.0</td>\n      <td>0.0</td>\n      <td>0.0</td>\n      <td>0.0</td>\n      <td>0.0</td>\n      <td>0.0</td>\n      <td>0.0</td>\n      <td>...</td>\n      <td>1</td>\n      <td>0</td>\n      <td>0</td>\n      <td>0</td>\n      <td>0</td>\n      <td>0</td>\n      <td>0</td>\n      <td>0</td>\n      <td>0</td>\n      <td>0</td>\n    </tr>\n    <tr>\n      <th>...</th>\n      <td>...</td>\n      <td>...</td>\n      <td>...</td>\n      <td>...</td>\n      <td>...</td>\n      <td>...</td>\n      <td>...</td>\n      <td>...</td>\n      <td>...</td>\n      <td>...</td>\n      <td>...</td>\n      <td>...</td>\n      <td>...</td>\n      <td>...</td>\n      <td>...</td>\n      <td>...</td>\n      <td>...</td>\n      <td>...</td>\n      <td>...</td>\n      <td>...</td>\n      <td>...</td>\n    </tr>\n    <tr>\n      <th>900363</th>\n      <td>0.0</td>\n      <td>1.0</td>\n      <td>0.0</td>\n      <td>0.0</td>\n      <td>0.0</td>\n      <td>0.0</td>\n      <td>0.0</td>\n      <td>0.0</td>\n      <td>0.0</td>\n      <td>0.0</td>\n      <td>...</td>\n      <td>1</td>\n      <td>0</td>\n      <td>0</td>\n      <td>0</td>\n      <td>0</td>\n      <td>0</td>\n      <td>0</td>\n      <td>0</td>\n      <td>0</td>\n      <td>0</td>\n    </tr>\n    <tr>\n      <th>900390</th>\n      <td>0.0</td>\n      <td>1.0</td>\n      <td>0.0</td>\n      <td>0.0</td>\n      <td>0.0</td>\n      <td>0.0</td>\n      <td>0.0</td>\n      <td>0.0</td>\n      <td>0.0</td>\n      <td>0.0</td>\n      <td>...</td>\n      <td>1</td>\n      <td>0</td>\n      <td>0</td>\n      <td>0</td>\n      <td>0</td>\n      <td>0</td>\n      <td>0</td>\n      <td>0</td>\n      <td>0</td>\n      <td>0</td>\n    </tr>\n    <tr>\n      <th>900503</th>\n      <td>0.0</td>\n      <td>1.0</td>\n      <td>0.0</td>\n      <td>0.0</td>\n      <td>0.0</td>\n      <td>0.0</td>\n      <td>0.0</td>\n      <td>0.0</td>\n      <td>0.0</td>\n      <td>0.0</td>\n      <td>...</td>\n      <td>1</td>\n      <td>0</td>\n      <td>0</td>\n      <td>0</td>\n      <td>0</td>\n      <td>0</td>\n      <td>0</td>\n      <td>0</td>\n      <td>0</td>\n      <td>0</td>\n    </tr>\n    <tr>\n      <th>900986</th>\n      <td>0.0</td>\n      <td>1.0</td>\n      <td>0.0</td>\n      <td>0.0</td>\n      <td>0.0</td>\n      <td>0.0</td>\n      <td>0.0</td>\n      <td>0.0</td>\n      <td>0.0</td>\n      <td>0.0</td>\n      <td>...</td>\n      <td>1</td>\n      <td>0</td>\n      <td>0</td>\n      <td>0</td>\n      <td>0</td>\n      <td>0</td>\n      <td>0</td>\n      <td>0</td>\n      <td>0</td>\n      <td>0</td>\n    </tr>\n    <tr>\n      <th>901363</th>\n      <td>0.0</td>\n      <td>1.0</td>\n      <td>0.0</td>\n      <td>0.0</td>\n      <td>0.0</td>\n      <td>0.0</td>\n      <td>0.0</td>\n      <td>0.0</td>\n      <td>0.0</td>\n      <td>0.0</td>\n      <td>...</td>\n      <td>1</td>\n      <td>0</td>\n      <td>0</td>\n      <td>0</td>\n      <td>0</td>\n      <td>0</td>\n      <td>0</td>\n      <td>0</td>\n      <td>0</td>\n      <td>0</td>\n    </tr>\n  </tbody>\n</table>\n<p>726978 rows × 50 columns</p>\n</div>"
     },
     "metadata": {},
     "execution_count": 17
    }
   ],
   "source": [
    "X_train"
   ]
  },
  {
   "cell_type": "code",
   "execution_count": 18,
   "metadata": {},
   "outputs": [
    {
     "output_type": "execute_result",
     "data": {
      "text/plain": [
       "        agency_GewRJAw5tUmC4Ku4AX1-SQ  agency_GtvOEQAFZ0GtU6u4AXwvPg  \\\n",
       "901510                            0.0                            1.0   \n",
       "901711                            0.0                            1.0   \n",
       "901846                            0.0                            1.0   \n",
       "901932                            0.0                            1.0   \n",
       "901963                            0.0                            1.0   \n",
       "...                               ...                            ...   \n",
       "908168                            0.0                            0.0   \n",
       "908179                            0.0                            0.0   \n",
       "908187                            0.0                            0.0   \n",
       "908192                            0.0                            0.0   \n",
       "908200                            0.0                            0.0   \n",
       "\n",
       "        agency_HE59N3RXM0q5vKu4AXlQZg  agency_JUR9bFXmVkWDHqu4AXaY0g  \\\n",
       "901510                            0.0                            0.0   \n",
       "901711                            0.0                            0.0   \n",
       "901846                            0.0                            0.0   \n",
       "901932                            0.0                            0.0   \n",
       "901963                            0.0                            0.0   \n",
       "...                               ...                            ...   \n",
       "908168                            0.0                            0.0   \n",
       "908179                            0.0                            0.0   \n",
       "908187                            0.0                            0.0   \n",
       "908192                            0.0                            0.0   \n",
       "908200                            0.0                            0.0   \n",
       "\n",
       "        agency_JfA8Bw8Zp024Kqu4AXiSpQ  agency_MgUq5b9mOEunx6u4AXt_BA  \\\n",
       "901510                            0.0                            0.0   \n",
       "901711                            0.0                            0.0   \n",
       "901846                            0.0                            0.0   \n",
       "901932                            0.0                            0.0   \n",
       "901963                            0.0                            0.0   \n",
       "...                               ...                            ...   \n",
       "908168                            1.0                            0.0   \n",
       "908179                            1.0                            0.0   \n",
       "908187                            1.0                            0.0   \n",
       "908192                            1.0                            0.0   \n",
       "908200                            1.0                            0.0   \n",
       "\n",
       "        agency_NuuRQ2I1Q0a50Kv-AVKlLA  agency_V2AIQQKgmUO3VazvAOA-Cw  \\\n",
       "901510                            0.0                            0.0   \n",
       "901711                            0.0                            0.0   \n",
       "901846                            0.0                            0.0   \n",
       "901932                            0.0                            0.0   \n",
       "901963                            0.0                            0.0   \n",
       "...                               ...                            ...   \n",
       "908168                            0.0                            0.0   \n",
       "908179                            0.0                            0.0   \n",
       "908187                            0.0                            0.0   \n",
       "908192                            0.0                            0.0   \n",
       "908200                            0.0                            0.0   \n",
       "\n",
       "        agency_jLjibFoim0iwWau4AWoEdQ  agency_pky7jovXYkaw-awAAMrQ3g  ...  \\\n",
       "901510                            0.0                            0.0  ...   \n",
       "901711                            0.0                            0.0  ...   \n",
       "901846                            0.0                            0.0  ...   \n",
       "901932                            0.0                            0.0  ...   \n",
       "901963                            0.0                            0.0  ...   \n",
       "...                               ...                            ...  ...   \n",
       "908168                            0.0                            0.0  ...   \n",
       "908179                            0.0                            0.0  ...   \n",
       "908187                            0.0                            0.0  ...   \n",
       "908192                            0.0                            0.0  ...   \n",
       "908200                            0.0                            0.0  ...   \n",
       "\n",
       "        effect_Delays  effect_Evacuation  effect_FullCapacity  \\\n",
       "901510              1                  0                    0   \n",
       "901711              1                  0                    0   \n",
       "901846              1                  0                    0   \n",
       "901932              1                  0                    0   \n",
       "901963              1                  0                    0   \n",
       "...               ...                ...                  ...   \n",
       "908168              0                  0                    0   \n",
       "908179              0                  0                    0   \n",
       "908187              0                  0                    0   \n",
       "908192              0                  0                    0   \n",
       "908200              0                  0                    0   \n",
       "\n",
       "        effect_HighWaitingTime  effect_InterimService  effect_LaneReduction  \\\n",
       "901510                       0                      0                     0   \n",
       "901711                       0                      0                     0   \n",
       "901846                       0                      0                     0   \n",
       "901932                       0                      0                     0   \n",
       "901963                       0                      0                     0   \n",
       "...                        ...                    ...                   ...   \n",
       "908168                       0                      1                     0   \n",
       "908179                       0                      1                     0   \n",
       "908187                       0                      1                     0   \n",
       "908192                       0                      1                     0   \n",
       "908200                       0                      1                     0   \n",
       "\n",
       "        effect_RouteDetour  effect_SecuritySpeed  effect_SuspensionOfService  \\\n",
       "901510                   0                     0                           0   \n",
       "901711                   0                     0                           0   \n",
       "901846                   0                     0                           0   \n",
       "901932                   0                     0                           0   \n",
       "901963                   0                     0                           0   \n",
       "...                    ...                   ...                         ...   \n",
       "908168                   0                     0                           0   \n",
       "908179                   0                     0                           0   \n",
       "908187                   0                     0                           0   \n",
       "908192                   0                     0                           0   \n",
       "908200                   0                     0                           0   \n",
       "\n",
       "        effect_TrafficImpact  \n",
       "901510                     0  \n",
       "901711                     0  \n",
       "901846                     0  \n",
       "901932                     0  \n",
       "901963                     0  \n",
       "...                      ...  \n",
       "908168                     0  \n",
       "908179                     0  \n",
       "908187                     0  \n",
       "908192                     0  \n",
       "908200                     0  \n",
       "\n",
       "[181745 rows x 50 columns]"
      ],
      "text/html": "<div>\n<style scoped>\n    .dataframe tbody tr th:only-of-type {\n        vertical-align: middle;\n    }\n\n    .dataframe tbody tr th {\n        vertical-align: top;\n    }\n\n    .dataframe thead th {\n        text-align: right;\n    }\n</style>\n<table border=\"1\" class=\"dataframe\">\n  <thead>\n    <tr style=\"text-align: right;\">\n      <th></th>\n      <th>agency_GewRJAw5tUmC4Ku4AX1-SQ</th>\n      <th>agency_GtvOEQAFZ0GtU6u4AXwvPg</th>\n      <th>agency_HE59N3RXM0q5vKu4AXlQZg</th>\n      <th>agency_JUR9bFXmVkWDHqu4AXaY0g</th>\n      <th>agency_JfA8Bw8Zp024Kqu4AXiSpQ</th>\n      <th>agency_MgUq5b9mOEunx6u4AXt_BA</th>\n      <th>agency_NuuRQ2I1Q0a50Kv-AVKlLA</th>\n      <th>agency_V2AIQQKgmUO3VazvAOA-Cw</th>\n      <th>agency_jLjibFoim0iwWau4AWoEdQ</th>\n      <th>agency_pky7jovXYkaw-awAAMrQ3g</th>\n      <th>...</th>\n      <th>effect_Delays</th>\n      <th>effect_Evacuation</th>\n      <th>effect_FullCapacity</th>\n      <th>effect_HighWaitingTime</th>\n      <th>effect_InterimService</th>\n      <th>effect_LaneReduction</th>\n      <th>effect_RouteDetour</th>\n      <th>effect_SecuritySpeed</th>\n      <th>effect_SuspensionOfService</th>\n      <th>effect_TrafficImpact</th>\n    </tr>\n  </thead>\n  <tbody>\n    <tr>\n      <th>901510</th>\n      <td>0.0</td>\n      <td>1.0</td>\n      <td>0.0</td>\n      <td>0.0</td>\n      <td>0.0</td>\n      <td>0.0</td>\n      <td>0.0</td>\n      <td>0.0</td>\n      <td>0.0</td>\n      <td>0.0</td>\n      <td>...</td>\n      <td>1</td>\n      <td>0</td>\n      <td>0</td>\n      <td>0</td>\n      <td>0</td>\n      <td>0</td>\n      <td>0</td>\n      <td>0</td>\n      <td>0</td>\n      <td>0</td>\n    </tr>\n    <tr>\n      <th>901711</th>\n      <td>0.0</td>\n      <td>1.0</td>\n      <td>0.0</td>\n      <td>0.0</td>\n      <td>0.0</td>\n      <td>0.0</td>\n      <td>0.0</td>\n      <td>0.0</td>\n      <td>0.0</td>\n      <td>0.0</td>\n      <td>...</td>\n      <td>1</td>\n      <td>0</td>\n      <td>0</td>\n      <td>0</td>\n      <td>0</td>\n      <td>0</td>\n      <td>0</td>\n      <td>0</td>\n      <td>0</td>\n      <td>0</td>\n    </tr>\n    <tr>\n      <th>901846</th>\n      <td>0.0</td>\n      <td>1.0</td>\n      <td>0.0</td>\n      <td>0.0</td>\n      <td>0.0</td>\n      <td>0.0</td>\n      <td>0.0</td>\n      <td>0.0</td>\n      <td>0.0</td>\n      <td>0.0</td>\n      <td>...</td>\n      <td>1</td>\n      <td>0</td>\n      <td>0</td>\n      <td>0</td>\n      <td>0</td>\n      <td>0</td>\n      <td>0</td>\n      <td>0</td>\n      <td>0</td>\n      <td>0</td>\n    </tr>\n    <tr>\n      <th>901932</th>\n      <td>0.0</td>\n      <td>1.0</td>\n      <td>0.0</td>\n      <td>0.0</td>\n      <td>0.0</td>\n      <td>0.0</td>\n      <td>0.0</td>\n      <td>0.0</td>\n      <td>0.0</td>\n      <td>0.0</td>\n      <td>...</td>\n      <td>1</td>\n      <td>0</td>\n      <td>0</td>\n      <td>0</td>\n      <td>0</td>\n      <td>0</td>\n      <td>0</td>\n      <td>0</td>\n      <td>0</td>\n      <td>0</td>\n    </tr>\n    <tr>\n      <th>901963</th>\n      <td>0.0</td>\n      <td>1.0</td>\n      <td>0.0</td>\n      <td>0.0</td>\n      <td>0.0</td>\n      <td>0.0</td>\n      <td>0.0</td>\n      <td>0.0</td>\n      <td>0.0</td>\n      <td>0.0</td>\n      <td>...</td>\n      <td>1</td>\n      <td>0</td>\n      <td>0</td>\n      <td>0</td>\n      <td>0</td>\n      <td>0</td>\n      <td>0</td>\n      <td>0</td>\n      <td>0</td>\n      <td>0</td>\n    </tr>\n    <tr>\n      <th>...</th>\n      <td>...</td>\n      <td>...</td>\n      <td>...</td>\n      <td>...</td>\n      <td>...</td>\n      <td>...</td>\n      <td>...</td>\n      <td>...</td>\n      <td>...</td>\n      <td>...</td>\n      <td>...</td>\n      <td>...</td>\n      <td>...</td>\n      <td>...</td>\n      <td>...</td>\n      <td>...</td>\n      <td>...</td>\n      <td>...</td>\n      <td>...</td>\n      <td>...</td>\n      <td>...</td>\n    </tr>\n    <tr>\n      <th>908168</th>\n      <td>0.0</td>\n      <td>0.0</td>\n      <td>0.0</td>\n      <td>0.0</td>\n      <td>1.0</td>\n      <td>0.0</td>\n      <td>0.0</td>\n      <td>0.0</td>\n      <td>0.0</td>\n      <td>0.0</td>\n      <td>...</td>\n      <td>0</td>\n      <td>0</td>\n      <td>0</td>\n      <td>0</td>\n      <td>1</td>\n      <td>0</td>\n      <td>0</td>\n      <td>0</td>\n      <td>0</td>\n      <td>0</td>\n    </tr>\n    <tr>\n      <th>908179</th>\n      <td>0.0</td>\n      <td>0.0</td>\n      <td>0.0</td>\n      <td>0.0</td>\n      <td>1.0</td>\n      <td>0.0</td>\n      <td>0.0</td>\n      <td>0.0</td>\n      <td>0.0</td>\n      <td>0.0</td>\n      <td>...</td>\n      <td>0</td>\n      <td>0</td>\n      <td>0</td>\n      <td>0</td>\n      <td>1</td>\n      <td>0</td>\n      <td>0</td>\n      <td>0</td>\n      <td>0</td>\n      <td>0</td>\n    </tr>\n    <tr>\n      <th>908187</th>\n      <td>0.0</td>\n      <td>0.0</td>\n      <td>0.0</td>\n      <td>0.0</td>\n      <td>1.0</td>\n      <td>0.0</td>\n      <td>0.0</td>\n      <td>0.0</td>\n      <td>0.0</td>\n      <td>0.0</td>\n      <td>...</td>\n      <td>0</td>\n      <td>0</td>\n      <td>0</td>\n      <td>0</td>\n      <td>1</td>\n      <td>0</td>\n      <td>0</td>\n      <td>0</td>\n      <td>0</td>\n      <td>0</td>\n    </tr>\n    <tr>\n      <th>908192</th>\n      <td>0.0</td>\n      <td>0.0</td>\n      <td>0.0</td>\n      <td>0.0</td>\n      <td>1.0</td>\n      <td>0.0</td>\n      <td>0.0</td>\n      <td>0.0</td>\n      <td>0.0</td>\n      <td>0.0</td>\n      <td>...</td>\n      <td>0</td>\n      <td>0</td>\n      <td>0</td>\n      <td>0</td>\n      <td>1</td>\n      <td>0</td>\n      <td>0</td>\n      <td>0</td>\n      <td>0</td>\n      <td>0</td>\n    </tr>\n    <tr>\n      <th>908200</th>\n      <td>0.0</td>\n      <td>0.0</td>\n      <td>0.0</td>\n      <td>0.0</td>\n      <td>1.0</td>\n      <td>0.0</td>\n      <td>0.0</td>\n      <td>0.0</td>\n      <td>0.0</td>\n      <td>0.0</td>\n      <td>...</td>\n      <td>0</td>\n      <td>0</td>\n      <td>0</td>\n      <td>0</td>\n      <td>1</td>\n      <td>0</td>\n      <td>0</td>\n      <td>0</td>\n      <td>0</td>\n      <td>0</td>\n    </tr>\n  </tbody>\n</table>\n<p>181745 rows × 50 columns</p>\n</div>"
     },
     "metadata": {},
     "execution_count": 18
    }
   ],
   "source": [
    "X_test"
   ]
  },
  {
   "cell_type": "code",
   "execution_count": 19,
   "metadata": {},
   "outputs": [
    {
     "output_type": "execute_result",
     "data": {
      "text/plain": [
       "0         0\n",
       "12        0\n",
       "33        0\n",
       "68        0\n",
       "72        0\n",
       "         ..\n",
       "900363    0\n",
       "900390    0\n",
       "900503    0\n",
       "900986    0\n",
       "901363    0\n",
       "Name: opened, Length: 726978, dtype: int64"
      ]
     },
     "metadata": {},
     "execution_count": 19
    }
   ],
   "source": [
    "y_train"
   ]
  },
  {
   "cell_type": "code",
   "execution_count": 21,
   "metadata": {},
   "outputs": [
    {
     "output_type": "execute_result",
     "data": {
      "text/plain": [
       "0    700017\n",
       "1     26961\n",
       "Name: opened, dtype: int64"
      ]
     },
     "metadata": {},
     "execution_count": 21
    }
   ],
   "source": [
    "y_train.value_counts()"
   ]
  },
  {
   "cell_type": "code",
   "execution_count": 22,
   "metadata": {},
   "outputs": [
    {
     "output_type": "execute_result",
     "data": {
      "text/plain": [
       "0    174757\n",
       "1      6988\n",
       "Name: opened, dtype: int64"
      ]
     },
     "metadata": {},
     "execution_count": 22
    }
   ],
   "source": [
    "y_test.value_counts()"
   ]
  },
  {
   "source": [
    "# Function to perform training with MSE. \n",
    "def train_tree(X_train, X_test, y_train): \n",
    "    # Creating the classifier object \n",
    "    reg_tree = DecisionTreeRegressor(criterion = \"mse\", max_leaf_nodes=100) \n",
    "    # Performing training \n",
    "    reg_tree.fit(X_train, y_train)\n",
    "    return reg_tree\n",
    "    #max_depth=3, min_samples_leaf=5"
   ],
   "cell_type": "markdown",
   "metadata": {}
  },
  {
   "cell_type": "code",
   "execution_count": 8,
   "metadata": {},
   "outputs": [],
   "source": [
    "# Function to perform training with MSE. \n",
    "def train_tree(X_train, X_test, y_train): \n",
    "    # Creating the classifier object \n",
    "    reg_tree = DecisionTreeClassifier(criterion = \"gini\")\n",
    "    param_tree = {'max_leaf_nodes':[20,50,100,200,500]}\n",
    "    grid_tree = GridSearchCV(reg_tree, param_grid=param_tree, cv=5,scoring='precision',verbose=5, n_jobs=-1)\n",
    "    grid_tree.fit(X_train, y_train)\n",
    "    print('Best score:\\n{:.2f}'.format(grid_tree.best_score_))\n",
    "    print(\"Best parameters:\\n{}\".format(grid_tree.best_params_))\n",
    "    print(\"Best model_tree:\\n{}\".format(grid_tree.best_estimator_))\n",
    "    best_model_tree = grid_tree.best_estimator_\n",
    "    return best_model_tree\n",
    "    #max_depth=3, min_samples_leaf=5"
   ]
  },
  {
   "cell_type": "code",
   "execution_count": 9,
   "metadata": {},
   "outputs": [],
   "source": [
    "# Function to make predictions \n",
    "def prediction(X_test, reg_tree): \n",
    "\n",
    "    # Predicton on test with giniIndex \n",
    "    y_pred = reg_tree.predict(X_test)\n",
    "    #print(\"Predicted values:\\n\") \n",
    "    print(y_pred)\n",
    "     \n",
    "    return y_pred "
   ]
  },
  {
   "cell_type": "code",
   "execution_count": 10,
   "metadata": {},
   "outputs": [],
   "source": [
    "# Function to calculate accuracy \n",
    "def class_metrics(y_test, y_pred):\n",
    "     \n",
    "    accuracy = accuracy_score(y_test, y_pred)\n",
    "    cm = confusion_matrix(y_test, y_pred).round()\n",
    "    print(\"Predicted values:\\n\", y_pred) \n",
    "    print(\"Confusion Matrix: \\n\", cm) \n",
    "    print(\"Accuracy: %.4f%%\" % (accuracy * 100.0))\n",
    "    \n",
    "    print(\"Report : \\n\", classification_report(y_test, y_pred))"
   ]
  },
  {
   "cell_type": "code",
   "execution_count": 11,
   "metadata": {},
   "outputs": [],
   "source": [
    "# Driver code \n",
    "def main(): \n",
    "    # Building Phase \n",
    "    X_train, X_test, y_train, y_test = splitdataset(basemodel_df) \n",
    "    basemodel = train_tree(X_train, X_test, y_train)\n",
    "    print(f'Decision tree has {basemodel.tree_.node_count} nodes with maximum depth {basemodel.tree_.max_depth}.')\n",
    "    # Operational Phase \n",
    "    print(\"-----\"*15)\n",
    "    print(\"Results:\\n\")\n",
    "    # Prediction\n",
    "    y_pred = prediction(X_test, basemodel) \n",
    "    class_metrics(y_test, y_pred)\n",
    "    return basemodel,y_pred"
   ]
  },
  {
   "cell_type": "code",
   "execution_count": 12,
   "metadata": {
    "tags": []
   },
   "outputs": [
    {
     "output_type": "stream",
     "name": "stdout",
     "text": [
      "Observations: 908723\n",
      "Training Observations: 726978\n",
      "Testing Observations: 181745\n",
      "Fitting 5 folds for each of 5 candidates, totalling 25 fits\n",
      "/Users/fortes/neuefische/Capstone-WIMT/.venv/lib/python3.8/site-packages/sklearn/metrics/_classification.py:1248: UndefinedMetricWarning: Precision is ill-defined and being set to 0.0 due to no predicted samples. Use `zero_division` parameter to control this behavior.\n",
      "  _warn_prf(average, modifier, msg_start, len(result))\n",
      "[CV 1/5] END .................max_leaf_nodes=20;, score=0.000 total time=   4.7s\n",
      "/Users/fortes/neuefische/Capstone-WIMT/.venv/lib/python3.8/site-packages/sklearn/metrics/_classification.py:1248: UndefinedMetricWarning: Precision is ill-defined and being set to 0.0 due to no predicted samples. Use `zero_division` parameter to control this behavior.\n",
      "  _warn_prf(average, modifier, msg_start, len(result))\n",
      "[CV 3/5] END .................max_leaf_nodes=20;, score=0.000 total time=   4.9s\n",
      "[CV 5/5] END .................max_leaf_nodes=20;, score=0.007 total time=   5.0s\n",
      "[CV 4/5] END .................max_leaf_nodes=20;, score=0.000 total time=   5.0s\n",
      "[CV 2/5] END .................max_leaf_nodes=20;, score=0.000 total time=   5.2s\n",
      "[CV 2/5] END .................max_leaf_nodes=50;, score=0.000 total time=   5.6s\n",
      "[CV 3/5] END .................max_leaf_nodes=50;, score=0.000 total time=   5.7s\n",
      "[CV 1/5] END .................max_leaf_nodes=50;, score=0.000 total time=   5.9s\n",
      "/Users/fortes/neuefische/Capstone-WIMT/.venv/lib/python3.8/site-packages/sklearn/metrics/_classification.py:1248: UndefinedMetricWarning: Precision is ill-defined and being set to 0.0 due to no predicted samples. Use `zero_division` parameter to control this behavior.\n",
      "  _warn_prf(average, modifier, msg_start, len(result))\n",
      "/Users/fortes/neuefische/Capstone-WIMT/.venv/lib/python3.8/site-packages/sklearn/metrics/_classification.py:1248: UndefinedMetricWarning: Precision is ill-defined and being set to 0.0 due to no predicted samples. Use `zero_division` parameter to control this behavior.\n",
      "  _warn_prf(average, modifier, msg_start, len(result))\n",
      "[CV 5/5] END .................max_leaf_nodes=50;, score=0.006 total time=   3.6s\n",
      "[CV 4/5] END .................max_leaf_nodes=50;, score=0.000 total time=   3.8s\n",
      "[CV 2/5] END ................max_leaf_nodes=100;, score=0.000 total time=   5.0s\n",
      "[CV 3/5] END ................max_leaf_nodes=100;, score=0.000 total time=   5.0s\n",
      "[CV 1/5] END ................max_leaf_nodes=100;, score=0.000 total time=   5.2s\n",
      "/Users/fortes/neuefische/Capstone-WIMT/.venv/lib/python3.8/site-packages/sklearn/metrics/_classification.py:1248: UndefinedMetricWarning: Precision is ill-defined and being set to 0.0 due to no predicted samples. Use `zero_division` parameter to control this behavior.\n",
      "  _warn_prf(average, modifier, msg_start, len(result))\n",
      "/Users/fortes/neuefische/Capstone-WIMT/.venv/lib/python3.8/site-packages/sklearn/metrics/_classification.py:1248: UndefinedMetricWarning: Precision is ill-defined and being set to 0.0 due to no predicted samples. Use `zero_division` parameter to control this behavior.\n",
      "  _warn_prf(average, modifier, msg_start, len(result))\n",
      "[CV 5/5] END ................max_leaf_nodes=100;, score=0.005 total time=   4.7s\n",
      "[CV 4/5] END ................max_leaf_nodes=100;, score=0.000 total time=   4.9s\n",
      "/Users/fortes/neuefische/Capstone-WIMT/.venv/lib/python3.8/site-packages/sklearn/metrics/_classification.py:1248: UndefinedMetricWarning: Precision is ill-defined and being set to 0.0 due to no predicted samples. Use `zero_division` parameter to control this behavior.\n",
      "  _warn_prf(average, modifier, msg_start, len(result))\n",
      "[CV 1/5] END ................max_leaf_nodes=200;, score=0.000 total time=   5.9s\n",
      "[CV 2/5] END ................max_leaf_nodes=200;, score=0.019 total time=   5.2s\n",
      "/Users/fortes/neuefische/Capstone-WIMT/.venv/lib/python3.8/site-packages/sklearn/metrics/_classification.py:1248: UndefinedMetricWarning: Precision is ill-defined and being set to 0.0 due to no predicted samples. Use `zero_division` parameter to control this behavior.\n",
      "  _warn_prf(average, modifier, msg_start, len(result))\n",
      "[CV 3/5] END ................max_leaf_nodes=200;, score=0.000 total time=   5.3s\n",
      "[CV 5/5] END ................max_leaf_nodes=200;, score=0.005 total time=   4.3s\n",
      "[CV 4/5] END ................max_leaf_nodes=200;, score=0.000 total time=   4.7s\n",
      "/Users/fortes/neuefische/Capstone-WIMT/.venv/lib/python3.8/site-packages/sklearn/metrics/_classification.py:1248: UndefinedMetricWarning: Precision is ill-defined and being set to 0.0 due to no predicted samples. Use `zero_division` parameter to control this behavior.\n",
      "  _warn_prf(average, modifier, msg_start, len(result))\n",
      "/Users/fortes/neuefische/Capstone-WIMT/.venv/lib/python3.8/site-packages/sklearn/metrics/_classification.py:1248: UndefinedMetricWarning: Precision is ill-defined and being set to 0.0 due to no predicted samples. Use `zero_division` parameter to control this behavior.\n",
      "  _warn_prf(average, modifier, msg_start, len(result))\n",
      "[CV 1/5] END ................max_leaf_nodes=500;, score=0.000 total time=   5.3s\n",
      "[CV 3/5] END ................max_leaf_nodes=500;, score=0.000 total time=   5.0s\n",
      "[CV 2/5] END ................max_leaf_nodes=500;, score=0.019 total time=   5.1s\n",
      "[CV 4/5] END ................max_leaf_nodes=500;, score=0.002 total time=   4.2s\n",
      "[CV 5/5] END ................max_leaf_nodes=500;, score=0.005 total time=   3.0s\n",
      "Best score:\n",
      "0.01\n",
      "Best parameters:\n",
      "{'max_leaf_nodes': 500}\n",
      "Best model_tree:\n",
      "DecisionTreeClassifier(max_leaf_nodes=500)\n",
      "Decision tree has 877 nodes with maximum depth 29.\n",
      "---------------------------------------------------------------------------\n",
      "Results:\n",
      "\n",
      "[0 0 0 ... 0 0 0]\n",
      "Predicted values:\n",
      " [0 0 0 ... 0 0 0]\n",
      "Confusion Matrix: \n",
      " [[174757      0]\n",
      " [  6988      0]]\n",
      "Accuracy: 96.1551%\n",
      "Report : \n",
      "               precision    recall  f1-score   support\n",
      "\n",
      "           0       0.96      1.00      0.98    174757\n",
      "           1       0.00      0.00      0.00      6988\n",
      "\n",
      "    accuracy                           0.96    181745\n",
      "   macro avg       0.48      0.50      0.49    181745\n",
      "weighted avg       0.92      0.96      0.94    181745\n",
      "\n"
     ]
    }
   ],
   "source": [
    "basemodel=main()"
   ]
  },
  {
   "source": [
    "from sklearn.tree import export_graphviz  \n",
    "features=['agency_GewRJAw5tUmC4Ku4AX1-SQ', 'agency_GtvOEQAFZ0GtU6u4AXwvPg',\n",
    "       'agency_HE59N3RXM0q5vKu4AXlQZg', 'agency_JUR9bFXmVkWDHqu4AXaY0g',\n",
    "       'agency_JfA8Bw8Zp024Kqu4AXiSpQ', 'agency_MgUq5b9mOEunx6u4AXt_BA',\n",
    "       'agency_NuuRQ2I1Q0a50Kv-AVKlLA', 'agency_V2AIQQKgmUO3VazvAOA-Cw',\n",
    "       'agency_jLjibFoim0iwWau4AWoEdQ', 'agency_pky7jovXYkaw-awAAMrQ3g',\n",
    "       'agency_zCy9zG00HEqGeKu4AWZYNQ', 'cause_BrokenVehicle',\n",
    "       'cause_COVID19', 'cause_Counterflow', 'cause_CycleRide',\n",
    "       'cause_Demonstration', 'cause_EmergencyServices', 'cause_Event',\n",
    "       'cause_Explosion', 'cause_FallenTree', 'cause_Fire', 'cause_Flood',\n",
    "       'cause_GasLeak', 'cause_HeavyTraffic', 'cause_Incident',\n",
    "       'cause_Landslide', 'cause_Leak', 'cause_Maintenance', 'cause_March',\n",
    "       'cause_Overturn', 'cause_Pilgrimage', 'cause_ProtestCamp', 'cause_Rain',\n",
    "       'cause_Reopening', 'cause_Sinkhole', 'cause_StreetWorks',\n",
    "       'cause_VehicularAccident', 'cause_Waterlogging',\n",
    "       'effect_CirculationRestored', 'effect_CirculationShutdown',\n",
    "       'effect_Delays', 'effect_Evacuation', 'effect_FullCapacity',\n",
    "       'effect_HighWaitingTime', 'effect_InterimService',\n",
    "       'effect_LaneReduction', 'effect_RouteDetour', 'effect_SecuritySpeed',\n",
    "       'effect_SuspensionOfService', 'effect_TrafficImpact']\n",
    "# export the decision tree to a tree.dot file \n",
    "#for visualizing the plot easily anywhere \n",
    "export_graphviz(basemodel, out_file ='tree_class.dot', \n",
    "               feature_names =features) "
   ],
   "cell_type": "markdown",
   "metadata": {}
  },
  {
   "cell_type": "code",
   "execution_count": 13,
   "metadata": {},
   "outputs": [],
   "source": [
    "! dot -Tpng tree_class.dot > tree_class.png"
   ]
  }
 ]
}