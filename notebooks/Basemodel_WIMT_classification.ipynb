{
 "metadata": {
  "language_info": {
   "codemirror_mode": {
    "name": "ipython",
    "version": 3
   },
   "file_extension": ".py",
   "mimetype": "text/x-python",
   "name": "python",
   "nbconvert_exporter": "python",
   "pygments_lexer": "ipython3",
   "version": "3.8.5"
  },
  "orig_nbformat": 4,
  "kernelspec": {
   "name": "python3",
   "display_name": "Python 3.8.5 64-bit ('.venv': venv)"
  },
  "interpreter": {
   "hash": "f7e9aa0a9fe1ceb3c33c5aa0b358d6952771ff9c315b2715a747dc81bd71c7e9"
  }
 },
 "nbformat": 4,
 "nbformat_minor": 2,
 "cells": [
  {
   "cell_type": "code",
   "execution_count": null,
   "source": [
    "import numpy as np\n",
    "import pandas as pd  \n",
    "from sklearn.tree import DecisionTreeClassifier\n",
    "from sklearn.model_selection import RepeatedStratifiedKFold\n",
    "from sklearn.metrics import balanced_accuracy_score, confusion_matrix\n",
    "from sklearn.metrics import classification_report\n",
    "import pyarrow.feather as feather\n",
    "from sklearn.model_selection import GridSearchCV\n",
    "# Suppress warnings \n",
    "# (sometimes you might want to ignore warnings, that's how you can achieve this)\n",
    "import warnings\n",
    "warnings.filterwarnings('ignore')\n",
    "#! brew install graphviz\n",
    "RSEED= 42"
   ],
   "outputs": [],
   "metadata": {}
  },
  {
   "cell_type": "code",
   "execution_count": null,
   "source": [
    "export_df = feather.read_feather(\"../data/cleaned_data.feather\")"
   ],
   "outputs": [],
   "metadata": {}
  },
  {
   "cell_type": "code",
   "execution_count": null,
   "source": [
    "export_df[\"opened_rate\"].describe()\n",
    "#For the time being, i will use the 75% percentile as a threshold. That means, notifications with an opened rate of 0,04824 "
   ],
   "outputs": [],
   "metadata": {}
  },
  {
   "cell_type": "code",
   "execution_count": null,
   "source": [
    "export_df[\"interesting_message\"]=list(map(lambda x: 1 if x>0.048240 else 0, export_df[\"opened_rate\"]))"
   ],
   "outputs": [],
   "metadata": {}
  },
  {
   "cell_type": "code",
   "execution_count": null,
   "source": [
    "basemodel_df=pd.get_dummies(data=export_df,columns= [\"cause\",\"effect\"],drop_first=True)"
   ],
   "outputs": [],
   "metadata": {}
  },
  {
   "cell_type": "code",
   "execution_count": null,
   "source": [
    "basemodel_df.drop(['event_timestamp', 'event_name', 'user_id', 'document_id','surrogate_id', 'created_at', 'published_at', 'closed_at','notif_viewed_ontime', 'reaction_time','description','area_of_effect_coordinates_latitude','area_of_effect_coordinates_longitude','opened','opened_rate'],axis=1, inplace=True)\n",
    "#dropping description and coordinates for base model"
   ],
   "outputs": [],
   "metadata": {}
  },
  {
   "cell_type": "code",
   "execution_count": null,
   "source": [
    "# Function to split the dataset \n",
    "def splitdataset(df):\n",
    "    train_size = int(len(df) * 0.8)\n",
    "    train, test = df[0:train_size], df[train_size:len(df)]\n",
    "    X_train= train.drop([\"interesting_message\"], axis=1)\n",
    "    X_test= test.drop([\"interesting_message\"], axis=1)\n",
    "    y_train= train[\"interesting_message\"]\n",
    "    y_test= test[\"interesting_message\"]\n",
    "    return X_train, X_test, y_train, y_test"
   ],
   "outputs": [],
   "metadata": {}
  },
  {
   "cell_type": "code",
   "execution_count": null,
   "source": [
    "# Function to perform training with MSE. \n",
    "def train_tree(X_train, y_train): \n",
    "    # Creating the classifier object \n",
    "    reg_tree = DecisionTreeClassifier(class_weight=\"balanced\")\n",
    "    param_tree = {'max_leaf_nodes':[20,50,100,500],\n",
    "    'criterion': ['gini', 'entropy'],\n",
    "    'max_depth': [2, 5, 10, 50],\n",
    "    'min_samples_leaf':[50,200,500,1000]\n",
    "    }\n",
    "    cv = RepeatedStratifiedKFold(n_splits=5, n_repeats=3, random_state=1)\n",
    "    grid_tree = GridSearchCV(reg_tree, param_grid=param_tree, cv=cv,scoring='balanced_accuracy', n_jobs=-1, verbose=10)\n",
    "    grid_tree.fit(X_train, y_train)\n",
    "    print('Best score:\\n{:.2f}'.format(grid_tree.best_score_))\n",
    "    print(\"Best parameters:\\n{}\".format(grid_tree.best_params_))\n",
    "    print(\"Best model_tree:\\n{}\".format(grid_tree.best_estimator_))\n",
    "    best_model_tree = grid_tree.best_estimator_\n",
    "    return best_model_tree\n",
    "    #max_depth=3, min_samples_leaf=5"
   ],
   "outputs": [],
   "metadata": {}
  },
  {
   "cell_type": "code",
   "execution_count": null,
   "source": [
    "# Function to make predictions \n",
    "def prediction(X_test, reg_tree): \n",
    "    y_pred = reg_tree.predict(X_test)\n",
    "    return y_pred "
   ],
   "outputs": [],
   "metadata": {}
  },
  {
   "cell_type": "code",
   "execution_count": null,
   "source": [
    "# Function to calculate accuracy \n",
    "def class_metrics(y_test, y_pred):\n",
    "     \n",
    "    accuracy = balanced_accuracy_score(y_test, y_pred)\n",
    "    cm = confusion_matrix(y_test, y_pred).round()\n",
    "    print(\"Predicted values:\\n\", y_pred) \n",
    "    print(\"Confusion Matrix: \\n\", cm) \n",
    "    print(\"Balanced Accuracy: %.4f%%\" % (accuracy * 100.0))\n",
    "    print(\"Report : \\n\", classification_report(y_test, y_pred))\n",
    "    return cm, accuracy"
   ],
   "outputs": [],
   "metadata": {}
  },
  {
   "cell_type": "code",
   "execution_count": null,
   "source": [
    "# Driver code \n",
    "def main(): \n",
    "    # Building Phase \n",
    "    X_train, X_test, y_train, y_test = splitdataset(basemodel_df) \n",
    "    basemodel = train_tree(X_train, y_train)\n",
    "    print(f'Decision tree has {basemodel.tree_.node_count} nodes with maximum depth {basemodel.tree_.max_depth}.')\n",
    "    # Operational Phase \n",
    "    print(\"-----\"*15)\n",
    "    print(\"Results:\\n\")\n",
    "    # Prediction\n",
    "    y_pred = prediction(X_test, basemodel) \n",
    "    cm,accuracy= class_metrics(y_test, y_pred)\n",
    "    return basemodel,y_pred,cm,accuracy"
   ],
   "outputs": [],
   "metadata": {}
  },
  {
   "cell_type": "code",
   "execution_count": null,
   "source": [
    "basemodel,y_pred,cm,accuracy=main()"
   ],
   "outputs": [],
   "metadata": {
    "tags": []
   }
  },
  {
   "cell_type": "code",
   "execution_count": null,
   "source": [
    "from sklearn.tree import export_graphviz  \n",
    "features=['agency_GewRJAw5tUmC4Ku4AX1-SQ', 'agency_GtvOEQAFZ0GtU6u4AXwvPg',\n",
    "       'agency_HE59N3RXM0q5vKu4AXlQZg', 'agency_JUR9bFXmVkWDHqu4AXaY0g',\n",
    "       'agency_JfA8Bw8Zp024Kqu4AXiSpQ', 'agency_MgUq5b9mOEunx6u4AXt_BA',\n",
    "       'agency_NuuRQ2I1Q0a50Kv-AVKlLA', 'agency_V2AIQQKgmUO3VazvAOA-Cw',\n",
    "       'agency_jLjibFoim0iwWau4AWoEdQ', 'agency_pky7jovXYkaw-awAAMrQ3g',\n",
    "       'agency_zCy9zG00HEqGeKu4AWZYNQ', 'cause_BrokenVehicle',\n",
    "       'cause_COVID19', 'cause_Counterflow', 'cause_CycleRide',\n",
    "       'cause_Demonstration', 'cause_EmergencyServices', 'cause_Event',\n",
    "       'cause_Explosion', 'cause_FallenTree', 'cause_Fire', 'cause_Flood',\n",
    "       'cause_GasLeak', 'cause_HeavyTraffic', 'cause_Incident',\n",
    "       'cause_Landslide', 'cause_Leak', 'cause_Maintenance', 'cause_March',\n",
    "       'cause_Overturn', 'cause_Pilgrimage', 'cause_ProtestCamp', 'cause_Rain',\n",
    "       'cause_Reopening', 'cause_Sinkhole', 'cause_StreetWorks',\n",
    "       'cause_VehicularAccident', 'cause_Waterlogging',\n",
    "       'effect_CirculationRestored', 'effect_CirculationShutdown',\n",
    "       'effect_Delays', 'effect_Evacuation', 'effect_FullCapacity',\n",
    "       'effect_HighWaitingTime', 'effect_InterimService',\n",
    "       'effect_LaneReduction', 'effect_RouteDetour', 'effect_SecuritySpeed',\n",
    "       'effect_SuspensionOfService', 'effect_TrafficImpact']\n",
    "# export the decision tree to a tree.dot file \n",
    "#for visualizing the plot easily anywhere \n",
    "export_graphviz(basemodel, out_file ='tree_class.dot', \n",
    "               feature_names =features) "
   ],
   "outputs": [],
   "metadata": {}
  },
  {
   "cell_type": "code",
   "execution_count": null,
   "source": [
    "! dot -Tpng tree_class.dot > tree_class.png"
   ],
   "outputs": [],
   "metadata": {}
  },
  {
   "cell_type": "code",
   "execution_count": null,
   "source": [
    "f = open('ml-log.txt', 'a')\n",
    "f.write('Base model: Decision Tree\\n Predicted values:\\n {}\\n Confusion Matrix:\\n {}\\n Balanced Accuracy:\\n {} \\n Model: {}'.format(y_pred,cm,accuracy,basemodel))\n",
    "f.close()"
   ],
   "outputs": [],
   "metadata": {}
  }
 ]
}