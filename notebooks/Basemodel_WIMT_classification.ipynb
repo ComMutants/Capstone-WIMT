{
 "metadata": {
  "language_info": {
   "codemirror_mode": {
    "name": "ipython",
    "version": 3
   },
   "file_extension": ".py",
   "mimetype": "text/x-python",
   "name": "python",
   "nbconvert_exporter": "python",
   "pygments_lexer": "ipython3",
   "version": "3.8.5"
  },
  "orig_nbformat": 4,
  "kernelspec": {
   "name": "python3",
   "display_name": "Python 3.8.5 64-bit ('.venv': venv)"
  },
  "interpreter": {
   "hash": "f7e9aa0a9fe1ceb3c33c5aa0b358d6952771ff9c315b2715a747dc81bd71c7e9"
  }
 },
 "nbformat": 4,
 "nbformat_minor": 2,
 "cells": [
  {
   "cell_type": "code",
   "execution_count": 1,
   "source": [
    "import numpy as np  \n",
    "import matplotlib.pyplot as plt \n",
    "import pandas as pd  \n",
    "from sklearn.tree import DecisionTreeClassifier\n",
    "from sklearn.metrics import fbeta_score, accuracy_score, confusion_matrix\n",
    "from sklearn.metrics import classification_report\n",
    "import pyarrow.feather as feather\n",
    "from sklearn.model_selection import train_test_split\n",
    "from sklearn.model_selection import GridSearchCV\n",
    "# Suppress warnings \n",
    "# (sometimes you might want to ignore warnings, that's how you can achieve this)\n",
    "import warnings\n",
    "warnings.filterwarnings('ignore')\n",
    "#! brew install graphviz\n",
    "RSEED= 42"
   ],
   "outputs": [],
   "metadata": {}
  },
  {
   "cell_type": "code",
   "execution_count": 2,
   "source": [
    "export_df = feather.read_feather(\"../data/cleaned_data.feather\")"
   ],
   "outputs": [],
   "metadata": {}
  },
  {
   "cell_type": "code",
   "execution_count": 5,
   "source": [
    "basemodel_df=pd.get_dummies(data=basemodel_df,columns= [\"cause\",\"effect\"],drop_first=True)"
   ],
   "outputs": [],
   "metadata": {}
  },
  {
   "cell_type": "code",
   "execution_count": 6,
   "source": [
    "basemodel_df.drop(['event_timestamp', 'event_name', 'user_id', 'document_id','surrogate_id', 'created_at', 'published_at', 'closed_at','notif_viewed_ontime', 'reaction_time','description','opened_rate','area_of_effect_coordinates_latitude','area_of_effect_coordinates_longitude'],axis=1, inplace=True)\n",
    "#dropping description and coordinates for base model"
   ],
   "outputs": [],
   "metadata": {}
  },
  {
   "cell_type": "code",
   "execution_count": 7,
   "source": [
    "# Function to split the dataset \n",
    "def splitdataset(df):\n",
    "    train_size = int(len(df) * 0.8)\n",
    "    train, test = df[0:train_size], df[train_size:len(df)]\n",
    "    X_train= train.drop([\"opened\"], axis=1)\n",
    "    X_test= test.drop([\"opened\"], axis=1)\n",
    "    y_train= train[\"opened\"]\n",
    "    y_test= test[\"opened\"]\n",
    "    return X_train, X_test, y_train, y_test"
   ],
   "outputs": [],
   "metadata": {}
  },
  {
   "cell_type": "code",
   "execution_count": 14,
   "source": [
    "# Function to perform training with MSE. \n",
    "def train_tree(X_train, X_test, y_train): \n",
    "    # Creating the classifier object \n",
    "    reg_tree = DecisionTreeClassifier(criterion = \"gini\")\n",
    "    param_tree = {'max_leaf_nodes':[20,50,100,200,500]}\n",
    "    grid_tree = GridSearchCV(reg_tree, param_grid=param_tree, cv=5,scoring='balanced_accuracy',\n",
    "    verbose=5, n_jobs=-1)\n",
    "    grid_tree.fit(X_train, y_train)\n",
    "    print('Best score:\\n{:.2f}'.format(grid_tree.best_score_))\n",
    "    print(\"Best parameters:\\n{}\".format(grid_tree.best_params_))\n",
    "    print(\"Best model_tree:\\n{}\".format(grid_tree.best_estimator_))\n",
    "    best_model_tree = grid_tree.best_estimator_\n",
    "    return best_model_tree\n",
    "    #max_depth=3, min_samples_leaf=5"
   ],
   "outputs": [],
   "metadata": {}
  },
  {
   "cell_type": "code",
   "execution_count": 15,
   "source": [
    "# Function to make predictions \n",
    "def prediction(X_test, reg_tree): \n",
    "\n",
    "    # Predicton on test with giniIndex \n",
    "    y_pred = reg_tree.predict(X_test)\n",
    "    #print(\"Predicted values:\\n\") \n",
    "    print(y_pred)\n",
    "     \n",
    "    return y_pred "
   ],
   "outputs": [],
   "metadata": {}
  },
  {
   "cell_type": "code",
   "execution_count": 16,
   "source": [
    "# Function to calculate accuracy \n",
    "def class_metrics(y_test, y_pred):\n",
    "     \n",
    "    accuracy = accuracy_score(y_test, y_pred)\n",
    "    cm = confusion_matrix(y_test, y_pred).round()\n",
    "    print(\"Predicted values:\\n\", y_pred) \n",
    "    print(\"Confusion Matrix: \\n\", cm) \n",
    "    print(\"Accuracy: %.4f%%\" % (accuracy * 100.0))\n",
    "    \n",
    "    print(\"Report : \\n\", classification_report(y_test, y_pred))"
   ],
   "outputs": [],
   "metadata": {}
  },
  {
   "cell_type": "code",
   "execution_count": 17,
   "source": [
    "# Driver code \n",
    "def main(): \n",
    "    # Building Phase \n",
    "    X_train, X_test, y_train, y_test = splitdataset(basemodel_df) \n",
    "    basemodel = train_tree(X_train, X_test, y_train)\n",
    "    print(f'Decision tree has {basemodel.tree_.node_count} nodes with maximum depth {basemodel.tree_.max_depth}.')\n",
    "    # Operational Phase \n",
    "    print(\"-----\"*15)\n",
    "    print(\"Results:\\n\")\n",
    "    # Prediction\n",
    "    y_pred = prediction(X_test, basemodel) \n",
    "    class_metrics(y_test, y_pred)\n",
    "    return basemodel,y_pred"
   ],
   "outputs": [],
   "metadata": {}
  },
  {
   "cell_type": "code",
   "execution_count": 18,
   "source": [
    "basemodel=main()"
   ],
   "outputs": [
    {
     "output_type": "stream",
     "name": "stdout",
     "text": [
      "Fitting 5 folds for each of 5 candidates, totalling 25 fits\n",
      "[CV 1/5] END .................max_leaf_nodes=20;, score=0.500 total time=   6.8s\n",
      "[CV 3/5] END .................max_leaf_nodes=20;, score=0.500 total time=   6.8s\n",
      "[CV 4/5] END .................max_leaf_nodes=20;, score=0.500 total time=   6.7s\n",
      "[CV 5/5] END .................max_leaf_nodes=20;, score=0.498 total time=   6.9s\n",
      "[CV 2/5] END .................max_leaf_nodes=20;, score=0.500 total time=   7.2s\n",
      "[CV 1/5] END .................max_leaf_nodes=50;, score=0.500 total time=   7.0s\n",
      "[CV 2/5] END .................max_leaf_nodes=50;, score=0.500 total time=   7.5s\n",
      "[CV 3/5] END .................max_leaf_nodes=50;, score=0.500 total time=   7.6s\n",
      "[CV 5/5] END .................max_leaf_nodes=50;, score=0.498 total time=   4.4s\n",
      "[CV 4/5] END .................max_leaf_nodes=50;, score=0.500 total time=   4.6s\n",
      "[CV 2/5] END ................max_leaf_nodes=100;, score=0.500 total time=   5.7s\n",
      "[CV 4/5] END ................max_leaf_nodes=100;, score=0.500 total time=   5.4s\n",
      "[CV 3/5] END ................max_leaf_nodes=100;, score=0.500 total time=   5.7s\n",
      "[CV 5/5] END ................max_leaf_nodes=100;, score=0.496 total time=   5.1s\n",
      "[CV 1/5] END ................max_leaf_nodes=100;, score=0.500 total time=   5.9s\n",
      "[CV 1/5] END ................max_leaf_nodes=200;, score=0.500 total time=   6.6s\n",
      "[CV 2/5] END ................max_leaf_nodes=200;, score=0.499 total time=   6.2s\n",
      "[CV 5/5] END ................max_leaf_nodes=200;, score=0.497 total time=   5.3s\n",
      "[CV 3/5] END ................max_leaf_nodes=200;, score=0.500 total time=   6.4s\n",
      "[CV 4/5] END ................max_leaf_nodes=200;, score=0.500 total time=   5.8s\n",
      "[CV 3/5] END ................max_leaf_nodes=500;, score=0.500 total time=   6.2s\n",
      "[CV 1/5] END ................max_leaf_nodes=500;, score=0.500 total time=   6.5s\n",
      "[CV 2/5] END ................max_leaf_nodes=500;, score=0.499 total time=   6.5s\n",
      "[CV 4/5] END ................max_leaf_nodes=500;, score=0.499 total time=   5.1s\n",
      "[CV 5/5] END ................max_leaf_nodes=500;, score=0.497 total time=   3.2s\n",
      "Best score:\n",
      "0.50\n",
      "Best parameters:\n",
      "{'max_leaf_nodes': 50}\n",
      "Best model_tree:\n",
      "DecisionTreeClassifier(max_leaf_nodes=50)\n",
      "Decision tree has 99 nodes with maximum depth 12.\n",
      "---------------------------------------------------------------------------\n",
      "Results:\n",
      "\n",
      "[0 0 0 ... 0 0 0]\n",
      "Predicted values:\n",
      " [0 0 0 ... 0 0 0]\n",
      "Confusion Matrix: \n",
      " [[174757      0]\n",
      " [  6988      0]]\n",
      "Accuracy: 96.1551%\n",
      "Report : \n",
      "               precision    recall  f1-score   support\n",
      "\n",
      "           0       0.96      1.00      0.98    174757\n",
      "           1       0.00      0.00      0.00      6988\n",
      "\n",
      "    accuracy                           0.96    181745\n",
      "   macro avg       0.48      0.50      0.49    181745\n",
      "weighted avg       0.92      0.96      0.94    181745\n",
      "\n"
     ]
    }
   ],
   "metadata": {
    "tags": []
   }
  },
  {
   "cell_type": "markdown",
   "source": [
    "from sklearn.tree import export_graphviz  \n",
    "features=['agency_GewRJAw5tUmC4Ku4AX1-SQ', 'agency_GtvOEQAFZ0GtU6u4AXwvPg',\n",
    "       'agency_HE59N3RXM0q5vKu4AXlQZg', 'agency_JUR9bFXmVkWDHqu4AXaY0g',\n",
    "       'agency_JfA8Bw8Zp024Kqu4AXiSpQ', 'agency_MgUq5b9mOEunx6u4AXt_BA',\n",
    "       'agency_NuuRQ2I1Q0a50Kv-AVKlLA', 'agency_V2AIQQKgmUO3VazvAOA-Cw',\n",
    "       'agency_jLjibFoim0iwWau4AWoEdQ', 'agency_pky7jovXYkaw-awAAMrQ3g',\n",
    "       'agency_zCy9zG00HEqGeKu4AWZYNQ', 'cause_BrokenVehicle',\n",
    "       'cause_COVID19', 'cause_Counterflow', 'cause_CycleRide',\n",
    "       'cause_Demonstration', 'cause_EmergencyServices', 'cause_Event',\n",
    "       'cause_Explosion', 'cause_FallenTree', 'cause_Fire', 'cause_Flood',\n",
    "       'cause_GasLeak', 'cause_HeavyTraffic', 'cause_Incident',\n",
    "       'cause_Landslide', 'cause_Leak', 'cause_Maintenance', 'cause_March',\n",
    "       'cause_Overturn', 'cause_Pilgrimage', 'cause_ProtestCamp', 'cause_Rain',\n",
    "       'cause_Reopening', 'cause_Sinkhole', 'cause_StreetWorks',\n",
    "       'cause_VehicularAccident', 'cause_Waterlogging',\n",
    "       'effect_CirculationRestored', 'effect_CirculationShutdown',\n",
    "       'effect_Delays', 'effect_Evacuation', 'effect_FullCapacity',\n",
    "       'effect_HighWaitingTime', 'effect_InterimService',\n",
    "       'effect_LaneReduction', 'effect_RouteDetour', 'effect_SecuritySpeed',\n",
    "       'effect_SuspensionOfService', 'effect_TrafficImpact']\n",
    "# export the decision tree to a tree.dot file \n",
    "#for visualizing the plot easily anywhere \n",
    "export_graphviz(basemodel, out_file ='tree_class.dot', \n",
    "               feature_names =features) "
   ],
   "metadata": {}
  },
  {
   "cell_type": "code",
   "execution_count": 19,
   "source": [
    "! dot -Tpng tree_class.dot > tree_class.png"
   ],
   "outputs": [],
   "metadata": {}
  },
  {
   "cell_type": "code",
   "execution_count": 20,
   "source": [
    "export_df.info()"
   ],
   "outputs": [
    {
     "output_type": "stream",
     "name": "stdout",
     "text": [
      "<class 'pandas.core.frame.DataFrame'>\n",
      "RangeIndex: 908723 entries, 0 to 908722\n",
      "Data columns (total 27 columns):\n",
      " #   Column                                Non-Null Count   Dtype         \n",
      "---  ------                                --------------   -----         \n",
      " 0   event_timestamp                       908723 non-null  datetime64[ns]\n",
      " 1   event_name                            908723 non-null  object        \n",
      " 2   user_id                               908723 non-null  object        \n",
      " 3   document_id                           908723 non-null  object        \n",
      " 4   surrogate_id                          908723 non-null  object        \n",
      " 5   created_at                            908723 non-null  datetime64[ns]\n",
      " 6   published_at                          908723 non-null  datetime64[ns]\n",
      " 7   closed_at                             908060 non-null  datetime64[ns]\n",
      " 8   cause                                 908723 non-null  object        \n",
      " 9   effect                                908723 non-null  object        \n",
      " 10  description                           908723 non-null  object        \n",
      " 11  area_of_effect_coordinates_latitude   584293 non-null  float64       \n",
      " 12  area_of_effect_coordinates_longitude  584293 non-null  float64       \n",
      " 13  agency_GewRJAw5tUmC4Ku4AX1-SQ         908723 non-null  float64       \n",
      " 14  agency_GtvOEQAFZ0GtU6u4AXwvPg         908723 non-null  float64       \n",
      " 15  agency_HE59N3RXM0q5vKu4AXlQZg         908723 non-null  float64       \n",
      " 16  agency_JUR9bFXmVkWDHqu4AXaY0g         908723 non-null  float64       \n",
      " 17  agency_JfA8Bw8Zp024Kqu4AXiSpQ         908723 non-null  float64       \n",
      " 18  agency_MgUq5b9mOEunx6u4AXt_BA         908723 non-null  float64       \n",
      " 19  agency_NuuRQ2I1Q0a50Kv-AVKlLA         908723 non-null  float64       \n",
      " 20  agency_V2AIQQKgmUO3VazvAOA-Cw         908723 non-null  float64       \n",
      " 21  agency_jLjibFoim0iwWau4AWoEdQ         908723 non-null  float64       \n",
      " 22  agency_pky7jovXYkaw-awAAMrQ3g         908723 non-null  float64       \n",
      " 23  agency_zCy9zG00HEqGeKu4AWZYNQ         908723 non-null  float64       \n",
      " 24  notif_viewed_ontime                   908723 non-null  int64         \n",
      " 25  reaction_time                         908060 non-null  float64       \n",
      " 26  opened                                908723 non-null  int64         \n",
      "dtypes: datetime64[ns](4), float64(14), int64(2), object(7)\n",
      "memory usage: 187.2+ MB\n"
     ]
    }
   ],
   "metadata": {}
  },
  {
   "cell_type": "code",
   "execution_count": 21,
   "source": [
    "export_df[\"area_of_effect_coordinates_latitude\"].isnull().value_counts()"
   ],
   "outputs": [
    {
     "output_type": "execute_result",
     "data": {
      "text/plain": [
       "False    584293\n",
       "True     324430\n",
       "Name: area_of_effect_coordinates_latitude, dtype: int64"
      ]
     },
     "metadata": {},
     "execution_count": 21
    }
   ],
   "metadata": {}
  },
  {
   "cell_type": "code",
   "execution_count": null,
   "source": [],
   "outputs": [],
   "metadata": {}
  }
 ]
}