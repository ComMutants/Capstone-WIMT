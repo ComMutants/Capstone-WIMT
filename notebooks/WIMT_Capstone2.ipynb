{
 "metadata": {
  "language_info": {
   "codemirror_mode": {
    "name": "ipython",
    "version": 3
   },
   "file_extension": ".py",
   "mimetype": "text/x-python",
   "name": "python",
   "nbconvert_exporter": "python",
   "pygments_lexer": "ipython3",
   "version": "3.8.5"
  },
  "orig_nbformat": 4,
  "kernelspec": {
   "name": "python3",
   "display_name": "Python 3.8.5 64-bit ('.venv': venv)"
  },
  "interpreter": {
   "hash": "625ce6474a05a4b666800a4ef0d977d00d0d81149e2d5d11cdcd26de80422014"
  }
 },
 "nbformat": 4,
 "nbformat_minor": 2,
 "cells": [
  {
   "cell_type": "code",
   "execution_count": 1,
   "metadata": {},
   "outputs": [],
   "source": [
    "import sys\n",
    "sys.path.append(\"..\")\n",
    "import pandas as pd\n",
    "import numpy as np\n",
    "import warnings\n",
    "import mlflow\n",
    "from modeling.config import TRACKING_URI, EXPERIMENT_NAME\n",
    "from pandas_profiling import ProfileReport\n"
   ]
  },
  {
   "source": [
    "# Read json files"
   ],
   "cell_type": "markdown",
   "metadata": {}
  },
  {
   "cell_type": "code",
   "execution_count": 2,
   "metadata": {},
   "outputs": [],
   "source": [
    "alert_df=pd.read_json(\"../data/alerts_cleaned.json\")"
   ]
  },
  {
   "cell_type": "code",
   "execution_count": 3,
   "metadata": {},
   "outputs": [],
   "source": [
    "corazon_df= pd.read_json(\"../data/notification-labels-to-alert-surrogate-ids.json\")"
   ]
  },
  {
   "cell_type": "code",
   "execution_count": 4,
   "metadata": {},
   "outputs": [],
   "source": [
    "notification_df=pd.read_json(\"../data/notifications.json\")"
   ]
  },
  {
   "source": [
    "# Data Frame Cleaning"
   ],
   "cell_type": "markdown",
   "metadata": {}
  },
  {
   "source": [
    "## Text managing "
   ],
   "cell_type": "markdown",
   "metadata": {}
  },
  {
   "cell_type": "code",
   "execution_count": 5,
   "metadata": {},
   "outputs": [
    {
     "output_type": "stream",
     "name": "stdout",
     "text": [
      "Collecting es-core-news-lg==3.1.0\n",
      "  Downloading https://github.com/explosion/spacy-models/releases/download/es_core_news_lg-3.1.0/es_core_news_lg-3.1.0-py3-none-any.whl (568.4 MB)\n",
      "\u001b[K     |████████████████████████████████| 568.4 MB 6.1 kB/s \n",
      "\u001b[?25hRequirement already satisfied: spacy<3.2.0,>=3.1.0 in /Users/chrisgilibert/neuefische/Capstone-WIMT/.venv/lib/python3.8/site-packages (from es-core-news-lg==3.1.0) (3.1.1)\n",
      "Requirement already satisfied: typer<0.4.0,>=0.3.0 in /Users/chrisgilibert/neuefische/Capstone-WIMT/.venv/lib/python3.8/site-packages (from spacy<3.2.0,>=3.1.0->es-core-news-lg==3.1.0) (0.3.2)\n",
      "Requirement already satisfied: blis<0.8.0,>=0.4.0 in /Users/chrisgilibert/neuefische/Capstone-WIMT/.venv/lib/python3.8/site-packages (from spacy<3.2.0,>=3.1.0->es-core-news-lg==3.1.0) (0.7.4)\n",
      "Requirement already satisfied: packaging>=20.0 in /Users/chrisgilibert/neuefische/Capstone-WIMT/.venv/lib/python3.8/site-packages (from spacy<3.2.0,>=3.1.0->es-core-news-lg==3.1.0) (21.0)\n",
      "Requirement already satisfied: wasabi<1.1.0,>=0.8.1 in /Users/chrisgilibert/neuefische/Capstone-WIMT/.venv/lib/python3.8/site-packages (from spacy<3.2.0,>=3.1.0->es-core-news-lg==3.1.0) (0.8.2)\n",
      "Requirement already satisfied: pydantic!=1.8,!=1.8.1,<1.9.0,>=1.7.4 in /Users/chrisgilibert/neuefische/Capstone-WIMT/.venv/lib/python3.8/site-packages (from spacy<3.2.0,>=3.1.0->es-core-news-lg==3.1.0) (1.8.2)\n",
      "Requirement already satisfied: numpy>=1.15.0 in /Users/chrisgilibert/neuefische/Capstone-WIMT/.venv/lib/python3.8/site-packages (from spacy<3.2.0,>=3.1.0->es-core-news-lg==3.1.0) (1.20.1)\n",
      "Requirement already satisfied: cymem<2.1.0,>=2.0.2 in /Users/chrisgilibert/neuefische/Capstone-WIMT/.venv/lib/python3.8/site-packages (from spacy<3.2.0,>=3.1.0->es-core-news-lg==3.1.0) (2.0.5)\n",
      "Requirement already satisfied: catalogue<2.1.0,>=2.0.4 in /Users/chrisgilibert/neuefische/Capstone-WIMT/.venv/lib/python3.8/site-packages (from spacy<3.2.0,>=3.1.0->es-core-news-lg==3.1.0) (2.0.4)\n",
      "Requirement already satisfied: requests<3.0.0,>=2.13.0 in /Users/chrisgilibert/neuefische/Capstone-WIMT/.venv/lib/python3.8/site-packages (from spacy<3.2.0,>=3.1.0->es-core-news-lg==3.1.0) (2.25.1)\n",
      "Requirement already satisfied: jinja2 in /Users/chrisgilibert/neuefische/Capstone-WIMT/.venv/lib/python3.8/site-packages (from spacy<3.2.0,>=3.1.0->es-core-news-lg==3.1.0) (3.0.1)\n",
      "Requirement already satisfied: murmurhash<1.1.0,>=0.28.0 in /Users/chrisgilibert/neuefische/Capstone-WIMT/.venv/lib/python3.8/site-packages (from spacy<3.2.0,>=3.1.0->es-core-news-lg==3.1.0) (1.0.5)\n",
      "Requirement already satisfied: preshed<3.1.0,>=3.0.2 in /Users/chrisgilibert/neuefische/Capstone-WIMT/.venv/lib/python3.8/site-packages (from spacy<3.2.0,>=3.1.0->es-core-news-lg==3.1.0) (3.0.5)\n",
      "Requirement already satisfied: tqdm<5.0.0,>=4.38.0 in /Users/chrisgilibert/neuefische/Capstone-WIMT/.venv/lib/python3.8/site-packages (from spacy<3.2.0,>=3.1.0->es-core-news-lg==3.1.0) (4.61.2)\n",
      "Requirement already satisfied: setuptools in /Users/chrisgilibert/neuefische/Capstone-WIMT/.venv/lib/python3.8/site-packages (from spacy<3.2.0,>=3.1.0->es-core-news-lg==3.1.0) (57.4.0)\n",
      "Requirement already satisfied: thinc<8.1.0,>=8.0.8 in /Users/chrisgilibert/neuefische/Capstone-WIMT/.venv/lib/python3.8/site-packages (from spacy<3.2.0,>=3.1.0->es-core-news-lg==3.1.0) (8.0.8)\n",
      "Requirement already satisfied: spacy-legacy<3.1.0,>=3.0.7 in /Users/chrisgilibert/neuefische/Capstone-WIMT/.venv/lib/python3.8/site-packages (from spacy<3.2.0,>=3.1.0->es-core-news-lg==3.1.0) (3.0.8)\n",
      "Requirement already satisfied: srsly<3.0.0,>=2.4.1 in /Users/chrisgilibert/neuefische/Capstone-WIMT/.venv/lib/python3.8/site-packages (from spacy<3.2.0,>=3.1.0->es-core-news-lg==3.1.0) (2.4.1)\n",
      "Requirement already satisfied: pathy>=0.3.5 in /Users/chrisgilibert/neuefische/Capstone-WIMT/.venv/lib/python3.8/site-packages (from spacy<3.2.0,>=3.1.0->es-core-news-lg==3.1.0) (0.6.0)\n",
      "Requirement already satisfied: pyparsing>=2.0.2 in /Users/chrisgilibert/neuefische/Capstone-WIMT/.venv/lib/python3.8/site-packages (from packaging>=20.0->spacy<3.2.0,>=3.1.0->es-core-news-lg==3.1.0) (2.4.7)\n",
      "Requirement already satisfied: smart-open<6.0.0,>=5.0.0 in /Users/chrisgilibert/neuefische/Capstone-WIMT/.venv/lib/python3.8/site-packages (from pathy>=0.3.5->spacy<3.2.0,>=3.1.0->es-core-news-lg==3.1.0) (5.1.0)\n",
      "Requirement already satisfied: typing-extensions>=3.7.4.3 in /Users/chrisgilibert/neuefische/Capstone-WIMT/.venv/lib/python3.8/site-packages (from pydantic!=1.8,!=1.8.1,<1.9.0,>=1.7.4->spacy<3.2.0,>=3.1.0->es-core-news-lg==3.1.0) (3.10.0.0)\n",
      "Requirement already satisfied: chardet<5,>=3.0.2 in /Users/chrisgilibert/neuefische/Capstone-WIMT/.venv/lib/python3.8/site-packages (from requests<3.0.0,>=2.13.0->spacy<3.2.0,>=3.1.0->es-core-news-lg==3.1.0) (4.0.0)\n",
      "Requirement already satisfied: idna<3,>=2.5 in /Users/chrisgilibert/neuefische/Capstone-WIMT/.venv/lib/python3.8/site-packages (from requests<3.0.0,>=2.13.0->spacy<3.2.0,>=3.1.0->es-core-news-lg==3.1.0) (2.10)\n",
      "Requirement already satisfied: certifi>=2017.4.17 in /Users/chrisgilibert/neuefische/Capstone-WIMT/.venv/lib/python3.8/site-packages (from requests<3.0.0,>=2.13.0->spacy<3.2.0,>=3.1.0->es-core-news-lg==3.1.0) (2021.5.30)\n",
      "Requirement already satisfied: urllib3<1.27,>=1.21.1 in /Users/chrisgilibert/neuefische/Capstone-WIMT/.venv/lib/python3.8/site-packages (from requests<3.0.0,>=2.13.0->spacy<3.2.0,>=3.1.0->es-core-news-lg==3.1.0) (1.26.6)\n",
      "Requirement already satisfied: click<7.2.0,>=7.1.1 in /Users/chrisgilibert/neuefische/Capstone-WIMT/.venv/lib/python3.8/site-packages (from typer<0.4.0,>=0.3.0->spacy<3.2.0,>=3.1.0->es-core-news-lg==3.1.0) (7.1.2)\n",
      "Requirement already satisfied: MarkupSafe>=2.0 in /Users/chrisgilibert/neuefische/Capstone-WIMT/.venv/lib/python3.8/site-packages (from jinja2->spacy<3.2.0,>=3.1.0->es-core-news-lg==3.1.0) (2.0.1)\n",
      "\u001b[38;5;2m✔ Download and installation successful\u001b[0m\n",
      "You can now load the package via spacy.load('es_core_news_lg')\n"
     ]
    }
   ],
   "source": [
    "#!pip install -U spacy\n",
    "#!pip install -U pip setuptools wheel\n",
    "#!python -m spacy download es_core_news_sm\n",
    "#!pip install spacymoji\n",
    "!python -m spacy download es_core_news_lg\n",
    "import spacy\n",
    "from spacymoji import Emoji\n",
    "import string\n",
    "import re\n",
    "import es_core_news_lg\n",
    "nlp = es_core_news_lg.load()"
   ]
  },
  {
   "cell_type": "code",
   "execution_count": 6,
   "metadata": {},
   "outputs": [],
   "source": [
    "import emoji\n",
    "def get_emoji(x):\n",
    "\n",
    "    doc = nlp(x)\n",
    "    l=[]\n",
    "    for i in doc:\n",
    "        i=i.orth_\n",
    "        if i in emoji.UNICODE_EMOJI : \n",
    "            l.append(i)\n",
    "    return l "
   ]
  },
  {
   "cell_type": "code",
   "execution_count": 7,
   "metadata": {},
   "outputs": [],
   "source": [
    "def rid_emoji(x,y):\n",
    "    doc = nlp(x)\n",
    "    l=[]\n",
    "    for i in doc:\n",
    "        i=i.orth_\n",
    "        if i in y:\n",
    "            pass\n",
    "        else: \n",
    "            l.append(i)\n",
    "    return ' '.join(l)"
   ]
  },
  {
   "cell_type": "code",
   "execution_count": 8,
   "metadata": {},
   "outputs": [],
   "source": [
    "def slang_sep(x):\n",
    "    if '?' in x:\n",
    "        if x.count(\"?\")>1:\n",
    "            x=re.compile(r'[?|!]').split(x,x.count('?'))\n",
    "            return [\"\".join(x[0]+ x[1]),x[2]]\n",
    "        else:return re.compile(r'[?|!]').split(x,1)\n",
    "    elif '!' in x:return re.compile(r'[?|!]').split(x,1) \n",
    "    else:  return ['',x]\n"
   ]
  },
  {
   "cell_type": "code",
   "execution_count": 9,
   "metadata": {},
   "outputs": [],
   "source": [
    "def label_text (x,y):\n",
    "    c=0\n",
    "    for token in  nlp(x):\n",
    "        if token.tag_== y: c=c+1\n",
    "        else: pass  \n",
    "    return c  "
   ]
  },
  {
   "cell_type": "code",
   "execution_count": 10,
   "metadata": {},
   "outputs": [],
   "source": [
    "def text_rev (x):\n",
    "    for token in  nlp(x):\n",
    "        print([token.text, token.lemma_, token.pos_, token.tag_, token.dep_,token.shape_,\n",
    "                 token.is_alpha, token.is_stop])"
   ]
  },
  {
   "cell_type": "code",
   "execution_count": 11,
   "metadata": {},
   "outputs": [],
   "source": [
    "def words_count (x):\n",
    "   return len(nlp(x))\n",
    "    "
   ]
  },
  {
   "cell_type": "code",
   "execution_count": 12,
   "metadata": {},
   "outputs": [],
   "source": [
    "alert_df['description']     = alert_df['description'].astype('string')\n",
    "alert_df['lenght']          = alert_df['description'].str.len()\n",
    "alert_df[\"emoji\"]           = alert_df[\"description\"].apply(lambda x: get_emoji(x))\n",
    "alert_df[\"emoji_size\"]      = alert_df[\"emoji\"].str.len()\n",
    "alert_df[\"txt_description\"] = alert_df.apply(lambda x: rid_emoji(x.description,x.emoji),axis=1)"
   ]
  },
  {
   "cell_type": "code",
   "execution_count": 13,
   "metadata": {
    "tags": []
   },
   "outputs": [],
   "source": [
    "alert_df[\"slang\"] = alert_df[\"txt_description\"].apply(lambda x: slang_sep(x))\n",
    "alert_df[['slang','information']] = pd.DataFrame(alert_df[\"slang\"].tolist(), index= alert_df.index)\n",
    "alert_df.drop([\"txt_description\"],axis=1, inplace= True)"
   ]
  },
  {
   "cell_type": "code",
   "execution_count": 14,
   "metadata": {},
   "outputs": [],
   "source": [
    "alert_df[\"slang_char\"] = alert_df[\"slang\"].str.len()\n",
    "alert_df[\"slang_verb\"] = alert_df[\"slang\"].apply(lambda x:  label_text (x,'VERB'  ))\n",
    "alert_df[\"slang_pron\"] = alert_df[\"slang\"].apply(lambda x:  label_text (x,'PROPN' ))\n",
    "alert_df[\"slang_adp\" ] = alert_df[\"slang\"].apply(lambda x:  label_text (x,'ADP'   ))\n",
    "alert_df[\"slang_noun\"] = alert_df[\"slang\"].apply(lambda x:  label_text (x,'NOUN'  ))\n",
    "alert_df[\"slang_num\" ] = alert_df[\"slang\"].apply(lambda x:  label_text (x,'NUM'   ))\n",
    "alert_df[\"slang_punt\"] = alert_df[\"slang\"].apply(lambda x:  label_text (x,'PUNCT' ))\n",
    "alert_df[\"slang_det\" ] = alert_df[\"slang\"].apply(lambda x:  label_text (x,'DET'   ))"
   ]
  },
  {
   "cell_type": "code",
   "execution_count": 15,
   "metadata": {},
   "outputs": [],
   "source": [
    "alert_df[\"info_char\" ]  = alert_df[\"information\"].str.len()\n",
    "alert_df[\"info_words\"]  = alert_df[\"information\"].apply(lambda x:  words_count (x))\n",
    "alert_df[\"info_verb\" ]  = alert_df[\"information\"].apply(lambda x:  label_text  (x,'VERB'  ))\n",
    "alert_df[\"info_pron\" ]  = alert_df[\"information\"].apply(lambda x:  label_text  (x,'PROPN' ))\n",
    "alert_df[\"info_adp\"  ]  = alert_df[\"information\"].apply(lambda x:  label_text  (x,'ADP'   ))\n",
    "alert_df[\"info_noun\" ]  = alert_df[\"information\"].apply(lambda x:  label_text  (x,'NOUN'  ))\n",
    "alert_df[\"info_num\"  ]  = alert_df[\"information\"].apply(lambda x:  label_text  (x,'NUM'   ))\n",
    "alert_df[\"info_punt\" ]  = alert_df[\"information\"].apply(lambda x:  label_text  (x,'PUNCT' ))\n",
    "alert_df[\"info_det\"  ]  = alert_df[\"information\"].apply(lambda x:  label_text  (x,'DET'   ))"
   ]
  },
  {
   "cell_type": "code",
   "execution_count": 17,
   "metadata": {},
   "outputs": [
    {
     "output_type": "execute_result",
     "data": {
      "text/plain": [
       "                document_id            surrogate_id          created_at  \\\n",
       "0      -MUH7_dRaJMkhnxY9bHs  0BBrcVJ26xGCgpvcY4zoVw 2021-02-24 03:43:22   \n",
       "1      -MUH7_dRaJMkhnxY9bHs  0BBrcVJ26xGCgpvcY4zoVw 2021-02-24 03:43:22   \n",
       "2      -MX9U6P85DXAwGIaDsgi  kIdXsXOS6xGH7OsWJh6kOw 2021-03-31 22:51:55   \n",
       "3      -MX9U6P85DXAwGIaDsgi  kIdXsXOS6xGH7OsWJh6kOw 2021-03-31 22:51:55   \n",
       "4      -MX9U6P85DXAwGIaDsgi  kIdXsXOS6xGH7OsWJh6kOw 2021-03-31 22:51:55   \n",
       "...                     ...                     ...                 ...   \n",
       "13537  -MZZdjyfbnztCccgqoa1  sEfkzvmp6xG9Us96D1NGhQ 2021-04-30 21:19:54   \n",
       "13538  -MZor-DYgDMER9B2NtGD  QHbP5XKs6xGbFYutnY_XdQ 2021-05-04 00:51:44   \n",
       "13539  -MWizRKZ_YIPcMWzaqMP  QNJvrEGO6xGgXg3PRUP4fg 2021-03-26 14:43:48   \n",
       "13540  -MS3yFJ5NoOacwMyGxSs  kO_VUshg6xGXlUHhke6ddw 2021-01-27 17:51:46   \n",
       "13541  -Md1ulS_9uAaVNQEkBLN  UBnDEqjV6xGNWi2nI8j1Cg 2021-06-25 11:25:41   \n",
       "\n",
       "             published_at           closed_at               cause  \\\n",
       "0     2021-02-24 03:58:39 2021-02-24 04:21:00                Fire   \n",
       "1     2021-02-24 03:58:39 2021-02-24 04:21:00                Fire   \n",
       "2     2021-03-31 22:54:19 2021-04-01 00:01:01                Fire   \n",
       "3     2021-03-31 22:54:19 2021-04-01 00:01:01                Fire   \n",
       "4     2021-03-31 22:54:19 2021-04-01 00:01:01                Fire   \n",
       "...                   ...                 ...                 ...   \n",
       "13537 2021-04-30 21:32:24 2021-04-30 22:14:00  BrokenTrafficLight   \n",
       "13538 2021-05-04 00:52:21 2021-05-04 01:45:01  BrokenTrafficLight   \n",
       "13539 2021-03-26 14:44:15 2021-03-26 16:01:01  BrokenTrafficLight   \n",
       "13540 2021-01-27 17:51:51 2021-01-27 19:01:00  BrokenTrafficLight   \n",
       "13541 2021-06-25 11:25:49 2021-06-25 12:01:01  BrokenTrafficLight   \n",
       "\n",
       "              effect                                        description  \\\n",
       "0             Delays  🔥 Considera retrasos por servicios de emergenc...   \n",
       "1             Delays  🔥 Considera retrasos por servicios de emergenc...   \n",
       "2      TrafficImpact  🔥 ¡Anticípate! Afectación vial por servicios d...   \n",
       "3      TrafficImpact  🔥 ¡Anticípate! Afectación vial por servicios d...   \n",
       "4      TrafficImpact  🔥 ¡Anticípate! Afectación vial por servicios d...   \n",
       "...              ...                                                ...   \n",
       "13537  TrafficImpact  🚦 ¡Oh que la! Afectación vial por semáforos de...   \n",
       "13538  TrafficImpact  🚦 ¡Nos lleva el chanfle! Afectación vial por s...   \n",
       "13539  TrafficImpact  ⏳ ¡No te esponjes! Hay retrasos por semáforos ...   \n",
       "13540         Delays  ⏳ ¡Chin! Hay retrasos por semáforos descompues...   \n",
       "13541         Delays  ⏳🚦 ¡Chin! Retrasos por semáforos descompuestos...   \n",
       "\n",
       "      is_global                  agency  ...  slang_det  info_char  \\\n",
       "0         false  GtvOEQAFZ0GtU6u4AXwvPg  ...          0        101   \n",
       "1         false  JfA8Bw8Zp024Kqu4AXiSpQ  ...          0        101   \n",
       "2         false  GtvOEQAFZ0GtU6u4AXwvPg  ...          0        114   \n",
       "3         false  NuuRQ2I1Q0a50Kv-AVKlLA  ...          0        114   \n",
       "4         false  zCy9zG00HEqGeKu4AWZYNQ  ...          0        114   \n",
       "...         ...                     ...  ...        ...        ...   \n",
       "13537     false  zCy9zG00HEqGeKu4AWZYNQ  ...          1        101   \n",
       "13538     false  zCy9zG00HEqGeKu4AWZYNQ  ...          1         98   \n",
       "13539     false  zCy9zG00HEqGeKu4AWZYNQ  ...          0        110   \n",
       "13540     false  zCy9zG00HEqGeKu4AWZYNQ  ...          0         82   \n",
       "13541     false  zCy9zG00HEqGeKu4AWZYNQ  ...          0         69   \n",
       "\n",
       "       info_words info_verb  info_pron info_adp info_noun  info_num  \\\n",
       "0              16         2          3        4         4         1   \n",
       "1              16         2          3        4         4         1   \n",
       "2              19         1          4        4         5         0   \n",
       "3              19         1          4        4         5         0   \n",
       "4              19         1          4        4         5         0   \n",
       "...           ...       ...        ...      ...       ...       ...   \n",
       "13537          17         0          6        4         3         0   \n",
       "13538          16         0          4        5         3         0   \n",
       "13539          21         0          4        5         5         0   \n",
       "13540          13         0          4        2         2         0   \n",
       "13541          13         0          4        2         2         1   \n",
       "\n",
       "       info_punt  info_det  \n",
       "0              1         0  \n",
       "1              1         0  \n",
       "2              1         1  \n",
       "3              1         1  \n",
       "4              1         1  \n",
       "...          ...       ...  \n",
       "13537          1         0  \n",
       "13538          1         0  \n",
       "13539          1         2  \n",
       "13540          1         0  \n",
       "13541          1         0  \n",
       "\n",
       "[13542 rows x 34 columns]"
      ],
      "text/html": "<div>\n<style scoped>\n    .dataframe tbody tr th:only-of-type {\n        vertical-align: middle;\n    }\n\n    .dataframe tbody tr th {\n        vertical-align: top;\n    }\n\n    .dataframe thead th {\n        text-align: right;\n    }\n</style>\n<table border=\"1\" class=\"dataframe\">\n  <thead>\n    <tr style=\"text-align: right;\">\n      <th></th>\n      <th>document_id</th>\n      <th>surrogate_id</th>\n      <th>created_at</th>\n      <th>published_at</th>\n      <th>closed_at</th>\n      <th>cause</th>\n      <th>effect</th>\n      <th>description</th>\n      <th>is_global</th>\n      <th>agency</th>\n      <th>...</th>\n      <th>slang_det</th>\n      <th>info_char</th>\n      <th>info_words</th>\n      <th>info_verb</th>\n      <th>info_pron</th>\n      <th>info_adp</th>\n      <th>info_noun</th>\n      <th>info_num</th>\n      <th>info_punt</th>\n      <th>info_det</th>\n    </tr>\n  </thead>\n  <tbody>\n    <tr>\n      <th>0</th>\n      <td>-MUH7_dRaJMkhnxY9bHs</td>\n      <td>0BBrcVJ26xGCgpvcY4zoVw</td>\n      <td>2021-02-24 03:43:22</td>\n      <td>2021-02-24 03:58:39</td>\n      <td>2021-02-24 04:21:00</td>\n      <td>Fire</td>\n      <td>Delays</td>\n      <td>🔥 Considera retrasos por servicios de emergenc...</td>\n      <td>false</td>\n      <td>GtvOEQAFZ0GtU6u4AXwvPg</td>\n      <td>...</td>\n      <td>0</td>\n      <td>101</td>\n      <td>16</td>\n      <td>2</td>\n      <td>3</td>\n      <td>4</td>\n      <td>4</td>\n      <td>1</td>\n      <td>1</td>\n      <td>0</td>\n    </tr>\n    <tr>\n      <th>1</th>\n      <td>-MUH7_dRaJMkhnxY9bHs</td>\n      <td>0BBrcVJ26xGCgpvcY4zoVw</td>\n      <td>2021-02-24 03:43:22</td>\n      <td>2021-02-24 03:58:39</td>\n      <td>2021-02-24 04:21:00</td>\n      <td>Fire</td>\n      <td>Delays</td>\n      <td>🔥 Considera retrasos por servicios de emergenc...</td>\n      <td>false</td>\n      <td>JfA8Bw8Zp024Kqu4AXiSpQ</td>\n      <td>...</td>\n      <td>0</td>\n      <td>101</td>\n      <td>16</td>\n      <td>2</td>\n      <td>3</td>\n      <td>4</td>\n      <td>4</td>\n      <td>1</td>\n      <td>1</td>\n      <td>0</td>\n    </tr>\n    <tr>\n      <th>2</th>\n      <td>-MX9U6P85DXAwGIaDsgi</td>\n      <td>kIdXsXOS6xGH7OsWJh6kOw</td>\n      <td>2021-03-31 22:51:55</td>\n      <td>2021-03-31 22:54:19</td>\n      <td>2021-04-01 00:01:01</td>\n      <td>Fire</td>\n      <td>TrafficImpact</td>\n      <td>🔥 ¡Anticípate! Afectación vial por servicios d...</td>\n      <td>false</td>\n      <td>GtvOEQAFZ0GtU6u4AXwvPg</td>\n      <td>...</td>\n      <td>0</td>\n      <td>114</td>\n      <td>19</td>\n      <td>1</td>\n      <td>4</td>\n      <td>4</td>\n      <td>5</td>\n      <td>0</td>\n      <td>1</td>\n      <td>1</td>\n    </tr>\n    <tr>\n      <th>3</th>\n      <td>-MX9U6P85DXAwGIaDsgi</td>\n      <td>kIdXsXOS6xGH7OsWJh6kOw</td>\n      <td>2021-03-31 22:51:55</td>\n      <td>2021-03-31 22:54:19</td>\n      <td>2021-04-01 00:01:01</td>\n      <td>Fire</td>\n      <td>TrafficImpact</td>\n      <td>🔥 ¡Anticípate! Afectación vial por servicios d...</td>\n      <td>false</td>\n      <td>NuuRQ2I1Q0a50Kv-AVKlLA</td>\n      <td>...</td>\n      <td>0</td>\n      <td>114</td>\n      <td>19</td>\n      <td>1</td>\n      <td>4</td>\n      <td>4</td>\n      <td>5</td>\n      <td>0</td>\n      <td>1</td>\n      <td>1</td>\n    </tr>\n    <tr>\n      <th>4</th>\n      <td>-MX9U6P85DXAwGIaDsgi</td>\n      <td>kIdXsXOS6xGH7OsWJh6kOw</td>\n      <td>2021-03-31 22:51:55</td>\n      <td>2021-03-31 22:54:19</td>\n      <td>2021-04-01 00:01:01</td>\n      <td>Fire</td>\n      <td>TrafficImpact</td>\n      <td>🔥 ¡Anticípate! Afectación vial por servicios d...</td>\n      <td>false</td>\n      <td>zCy9zG00HEqGeKu4AWZYNQ</td>\n      <td>...</td>\n      <td>0</td>\n      <td>114</td>\n      <td>19</td>\n      <td>1</td>\n      <td>4</td>\n      <td>4</td>\n      <td>5</td>\n      <td>0</td>\n      <td>1</td>\n      <td>1</td>\n    </tr>\n    <tr>\n      <th>...</th>\n      <td>...</td>\n      <td>...</td>\n      <td>...</td>\n      <td>...</td>\n      <td>...</td>\n      <td>...</td>\n      <td>...</td>\n      <td>...</td>\n      <td>...</td>\n      <td>...</td>\n      <td>...</td>\n      <td>...</td>\n      <td>...</td>\n      <td>...</td>\n      <td>...</td>\n      <td>...</td>\n      <td>...</td>\n      <td>...</td>\n      <td>...</td>\n      <td>...</td>\n      <td>...</td>\n    </tr>\n    <tr>\n      <th>13537</th>\n      <td>-MZZdjyfbnztCccgqoa1</td>\n      <td>sEfkzvmp6xG9Us96D1NGhQ</td>\n      <td>2021-04-30 21:19:54</td>\n      <td>2021-04-30 21:32:24</td>\n      <td>2021-04-30 22:14:00</td>\n      <td>BrokenTrafficLight</td>\n      <td>TrafficImpact</td>\n      <td>🚦 ¡Oh que la! Afectación vial por semáforos de...</td>\n      <td>false</td>\n      <td>zCy9zG00HEqGeKu4AWZYNQ</td>\n      <td>...</td>\n      <td>1</td>\n      <td>101</td>\n      <td>17</td>\n      <td>0</td>\n      <td>6</td>\n      <td>4</td>\n      <td>3</td>\n      <td>0</td>\n      <td>1</td>\n      <td>0</td>\n    </tr>\n    <tr>\n      <th>13538</th>\n      <td>-MZor-DYgDMER9B2NtGD</td>\n      <td>QHbP5XKs6xGbFYutnY_XdQ</td>\n      <td>2021-05-04 00:51:44</td>\n      <td>2021-05-04 00:52:21</td>\n      <td>2021-05-04 01:45:01</td>\n      <td>BrokenTrafficLight</td>\n      <td>TrafficImpact</td>\n      <td>🚦 ¡Nos lleva el chanfle! Afectación vial por s...</td>\n      <td>false</td>\n      <td>zCy9zG00HEqGeKu4AWZYNQ</td>\n      <td>...</td>\n      <td>1</td>\n      <td>98</td>\n      <td>16</td>\n      <td>0</td>\n      <td>4</td>\n      <td>5</td>\n      <td>3</td>\n      <td>0</td>\n      <td>1</td>\n      <td>0</td>\n    </tr>\n    <tr>\n      <th>13539</th>\n      <td>-MWizRKZ_YIPcMWzaqMP</td>\n      <td>QNJvrEGO6xGgXg3PRUP4fg</td>\n      <td>2021-03-26 14:43:48</td>\n      <td>2021-03-26 14:44:15</td>\n      <td>2021-03-26 16:01:01</td>\n      <td>BrokenTrafficLight</td>\n      <td>TrafficImpact</td>\n      <td>⏳ ¡No te esponjes! Hay retrasos por semáforos ...</td>\n      <td>false</td>\n      <td>zCy9zG00HEqGeKu4AWZYNQ</td>\n      <td>...</td>\n      <td>0</td>\n      <td>110</td>\n      <td>21</td>\n      <td>0</td>\n      <td>4</td>\n      <td>5</td>\n      <td>5</td>\n      <td>0</td>\n      <td>1</td>\n      <td>2</td>\n    </tr>\n    <tr>\n      <th>13540</th>\n      <td>-MS3yFJ5NoOacwMyGxSs</td>\n      <td>kO_VUshg6xGXlUHhke6ddw</td>\n      <td>2021-01-27 17:51:46</td>\n      <td>2021-01-27 17:51:51</td>\n      <td>2021-01-27 19:01:00</td>\n      <td>BrokenTrafficLight</td>\n      <td>Delays</td>\n      <td>⏳ ¡Chin! Hay retrasos por semáforos descompues...</td>\n      <td>false</td>\n      <td>zCy9zG00HEqGeKu4AWZYNQ</td>\n      <td>...</td>\n      <td>0</td>\n      <td>82</td>\n      <td>13</td>\n      <td>0</td>\n      <td>4</td>\n      <td>2</td>\n      <td>2</td>\n      <td>0</td>\n      <td>1</td>\n      <td>0</td>\n    </tr>\n    <tr>\n      <th>13541</th>\n      <td>-Md1ulS_9uAaVNQEkBLN</td>\n      <td>UBnDEqjV6xGNWi2nI8j1Cg</td>\n      <td>2021-06-25 11:25:41</td>\n      <td>2021-06-25 11:25:49</td>\n      <td>2021-06-25 12:01:01</td>\n      <td>BrokenTrafficLight</td>\n      <td>Delays</td>\n      <td>⏳🚦 ¡Chin! Retrasos por semáforos descompuestos...</td>\n      <td>false</td>\n      <td>zCy9zG00HEqGeKu4AWZYNQ</td>\n      <td>...</td>\n      <td>0</td>\n      <td>69</td>\n      <td>13</td>\n      <td>0</td>\n      <td>4</td>\n      <td>2</td>\n      <td>2</td>\n      <td>1</td>\n      <td>1</td>\n      <td>0</td>\n    </tr>\n  </tbody>\n</table>\n<p>13542 rows × 34 columns</p>\n</div>"
     },
     "metadata": {},
     "execution_count": 17
    }
   ],
   "source": [
    "alert_df"
   ]
  },
  {
   "source": [
    "## Sentiment analysis"
   ],
   "cell_type": "markdown",
   "metadata": {}
  },
  {
   "cell_type": "code",
   "execution_count": 28,
   "metadata": {},
   "outputs": [
    {
     "output_type": "stream",
     "name": "stdout",
     "text": [
      "Collecting transformers\n",
      "  Using cached transformers-4.9.0-py3-none-any.whl (2.6 MB)\n",
      "Requirement already satisfied: packaging in /Users/chrisgilibert/neuefische/Capstone-WIMT/.venv/lib/python3.8/site-packages (from transformers) (21.0)\n",
      "Requirement already satisfied: pyyaml>=5.1 in /Users/chrisgilibert/neuefische/Capstone-WIMT/.venv/lib/python3.8/site-packages (from transformers) (5.4.1)\n",
      "Requirement already satisfied: regex!=2019.12.17 in /Users/chrisgilibert/neuefische/Capstone-WIMT/.venv/lib/python3.8/site-packages (from transformers) (2021.7.6)\n",
      "Collecting tokenizers<0.11,>=0.10.1\n",
      "  Using cached tokenizers-0.10.3-cp38-cp38-macosx_10_11_x86_64.whl (2.2 MB)\n",
      "Requirement already satisfied: requests in /Users/chrisgilibert/neuefische/Capstone-WIMT/.venv/lib/python3.8/site-packages (from transformers) (2.25.1)\n",
      "Collecting filelock\n",
      "  Using cached filelock-3.0.12-py3-none-any.whl (7.6 kB)\n",
      "Requirement already satisfied: numpy>=1.17 in /Users/chrisgilibert/neuefische/Capstone-WIMT/.venv/lib/python3.8/site-packages (from transformers) (1.20.1)\n",
      "Requirement already satisfied: tqdm>=4.27 in /Users/chrisgilibert/neuefische/Capstone-WIMT/.venv/lib/python3.8/site-packages (from transformers) (4.61.2)\n",
      "Collecting huggingface-hub==0.0.12\n",
      "  Using cached huggingface_hub-0.0.12-py3-none-any.whl (37 kB)\n",
      "Collecting sacremoses\n",
      "  Using cached sacremoses-0.0.45-py3-none-any.whl (895 kB)\n",
      "Requirement already satisfied: typing-extensions in /Users/chrisgilibert/neuefische/Capstone-WIMT/.venv/lib/python3.8/site-packages (from huggingface-hub==0.0.12->transformers) (3.10.0.0)\n",
      "Requirement already satisfied: pyparsing>=2.0.2 in /Users/chrisgilibert/neuefische/Capstone-WIMT/.venv/lib/python3.8/site-packages (from packaging->transformers) (2.4.7)\n",
      "Requirement already satisfied: chardet<5,>=3.0.2 in /Users/chrisgilibert/neuefische/Capstone-WIMT/.venv/lib/python3.8/site-packages (from requests->transformers) (4.0.0)\n",
      "Requirement already satisfied: certifi>=2017.4.17 in /Users/chrisgilibert/neuefische/Capstone-WIMT/.venv/lib/python3.8/site-packages (from requests->transformers) (2021.5.30)\n",
      "Requirement already satisfied: idna<3,>=2.5 in /Users/chrisgilibert/neuefische/Capstone-WIMT/.venv/lib/python3.8/site-packages (from requests->transformers) (2.10)\n",
      "Requirement already satisfied: urllib3<1.27,>=1.21.1 in /Users/chrisgilibert/neuefische/Capstone-WIMT/.venv/lib/python3.8/site-packages (from requests->transformers) (1.26.6)\n",
      "Requirement already satisfied: click in /Users/chrisgilibert/neuefische/Capstone-WIMT/.venv/lib/python3.8/site-packages (from sacremoses->transformers) (7.1.2)\n",
      "Requirement already satisfied: joblib in /Users/chrisgilibert/neuefische/Capstone-WIMT/.venv/lib/python3.8/site-packages (from sacremoses->transformers) (1.0.1)\n",
      "Requirement already satisfied: six in /Users/chrisgilibert/neuefische/Capstone-WIMT/.venv/lib/python3.8/site-packages (from sacremoses->transformers) (1.16.0)\n",
      "Installing collected packages: filelock, tokenizers, sacremoses, huggingface-hub, transformers\n",
      "Successfully installed filelock-3.0.12 huggingface-hub-0.0.12 sacremoses-0.0.45 tokenizers-0.10.3 transformers-4.9.0\n"
     ]
    }
   ],
   "source": [
    "#!pip install transformers"
   ]
  },
  {
   "cell_type": "code",
   "execution_count": 30,
   "metadata": {},
   "outputs": [
    {
     "output_type": "stream",
     "name": "stdout",
     "text": [
      "Collecting torch\n",
      "  Downloading torch-1.9.0-cp38-none-macosx_10_9_x86_64.whl (127.9 MB)\n",
      "\u001b[K     |████████████████████████████████| 127.9 MB 3.5 MB/s \n",
      "\u001b[?25hCollecting torchvision\n",
      "  Downloading torchvision-0.10.0-cp38-cp38-macosx_10_9_x86_64.whl (13.9 MB)\n",
      "\u001b[K     |████████████████████████████████| 13.9 MB 1.0 MB/s \n",
      "\u001b[?25hCollecting torchaudio\n",
      "  Downloading torchaudio-0.9.0-cp38-cp38-macosx_10_9_x86_64.whl (1.5 MB)\n",
      "\u001b[K     |████████████████████████████████| 1.5 MB 3.8 MB/s \n",
      "\u001b[?25hRequirement already satisfied: typing-extensions in /Users/chrisgilibert/neuefische/Capstone-WIMT/.venv/lib/python3.8/site-packages (from torch) (3.10.0.0)\n",
      "Requirement already satisfied: numpy in /Users/chrisgilibert/neuefische/Capstone-WIMT/.venv/lib/python3.8/site-packages (from torchvision) (1.20.1)\n",
      "Requirement already satisfied: pillow>=5.3.0 in /Users/chrisgilibert/neuefische/Capstone-WIMT/.venv/lib/python3.8/site-packages (from torchvision) (8.3.1)\n",
      "Installing collected packages: torch, torchvision, torchaudio\n",
      "Successfully installed torch-1.9.0 torchaudio-0.9.0 torchvision-0.10.0\n"
     ]
    }
   ],
   "source": [
    "#!pip3 install torch torchvision torchaudio"
   ]
  },
  {
   "cell_type": "code",
   "execution_count": 14,
   "metadata": {},
   "outputs": [
    {
     "output_type": "stream",
     "name": "stderr",
     "text": [
      "Downloading: 100%|██████████| 439M/439M [02:17<00:00, 3.20MB/s]\n",
      "Downloading: 100%|██████████| 136/136 [00:00<00:00, 25.9kB/s]\n",
      "Downloading: 100%|██████████| 242k/242k [00:00<00:00, 1.20MB/s]\n",
      "Downloading: 100%|██████████| 112/112 [00:00<00:00, 10.8kB/s]\n"
     ]
    }
   ],
   "source": [
    "import transformers\n",
    "import torch\n",
    "from transformers import pipeline\n",
    "\n",
    "nlp_ner = pipeline(\n",
    "    \"ner\",\n",
    "    model=\"nlptown/bert-base-multilingual-uncased-sentiment\",\n",
    "    tokenizer=(\n",
    "        'mrm8488/bert-spanish-cased-finetuned-ner',  \n",
    "        {\"use_fast\": False}\n",
    "))\n",
    "#text = 'Mis amigos están pensando viajar a Londres este verano'\n",
    "\n",
    "#nlp_ner(text)"
   ]
  },
  {
   "cell_type": "code",
   "execution_count": 16,
   "metadata": {},
   "outputs": [
    {
     "output_type": "execute_result",
     "data": {
      "text/plain": [
       "'Considera retrasos por servicios de emergencia atendiendo incendio en Mesones y Av. 20 de Noviembre .'"
      ]
     },
     "metadata": {},
     "execution_count": 16
    }
   ],
   "source": [
    "alert_df[\"information\"][0]"
   ]
  },
  {
   "cell_type": "code",
   "execution_count": 15,
   "metadata": {},
   "outputs": [
    {
     "output_type": "stream",
     "name": "stderr",
     "text": [
      "Asking to truncate to max_length but no maximum length is provided and the model has no predefined maximum length. Default to no truncation.\n"
     ]
    },
    {
     "output_type": "execute_result",
     "data": {
      "text/plain": [
       "[{'entity': 'B-LOC',\n",
       "  'score': 0.999429,\n",
       "  'index': 10,\n",
       "  'word': 'Meso',\n",
       "  'start': None,\n",
       "  'end': None},\n",
       " {'entity': 'B-LOC',\n",
       "  'score': 0.99264264,\n",
       "  'index': 11,\n",
       "  'word': '##nes',\n",
       "  'start': None,\n",
       "  'end': None},\n",
       " {'entity': 'B-LOC',\n",
       "  'score': 0.99626726,\n",
       "  'index': 13,\n",
       "  'word': 'Av',\n",
       "  'start': None,\n",
       "  'end': None},\n",
       " {'entity': 'I-LOC',\n",
       "  'score': 0.99655366,\n",
       "  'index': 14,\n",
       "  'word': '.',\n",
       "  'start': None,\n",
       "  'end': None},\n",
       " {'entity': 'I-LOC',\n",
       "  'score': 0.99839115,\n",
       "  'index': 15,\n",
       "  'word': '20',\n",
       "  'start': None,\n",
       "  'end': None},\n",
       " {'entity': 'I-LOC',\n",
       "  'score': 0.99911416,\n",
       "  'index': 16,\n",
       "  'word': 'de',\n",
       "  'start': None,\n",
       "  'end': None},\n",
       " {'entity': 'I-LOC',\n",
       "  'score': 0.9988262,\n",
       "  'index': 17,\n",
       "  'word': 'Noviembre',\n",
       "  'start': None,\n",
       "  'end': None}]"
      ]
     },
     "metadata": {},
     "execution_count": 15
    }
   ],
   "source": [
    "nlp_ner(alert_df[\"information\"][0])"
   ]
  },
  {
   "cell_type": "code",
   "execution_count": 21,
   "metadata": {},
   "outputs": [
    {
     "output_type": "execute_result",
     "data": {
      "text/plain": [
       "                document_id            surrogate_id          created_at  \\\n",
       "13512  -MdZcijmD1TYPV79cFWv  IN2hL83a6xGRhiXG-lTJaQ 2021-07-02 00:33:56   \n",
       "13513  -McESSE8vMINToR_NWy1  kBsi_s3N6xGOzAnrpNUb0A 2021-06-15 11:36:58   \n",
       "13514  -McESSE8vMINToR_NWy1  kBsi_s3N6xGOzAnrpNUb0A 2021-06-15 11:36:58   \n",
       "13515  -MYR1vI2STFTeww4Dfvh  QGjGnOWe6xGAF0VdZdpUyw 2021-04-16 18:57:37   \n",
       "13516  -MYR1vI2STFTeww4Dfvh  QGjGnOWe6xGAF0VdZdpUyw 2021-04-16 18:57:37   \n",
       "13517  -M_cKywp7tHVqcdhMikg  UEZx_k206xGz_YW87SnlaA 2021-05-14 00:47:43   \n",
       "13518  -M_cKywp7tHVqcdhMikg  UEZx_k206xGz_YW87SnlaA 2021-05-14 00:47:43   \n",
       "13519  -MZrFImL2uzTg2cW3kIy  YOPPd9Cs6xGaMLdLw12PeA 2021-05-04 12:01:32   \n",
       "13520  -MZrFImL2uzTg2cW3kIy  YOPPd9Cs6xGaMLdLw12PeA 2021-05-04 12:01:32   \n",
       "13521  -MZVAWYjvUbZ4U7wVkcT  8DcvHEup6xGi5leOp8mbSA 2021-04-30 00:29:22   \n",
       "13522  -MZVAWYjvUbZ4U7wVkcT  8DcvHEup6xGi5leOp8mbSA 2021-04-30 00:29:22   \n",
       "13523  -MZ3O5Hmh_XZweRyLJrl  MNAepQ2l6xGIDJcj4HyPvw 2021-04-24 14:59:18   \n",
       "13524  -MZ3O5Hmh_XZweRyLJrl  MNAepQ2l6xGIDJcj4HyPvw 2021-04-24 14:59:18   \n",
       "13525  -MaEM7nxRyhF1wUHL7hb  0JrEIkK66xG2Azc5uek61g 2021-05-21 14:37:57   \n",
       "13526  -MaEM7nxRyhF1wUHL7hb  0JrEIkK66xG2Azc5uek61g 2021-05-21 14:37:57   \n",
       "13527  -MWFQW3yft6jICMNZ1In  4MUC35eJ6xGnG-e70C1dUw 2021-03-20 16:18:13   \n",
       "13528  -MWFQW3yft6jICMNZ1In  4MUC35eJ6xGnG-e70C1dUw 2021-03-20 16:18:13   \n",
       "13529  -M_wudYYixHXtrZCoEtK  MGN1n3G36xGwZF0GtElmvg 2021-05-18 00:40:19   \n",
       "13530  -M_wudYYixHXtrZCoEtK  MGN1n3G36xGwZF0GtElmvg 2021-05-18 00:40:19   \n",
       "13531  -MQIsWcH5HkstY3jXJ5e  IJ-bw4ZP6xG_R416ucCCcw 2021-01-05 18:49:39   \n",
       "13532  -MTn1fn6P9AFwqq5QcUz  gITv5pNx6xGXLvczM4gu7A 2021-02-18 02:49:21   \n",
       "13533  -MdySISY5hSJPgekQ7pR  MMtE1r3e6xGfRWWTA3_CCQ 2021-07-07 00:54:08   \n",
       "13534  -MYIEEVanL9mNnKDgg4z  YIwekY2d6xGT2CkHNCpH1Q 2021-04-15 01:54:51   \n",
       "13535  -MdHd1K5u-X4Z-UM5qMl  YD5xPw7Y6xGHstNtUMS8TQ 2021-06-28 12:42:07   \n",
       "13536  -MRB4ZPj8npXH1MtycNk  8FOqORpY6xGkjR-JS8slTg 2021-01-16 16:45:22   \n",
       "13537  -MZZdjyfbnztCccgqoa1  sEfkzvmp6xG9Us96D1NGhQ 2021-04-30 21:19:54   \n",
       "13538  -MZor-DYgDMER9B2NtGD  QHbP5XKs6xGbFYutnY_XdQ 2021-05-04 00:51:44   \n",
       "13539  -MWizRKZ_YIPcMWzaqMP  QNJvrEGO6xGgXg3PRUP4fg 2021-03-26 14:43:48   \n",
       "13540  -MS3yFJ5NoOacwMyGxSs  kO_VUshg6xGXlUHhke6ddw 2021-01-27 17:51:46   \n",
       "13541  -Md1ulS_9uAaVNQEkBLN  UBnDEqjV6xGNWi2nI8j1Cg 2021-06-25 11:25:41   \n",
       "\n",
       "             published_at           closed_at               cause  \\\n",
       "13512 2021-07-02 00:35:01 2021-07-02 01:44:01  BrokenTrafficLight   \n",
       "13513 2021-06-15 11:37:05 2021-06-15 12:32:01  BrokenTrafficLight   \n",
       "13514 2021-06-15 11:37:05 2021-06-15 12:32:01  BrokenTrafficLight   \n",
       "13515 2021-04-16 19:32:49 2021-04-16 20:01:02  BrokenTrafficLight   \n",
       "13516 2021-04-16 19:32:49 2021-04-16 20:01:02  BrokenTrafficLight   \n",
       "13517 2021-05-14 00:48:04 2021-05-14 01:45:00  BrokenTrafficLight   \n",
       "13518 2021-05-14 00:48:04 2021-05-14 01:45:00  BrokenTrafficLight   \n",
       "13519 2021-05-04 12:45:26 2021-05-04 12:55:00  BrokenTrafficLight   \n",
       "13520 2021-05-04 12:45:26 2021-05-04 12:55:00  BrokenTrafficLight   \n",
       "13521 2021-04-30 00:29:27 2021-04-30 01:26:00  BrokenTrafficLight   \n",
       "13522 2021-04-30 00:29:27 2021-04-30 01:26:00  BrokenTrafficLight   \n",
       "13523 2021-04-24 14:59:22 2021-04-24 15:52:01  BrokenTrafficLight   \n",
       "13524 2021-04-24 14:59:22 2021-04-24 15:52:01  BrokenTrafficLight   \n",
       "13525 2021-05-21 14:38:13 2021-05-21 14:51:00  BrokenTrafficLight   \n",
       "13526 2021-05-21 14:38:13 2021-05-21 14:51:00  BrokenTrafficLight   \n",
       "13527 2021-03-20 16:18:19 2021-03-20 17:03:01  BrokenTrafficLight   \n",
       "13528 2021-03-20 16:18:19 2021-03-20 17:03:01  BrokenTrafficLight   \n",
       "13529 2021-05-18 01:10:11 2021-05-18 01:37:00  BrokenTrafficLight   \n",
       "13530 2021-05-18 01:10:11 2021-05-18 01:37:00  BrokenTrafficLight   \n",
       "13531 2021-01-05 18:49:50 2021-01-05 19:31:00  BrokenTrafficLight   \n",
       "13532 2021-02-18 02:49:39 2021-02-18 03:31:00  BrokenTrafficLight   \n",
       "13533 2021-07-07 00:54:15 2021-07-07 02:00:01  BrokenTrafficLight   \n",
       "13534 2021-04-15 01:54:55 2021-04-15 03:51:00  BrokenTrafficLight   \n",
       "13535 2021-06-28 12:42:09 2021-06-28 13:19:00  BrokenTrafficLight   \n",
       "13536 2021-01-16 16:45:26 2021-01-16 17:29:00  BrokenTrafficLight   \n",
       "13537 2021-04-30 21:32:24 2021-04-30 22:14:00  BrokenTrafficLight   \n",
       "13538 2021-05-04 00:52:21 2021-05-04 01:45:01  BrokenTrafficLight   \n",
       "13539 2021-03-26 14:44:15 2021-03-26 16:01:01  BrokenTrafficLight   \n",
       "13540 2021-01-27 17:51:51 2021-01-27 19:01:00  BrokenTrafficLight   \n",
       "13541 2021-06-25 11:25:49 2021-06-25 12:01:01  BrokenTrafficLight   \n",
       "\n",
       "              effect                                        description  \\\n",
       "13512         Delays  🚦 ¡Chanclas! Retrasos por semáforos descompues...   \n",
       "13513  LaneReduction  ⏳🚦 ¡Úchalas! Retrasos por semáforos descompues...   \n",
       "13514  LaneReduction  ⏳🚦 ¡Úchalas! Retrasos por semáforos descompues...   \n",
       "13515         Delays  ⏳ ¡Ah caray! Hay retrasos por servicios de eme...   \n",
       "13516         Delays  ⏳ ¡Ah caray! Hay retrasos por servicios de eme...   \n",
       "13517  TrafficImpact  🚦 ¡Híjole! Afectación vial por semáforos desco...   \n",
       "13518  TrafficImpact  🚦 ¡Híjole! Afectación vial por semáforos desco...   \n",
       "13519  TrafficImpact  🚦 ¡Aguas! Afectación vial por semáforos descom...   \n",
       "13520  TrafficImpact  🚦 ¡Aguas! Afectación vial por semáforos descom...   \n",
       "13521  TrafficImpact  🚦 ¡Úchala! Afectación vial por semáforos apaga...   \n",
       "13522  TrafficImpact  🚦 ¡Úchala! Afectación vial por semáforos apaga...   \n",
       "13523  TrafficImpact  🚦 ¡Aguas! Afectación vial por semáforo descomp...   \n",
       "13524  TrafficImpact  🚦 ¡Aguas! Afectación vial por semáforo descomp...   \n",
       "13525         Delays  ⏳ ¡Híjole! Hay retrasos por accidente vehicula...   \n",
       "13526         Delays  ⏳ ¡Híjole! Hay retrasos por accidente vehicula...   \n",
       "13527  TrafficImpact  ✋ ¡Ponte truchas! Afectación vial por semáforo...   \n",
       "13528  TrafficImpact  ✋ ¡Ponte truchas! Afectación vial por semáforo...   \n",
       "13529         Delays  🚦 ¡Ora! Semáforos descompuestos en Margarita M...   \n",
       "13530         Delays  🚦 ¡Ora! Semáforos descompuestos en Margarita M...   \n",
       "13531         Delays  ⏳ ¡Ponte trucha! Hay retrasos por semáforos de...   \n",
       "13532  TrafficImpact  🔴 ¡Oh que la! Afectación vial por semáforos de...   \n",
       "13533         Delays  🚦 ¡Anticípate! Retrasos por semáforos descompu...   \n",
       "13534  TrafficImpact  ⚠️¡Chin! Afectación vial por semáforos descomp...   \n",
       "13535         Delays  ⏳🚦 ¡Oh que la! Retrasos por semáforos descompu...   \n",
       "13536  TrafficImpact  ⏳ ¡Oh no! Retrasos por semáforos descompuestos...   \n",
       "13537  TrafficImpact  🚦 ¡Oh que la! Afectación vial por semáforos de...   \n",
       "13538  TrafficImpact  🚦 ¡Nos lleva el chanfle! Afectación vial por s...   \n",
       "13539  TrafficImpact  ⏳ ¡No te esponjes! Hay retrasos por semáforos ...   \n",
       "13540         Delays  ⏳ ¡Chin! Hay retrasos por semáforos descompues...   \n",
       "13541         Delays  ⏳🚦 ¡Chin! Retrasos por semáforos descompuestos...   \n",
       "\n",
       "      is_global                  agency  area_of_effect_coordinates_latitude  \\\n",
       "13512     false  zCy9zG00HEqGeKu4AWZYNQ                           -99.190089   \n",
       "13513     false  GtvOEQAFZ0GtU6u4AXwvPg                           -99.100600   \n",
       "13514     false  zCy9zG00HEqGeKu4AWZYNQ                           -99.100600   \n",
       "13515     false  GtvOEQAFZ0GtU6u4AXwvPg                           -99.128356   \n",
       "13516     false  zCy9zG00HEqGeKu4AWZYNQ                           -99.128356   \n",
       "13517     false  GtvOEQAFZ0GtU6u4AXwvPg                           -99.280258   \n",
       "13518     false  zCy9zG00HEqGeKu4AWZYNQ                           -99.280258   \n",
       "13519     false  GtvOEQAFZ0GtU6u4AXwvPg                           -99.196489   \n",
       "13520     false  zCy9zG00HEqGeKu4AWZYNQ                           -99.196489   \n",
       "13521     false  GtvOEQAFZ0GtU6u4AXwvPg                           -99.077524   \n",
       "13522     false  zCy9zG00HEqGeKu4AWZYNQ                           -99.077524   \n",
       "13523     false  GtvOEQAFZ0GtU6u4AXwvPg                           -99.126138   \n",
       "13524     false  zCy9zG00HEqGeKu4AWZYNQ                           -99.126138   \n",
       "13525     false  GtvOEQAFZ0GtU6u4AXwvPg                           -99.097316   \n",
       "13526     false  zCy9zG00HEqGeKu4AWZYNQ                           -99.097316   \n",
       "13527     false  JfA8Bw8Zp024Kqu4AXiSpQ                           -99.148653   \n",
       "13528     false  zCy9zG00HEqGeKu4AWZYNQ                           -99.148653   \n",
       "13529     false  JfA8Bw8Zp024Kqu4AXiSpQ                           -99.156907   \n",
       "13530     false  zCy9zG00HEqGeKu4AWZYNQ                           -99.156907   \n",
       "13531     false  NuuRQ2I1Q0a50Kv-AVKlLA                           -99.142562   \n",
       "13532     false  zCy9zG00HEqGeKu4AWZYNQ                           -99.131474   \n",
       "13533     false  zCy9zG00HEqGeKu4AWZYNQ                           -99.135616   \n",
       "13534     false  zCy9zG00HEqGeKu4AWZYNQ                           -99.206119   \n",
       "13535     false  zCy9zG00HEqGeKu4AWZYNQ                           -99.111102   \n",
       "13536     false  zCy9zG00HEqGeKu4AWZYNQ                           -99.192060   \n",
       "13537     false  zCy9zG00HEqGeKu4AWZYNQ                           -99.153582   \n",
       "13538     false  zCy9zG00HEqGeKu4AWZYNQ                           -99.113648   \n",
       "13539     false  zCy9zG00HEqGeKu4AWZYNQ                           -98.962042   \n",
       "13540     false  zCy9zG00HEqGeKu4AWZYNQ                           -99.177866   \n",
       "13541     false  zCy9zG00HEqGeKu4AWZYNQ                           -99.155506   \n",
       "\n",
       "       area_of_effect_coordinates_longitude  lenght   emoji  emoji_size  \\\n",
       "13512                             19.346380      84     [🚦]           1   \n",
       "13513                             19.385777     107  [⏳, 🚦]           2   \n",
       "13514                             19.385777     107  [⏳, 🚦]           2   \n",
       "13515                             19.459590     137     [⏳]           1   \n",
       "13516                             19.459590     137     [⏳]           1   \n",
       "13517                             19.360887      98     [🚦]           1   \n",
       "13518                             19.360887      98     [🚦]           1   \n",
       "13519                             19.511512     111     [🚦]           1   \n",
       "13520                             19.511512     111     [🚦]           1   \n",
       "13521                             19.378870     102     [🚦]           1   \n",
       "13522                             19.378870     102     [🚦]           1   \n",
       "13523                             19.420118     120     [🚦]           1   \n",
       "13524                             19.420118     120     [🚦]           1   \n",
       "13525                             19.416788      84     [⏳]           1   \n",
       "13526                             19.416788      84     [⏳]           1   \n",
       "13527                             19.457310     112     [✋]           1   \n",
       "13528                             19.457310     112     [✋]           1   \n",
       "13529                             19.506632      89     [🚦]           1   \n",
       "13530                             19.506632      89     [🚦]           1   \n",
       "13531                             19.424903     113     [⏳]           1   \n",
       "13532                             19.306913     100     [🔴]           1   \n",
       "13533                             19.377352     119     [🚦]           1   \n",
       "13534                             19.447829     131     [⚠]           1   \n",
       "13535                             19.311540     107  [⏳, 🚦]           2   \n",
       "13536                             19.438227     101     [⏳]           1   \n",
       "13537                             19.378498     113     [🚦]           1   \n",
       "13538                             19.300805     121     [🚦]           1   \n",
       "13539                             19.352388     127     [⏳]           1   \n",
       "13540                             19.405867      90     [⏳]           1   \n",
       "13541                             19.406903      77  [⏳, 🚦]           2   \n",
       "\n",
       "                                         txt_description  \\\n",
       "13512  ¡ Chanclas ! Retrasos por semáforos descompues...   \n",
       "13513  ¡ Úchalas ! Retrasos por semáforos descompuest...   \n",
       "13514  ¡ Úchalas ! Retrasos por semáforos descompuest...   \n",
       "13515  ¡ Ah caray ! Hay retrasos por servicios de eme...   \n",
       "13516  ¡ Ah caray ! Hay retrasos por servicios de eme...   \n",
       "13517  ¡ Híjole ! Afectación vial por semáforos desco...   \n",
       "13518  ¡ Híjole ! Afectación vial por semáforos desco...   \n",
       "13519  ¡ Aguas ! Afectación vial por semáforos descom...   \n",
       "13520  ¡ Aguas ! Afectación vial por semáforos descom...   \n",
       "13521  ¡ Úchala ! Afectación vial por semáforos apaga...   \n",
       "13522  ¡ Úchala ! Afectación vial por semáforos apaga...   \n",
       "13523  ¡ Aguas ! Afectación vial por semáforo descomp...   \n",
       "13524  ¡ Aguas ! Afectación vial por semáforo descomp...   \n",
       "13525  ¡ Híjole ! Hay retrasos por accidente vehicula...   \n",
       "13526  ¡ Híjole ! Hay retrasos por accidente vehicula...   \n",
       "13527  ¡ Ponte truchas ! Afectación vial por semáforo...   \n",
       "13528  ¡ Ponte truchas ! Afectación vial por semáforo...   \n",
       "13529  ¡ Ora ! Semáforos descompuestos en Margarita M...   \n",
       "13530  ¡ Ora ! Semáforos descompuestos en Margarita M...   \n",
       "13531  ¡ Ponte trucha ! Hay retrasos por semáforos de...   \n",
       "13532  ¡ Oh que la ! Afectación vial por semáforos de...   \n",
       "13533  ¡ Anticípate ! Retrasos por semáforos descompu...   \n",
       "13534  ️¡Chin ! Afectación vial por semáforos descomp...   \n",
       "13535  ¡ Oh que la ! Retrasos por semáforos descompue...   \n",
       "13536  ¡ Oh no ! Retrasos por semáforos descompuestos...   \n",
       "13537  ¡ Oh que la ! Afectación vial por semáforos de...   \n",
       "13538  ¡ Nos lleva el chanfle ! Afectación vial por s...   \n",
       "13539  ¡ No te esponjes ! Hay retrasos por semáforos ...   \n",
       "13540  ¡ Chin ! Hay retrasos por semáforos descompues...   \n",
       "13541  ¡ Chin ! Retrasos por semáforos descompuestos ...   \n",
       "\n",
       "                         slang  slang_size  \\\n",
       "13512              ¡ Chanclas            2   \n",
       "13513               ¡ Úchalas            2   \n",
       "13514               ¡ Úchalas            2   \n",
       "13515              ¡ Ah caray            2   \n",
       "13516              ¡ Ah caray            2   \n",
       "13517                ¡ Híjole            2   \n",
       "13518                ¡ Híjole            2   \n",
       "13519                 ¡ Aguas            2   \n",
       "13520                 ¡ Aguas            2   \n",
       "13521                ¡ Úchala            2   \n",
       "13522                ¡ Úchala            2   \n",
       "13523                 ¡ Aguas            2   \n",
       "13524                 ¡ Aguas            2   \n",
       "13525                ¡ Híjole            2   \n",
       "13526                ¡ Híjole            2   \n",
       "13527         ¡ Ponte truchas            2   \n",
       "13528         ¡ Ponte truchas            2   \n",
       "13529                   ¡ Ora            2   \n",
       "13530                   ¡ Ora            2   \n",
       "13531          ¡ Ponte trucha            2   \n",
       "13532             ¡ Oh que la            2   \n",
       "13533            ¡ Anticípate            2   \n",
       "13534                  ️¡Chin            2   \n",
       "13535             ¡ Oh que la            2   \n",
       "13536                 ¡ Oh no            2   \n",
       "13537             ¡ Oh que la            2   \n",
       "13538  ¡ Nos lleva el chanfle            2   \n",
       "13539        ¡ No te esponjes            2   \n",
       "13540                  ¡ Chin            2   \n",
       "13541                  ¡ Chin            2   \n",
       "\n",
       "                                             information  information_size  \n",
       "13512   Retrasos por semáforos descompuestos en Av. d...                73  \n",
       "13513   Retrasos por semáforos descompuestos en Canal...                96  \n",
       "13514   Retrasos por semáforos descompuestos en Canal...                96  \n",
       "13515   Hay retrasos por servicios de emergencia en C...               128  \n",
       "13516   Hay retrasos por servicios de emergencia en C...               128  \n",
       "13517   Afectación vial por semáforos descompuestos e...                88  \n",
       "13518   Afectación vial por semáforos descompuestos e...                88  \n",
       "13519   Afectación vial por semáforos descompuestos e...               104  \n",
       "13520   Afectación vial por semáforos descompuestos e...               104  \n",
       "13521   Afectación vial por semáforos apagados en Eje...                93  \n",
       "13522   Afectación vial por semáforos apagados en Eje...                93  \n",
       "13523   Afectación vial por semáforo descompuesto en ...               114  \n",
       "13524   Afectación vial por semáforo descompuesto en ...               114  \n",
       "13525   Hay retrasos por accidente vehicular en Aveni...                76  \n",
       "13526   Hay retrasos por accidente vehicular en Aveni...                76  \n",
       "13527   Afectación vial por semáforos descompuestos e...                96  \n",
       "13528   Afectación vial por semáforos descompuestos e...                96  \n",
       "13529   Semáforos descompuestos en Margarita Maza de ...                83  \n",
       "13530   Semáforos descompuestos en Margarita Maza de ...                83  \n",
       "13531   Hay retrasos por semáforos descompuestos sobr...                98  \n",
       "13532   Afectación vial por semáforos descompuestos e...                88  \n",
       "13533   Retrasos por semáforos descompuestos en Eje 6...               106  \n",
       "13534   Afectación vial por semáforos descompuestos e...               125  \n",
       "13535   Retrasos por semáforos descompuestos en Armad...                94  \n",
       "13536   Retrasos por semáforos descompuestos en el cr...                93  \n",
       "13537   Afectación vial por semáforos descompuestos e...               101  \n",
       "13538   Afectación vial por semáforos descompuestos e...                98  \n",
       "13539   Hay retrasos por semáforos descompuestos a la...               110  \n",
       "13540   Hay retrasos por semáforos descompuestos en B...                82  \n",
       "13541   Retrasos por semáforos descompuestos en Av. C...                69  "
      ],
      "text/html": "<div>\n<style scoped>\n    .dataframe tbody tr th:only-of-type {\n        vertical-align: middle;\n    }\n\n    .dataframe tbody tr th {\n        vertical-align: top;\n    }\n\n    .dataframe thead th {\n        text-align: right;\n    }\n</style>\n<table border=\"1\" class=\"dataframe\">\n  <thead>\n    <tr style=\"text-align: right;\">\n      <th></th>\n      <th>document_id</th>\n      <th>surrogate_id</th>\n      <th>created_at</th>\n      <th>published_at</th>\n      <th>closed_at</th>\n      <th>cause</th>\n      <th>effect</th>\n      <th>description</th>\n      <th>is_global</th>\n      <th>agency</th>\n      <th>area_of_effect_coordinates_latitude</th>\n      <th>area_of_effect_coordinates_longitude</th>\n      <th>lenght</th>\n      <th>emoji</th>\n      <th>emoji_size</th>\n      <th>txt_description</th>\n      <th>slang</th>\n      <th>slang_size</th>\n      <th>information</th>\n      <th>information_size</th>\n    </tr>\n  </thead>\n  <tbody>\n    <tr>\n      <th>13512</th>\n      <td>-MdZcijmD1TYPV79cFWv</td>\n      <td>IN2hL83a6xGRhiXG-lTJaQ</td>\n      <td>2021-07-02 00:33:56</td>\n      <td>2021-07-02 00:35:01</td>\n      <td>2021-07-02 01:44:01</td>\n      <td>BrokenTrafficLight</td>\n      <td>Delays</td>\n      <td>🚦 ¡Chanclas! Retrasos por semáforos descompues...</td>\n      <td>false</td>\n      <td>zCy9zG00HEqGeKu4AWZYNQ</td>\n      <td>-99.190089</td>\n      <td>19.346380</td>\n      <td>84</td>\n      <td>[🚦]</td>\n      <td>1</td>\n      <td>¡ Chanclas ! Retrasos por semáforos descompues...</td>\n      <td>¡ Chanclas</td>\n      <td>2</td>\n      <td>Retrasos por semáforos descompuestos en Av. d...</td>\n      <td>73</td>\n    </tr>\n    <tr>\n      <th>13513</th>\n      <td>-McESSE8vMINToR_NWy1</td>\n      <td>kBsi_s3N6xGOzAnrpNUb0A</td>\n      <td>2021-06-15 11:36:58</td>\n      <td>2021-06-15 11:37:05</td>\n      <td>2021-06-15 12:32:01</td>\n      <td>BrokenTrafficLight</td>\n      <td>LaneReduction</td>\n      <td>⏳🚦 ¡Úchalas! Retrasos por semáforos descompues...</td>\n      <td>false</td>\n      <td>GtvOEQAFZ0GtU6u4AXwvPg</td>\n      <td>-99.100600</td>\n      <td>19.385777</td>\n      <td>107</td>\n      <td>[⏳, 🚦]</td>\n      <td>2</td>\n      <td>¡ Úchalas ! Retrasos por semáforos descompuest...</td>\n      <td>¡ Úchalas</td>\n      <td>2</td>\n      <td>Retrasos por semáforos descompuestos en Canal...</td>\n      <td>96</td>\n    </tr>\n    <tr>\n      <th>13514</th>\n      <td>-McESSE8vMINToR_NWy1</td>\n      <td>kBsi_s3N6xGOzAnrpNUb0A</td>\n      <td>2021-06-15 11:36:58</td>\n      <td>2021-06-15 11:37:05</td>\n      <td>2021-06-15 12:32:01</td>\n      <td>BrokenTrafficLight</td>\n      <td>LaneReduction</td>\n      <td>⏳🚦 ¡Úchalas! Retrasos por semáforos descompues...</td>\n      <td>false</td>\n      <td>zCy9zG00HEqGeKu4AWZYNQ</td>\n      <td>-99.100600</td>\n      <td>19.385777</td>\n      <td>107</td>\n      <td>[⏳, 🚦]</td>\n      <td>2</td>\n      <td>¡ Úchalas ! Retrasos por semáforos descompuest...</td>\n      <td>¡ Úchalas</td>\n      <td>2</td>\n      <td>Retrasos por semáforos descompuestos en Canal...</td>\n      <td>96</td>\n    </tr>\n    <tr>\n      <th>13515</th>\n      <td>-MYR1vI2STFTeww4Dfvh</td>\n      <td>QGjGnOWe6xGAF0VdZdpUyw</td>\n      <td>2021-04-16 18:57:37</td>\n      <td>2021-04-16 19:32:49</td>\n      <td>2021-04-16 20:01:02</td>\n      <td>BrokenTrafficLight</td>\n      <td>Delays</td>\n      <td>⏳ ¡Ah caray! Hay retrasos por servicios de eme...</td>\n      <td>false</td>\n      <td>GtvOEQAFZ0GtU6u4AXwvPg</td>\n      <td>-99.128356</td>\n      <td>19.459590</td>\n      <td>137</td>\n      <td>[⏳]</td>\n      <td>1</td>\n      <td>¡ Ah caray ! Hay retrasos por servicios de eme...</td>\n      <td>¡ Ah caray</td>\n      <td>2</td>\n      <td>Hay retrasos por servicios de emergencia en C...</td>\n      <td>128</td>\n    </tr>\n    <tr>\n      <th>13516</th>\n      <td>-MYR1vI2STFTeww4Dfvh</td>\n      <td>QGjGnOWe6xGAF0VdZdpUyw</td>\n      <td>2021-04-16 18:57:37</td>\n      <td>2021-04-16 19:32:49</td>\n      <td>2021-04-16 20:01:02</td>\n      <td>BrokenTrafficLight</td>\n      <td>Delays</td>\n      <td>⏳ ¡Ah caray! Hay retrasos por servicios de eme...</td>\n      <td>false</td>\n      <td>zCy9zG00HEqGeKu4AWZYNQ</td>\n      <td>-99.128356</td>\n      <td>19.459590</td>\n      <td>137</td>\n      <td>[⏳]</td>\n      <td>1</td>\n      <td>¡ Ah caray ! Hay retrasos por servicios de eme...</td>\n      <td>¡ Ah caray</td>\n      <td>2</td>\n      <td>Hay retrasos por servicios de emergencia en C...</td>\n      <td>128</td>\n    </tr>\n    <tr>\n      <th>13517</th>\n      <td>-M_cKywp7tHVqcdhMikg</td>\n      <td>UEZx_k206xGz_YW87SnlaA</td>\n      <td>2021-05-14 00:47:43</td>\n      <td>2021-05-14 00:48:04</td>\n      <td>2021-05-14 01:45:00</td>\n      <td>BrokenTrafficLight</td>\n      <td>TrafficImpact</td>\n      <td>🚦 ¡Híjole! Afectación vial por semáforos desco...</td>\n      <td>false</td>\n      <td>GtvOEQAFZ0GtU6u4AXwvPg</td>\n      <td>-99.280258</td>\n      <td>19.360887</td>\n      <td>98</td>\n      <td>[🚦]</td>\n      <td>1</td>\n      <td>¡ Híjole ! Afectación vial por semáforos desco...</td>\n      <td>¡ Híjole</td>\n      <td>2</td>\n      <td>Afectación vial por semáforos descompuestos e...</td>\n      <td>88</td>\n    </tr>\n    <tr>\n      <th>13518</th>\n      <td>-M_cKywp7tHVqcdhMikg</td>\n      <td>UEZx_k206xGz_YW87SnlaA</td>\n      <td>2021-05-14 00:47:43</td>\n      <td>2021-05-14 00:48:04</td>\n      <td>2021-05-14 01:45:00</td>\n      <td>BrokenTrafficLight</td>\n      <td>TrafficImpact</td>\n      <td>🚦 ¡Híjole! Afectación vial por semáforos desco...</td>\n      <td>false</td>\n      <td>zCy9zG00HEqGeKu4AWZYNQ</td>\n      <td>-99.280258</td>\n      <td>19.360887</td>\n      <td>98</td>\n      <td>[🚦]</td>\n      <td>1</td>\n      <td>¡ Híjole ! Afectación vial por semáforos desco...</td>\n      <td>¡ Híjole</td>\n      <td>2</td>\n      <td>Afectación vial por semáforos descompuestos e...</td>\n      <td>88</td>\n    </tr>\n    <tr>\n      <th>13519</th>\n      <td>-MZrFImL2uzTg2cW3kIy</td>\n      <td>YOPPd9Cs6xGaMLdLw12PeA</td>\n      <td>2021-05-04 12:01:32</td>\n      <td>2021-05-04 12:45:26</td>\n      <td>2021-05-04 12:55:00</td>\n      <td>BrokenTrafficLight</td>\n      <td>TrafficImpact</td>\n      <td>🚦 ¡Aguas! Afectación vial por semáforos descom...</td>\n      <td>false</td>\n      <td>GtvOEQAFZ0GtU6u4AXwvPg</td>\n      <td>-99.196489</td>\n      <td>19.511512</td>\n      <td>111</td>\n      <td>[🚦]</td>\n      <td>1</td>\n      <td>¡ Aguas ! Afectación vial por semáforos descom...</td>\n      <td>¡ Aguas</td>\n      <td>2</td>\n      <td>Afectación vial por semáforos descompuestos e...</td>\n      <td>104</td>\n    </tr>\n    <tr>\n      <th>13520</th>\n      <td>-MZrFImL2uzTg2cW3kIy</td>\n      <td>YOPPd9Cs6xGaMLdLw12PeA</td>\n      <td>2021-05-04 12:01:32</td>\n      <td>2021-05-04 12:45:26</td>\n      <td>2021-05-04 12:55:00</td>\n      <td>BrokenTrafficLight</td>\n      <td>TrafficImpact</td>\n      <td>🚦 ¡Aguas! Afectación vial por semáforos descom...</td>\n      <td>false</td>\n      <td>zCy9zG00HEqGeKu4AWZYNQ</td>\n      <td>-99.196489</td>\n      <td>19.511512</td>\n      <td>111</td>\n      <td>[🚦]</td>\n      <td>1</td>\n      <td>¡ Aguas ! Afectación vial por semáforos descom...</td>\n      <td>¡ Aguas</td>\n      <td>2</td>\n      <td>Afectación vial por semáforos descompuestos e...</td>\n      <td>104</td>\n    </tr>\n    <tr>\n      <th>13521</th>\n      <td>-MZVAWYjvUbZ4U7wVkcT</td>\n      <td>8DcvHEup6xGi5leOp8mbSA</td>\n      <td>2021-04-30 00:29:22</td>\n      <td>2021-04-30 00:29:27</td>\n      <td>2021-04-30 01:26:00</td>\n      <td>BrokenTrafficLight</td>\n      <td>TrafficImpact</td>\n      <td>🚦 ¡Úchala! Afectación vial por semáforos apaga...</td>\n      <td>false</td>\n      <td>GtvOEQAFZ0GtU6u4AXwvPg</td>\n      <td>-99.077524</td>\n      <td>19.378870</td>\n      <td>102</td>\n      <td>[🚦]</td>\n      <td>1</td>\n      <td>¡ Úchala ! Afectación vial por semáforos apaga...</td>\n      <td>¡ Úchala</td>\n      <td>2</td>\n      <td>Afectación vial por semáforos apagados en Eje...</td>\n      <td>93</td>\n    </tr>\n    <tr>\n      <th>13522</th>\n      <td>-MZVAWYjvUbZ4U7wVkcT</td>\n      <td>8DcvHEup6xGi5leOp8mbSA</td>\n      <td>2021-04-30 00:29:22</td>\n      <td>2021-04-30 00:29:27</td>\n      <td>2021-04-30 01:26:00</td>\n      <td>BrokenTrafficLight</td>\n      <td>TrafficImpact</td>\n      <td>🚦 ¡Úchala! Afectación vial por semáforos apaga...</td>\n      <td>false</td>\n      <td>zCy9zG00HEqGeKu4AWZYNQ</td>\n      <td>-99.077524</td>\n      <td>19.378870</td>\n      <td>102</td>\n      <td>[🚦]</td>\n      <td>1</td>\n      <td>¡ Úchala ! Afectación vial por semáforos apaga...</td>\n      <td>¡ Úchala</td>\n      <td>2</td>\n      <td>Afectación vial por semáforos apagados en Eje...</td>\n      <td>93</td>\n    </tr>\n    <tr>\n      <th>13523</th>\n      <td>-MZ3O5Hmh_XZweRyLJrl</td>\n      <td>MNAepQ2l6xGIDJcj4HyPvw</td>\n      <td>2021-04-24 14:59:18</td>\n      <td>2021-04-24 14:59:22</td>\n      <td>2021-04-24 15:52:01</td>\n      <td>BrokenTrafficLight</td>\n      <td>TrafficImpact</td>\n      <td>🚦 ¡Aguas! Afectación vial por semáforo descomp...</td>\n      <td>false</td>\n      <td>GtvOEQAFZ0GtU6u4AXwvPg</td>\n      <td>-99.126138</td>\n      <td>19.420118</td>\n      <td>120</td>\n      <td>[🚦]</td>\n      <td>1</td>\n      <td>¡ Aguas ! Afectación vial por semáforo descomp...</td>\n      <td>¡ Aguas</td>\n      <td>2</td>\n      <td>Afectación vial por semáforo descompuesto en ...</td>\n      <td>114</td>\n    </tr>\n    <tr>\n      <th>13524</th>\n      <td>-MZ3O5Hmh_XZweRyLJrl</td>\n      <td>MNAepQ2l6xGIDJcj4HyPvw</td>\n      <td>2021-04-24 14:59:18</td>\n      <td>2021-04-24 14:59:22</td>\n      <td>2021-04-24 15:52:01</td>\n      <td>BrokenTrafficLight</td>\n      <td>TrafficImpact</td>\n      <td>🚦 ¡Aguas! Afectación vial por semáforo descomp...</td>\n      <td>false</td>\n      <td>zCy9zG00HEqGeKu4AWZYNQ</td>\n      <td>-99.126138</td>\n      <td>19.420118</td>\n      <td>120</td>\n      <td>[🚦]</td>\n      <td>1</td>\n      <td>¡ Aguas ! Afectación vial por semáforo descomp...</td>\n      <td>¡ Aguas</td>\n      <td>2</td>\n      <td>Afectación vial por semáforo descompuesto en ...</td>\n      <td>114</td>\n    </tr>\n    <tr>\n      <th>13525</th>\n      <td>-MaEM7nxRyhF1wUHL7hb</td>\n      <td>0JrEIkK66xG2Azc5uek61g</td>\n      <td>2021-05-21 14:37:57</td>\n      <td>2021-05-21 14:38:13</td>\n      <td>2021-05-21 14:51:00</td>\n      <td>BrokenTrafficLight</td>\n      <td>Delays</td>\n      <td>⏳ ¡Híjole! Hay retrasos por accidente vehicula...</td>\n      <td>false</td>\n      <td>GtvOEQAFZ0GtU6u4AXwvPg</td>\n      <td>-99.097316</td>\n      <td>19.416788</td>\n      <td>84</td>\n      <td>[⏳]</td>\n      <td>1</td>\n      <td>¡ Híjole ! Hay retrasos por accidente vehicula...</td>\n      <td>¡ Híjole</td>\n      <td>2</td>\n      <td>Hay retrasos por accidente vehicular en Aveni...</td>\n      <td>76</td>\n    </tr>\n    <tr>\n      <th>13526</th>\n      <td>-MaEM7nxRyhF1wUHL7hb</td>\n      <td>0JrEIkK66xG2Azc5uek61g</td>\n      <td>2021-05-21 14:37:57</td>\n      <td>2021-05-21 14:38:13</td>\n      <td>2021-05-21 14:51:00</td>\n      <td>BrokenTrafficLight</td>\n      <td>Delays</td>\n      <td>⏳ ¡Híjole! Hay retrasos por accidente vehicula...</td>\n      <td>false</td>\n      <td>zCy9zG00HEqGeKu4AWZYNQ</td>\n      <td>-99.097316</td>\n      <td>19.416788</td>\n      <td>84</td>\n      <td>[⏳]</td>\n      <td>1</td>\n      <td>¡ Híjole ! Hay retrasos por accidente vehicula...</td>\n      <td>¡ Híjole</td>\n      <td>2</td>\n      <td>Hay retrasos por accidente vehicular en Aveni...</td>\n      <td>76</td>\n    </tr>\n    <tr>\n      <th>13527</th>\n      <td>-MWFQW3yft6jICMNZ1In</td>\n      <td>4MUC35eJ6xGnG-e70C1dUw</td>\n      <td>2021-03-20 16:18:13</td>\n      <td>2021-03-20 16:18:19</td>\n      <td>2021-03-20 17:03:01</td>\n      <td>BrokenTrafficLight</td>\n      <td>TrafficImpact</td>\n      <td>✋ ¡Ponte truchas! Afectación vial por semáforo...</td>\n      <td>false</td>\n      <td>JfA8Bw8Zp024Kqu4AXiSpQ</td>\n      <td>-99.148653</td>\n      <td>19.457310</td>\n      <td>112</td>\n      <td>[✋]</td>\n      <td>1</td>\n      <td>¡ Ponte truchas ! Afectación vial por semáforo...</td>\n      <td>¡ Ponte truchas</td>\n      <td>2</td>\n      <td>Afectación vial por semáforos descompuestos e...</td>\n      <td>96</td>\n    </tr>\n    <tr>\n      <th>13528</th>\n      <td>-MWFQW3yft6jICMNZ1In</td>\n      <td>4MUC35eJ6xGnG-e70C1dUw</td>\n      <td>2021-03-20 16:18:13</td>\n      <td>2021-03-20 16:18:19</td>\n      <td>2021-03-20 17:03:01</td>\n      <td>BrokenTrafficLight</td>\n      <td>TrafficImpact</td>\n      <td>✋ ¡Ponte truchas! Afectación vial por semáforo...</td>\n      <td>false</td>\n      <td>zCy9zG00HEqGeKu4AWZYNQ</td>\n      <td>-99.148653</td>\n      <td>19.457310</td>\n      <td>112</td>\n      <td>[✋]</td>\n      <td>1</td>\n      <td>¡ Ponte truchas ! Afectación vial por semáforo...</td>\n      <td>¡ Ponte truchas</td>\n      <td>2</td>\n      <td>Afectación vial por semáforos descompuestos e...</td>\n      <td>96</td>\n    </tr>\n    <tr>\n      <th>13529</th>\n      <td>-M_wudYYixHXtrZCoEtK</td>\n      <td>MGN1n3G36xGwZF0GtElmvg</td>\n      <td>2021-05-18 00:40:19</td>\n      <td>2021-05-18 01:10:11</td>\n      <td>2021-05-18 01:37:00</td>\n      <td>BrokenTrafficLight</td>\n      <td>Delays</td>\n      <td>🚦 ¡Ora! Semáforos descompuestos en Margarita M...</td>\n      <td>false</td>\n      <td>JfA8Bw8Zp024Kqu4AXiSpQ</td>\n      <td>-99.156907</td>\n      <td>19.506632</td>\n      <td>89</td>\n      <td>[🚦]</td>\n      <td>1</td>\n      <td>¡ Ora ! Semáforos descompuestos en Margarita M...</td>\n      <td>¡ Ora</td>\n      <td>2</td>\n      <td>Semáforos descompuestos en Margarita Maza de ...</td>\n      <td>83</td>\n    </tr>\n    <tr>\n      <th>13530</th>\n      <td>-M_wudYYixHXtrZCoEtK</td>\n      <td>MGN1n3G36xGwZF0GtElmvg</td>\n      <td>2021-05-18 00:40:19</td>\n      <td>2021-05-18 01:10:11</td>\n      <td>2021-05-18 01:37:00</td>\n      <td>BrokenTrafficLight</td>\n      <td>Delays</td>\n      <td>🚦 ¡Ora! Semáforos descompuestos en Margarita M...</td>\n      <td>false</td>\n      <td>zCy9zG00HEqGeKu4AWZYNQ</td>\n      <td>-99.156907</td>\n      <td>19.506632</td>\n      <td>89</td>\n      <td>[🚦]</td>\n      <td>1</td>\n      <td>¡ Ora ! Semáforos descompuestos en Margarita M...</td>\n      <td>¡ Ora</td>\n      <td>2</td>\n      <td>Semáforos descompuestos en Margarita Maza de ...</td>\n      <td>83</td>\n    </tr>\n    <tr>\n      <th>13531</th>\n      <td>-MQIsWcH5HkstY3jXJ5e</td>\n      <td>IJ-bw4ZP6xG_R416ucCCcw</td>\n      <td>2021-01-05 18:49:39</td>\n      <td>2021-01-05 18:49:50</td>\n      <td>2021-01-05 19:31:00</td>\n      <td>BrokenTrafficLight</td>\n      <td>Delays</td>\n      <td>⏳ ¡Ponte trucha! Hay retrasos por semáforos de...</td>\n      <td>false</td>\n      <td>NuuRQ2I1Q0a50Kv-AVKlLA</td>\n      <td>-99.142562</td>\n      <td>19.424903</td>\n      <td>113</td>\n      <td>[⏳]</td>\n      <td>1</td>\n      <td>¡ Ponte trucha ! Hay retrasos por semáforos de...</td>\n      <td>¡ Ponte trucha</td>\n      <td>2</td>\n      <td>Hay retrasos por semáforos descompuestos sobr...</td>\n      <td>98</td>\n    </tr>\n    <tr>\n      <th>13532</th>\n      <td>-MTn1fn6P9AFwqq5QcUz</td>\n      <td>gITv5pNx6xGXLvczM4gu7A</td>\n      <td>2021-02-18 02:49:21</td>\n      <td>2021-02-18 02:49:39</td>\n      <td>2021-02-18 03:31:00</td>\n      <td>BrokenTrafficLight</td>\n      <td>TrafficImpact</td>\n      <td>🔴 ¡Oh que la! Afectación vial por semáforos de...</td>\n      <td>false</td>\n      <td>zCy9zG00HEqGeKu4AWZYNQ</td>\n      <td>-99.131474</td>\n      <td>19.306913</td>\n      <td>100</td>\n      <td>[🔴]</td>\n      <td>1</td>\n      <td>¡ Oh que la ! Afectación vial por semáforos de...</td>\n      <td>¡ Oh que la</td>\n      <td>2</td>\n      <td>Afectación vial por semáforos descompuestos e...</td>\n      <td>88</td>\n    </tr>\n    <tr>\n      <th>13533</th>\n      <td>-MdySISY5hSJPgekQ7pR</td>\n      <td>MMtE1r3e6xGfRWWTA3_CCQ</td>\n      <td>2021-07-07 00:54:08</td>\n      <td>2021-07-07 00:54:15</td>\n      <td>2021-07-07 02:00:01</td>\n      <td>BrokenTrafficLight</td>\n      <td>Delays</td>\n      <td>🚦 ¡Anticípate! Retrasos por semáforos descompu...</td>\n      <td>false</td>\n      <td>zCy9zG00HEqGeKu4AWZYNQ</td>\n      <td>-99.135616</td>\n      <td>19.377352</td>\n      <td>119</td>\n      <td>[🚦]</td>\n      <td>1</td>\n      <td>¡ Anticípate ! Retrasos por semáforos descompu...</td>\n      <td>¡ Anticípate</td>\n      <td>2</td>\n      <td>Retrasos por semáforos descompuestos en Eje 6...</td>\n      <td>106</td>\n    </tr>\n    <tr>\n      <th>13534</th>\n      <td>-MYIEEVanL9mNnKDgg4z</td>\n      <td>YIwekY2d6xGT2CkHNCpH1Q</td>\n      <td>2021-04-15 01:54:51</td>\n      <td>2021-04-15 01:54:55</td>\n      <td>2021-04-15 03:51:00</td>\n      <td>BrokenTrafficLight</td>\n      <td>TrafficImpact</td>\n      <td>⚠️¡Chin! Afectación vial por semáforos descomp...</td>\n      <td>false</td>\n      <td>zCy9zG00HEqGeKu4AWZYNQ</td>\n      <td>-99.206119</td>\n      <td>19.447829</td>\n      <td>131</td>\n      <td>[⚠]</td>\n      <td>1</td>\n      <td>️¡Chin ! Afectación vial por semáforos descomp...</td>\n      <td>️¡Chin</td>\n      <td>2</td>\n      <td>Afectación vial por semáforos descompuestos e...</td>\n      <td>125</td>\n    </tr>\n    <tr>\n      <th>13535</th>\n      <td>-MdHd1K5u-X4Z-UM5qMl</td>\n      <td>YD5xPw7Y6xGHstNtUMS8TQ</td>\n      <td>2021-06-28 12:42:07</td>\n      <td>2021-06-28 12:42:09</td>\n      <td>2021-06-28 13:19:00</td>\n      <td>BrokenTrafficLight</td>\n      <td>Delays</td>\n      <td>⏳🚦 ¡Oh que la! Retrasos por semáforos descompu...</td>\n      <td>false</td>\n      <td>zCy9zG00HEqGeKu4AWZYNQ</td>\n      <td>-99.111102</td>\n      <td>19.311540</td>\n      <td>107</td>\n      <td>[⏳, 🚦]</td>\n      <td>2</td>\n      <td>¡ Oh que la ! Retrasos por semáforos descompue...</td>\n      <td>¡ Oh que la</td>\n      <td>2</td>\n      <td>Retrasos por semáforos descompuestos en Armad...</td>\n      <td>94</td>\n    </tr>\n    <tr>\n      <th>13536</th>\n      <td>-MRB4ZPj8npXH1MtycNk</td>\n      <td>8FOqORpY6xGkjR-JS8slTg</td>\n      <td>2021-01-16 16:45:22</td>\n      <td>2021-01-16 16:45:26</td>\n      <td>2021-01-16 17:29:00</td>\n      <td>BrokenTrafficLight</td>\n      <td>TrafficImpact</td>\n      <td>⏳ ¡Oh no! Retrasos por semáforos descompuestos...</td>\n      <td>false</td>\n      <td>zCy9zG00HEqGeKu4AWZYNQ</td>\n      <td>-99.192060</td>\n      <td>19.438227</td>\n      <td>101</td>\n      <td>[⏳]</td>\n      <td>1</td>\n      <td>¡ Oh no ! Retrasos por semáforos descompuestos...</td>\n      <td>¡ Oh no</td>\n      <td>2</td>\n      <td>Retrasos por semáforos descompuestos en el cr...</td>\n      <td>93</td>\n    </tr>\n    <tr>\n      <th>13537</th>\n      <td>-MZZdjyfbnztCccgqoa1</td>\n      <td>sEfkzvmp6xG9Us96D1NGhQ</td>\n      <td>2021-04-30 21:19:54</td>\n      <td>2021-04-30 21:32:24</td>\n      <td>2021-04-30 22:14:00</td>\n      <td>BrokenTrafficLight</td>\n      <td>TrafficImpact</td>\n      <td>🚦 ¡Oh que la! Afectación vial por semáforos de...</td>\n      <td>false</td>\n      <td>zCy9zG00HEqGeKu4AWZYNQ</td>\n      <td>-99.153582</td>\n      <td>19.378498</td>\n      <td>113</td>\n      <td>[🚦]</td>\n      <td>1</td>\n      <td>¡ Oh que la ! Afectación vial por semáforos de...</td>\n      <td>¡ Oh que la</td>\n      <td>2</td>\n      <td>Afectación vial por semáforos descompuestos e...</td>\n      <td>101</td>\n    </tr>\n    <tr>\n      <th>13538</th>\n      <td>-MZor-DYgDMER9B2NtGD</td>\n      <td>QHbP5XKs6xGbFYutnY_XdQ</td>\n      <td>2021-05-04 00:51:44</td>\n      <td>2021-05-04 00:52:21</td>\n      <td>2021-05-04 01:45:01</td>\n      <td>BrokenTrafficLight</td>\n      <td>TrafficImpact</td>\n      <td>🚦 ¡Nos lleva el chanfle! Afectación vial por s...</td>\n      <td>false</td>\n      <td>zCy9zG00HEqGeKu4AWZYNQ</td>\n      <td>-99.113648</td>\n      <td>19.300805</td>\n      <td>121</td>\n      <td>[🚦]</td>\n      <td>1</td>\n      <td>¡ Nos lleva el chanfle ! Afectación vial por s...</td>\n      <td>¡ Nos lleva el chanfle</td>\n      <td>2</td>\n      <td>Afectación vial por semáforos descompuestos e...</td>\n      <td>98</td>\n    </tr>\n    <tr>\n      <th>13539</th>\n      <td>-MWizRKZ_YIPcMWzaqMP</td>\n      <td>QNJvrEGO6xGgXg3PRUP4fg</td>\n      <td>2021-03-26 14:43:48</td>\n      <td>2021-03-26 14:44:15</td>\n      <td>2021-03-26 16:01:01</td>\n      <td>BrokenTrafficLight</td>\n      <td>TrafficImpact</td>\n      <td>⏳ ¡No te esponjes! Hay retrasos por semáforos ...</td>\n      <td>false</td>\n      <td>zCy9zG00HEqGeKu4AWZYNQ</td>\n      <td>-98.962042</td>\n      <td>19.352388</td>\n      <td>127</td>\n      <td>[⏳]</td>\n      <td>1</td>\n      <td>¡ No te esponjes ! Hay retrasos por semáforos ...</td>\n      <td>¡ No te esponjes</td>\n      <td>2</td>\n      <td>Hay retrasos por semáforos descompuestos a la...</td>\n      <td>110</td>\n    </tr>\n    <tr>\n      <th>13540</th>\n      <td>-MS3yFJ5NoOacwMyGxSs</td>\n      <td>kO_VUshg6xGXlUHhke6ddw</td>\n      <td>2021-01-27 17:51:46</td>\n      <td>2021-01-27 17:51:51</td>\n      <td>2021-01-27 19:01:00</td>\n      <td>BrokenTrafficLight</td>\n      <td>Delays</td>\n      <td>⏳ ¡Chin! Hay retrasos por semáforos descompues...</td>\n      <td>false</td>\n      <td>zCy9zG00HEqGeKu4AWZYNQ</td>\n      <td>-99.177866</td>\n      <td>19.405867</td>\n      <td>90</td>\n      <td>[⏳]</td>\n      <td>1</td>\n      <td>¡ Chin ! Hay retrasos por semáforos descompues...</td>\n      <td>¡ Chin</td>\n      <td>2</td>\n      <td>Hay retrasos por semáforos descompuestos en B...</td>\n      <td>82</td>\n    </tr>\n    <tr>\n      <th>13541</th>\n      <td>-Md1ulS_9uAaVNQEkBLN</td>\n      <td>UBnDEqjV6xGNWi2nI8j1Cg</td>\n      <td>2021-06-25 11:25:41</td>\n      <td>2021-06-25 11:25:49</td>\n      <td>2021-06-25 12:01:01</td>\n      <td>BrokenTrafficLight</td>\n      <td>Delays</td>\n      <td>⏳🚦 ¡Chin! Retrasos por semáforos descompuestos...</td>\n      <td>false</td>\n      <td>zCy9zG00HEqGeKu4AWZYNQ</td>\n      <td>-99.155506</td>\n      <td>19.406903</td>\n      <td>77</td>\n      <td>[⏳, 🚦]</td>\n      <td>2</td>\n      <td>¡ Chin ! Retrasos por semáforos descompuestos ...</td>\n      <td>¡ Chin</td>\n      <td>2</td>\n      <td>Retrasos por semáforos descompuestos en Av. C...</td>\n      <td>69</td>\n    </tr>\n  </tbody>\n</table>\n</div>"
     },
     "metadata": {},
     "execution_count": 21
    }
   ],
   "source": [
    "alert_df.tail(30)\n"
   ]
  },
  {
   "cell_type": "code",
   "execution_count": 234,
   "metadata": {},
   "outputs": [
    {
     "output_type": "execute_result",
     "data": {
      "text/plain": [
       "303    ¿ A esperar bajo la lluvia 2 horas ? ¿ Mil hor...\n",
       "Name: txt_description, dtype: object"
      ]
     },
     "metadata": {},
     "execution_count": 234
    }
   ],
   "source": [
    "#print(alert_df['txt_description'].loc[alert_df['document_id']=='-M_wOdT14xRsVVEViOK1']"
   ]
  },
  {
   "source": [
    "## Merging alert df with agency dummy variables"
   ],
   "cell_type": "markdown",
   "metadata": {}
  },
  {
   "cell_type": "code",
   "execution_count": 19,
   "metadata": {},
   "outputs": [],
   "source": [
    "alert2= alert_df[['surrogate_id','agency']].set_index('surrogate_id')\n",
    "alert2= pd.get_dummies(alert2)\n",
    "grouped_alert= alert2.groupby(by='surrogate_id').sum()\n",
    "alert_df.drop(['agency'], axis=1, inplace=True)\n",
    "alert_df.drop_duplicates(subset='surrogate_id',inplace=True,ignore_index=True)\n",
    "alert_df= pd.merge(alert_df,grouped_alert, on='surrogate_id')"
   ]
  },
  {
   "source": [
    "## Merging notification df with corazon df"
   ],
   "cell_type": "markdown",
   "metadata": {}
  },
  {
   "cell_type": "code",
   "execution_count": 20,
   "metadata": {},
   "outputs": [],
   "source": [
    "notification_df.drop_duplicates(inplace=True,ignore_index=True)\n",
    "corazon_df.drop(['day'], axis=1, inplace=True)\n",
    "corazon_df.drop_duplicates(inplace=True, ignore_index=True)\n",
    "real_merge= notification_df.merge(corazon_df, how=\"left\", left_on=\"join_key_value\", right_on=\"notification_label_id\")"
   ]
  },
  {
   "source": [
    "## Merging all df together"
   ],
   "cell_type": "markdown",
   "metadata": {}
  },
  {
   "cell_type": "code",
   "execution_count": 7,
   "metadata": {},
   "outputs": [
    {
     "output_type": "execute_result",
     "data": {
      "text/plain": [
       "(2274889, 8)"
      ]
     },
     "metadata": {},
     "execution_count": 7
    }
   ],
   "source": [
    "real_merge.shape"
   ]
  },
  {
   "cell_type": "code",
   "execution_count": 8,
   "metadata": {},
   "outputs": [],
   "source": [
    "#Queried df for proper merging\n",
    "label_merger= real_merge.query(\"join_field == 'label'\")\n",
    "alert_id_merger= real_merge.query(\"join_field == 'alertId'\")"
   ]
  },
  {
   "cell_type": "code",
   "execution_count": 9,
   "metadata": {},
   "outputs": [],
   "source": [
    "clean_df=label_merger.merge(alert_df, how=\"left\",left_on=\"corazon_surrogate_id\", right_on=\"surrogate_id\")"
   ]
  },
  {
   "cell_type": "code",
   "execution_count": 10,
   "metadata": {},
   "outputs": [],
   "source": [
    "clean_df_3=alert_id_merger.merge(alert_df, how=\"left\",left_on=\"join_key_value\", right_on=\"document_id\")"
   ]
  },
  {
   "cell_type": "code",
   "execution_count": 11,
   "metadata": {},
   "outputs": [],
   "source": [
    "clean_df_2=clean_df[clean_df['description'].isnull()]\n",
    "clean_df.dropna(subset=['description'],inplace=True)\n",
    "clean_df_2=clean_df_2[[\"event_date\",\"event_timestamp\", \"event_name\",\"user_id\",\"join_field\",\"join_key_value\"]]\n",
    "clean_df_4=clean_df_2.merge(alert_df, how=\"left\",left_on=\"join_key_value\", right_on=\"document_id\")\n",
    "clean_df_4.dropna(subset=['created_at'],inplace=True)\n",
    "\n",
    "#Error! Notification open cant be related to any alerts. Ask"
   ]
  },
  {
   "cell_type": "code",
   "execution_count": 13,
   "metadata": {},
   "outputs": [],
   "source": [
    "# Finding more problems"
   ]
  },
  {
   "cell_type": "code",
   "execution_count": 14,
   "metadata": {},
   "outputs": [
    {
     "output_type": "execute_result",
     "data": {
      "text/plain": [
       "null                    484\n",
       "-MddArdZ4i8kL5p7wG0H    466\n",
       "-MdYiDEUKL6_4QGni-7o    421\n",
       "-Me5bbxeM43sR8EbuLd2    386\n",
       "-Mdt2BT-2y05YXyJctt2    371\n",
       "                       ... \n",
       "-Mde9L0oTy1vODzHW294      1\n",
       "-Mb2OcjgCicoGbENOVIQ      1\n",
       "-McEmQIbv558V8RxXBIU      1\n",
       "-Me1JV-RKQX-qj-_7QU8      1\n",
       "-Ma9-5EDz-3vPh4VZOSb      1\n",
       "Name: join_key_value, Length: 2289, dtype: int64"
      ]
     },
     "metadata": {},
     "execution_count": 14
    }
   ],
   "source": [
    "clean_df_3[\"join_key_value\"].value_counts()"
   ]
  },
  {
   "cell_type": "code",
   "execution_count": 15,
   "metadata": {},
   "outputs": [
    {
     "output_type": "execute_result",
     "data": {
      "text/plain": [
       "False    2826\n",
       "True      673\n",
       "Name: description, dtype: int64"
      ]
     },
     "metadata": {},
     "execution_count": 15
    }
   ],
   "source": [
    "clean_df_3.query(\"event_name == 'notification_opened'\")[\"description\"].isnull().value_counts()\n",
    "# Ask Ellen, 700 are gone"
   ]
  },
  {
   "cell_type": "code",
   "execution_count": 16,
   "metadata": {},
   "outputs": [],
   "source": [
    "#Another merge"
   ]
  },
  {
   "cell_type": "code",
   "execution_count": 17,
   "metadata": {},
   "outputs": [
    {
     "output_type": "execute_result",
     "data": {
      "text/plain": [
       "False    32180\n",
       "True      4308\n",
       "Name: description, dtype: int64"
      ]
     },
     "metadata": {},
     "execution_count": 17
    }
   ],
   "source": [
    "clean_df_3[\"description\"].isnull().value_counts()"
   ]
  },
  {
   "cell_type": "code",
   "execution_count": 18,
   "metadata": {},
   "outputs": [],
   "source": [
    "clean_df_3.dropna(subset=['description'],inplace=True)"
   ]
  },
  {
   "cell_type": "code",
   "execution_count": 19,
   "metadata": {},
   "outputs": [],
   "source": [
    "almost_finished_df= pd.concat([clean_df,clean_df_4], axis=0)\n",
    "finished_df= pd.concat([almost_finished_df,clean_df_3], axis=0)"
   ]
  },
  {
   "cell_type": "code",
   "execution_count": 20,
   "metadata": {},
   "outputs": [
    {
     "output_type": "execute_result",
     "data": {
      "text/plain": [
       "    event_date   event_timestamp            event_name user_id join_field  \\\n",
       "5     20210529  1622240527928000  notification_receive   ac6d3      label   \n",
       "6     20210529  1622240959952000  notification_dismiss   ac6d3      label   \n",
       "7     20210529  1622248553374000  notification_receive   ac6d3      label   \n",
       "8     20210529  1622248568285001  notification_dismiss   ac6d3      label   \n",
       "10    20210529  1622258011584001  notification_receive   ac6d3      label   \n",
       "\n",
       "            join_key_value    corazon_surrogate_id   notification_label_id  \\\n",
       "5   o3RXFQPA6xGpKOFIXMTiIg  4Np4EQPA6xGpKOFIXMTiIg  o3RXFQPA6xGpKOFIXMTiIg   \n",
       "6   o3RXFQPA6xGpKOFIXMTiIg  4Np4EQPA6xGpKOFIXMTiIg  o3RXFQPA6xGpKOFIXMTiIg   \n",
       "7   M1Mb7hDA6xGpKOFIXMTiIg  kGA96xDA6xGpKOFIXMTiIg  M1Mb7hDA6xGpKOFIXMTiIg   \n",
       "8   M1Mb7hDA6xGpKOFIXMTiIg  kGA96xDA6xGpKOFIXMTiIg  M1Mb7hDA6xGpKOFIXMTiIg   \n",
       "10  E4TxyCvA6xGpKOFIXMTiIg  YKlNxSvA6xGpKOFIXMTiIg  E4TxyCvA6xGpKOFIXMTiIg   \n",
       "\n",
       "             document_id            surrogate_id  ...  \\\n",
       "5   -Map3NyDNGaNwnfF6F0B  4Np4EQPA6xGpKOFIXMTiIg  ...   \n",
       "6   -Map3NyDNGaNwnfF6F0B  4Np4EQPA6xGpKOFIXMTiIg  ...   \n",
       "7   -MapQ4JNaTLEWbF2EG-b  kGA96xDA6xGpKOFIXMTiIg  ...   \n",
       "8   -MapQ4JNaTLEWbF2EG-b  kGA96xDA6xGpKOFIXMTiIg  ...   \n",
       "10  -Maq63vqDUxQRawQ_3Au  YKlNxSvA6xGpKOFIXMTiIg  ...   \n",
       "\n",
       "   agency_GtvOEQAFZ0GtU6u4AXwvPg agency_HE59N3RXM0q5vKu4AXlQZg  \\\n",
       "5                            1.0                           0.0   \n",
       "6                            1.0                           0.0   \n",
       "7                            1.0                           0.0   \n",
       "8                            1.0                           0.0   \n",
       "10                           0.0                           0.0   \n",
       "\n",
       "   agency_JUR9bFXmVkWDHqu4AXaY0g agency_JfA8Bw8Zp024Kqu4AXiSpQ  \\\n",
       "5                            0.0                           0.0   \n",
       "6                            0.0                           0.0   \n",
       "7                            0.0                           0.0   \n",
       "8                            0.0                           0.0   \n",
       "10                           0.0                           1.0   \n",
       "\n",
       "   agency_MgUq5b9mOEunx6u4AXt_BA agency_NuuRQ2I1Q0a50Kv-AVKlLA  \\\n",
       "5                            0.0                           0.0   \n",
       "6                            0.0                           0.0   \n",
       "7                            0.0                           0.0   \n",
       "8                            0.0                           0.0   \n",
       "10                           0.0                           0.0   \n",
       "\n",
       "   agency_V2AIQQKgmUO3VazvAOA-Cw  agency_jLjibFoim0iwWau4AWoEdQ  \\\n",
       "5                            0.0                            0.0   \n",
       "6                            0.0                            0.0   \n",
       "7                            0.0                            0.0   \n",
       "8                            0.0                            0.0   \n",
       "10                           0.0                            0.0   \n",
       "\n",
       "    agency_pky7jovXYkaw-awAAMrQ3g  agency_zCy9zG00HEqGeKu4AWZYNQ  \n",
       "5                             0.0                            1.0  \n",
       "6                             0.0                            1.0  \n",
       "7                             0.0                            1.0  \n",
       "8                             0.0                            1.0  \n",
       "10                            0.0                            1.0  \n",
       "\n",
       "[5 rows x 30 columns]"
      ],
      "text/html": "<div>\n<style scoped>\n    .dataframe tbody tr th:only-of-type {\n        vertical-align: middle;\n    }\n\n    .dataframe tbody tr th {\n        vertical-align: top;\n    }\n\n    .dataframe thead th {\n        text-align: right;\n    }\n</style>\n<table border=\"1\" class=\"dataframe\">\n  <thead>\n    <tr style=\"text-align: right;\">\n      <th></th>\n      <th>event_date</th>\n      <th>event_timestamp</th>\n      <th>event_name</th>\n      <th>user_id</th>\n      <th>join_field</th>\n      <th>join_key_value</th>\n      <th>corazon_surrogate_id</th>\n      <th>notification_label_id</th>\n      <th>document_id</th>\n      <th>surrogate_id</th>\n      <th>...</th>\n      <th>agency_GtvOEQAFZ0GtU6u4AXwvPg</th>\n      <th>agency_HE59N3RXM0q5vKu4AXlQZg</th>\n      <th>agency_JUR9bFXmVkWDHqu4AXaY0g</th>\n      <th>agency_JfA8Bw8Zp024Kqu4AXiSpQ</th>\n      <th>agency_MgUq5b9mOEunx6u4AXt_BA</th>\n      <th>agency_NuuRQ2I1Q0a50Kv-AVKlLA</th>\n      <th>agency_V2AIQQKgmUO3VazvAOA-Cw</th>\n      <th>agency_jLjibFoim0iwWau4AWoEdQ</th>\n      <th>agency_pky7jovXYkaw-awAAMrQ3g</th>\n      <th>agency_zCy9zG00HEqGeKu4AWZYNQ</th>\n    </tr>\n  </thead>\n  <tbody>\n    <tr>\n      <th>5</th>\n      <td>20210529</td>\n      <td>1622240527928000</td>\n      <td>notification_receive</td>\n      <td>ac6d3</td>\n      <td>label</td>\n      <td>o3RXFQPA6xGpKOFIXMTiIg</td>\n      <td>4Np4EQPA6xGpKOFIXMTiIg</td>\n      <td>o3RXFQPA6xGpKOFIXMTiIg</td>\n      <td>-Map3NyDNGaNwnfF6F0B</td>\n      <td>4Np4EQPA6xGpKOFIXMTiIg</td>\n      <td>...</td>\n      <td>1.0</td>\n      <td>0.0</td>\n      <td>0.0</td>\n      <td>0.0</td>\n      <td>0.0</td>\n      <td>0.0</td>\n      <td>0.0</td>\n      <td>0.0</td>\n      <td>0.0</td>\n      <td>1.0</td>\n    </tr>\n    <tr>\n      <th>6</th>\n      <td>20210529</td>\n      <td>1622240959952000</td>\n      <td>notification_dismiss</td>\n      <td>ac6d3</td>\n      <td>label</td>\n      <td>o3RXFQPA6xGpKOFIXMTiIg</td>\n      <td>4Np4EQPA6xGpKOFIXMTiIg</td>\n      <td>o3RXFQPA6xGpKOFIXMTiIg</td>\n      <td>-Map3NyDNGaNwnfF6F0B</td>\n      <td>4Np4EQPA6xGpKOFIXMTiIg</td>\n      <td>...</td>\n      <td>1.0</td>\n      <td>0.0</td>\n      <td>0.0</td>\n      <td>0.0</td>\n      <td>0.0</td>\n      <td>0.0</td>\n      <td>0.0</td>\n      <td>0.0</td>\n      <td>0.0</td>\n      <td>1.0</td>\n    </tr>\n    <tr>\n      <th>7</th>\n      <td>20210529</td>\n      <td>1622248553374000</td>\n      <td>notification_receive</td>\n      <td>ac6d3</td>\n      <td>label</td>\n      <td>M1Mb7hDA6xGpKOFIXMTiIg</td>\n      <td>kGA96xDA6xGpKOFIXMTiIg</td>\n      <td>M1Mb7hDA6xGpKOFIXMTiIg</td>\n      <td>-MapQ4JNaTLEWbF2EG-b</td>\n      <td>kGA96xDA6xGpKOFIXMTiIg</td>\n      <td>...</td>\n      <td>1.0</td>\n      <td>0.0</td>\n      <td>0.0</td>\n      <td>0.0</td>\n      <td>0.0</td>\n      <td>0.0</td>\n      <td>0.0</td>\n      <td>0.0</td>\n      <td>0.0</td>\n      <td>1.0</td>\n    </tr>\n    <tr>\n      <th>8</th>\n      <td>20210529</td>\n      <td>1622248568285001</td>\n      <td>notification_dismiss</td>\n      <td>ac6d3</td>\n      <td>label</td>\n      <td>M1Mb7hDA6xGpKOFIXMTiIg</td>\n      <td>kGA96xDA6xGpKOFIXMTiIg</td>\n      <td>M1Mb7hDA6xGpKOFIXMTiIg</td>\n      <td>-MapQ4JNaTLEWbF2EG-b</td>\n      <td>kGA96xDA6xGpKOFIXMTiIg</td>\n      <td>...</td>\n      <td>1.0</td>\n      <td>0.0</td>\n      <td>0.0</td>\n      <td>0.0</td>\n      <td>0.0</td>\n      <td>0.0</td>\n      <td>0.0</td>\n      <td>0.0</td>\n      <td>0.0</td>\n      <td>1.0</td>\n    </tr>\n    <tr>\n      <th>10</th>\n      <td>20210529</td>\n      <td>1622258011584001</td>\n      <td>notification_receive</td>\n      <td>ac6d3</td>\n      <td>label</td>\n      <td>E4TxyCvA6xGpKOFIXMTiIg</td>\n      <td>YKlNxSvA6xGpKOFIXMTiIg</td>\n      <td>E4TxyCvA6xGpKOFIXMTiIg</td>\n      <td>-Maq63vqDUxQRawQ_3Au</td>\n      <td>YKlNxSvA6xGpKOFIXMTiIg</td>\n      <td>...</td>\n      <td>0.0</td>\n      <td>0.0</td>\n      <td>0.0</td>\n      <td>1.0</td>\n      <td>0.0</td>\n      <td>0.0</td>\n      <td>0.0</td>\n      <td>0.0</td>\n      <td>0.0</td>\n      <td>1.0</td>\n    </tr>\n  </tbody>\n</table>\n<p>5 rows × 30 columns</p>\n</div>"
     },
     "metadata": {},
     "execution_count": 20
    }
   ],
   "source": [
    "finished_df.head()"
   ]
  },
  {
   "cell_type": "code",
   "execution_count": 21,
   "metadata": {},
   "outputs": [
    {
     "output_type": "execute_result",
     "data": {
      "text/plain": [
       "Index(['event_date', 'event_timestamp', 'event_name', 'user_id', 'join_field',\n",
       "       'join_key_value', 'corazon_surrogate_id', 'notification_label_id',\n",
       "       'document_id', 'surrogate_id', 'created_at', 'published_at',\n",
       "       'closed_at', 'cause', 'effect', 'description', 'is_global',\n",
       "       'area_of_effect_coordinates_latitude',\n",
       "       'area_of_effect_coordinates_longitude', 'agency_GewRJAw5tUmC4Ku4AX1-SQ',\n",
       "       'agency_GtvOEQAFZ0GtU6u4AXwvPg', 'agency_HE59N3RXM0q5vKu4AXlQZg',\n",
       "       'agency_JUR9bFXmVkWDHqu4AXaY0g', 'agency_JfA8Bw8Zp024Kqu4AXiSpQ',\n",
       "       'agency_MgUq5b9mOEunx6u4AXt_BA', 'agency_NuuRQ2I1Q0a50Kv-AVKlLA',\n",
       "       'agency_V2AIQQKgmUO3VazvAOA-Cw', 'agency_jLjibFoim0iwWau4AWoEdQ',\n",
       "       'agency_pky7jovXYkaw-awAAMrQ3g', 'agency_zCy9zG00HEqGeKu4AWZYNQ'],\n",
       "      dtype='object')"
      ]
     },
     "metadata": {},
     "execution_count": 21
    }
   ],
   "source": [
    "finished_df.columns"
   ]
  },
  {
   "source": [
    "## Dropping irrelevant columns"
   ],
   "cell_type": "markdown",
   "metadata": {}
  },
  {
   "cell_type": "code",
   "execution_count": 22,
   "metadata": {},
   "outputs": [],
   "source": [
    "export_df=finished_df.drop(['event_date','join_field','join_key_value','is_global','corazon_surrogate_id','notification_label_id'], axis=1)"
   ]
  },
  {
   "source": [
    "## Fixing the event_name column:"
   ],
   "cell_type": "markdown",
   "metadata": {}
  },
  {
   "cell_type": "code",
   "execution_count": 23,
   "metadata": {},
   "outputs": [],
   "source": [
    "export_df[\"event_name\"].replace(\"notification_receive\",\"notification_received\", inplace=True)"
   ]
  },
  {
   "cell_type": "code",
   "execution_count": 24,
   "metadata": {},
   "outputs": [],
   "source": [
    "export_df[\"event_name\"].replace(\"notification_open\",\"notification_opened\", inplace=True)"
   ]
  },
  {
   "source": [
    "## Exporting the df to a json file, so it is easier to deal without the cleaning part."
   ],
   "cell_type": "markdown",
   "metadata": {}
  },
  {
   "cell_type": "code",
   "execution_count": 25,
   "metadata": {},
   "outputs": [],
   "source": [
    "export_df.reset_index(inplace=True, drop=True)"
   ]
  },
  {
   "cell_type": "code",
   "execution_count": 26,
   "metadata": {},
   "outputs": [],
   "source": [
    "export_df.to_json(\"../data/cleaned_data.json\",orient='columns')"
   ]
  },
  {
   "cell_type": "code",
   "execution_count": 27,
   "metadata": {},
   "outputs": [
    {
     "output_type": "stream",
     "name": "stdout",
     "text": [
      "Requirement already satisfied: pyarrow in /Users/fortes/neuefische/Capstone-WIMT/.venv/lib/python3.8/site-packages (4.0.1)\nRequirement already satisfied: numpy>=1.16.6 in /Users/fortes/neuefische/Capstone-WIMT/.venv/lib/python3.8/site-packages (from pyarrow) (1.21.0)\n"
     ]
    }
   ],
   "source": [
    "!pip3 install pyarrow\n",
    "import pyarrow.feather as feather\n",
    "feather.write_feather(export_df, \"../data/cleaned_data.feather\")"
   ]
  },
  {
   "cell_type": "code",
   "execution_count": 28,
   "metadata": {},
   "outputs": [],
   "source": [
    "export_df = feather.read_feather(\"../data/cleaned_data.feather\")"
   ]
  }
 ]
}