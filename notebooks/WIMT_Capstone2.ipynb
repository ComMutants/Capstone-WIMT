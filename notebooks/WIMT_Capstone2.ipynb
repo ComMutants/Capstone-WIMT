{
 "metadata": {
  "language_info": {
   "codemirror_mode": {
    "name": "ipython",
    "version": 3
   },
   "file_extension": ".py",
   "mimetype": "text/x-python",
   "name": "python",
   "nbconvert_exporter": "python",
   "pygments_lexer": "ipython3",
   "version": "3.8.5"
  },
  "orig_nbformat": 4,
  "kernelspec": {
   "name": "python3",
   "display_name": "Python 3.8.5 64-bit ('.venv': venv)"
  },
  "interpreter": {
   "hash": "f7e9aa0a9fe1ceb3c33c5aa0b358d6952771ff9c315b2715a747dc81bd71c7e9"
  }
 },
 "nbformat": 4,
 "nbformat_minor": 2,
 "cells": [
  {
   "cell_type": "code",
   "execution_count": 1,
   "source": [
    "import sys\n",
    "sys.path.append(\"..\")\n",
    "import pandas as pd\n",
    "import numpy as np\n",
    "import warnings\n",
    "import mlflow\n",
    "from modeling.config import TRACKING_URI, EXPERIMENT_NAME\n",
    "from pandas_profiling import ProfileReport\n"
   ],
   "outputs": [],
   "metadata": {}
  },
  {
   "cell_type": "markdown",
   "source": [
    "# Read json files"
   ],
   "metadata": {}
  },
  {
   "cell_type": "code",
   "execution_count": 2,
   "source": [
    "alert_df=pd.read_json(\"../data/alerts_cleaned.json\")"
   ],
   "outputs": [],
   "metadata": {}
  },
  {
   "cell_type": "code",
   "execution_count": 3,
   "source": [
    "corazon_df= pd.read_json(\"../data/notification-labels-to-alert-surrogate-ids.json\")"
   ],
   "outputs": [],
   "metadata": {}
  },
  {
   "cell_type": "code",
   "execution_count": 4,
   "source": [
    "notification_df=pd.read_json(\"../data/notifications.json\")"
   ],
   "outputs": [],
   "metadata": {}
  },
  {
   "cell_type": "markdown",
   "source": [
    "# Data Frame Cleaning"
   ],
   "metadata": {}
  },
  {
   "cell_type": "markdown",
   "source": [
    "## Text managing "
   ],
   "metadata": {}
  },
  {
   "cell_type": "code",
   "execution_count": 6,
   "source": [
    "!pip install -U spacy\n",
    "!pip install -U pip setuptools wheel\n",
    "!python -m spacy download es_core_news_sm\n",
    "!pip install spacymoji\n",
    "!python -m spacy download es_core_news_lg\n",
    "import spacy\n",
    "from spacymoji import Emoji\n",
    "import string\n",
    "import re\n",
    "import es_core_news_lg\n",
    "nlp = es_core_news_lg.load()"
   ],
   "outputs": [
    {
     "output_type": "stream",
     "name": "stdout",
     "text": [
      "Collecting spacy\n",
      "  Downloading spacy-3.1.1-cp38-cp38-macosx_10_9_x86_64.whl (6.0 MB)\n",
      "\u001b[K     |████████████████████████████████| 6.0 MB 1.5 MB/s \n",
      "\u001b[?25hCollecting spacy-legacy<3.1.0,>=3.0.7\n",
      "  Downloading spacy_legacy-3.0.8-py2.py3-none-any.whl (14 kB)\n",
      "Collecting srsly<3.0.0,>=2.4.1\n",
      "  Downloading srsly-2.4.1-cp38-cp38-macosx_10_9_x86_64.whl (450 kB)\n",
      "\u001b[K     |████████████████████████████████| 450 kB 46.9 MB/s \n",
      "\u001b[?25hCollecting thinc<8.1.0,>=8.0.8\n",
      "  Downloading thinc-8.0.8-cp38-cp38-macosx_10_9_x86_64.whl (598 kB)\n",
      "\u001b[K     |████████████████████████████████| 598 kB 43.3 MB/s \n",
      "\u001b[?25hCollecting murmurhash<1.1.0,>=0.28.0\n",
      "  Downloading murmurhash-1.0.5-cp38-cp38-macosx_10_9_x86_64.whl (18 kB)\n",
      "Collecting cymem<2.1.0,>=2.0.2\n",
      "  Downloading cymem-2.0.5-cp38-cp38-macosx_10_9_x86_64.whl (31 kB)\n",
      "Collecting typer<0.4.0,>=0.3.0\n",
      "  Downloading typer-0.3.2-py3-none-any.whl (21 kB)\n",
      "Collecting blis<0.8.0,>=0.4.0\n",
      "  Downloading blis-0.7.4-cp38-cp38-macosx_10_9_x86_64.whl (5.8 MB)\n",
      "\u001b[K     |████████████████████████████████| 5.8 MB 35.7 MB/s \n",
      "\u001b[?25hCollecting catalogue<2.1.0,>=2.0.4\n",
      "  Downloading catalogue-2.0.4-py3-none-any.whl (16 kB)\n",
      "Requirement already satisfied: packaging>=20.0 in /Users/fortes/neuefische/Capstone-WIMT/.venv/lib/python3.8/site-packages (from spacy) (21.0)\n",
      "Collecting pydantic!=1.8,!=1.8.1,<1.9.0,>=1.7.4\n",
      "  Downloading pydantic-1.8.2-cp38-cp38-macosx_10_9_x86_64.whl (2.6 MB)\n",
      "\u001b[K     |████████████████████████████████| 2.6 MB 24.1 MB/s \n",
      "\u001b[?25hRequirement already satisfied: tqdm<5.0.0,>=4.38.0 in /Users/fortes/neuefische/Capstone-WIMT/.venv/lib/python3.8/site-packages (from spacy) (4.61.2)\n",
      "Collecting preshed<3.1.0,>=3.0.2\n",
      "  Downloading preshed-3.0.5-cp38-cp38-macosx_10_9_x86_64.whl (105 kB)\n",
      "\u001b[K     |████████████████████████████████| 105 kB 30.2 MB/s \n",
      "\u001b[?25hCollecting pathy>=0.3.5\n",
      "  Downloading pathy-0.6.0-py3-none-any.whl (42 kB)\n",
      "\u001b[K     |████████████████████████████████| 42 kB 5.8 MB/s \n",
      "\u001b[?25hRequirement already satisfied: jinja2 in /Users/fortes/neuefische/Capstone-WIMT/.venv/lib/python3.8/site-packages (from spacy) (3.0.1)\n",
      "Requirement already satisfied: requests<3.0.0,>=2.13.0 in /Users/fortes/neuefische/Capstone-WIMT/.venv/lib/python3.8/site-packages (from spacy) (2.25.1)\n",
      "Requirement already satisfied: numpy>=1.15.0 in /Users/fortes/neuefische/Capstone-WIMT/.venv/lib/python3.8/site-packages (from spacy) (1.21.0)\n",
      "Requirement already satisfied: setuptools in /Users/fortes/neuefische/Capstone-WIMT/.venv/lib/python3.8/site-packages (from spacy) (47.1.0)\n",
      "Collecting wasabi<1.1.0,>=0.8.1\n",
      "  Downloading wasabi-0.8.2-py3-none-any.whl (23 kB)\n",
      "Requirement already satisfied: pyparsing>=2.0.2 in /Users/fortes/neuefische/Capstone-WIMT/.venv/lib/python3.8/site-packages (from packaging>=20.0->spacy) (2.4.7)\n",
      "Collecting smart-open<6.0.0,>=5.0.0\n",
      "  Using cached smart_open-5.1.0-py3-none-any.whl (57 kB)\n",
      "Requirement already satisfied: typing-extensions>=3.7.4.3 in /Users/fortes/neuefische/Capstone-WIMT/.venv/lib/python3.8/site-packages (from pydantic!=1.8,!=1.8.1,<1.9.0,>=1.7.4->spacy) (3.10.0.0)\n",
      "Requirement already satisfied: urllib3<1.27,>=1.21.1 in /Users/fortes/neuefische/Capstone-WIMT/.venv/lib/python3.8/site-packages (from requests<3.0.0,>=2.13.0->spacy) (1.26.6)\n",
      "Requirement already satisfied: chardet<5,>=3.0.2 in /Users/fortes/neuefische/Capstone-WIMT/.venv/lib/python3.8/site-packages (from requests<3.0.0,>=2.13.0->spacy) (4.0.0)\n",
      "Requirement already satisfied: idna<3,>=2.5 in /Users/fortes/neuefische/Capstone-WIMT/.venv/lib/python3.8/site-packages (from requests<3.0.0,>=2.13.0->spacy) (2.10)\n",
      "Requirement already satisfied: certifi>=2017.4.17 in /Users/fortes/neuefische/Capstone-WIMT/.venv/lib/python3.8/site-packages (from requests<3.0.0,>=2.13.0->spacy) (2021.5.30)\n",
      "Collecting click<7.2.0,>=7.1.1\n",
      "  Using cached click-7.1.2-py2.py3-none-any.whl (82 kB)\n",
      "Requirement already satisfied: MarkupSafe>=2.0 in /Users/fortes/neuefische/Capstone-WIMT/.venv/lib/python3.8/site-packages (from jinja2->spacy) (2.0.1)\n",
      "Installing collected packages: murmurhash, cymem, click, catalogue, wasabi, typer, srsly, smart-open, pydantic, preshed, blis, thinc, spacy-legacy, pathy, spacy\n",
      "  Attempting uninstall: click\n",
      "    Found existing installation: click 8.0.1\n",
      "    Uninstalling click-8.0.1:\n",
      "      Successfully uninstalled click-8.0.1\n",
      "Successfully installed blis-0.7.4 catalogue-2.0.4 click-7.1.2 cymem-2.0.5 murmurhash-1.0.5 pathy-0.6.0 preshed-3.0.5 pydantic-1.8.2 smart-open-5.1.0 spacy-3.1.1 spacy-legacy-3.0.8 srsly-2.4.1 thinc-8.0.8 typer-0.3.2 wasabi-0.8.2\n",
      "Requirement already satisfied: pip in /Users/fortes/neuefische/Capstone-WIMT/.venv/lib/python3.8/site-packages (21.1.3)\n",
      "Collecting pip\n",
      "  Using cached pip-21.2.1-py3-none-any.whl (1.6 MB)\n",
      "Requirement already satisfied: setuptools in /Users/fortes/neuefische/Capstone-WIMT/.venv/lib/python3.8/site-packages (47.1.0)\n",
      "Collecting setuptools\n",
      "  Downloading setuptools-57.4.0-py3-none-any.whl (819 kB)\n",
      "\u001b[K     |████████████████████████████████| 819 kB 1.8 MB/s \n",
      "\u001b[?25hRequirement already satisfied: wheel in /Users/fortes/neuefische/Capstone-WIMT/.venv/lib/python3.8/site-packages (0.36.2)\n",
      "Installing collected packages: setuptools, pip\n",
      "  Attempting uninstall: setuptools\n",
      "    Found existing installation: setuptools 47.1.0\n",
      "    Uninstalling setuptools-47.1.0:\n",
      "      Successfully uninstalled setuptools-47.1.0\n",
      "  Attempting uninstall: pip\n",
      "    Found existing installation: pip 21.1.3\n",
      "    Uninstalling pip-21.1.3:\n",
      "      Successfully uninstalled pip-21.1.3\n",
      "Successfully installed pip-21.2.1 setuptools-57.4.0\n",
      "Collecting es-core-news-sm==3.1.0\n",
      "  Downloading https://github.com/explosion/spacy-models/releases/download/es_core_news_sm-3.1.0/es_core_news_sm-3.1.0-py3-none-any.whl (13.7 MB)\n",
      "\u001b[K     |████████████████████████████████| 13.7 MB 8.7 MB/s \n",
      "\u001b[?25hRequirement already satisfied: spacy<3.2.0,>=3.1.0 in /Users/fortes/neuefische/Capstone-WIMT/.venv/lib/python3.8/site-packages (from es-core-news-sm==3.1.0) (3.1.1)\n",
      "Requirement already satisfied: blis<0.8.0,>=0.4.0 in /Users/fortes/neuefische/Capstone-WIMT/.venv/lib/python3.8/site-packages (from spacy<3.2.0,>=3.1.0->es-core-news-sm==3.1.0) (0.7.4)\n",
      "Requirement already satisfied: jinja2 in /Users/fortes/neuefische/Capstone-WIMT/.venv/lib/python3.8/site-packages (from spacy<3.2.0,>=3.1.0->es-core-news-sm==3.1.0) (3.0.1)\n",
      "Requirement already satisfied: cymem<2.1.0,>=2.0.2 in /Users/fortes/neuefische/Capstone-WIMT/.venv/lib/python3.8/site-packages (from spacy<3.2.0,>=3.1.0->es-core-news-sm==3.1.0) (2.0.5)\n",
      "Requirement already satisfied: pydantic!=1.8,!=1.8.1,<1.9.0,>=1.7.4 in /Users/fortes/neuefische/Capstone-WIMT/.venv/lib/python3.8/site-packages (from spacy<3.2.0,>=3.1.0->es-core-news-sm==3.1.0) (1.8.2)\n",
      "Requirement already satisfied: preshed<3.1.0,>=3.0.2 in /Users/fortes/neuefische/Capstone-WIMT/.venv/lib/python3.8/site-packages (from spacy<3.2.0,>=3.1.0->es-core-news-sm==3.1.0) (3.0.5)\n",
      "Requirement already satisfied: pathy>=0.3.5 in /Users/fortes/neuefische/Capstone-WIMT/.venv/lib/python3.8/site-packages (from spacy<3.2.0,>=3.1.0->es-core-news-sm==3.1.0) (0.6.0)\n",
      "Requirement already satisfied: typer<0.4.0,>=0.3.0 in /Users/fortes/neuefische/Capstone-WIMT/.venv/lib/python3.8/site-packages (from spacy<3.2.0,>=3.1.0->es-core-news-sm==3.1.0) (0.3.2)\n",
      "Requirement already satisfied: setuptools in /Users/fortes/neuefische/Capstone-WIMT/.venv/lib/python3.8/site-packages (from spacy<3.2.0,>=3.1.0->es-core-news-sm==3.1.0) (57.4.0)\n",
      "Requirement already satisfied: requests<3.0.0,>=2.13.0 in /Users/fortes/neuefische/Capstone-WIMT/.venv/lib/python3.8/site-packages (from spacy<3.2.0,>=3.1.0->es-core-news-sm==3.1.0) (2.25.1)\n",
      "Requirement already satisfied: murmurhash<1.1.0,>=0.28.0 in /Users/fortes/neuefische/Capstone-WIMT/.venv/lib/python3.8/site-packages (from spacy<3.2.0,>=3.1.0->es-core-news-sm==3.1.0) (1.0.5)\n",
      "Requirement already satisfied: thinc<8.1.0,>=8.0.8 in /Users/fortes/neuefische/Capstone-WIMT/.venv/lib/python3.8/site-packages (from spacy<3.2.0,>=3.1.0->es-core-news-sm==3.1.0) (8.0.8)\n",
      "Requirement already satisfied: srsly<3.0.0,>=2.4.1 in /Users/fortes/neuefische/Capstone-WIMT/.venv/lib/python3.8/site-packages (from spacy<3.2.0,>=3.1.0->es-core-news-sm==3.1.0) (2.4.1)\n",
      "Requirement already satisfied: wasabi<1.1.0,>=0.8.1 in /Users/fortes/neuefische/Capstone-WIMT/.venv/lib/python3.8/site-packages (from spacy<3.2.0,>=3.1.0->es-core-news-sm==3.1.0) (0.8.2)\n",
      "Requirement already satisfied: catalogue<2.1.0,>=2.0.4 in /Users/fortes/neuefische/Capstone-WIMT/.venv/lib/python3.8/site-packages (from spacy<3.2.0,>=3.1.0->es-core-news-sm==3.1.0) (2.0.4)\n",
      "Requirement already satisfied: packaging>=20.0 in /Users/fortes/neuefische/Capstone-WIMT/.venv/lib/python3.8/site-packages (from spacy<3.2.0,>=3.1.0->es-core-news-sm==3.1.0) (21.0)\n",
      "Requirement already satisfied: tqdm<5.0.0,>=4.38.0 in /Users/fortes/neuefische/Capstone-WIMT/.venv/lib/python3.8/site-packages (from spacy<3.2.0,>=3.1.0->es-core-news-sm==3.1.0) (4.61.2)\n",
      "Requirement already satisfied: spacy-legacy<3.1.0,>=3.0.7 in /Users/fortes/neuefische/Capstone-WIMT/.venv/lib/python3.8/site-packages (from spacy<3.2.0,>=3.1.0->es-core-news-sm==3.1.0) (3.0.8)\n",
      "Requirement already satisfied: numpy>=1.15.0 in /Users/fortes/neuefische/Capstone-WIMT/.venv/lib/python3.8/site-packages (from spacy<3.2.0,>=3.1.0->es-core-news-sm==3.1.0) (1.21.0)\n",
      "Requirement already satisfied: pyparsing>=2.0.2 in /Users/fortes/neuefische/Capstone-WIMT/.venv/lib/python3.8/site-packages (from packaging>=20.0->spacy<3.2.0,>=3.1.0->es-core-news-sm==3.1.0) (2.4.7)\n",
      "Requirement already satisfied: smart-open<6.0.0,>=5.0.0 in /Users/fortes/neuefische/Capstone-WIMT/.venv/lib/python3.8/site-packages (from pathy>=0.3.5->spacy<3.2.0,>=3.1.0->es-core-news-sm==3.1.0) (5.1.0)\n",
      "Requirement already satisfied: typing-extensions>=3.7.4.3 in /Users/fortes/neuefische/Capstone-WIMT/.venv/lib/python3.8/site-packages (from pydantic!=1.8,!=1.8.1,<1.9.0,>=1.7.4->spacy<3.2.0,>=3.1.0->es-core-news-sm==3.1.0) (3.10.0.0)\n",
      "Requirement already satisfied: chardet<5,>=3.0.2 in /Users/fortes/neuefische/Capstone-WIMT/.venv/lib/python3.8/site-packages (from requests<3.0.0,>=2.13.0->spacy<3.2.0,>=3.1.0->es-core-news-sm==3.1.0) (4.0.0)\n",
      "Requirement already satisfied: idna<3,>=2.5 in /Users/fortes/neuefische/Capstone-WIMT/.venv/lib/python3.8/site-packages (from requests<3.0.0,>=2.13.0->spacy<3.2.0,>=3.1.0->es-core-news-sm==3.1.0) (2.10)\n",
      "Requirement already satisfied: urllib3<1.27,>=1.21.1 in /Users/fortes/neuefische/Capstone-WIMT/.venv/lib/python3.8/site-packages (from requests<3.0.0,>=2.13.0->spacy<3.2.0,>=3.1.0->es-core-news-sm==3.1.0) (1.26.6)\n",
      "Requirement already satisfied: certifi>=2017.4.17 in /Users/fortes/neuefische/Capstone-WIMT/.venv/lib/python3.8/site-packages (from requests<3.0.0,>=2.13.0->spacy<3.2.0,>=3.1.0->es-core-news-sm==3.1.0) (2021.5.30)\n",
      "Requirement already satisfied: click<7.2.0,>=7.1.1 in /Users/fortes/neuefische/Capstone-WIMT/.venv/lib/python3.8/site-packages (from typer<0.4.0,>=0.3.0->spacy<3.2.0,>=3.1.0->es-core-news-sm==3.1.0) (7.1.2)\n",
      "Requirement already satisfied: MarkupSafe>=2.0 in /Users/fortes/neuefische/Capstone-WIMT/.venv/lib/python3.8/site-packages (from jinja2->spacy<3.2.0,>=3.1.0->es-core-news-sm==3.1.0) (2.0.1)\n",
      "Installing collected packages: es-core-news-sm\n",
      "Successfully installed es-core-news-sm-3.1.0\n",
      "\u001b[38;5;2m✔ Download and installation successful\u001b[0m\n",
      "You can now load the package via spacy.load('es_core_news_sm')\n",
      "Collecting spacymoji\n",
      "  Downloading spacymoji-3.0.1-py2.py3-none-any.whl (8.5 kB)\n",
      "Requirement already satisfied: spacy<4.0.0,>=3.0.0 in /Users/fortes/neuefische/Capstone-WIMT/.venv/lib/python3.8/site-packages (from spacymoji) (3.1.1)\n",
      "Collecting emoji<1.0.0,>=0.4.5\n",
      "  Downloading emoji-0.6.0.tar.gz (51 kB)\n",
      "\u001b[K     |████████████████████████████████| 51 kB 1.0 MB/s \n",
      "\u001b[?25hRequirement already satisfied: numpy>=1.15.0 in /Users/fortes/neuefische/Capstone-WIMT/.venv/lib/python3.8/site-packages (from spacy<4.0.0,>=3.0.0->spacymoji) (1.21.0)\n",
      "Requirement already satisfied: setuptools in /Users/fortes/neuefische/Capstone-WIMT/.venv/lib/python3.8/site-packages (from spacy<4.0.0,>=3.0.0->spacymoji) (57.4.0)\n",
      "Requirement already satisfied: cymem<2.1.0,>=2.0.2 in /Users/fortes/neuefische/Capstone-WIMT/.venv/lib/python3.8/site-packages (from spacy<4.0.0,>=3.0.0->spacymoji) (2.0.5)\n",
      "Requirement already satisfied: typer<0.4.0,>=0.3.0 in /Users/fortes/neuefische/Capstone-WIMT/.venv/lib/python3.8/site-packages (from spacy<4.0.0,>=3.0.0->spacymoji) (0.3.2)\n",
      "Requirement already satisfied: pathy>=0.3.5 in /Users/fortes/neuefische/Capstone-WIMT/.venv/lib/python3.8/site-packages (from spacy<4.0.0,>=3.0.0->spacymoji) (0.6.0)\n",
      "Requirement already satisfied: tqdm<5.0.0,>=4.38.0 in /Users/fortes/neuefische/Capstone-WIMT/.venv/lib/python3.8/site-packages (from spacy<4.0.0,>=3.0.0->spacymoji) (4.61.2)\n",
      "Requirement already satisfied: wasabi<1.1.0,>=0.8.1 in /Users/fortes/neuefische/Capstone-WIMT/.venv/lib/python3.8/site-packages (from spacy<4.0.0,>=3.0.0->spacymoji) (0.8.2)\n",
      "Requirement already satisfied: spacy-legacy<3.1.0,>=3.0.7 in /Users/fortes/neuefische/Capstone-WIMT/.venv/lib/python3.8/site-packages (from spacy<4.0.0,>=3.0.0->spacymoji) (3.0.8)\n",
      "Requirement already satisfied: blis<0.8.0,>=0.4.0 in /Users/fortes/neuefische/Capstone-WIMT/.venv/lib/python3.8/site-packages (from spacy<4.0.0,>=3.0.0->spacymoji) (0.7.4)\n",
      "Requirement already satisfied: thinc<8.1.0,>=8.0.8 in /Users/fortes/neuefische/Capstone-WIMT/.venv/lib/python3.8/site-packages (from spacy<4.0.0,>=3.0.0->spacymoji) (8.0.8)\n",
      "Requirement already satisfied: packaging>=20.0 in /Users/fortes/neuefische/Capstone-WIMT/.venv/lib/python3.8/site-packages (from spacy<4.0.0,>=3.0.0->spacymoji) (21.0)\n",
      "Requirement already satisfied: murmurhash<1.1.0,>=0.28.0 in /Users/fortes/neuefische/Capstone-WIMT/.venv/lib/python3.8/site-packages (from spacy<4.0.0,>=3.0.0->spacymoji) (1.0.5)\n",
      "Requirement already satisfied: preshed<3.1.0,>=3.0.2 in /Users/fortes/neuefische/Capstone-WIMT/.venv/lib/python3.8/site-packages (from spacy<4.0.0,>=3.0.0->spacymoji) (3.0.5)\n",
      "Requirement already satisfied: srsly<3.0.0,>=2.4.1 in /Users/fortes/neuefische/Capstone-WIMT/.venv/lib/python3.8/site-packages (from spacy<4.0.0,>=3.0.0->spacymoji) (2.4.1)\n",
      "Requirement already satisfied: requests<3.0.0,>=2.13.0 in /Users/fortes/neuefische/Capstone-WIMT/.venv/lib/python3.8/site-packages (from spacy<4.0.0,>=3.0.0->spacymoji) (2.25.1)\n",
      "Requirement already satisfied: catalogue<2.1.0,>=2.0.4 in /Users/fortes/neuefische/Capstone-WIMT/.venv/lib/python3.8/site-packages (from spacy<4.0.0,>=3.0.0->spacymoji) (2.0.4)\n",
      "Requirement already satisfied: jinja2 in /Users/fortes/neuefische/Capstone-WIMT/.venv/lib/python3.8/site-packages (from spacy<4.0.0,>=3.0.0->spacymoji) (3.0.1)\n",
      "Requirement already satisfied: pydantic!=1.8,!=1.8.1,<1.9.0,>=1.7.4 in /Users/fortes/neuefische/Capstone-WIMT/.venv/lib/python3.8/site-packages (from spacy<4.0.0,>=3.0.0->spacymoji) (1.8.2)\n",
      "Requirement already satisfied: pyparsing>=2.0.2 in /Users/fortes/neuefische/Capstone-WIMT/.venv/lib/python3.8/site-packages (from packaging>=20.0->spacy<4.0.0,>=3.0.0->spacymoji) (2.4.7)\n",
      "Requirement already satisfied: smart-open<6.0.0,>=5.0.0 in /Users/fortes/neuefische/Capstone-WIMT/.venv/lib/python3.8/site-packages (from pathy>=0.3.5->spacy<4.0.0,>=3.0.0->spacymoji) (5.1.0)\n",
      "Requirement already satisfied: typing-extensions>=3.7.4.3 in /Users/fortes/neuefische/Capstone-WIMT/.venv/lib/python3.8/site-packages (from pydantic!=1.8,!=1.8.1,<1.9.0,>=1.7.4->spacy<4.0.0,>=3.0.0->spacymoji) (3.10.0.0)\n",
      "Requirement already satisfied: urllib3<1.27,>=1.21.1 in /Users/fortes/neuefische/Capstone-WIMT/.venv/lib/python3.8/site-packages (from requests<3.0.0,>=2.13.0->spacy<4.0.0,>=3.0.0->spacymoji) (1.26.6)\n",
      "Requirement already satisfied: idna<3,>=2.5 in /Users/fortes/neuefische/Capstone-WIMT/.venv/lib/python3.8/site-packages (from requests<3.0.0,>=2.13.0->spacy<4.0.0,>=3.0.0->spacymoji) (2.10)\n",
      "Requirement already satisfied: chardet<5,>=3.0.2 in /Users/fortes/neuefische/Capstone-WIMT/.venv/lib/python3.8/site-packages (from requests<3.0.0,>=2.13.0->spacy<4.0.0,>=3.0.0->spacymoji) (4.0.0)\n",
      "Requirement already satisfied: certifi>=2017.4.17 in /Users/fortes/neuefische/Capstone-WIMT/.venv/lib/python3.8/site-packages (from requests<3.0.0,>=2.13.0->spacy<4.0.0,>=3.0.0->spacymoji) (2021.5.30)\n",
      "Requirement already satisfied: click<7.2.0,>=7.1.1 in /Users/fortes/neuefische/Capstone-WIMT/.venv/lib/python3.8/site-packages (from typer<0.4.0,>=0.3.0->spacy<4.0.0,>=3.0.0->spacymoji) (7.1.2)\n",
      "Requirement already satisfied: MarkupSafe>=2.0 in /Users/fortes/neuefische/Capstone-WIMT/.venv/lib/python3.8/site-packages (from jinja2->spacy<4.0.0,>=3.0.0->spacymoji) (2.0.1)\n",
      "Building wheels for collected packages: emoji\n",
      "  Building wheel for emoji (setup.py) ... \u001b[?25ldone\n",
      "\u001b[?25h  Created wheel for emoji: filename=emoji-0.6.0-py3-none-any.whl size=49735 sha256=d30a7994ce5e6b96480fb2a3d3914934e9566838c9f7022312fb781f6b82035a\n",
      "  Stored in directory: /Users/fortes/Library/Caches/pip/wheels/43/3d/82/e7baffa5e86346c6178d7750dba6e8ef063282a37fc563f8f8\n",
      "Successfully built emoji\n",
      "Installing collected packages: emoji, spacymoji\n",
      "Successfully installed emoji-0.6.0 spacymoji-3.0.1\n",
      "Collecting es-core-news-lg==3.1.0\n",
      "  Downloading https://github.com/explosion/spacy-models/releases/download/es_core_news_lg-3.1.0/es_core_news_lg-3.1.0-py3-none-any.whl (568.4 MB)\n",
      "\u001b[K     |████████████████████████████████| 568.4 MB 18 kB/s \n",
      "\u001b[?25hRequirement already satisfied: spacy<3.2.0,>=3.1.0 in /Users/fortes/neuefische/Capstone-WIMT/.venv/lib/python3.8/site-packages (from es-core-news-lg==3.1.0) (3.1.1)\n",
      "Requirement already satisfied: preshed<3.1.0,>=3.0.2 in /Users/fortes/neuefische/Capstone-WIMT/.venv/lib/python3.8/site-packages (from spacy<3.2.0,>=3.1.0->es-core-news-lg==3.1.0) (3.0.5)\n",
      "Requirement already satisfied: pathy>=0.3.5 in /Users/fortes/neuefische/Capstone-WIMT/.venv/lib/python3.8/site-packages (from spacy<3.2.0,>=3.1.0->es-core-news-lg==3.1.0) (0.6.0)\n",
      "Requirement already satisfied: numpy>=1.15.0 in /Users/fortes/neuefische/Capstone-WIMT/.venv/lib/python3.8/site-packages (from spacy<3.2.0,>=3.1.0->es-core-news-lg==3.1.0) (1.21.0)\n",
      "Requirement already satisfied: spacy-legacy<3.1.0,>=3.0.7 in /Users/fortes/neuefische/Capstone-WIMT/.venv/lib/python3.8/site-packages (from spacy<3.2.0,>=3.1.0->es-core-news-lg==3.1.0) (3.0.8)\n",
      "Requirement already satisfied: srsly<3.0.0,>=2.4.1 in /Users/fortes/neuefische/Capstone-WIMT/.venv/lib/python3.8/site-packages (from spacy<3.2.0,>=3.1.0->es-core-news-lg==3.1.0) (2.4.1)\n",
      "Requirement already satisfied: tqdm<5.0.0,>=4.38.0 in /Users/fortes/neuefische/Capstone-WIMT/.venv/lib/python3.8/site-packages (from spacy<3.2.0,>=3.1.0->es-core-news-lg==3.1.0) (4.61.2)\n",
      "Requirement already satisfied: blis<0.8.0,>=0.4.0 in /Users/fortes/neuefische/Capstone-WIMT/.venv/lib/python3.8/site-packages (from spacy<3.2.0,>=3.1.0->es-core-news-lg==3.1.0) (0.7.4)\n",
      "Requirement already satisfied: catalogue<2.1.0,>=2.0.4 in /Users/fortes/neuefische/Capstone-WIMT/.venv/lib/python3.8/site-packages (from spacy<3.2.0,>=3.1.0->es-core-news-lg==3.1.0) (2.0.4)\n",
      "Requirement already satisfied: setuptools in /Users/fortes/neuefische/Capstone-WIMT/.venv/lib/python3.8/site-packages (from spacy<3.2.0,>=3.1.0->es-core-news-lg==3.1.0) (57.4.0)\n",
      "Requirement already satisfied: thinc<8.1.0,>=8.0.8 in /Users/fortes/neuefische/Capstone-WIMT/.venv/lib/python3.8/site-packages (from spacy<3.2.0,>=3.1.0->es-core-news-lg==3.1.0) (8.0.8)\n",
      "Requirement already satisfied: packaging>=20.0 in /Users/fortes/neuefische/Capstone-WIMT/.venv/lib/python3.8/site-packages (from spacy<3.2.0,>=3.1.0->es-core-news-lg==3.1.0) (21.0)\n",
      "Requirement already satisfied: jinja2 in /Users/fortes/neuefische/Capstone-WIMT/.venv/lib/python3.8/site-packages (from spacy<3.2.0,>=3.1.0->es-core-news-lg==3.1.0) (3.0.1)\n",
      "Requirement already satisfied: pydantic!=1.8,!=1.8.1,<1.9.0,>=1.7.4 in /Users/fortes/neuefische/Capstone-WIMT/.venv/lib/python3.8/site-packages (from spacy<3.2.0,>=3.1.0->es-core-news-lg==3.1.0) (1.8.2)\n",
      "Requirement already satisfied: typer<0.4.0,>=0.3.0 in /Users/fortes/neuefische/Capstone-WIMT/.venv/lib/python3.8/site-packages (from spacy<3.2.0,>=3.1.0->es-core-news-lg==3.1.0) (0.3.2)\n",
      "Requirement already satisfied: requests<3.0.0,>=2.13.0 in /Users/fortes/neuefische/Capstone-WIMT/.venv/lib/python3.8/site-packages (from spacy<3.2.0,>=3.1.0->es-core-news-lg==3.1.0) (2.25.1)\n",
      "Requirement already satisfied: murmurhash<1.1.0,>=0.28.0 in /Users/fortes/neuefische/Capstone-WIMT/.venv/lib/python3.8/site-packages (from spacy<3.2.0,>=3.1.0->es-core-news-lg==3.1.0) (1.0.5)\n",
      "Requirement already satisfied: wasabi<1.1.0,>=0.8.1 in /Users/fortes/neuefische/Capstone-WIMT/.venv/lib/python3.8/site-packages (from spacy<3.2.0,>=3.1.0->es-core-news-lg==3.1.0) (0.8.2)\n",
      "Requirement already satisfied: cymem<2.1.0,>=2.0.2 in /Users/fortes/neuefische/Capstone-WIMT/.venv/lib/python3.8/site-packages (from spacy<3.2.0,>=3.1.0->es-core-news-lg==3.1.0) (2.0.5)\n",
      "Requirement already satisfied: pyparsing>=2.0.2 in /Users/fortes/neuefische/Capstone-WIMT/.venv/lib/python3.8/site-packages (from packaging>=20.0->spacy<3.2.0,>=3.1.0->es-core-news-lg==3.1.0) (2.4.7)\n",
      "Requirement already satisfied: smart-open<6.0.0,>=5.0.0 in /Users/fortes/neuefische/Capstone-WIMT/.venv/lib/python3.8/site-packages (from pathy>=0.3.5->spacy<3.2.0,>=3.1.0->es-core-news-lg==3.1.0) (5.1.0)\n",
      "Requirement already satisfied: typing-extensions>=3.7.4.3 in /Users/fortes/neuefische/Capstone-WIMT/.venv/lib/python3.8/site-packages (from pydantic!=1.8,!=1.8.1,<1.9.0,>=1.7.4->spacy<3.2.0,>=3.1.0->es-core-news-lg==3.1.0) (3.10.0.0)\n",
      "Requirement already satisfied: certifi>=2017.4.17 in /Users/fortes/neuefische/Capstone-WIMT/.venv/lib/python3.8/site-packages (from requests<3.0.0,>=2.13.0->spacy<3.2.0,>=3.1.0->es-core-news-lg==3.1.0) (2021.5.30)\n",
      "Requirement already satisfied: urllib3<1.27,>=1.21.1 in /Users/fortes/neuefische/Capstone-WIMT/.venv/lib/python3.8/site-packages (from requests<3.0.0,>=2.13.0->spacy<3.2.0,>=3.1.0->es-core-news-lg==3.1.0) (1.26.6)\n",
      "Requirement already satisfied: chardet<5,>=3.0.2 in /Users/fortes/neuefische/Capstone-WIMT/.venv/lib/python3.8/site-packages (from requests<3.0.0,>=2.13.0->spacy<3.2.0,>=3.1.0->es-core-news-lg==3.1.0) (4.0.0)\n",
      "Requirement already satisfied: idna<3,>=2.5 in /Users/fortes/neuefische/Capstone-WIMT/.venv/lib/python3.8/site-packages (from requests<3.0.0,>=2.13.0->spacy<3.2.0,>=3.1.0->es-core-news-lg==3.1.0) (2.10)\n",
      "Requirement already satisfied: click<7.2.0,>=7.1.1 in /Users/fortes/neuefische/Capstone-WIMT/.venv/lib/python3.8/site-packages (from typer<0.4.0,>=0.3.0->spacy<3.2.0,>=3.1.0->es-core-news-lg==3.1.0) (7.1.2)\n",
      "Requirement already satisfied: MarkupSafe>=2.0 in /Users/fortes/neuefische/Capstone-WIMT/.venv/lib/python3.8/site-packages (from jinja2->spacy<3.2.0,>=3.1.0->es-core-news-lg==3.1.0) (2.0.1)\n",
      "Installing collected packages: es-core-news-lg\n",
      "Successfully installed es-core-news-lg-3.1.0\n",
      "\u001b[38;5;2m✔ Download and installation successful\u001b[0m\n",
      "You can now load the package via spacy.load('es_core_news_lg')\n"
     ]
    }
   ],
   "metadata": {}
  },
  {
   "cell_type": "code",
   "execution_count": 7,
   "source": [
    "import emoji\n",
    "def get_emoji(x):\n",
    "\n",
    "    doc = nlp(x)\n",
    "    l=[]\n",
    "    for i in doc:\n",
    "        i=i.orth_\n",
    "        if i in emoji.UNICODE_EMOJI : \n",
    "            l.append(i)\n",
    "    return l "
   ],
   "outputs": [],
   "metadata": {}
  },
  {
   "cell_type": "code",
   "execution_count": 8,
   "source": [
    "def rid_emoji(x,y):\n",
    "    doc = nlp(x)\n",
    "    l=[]\n",
    "    for i in doc:\n",
    "        i=i.orth_\n",
    "        if i in y:\n",
    "            pass\n",
    "        else: \n",
    "            l.append(i)\n",
    "    return ' '.join(l)"
   ],
   "outputs": [],
   "metadata": {}
  },
  {
   "cell_type": "code",
   "execution_count": 9,
   "source": [
    "def slang_sep(x):\n",
    "    if '?' in x:\n",
    "        if x.count(\"?\")>1:\n",
    "            x=re.compile(r'[?|!]').split(x,x.count('?'))\n",
    "            return [\"\".join(x[0]+ x[1]),x[2]]\n",
    "        else:return re.compile(r'[?|!]').split(x,1)\n",
    "    elif '!' in x:return re.compile(r'[?|!]').split(x,1) \n",
    "    else:  return ['',x]\n"
   ],
   "outputs": [],
   "metadata": {}
  },
  {
   "cell_type": "code",
   "execution_count": 10,
   "source": [
    "def label_text (x,y):\n",
    "    c=0\n",
    "    for token in  nlp(x):\n",
    "        if token.tag_== y: c=c+1\n",
    "        else: pass  \n",
    "    return c  "
   ],
   "outputs": [],
   "metadata": {}
  },
  {
   "cell_type": "code",
   "execution_count": 11,
   "source": [
    "def text_rev (x):\n",
    "    for token in  nlp(x):\n",
    "        print([token.text, token.lemma_, token.pos_, token.tag_, token.dep_,token.shape_,\n",
    "                 token.is_alpha, token.is_stop])"
   ],
   "outputs": [],
   "metadata": {}
  },
  {
   "cell_type": "code",
   "execution_count": 12,
   "source": [
    "def words_count (x):\n",
    "   return len(nlp(x))\n",
    "    "
   ],
   "outputs": [],
   "metadata": {}
  },
  {
   "cell_type": "code",
   "execution_count": 13,
   "source": [
    "alert_df['description']     = alert_df['description'].astype('string')\n",
    "alert_df['lenght']          = alert_df['description'].str.len()\n",
    "alert_df[\"emoji\"]           = alert_df[\"description\"].apply(lambda x: get_emoji(x))\n",
    "alert_df[\"emoji_size\"]      = alert_df[\"emoji\"].str.len()\n",
    "alert_df[\"txt_description\"] = alert_df.apply(lambda x: rid_emoji(x.description,x.emoji),axis=1)"
   ],
   "outputs": [],
   "metadata": {}
  },
  {
   "cell_type": "code",
   "execution_count": 14,
   "source": [
    "alert_df[\"slang\"] = alert_df[\"txt_description\"].apply(lambda x: slang_sep(x))\n",
    "alert_df[['slang','information']] = pd.DataFrame(alert_df[\"slang\"].tolist(), index= alert_df.index)\n",
    "alert_df.drop([\"txt_description\"],axis=1, inplace= True)"
   ],
   "outputs": [],
   "metadata": {
    "tags": []
   }
  },
  {
   "cell_type": "code",
   "execution_count": 15,
   "source": [
    "alert_df[\"slang_char\"] = alert_df[\"slang\"].str.len()\n",
    "alert_df[\"slang_verb\"] = alert_df[\"slang\"].apply(lambda x:  label_text (x,'VERB'  ))\n",
    "alert_df[\"slang_pron\"] = alert_df[\"slang\"].apply(lambda x:  label_text (x,'PROPN' ))\n",
    "alert_df[\"slang_adp\" ] = alert_df[\"slang\"].apply(lambda x:  label_text (x,'ADP'   ))\n",
    "alert_df[\"slang_noun\"] = alert_df[\"slang\"].apply(lambda x:  label_text (x,'NOUN'  ))\n",
    "alert_df[\"slang_num\" ] = alert_df[\"slang\"].apply(lambda x:  label_text (x,'NUM'   ))\n",
    "alert_df[\"slang_punt\"] = alert_df[\"slang\"].apply(lambda x:  label_text (x,'PUNCT' ))\n",
    "alert_df[\"slang_det\" ] = alert_df[\"slang\"].apply(lambda x:  label_text (x,'DET'   ))"
   ],
   "outputs": [],
   "metadata": {}
  },
  {
   "cell_type": "code",
   "execution_count": 16,
   "source": [
    "alert_df[\"info_char\" ]  = alert_df[\"information\"].str.len()\n",
    "alert_df[\"info_words\"]  = alert_df[\"information\"].apply(lambda x:  words_count (x))\n",
    "alert_df[\"info_verb\" ]  = alert_df[\"information\"].apply(lambda x:  label_text  (x,'VERB'  ))\n",
    "alert_df[\"info_pron\" ]  = alert_df[\"information\"].apply(lambda x:  label_text  (x,'PROPN' ))\n",
    "alert_df[\"info_adp\"  ]  = alert_df[\"information\"].apply(lambda x:  label_text  (x,'ADP'   ))\n",
    "alert_df[\"info_noun\" ]  = alert_df[\"information\"].apply(lambda x:  label_text  (x,'NOUN'  ))\n",
    "alert_df[\"info_num\"  ]  = alert_df[\"information\"].apply(lambda x:  label_text  (x,'NUM'   ))\n",
    "alert_df[\"info_punt\" ]  = alert_df[\"information\"].apply(lambda x:  label_text  (x,'PUNCT' ))\n",
    "alert_df[\"info_det\"  ]  = alert_df[\"information\"].apply(lambda x:  label_text  (x,'DET'   ))"
   ],
   "outputs": [],
   "metadata": {}
  },
  {
   "cell_type": "markdown",
   "source": [
    "## Sentiment analysis"
   ],
   "metadata": {}
  },
  {
   "cell_type": "code",
   "execution_count": 18,
   "source": [
    "#!pip install transformers"
   ],
   "outputs": [],
   "metadata": {}
  },
  {
   "cell_type": "code",
   "execution_count": 19,
   "source": [
    "#!pip3 install torch torchvision torchaudio"
   ],
   "outputs": [],
   "metadata": {}
  },
  {
   "cell_type": "code",
   "execution_count": 20,
   "source": [
    "import transformers\n",
    "import torch\n",
    "from transformers import pipeline\n",
    "\n",
    "nlp_ner = pipeline(\n",
    "    \"ner\",\n",
    "    model=\"nlptown/bert-base-multilingual-uncased-sentiment\",\n",
    "    tokenizer=(\n",
    "        'mrm8488/bert-spanish-cased-finetuned-ner',  \n",
    "        {\"use_fast\": False}\n",
    "))\n",
    "#text = 'Mis amigos están pensando viajar a Londres este verano'\n",
    "\n",
    "#nlp_ner(text)"
   ],
   "outputs": [
    {
     "output_type": "stream",
     "name": "stderr",
     "text": [
      "Downloading: 100%|██████████| 953/953 [00:00<00:00, 269kB/s]\n",
      "Downloading: 100%|██████████| 669M/669M [00:12<00:00, 54.9MB/s]\n",
      "Downloading: 100%|██████████| 136/136 [00:00<00:00, 42.1kB/s]\n",
      "Downloading: 100%|██████████| 829/829 [00:00<00:00, 234kB/s]\n",
      "Downloading: 100%|██████████| 242k/242k [00:00<00:00, 1.20MB/s]\n",
      "Downloading: 100%|██████████| 112/112 [00:00<00:00, 32.5kB/s]\n"
     ]
    }
   ],
   "metadata": {}
  },
  {
   "cell_type": "markdown",
   "source": [
    "## Merging alert df with agency dummy variables"
   ],
   "metadata": {}
  },
  {
   "cell_type": "code",
   "execution_count": 25,
   "source": [
    "alert2= alert_df[['surrogate_id','agency']].set_index('surrogate_id')\n",
    "alert2= pd.get_dummies(alert2)\n",
    "grouped_alert= alert2.groupby(by='surrogate_id').sum()\n",
    "alert_df.drop(['agency'], axis=1, inplace=True)\n",
    "alert_df.drop_duplicates(subset='surrogate_id',inplace=True,ignore_index=True)\n",
    "alert_df= pd.merge(alert_df,grouped_alert, on='surrogate_id')"
   ],
   "outputs": [],
   "metadata": {}
  },
  {
   "cell_type": "markdown",
   "source": [
    "## Merging notification df with corazon df"
   ],
   "metadata": {}
  },
  {
   "cell_type": "code",
   "execution_count": 26,
   "source": [
    "notification_df.drop_duplicates(inplace=True,ignore_index=True)\n",
    "corazon_df.drop(['day'], axis=1, inplace=True)\n",
    "corazon_df.drop_duplicates(inplace=True, ignore_index=True)\n",
    "real_merge= notification_df.merge(corazon_df, how=\"left\", left_on=\"join_key_value\", right_on=\"notification_label_id\")"
   ],
   "outputs": [],
   "metadata": {}
  },
  {
   "cell_type": "markdown",
   "source": [
    "## Merging all df together"
   ],
   "metadata": {}
  },
  {
   "cell_type": "code",
   "execution_count": 27,
   "source": [
    "real_merge.shape"
   ],
   "outputs": [
    {
     "output_type": "execute_result",
     "data": {
      "text/plain": [
       "(2274889, 8)"
      ]
     },
     "metadata": {},
     "execution_count": 27
    }
   ],
   "metadata": {}
  },
  {
   "cell_type": "code",
   "execution_count": 28,
   "source": [
    "#Queried df for proper merging\n",
    "label_merger= real_merge.query(\"join_field == 'label'\")\n",
    "alert_id_merger= real_merge.query(\"join_field == 'alertId'\")"
   ],
   "outputs": [],
   "metadata": {}
  },
  {
   "cell_type": "code",
   "execution_count": 29,
   "source": [
    "clean_df=label_merger.merge(alert_df, how=\"left\",left_on=\"corazon_surrogate_id\", right_on=\"surrogate_id\")"
   ],
   "outputs": [],
   "metadata": {}
  },
  {
   "cell_type": "code",
   "execution_count": 30,
   "source": [
    "clean_df_3=alert_id_merger.merge(alert_df, how=\"left\",left_on=\"join_key_value\", right_on=\"document_id\")"
   ],
   "outputs": [],
   "metadata": {}
  },
  {
   "cell_type": "code",
   "execution_count": 31,
   "source": [
    "clean_df_2=clean_df[clean_df['description'].isnull()]\n",
    "clean_df.dropna(subset=['description'],inplace=True)\n",
    "clean_df_2=clean_df_2[[\"event_date\",\"event_timestamp\", \"event_name\",\"user_id\",\"join_field\",\"join_key_value\"]]\n",
    "clean_df_4=clean_df_2.merge(alert_df, how=\"left\",left_on=\"join_key_value\", right_on=\"document_id\")\n",
    "clean_df_4.dropna(subset=['created_at'],inplace=True)"
   ],
   "outputs": [],
   "metadata": {}
  },
  {
   "cell_type": "code",
   "execution_count": 32,
   "source": [
    "clean_df_3.dropna(subset=['description'],inplace=True)"
   ],
   "outputs": [],
   "metadata": {}
  },
  {
   "cell_type": "code",
   "execution_count": 33,
   "source": [
    "almost_finished_df= pd.concat([clean_df,clean_df_4], axis=0)\n",
    "finished_df= pd.concat([almost_finished_df,clean_df_3], axis=0)"
   ],
   "outputs": [],
   "metadata": {}
  },
  {
   "cell_type": "markdown",
   "source": [
    "## Dropping irrelevant columns"
   ],
   "metadata": {}
  },
  {
   "cell_type": "code",
   "execution_count": 34,
   "source": [
    "export_df=finished_df.drop(['event_date','join_field','join_key_value','is_global','corazon_surrogate_id','notification_label_id'], axis=1)"
   ],
   "outputs": [],
   "metadata": {}
  },
  {
   "cell_type": "markdown",
   "source": [
    "## Fixing the event_name column:"
   ],
   "metadata": {}
  },
  {
   "cell_type": "code",
   "execution_count": 35,
   "source": [
    "export_df[\"event_name\"].replace(\"notification_receive\",\"notification_received\", inplace=True)"
   ],
   "outputs": [],
   "metadata": {}
  },
  {
   "cell_type": "code",
   "execution_count": 36,
   "source": [
    "export_df[\"event_name\"].replace(\"notification_open\",\"notification_opened\", inplace=True)"
   ],
   "outputs": [],
   "metadata": {}
  },
  {
   "cell_type": "markdown",
   "source": [
    "## Feature engineering"
   ],
   "metadata": {}
  },
  {
   "cell_type": "code",
   "execution_count": 38,
   "source": [
    "export_df[\"event_timestamp\"]=pd.to_datetime(export_df[\"event_timestamp\"]*1000, unit=\"ns\")"
   ],
   "outputs": [],
   "metadata": {}
  },
  {
   "cell_type": "code",
   "execution_count": 39,
   "source": [
    "export_df[\"notif_viewed_ontime\"]=list(map(lambda x,y,z: np.nan if x==\"notification_received\" else (1 if y < z else 0), export_df[\"event_name\"], export_df[\"event_timestamp\"],export_df[\"closed_at\"])) \n",
    "#1 if the user view it on time  0 if not  and null if hasnt yet seen it "
   ],
   "outputs": [],
   "metadata": {}
  },
  {
   "cell_type": "code",
   "execution_count": 40,
   "source": [
    "export_df.dropna (subset=['notif_viewed_ontime'], inplace=True)\n",
    "export_df.reset_index(drop=True, inplace=True)\n",
    "export_df[\"notif_viewed_ontime\"]=export_df[\"notif_viewed_ontime\"].astype(int)"
   ],
   "outputs": [],
   "metadata": {}
  },
  {
   "cell_type": "code",
   "execution_count": 41,
   "source": [
    "export_df[\"reaction_time\"]=list(map(lambda x,y,z,w: float(pd.Timedelta(y - z).seconds/60)\n",
    "if (x==1) else float(pd.Timedelta(y - w).seconds/60), \n",
    "export_df[\"notif_viewed_ontime\"],export_df[\"event_timestamp\"],export_df[\"created_at\"],export_df[\"closed_at\"]))"
   ],
   "outputs": [],
   "metadata": {}
  },
  {
   "cell_type": "code",
   "execution_count": 42,
   "source": [
    "export_df.loc[export_df['event_name'].isin(['notification_opened', 'notification_view_alternatives' ,  'notification_share']),'opened']= 1\n",
    "export_df.loc[export_df['event_name'].isin(['notification_received', 'notification_dismiss']),'opened']= 0\n",
    "export_df['opened']=export_df['opened'].astype(int)"
   ],
   "outputs": [],
   "metadata": {}
  },
  {
   "cell_type": "code",
   "execution_count": 43,
   "source": [
    "gpbyuser= export_df.groupby( by= ['user_id'])\n",
    "gpbyuser2=gpbyuser.sum()\n",
    "gpbyuser2['count1'] = gpbyuser.size()\n",
    "gpbyuser2.drop(gpbyuser2[gpbyuser2['count1'] <3 ].index, inplace=True)\n",
    "real_users=gpbyuser2.index.tolist()\n",
    "export_df=export_df[export_df['user_id'].isin(real_users)]"
   ],
   "outputs": [],
   "metadata": {}
  },
  {
   "cell_type": "code",
   "execution_count": 44,
   "source": [
    "#Previous step to get the target opening ratio\n",
    "gpbyincident= export_df.groupby(by= ['document_id'])\n",
    "gpbyincident2=gpbyincident.sum()\n",
    "gpbyincident2['count1'] = gpbyincident.size()\n",
    "gpbyincident2['opened_rate'] = gpbyincident2['opened']/gpbyincident2['count1']\n",
    "merge_column=gpbyincident2['opened_rate'].copy()"
   ],
   "outputs": [],
   "metadata": {}
  },
  {
   "cell_type": "code",
   "execution_count": 45,
   "source": [
    "export_df= export_df.merge(merge_column, left_on=\"document_id\", right_index=True)"
   ],
   "outputs": [],
   "metadata": {}
  },
  {
   "cell_type": "code",
   "execution_count": 56,
   "source": [
    "export_df[\"interesting_message\"]=list(map(lambda x: 1 if x>0.05 else 0, export_df[\"opened_rate\"]))"
   ],
   "outputs": [],
   "metadata": {}
  },
  {
   "cell_type": "code",
   "execution_count": 60,
   "source": [
    "export_df.columns"
   ],
   "outputs": [
    {
     "output_type": "execute_result",
     "data": {
      "text/plain": [
       "Index(['event_timestamp', 'event_name', 'user_id', 'document_id',\n",
       "       'surrogate_id', 'created_at', 'published_at', 'closed_at', 'cause',\n",
       "       'effect', 'description', 'area_of_effect_coordinates_latitude',\n",
       "       'area_of_effect_coordinates_longitude', 'lenght', 'emoji', 'emoji_size',\n",
       "       'slang', 'information', 'slang_char', 'slang_verb', 'slang_pron',\n",
       "       'slang_adp', 'slang_noun', 'slang_num', 'slang_punt', 'slang_det',\n",
       "       'info_char', 'info_words', 'info_verb', 'info_pron', 'info_adp',\n",
       "       'info_noun', 'info_num', 'info_punt', 'info_det', 'Sendero Segura',\n",
       "       'Red de Transporte de Pasajeros', 'Mexibús', 'Metro', 'Metrobús',\n",
       "       'Mexicable', 'Trolebús', 'Cablebús', 'Tren Suburbano', 'Tren Ligero',\n",
       "       'Camión, Microbús, Combi', 'notif_viewed_ontime', 'reaction_time',\n",
       "       'opened', 'opened_rate', 'interesting_message'],\n",
       "      dtype='object')"
      ]
     },
     "metadata": {},
     "execution_count": 60
    }
   ],
   "metadata": {}
  },
  {
   "cell_type": "code",
   "execution_count": 59,
   "source": [
    "export_df.rename(columns={'agency_GewRJAw5tUmC4Ku4AX1-SQ':'Sendero Segura','agency_GtvOEQAFZ0GtU6u4AXwvPg':'Red de Transporte de Pasajeros',\n",
    "'agency_HE59N3RXM0q5vKu4AXlQZg':'Mexibús', 'agency_JUR9bFXmVkWDHqu4AXaY0g':'Metro', 'agency_JfA8Bw8Zp024Kqu4AXiSpQ':'Metrobús',\n",
    "'agency_MgUq5b9mOEunx6u4AXt_BA':'Mexicable', 'agency_NuuRQ2I1Q0a50Kv-AVKlLA':'Trolebús','agency_V2AIQQKgmUO3VazvAOA-Cw':'Cablebús',\n",
    "'agency_jLjibFoim0iwWau4AWoEdQ':'Tren Suburbano', 'agency_pky7jovXYkaw-awAAMrQ3g':'Tren Ligero', 'agency_zCy9zG00HEqGeKu4AWZYNQ':'Camión, Microbús, Combi',\n",
    "}, inplace=True)"
   ],
   "outputs": [],
   "metadata": {}
  },
  {
   "cell_type": "code",
   "execution_count": 61,
   "source": [
    "export_df=pd.get_dummies(data=export_df,columns= [\"cause\",\"effect\"],drop_first=True)\n",
    "export_df.drop(['event_timestamp', 'event_name', 'user_id', 'document_id','surrogate_id', 'created_at', 'published_at', \n",
    "'closed_at','notif_viewed_ontime', 'reaction_time','area_of_effect_coordinates_latitude','area_of_effect_coordinates_longitude',\n",
    "'opened','opened_rate','description'],axis=1, inplace=True)"
   ],
   "outputs": [],
   "metadata": {}
  },
  {
   "cell_type": "markdown",
   "source": [
    "## Exporting the df to a json file, so it is easier to deal without the cleaning part."
   ],
   "metadata": {}
  },
  {
   "cell_type": "code",
   "execution_count": 62,
   "source": [
    "export_df.reset_index(inplace=True, drop=True)"
   ],
   "outputs": [],
   "metadata": {}
  },
  {
   "cell_type": "code",
   "execution_count": 48,
   "source": [
    "#export_df.to_json(\"../data/cleaned_data.json\",orient='columns')"
   ],
   "outputs": [],
   "metadata": {}
  },
  {
   "cell_type": "code",
   "execution_count": 64,
   "source": [
    "!pip3 install pyarrow\n",
    "import pyarrow.feather as feather\n",
    "feather.write_feather(export_df, \"../data/cleaned_data.feather\")"
   ],
   "outputs": [
    {
     "output_type": "stream",
     "name": "stdout",
     "text": [
      "Requirement already satisfied: pyarrow in /Users/fortes/neuefische/Capstone-WIMT/.venv/lib/python3.8/site-packages (4.0.1)\n",
      "Requirement already satisfied: numpy>=1.16.6 in /Users/fortes/neuefische/Capstone-WIMT/.venv/lib/python3.8/site-packages (from pyarrow) (1.21.0)\n"
     ]
    }
   ],
   "metadata": {}
  },
  {
   "cell_type": "code",
   "execution_count": 63,
   "source": [
    "export_df = feather.read_feather(\"../data/cleaned_data.feather\")"
   ],
   "outputs": [],
   "metadata": {}
  }
 ]
}