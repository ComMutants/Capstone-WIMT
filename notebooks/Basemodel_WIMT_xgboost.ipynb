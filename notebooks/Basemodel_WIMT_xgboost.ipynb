{
 "metadata": {
  "language_info": {
   "codemirror_mode": {
    "name": "ipython",
    "version": 3
   },
   "file_extension": ".py",
   "mimetype": "text/x-python",
   "name": "python",
   "nbconvert_exporter": "python",
   "pygments_lexer": "ipython3",
   "version": "3.8.5"
  },
  "orig_nbformat": 4,
  "kernelspec": {
   "name": "python3",
   "display_name": "Python 3.8.5 64-bit ('.venv': venv)"
  },
  "interpreter": {
   "hash": "f7e9aa0a9fe1ceb3c33c5aa0b358d6952771ff9c315b2715a747dc81bd71c7e9"
  }
 },
 "nbformat": 4,
 "nbformat_minor": 2,
 "cells": [
  {
   "cell_type": "code",
   "execution_count": 1,
   "source": [
    "import numpy as np  \n",
    "import pandas as pd  \n",
    "from sklearn.model_selection import cross_val_score\n",
    "from sklearn.model_selection import RepeatedStratifiedKFold\n",
    "from xgboost import XGBClassifier\n",
    "import pyarrow.feather as feather\n",
    "from sklearn.model_selection import GridSearchCV\n",
    "from sklearn.metrics import confusion_matrix\n",
    "# Suppress warnings \n",
    "# (sometimes you might want to ignore warnings, that's how you can achieve this)\n",
    "import warnings\n",
    "warnings.filterwarnings('ignore')"
   ],
   "outputs": [],
   "metadata": {}
  },
  {
   "cell_type": "code",
   "execution_count": 2,
   "source": [
    "!pip install xgboost"
   ],
   "outputs": [
    {
     "output_type": "stream",
     "name": "stdout",
     "text": [
      "Requirement already satisfied: xgboost in /Users/fortes/neuefische/Capstone-WIMT/.venv/lib/python3.8/site-packages (1.4.2)\n",
      "Requirement already satisfied: scipy in /Users/fortes/neuefische/Capstone-WIMT/.venv/lib/python3.8/site-packages (from xgboost) (1.6.0)\n",
      "Requirement already satisfied: numpy in /Users/fortes/neuefische/Capstone-WIMT/.venv/lib/python3.8/site-packages (from xgboost) (1.21.0)\n"
     ]
    }
   ],
   "metadata": {}
  },
  {
   "cell_type": "code",
   "execution_count": 3,
   "source": [
    "export_df = feather.read_feather(\"../data/cleaned_data.feather\")"
   ],
   "outputs": [],
   "metadata": {}
  },
  {
   "cell_type": "code",
   "execution_count": 4,
   "source": [
    "basemodel_df=pd.get_dummies(data=export_df,columns= [\"cause\",\"effect\"],drop_first=True)"
   ],
   "outputs": [],
   "metadata": {}
  },
  {
   "cell_type": "code",
   "execution_count": 5,
   "source": [
    "basemodel_df.drop(['event_timestamp', 'event_name', 'user_id', 'document_id','surrogate_id', 'created_at', 'published_at', 'closed_at','notif_viewed_ontime', 'reaction_time','description','area_of_effect_coordinates_latitude','area_of_effect_coordinates_longitude'],axis=1, inplace=True)\n",
    "#dropping description and coordinates for base model"
   ],
   "outputs": [],
   "metadata": {}
  },
  {
   "cell_type": "code",
   "execution_count": 6,
   "source": [
    "# Function to split the dataset \n",
    "def splitdataset(df):\n",
    "    train_size = int(len(df) * 0.8)\n",
    "    train, test = df[0:train_size], df[train_size:len(df)]\n",
    "    X_train= train.drop([\"opened\"], axis=1)\n",
    "    X_test= test.drop([\"opened\"], axis=1)\n",
    "    y_train= train[\"opened\"]\n",
    "    y_test= test[\"opened\"]\n",
    "    return X_train, X_test, y_train, y_test"
   ],
   "outputs": [],
   "metadata": {}
  },
  {
   "cell_type": "code",
   "execution_count": 7,
   "source": [
    "# Function to perform training with MSE. \n",
    "def train_xgb(X_train, X_test, y_train): \n",
    "    # Creating the classifier object \n",
    "    xgb_class = XGBClassifier(use_label_encoder=False,eval_metric= \"logloss\")\n",
    "    xgb_parametering= {'scale_pos_weight': [1, 10, 25, 50, 75, 99]}\n",
    "    cv = RepeatedStratifiedKFold(n_splits=10, n_repeats=3, random_state=1)\n",
    "    xgb_grid = GridSearchCV(estimator=xgb_class, param_grid=xgb_parametering, cv=cv,scoring='balanced_accuracy',\n",
    "    verbose=10, n_jobs=-1)\n",
    "    grid_result=xgb_grid.fit(X_train,y_train)\n",
    "    # report the best configuration\n",
    "    print(\"Best: %f using %s\" % (grid_result.best_score_, grid_result.best_params_))\n",
    "    return grid_result\n",
    "    # IS IT ALREADY OK?"
   ],
   "outputs": [],
   "metadata": {}
  },
  {
   "cell_type": "code",
   "execution_count": 8,
   "source": [
    "# Function to make predictions \n",
    "def prediction(X_test, model): \n",
    "\n",
    "    # Predicton on test with giniIndex \n",
    "    y_pred = model.predict(X_test)\n",
    "    #print(\"Predicted values:\\n\") \n",
    "    print(y_pred)\n",
    "     \n",
    "    return y_pred "
   ],
   "outputs": [],
   "metadata": {}
  },
  {
   "cell_type": "code",
   "execution_count": 9,
   "source": [
    "# Function to calculate accuracy \n",
    "def class_metrics(y_test, y_pred):\n",
    "     \n",
    "    #accuracy = accuracy_score(y_test, y_pred)\n",
    "    cm = confusion_matrix(y_test, y_pred).round()\n",
    "    print(\"Predicted values:\\n\", y_pred) \n",
    "    print(\"Confusion Matrix: \\n\", cm) \n",
    "    #print(\"Accuracy: %.4f%%\" % (accuracy * 100.0))\n",
    "    scores = cross_val_score(xgb_class, y_test, y_pred, scoring='balanced_accuracy', cv=cv, n_jobs=-1)\n",
    "    print(\"Report : \\n\", scores)"
   ],
   "outputs": [],
   "metadata": {}
  },
  {
   "cell_type": "code",
   "execution_count": 10,
   "source": [
    "# Driver code \n",
    "def main(): \n",
    "    # Building Phase \n",
    "    X_train, X_test, y_train, y_test = splitdataset(basemodel_df) \n",
    "    basemodel = train_xgb(X_train, X_test, y_train)\n",
    "    # Operational Phase \n",
    "    print(\"-----\"*15)\n",
    "    print(\"Results:\\n\")\n",
    "    # Prediction\n",
    "    y_pred = prediction(X_test, basemodel) \n",
    "    class_metrics(y_test, y_pred)\n",
    "    return basemodel,y_pred"
   ],
   "outputs": [],
   "metadata": {}
  },
  {
   "cell_type": "code",
   "execution_count": 11,
   "source": [
    "basemodel=main()"
   ],
   "outputs": [
    {
     "output_type": "stream",
     "name": "stdout",
     "text": [
      "Fitting 30 folds for each of 6 candidates, totalling 180 fits\n",
      "[CV 2/30; 1/6] START scale_pos_weight=1.........................................\n",
      "[CV 3/30; 1/6] START scale_pos_weight=1.........................................\n",
      "[CV 1/30; 1/6] START scale_pos_weight=1.........................................\n",
      "[CV 5/30; 1/6] START scale_pos_weight=1.........................................\n",
      "[CV 4/30; 1/6] START scale_pos_weight=1.........................................\n",
      "[CV 6/30; 1/6] START scale_pos_weight=1.........................................\n",
      "[CV 7/30; 1/6] START scale_pos_weight=1.........................................\n",
      "[CV 8/30; 1/6] START scale_pos_weight=1.........................................\n",
      "[CV 6/30; 1/6] END ..........scale_pos_weight=1;, score=0.500 total time= 7.3min\n",
      "[CV 5/30; 1/6] END ..........scale_pos_weight=1;, score=0.500 total time= 7.4min\n",
      "[CV 9/30; 1/6] START scale_pos_weight=1.........................................\n",
      "[CV 8/30; 1/6] END ..........scale_pos_weight=1;, score=0.500 total time= 7.4min\n",
      "[CV 7/30; 1/6] END ..........scale_pos_weight=1;, score=0.500 total time= 7.4min\n",
      "[CV 10/30; 1/6] START scale_pos_weight=1........................................\n",
      "[CV 11/30; 1/6] START scale_pos_weight=1........................................\n",
      "[CV 2/30; 1/6] END ..........scale_pos_weight=1;, score=0.500 total time= 7.4min\n",
      "[CV 4/30; 1/6] END ..........scale_pos_weight=1;, score=0.500 total time= 7.4min\n",
      "[CV 12/30; 1/6] START scale_pos_weight=1........................................\n",
      "[CV 3/30; 1/6] END ..........scale_pos_weight=1;, score=0.500 total time= 7.4min\n",
      "[CV 13/30; 1/6] START scale_pos_weight=1........................................\n",
      "[CV 14/30; 1/6] START scale_pos_weight=1........................................\n",
      "[CV 1/30; 1/6] END ..........scale_pos_weight=1;, score=0.500 total time= 7.4min\n",
      "[CV 15/30; 1/6] START scale_pos_weight=1........................................\n",
      "[CV 16/30; 1/6] START scale_pos_weight=1........................................\n"
     ]
    }
   ],
   "metadata": {
    "tags": []
   }
  },
  {
   "cell_type": "markdown",
   "source": [],
   "metadata": {}
  }
 ]
}