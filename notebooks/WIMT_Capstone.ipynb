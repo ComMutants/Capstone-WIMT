{
 "metadata": {
  "language_info": {
   "codemirror_mode": {
    "name": "ipython",
    "version": 3
   },
   "file_extension": ".py",
   "mimetype": "text/x-python",
   "name": "python",
   "nbconvert_exporter": "python",
   "pygments_lexer": "ipython3",
   "version": "3.8.5"
  },
  "orig_nbformat": 4,
  "kernelspec": {
   "name": "python3",
   "display_name": "Python 3.8.5 64-bit ('.venv': venv)"
  },
  "interpreter": {
   "hash": "625ce6474a05a4b666800a4ef0d977d00d0d81149e2d5d11cdcd26de80422014"
  }
 },
 "nbformat": 4,
 "nbformat_minor": 2,
 "cells": [
  {
   "cell_type": "code",
   "execution_count": 1,
   "metadata": {},
   "outputs": [],
   "source": [
    "import sys\n",
    "# adding to the path variables the one folder higher (locally, not changing system variables)\n",
    "sys.path.append(\"..\")\n",
    "import pandas as pd\n",
    "import numpy as np\n",
    "import warnings\n",
    "import mlflow\n",
    "from modeling.config import TRACKING_URI, EXPERIMENT_NAME\n",
    "from pandas_profiling import ProfileReport\n",
    "# import torch"
   ]
  },
  {
   "cell_type": "code",
   "execution_count": 2,
   "metadata": {},
   "outputs": [],
   "source": [
    "alert_df=pd.read_json(\"/Users/chrisgilibert/neuefische/Capstone-WIMT/data/alerts.json\")"
   ]
  },
  {
   "cell_type": "code",
   "execution_count": 11,
   "metadata": {},
   "outputs": [],
   "source": [
    "corazon_df= pd.read_json(\"/Users/chrisgilibert/neuefische/Capstone-WIMT/data/notification-labels-to-alert-surrogate-ids.json\")"
   ]
  },
  {
   "cell_type": "code",
   "execution_count": 12,
   "metadata": {},
   "outputs": [],
   "source": [
    "notification_df=pd.read_json(\"/Users/chrisgilibert/neuefische/Capstone-WIMT/data/notifications.json\")"
   ]
  },
  {
   "source": [
    "Alert df cleaning "
   ],
   "cell_type": "markdown",
   "metadata": {}
  },
  {
   "cell_type": "code",
   "execution_count": 5,
   "metadata": {},
   "outputs": [],
   "source": [
    "alert2= alert_df[['surrogate_id','agency']].set_index('surrogate_id')\n",
    "alert2= pd.get_dummies(alert2)"
   ]
  },
  {
   "cell_type": "code",
   "execution_count": 7,
   "metadata": {},
   "outputs": [
    {
     "output_type": "stream",
     "name": "stdout",
     "text": [
      "<class 'pandas.core.frame.DataFrame'>\nIndex: 8564 entries, 0A1RnzNX6xGq3mN3fZHpTQ to wPyUx-1W6xGm3_VmQsQ_lQ\nData columns (total 11 columns):\n #   Column                         Non-Null Count  Dtype\n---  ------                         --------------  -----\n 0   agency_GewRJAw5tUmC4Ku4AX1-SQ  8564 non-null   uint8\n 1   agency_GtvOEQAFZ0GtU6u4AXwvPg  8564 non-null   uint8\n 2   agency_HE59N3RXM0q5vKu4AXlQZg  8564 non-null   uint8\n 3   agency_JUR9bFXmVkWDHqu4AXaY0g  8564 non-null   uint8\n 4   agency_JfA8Bw8Zp024Kqu4AXiSpQ  8564 non-null   uint8\n 5   agency_MgUq5b9mOEunx6u4AXt_BA  8564 non-null   uint8\n 6   agency_NuuRQ2I1Q0a50Kv-AVKlLA  8564 non-null   uint8\n 7   agency_V2AIQQKgmUO3VazvAOA-Cw  8564 non-null   uint8\n 8   agency_jLjibFoim0iwWau4AWoEdQ  8564 non-null   uint8\n 9   agency_pky7jovXYkaw-awAAMrQ3g  8564 non-null   uint8\n 10  agency_zCy9zG00HEqGeKu4AWZYNQ  8564 non-null   uint8\ndtypes: uint8(11)\nmemory usage: 158.9+ KB\n"
     ]
    }
   ],
   "source": [
    "grouped_alert= alert2.groupby(by='surrogate_id').sum()\n",
    "grouped_alert.info()"
   ]
  },
  {
   "cell_type": "code",
   "execution_count": 8,
   "metadata": {},
   "outputs": [
    {
     "output_type": "stream",
     "name": "stdout",
     "text": [
      "<class 'pandas.core.frame.DataFrame'>\nRangeIndex: 8564 entries, 0 to 8563\nData columns (total 10 columns):\n #   Column                      Non-Null Count  Dtype              \n---  ------                      --------------  -----              \n 0   document_id                 8564 non-null   object             \n 1   surrogate_id                8564 non-null   object             \n 2   created_at                  8564 non-null   datetime64[ns, UTC]\n 3   published_at                8522 non-null   datetime64[ns, UTC]\n 4   closed_at                   8511 non-null   datetime64[ns, UTC]\n 5   cause                       8564 non-null   object             \n 6   effect                      8564 non-null   object             \n 7   description                 8564 non-null   object             \n 8   is_global                   8564 non-null   object             \n 9   area_of_effect_coordinates  8564 non-null   object             \ndtypes: datetime64[ns, UTC](3), object(7)\nmemory usage: 669.2+ KB\n"
     ]
    }
   ],
   "source": [
    "alert_df.drop(['agency'], axis=1, inplace=True)\n",
    "alert_df.drop_duplicates(subset='surrogate_id',inplace=True,ignore_index=True)\n",
    "alert_df.info()"
   ]
  },
  {
   "cell_type": "code",
   "execution_count": 9,
   "metadata": {},
   "outputs": [
    {
     "output_type": "execute_result",
     "data": {
      "text/plain": [
       "               document_id            surrogate_id                created_at  \\\n",
       "0     -MUH7_dRaJMkhnxY9bHs  0BBrcVJ26xGCgpvcY4zoVw 2021-02-24 03:43:22+00:00   \n",
       "1     -MX9U6P85DXAwGIaDsgi  kIdXsXOS6xGH7OsWJh6kOw 2021-03-31 22:51:55+00:00   \n",
       "2     -MafIvkWquSi6Yl2vmQd  EAkm7oW-6xGbNxdbuCW7Sw 2021-05-27 00:53:20+00:00   \n",
       "3     -MTwedXSvSQh9zB_GDfy  4Ntq2wtz6xGYvBd6hIEVJg 2021-02-19 23:40:32+00:00   \n",
       "4     -M_1F3Xk4qFNXRvDyGd_  AJuYAn6u6xGNPhm2SVXXLA 2021-05-06 15:16:19+00:00   \n",
       "...                    ...                     ...                       ...   \n",
       "8559  -MZZdjyfbnztCccgqoa1  sEfkzvmp6xG9Us96D1NGhQ 2021-04-30 21:19:54+00:00   \n",
       "8560  -MZor-DYgDMER9B2NtGD  QHbP5XKs6xGbFYutnY_XdQ 2021-05-04 00:51:44+00:00   \n",
       "8561  -MWizRKZ_YIPcMWzaqMP  QNJvrEGO6xGgXg3PRUP4fg 2021-03-26 14:43:48+00:00   \n",
       "8562  -MS3yFJ5NoOacwMyGxSs  kO_VUshg6xGXlUHhke6ddw 2021-01-27 17:51:46+00:00   \n",
       "8563  -Md1ulS_9uAaVNQEkBLN  UBnDEqjV6xGNWi2nI8j1Cg 2021-06-25 11:25:41+00:00   \n",
       "\n",
       "                  published_at                 closed_at               cause  \\\n",
       "0    2021-02-24 03:58:39+00:00 2021-02-24 04:21:00+00:00                Fire   \n",
       "1    2021-03-31 22:54:19+00:00 2021-04-01 00:01:01+00:00                Fire   \n",
       "2    2021-05-27 00:53:24+00:00 2021-05-27 01:45:01+00:00                Fire   \n",
       "3    2021-02-19 23:40:39+00:00 2021-02-20 00:23:00+00:00                Fire   \n",
       "4    2021-05-06 15:16:39+00:00 2021-05-06 16:11:01+00:00                Fire   \n",
       "...                        ...                       ...                 ...   \n",
       "8559 2021-04-30 21:32:24+00:00 2021-04-30 22:14:00+00:00  BrokenTrafficLight   \n",
       "8560 2021-05-04 00:52:21+00:00 2021-05-04 01:45:01+00:00  BrokenTrafficLight   \n",
       "8561 2021-03-26 14:44:15+00:00 2021-03-26 16:01:01+00:00  BrokenTrafficLight   \n",
       "8562 2021-01-27 17:51:51+00:00 2021-01-27 19:01:00+00:00  BrokenTrafficLight   \n",
       "8563 2021-06-25 11:25:49+00:00 2021-06-25 12:01:01+00:00  BrokenTrafficLight   \n",
       "\n",
       "             effect                                        description  \\\n",
       "0            Delays  🔥 Considera retrasos por servicios de emergenc...   \n",
       "1     TrafficImpact  🔥 ¡Anticípate! Afectación vial por servicios d...   \n",
       "2            Delays  🔥 ¡Anticípate! Retrasos por incendio en Avenid...   \n",
       "3            Delays  ⏳ Toma en cuenta servicios de emergencia atend...   \n",
       "4            Delays  ⏳ ¡Que no te agarre en curva! Hay retrasos por...   \n",
       "...             ...                                                ...   \n",
       "8559  TrafficImpact  🚦 ¡Oh que la! Afectación vial por semáforos de...   \n",
       "8560  TrafficImpact  🚦 ¡Nos lleva el chanfle! Afectación vial por s...   \n",
       "8561  TrafficImpact  ⏳ ¡No te esponjes! Hay retrasos por semáforos ...   \n",
       "8562         Delays  ⏳ ¡Chin! Hay retrasos por semáforos descompues...   \n",
       "8563         Delays  ⏳🚦 ¡Chin! Retrasos por semáforos descompuestos...   \n",
       "\n",
       "     is_global                         area_of_effect_coordinates  ...  \\\n",
       "0        false  [{'latitude': -99.13399344738725, 'longitude':...  ...   \n",
       "1        false  [{'latitude': -99.13838681335923, 'longitude':...  ...   \n",
       "2        false  [{'latitude': -99.16168964039319, 'longitude':...  ...   \n",
       "3        false  [{'latitude': -99.16983985780149, 'longitude':...  ...   \n",
       "4        false  [{'latitude': -99.16576423569903, 'longitude':...  ...   \n",
       "...        ...                                                ...  ...   \n",
       "8559     false  [{'latitude': -99.15358161404815, 'longitude':...  ...   \n",
       "8560     false  [{'latitude': -99.11364770788302, 'longitude':...  ...   \n",
       "8561     false  [{'latitude': -98.96204243026706, 'longitude':...  ...   \n",
       "8562     false  [{'latitude': -99.17786568559703, 'longitude':...  ...   \n",
       "8563     false  [{'latitude': -99.15550577331345, 'longitude':...  ...   \n",
       "\n",
       "      agency_GtvOEQAFZ0GtU6u4AXwvPg  agency_HE59N3RXM0q5vKu4AXlQZg  \\\n",
       "0                                 1                              0   \n",
       "1                                 1                              0   \n",
       "2                                 1                              0   \n",
       "3                                 1                              0   \n",
       "4                                 1                              0   \n",
       "...                             ...                            ...   \n",
       "8559                              0                              0   \n",
       "8560                              0                              0   \n",
       "8561                              0                              0   \n",
       "8562                              0                              0   \n",
       "8563                              0                              0   \n",
       "\n",
       "      agency_JUR9bFXmVkWDHqu4AXaY0g  agency_JfA8Bw8Zp024Kqu4AXiSpQ  \\\n",
       "0                                 0                              1   \n",
       "1                                 0                              0   \n",
       "2                                 0                              0   \n",
       "3                                 0                              0   \n",
       "4                                 0                              0   \n",
       "...                             ...                            ...   \n",
       "8559                              0                              0   \n",
       "8560                              0                              0   \n",
       "8561                              0                              0   \n",
       "8562                              0                              0   \n",
       "8563                              0                              0   \n",
       "\n",
       "      agency_MgUq5b9mOEunx6u4AXt_BA  agency_NuuRQ2I1Q0a50Kv-AVKlLA  \\\n",
       "0                                 0                              0   \n",
       "1                                 0                              1   \n",
       "2                                 0                              1   \n",
       "3                                 0                              0   \n",
       "4                                 0                              0   \n",
       "...                             ...                            ...   \n",
       "8559                              0                              0   \n",
       "8560                              0                              0   \n",
       "8561                              0                              0   \n",
       "8562                              0                              0   \n",
       "8563                              0                              0   \n",
       "\n",
       "      agency_V2AIQQKgmUO3VazvAOA-Cw  agency_jLjibFoim0iwWau4AWoEdQ  \\\n",
       "0                                 0                              0   \n",
       "1                                 0                              0   \n",
       "2                                 0                              0   \n",
       "3                                 0                              0   \n",
       "4                                 0                              0   \n",
       "...                             ...                            ...   \n",
       "8559                              0                              0   \n",
       "8560                              0                              0   \n",
       "8561                              0                              0   \n",
       "8562                              0                              0   \n",
       "8563                              0                              0   \n",
       "\n",
       "      agency_pky7jovXYkaw-awAAMrQ3g  agency_zCy9zG00HEqGeKu4AWZYNQ  \n",
       "0                                 0                              0  \n",
       "1                                 0                              1  \n",
       "2                                 0                              1  \n",
       "3                                 0                              1  \n",
       "4                                 0                              1  \n",
       "...                             ...                            ...  \n",
       "8559                              0                              1  \n",
       "8560                              0                              1  \n",
       "8561                              0                              1  \n",
       "8562                              0                              1  \n",
       "8563                              0                              1  \n",
       "\n",
       "[8564 rows x 21 columns]"
      ],
      "text/html": "<div>\n<style scoped>\n    .dataframe tbody tr th:only-of-type {\n        vertical-align: middle;\n    }\n\n    .dataframe tbody tr th {\n        vertical-align: top;\n    }\n\n    .dataframe thead th {\n        text-align: right;\n    }\n</style>\n<table border=\"1\" class=\"dataframe\">\n  <thead>\n    <tr style=\"text-align: right;\">\n      <th></th>\n      <th>document_id</th>\n      <th>surrogate_id</th>\n      <th>created_at</th>\n      <th>published_at</th>\n      <th>closed_at</th>\n      <th>cause</th>\n      <th>effect</th>\n      <th>description</th>\n      <th>is_global</th>\n      <th>area_of_effect_coordinates</th>\n      <th>...</th>\n      <th>agency_GtvOEQAFZ0GtU6u4AXwvPg</th>\n      <th>agency_HE59N3RXM0q5vKu4AXlQZg</th>\n      <th>agency_JUR9bFXmVkWDHqu4AXaY0g</th>\n      <th>agency_JfA8Bw8Zp024Kqu4AXiSpQ</th>\n      <th>agency_MgUq5b9mOEunx6u4AXt_BA</th>\n      <th>agency_NuuRQ2I1Q0a50Kv-AVKlLA</th>\n      <th>agency_V2AIQQKgmUO3VazvAOA-Cw</th>\n      <th>agency_jLjibFoim0iwWau4AWoEdQ</th>\n      <th>agency_pky7jovXYkaw-awAAMrQ3g</th>\n      <th>agency_zCy9zG00HEqGeKu4AWZYNQ</th>\n    </tr>\n  </thead>\n  <tbody>\n    <tr>\n      <th>0</th>\n      <td>-MUH7_dRaJMkhnxY9bHs</td>\n      <td>0BBrcVJ26xGCgpvcY4zoVw</td>\n      <td>2021-02-24 03:43:22+00:00</td>\n      <td>2021-02-24 03:58:39+00:00</td>\n      <td>2021-02-24 04:21:00+00:00</td>\n      <td>Fire</td>\n      <td>Delays</td>\n      <td>🔥 Considera retrasos por servicios de emergenc...</td>\n      <td>false</td>\n      <td>[{'latitude': -99.13399344738725, 'longitude':...</td>\n      <td>...</td>\n      <td>1</td>\n      <td>0</td>\n      <td>0</td>\n      <td>1</td>\n      <td>0</td>\n      <td>0</td>\n      <td>0</td>\n      <td>0</td>\n      <td>0</td>\n      <td>0</td>\n    </tr>\n    <tr>\n      <th>1</th>\n      <td>-MX9U6P85DXAwGIaDsgi</td>\n      <td>kIdXsXOS6xGH7OsWJh6kOw</td>\n      <td>2021-03-31 22:51:55+00:00</td>\n      <td>2021-03-31 22:54:19+00:00</td>\n      <td>2021-04-01 00:01:01+00:00</td>\n      <td>Fire</td>\n      <td>TrafficImpact</td>\n      <td>🔥 ¡Anticípate! Afectación vial por servicios d...</td>\n      <td>false</td>\n      <td>[{'latitude': -99.13838681335923, 'longitude':...</td>\n      <td>...</td>\n      <td>1</td>\n      <td>0</td>\n      <td>0</td>\n      <td>0</td>\n      <td>0</td>\n      <td>1</td>\n      <td>0</td>\n      <td>0</td>\n      <td>0</td>\n      <td>1</td>\n    </tr>\n    <tr>\n      <th>2</th>\n      <td>-MafIvkWquSi6Yl2vmQd</td>\n      <td>EAkm7oW-6xGbNxdbuCW7Sw</td>\n      <td>2021-05-27 00:53:20+00:00</td>\n      <td>2021-05-27 00:53:24+00:00</td>\n      <td>2021-05-27 01:45:01+00:00</td>\n      <td>Fire</td>\n      <td>Delays</td>\n      <td>🔥 ¡Anticípate! Retrasos por incendio en Avenid...</td>\n      <td>false</td>\n      <td>[{'latitude': -99.16168964039319, 'longitude':...</td>\n      <td>...</td>\n      <td>1</td>\n      <td>0</td>\n      <td>0</td>\n      <td>0</td>\n      <td>0</td>\n      <td>1</td>\n      <td>0</td>\n      <td>0</td>\n      <td>0</td>\n      <td>1</td>\n    </tr>\n    <tr>\n      <th>3</th>\n      <td>-MTwedXSvSQh9zB_GDfy</td>\n      <td>4Ntq2wtz6xGYvBd6hIEVJg</td>\n      <td>2021-02-19 23:40:32+00:00</td>\n      <td>2021-02-19 23:40:39+00:00</td>\n      <td>2021-02-20 00:23:00+00:00</td>\n      <td>Fire</td>\n      <td>Delays</td>\n      <td>⏳ Toma en cuenta servicios de emergencia atend...</td>\n      <td>false</td>\n      <td>[{'latitude': -99.16983985780149, 'longitude':...</td>\n      <td>...</td>\n      <td>1</td>\n      <td>0</td>\n      <td>0</td>\n      <td>0</td>\n      <td>0</td>\n      <td>0</td>\n      <td>0</td>\n      <td>0</td>\n      <td>0</td>\n      <td>1</td>\n    </tr>\n    <tr>\n      <th>4</th>\n      <td>-M_1F3Xk4qFNXRvDyGd_</td>\n      <td>AJuYAn6u6xGNPhm2SVXXLA</td>\n      <td>2021-05-06 15:16:19+00:00</td>\n      <td>2021-05-06 15:16:39+00:00</td>\n      <td>2021-05-06 16:11:01+00:00</td>\n      <td>Fire</td>\n      <td>Delays</td>\n      <td>⏳ ¡Que no te agarre en curva! Hay retrasos por...</td>\n      <td>false</td>\n      <td>[{'latitude': -99.16576423569903, 'longitude':...</td>\n      <td>...</td>\n      <td>1</td>\n      <td>0</td>\n      <td>0</td>\n      <td>0</td>\n      <td>0</td>\n      <td>0</td>\n      <td>0</td>\n      <td>0</td>\n      <td>0</td>\n      <td>1</td>\n    </tr>\n    <tr>\n      <th>...</th>\n      <td>...</td>\n      <td>...</td>\n      <td>...</td>\n      <td>...</td>\n      <td>...</td>\n      <td>...</td>\n      <td>...</td>\n      <td>...</td>\n      <td>...</td>\n      <td>...</td>\n      <td>...</td>\n      <td>...</td>\n      <td>...</td>\n      <td>...</td>\n      <td>...</td>\n      <td>...</td>\n      <td>...</td>\n      <td>...</td>\n      <td>...</td>\n      <td>...</td>\n      <td>...</td>\n    </tr>\n    <tr>\n      <th>8559</th>\n      <td>-MZZdjyfbnztCccgqoa1</td>\n      <td>sEfkzvmp6xG9Us96D1NGhQ</td>\n      <td>2021-04-30 21:19:54+00:00</td>\n      <td>2021-04-30 21:32:24+00:00</td>\n      <td>2021-04-30 22:14:00+00:00</td>\n      <td>BrokenTrafficLight</td>\n      <td>TrafficImpact</td>\n      <td>🚦 ¡Oh que la! Afectación vial por semáforos de...</td>\n      <td>false</td>\n      <td>[{'latitude': -99.15358161404815, 'longitude':...</td>\n      <td>...</td>\n      <td>0</td>\n      <td>0</td>\n      <td>0</td>\n      <td>0</td>\n      <td>0</td>\n      <td>0</td>\n      <td>0</td>\n      <td>0</td>\n      <td>0</td>\n      <td>1</td>\n    </tr>\n    <tr>\n      <th>8560</th>\n      <td>-MZor-DYgDMER9B2NtGD</td>\n      <td>QHbP5XKs6xGbFYutnY_XdQ</td>\n      <td>2021-05-04 00:51:44+00:00</td>\n      <td>2021-05-04 00:52:21+00:00</td>\n      <td>2021-05-04 01:45:01+00:00</td>\n      <td>BrokenTrafficLight</td>\n      <td>TrafficImpact</td>\n      <td>🚦 ¡Nos lleva el chanfle! Afectación vial por s...</td>\n      <td>false</td>\n      <td>[{'latitude': -99.11364770788302, 'longitude':...</td>\n      <td>...</td>\n      <td>0</td>\n      <td>0</td>\n      <td>0</td>\n      <td>0</td>\n      <td>0</td>\n      <td>0</td>\n      <td>0</td>\n      <td>0</td>\n      <td>0</td>\n      <td>1</td>\n    </tr>\n    <tr>\n      <th>8561</th>\n      <td>-MWizRKZ_YIPcMWzaqMP</td>\n      <td>QNJvrEGO6xGgXg3PRUP4fg</td>\n      <td>2021-03-26 14:43:48+00:00</td>\n      <td>2021-03-26 14:44:15+00:00</td>\n      <td>2021-03-26 16:01:01+00:00</td>\n      <td>BrokenTrafficLight</td>\n      <td>TrafficImpact</td>\n      <td>⏳ ¡No te esponjes! Hay retrasos por semáforos ...</td>\n      <td>false</td>\n      <td>[{'latitude': -98.96204243026706, 'longitude':...</td>\n      <td>...</td>\n      <td>0</td>\n      <td>0</td>\n      <td>0</td>\n      <td>0</td>\n      <td>0</td>\n      <td>0</td>\n      <td>0</td>\n      <td>0</td>\n      <td>0</td>\n      <td>1</td>\n    </tr>\n    <tr>\n      <th>8562</th>\n      <td>-MS3yFJ5NoOacwMyGxSs</td>\n      <td>kO_VUshg6xGXlUHhke6ddw</td>\n      <td>2021-01-27 17:51:46+00:00</td>\n      <td>2021-01-27 17:51:51+00:00</td>\n      <td>2021-01-27 19:01:00+00:00</td>\n      <td>BrokenTrafficLight</td>\n      <td>Delays</td>\n      <td>⏳ ¡Chin! Hay retrasos por semáforos descompues...</td>\n      <td>false</td>\n      <td>[{'latitude': -99.17786568559703, 'longitude':...</td>\n      <td>...</td>\n      <td>0</td>\n      <td>0</td>\n      <td>0</td>\n      <td>0</td>\n      <td>0</td>\n      <td>0</td>\n      <td>0</td>\n      <td>0</td>\n      <td>0</td>\n      <td>1</td>\n    </tr>\n    <tr>\n      <th>8563</th>\n      <td>-Md1ulS_9uAaVNQEkBLN</td>\n      <td>UBnDEqjV6xGNWi2nI8j1Cg</td>\n      <td>2021-06-25 11:25:41+00:00</td>\n      <td>2021-06-25 11:25:49+00:00</td>\n      <td>2021-06-25 12:01:01+00:00</td>\n      <td>BrokenTrafficLight</td>\n      <td>Delays</td>\n      <td>⏳🚦 ¡Chin! Retrasos por semáforos descompuestos...</td>\n      <td>false</td>\n      <td>[{'latitude': -99.15550577331345, 'longitude':...</td>\n      <td>...</td>\n      <td>0</td>\n      <td>0</td>\n      <td>0</td>\n      <td>0</td>\n      <td>0</td>\n      <td>0</td>\n      <td>0</td>\n      <td>0</td>\n      <td>0</td>\n      <td>1</td>\n    </tr>\n  </tbody>\n</table>\n<p>8564 rows × 21 columns</p>\n</div>"
     },
     "metadata": {},
     "execution_count": 9
    }
   ],
   "source": [
    "alert_df= pd.merge(alert_df,grouped_alert, on='surrogate_id' )\n",
    "alert_df"
   ]
  },
  {
   "source": [
    "Merging DF"
   ],
   "cell_type": "markdown",
   "metadata": {}
  },
  {
   "cell_type": "code",
   "execution_count": 24,
   "metadata": {},
   "outputs": [
    {
     "output_type": "execute_result",
     "data": {
      "text/plain": [
       "                        day  notification_label_id\n",
       "corazon_surrogate_id                              \n",
       "0A1QcQE76xGgFcekx5UVQw   43                     43\n",
       "0A1RnzNX6xGq3mN3fZHpTQ    1                      1\n",
       "0A1mXq686xGBE1UqCdicFw   12                     12\n",
       "0A1yEQpS6xGuO50uuLA5sA    1                      1\n",
       "0A3No-Ii6xGz49sbt3N9VQ    4                      4\n",
       "...                     ...                    ...\n",
       "wPsC4-t16xG4lBlKTuPaog   14                     14\n",
       "wPxAxXaN6xGtKmWjl4R2HA   14                     14\n",
       "wPxSTpQq6xGqzXE4eMMt0g    6                      6\n",
       "wPyHdK-G6xG2BxtQ7uxANQ    4                      4\n",
       "wPyUx-1W6xGm3_VmQsQ_lQ    4                      4\n",
       "\n",
       "[11287 rows x 2 columns]"
      ],
      "text/html": "<div>\n<style scoped>\n    .dataframe tbody tr th:only-of-type {\n        vertical-align: middle;\n    }\n\n    .dataframe tbody tr th {\n        vertical-align: top;\n    }\n\n    .dataframe thead th {\n        text-align: right;\n    }\n</style>\n<table border=\"1\" class=\"dataframe\">\n  <thead>\n    <tr style=\"text-align: right;\">\n      <th></th>\n      <th>day</th>\n      <th>notification_label_id</th>\n    </tr>\n    <tr>\n      <th>corazon_surrogate_id</th>\n      <th></th>\n      <th></th>\n    </tr>\n  </thead>\n  <tbody>\n    <tr>\n      <th>0A1QcQE76xGgFcekx5UVQw</th>\n      <td>43</td>\n      <td>43</td>\n    </tr>\n    <tr>\n      <th>0A1RnzNX6xGq3mN3fZHpTQ</th>\n      <td>1</td>\n      <td>1</td>\n    </tr>\n    <tr>\n      <th>0A1mXq686xGBE1UqCdicFw</th>\n      <td>12</td>\n      <td>12</td>\n    </tr>\n    <tr>\n      <th>0A1yEQpS6xGuO50uuLA5sA</th>\n      <td>1</td>\n      <td>1</td>\n    </tr>\n    <tr>\n      <th>0A3No-Ii6xGz49sbt3N9VQ</th>\n      <td>4</td>\n      <td>4</td>\n    </tr>\n    <tr>\n      <th>...</th>\n      <td>...</td>\n      <td>...</td>\n    </tr>\n    <tr>\n      <th>wPsC4-t16xG4lBlKTuPaog</th>\n      <td>14</td>\n      <td>14</td>\n    </tr>\n    <tr>\n      <th>wPxAxXaN6xGtKmWjl4R2HA</th>\n      <td>14</td>\n      <td>14</td>\n    </tr>\n    <tr>\n      <th>wPxSTpQq6xGqzXE4eMMt0g</th>\n      <td>6</td>\n      <td>6</td>\n    </tr>\n    <tr>\n      <th>wPyHdK-G6xG2BxtQ7uxANQ</th>\n      <td>4</td>\n      <td>4</td>\n    </tr>\n    <tr>\n      <th>wPyUx-1W6xGm3_VmQsQ_lQ</th>\n      <td>4</td>\n      <td>4</td>\n    </tr>\n  </tbody>\n</table>\n<p>11287 rows × 2 columns</p>\n</div>"
     },
     "metadata": {},
     "execution_count": 24
    }
   ],
   "source": [
    "groupby_corazon= corazon_df.groupby(by=\"corazon_surrogate_id\").count()\n",
    "groupby_corazon"
   ]
  },
  {
   "cell_type": "code",
   "execution_count": null,
   "metadata": {},
   "outputs": [],
   "source": [
    "alert_corazon = pd.merge(alert_df,corazon_df, left_on='surrogate_id', right_on='corazon_surrogate_id', how='left')"
   ]
  },
  {
   "cell_type": "code",
   "execution_count": 11,
   "metadata": {},
   "outputs": [],
   "source": [
    "cause_effect_table= pd.pivot_table(alert_df, index=['cause'], columns='effect',aggfunc='count',fill_value=0,values=\"is_global\", margins=True, margins_name= 'Total')"
   ]
  },
  {
   "cell_type": "code",
   "execution_count": 12,
   "metadata": {},
   "outputs": [
    {
     "output_type": "execute_result",
     "data": {
      "text/plain": [
       "effect                  CirculationRestored  CirculationShutdown  Delays  \\\n",
       "cause                                                                      \n",
       "BrokenTrafficLight   0                    0                    0      23   \n",
       "BrokenVehicle        0                    0                    4     390   \n",
       "COVID19              0                    0                    7       1   \n",
       "Counterflow          0                    0                    0       2   \n",
       "CycleRide            0                    0                    4       3   \n",
       "Demonstration        1                  321                 1896     166   \n",
       "EmergencyServices    2                    1                   20     860   \n",
       "Event                0                    2                    4       0   \n",
       "Explosion            0                    0                    0       0   \n",
       "FallenTree           0                    0                    3      46   \n",
       "Fire                 0                    3                    4      98   \n",
       "Flood                2                    4                    1      24   \n",
       "GasLeak              0                    3                    4      14   \n",
       "HeavyTraffic         0                    1                    0      20   \n",
       "Incident             4                   24                   92     452   \n",
       "Landslide            0                    0                    0       0   \n",
       "Leak                 0                    0                    2      52   \n",
       "Maintenance          0                    1                    3       9   \n",
       "March                0                   12                  202      34   \n",
       "Overturn             0                    0                    1     155   \n",
       "Pilgrimage           0                    0                    0       0   \n",
       "ProtestCamp          0                    0                    2       0   \n",
       "Rain                 0                    5                    0      57   \n",
       "Reopening            0                    4                    0       0   \n",
       "Sinkhole             0                    2                    3       3   \n",
       "StreetWorks          2                    2                  114     104   \n",
       "VehicularAccident    5                    1                   17    5115   \n",
       "Waterlogging         0                    0                    4      57   \n",
       "Total               16                  386                 2387    7685   \n",
       "\n",
       "effect              Evacuation  FullCapacity  HighWaitingTime  InterimService  \\\n",
       "cause                                                                           \n",
       "BrokenTrafficLight           0             0                0               0   \n",
       "BrokenVehicle                0             0                0               0   \n",
       "COVID19                      0             5                0               0   \n",
       "Counterflow                  0             0                0               0   \n",
       "CycleRide                    0             0                0               0   \n",
       "Demonstration                0             0                0              65   \n",
       "EmergencyServices            0             0                0               0   \n",
       "Event                        0             0                0               0   \n",
       "Explosion                    0             0                0               0   \n",
       "FallenTree                   0             0                0               0   \n",
       "Fire                         0             1                2               6   \n",
       "Flood                        0             0                0               4   \n",
       "GasLeak                      0             0                0               1   \n",
       "HeavyTraffic                 0             0                0               0   \n",
       "Incident                     1             0               92              27   \n",
       "Landslide                    0             0                0               0   \n",
       "Leak                         0             0                0               0   \n",
       "Maintenance                  0             0                1               4   \n",
       "March                        0             0                0               3   \n",
       "Overturn                     0             0                0               0   \n",
       "Pilgrimage                   0             0                0               0   \n",
       "ProtestCamp                  0             0                0               0   \n",
       "Rain                         0             0                1               3   \n",
       "Reopening                    0             0                0               0   \n",
       "Sinkhole                     0             0                0               0   \n",
       "StreetWorks                  1             0                0               3   \n",
       "VehicularAccident            0             0                2               0   \n",
       "Waterlogging                 0             0                0               2   \n",
       "Total                        2             6               98             118   \n",
       "\n",
       "effect              LaneReduction  RouteDetour  SecuritySpeed  \\\n",
       "cause                                                           \n",
       "BrokenTrafficLight              2            0              0   \n",
       "BrokenVehicle                  39            0              0   \n",
       "COVID19                         0            0              0   \n",
       "Counterflow                     0            0              0   \n",
       "CycleRide                       0            0              0   \n",
       "Demonstration                  54            5              6   \n",
       "EmergencyServices             208            0              0   \n",
       "Event                           2            0              3   \n",
       "Explosion                       0            0              0   \n",
       "FallenTree                     25            0              0   \n",
       "Fire                           10            0              1   \n",
       "Flood                           1            0              0   \n",
       "GasLeak                         4            0              0   \n",
       "HeavyTraffic                    0            0              8   \n",
       "Incident                        6            0            168   \n",
       "Landslide                       0            0              0   \n",
       "Leak                            9            0              0   \n",
       "Maintenance                     2            0              0   \n",
       "March                           0            0              0   \n",
       "Overturn                       35            0              1   \n",
       "Pilgrimage                      0            0              0   \n",
       "ProtestCamp                     0            0              0   \n",
       "Rain                            0            0             23   \n",
       "Reopening                       0            0              0   \n",
       "Sinkhole                        5            0              0   \n",
       "StreetWorks                    97            2              3   \n",
       "VehicularAccident             284            0              0   \n",
       "Waterlogging                    8            0              0   \n",
       "Total                         791            7            213   \n",
       "\n",
       "effect              SuspensionOfService  TrafficImpact  Total  \n",
       "cause                                                          \n",
       "BrokenTrafficLight                    0             22     47  \n",
       "BrokenVehicle                        12             55    500  \n",
       "COVID19                              18              1     32  \n",
       "Counterflow                           0              2      4  \n",
       "CycleRide                             0             16     23  \n",
       "Demonstration                       251            226   2991  \n",
       "EmergencyServices                     4            253   1348  \n",
       "Event                                 5              0     16  \n",
       "Explosion                             0              1      1  \n",
       "FallenTree                            2             21     97  \n",
       "Fire                                 11             26    162  \n",
       "Flood                                 5             26     67  \n",
       "GasLeak                               2              5     33  \n",
       "HeavyTraffic                          1              3     33  \n",
       "Incident                             62             32    960  \n",
       "Landslide                             0              2      2  \n",
       "Leak                                  0             10     73  \n",
       "Maintenance                          36              5     61  \n",
       "March                                 2            126    379  \n",
       "Overturn                              0             20    212  \n",
       "Pilgrimage                            0              2      2  \n",
       "ProtestCamp                           0              0      2  \n",
       "Rain                                 13              3    105  \n",
       "Reopening                             0              0      4  \n",
       "Sinkhole                              0              0     13  \n",
       "StreetWorks                           1             56    385  \n",
       "VehicularAccident                     0            447   5871  \n",
       "Waterlogging                          0             48    119  \n",
       "Total                               425           1408  13542  "
      ],
      "text/html": "<div>\n<style scoped>\n    .dataframe tbody tr th:only-of-type {\n        vertical-align: middle;\n    }\n\n    .dataframe tbody tr th {\n        vertical-align: top;\n    }\n\n    .dataframe thead th {\n        text-align: right;\n    }\n</style>\n<table border=\"1\" class=\"dataframe\">\n  <thead>\n    <tr style=\"text-align: right;\">\n      <th>effect</th>\n      <th></th>\n      <th>CirculationRestored</th>\n      <th>CirculationShutdown</th>\n      <th>Delays</th>\n      <th>Evacuation</th>\n      <th>FullCapacity</th>\n      <th>HighWaitingTime</th>\n      <th>InterimService</th>\n      <th>LaneReduction</th>\n      <th>RouteDetour</th>\n      <th>SecuritySpeed</th>\n      <th>SuspensionOfService</th>\n      <th>TrafficImpact</th>\n      <th>Total</th>\n    </tr>\n    <tr>\n      <th>cause</th>\n      <th></th>\n      <th></th>\n      <th></th>\n      <th></th>\n      <th></th>\n      <th></th>\n      <th></th>\n      <th></th>\n      <th></th>\n      <th></th>\n      <th></th>\n      <th></th>\n      <th></th>\n      <th></th>\n    </tr>\n  </thead>\n  <tbody>\n    <tr>\n      <th>BrokenTrafficLight</th>\n      <td>0</td>\n      <td>0</td>\n      <td>0</td>\n      <td>23</td>\n      <td>0</td>\n      <td>0</td>\n      <td>0</td>\n      <td>0</td>\n      <td>2</td>\n      <td>0</td>\n      <td>0</td>\n      <td>0</td>\n      <td>22</td>\n      <td>47</td>\n    </tr>\n    <tr>\n      <th>BrokenVehicle</th>\n      <td>0</td>\n      <td>0</td>\n      <td>4</td>\n      <td>390</td>\n      <td>0</td>\n      <td>0</td>\n      <td>0</td>\n      <td>0</td>\n      <td>39</td>\n      <td>0</td>\n      <td>0</td>\n      <td>12</td>\n      <td>55</td>\n      <td>500</td>\n    </tr>\n    <tr>\n      <th>COVID19</th>\n      <td>0</td>\n      <td>0</td>\n      <td>7</td>\n      <td>1</td>\n      <td>0</td>\n      <td>5</td>\n      <td>0</td>\n      <td>0</td>\n      <td>0</td>\n      <td>0</td>\n      <td>0</td>\n      <td>18</td>\n      <td>1</td>\n      <td>32</td>\n    </tr>\n    <tr>\n      <th>Counterflow</th>\n      <td>0</td>\n      <td>0</td>\n      <td>0</td>\n      <td>2</td>\n      <td>0</td>\n      <td>0</td>\n      <td>0</td>\n      <td>0</td>\n      <td>0</td>\n      <td>0</td>\n      <td>0</td>\n      <td>0</td>\n      <td>2</td>\n      <td>4</td>\n    </tr>\n    <tr>\n      <th>CycleRide</th>\n      <td>0</td>\n      <td>0</td>\n      <td>4</td>\n      <td>3</td>\n      <td>0</td>\n      <td>0</td>\n      <td>0</td>\n      <td>0</td>\n      <td>0</td>\n      <td>0</td>\n      <td>0</td>\n      <td>0</td>\n      <td>16</td>\n      <td>23</td>\n    </tr>\n    <tr>\n      <th>Demonstration</th>\n      <td>1</td>\n      <td>321</td>\n      <td>1896</td>\n      <td>166</td>\n      <td>0</td>\n      <td>0</td>\n      <td>0</td>\n      <td>65</td>\n      <td>54</td>\n      <td>5</td>\n      <td>6</td>\n      <td>251</td>\n      <td>226</td>\n      <td>2991</td>\n    </tr>\n    <tr>\n      <th>EmergencyServices</th>\n      <td>2</td>\n      <td>1</td>\n      <td>20</td>\n      <td>860</td>\n      <td>0</td>\n      <td>0</td>\n      <td>0</td>\n      <td>0</td>\n      <td>208</td>\n      <td>0</td>\n      <td>0</td>\n      <td>4</td>\n      <td>253</td>\n      <td>1348</td>\n    </tr>\n    <tr>\n      <th>Event</th>\n      <td>0</td>\n      <td>2</td>\n      <td>4</td>\n      <td>0</td>\n      <td>0</td>\n      <td>0</td>\n      <td>0</td>\n      <td>0</td>\n      <td>2</td>\n      <td>0</td>\n      <td>3</td>\n      <td>5</td>\n      <td>0</td>\n      <td>16</td>\n    </tr>\n    <tr>\n      <th>Explosion</th>\n      <td>0</td>\n      <td>0</td>\n      <td>0</td>\n      <td>0</td>\n      <td>0</td>\n      <td>0</td>\n      <td>0</td>\n      <td>0</td>\n      <td>0</td>\n      <td>0</td>\n      <td>0</td>\n      <td>0</td>\n      <td>1</td>\n      <td>1</td>\n    </tr>\n    <tr>\n      <th>FallenTree</th>\n      <td>0</td>\n      <td>0</td>\n      <td>3</td>\n      <td>46</td>\n      <td>0</td>\n      <td>0</td>\n      <td>0</td>\n      <td>0</td>\n      <td>25</td>\n      <td>0</td>\n      <td>0</td>\n      <td>2</td>\n      <td>21</td>\n      <td>97</td>\n    </tr>\n    <tr>\n      <th>Fire</th>\n      <td>0</td>\n      <td>3</td>\n      <td>4</td>\n      <td>98</td>\n      <td>0</td>\n      <td>1</td>\n      <td>2</td>\n      <td>6</td>\n      <td>10</td>\n      <td>0</td>\n      <td>1</td>\n      <td>11</td>\n      <td>26</td>\n      <td>162</td>\n    </tr>\n    <tr>\n      <th>Flood</th>\n      <td>2</td>\n      <td>4</td>\n      <td>1</td>\n      <td>24</td>\n      <td>0</td>\n      <td>0</td>\n      <td>0</td>\n      <td>4</td>\n      <td>1</td>\n      <td>0</td>\n      <td>0</td>\n      <td>5</td>\n      <td>26</td>\n      <td>67</td>\n    </tr>\n    <tr>\n      <th>GasLeak</th>\n      <td>0</td>\n      <td>3</td>\n      <td>4</td>\n      <td>14</td>\n      <td>0</td>\n      <td>0</td>\n      <td>0</td>\n      <td>1</td>\n      <td>4</td>\n      <td>0</td>\n      <td>0</td>\n      <td>2</td>\n      <td>5</td>\n      <td>33</td>\n    </tr>\n    <tr>\n      <th>HeavyTraffic</th>\n      <td>0</td>\n      <td>1</td>\n      <td>0</td>\n      <td>20</td>\n      <td>0</td>\n      <td>0</td>\n      <td>0</td>\n      <td>0</td>\n      <td>0</td>\n      <td>0</td>\n      <td>8</td>\n      <td>1</td>\n      <td>3</td>\n      <td>33</td>\n    </tr>\n    <tr>\n      <th>Incident</th>\n      <td>4</td>\n      <td>24</td>\n      <td>92</td>\n      <td>452</td>\n      <td>1</td>\n      <td>0</td>\n      <td>92</td>\n      <td>27</td>\n      <td>6</td>\n      <td>0</td>\n      <td>168</td>\n      <td>62</td>\n      <td>32</td>\n      <td>960</td>\n    </tr>\n    <tr>\n      <th>Landslide</th>\n      <td>0</td>\n      <td>0</td>\n      <td>0</td>\n      <td>0</td>\n      <td>0</td>\n      <td>0</td>\n      <td>0</td>\n      <td>0</td>\n      <td>0</td>\n      <td>0</td>\n      <td>0</td>\n      <td>0</td>\n      <td>2</td>\n      <td>2</td>\n    </tr>\n    <tr>\n      <th>Leak</th>\n      <td>0</td>\n      <td>0</td>\n      <td>2</td>\n      <td>52</td>\n      <td>0</td>\n      <td>0</td>\n      <td>0</td>\n      <td>0</td>\n      <td>9</td>\n      <td>0</td>\n      <td>0</td>\n      <td>0</td>\n      <td>10</td>\n      <td>73</td>\n    </tr>\n    <tr>\n      <th>Maintenance</th>\n      <td>0</td>\n      <td>1</td>\n      <td>3</td>\n      <td>9</td>\n      <td>0</td>\n      <td>0</td>\n      <td>1</td>\n      <td>4</td>\n      <td>2</td>\n      <td>0</td>\n      <td>0</td>\n      <td>36</td>\n      <td>5</td>\n      <td>61</td>\n    </tr>\n    <tr>\n      <th>March</th>\n      <td>0</td>\n      <td>12</td>\n      <td>202</td>\n      <td>34</td>\n      <td>0</td>\n      <td>0</td>\n      <td>0</td>\n      <td>3</td>\n      <td>0</td>\n      <td>0</td>\n      <td>0</td>\n      <td>2</td>\n      <td>126</td>\n      <td>379</td>\n    </tr>\n    <tr>\n      <th>Overturn</th>\n      <td>0</td>\n      <td>0</td>\n      <td>1</td>\n      <td>155</td>\n      <td>0</td>\n      <td>0</td>\n      <td>0</td>\n      <td>0</td>\n      <td>35</td>\n      <td>0</td>\n      <td>1</td>\n      <td>0</td>\n      <td>20</td>\n      <td>212</td>\n    </tr>\n    <tr>\n      <th>Pilgrimage</th>\n      <td>0</td>\n      <td>0</td>\n      <td>0</td>\n      <td>0</td>\n      <td>0</td>\n      <td>0</td>\n      <td>0</td>\n      <td>0</td>\n      <td>0</td>\n      <td>0</td>\n      <td>0</td>\n      <td>0</td>\n      <td>2</td>\n      <td>2</td>\n    </tr>\n    <tr>\n      <th>ProtestCamp</th>\n      <td>0</td>\n      <td>0</td>\n      <td>2</td>\n      <td>0</td>\n      <td>0</td>\n      <td>0</td>\n      <td>0</td>\n      <td>0</td>\n      <td>0</td>\n      <td>0</td>\n      <td>0</td>\n      <td>0</td>\n      <td>0</td>\n      <td>2</td>\n    </tr>\n    <tr>\n      <th>Rain</th>\n      <td>0</td>\n      <td>5</td>\n      <td>0</td>\n      <td>57</td>\n      <td>0</td>\n      <td>0</td>\n      <td>1</td>\n      <td>3</td>\n      <td>0</td>\n      <td>0</td>\n      <td>23</td>\n      <td>13</td>\n      <td>3</td>\n      <td>105</td>\n    </tr>\n    <tr>\n      <th>Reopening</th>\n      <td>0</td>\n      <td>4</td>\n      <td>0</td>\n      <td>0</td>\n      <td>0</td>\n      <td>0</td>\n      <td>0</td>\n      <td>0</td>\n      <td>0</td>\n      <td>0</td>\n      <td>0</td>\n      <td>0</td>\n      <td>0</td>\n      <td>4</td>\n    </tr>\n    <tr>\n      <th>Sinkhole</th>\n      <td>0</td>\n      <td>2</td>\n      <td>3</td>\n      <td>3</td>\n      <td>0</td>\n      <td>0</td>\n      <td>0</td>\n      <td>0</td>\n      <td>5</td>\n      <td>0</td>\n      <td>0</td>\n      <td>0</td>\n      <td>0</td>\n      <td>13</td>\n    </tr>\n    <tr>\n      <th>StreetWorks</th>\n      <td>2</td>\n      <td>2</td>\n      <td>114</td>\n      <td>104</td>\n      <td>1</td>\n      <td>0</td>\n      <td>0</td>\n      <td>3</td>\n      <td>97</td>\n      <td>2</td>\n      <td>3</td>\n      <td>1</td>\n      <td>56</td>\n      <td>385</td>\n    </tr>\n    <tr>\n      <th>VehicularAccident</th>\n      <td>5</td>\n      <td>1</td>\n      <td>17</td>\n      <td>5115</td>\n      <td>0</td>\n      <td>0</td>\n      <td>2</td>\n      <td>0</td>\n      <td>284</td>\n      <td>0</td>\n      <td>0</td>\n      <td>0</td>\n      <td>447</td>\n      <td>5871</td>\n    </tr>\n    <tr>\n      <th>Waterlogging</th>\n      <td>0</td>\n      <td>0</td>\n      <td>4</td>\n      <td>57</td>\n      <td>0</td>\n      <td>0</td>\n      <td>0</td>\n      <td>2</td>\n      <td>8</td>\n      <td>0</td>\n      <td>0</td>\n      <td>0</td>\n      <td>48</td>\n      <td>119</td>\n    </tr>\n    <tr>\n      <th>Total</th>\n      <td>16</td>\n      <td>386</td>\n      <td>2387</td>\n      <td>7685</td>\n      <td>2</td>\n      <td>6</td>\n      <td>98</td>\n      <td>118</td>\n      <td>791</td>\n      <td>7</td>\n      <td>213</td>\n      <td>425</td>\n      <td>1408</td>\n      <td>13542</td>\n    </tr>\n  </tbody>\n</table>\n</div>"
     },
     "metadata": {},
     "execution_count": 12
    }
   ],
   "source": [
    "cause_effect_table"
   ]
  },
  {
   "cell_type": "code",
   "execution_count": 107,
   "metadata": {},
   "outputs": [],
   "source": [
    "#!pip3 install transformers --no-input"
   ]
  },
  {
   "source": [
    "from transformers import pipeline\n",
    "\n",
    "nlp_pos_syntax = pipeline(\n",
    "    \"ner\",\n",
    "    model=\"mrm8488/bert-spanish-cased-finetuned-pos-syntax\",\n",
    "    tokenizer=\"mrm8488/bert-spanish-cased-finetuned-pos-syntax\"\n",
    ")\n",
    "\n",
    "text = 'Considera retrasos por servicios de emergencia atendiendo incendio en Mesones y Av. 20 de Noviembre.'\n",
    "\n",
    "nlp_pos_syntax(text)[1:len(nlp_pos_syntax(text))-1]"
   ],
   "cell_type": "markdown",
   "metadata": {}
  },
  {
   "source": [
    "Dropping the rows that contain source in join_field"
   ],
   "cell_type": "markdown",
   "metadata": {}
  },
  {
   "cell_type": "code",
   "execution_count": 13,
   "metadata": {},
   "outputs": [
    {
     "output_type": "execute_result",
     "data": {
      "text/plain": [
       "label      2203067\n",
       "source       38591\n",
       "alertId      36493\n",
       "Name: join_field, dtype: int64"
      ]
     },
     "metadata": {},
     "execution_count": 13
    }
   ],
   "source": [
    "notification_df[\"join_field\"].value_counts()"
   ]
  },
  {
   "cell_type": "code",
   "execution_count": 14,
   "metadata": {},
   "outputs": [],
   "source": [
    "source_purge= notification_df[(notification_df[\"join_field\"]==\"source\")].index\n",
    "notification_df.drop(source_purge, axis=0, inplace=True)"
   ]
  },
  {
   "source": [
    "Fixing the event_name column:"
   ],
   "cell_type": "markdown",
   "metadata": {}
  },
  {
   "cell_type": "code",
   "execution_count": 15,
   "metadata": {},
   "outputs": [],
   "source": [
    "notification_df[\"event_name\"].replace(\"notification_receive\",\"notification_received\", inplace=True)"
   ]
  },
  {
   "cell_type": "code",
   "execution_count": 16,
   "metadata": {},
   "outputs": [],
   "source": [
    "notification_df[\"event_name\"].replace(\"notification_open\",\"notification_opened\", inplace=True)"
   ]
  },
  {
   "cell_type": "code",
   "execution_count": 17,
   "metadata": {},
   "outputs": [],
   "source": [
    "merged_df= pd.merge(notification_df, alert_df, left_on=\"join_key_value\", right_on=\"document_id\", how=\"outer\")"
   ]
  },
  {
   "cell_type": "code",
   "execution_count": 18,
   "metadata": {},
   "outputs": [
    {
     "output_type": "stream",
     "name": "stdout",
     "text": [
      "(2239560, 6)\n(13542, 11)\n(2305578, 17)\n"
     ]
    }
   ],
   "source": [
    "print (notification_df.shape)\n",
    "print (alert_df.shape)\n",
    "print (merged_df.shape)"
   ]
  },
  {
   "cell_type": "code",
   "execution_count": 19,
   "metadata": {},
   "outputs": [
    {
     "output_type": "execute_result",
     "data": {
      "text/plain": [
       "                            day    corazon_surrogate_id  \\\n",
       "0       2020-12-11 06:00:00 UTC  ILXZRxI86xGr4sWpUpBiwQ   \n",
       "1       2020-12-12 06:00:00 UTC  QPvDTqE86xGB18lnrjsyMg   \n",
       "2       2020-11-05 06:00:00 UTC  MIp_iZQf6xGvT1FRo8mp4A   \n",
       "3       2020-11-05 06:00:00 UTC  cBvxJowf6xGvT1FRo8mp4A   \n",
       "4       2020-11-05 06:00:00 UTC  kAsi5GAf6xGGvGubJnOcaQ   \n",
       "...                         ...                     ...   \n",
       "166614  2021-02-17 06:00:00 UTC  UMzK_DBx6xG3U-XjxJ_HhA   \n",
       "166615  2021-02-17 06:00:00 UTC  UMzK_DBx6xG3U-XjxJ_HhA   \n",
       "166616  2021-02-17 06:00:00 UTC  UMzK_DBx6xG3U-XjxJ_HhA   \n",
       "166617  2021-02-17 06:00:00 UTC  8J0ZPTBx6xG3U-XjxJ_HhA   \n",
       "166618  2021-02-17 06:00:00 UTC  8J0ZPTBx6xG3U-XjxJ_HhA   \n",
       "\n",
       "         notification_label_id  \n",
       "0       FAQZVhI86xGr4sWpUpBiwQ  \n",
       "1       cfxfVKE86xGB18lnrjsyMg  \n",
       "2       1P2GjJQf6xGvT1FRo8mp4A  \n",
       "3       Q1JpKowf6xGvT1FRo8mp4A  \n",
       "4       sFRt6WAf6xGGvGubJnOcaQ  \n",
       "...                        ...  \n",
       "166614  23k4BzFx6xG3U-XjxJ_HhA  \n",
       "166615  5KA4BzFx6xG3U-XjxJ_HhA  \n",
       "166616  8Hk4BzFx6xG3U-XjxJ_HhA  \n",
       "166617  siVCSjBx6xG3U-XjxJ_HhA  \n",
       "166618  x0xCSjBx6xG3U-XjxJ_HhA  \n",
       "\n",
       "[166619 rows x 3 columns]"
      ],
      "text/html": "<div>\n<style scoped>\n    .dataframe tbody tr th:only-of-type {\n        vertical-align: middle;\n    }\n\n    .dataframe tbody tr th {\n        vertical-align: top;\n    }\n\n    .dataframe thead th {\n        text-align: right;\n    }\n</style>\n<table border=\"1\" class=\"dataframe\">\n  <thead>\n    <tr style=\"text-align: right;\">\n      <th></th>\n      <th>day</th>\n      <th>corazon_surrogate_id</th>\n      <th>notification_label_id</th>\n    </tr>\n  </thead>\n  <tbody>\n    <tr>\n      <th>0</th>\n      <td>2020-12-11 06:00:00 UTC</td>\n      <td>ILXZRxI86xGr4sWpUpBiwQ</td>\n      <td>FAQZVhI86xGr4sWpUpBiwQ</td>\n    </tr>\n    <tr>\n      <th>1</th>\n      <td>2020-12-12 06:00:00 UTC</td>\n      <td>QPvDTqE86xGB18lnrjsyMg</td>\n      <td>cfxfVKE86xGB18lnrjsyMg</td>\n    </tr>\n    <tr>\n      <th>2</th>\n      <td>2020-11-05 06:00:00 UTC</td>\n      <td>MIp_iZQf6xGvT1FRo8mp4A</td>\n      <td>1P2GjJQf6xGvT1FRo8mp4A</td>\n    </tr>\n    <tr>\n      <th>3</th>\n      <td>2020-11-05 06:00:00 UTC</td>\n      <td>cBvxJowf6xGvT1FRo8mp4A</td>\n      <td>Q1JpKowf6xGvT1FRo8mp4A</td>\n    </tr>\n    <tr>\n      <th>4</th>\n      <td>2020-11-05 06:00:00 UTC</td>\n      <td>kAsi5GAf6xGGvGubJnOcaQ</td>\n      <td>sFRt6WAf6xGGvGubJnOcaQ</td>\n    </tr>\n    <tr>\n      <th>...</th>\n      <td>...</td>\n      <td>...</td>\n      <td>...</td>\n    </tr>\n    <tr>\n      <th>166614</th>\n      <td>2021-02-17 06:00:00 UTC</td>\n      <td>UMzK_DBx6xG3U-XjxJ_HhA</td>\n      <td>23k4BzFx6xG3U-XjxJ_HhA</td>\n    </tr>\n    <tr>\n      <th>166615</th>\n      <td>2021-02-17 06:00:00 UTC</td>\n      <td>UMzK_DBx6xG3U-XjxJ_HhA</td>\n      <td>5KA4BzFx6xG3U-XjxJ_HhA</td>\n    </tr>\n    <tr>\n      <th>166616</th>\n      <td>2021-02-17 06:00:00 UTC</td>\n      <td>UMzK_DBx6xG3U-XjxJ_HhA</td>\n      <td>8Hk4BzFx6xG3U-XjxJ_HhA</td>\n    </tr>\n    <tr>\n      <th>166617</th>\n      <td>2021-02-17 06:00:00 UTC</td>\n      <td>8J0ZPTBx6xG3U-XjxJ_HhA</td>\n      <td>siVCSjBx6xG3U-XjxJ_HhA</td>\n    </tr>\n    <tr>\n      <th>166618</th>\n      <td>2021-02-17 06:00:00 UTC</td>\n      <td>8J0ZPTBx6xG3U-XjxJ_HhA</td>\n      <td>x0xCSjBx6xG3U-XjxJ_HhA</td>\n    </tr>\n  </tbody>\n</table>\n<p>166619 rows × 3 columns</p>\n</div>"
     },
     "metadata": {},
     "execution_count": 19
    }
   ],
   "source": [
    "corazon_df"
   ]
  },
  {
   "source": [
    "    IMPORTANT COMBO"
   ],
   "cell_type": "markdown",
   "metadata": {}
  },
  {
   "source": [
    "    TESTING SHIT OUT"
   ],
   "cell_type": "markdown",
   "metadata": {}
  },
  {
   "cell_type": "code",
   "execution_count": null,
   "metadata": {},
   "outputs": [],
   "source": [
    "label_merger= notification_df.query(\"join_field == 'label'\")\n",
    "alert_id_merger= notification_df.query(\"join_field == 'alertId'\")\n",
    "merged_df_1= pd.merge(label_merger, alert_df, left_on=\"join_key_value\", right_on=\"document_id\", how=\"outer\")\n",
    "merged_df_2= pd.merge(alert_id_merger, alert_df, left_on=\"join_key_value\", right_on=\"document_id\", how=\"outer\")"
   ]
  },
  {
   "cell_type": "code",
   "execution_count": 25,
   "metadata": {},
   "outputs": [
    {
     "output_type": "execute_result",
     "data": {
      "text/plain": [
       "EP0z1BdU6xGPtZWUFIAO1g    2500\n",
       "0CBmRWBX6xGxF_PRISPY8A    2291\n",
       "MF0z7fFU6xGgIjsMRWjjiw    2189\n",
       "EGUsS-Vy6xGrubm8lL1smw    2104\n",
       "8OTqkB1U6xGPtZWUFIAO1g    2098\n",
       "                          ... \n",
       "UpHzRSe36xGIPLtuPsYQjA       1\n",
       "JjwesB6I6xG1RBe75o5jBw       1\n",
       "Fb4iKP-z6xGe7StYX06yUA       1\n",
       "EWt_e_J86xGgnGcJKC7IPw       1\n",
       "6B5xvRXZ6xGAyyuyVTmASw       1\n",
       "Name: join_key_value, Length: 93103, dtype: int64"
      ]
     },
     "metadata": {},
     "execution_count": 25
    }
   ],
   "source": [
    "notification_df[\"join_key_value\"].value_counts()"
   ]
  },
  {
   "cell_type": "code",
   "execution_count": 24,
   "metadata": {},
   "outputs": [
    {
     "output_type": "execute_result",
     "data": {
      "text/plain": [
       "                 join_key_value    corazon_surrogate_id\n",
       "0          -Maph6wn8GA3SjPIc9HA  ILXZRxI86xGr4sWpUpBiwQ\n",
       "1          -Maq63vqDUxQRawQ_3Au  QPvDTqE86xGB18lnrjsyMg\n",
       "2          -Maq7-D7bhcEaFBU1LDW  MIp_iZQf6xGvT1FRo8mp4A\n",
       "3          -MaqEsbKAqlxGG-RupjR  cBvxJowf6xGvT1FRo8mp4A\n",
       "4          -MasFHCt_lTuNt_x16dH  kAsi5GAf6xGGvGubJnOcaQ\n",
       "...                         ...                     ...\n",
       "2278146  0NbaiCRr6xGFd2035-Gdlw                     NaN\n",
       "2278147  EMDjKLFr6xGRbrsa0gDjhg                     NaN\n",
       "2278148  YE2VDMZr6xGRbrsa0gDjhg                     NaN\n",
       "2278149  YBu-7NVr6xGRbrsa0gDjhg                     NaN\n",
       "2278150  YBIdVepr6xGRbrsa0gDjhg                     NaN\n",
       "\n",
       "[2241863 rows x 2 columns]"
      ],
      "text/html": "<div>\n<style scoped>\n    .dataframe tbody tr th:only-of-type {\n        vertical-align: middle;\n    }\n\n    .dataframe tbody tr th {\n        vertical-align: top;\n    }\n\n    .dataframe thead th {\n        text-align: right;\n    }\n</style>\n<table border=\"1\" class=\"dataframe\">\n  <thead>\n    <tr style=\"text-align: right;\">\n      <th></th>\n      <th>join_key_value</th>\n      <th>corazon_surrogate_id</th>\n    </tr>\n  </thead>\n  <tbody>\n    <tr>\n      <th>0</th>\n      <td>-Maph6wn8GA3SjPIc9HA</td>\n      <td>ILXZRxI86xGr4sWpUpBiwQ</td>\n    </tr>\n    <tr>\n      <th>1</th>\n      <td>-Maq63vqDUxQRawQ_3Au</td>\n      <td>QPvDTqE86xGB18lnrjsyMg</td>\n    </tr>\n    <tr>\n      <th>2</th>\n      <td>-Maq7-D7bhcEaFBU1LDW</td>\n      <td>MIp_iZQf6xGvT1FRo8mp4A</td>\n    </tr>\n    <tr>\n      <th>3</th>\n      <td>-MaqEsbKAqlxGG-RupjR</td>\n      <td>cBvxJowf6xGvT1FRo8mp4A</td>\n    </tr>\n    <tr>\n      <th>4</th>\n      <td>-MasFHCt_lTuNt_x16dH</td>\n      <td>kAsi5GAf6xGGvGubJnOcaQ</td>\n    </tr>\n    <tr>\n      <th>...</th>\n      <td>...</td>\n      <td>...</td>\n    </tr>\n    <tr>\n      <th>2278146</th>\n      <td>0NbaiCRr6xGFd2035-Gdlw</td>\n      <td>NaN</td>\n    </tr>\n    <tr>\n      <th>2278147</th>\n      <td>EMDjKLFr6xGRbrsa0gDjhg</td>\n      <td>NaN</td>\n    </tr>\n    <tr>\n      <th>2278148</th>\n      <td>YE2VDMZr6xGRbrsa0gDjhg</td>\n      <td>NaN</td>\n    </tr>\n    <tr>\n      <th>2278149</th>\n      <td>YBu-7NVr6xGRbrsa0gDjhg</td>\n      <td>NaN</td>\n    </tr>\n    <tr>\n      <th>2278150</th>\n      <td>YBIdVepr6xGRbrsa0gDjhg</td>\n      <td>NaN</td>\n    </tr>\n  </tbody>\n</table>\n<p>2241863 rows × 2 columns</p>\n</div>"
     },
     "metadata": {},
     "execution_count": 24
    }
   ],
   "source": [
    "notification_corazon=pd.concat([notification_df['join_key_value'] , corazon_df['corazon_surrogate_id']], axis =1)\n",
    "\n",
    "notification_corazon"
   ]
  },
  {
   "cell_type": "code",
   "execution_count": null,
   "metadata": {},
   "outputs": [],
   "source": [
    "df1.merge(df2,left_on='col_name1', right_on='col_name2').merge(df3,left_on='col_name1', right_on='col_name3').drop(columns=['col_name2', 'col_name3']).rename(columns={'col_name1':'col_name'})"
   ]
  },
  {
   "cell_type": "code",
   "execution_count": 45,
   "metadata": {},
   "outputs": [
    {
     "output_type": "execute_result",
     "data": {
      "text/plain": [
       "UOaLuRlQ6xGI_zcOLODJsw    5\n",
       "cM3gdRmw6xGzju-Q6nISag    5\n",
       "sKHNmGTI6xGtWduDI3goEA    4\n",
       "EOfffEZf6xGLXO0Oq8naUg    4\n",
       "0GO5yEi06xGz_YW87SnlaA    4\n",
       "                         ..\n",
       "EL2a6yus6xGkSau8R0QT1w    1\n",
       "oGNN0Wmz6xGy9r-REgGi4g    1\n",
       "oB46ZipX6xGq3mN3fZHpTQ    1\n",
       "EPLSl5Bv6xG4mAu7TKompg    1\n",
       "sNtuasG06xGcVefmGOfyKQ    1\n",
       "Name: surrogate_id, Length: 8564, dtype: int64"
      ]
     },
     "metadata": {},
     "execution_count": 45
    }
   ],
   "source": [
    "alert_df['surrogate_id'].value_counts()"
   ]
  },
  {
   "cell_type": "code",
   "execution_count": 44,
   "metadata": {},
   "outputs": [
    {
     "output_type": "execute_result",
     "data": {
      "text/plain": [
       "4I0uv5Zh6xGsJA3WI6GuGA    446\n",
       "AN2aAvJf6xGzZ7VTtgSpyw    381\n",
       "YEr3JDGO6xG9iQECLda_Aw    349\n",
       "UFQNPLyQ6xGpXh-ihbTeHw    309\n",
       "QH-eadBc6xGdn39znfuG8g    309\n",
       "                         ... \n",
       "QMMOFBOs6xGsOFVTreCaAQ      1\n",
       "YAzCi4gv6xG3Y3mJHBxlQA      1\n",
       "8H-QBBRU6xG2XC35Amblxg      1\n",
       "IFLxqOpm6xGFpE-1PiXznA      1\n",
       "8BEghCaW6xGmFLu1O86fgw      1\n",
       "Name: corazon_surrogate_id, Length: 11287, dtype: int64"
      ]
     },
     "metadata": {},
     "execution_count": 44
    }
   ],
   "source": [
    "corazon_df['corazon_surrogate_id'].value_counts()"
   ]
  },
  {
   "cell_type": "code",
   "execution_count": 118,
   "metadata": {},
   "outputs": [
    {
     "output_type": "execute_result",
     "data": {
      "text/plain": [
       "(166619, 3)"
      ]
     },
     "metadata": {},
     "execution_count": 118
    }
   ],
   "source": [
    "corazon_df.shape"
   ]
  },
  {
   "cell_type": "code",
   "execution_count": 84,
   "metadata": {},
   "outputs": [
    {
     "output_type": "execute_result",
     "data": {
      "text/plain": [
       "False    2113465\n",
       "True      126095\n",
       "Name: join_key_value, dtype: int64"
      ]
     },
     "metadata": {},
     "execution_count": 84
    }
   ],
   "source": [
    "notification_df['join_key_value'].isin(alert_df['document_id']).value_counts()"
   ]
  },
  {
   "cell_type": "code",
   "execution_count": 101,
   "metadata": {},
   "outputs": [
    {
     "output_type": "execute_result",
     "data": {
      "text/plain": [
       "label      2203067\n",
       "alertId      36493\n",
       "Name: join_field, dtype: int64"
      ]
     },
     "metadata": {},
     "execution_count": 101
    }
   ],
   "source": [
    "notification_df['join_field'].value_counts()"
   ]
  },
  {
   "cell_type": "code",
   "execution_count": 87,
   "metadata": {},
   "outputs": [
    {
     "output_type": "execute_result",
     "data": {
      "text/plain": [
       "True     2100518\n",
       "False     139042\n",
       "Name: join_key_value, dtype: int64"
      ]
     },
     "metadata": {},
     "execution_count": 87
    }
   ],
   "source": [
    "notification_df['join_key_value'].isin(corazon_df['notification_label_id']).value_counts()"
   ]
  },
  {
   "cell_type": "code",
   "execution_count": 76,
   "metadata": {},
   "outputs": [
    {
     "output_type": "execute_result",
     "data": {
      "text/plain": [
       "False    2113465\n",
       "True      126095\n",
       "Name: join_key_value, dtype: int64"
      ]
     },
     "metadata": {},
     "execution_count": 76
    }
   ],
   "source": [
    "notification_df['join_key_value'].isin(alert_df['document_id']).value_counts()"
   ]
  },
  {
   "cell_type": "code",
   "execution_count": 77,
   "metadata": {},
   "outputs": [
    {
     "output_type": "execute_result",
     "data": {
      "text/plain": [
       "False    2239560\n",
       "Name: join_key_value, dtype: int64"
      ]
     },
     "metadata": {},
     "execution_count": 77
    }
   ],
   "source": [
    "notification_df['join_key_value'].isin(alert_df['surrogate_id']).value_counts()"
   ]
  },
  {
   "cell_type": "code",
   "execution_count": null,
   "metadata": {},
   "outputs": [],
   "source": [
    "merged_df.head()"
   ]
  },
  {
   "source": [
    "TESTS FROM BEFORE"
   ],
   "cell_type": "markdown",
   "metadata": {}
  },
  {
   "cell_type": "code",
   "execution_count": 66,
   "metadata": {},
   "outputs": [
    {
     "output_type": "execute_result",
     "data": {
      "text/plain": [
       "False    2113465\n",
       "True      126095\n",
       "Name: join_key_value, dtype: int64"
      ]
     },
     "metadata": {},
     "execution_count": 66
    }
   ],
   "source": [
    "#label_merger.where(label_merger[\"join_key_value\"] == alert_df[\"surrogate_id\"],True, False)\n",
    "notification_df['join_key_value'].isin(alert_df['document_id']).value_counts()\n",
    "\n",
    "#dfAns = df1.merge(df2, on = 'id', how = 'outer').merge(df3, on='id', how='outer').fillna(0)"
   ]
  },
  {
   "cell_type": "code",
   "execution_count": 67,
   "metadata": {},
   "outputs": [
    {
     "output_type": "execute_result",
     "data": {
      "text/plain": [
       "False    2239560\n",
       "Name: join_key_value, dtype: int64"
      ]
     },
     "metadata": {},
     "execution_count": 67
    }
   ],
   "source": [
    "notification_df['join_key_value'].isin(alert_df['surrogate_id']).value_counts()"
   ]
  }
 ]
}