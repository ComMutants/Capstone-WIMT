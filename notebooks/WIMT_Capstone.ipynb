{
 "metadata": {
  "language_info": {
   "codemirror_mode": {
    "name": "ipython",
    "version": 3
   },
   "file_extension": ".py",
   "mimetype": "text/x-python",
   "name": "python",
   "nbconvert_exporter": "python",
   "pygments_lexer": "ipython3",
   "version": "3.8.5"
  },
  "orig_nbformat": 4,
  "kernelspec": {
   "name": "python3",
   "display_name": "Python 3.8.5 64-bit ('.venv': venv)"
  },
  "interpreter": {
   "hash": "f7e9aa0a9fe1ceb3c33c5aa0b358d6952771ff9c315b2715a747dc81bd71c7e9"
  }
 },
 "nbformat": 4,
 "nbformat_minor": 2,
 "cells": [
  {
   "cell_type": "code",
   "execution_count": 102,
   "metadata": {},
   "outputs": [],
   "source": [
    "import sys\n",
    "# adding to the path variables the one folder higher (locally, not changing system variables)\n",
    "sys.path.append(\"..\")\n",
    "import pandas as pd\n",
    "import numpy as np\n",
    "import warnings\n",
    "import mlflow\n",
    "from modeling.config import TRACKING_URI, EXPERIMENT_NAME\n",
    "from pandas_profiling import ProfileReport\n",
    "import torch"
   ]
  },
  {
   "cell_type": "code",
   "execution_count": 103,
   "metadata": {},
   "outputs": [],
   "source": [
    "alert_df=pd.read_json(\"/Users/fortes/neuefische/Capstone-WIMT/data/alerts.json\")"
   ]
  },
  {
   "cell_type": "code",
   "execution_count": 104,
   "metadata": {},
   "outputs": [],
   "source": [
    "notification_df=pd.read_json(\"/Users/fortes/neuefische/Capstone-WIMT/data/notifications.json\")"
   ]
  },
  {
   "cell_type": "code",
   "execution_count": 105,
   "metadata": {},
   "outputs": [],
   "source": [
    "corazon_df= pd.read_json(\"/Users/fortes/neuefische/Capstone-WIMT/data/notification-labels-to-alert-surrogate-ids.json\")"
   ]
  },
  {
   "cell_type": "code",
   "execution_count": 106,
   "metadata": {},
   "outputs": [
    {
     "output_type": "execute_result",
     "data": {
      "text/plain": [
       "         event_date   event_timestamp            event_name user_id  \\\n",
       "0          20210529  1622251203899000  notification_receive   283a1   \n",
       "1          20210529  1622257988561000  notification_receive   283a1   \n",
       "2          20210529  1622258235184001  notification_receive   283a1   \n",
       "3          20210529  1622260301025000  notification_receive   283a1   \n",
       "4          20210529  1622293962198000  notification_receive   283a1   \n",
       "...             ...               ...                   ...     ...   \n",
       "2278146    20210210  1612909178334000  notification_receive   fff18   \n",
       "2278147    20210210  1612969431222000  notification_receive   fff18   \n",
       "2278148    20210210  1612978431552000  notification_receive   fff18   \n",
       "2278149    20210210  1612985245425000  notification_receive   fff18   \n",
       "2278150    20210210  1612994120482000  notification_receive   fff18   \n",
       "\n",
       "        join_field          join_key_value  \n",
       "0            label    -Maph6wn8GA3SjPIc9HA  \n",
       "1            label    -Maq63vqDUxQRawQ_3Au  \n",
       "2            label    -Maq7-D7bhcEaFBU1LDW  \n",
       "3            label    -MaqEsbKAqlxGG-RupjR  \n",
       "4            label    -MasFHCt_lTuNt_x16dH  \n",
       "...            ...                     ...  \n",
       "2278146      label  0NbaiCRr6xGFd2035-Gdlw  \n",
       "2278147      label  EMDjKLFr6xGRbrsa0gDjhg  \n",
       "2278148      label  YE2VDMZr6xGRbrsa0gDjhg  \n",
       "2278149      label  YBu-7NVr6xGRbrsa0gDjhg  \n",
       "2278150      label  YBIdVepr6xGRbrsa0gDjhg  \n",
       "\n",
       "[2278151 rows x 6 columns]"
      ],
      "text/html": "<div>\n<style scoped>\n    .dataframe tbody tr th:only-of-type {\n        vertical-align: middle;\n    }\n\n    .dataframe tbody tr th {\n        vertical-align: top;\n    }\n\n    .dataframe thead th {\n        text-align: right;\n    }\n</style>\n<table border=\"1\" class=\"dataframe\">\n  <thead>\n    <tr style=\"text-align: right;\">\n      <th></th>\n      <th>event_date</th>\n      <th>event_timestamp</th>\n      <th>event_name</th>\n      <th>user_id</th>\n      <th>join_field</th>\n      <th>join_key_value</th>\n    </tr>\n  </thead>\n  <tbody>\n    <tr>\n      <th>0</th>\n      <td>20210529</td>\n      <td>1622251203899000</td>\n      <td>notification_receive</td>\n      <td>283a1</td>\n      <td>label</td>\n      <td>-Maph6wn8GA3SjPIc9HA</td>\n    </tr>\n    <tr>\n      <th>1</th>\n      <td>20210529</td>\n      <td>1622257988561000</td>\n      <td>notification_receive</td>\n      <td>283a1</td>\n      <td>label</td>\n      <td>-Maq63vqDUxQRawQ_3Au</td>\n    </tr>\n    <tr>\n      <th>2</th>\n      <td>20210529</td>\n      <td>1622258235184001</td>\n      <td>notification_receive</td>\n      <td>283a1</td>\n      <td>label</td>\n      <td>-Maq7-D7bhcEaFBU1LDW</td>\n    </tr>\n    <tr>\n      <th>3</th>\n      <td>20210529</td>\n      <td>1622260301025000</td>\n      <td>notification_receive</td>\n      <td>283a1</td>\n      <td>label</td>\n      <td>-MaqEsbKAqlxGG-RupjR</td>\n    </tr>\n    <tr>\n      <th>4</th>\n      <td>20210529</td>\n      <td>1622293962198000</td>\n      <td>notification_receive</td>\n      <td>283a1</td>\n      <td>label</td>\n      <td>-MasFHCt_lTuNt_x16dH</td>\n    </tr>\n    <tr>\n      <th>...</th>\n      <td>...</td>\n      <td>...</td>\n      <td>...</td>\n      <td>...</td>\n      <td>...</td>\n      <td>...</td>\n    </tr>\n    <tr>\n      <th>2278146</th>\n      <td>20210210</td>\n      <td>1612909178334000</td>\n      <td>notification_receive</td>\n      <td>fff18</td>\n      <td>label</td>\n      <td>0NbaiCRr6xGFd2035-Gdlw</td>\n    </tr>\n    <tr>\n      <th>2278147</th>\n      <td>20210210</td>\n      <td>1612969431222000</td>\n      <td>notification_receive</td>\n      <td>fff18</td>\n      <td>label</td>\n      <td>EMDjKLFr6xGRbrsa0gDjhg</td>\n    </tr>\n    <tr>\n      <th>2278148</th>\n      <td>20210210</td>\n      <td>1612978431552000</td>\n      <td>notification_receive</td>\n      <td>fff18</td>\n      <td>label</td>\n      <td>YE2VDMZr6xGRbrsa0gDjhg</td>\n    </tr>\n    <tr>\n      <th>2278149</th>\n      <td>20210210</td>\n      <td>1612985245425000</td>\n      <td>notification_receive</td>\n      <td>fff18</td>\n      <td>label</td>\n      <td>YBu-7NVr6xGRbrsa0gDjhg</td>\n    </tr>\n    <tr>\n      <th>2278150</th>\n      <td>20210210</td>\n      <td>1612994120482000</td>\n      <td>notification_receive</td>\n      <td>fff18</td>\n      <td>label</td>\n      <td>YBIdVepr6xGRbrsa0gDjhg</td>\n    </tr>\n  </tbody>\n</table>\n<p>2278151 rows × 6 columns</p>\n</div>"
     },
     "metadata": {},
     "execution_count": 106
    }
   ],
   "source": [
    "notification_df"
   ]
  },
  {
   "cell_type": "code",
   "execution_count": 107,
   "metadata": {},
   "outputs": [],
   "source": [
    "#!pip3 install transformers --no-input"
   ]
  },
  {
   "source": [
    "from transformers import pipeline\n",
    "\n",
    "nlp_pos_syntax = pipeline(\n",
    "    \"ner\",\n",
    "    model=\"mrm8488/bert-spanish-cased-finetuned-pos-syntax\",\n",
    "    tokenizer=\"mrm8488/bert-spanish-cased-finetuned-pos-syntax\"\n",
    ")\n",
    "\n",
    "text = 'Considera retrasos por servicios de emergencia atendiendo incendio en Mesones y Av. 20 de Noviembre.'\n",
    "\n",
    "nlp_pos_syntax(text)[1:len(nlp_pos_syntax(text))-1]"
   ],
   "cell_type": "markdown",
   "metadata": {}
  },
  {
   "cell_type": "code",
   "execution_count": 108,
   "metadata": {},
   "outputs": [],
   "source": [
    "cause_effect_table= pd.pivot_table(alert_df, index=['cause'], columns='effect',aggfunc='count',fill_value=0,values=\"is_global\", margins=True, margins_name= 'Total')"
   ]
  },
  {
   "cell_type": "code",
   "execution_count": 109,
   "metadata": {},
   "outputs": [
    {
     "output_type": "execute_result",
     "data": {
      "text/plain": [
       "effect                  CirculationRestored  CirculationShutdown  Delays  \\\n",
       "cause                                                                      \n",
       "BrokenTrafficLight   0                    0                    0      23   \n",
       "BrokenVehicle        0                    0                    4     390   \n",
       "COVID19              0                    0                    7       1   \n",
       "Counterflow          0                    0                    0       2   \n",
       "CycleRide            0                    0                    4       3   \n",
       "Demonstration        1                  321                 1896     166   \n",
       "EmergencyServices    2                    1                   20     860   \n",
       "Event                0                    2                    4       0   \n",
       "Explosion            0                    0                    0       0   \n",
       "FallenTree           0                    0                    3      46   \n",
       "Fire                 0                    3                    4      98   \n",
       "Flood                2                    4                    1      24   \n",
       "GasLeak              0                    3                    4      14   \n",
       "HeavyTraffic         0                    1                    0      20   \n",
       "Incident             4                   24                   92     452   \n",
       "Landslide            0                    0                    0       0   \n",
       "Leak                 0                    0                    2      52   \n",
       "Maintenance          0                    1                    3       9   \n",
       "March                0                   12                  202      34   \n",
       "Overturn             0                    0                    1     155   \n",
       "Pilgrimage           0                    0                    0       0   \n",
       "ProtestCamp          0                    0                    2       0   \n",
       "Rain                 0                    5                    0      57   \n",
       "Reopening            0                    4                    0       0   \n",
       "Sinkhole             0                    2                    3       3   \n",
       "StreetWorks          2                    2                  114     104   \n",
       "VehicularAccident    5                    1                   17    5115   \n",
       "Waterlogging         0                    0                    4      57   \n",
       "Total               16                  386                 2387    7685   \n",
       "\n",
       "effect              Evacuation  FullCapacity  HighWaitingTime  InterimService  \\\n",
       "cause                                                                           \n",
       "BrokenTrafficLight           0             0                0               0   \n",
       "BrokenVehicle                0             0                0               0   \n",
       "COVID19                      0             5                0               0   \n",
       "Counterflow                  0             0                0               0   \n",
       "CycleRide                    0             0                0               0   \n",
       "Demonstration                0             0                0              65   \n",
       "EmergencyServices            0             0                0               0   \n",
       "Event                        0             0                0               0   \n",
       "Explosion                    0             0                0               0   \n",
       "FallenTree                   0             0                0               0   \n",
       "Fire                         0             1                2               6   \n",
       "Flood                        0             0                0               4   \n",
       "GasLeak                      0             0                0               1   \n",
       "HeavyTraffic                 0             0                0               0   \n",
       "Incident                     1             0               92              27   \n",
       "Landslide                    0             0                0               0   \n",
       "Leak                         0             0                0               0   \n",
       "Maintenance                  0             0                1               4   \n",
       "March                        0             0                0               3   \n",
       "Overturn                     0             0                0               0   \n",
       "Pilgrimage                   0             0                0               0   \n",
       "ProtestCamp                  0             0                0               0   \n",
       "Rain                         0             0                1               3   \n",
       "Reopening                    0             0                0               0   \n",
       "Sinkhole                     0             0                0               0   \n",
       "StreetWorks                  1             0                0               3   \n",
       "VehicularAccident            0             0                2               0   \n",
       "Waterlogging                 0             0                0               2   \n",
       "Total                        2             6               98             118   \n",
       "\n",
       "effect              LaneReduction  RouteDetour  SecuritySpeed  \\\n",
       "cause                                                           \n",
       "BrokenTrafficLight              2            0              0   \n",
       "BrokenVehicle                  39            0              0   \n",
       "COVID19                         0            0              0   \n",
       "Counterflow                     0            0              0   \n",
       "CycleRide                       0            0              0   \n",
       "Demonstration                  54            5              6   \n",
       "EmergencyServices             208            0              0   \n",
       "Event                           2            0              3   \n",
       "Explosion                       0            0              0   \n",
       "FallenTree                     25            0              0   \n",
       "Fire                           10            0              1   \n",
       "Flood                           1            0              0   \n",
       "GasLeak                         4            0              0   \n",
       "HeavyTraffic                    0            0              8   \n",
       "Incident                        6            0            168   \n",
       "Landslide                       0            0              0   \n",
       "Leak                            9            0              0   \n",
       "Maintenance                     2            0              0   \n",
       "March                           0            0              0   \n",
       "Overturn                       35            0              1   \n",
       "Pilgrimage                      0            0              0   \n",
       "ProtestCamp                     0            0              0   \n",
       "Rain                            0            0             23   \n",
       "Reopening                       0            0              0   \n",
       "Sinkhole                        5            0              0   \n",
       "StreetWorks                    97            2              3   \n",
       "VehicularAccident             284            0              0   \n",
       "Waterlogging                    8            0              0   \n",
       "Total                         791            7            213   \n",
       "\n",
       "effect              SuspensionOfService  TrafficImpact  Total  \n",
       "cause                                                          \n",
       "BrokenTrafficLight                    0             22     47  \n",
       "BrokenVehicle                        12             55    500  \n",
       "COVID19                              18              1     32  \n",
       "Counterflow                           0              2      4  \n",
       "CycleRide                             0             16     23  \n",
       "Demonstration                       251            226   2991  \n",
       "EmergencyServices                     4            253   1348  \n",
       "Event                                 5              0     16  \n",
       "Explosion                             0              1      1  \n",
       "FallenTree                            2             21     97  \n",
       "Fire                                 11             26    162  \n",
       "Flood                                 5             26     67  \n",
       "GasLeak                               2              5     33  \n",
       "HeavyTraffic                          1              3     33  \n",
       "Incident                             62             32    960  \n",
       "Landslide                             0              2      2  \n",
       "Leak                                  0             10     73  \n",
       "Maintenance                          36              5     61  \n",
       "March                                 2            126    379  \n",
       "Overturn                              0             20    212  \n",
       "Pilgrimage                            0              2      2  \n",
       "ProtestCamp                           0              0      2  \n",
       "Rain                                 13              3    105  \n",
       "Reopening                             0              0      4  \n",
       "Sinkhole                              0              0     13  \n",
       "StreetWorks                           1             56    385  \n",
       "VehicularAccident                     0            447   5871  \n",
       "Waterlogging                          0             48    119  \n",
       "Total                               425           1408  13542  "
      ],
      "text/html": "<div>\n<style scoped>\n    .dataframe tbody tr th:only-of-type {\n        vertical-align: middle;\n    }\n\n    .dataframe tbody tr th {\n        vertical-align: top;\n    }\n\n    .dataframe thead th {\n        text-align: right;\n    }\n</style>\n<table border=\"1\" class=\"dataframe\">\n  <thead>\n    <tr style=\"text-align: right;\">\n      <th>effect</th>\n      <th></th>\n      <th>CirculationRestored</th>\n      <th>CirculationShutdown</th>\n      <th>Delays</th>\n      <th>Evacuation</th>\n      <th>FullCapacity</th>\n      <th>HighWaitingTime</th>\n      <th>InterimService</th>\n      <th>LaneReduction</th>\n      <th>RouteDetour</th>\n      <th>SecuritySpeed</th>\n      <th>SuspensionOfService</th>\n      <th>TrafficImpact</th>\n      <th>Total</th>\n    </tr>\n    <tr>\n      <th>cause</th>\n      <th></th>\n      <th></th>\n      <th></th>\n      <th></th>\n      <th></th>\n      <th></th>\n      <th></th>\n      <th></th>\n      <th></th>\n      <th></th>\n      <th></th>\n      <th></th>\n      <th></th>\n      <th></th>\n    </tr>\n  </thead>\n  <tbody>\n    <tr>\n      <th>BrokenTrafficLight</th>\n      <td>0</td>\n      <td>0</td>\n      <td>0</td>\n      <td>23</td>\n      <td>0</td>\n      <td>0</td>\n      <td>0</td>\n      <td>0</td>\n      <td>2</td>\n      <td>0</td>\n      <td>0</td>\n      <td>0</td>\n      <td>22</td>\n      <td>47</td>\n    </tr>\n    <tr>\n      <th>BrokenVehicle</th>\n      <td>0</td>\n      <td>0</td>\n      <td>4</td>\n      <td>390</td>\n      <td>0</td>\n      <td>0</td>\n      <td>0</td>\n      <td>0</td>\n      <td>39</td>\n      <td>0</td>\n      <td>0</td>\n      <td>12</td>\n      <td>55</td>\n      <td>500</td>\n    </tr>\n    <tr>\n      <th>COVID19</th>\n      <td>0</td>\n      <td>0</td>\n      <td>7</td>\n      <td>1</td>\n      <td>0</td>\n      <td>5</td>\n      <td>0</td>\n      <td>0</td>\n      <td>0</td>\n      <td>0</td>\n      <td>0</td>\n      <td>18</td>\n      <td>1</td>\n      <td>32</td>\n    </tr>\n    <tr>\n      <th>Counterflow</th>\n      <td>0</td>\n      <td>0</td>\n      <td>0</td>\n      <td>2</td>\n      <td>0</td>\n      <td>0</td>\n      <td>0</td>\n      <td>0</td>\n      <td>0</td>\n      <td>0</td>\n      <td>0</td>\n      <td>0</td>\n      <td>2</td>\n      <td>4</td>\n    </tr>\n    <tr>\n      <th>CycleRide</th>\n      <td>0</td>\n      <td>0</td>\n      <td>4</td>\n      <td>3</td>\n      <td>0</td>\n      <td>0</td>\n      <td>0</td>\n      <td>0</td>\n      <td>0</td>\n      <td>0</td>\n      <td>0</td>\n      <td>0</td>\n      <td>16</td>\n      <td>23</td>\n    </tr>\n    <tr>\n      <th>Demonstration</th>\n      <td>1</td>\n      <td>321</td>\n      <td>1896</td>\n      <td>166</td>\n      <td>0</td>\n      <td>0</td>\n      <td>0</td>\n      <td>65</td>\n      <td>54</td>\n      <td>5</td>\n      <td>6</td>\n      <td>251</td>\n      <td>226</td>\n      <td>2991</td>\n    </tr>\n    <tr>\n      <th>EmergencyServices</th>\n      <td>2</td>\n      <td>1</td>\n      <td>20</td>\n      <td>860</td>\n      <td>0</td>\n      <td>0</td>\n      <td>0</td>\n      <td>0</td>\n      <td>208</td>\n      <td>0</td>\n      <td>0</td>\n      <td>4</td>\n      <td>253</td>\n      <td>1348</td>\n    </tr>\n    <tr>\n      <th>Event</th>\n      <td>0</td>\n      <td>2</td>\n      <td>4</td>\n      <td>0</td>\n      <td>0</td>\n      <td>0</td>\n      <td>0</td>\n      <td>0</td>\n      <td>2</td>\n      <td>0</td>\n      <td>3</td>\n      <td>5</td>\n      <td>0</td>\n      <td>16</td>\n    </tr>\n    <tr>\n      <th>Explosion</th>\n      <td>0</td>\n      <td>0</td>\n      <td>0</td>\n      <td>0</td>\n      <td>0</td>\n      <td>0</td>\n      <td>0</td>\n      <td>0</td>\n      <td>0</td>\n      <td>0</td>\n      <td>0</td>\n      <td>0</td>\n      <td>1</td>\n      <td>1</td>\n    </tr>\n    <tr>\n      <th>FallenTree</th>\n      <td>0</td>\n      <td>0</td>\n      <td>3</td>\n      <td>46</td>\n      <td>0</td>\n      <td>0</td>\n      <td>0</td>\n      <td>0</td>\n      <td>25</td>\n      <td>0</td>\n      <td>0</td>\n      <td>2</td>\n      <td>21</td>\n      <td>97</td>\n    </tr>\n    <tr>\n      <th>Fire</th>\n      <td>0</td>\n      <td>3</td>\n      <td>4</td>\n      <td>98</td>\n      <td>0</td>\n      <td>1</td>\n      <td>2</td>\n      <td>6</td>\n      <td>10</td>\n      <td>0</td>\n      <td>1</td>\n      <td>11</td>\n      <td>26</td>\n      <td>162</td>\n    </tr>\n    <tr>\n      <th>Flood</th>\n      <td>2</td>\n      <td>4</td>\n      <td>1</td>\n      <td>24</td>\n      <td>0</td>\n      <td>0</td>\n      <td>0</td>\n      <td>4</td>\n      <td>1</td>\n      <td>0</td>\n      <td>0</td>\n      <td>5</td>\n      <td>26</td>\n      <td>67</td>\n    </tr>\n    <tr>\n      <th>GasLeak</th>\n      <td>0</td>\n      <td>3</td>\n      <td>4</td>\n      <td>14</td>\n      <td>0</td>\n      <td>0</td>\n      <td>0</td>\n      <td>1</td>\n      <td>4</td>\n      <td>0</td>\n      <td>0</td>\n      <td>2</td>\n      <td>5</td>\n      <td>33</td>\n    </tr>\n    <tr>\n      <th>HeavyTraffic</th>\n      <td>0</td>\n      <td>1</td>\n      <td>0</td>\n      <td>20</td>\n      <td>0</td>\n      <td>0</td>\n      <td>0</td>\n      <td>0</td>\n      <td>0</td>\n      <td>0</td>\n      <td>8</td>\n      <td>1</td>\n      <td>3</td>\n      <td>33</td>\n    </tr>\n    <tr>\n      <th>Incident</th>\n      <td>4</td>\n      <td>24</td>\n      <td>92</td>\n      <td>452</td>\n      <td>1</td>\n      <td>0</td>\n      <td>92</td>\n      <td>27</td>\n      <td>6</td>\n      <td>0</td>\n      <td>168</td>\n      <td>62</td>\n      <td>32</td>\n      <td>960</td>\n    </tr>\n    <tr>\n      <th>Landslide</th>\n      <td>0</td>\n      <td>0</td>\n      <td>0</td>\n      <td>0</td>\n      <td>0</td>\n      <td>0</td>\n      <td>0</td>\n      <td>0</td>\n      <td>0</td>\n      <td>0</td>\n      <td>0</td>\n      <td>0</td>\n      <td>2</td>\n      <td>2</td>\n    </tr>\n    <tr>\n      <th>Leak</th>\n      <td>0</td>\n      <td>0</td>\n      <td>2</td>\n      <td>52</td>\n      <td>0</td>\n      <td>0</td>\n      <td>0</td>\n      <td>0</td>\n      <td>9</td>\n      <td>0</td>\n      <td>0</td>\n      <td>0</td>\n      <td>10</td>\n      <td>73</td>\n    </tr>\n    <tr>\n      <th>Maintenance</th>\n      <td>0</td>\n      <td>1</td>\n      <td>3</td>\n      <td>9</td>\n      <td>0</td>\n      <td>0</td>\n      <td>1</td>\n      <td>4</td>\n      <td>2</td>\n      <td>0</td>\n      <td>0</td>\n      <td>36</td>\n      <td>5</td>\n      <td>61</td>\n    </tr>\n    <tr>\n      <th>March</th>\n      <td>0</td>\n      <td>12</td>\n      <td>202</td>\n      <td>34</td>\n      <td>0</td>\n      <td>0</td>\n      <td>0</td>\n      <td>3</td>\n      <td>0</td>\n      <td>0</td>\n      <td>0</td>\n      <td>2</td>\n      <td>126</td>\n      <td>379</td>\n    </tr>\n    <tr>\n      <th>Overturn</th>\n      <td>0</td>\n      <td>0</td>\n      <td>1</td>\n      <td>155</td>\n      <td>0</td>\n      <td>0</td>\n      <td>0</td>\n      <td>0</td>\n      <td>35</td>\n      <td>0</td>\n      <td>1</td>\n      <td>0</td>\n      <td>20</td>\n      <td>212</td>\n    </tr>\n    <tr>\n      <th>Pilgrimage</th>\n      <td>0</td>\n      <td>0</td>\n      <td>0</td>\n      <td>0</td>\n      <td>0</td>\n      <td>0</td>\n      <td>0</td>\n      <td>0</td>\n      <td>0</td>\n      <td>0</td>\n      <td>0</td>\n      <td>0</td>\n      <td>2</td>\n      <td>2</td>\n    </tr>\n    <tr>\n      <th>ProtestCamp</th>\n      <td>0</td>\n      <td>0</td>\n      <td>2</td>\n      <td>0</td>\n      <td>0</td>\n      <td>0</td>\n      <td>0</td>\n      <td>0</td>\n      <td>0</td>\n      <td>0</td>\n      <td>0</td>\n      <td>0</td>\n      <td>0</td>\n      <td>2</td>\n    </tr>\n    <tr>\n      <th>Rain</th>\n      <td>0</td>\n      <td>5</td>\n      <td>0</td>\n      <td>57</td>\n      <td>0</td>\n      <td>0</td>\n      <td>1</td>\n      <td>3</td>\n      <td>0</td>\n      <td>0</td>\n      <td>23</td>\n      <td>13</td>\n      <td>3</td>\n      <td>105</td>\n    </tr>\n    <tr>\n      <th>Reopening</th>\n      <td>0</td>\n      <td>4</td>\n      <td>0</td>\n      <td>0</td>\n      <td>0</td>\n      <td>0</td>\n      <td>0</td>\n      <td>0</td>\n      <td>0</td>\n      <td>0</td>\n      <td>0</td>\n      <td>0</td>\n      <td>0</td>\n      <td>4</td>\n    </tr>\n    <tr>\n      <th>Sinkhole</th>\n      <td>0</td>\n      <td>2</td>\n      <td>3</td>\n      <td>3</td>\n      <td>0</td>\n      <td>0</td>\n      <td>0</td>\n      <td>0</td>\n      <td>5</td>\n      <td>0</td>\n      <td>0</td>\n      <td>0</td>\n      <td>0</td>\n      <td>13</td>\n    </tr>\n    <tr>\n      <th>StreetWorks</th>\n      <td>2</td>\n      <td>2</td>\n      <td>114</td>\n      <td>104</td>\n      <td>1</td>\n      <td>0</td>\n      <td>0</td>\n      <td>3</td>\n      <td>97</td>\n      <td>2</td>\n      <td>3</td>\n      <td>1</td>\n      <td>56</td>\n      <td>385</td>\n    </tr>\n    <tr>\n      <th>VehicularAccident</th>\n      <td>5</td>\n      <td>1</td>\n      <td>17</td>\n      <td>5115</td>\n      <td>0</td>\n      <td>0</td>\n      <td>2</td>\n      <td>0</td>\n      <td>284</td>\n      <td>0</td>\n      <td>0</td>\n      <td>0</td>\n      <td>447</td>\n      <td>5871</td>\n    </tr>\n    <tr>\n      <th>Waterlogging</th>\n      <td>0</td>\n      <td>0</td>\n      <td>4</td>\n      <td>57</td>\n      <td>0</td>\n      <td>0</td>\n      <td>0</td>\n      <td>2</td>\n      <td>8</td>\n      <td>0</td>\n      <td>0</td>\n      <td>0</td>\n      <td>48</td>\n      <td>119</td>\n    </tr>\n    <tr>\n      <th>Total</th>\n      <td>16</td>\n      <td>386</td>\n      <td>2387</td>\n      <td>7685</td>\n      <td>2</td>\n      <td>6</td>\n      <td>98</td>\n      <td>118</td>\n      <td>791</td>\n      <td>7</td>\n      <td>213</td>\n      <td>425</td>\n      <td>1408</td>\n      <td>13542</td>\n    </tr>\n  </tbody>\n</table>\n</div>"
     },
     "metadata": {},
     "execution_count": 109
    }
   ],
   "source": [
    "cause_effect_table"
   ]
  },
  {
   "source": [
    "Dropping the rows that contain source in join_field"
   ],
   "cell_type": "markdown",
   "metadata": {}
  },
  {
   "cell_type": "code",
   "execution_count": 110,
   "metadata": {},
   "outputs": [
    {
     "output_type": "execute_result",
     "data": {
      "text/plain": [
       "label      2203067\n",
       "source       38591\n",
       "alertId      36493\n",
       "Name: join_field, dtype: int64"
      ]
     },
     "metadata": {},
     "execution_count": 110
    }
   ],
   "source": [
    "notification_df[\"join_field\"].value_counts()"
   ]
  },
  {
   "cell_type": "code",
   "execution_count": 111,
   "metadata": {},
   "outputs": [],
   "source": [
    "source_purge= notification_df[(notification_df[\"join_field\"]==\"source\")].index\n",
    "notification_df.drop(source_purge, axis=0, inplace=True)"
   ]
  },
  {
   "source": [
    "Fixing the event_name column:"
   ],
   "cell_type": "markdown",
   "metadata": {}
  },
  {
   "cell_type": "code",
   "execution_count": 112,
   "metadata": {},
   "outputs": [],
   "source": [
    "notification_df[\"event_name\"].replace(\"notification_receive\",\"notification_received\", inplace=True)"
   ]
  },
  {
   "cell_type": "code",
   "execution_count": 113,
   "metadata": {},
   "outputs": [],
   "source": [
    "notification_df[\"event_name\"].replace(\"notification_open\",\"notification_opened\", inplace=True)"
   ]
  },
  {
   "cell_type": "code",
   "execution_count": 114,
   "metadata": {},
   "outputs": [],
   "source": [
    "merged_df= pd.merge(notification_df, alert_df, left_on=\"join_key_value\", right_on=\"document_id\", how=\"outer\")"
   ]
  },
  {
   "cell_type": "code",
   "execution_count": 115,
   "metadata": {},
   "outputs": [
    {
     "output_type": "stream",
     "name": "stdout",
     "text": [
      "(2239560, 6)\n(13542, 11)\n(2305578, 17)\n"
     ]
    }
   ],
   "source": [
    "print (notification_df.shape)\n",
    "print (alert_df.shape)\n",
    "print (merged_df.shape)"
   ]
  },
  {
   "cell_type": "code",
   "execution_count": 116,
   "metadata": {},
   "outputs": [
    {
     "output_type": "execute_result",
     "data": {
      "text/plain": [
       "                            day    corazon_surrogate_id  \\\n",
       "0       2020-12-11 06:00:00 UTC  ILXZRxI86xGr4sWpUpBiwQ   \n",
       "1       2020-12-12 06:00:00 UTC  QPvDTqE86xGB18lnrjsyMg   \n",
       "2       2020-11-05 06:00:00 UTC  MIp_iZQf6xGvT1FRo8mp4A   \n",
       "3       2020-11-05 06:00:00 UTC  cBvxJowf6xGvT1FRo8mp4A   \n",
       "4       2020-11-05 06:00:00 UTC  kAsi5GAf6xGGvGubJnOcaQ   \n",
       "...                         ...                     ...   \n",
       "166614  2021-02-17 06:00:00 UTC  UMzK_DBx6xG3U-XjxJ_HhA   \n",
       "166615  2021-02-17 06:00:00 UTC  UMzK_DBx6xG3U-XjxJ_HhA   \n",
       "166616  2021-02-17 06:00:00 UTC  UMzK_DBx6xG3U-XjxJ_HhA   \n",
       "166617  2021-02-17 06:00:00 UTC  8J0ZPTBx6xG3U-XjxJ_HhA   \n",
       "166618  2021-02-17 06:00:00 UTC  8J0ZPTBx6xG3U-XjxJ_HhA   \n",
       "\n",
       "         notification_label_id  \n",
       "0       FAQZVhI86xGr4sWpUpBiwQ  \n",
       "1       cfxfVKE86xGB18lnrjsyMg  \n",
       "2       1P2GjJQf6xGvT1FRo8mp4A  \n",
       "3       Q1JpKowf6xGvT1FRo8mp4A  \n",
       "4       sFRt6WAf6xGGvGubJnOcaQ  \n",
       "...                        ...  \n",
       "166614  23k4BzFx6xG3U-XjxJ_HhA  \n",
       "166615  5KA4BzFx6xG3U-XjxJ_HhA  \n",
       "166616  8Hk4BzFx6xG3U-XjxJ_HhA  \n",
       "166617  siVCSjBx6xG3U-XjxJ_HhA  \n",
       "166618  x0xCSjBx6xG3U-XjxJ_HhA  \n",
       "\n",
       "[166619 rows x 3 columns]"
      ],
      "text/html": "<div>\n<style scoped>\n    .dataframe tbody tr th:only-of-type {\n        vertical-align: middle;\n    }\n\n    .dataframe tbody tr th {\n        vertical-align: top;\n    }\n\n    .dataframe thead th {\n        text-align: right;\n    }\n</style>\n<table border=\"1\" class=\"dataframe\">\n  <thead>\n    <tr style=\"text-align: right;\">\n      <th></th>\n      <th>day</th>\n      <th>corazon_surrogate_id</th>\n      <th>notification_label_id</th>\n    </tr>\n  </thead>\n  <tbody>\n    <tr>\n      <th>0</th>\n      <td>2020-12-11 06:00:00 UTC</td>\n      <td>ILXZRxI86xGr4sWpUpBiwQ</td>\n      <td>FAQZVhI86xGr4sWpUpBiwQ</td>\n    </tr>\n    <tr>\n      <th>1</th>\n      <td>2020-12-12 06:00:00 UTC</td>\n      <td>QPvDTqE86xGB18lnrjsyMg</td>\n      <td>cfxfVKE86xGB18lnrjsyMg</td>\n    </tr>\n    <tr>\n      <th>2</th>\n      <td>2020-11-05 06:00:00 UTC</td>\n      <td>MIp_iZQf6xGvT1FRo8mp4A</td>\n      <td>1P2GjJQf6xGvT1FRo8mp4A</td>\n    </tr>\n    <tr>\n      <th>3</th>\n      <td>2020-11-05 06:00:00 UTC</td>\n      <td>cBvxJowf6xGvT1FRo8mp4A</td>\n      <td>Q1JpKowf6xGvT1FRo8mp4A</td>\n    </tr>\n    <tr>\n      <th>4</th>\n      <td>2020-11-05 06:00:00 UTC</td>\n      <td>kAsi5GAf6xGGvGubJnOcaQ</td>\n      <td>sFRt6WAf6xGGvGubJnOcaQ</td>\n    </tr>\n    <tr>\n      <th>...</th>\n      <td>...</td>\n      <td>...</td>\n      <td>...</td>\n    </tr>\n    <tr>\n      <th>166614</th>\n      <td>2021-02-17 06:00:00 UTC</td>\n      <td>UMzK_DBx6xG3U-XjxJ_HhA</td>\n      <td>23k4BzFx6xG3U-XjxJ_HhA</td>\n    </tr>\n    <tr>\n      <th>166615</th>\n      <td>2021-02-17 06:00:00 UTC</td>\n      <td>UMzK_DBx6xG3U-XjxJ_HhA</td>\n      <td>5KA4BzFx6xG3U-XjxJ_HhA</td>\n    </tr>\n    <tr>\n      <th>166616</th>\n      <td>2021-02-17 06:00:00 UTC</td>\n      <td>UMzK_DBx6xG3U-XjxJ_HhA</td>\n      <td>8Hk4BzFx6xG3U-XjxJ_HhA</td>\n    </tr>\n    <tr>\n      <th>166617</th>\n      <td>2021-02-17 06:00:00 UTC</td>\n      <td>8J0ZPTBx6xG3U-XjxJ_HhA</td>\n      <td>siVCSjBx6xG3U-XjxJ_HhA</td>\n    </tr>\n    <tr>\n      <th>166618</th>\n      <td>2021-02-17 06:00:00 UTC</td>\n      <td>8J0ZPTBx6xG3U-XjxJ_HhA</td>\n      <td>x0xCSjBx6xG3U-XjxJ_HhA</td>\n    </tr>\n  </tbody>\n</table>\n<p>166619 rows × 3 columns</p>\n</div>"
     },
     "metadata": {},
     "execution_count": 116
    }
   ],
   "source": [
    "corazon_df"
   ]
  },
  {
   "source": [
    "    IMPORTANT COMBO"
   ],
   "cell_type": "markdown",
   "metadata": {}
  },
  {
   "cell_type": "code",
   "execution_count": 117,
   "metadata": {},
   "outputs": [
    {
     "output_type": "error",
     "ename": "KeyError",
     "evalue": "''",
     "traceback": [
      "\u001b[0;31m---------------------------------------------------------------------------\u001b[0m",
      "\u001b[0;31mKeyError\u001b[0m                                  Traceback (most recent call last)",
      "\u001b[0;32m~/neuefische/Capstone-WIMT/.venv/lib/python3.8/site-packages/pandas/core/indexes/base.py\u001b[0m in \u001b[0;36mget_loc\u001b[0;34m(self, key, method, tolerance)\u001b[0m\n\u001b[1;32m   3079\u001b[0m             \u001b[0;32mtry\u001b[0m\u001b[0;34m:\u001b[0m\u001b[0;34m\u001b[0m\u001b[0;34m\u001b[0m\u001b[0m\n\u001b[0;32m-> 3080\u001b[0;31m                 \u001b[0;32mreturn\u001b[0m \u001b[0mself\u001b[0m\u001b[0;34m.\u001b[0m\u001b[0m_engine\u001b[0m\u001b[0;34m.\u001b[0m\u001b[0mget_loc\u001b[0m\u001b[0;34m(\u001b[0m\u001b[0mcasted_key\u001b[0m\u001b[0;34m)\u001b[0m\u001b[0;34m\u001b[0m\u001b[0;34m\u001b[0m\u001b[0m\n\u001b[0m\u001b[1;32m   3081\u001b[0m             \u001b[0;32mexcept\u001b[0m \u001b[0mKeyError\u001b[0m \u001b[0;32mas\u001b[0m \u001b[0merr\u001b[0m\u001b[0;34m:\u001b[0m\u001b[0;34m\u001b[0m\u001b[0;34m\u001b[0m\u001b[0m\n",
      "\u001b[0;32mpandas/_libs/index.pyx\u001b[0m in \u001b[0;36mpandas._libs.index.IndexEngine.get_loc\u001b[0;34m()\u001b[0m\n",
      "\u001b[0;32mpandas/_libs/index.pyx\u001b[0m in \u001b[0;36mpandas._libs.index.IndexEngine.get_loc\u001b[0;34m()\u001b[0m\n",
      "\u001b[0;32mpandas/_libs/hashtable_class_helper.pxi\u001b[0m in \u001b[0;36mpandas._libs.hashtable.PyObjectHashTable.get_item\u001b[0;34m()\u001b[0m\n",
      "\u001b[0;32mpandas/_libs/hashtable_class_helper.pxi\u001b[0m in \u001b[0;36mpandas._libs.hashtable.PyObjectHashTable.get_item\u001b[0;34m()\u001b[0m\n",
      "\u001b[0;31mKeyError\u001b[0m: ''",
      "\nThe above exception was the direct cause of the following exception:\n",
      "\u001b[0;31mKeyError\u001b[0m                                  Traceback (most recent call last)",
      "\u001b[0;32m/var/folders/84/vkl81xdd38l550lfwl8_nngm0000gn/T/ipykernel_1014/553322048.py\u001b[0m in \u001b[0;36m<module>\u001b[0;34m\u001b[0m\n\u001b[0;32m----> 1\u001b[0;31m \u001b[0mnotification_df\u001b[0m\u001b[0;34m[\u001b[0m\u001b[0;34m\"\"\u001b[0m\u001b[0;34m]\u001b[0m\u001b[0;34m.\u001b[0m\u001b[0misin\u001b[0m\u001b[0;34m(\u001b[0m\u001b[0;34m)\u001b[0m\u001b[0;34m.\u001b[0m\u001b[0mvalue_counts\u001b[0m\u001b[0;34m(\u001b[0m\u001b[0;34m)\u001b[0m\u001b[0;34m\u001b[0m\u001b[0;34m\u001b[0m\u001b[0m\n\u001b[0m",
      "\u001b[0;32m~/neuefische/Capstone-WIMT/.venv/lib/python3.8/site-packages/pandas/core/frame.py\u001b[0m in \u001b[0;36m__getitem__\u001b[0;34m(self, key)\u001b[0m\n\u001b[1;32m   3022\u001b[0m             \u001b[0;32mif\u001b[0m \u001b[0mself\u001b[0m\u001b[0;34m.\u001b[0m\u001b[0mcolumns\u001b[0m\u001b[0;34m.\u001b[0m\u001b[0mnlevels\u001b[0m \u001b[0;34m>\u001b[0m \u001b[0;36m1\u001b[0m\u001b[0;34m:\u001b[0m\u001b[0;34m\u001b[0m\u001b[0;34m\u001b[0m\u001b[0m\n\u001b[1;32m   3023\u001b[0m                 \u001b[0;32mreturn\u001b[0m \u001b[0mself\u001b[0m\u001b[0;34m.\u001b[0m\u001b[0m_getitem_multilevel\u001b[0m\u001b[0;34m(\u001b[0m\u001b[0mkey\u001b[0m\u001b[0;34m)\u001b[0m\u001b[0;34m\u001b[0m\u001b[0;34m\u001b[0m\u001b[0m\n\u001b[0;32m-> 3024\u001b[0;31m             \u001b[0mindexer\u001b[0m \u001b[0;34m=\u001b[0m \u001b[0mself\u001b[0m\u001b[0;34m.\u001b[0m\u001b[0mcolumns\u001b[0m\u001b[0;34m.\u001b[0m\u001b[0mget_loc\u001b[0m\u001b[0;34m(\u001b[0m\u001b[0mkey\u001b[0m\u001b[0;34m)\u001b[0m\u001b[0;34m\u001b[0m\u001b[0;34m\u001b[0m\u001b[0m\n\u001b[0m\u001b[1;32m   3025\u001b[0m             \u001b[0;32mif\u001b[0m \u001b[0mis_integer\u001b[0m\u001b[0;34m(\u001b[0m\u001b[0mindexer\u001b[0m\u001b[0;34m)\u001b[0m\u001b[0;34m:\u001b[0m\u001b[0;34m\u001b[0m\u001b[0;34m\u001b[0m\u001b[0m\n\u001b[1;32m   3026\u001b[0m                 \u001b[0mindexer\u001b[0m \u001b[0;34m=\u001b[0m \u001b[0;34m[\u001b[0m\u001b[0mindexer\u001b[0m\u001b[0;34m]\u001b[0m\u001b[0;34m\u001b[0m\u001b[0;34m\u001b[0m\u001b[0m\n",
      "\u001b[0;32m~/neuefische/Capstone-WIMT/.venv/lib/python3.8/site-packages/pandas/core/indexes/base.py\u001b[0m in \u001b[0;36mget_loc\u001b[0;34m(self, key, method, tolerance)\u001b[0m\n\u001b[1;32m   3080\u001b[0m                 \u001b[0;32mreturn\u001b[0m \u001b[0mself\u001b[0m\u001b[0;34m.\u001b[0m\u001b[0m_engine\u001b[0m\u001b[0;34m.\u001b[0m\u001b[0mget_loc\u001b[0m\u001b[0;34m(\u001b[0m\u001b[0mcasted_key\u001b[0m\u001b[0;34m)\u001b[0m\u001b[0;34m\u001b[0m\u001b[0;34m\u001b[0m\u001b[0m\n\u001b[1;32m   3081\u001b[0m             \u001b[0;32mexcept\u001b[0m \u001b[0mKeyError\u001b[0m \u001b[0;32mas\u001b[0m \u001b[0merr\u001b[0m\u001b[0;34m:\u001b[0m\u001b[0;34m\u001b[0m\u001b[0;34m\u001b[0m\u001b[0m\n\u001b[0;32m-> 3082\u001b[0;31m                 \u001b[0;32mraise\u001b[0m \u001b[0mKeyError\u001b[0m\u001b[0;34m(\u001b[0m\u001b[0mkey\u001b[0m\u001b[0;34m)\u001b[0m \u001b[0;32mfrom\u001b[0m \u001b[0merr\u001b[0m\u001b[0;34m\u001b[0m\u001b[0;34m\u001b[0m\u001b[0m\n\u001b[0m\u001b[1;32m   3083\u001b[0m \u001b[0;34m\u001b[0m\u001b[0m\n\u001b[1;32m   3084\u001b[0m         \u001b[0;32mif\u001b[0m \u001b[0mtolerance\u001b[0m \u001b[0;32mis\u001b[0m \u001b[0;32mnot\u001b[0m \u001b[0;32mNone\u001b[0m\u001b[0;34m:\u001b[0m\u001b[0;34m\u001b[0m\u001b[0;34m\u001b[0m\u001b[0m\n",
      "\u001b[0;31mKeyError\u001b[0m: ''"
     ]
    }
   ],
   "source": [
    "notification_df[\"\"].isin().value_counts()"
   ]
  },
  {
   "source": [
    "    TESTING SHIT OUT"
   ],
   "cell_type": "markdown",
   "metadata": {}
  },
  {
   "cell_type": "code",
   "execution_count": null,
   "metadata": {},
   "outputs": [],
   "source": [
    "label_merger= notification_df.query(\"join_field == 'label'\")\n",
    "alert_id_merger= notification_df.query(\"join_field == 'alertId'\")\n",
    "merged_df_1= pd.merge(label_merger, alert_df, left_on=\"join_key_value\", right_on=\"document_id\", how=\"outer\")\n",
    "merged_df_2= pd.merge(alert_id_merger, alert_df, left_on=\"join_key_value\", right_on=\"document_id\", how=\"outer\")"
   ]
  },
  {
   "cell_type": "code",
   "execution_count": 123,
   "metadata": {},
   "outputs": [],
   "source": [
    "alert_corazon = pd.merge(alert_df,corazon_df, left_on='surrogate_id', right_on='corazon_surrogate_id', how='left')"
   ]
  },
  {
   "cell_type": "code",
   "execution_count": 124,
   "metadata": {},
   "outputs": [
    {
     "output_type": "execute_result",
     "data": {
      "text/plain": [
       "                 document_id            surrogate_id  \\\n",
       "0       -MUH7_dRaJMkhnxY9bHs  0BBrcVJ26xGCgpvcY4zoVw   \n",
       "1       -MUH7_dRaJMkhnxY9bHs  0BBrcVJ26xGCgpvcY4zoVw   \n",
       "2       -MUH7_dRaJMkhnxY9bHs  0BBrcVJ26xGCgpvcY4zoVw   \n",
       "3       -MUH7_dRaJMkhnxY9bHs  0BBrcVJ26xGCgpvcY4zoVw   \n",
       "4       -MX9U6P85DXAwGIaDsgi  kIdXsXOS6xGH7OsWJh6kOw   \n",
       "...                      ...                     ...   \n",
       "247733  -MS3yFJ5NoOacwMyGxSs  kO_VUshg6xGXlUHhke6ddw   \n",
       "247734  -MS3yFJ5NoOacwMyGxSs  kO_VUshg6xGXlUHhke6ddw   \n",
       "247735  -MS3yFJ5NoOacwMyGxSs  kO_VUshg6xGXlUHhke6ddw   \n",
       "247736  -Md1ulS_9uAaVNQEkBLN  UBnDEqjV6xGNWi2nI8j1Cg   \n",
       "247737  -Md1ulS_9uAaVNQEkBLN  UBnDEqjV6xGNWi2nI8j1Cg   \n",
       "\n",
       "                      created_at              published_at  \\\n",
       "0      2021-02-24 03:43:22+00:00 2021-02-24 03:58:39+00:00   \n",
       "1      2021-02-24 03:43:22+00:00 2021-02-24 03:58:39+00:00   \n",
       "2      2021-02-24 03:43:22+00:00 2021-02-24 03:58:39+00:00   \n",
       "3      2021-02-24 03:43:22+00:00 2021-02-24 03:58:39+00:00   \n",
       "4      2021-03-31 22:51:55+00:00 2021-03-31 22:54:19+00:00   \n",
       "...                          ...                       ...   \n",
       "247733 2021-01-27 17:51:46+00:00 2021-01-27 17:51:51+00:00   \n",
       "247734 2021-01-27 17:51:46+00:00 2021-01-27 17:51:51+00:00   \n",
       "247735 2021-01-27 17:51:46+00:00 2021-01-27 17:51:51+00:00   \n",
       "247736 2021-06-25 11:25:41+00:00 2021-06-25 11:25:49+00:00   \n",
       "247737 2021-06-25 11:25:41+00:00 2021-06-25 11:25:49+00:00   \n",
       "\n",
       "                       closed_at               cause         effect  \\\n",
       "0      2021-02-24 04:21:00+00:00                Fire         Delays   \n",
       "1      2021-02-24 04:21:00+00:00                Fire         Delays   \n",
       "2      2021-02-24 04:21:00+00:00                Fire         Delays   \n",
       "3      2021-02-24 04:21:00+00:00                Fire         Delays   \n",
       "4      2021-04-01 00:01:01+00:00                Fire  TrafficImpact   \n",
       "...                          ...                 ...            ...   \n",
       "247733 2021-01-27 19:01:00+00:00  BrokenTrafficLight         Delays   \n",
       "247734 2021-01-27 19:01:00+00:00  BrokenTrafficLight         Delays   \n",
       "247735 2021-01-27 19:01:00+00:00  BrokenTrafficLight         Delays   \n",
       "247736 2021-06-25 12:01:01+00:00  BrokenTrafficLight         Delays   \n",
       "247737 2021-06-25 12:01:01+00:00  BrokenTrafficLight         Delays   \n",
       "\n",
       "                                              description is_global  \\\n",
       "0       🔥 Considera retrasos por servicios de emergenc...     false   \n",
       "1       🔥 Considera retrasos por servicios de emergenc...     false   \n",
       "2       🔥 Considera retrasos por servicios de emergenc...     false   \n",
       "3       🔥 Considera retrasos por servicios de emergenc...     false   \n",
       "4       🔥 ¡Anticípate! Afectación vial por servicios d...     false   \n",
       "...                                                   ...       ...   \n",
       "247733  ⏳ ¡Chin! Hay retrasos por semáforos descompues...     false   \n",
       "247734  ⏳ ¡Chin! Hay retrasos por semáforos descompues...     false   \n",
       "247735  ⏳ ¡Chin! Hay retrasos por semáforos descompues...     false   \n",
       "247736  ⏳🚦 ¡Chin! Retrasos por semáforos descompuestos...     false   \n",
       "247737  ⏳🚦 ¡Chin! Retrasos por semáforos descompuestos...     false   \n",
       "\n",
       "                        agency  \\\n",
       "0       GtvOEQAFZ0GtU6u4AXwvPg   \n",
       "1       GtvOEQAFZ0GtU6u4AXwvPg   \n",
       "2       JfA8Bw8Zp024Kqu4AXiSpQ   \n",
       "3       JfA8Bw8Zp024Kqu4AXiSpQ   \n",
       "4       GtvOEQAFZ0GtU6u4AXwvPg   \n",
       "...                        ...   \n",
       "247733  zCy9zG00HEqGeKu4AWZYNQ   \n",
       "247734  zCy9zG00HEqGeKu4AWZYNQ   \n",
       "247735  zCy9zG00HEqGeKu4AWZYNQ   \n",
       "247736  zCy9zG00HEqGeKu4AWZYNQ   \n",
       "247737  zCy9zG00HEqGeKu4AWZYNQ   \n",
       "\n",
       "                               area_of_effect_coordinates  \\\n",
       "0       [{'latitude': -99.13399344738725, 'longitude':...   \n",
       "1       [{'latitude': -99.13399344738725, 'longitude':...   \n",
       "2       [{'latitude': -99.13399344738725, 'longitude':...   \n",
       "3       [{'latitude': -99.13399344738725, 'longitude':...   \n",
       "4       [{'latitude': -99.13838681335923, 'longitude':...   \n",
       "...                                                   ...   \n",
       "247733  [{'latitude': -99.17786568559703, 'longitude':...   \n",
       "247734  [{'latitude': -99.17786568559703, 'longitude':...   \n",
       "247735  [{'latitude': -99.17786568559703, 'longitude':...   \n",
       "247736  [{'latitude': -99.15550577331345, 'longitude':...   \n",
       "247737  [{'latitude': -99.15550577331345, 'longitude':...   \n",
       "\n",
       "                            day    corazon_surrogate_id  \\\n",
       "0       2021-02-23 06:00:00 UTC  0BBrcVJ26xGCgpvcY4zoVw   \n",
       "1       2021-02-23 06:00:00 UTC  0BBrcVJ26xGCgpvcY4zoVw   \n",
       "2       2021-02-23 06:00:00 UTC  0BBrcVJ26xGCgpvcY4zoVw   \n",
       "3       2021-02-23 06:00:00 UTC  0BBrcVJ26xGCgpvcY4zoVw   \n",
       "4       2021-03-31 06:00:00 UTC  kIdXsXOS6xGH7OsWJh6kOw   \n",
       "...                         ...                     ...   \n",
       "247733  2021-01-27 06:00:00 UTC  kO_VUshg6xGXlUHhke6ddw   \n",
       "247734  2021-01-27 06:00:00 UTC  kO_VUshg6xGXlUHhke6ddw   \n",
       "247735  2021-01-27 06:00:00 UTC  kO_VUshg6xGXlUHhke6ddw   \n",
       "247736  2021-06-25 05:00:00 UTC  UBnDEqjV6xGNWi2nI8j1Cg   \n",
       "247737  2021-06-25 05:00:00 UTC  UBnDEqjV6xGNWi2nI8j1Cg   \n",
       "\n",
       "         notification_label_id  \n",
       "0       sArEdVJ26xGCgpvcY4zoVw  \n",
       "1       oOPDdVJ26xGCgpvcY4zoVw  \n",
       "2       sArEdVJ26xGCgpvcY4zoVw  \n",
       "3       oOPDdVJ26xGCgpvcY4zoVw  \n",
       "4       4J8FuXOS6xGH7OsWJh6kOw  \n",
       "...                        ...  \n",
       "247733  BDMQVshg6xGXlUHhke6ddw  \n",
       "247734  ATMQVshg6xGXlUHhke6ddw  \n",
       "247735  AzMQVshg6xGXlUHhke6ddw  \n",
       "247736  0JSGF6jV6xGNWi2nI8j1Cg  \n",
       "247737  kPiFF6jV6xGNWi2nI8j1Cg  \n",
       "\n",
       "[247738 rows x 14 columns]"
      ],
      "text/html": "<div>\n<style scoped>\n    .dataframe tbody tr th:only-of-type {\n        vertical-align: middle;\n    }\n\n    .dataframe tbody tr th {\n        vertical-align: top;\n    }\n\n    .dataframe thead th {\n        text-align: right;\n    }\n</style>\n<table border=\"1\" class=\"dataframe\">\n  <thead>\n    <tr style=\"text-align: right;\">\n      <th></th>\n      <th>document_id</th>\n      <th>surrogate_id</th>\n      <th>created_at</th>\n      <th>published_at</th>\n      <th>closed_at</th>\n      <th>cause</th>\n      <th>effect</th>\n      <th>description</th>\n      <th>is_global</th>\n      <th>agency</th>\n      <th>area_of_effect_coordinates</th>\n      <th>day</th>\n      <th>corazon_surrogate_id</th>\n      <th>notification_label_id</th>\n    </tr>\n  </thead>\n  <tbody>\n    <tr>\n      <th>0</th>\n      <td>-MUH7_dRaJMkhnxY9bHs</td>\n      <td>0BBrcVJ26xGCgpvcY4zoVw</td>\n      <td>2021-02-24 03:43:22+00:00</td>\n      <td>2021-02-24 03:58:39+00:00</td>\n      <td>2021-02-24 04:21:00+00:00</td>\n      <td>Fire</td>\n      <td>Delays</td>\n      <td>🔥 Considera retrasos por servicios de emergenc...</td>\n      <td>false</td>\n      <td>GtvOEQAFZ0GtU6u4AXwvPg</td>\n      <td>[{'latitude': -99.13399344738725, 'longitude':...</td>\n      <td>2021-02-23 06:00:00 UTC</td>\n      <td>0BBrcVJ26xGCgpvcY4zoVw</td>\n      <td>sArEdVJ26xGCgpvcY4zoVw</td>\n    </tr>\n    <tr>\n      <th>1</th>\n      <td>-MUH7_dRaJMkhnxY9bHs</td>\n      <td>0BBrcVJ26xGCgpvcY4zoVw</td>\n      <td>2021-02-24 03:43:22+00:00</td>\n      <td>2021-02-24 03:58:39+00:00</td>\n      <td>2021-02-24 04:21:00+00:00</td>\n      <td>Fire</td>\n      <td>Delays</td>\n      <td>🔥 Considera retrasos por servicios de emergenc...</td>\n      <td>false</td>\n      <td>GtvOEQAFZ0GtU6u4AXwvPg</td>\n      <td>[{'latitude': -99.13399344738725, 'longitude':...</td>\n      <td>2021-02-23 06:00:00 UTC</td>\n      <td>0BBrcVJ26xGCgpvcY4zoVw</td>\n      <td>oOPDdVJ26xGCgpvcY4zoVw</td>\n    </tr>\n    <tr>\n      <th>2</th>\n      <td>-MUH7_dRaJMkhnxY9bHs</td>\n      <td>0BBrcVJ26xGCgpvcY4zoVw</td>\n      <td>2021-02-24 03:43:22+00:00</td>\n      <td>2021-02-24 03:58:39+00:00</td>\n      <td>2021-02-24 04:21:00+00:00</td>\n      <td>Fire</td>\n      <td>Delays</td>\n      <td>🔥 Considera retrasos por servicios de emergenc...</td>\n      <td>false</td>\n      <td>JfA8Bw8Zp024Kqu4AXiSpQ</td>\n      <td>[{'latitude': -99.13399344738725, 'longitude':...</td>\n      <td>2021-02-23 06:00:00 UTC</td>\n      <td>0BBrcVJ26xGCgpvcY4zoVw</td>\n      <td>sArEdVJ26xGCgpvcY4zoVw</td>\n    </tr>\n    <tr>\n      <th>3</th>\n      <td>-MUH7_dRaJMkhnxY9bHs</td>\n      <td>0BBrcVJ26xGCgpvcY4zoVw</td>\n      <td>2021-02-24 03:43:22+00:00</td>\n      <td>2021-02-24 03:58:39+00:00</td>\n      <td>2021-02-24 04:21:00+00:00</td>\n      <td>Fire</td>\n      <td>Delays</td>\n      <td>🔥 Considera retrasos por servicios de emergenc...</td>\n      <td>false</td>\n      <td>JfA8Bw8Zp024Kqu4AXiSpQ</td>\n      <td>[{'latitude': -99.13399344738725, 'longitude':...</td>\n      <td>2021-02-23 06:00:00 UTC</td>\n      <td>0BBrcVJ26xGCgpvcY4zoVw</td>\n      <td>oOPDdVJ26xGCgpvcY4zoVw</td>\n    </tr>\n    <tr>\n      <th>4</th>\n      <td>-MX9U6P85DXAwGIaDsgi</td>\n      <td>kIdXsXOS6xGH7OsWJh6kOw</td>\n      <td>2021-03-31 22:51:55+00:00</td>\n      <td>2021-03-31 22:54:19+00:00</td>\n      <td>2021-04-01 00:01:01+00:00</td>\n      <td>Fire</td>\n      <td>TrafficImpact</td>\n      <td>🔥 ¡Anticípate! Afectación vial por servicios d...</td>\n      <td>false</td>\n      <td>GtvOEQAFZ0GtU6u4AXwvPg</td>\n      <td>[{'latitude': -99.13838681335923, 'longitude':...</td>\n      <td>2021-03-31 06:00:00 UTC</td>\n      <td>kIdXsXOS6xGH7OsWJh6kOw</td>\n      <td>4J8FuXOS6xGH7OsWJh6kOw</td>\n    </tr>\n    <tr>\n      <th>...</th>\n      <td>...</td>\n      <td>...</td>\n      <td>...</td>\n      <td>...</td>\n      <td>...</td>\n      <td>...</td>\n      <td>...</td>\n      <td>...</td>\n      <td>...</td>\n      <td>...</td>\n      <td>...</td>\n      <td>...</td>\n      <td>...</td>\n      <td>...</td>\n    </tr>\n    <tr>\n      <th>247733</th>\n      <td>-MS3yFJ5NoOacwMyGxSs</td>\n      <td>kO_VUshg6xGXlUHhke6ddw</td>\n      <td>2021-01-27 17:51:46+00:00</td>\n      <td>2021-01-27 17:51:51+00:00</td>\n      <td>2021-01-27 19:01:00+00:00</td>\n      <td>BrokenTrafficLight</td>\n      <td>Delays</td>\n      <td>⏳ ¡Chin! Hay retrasos por semáforos descompues...</td>\n      <td>false</td>\n      <td>zCy9zG00HEqGeKu4AWZYNQ</td>\n      <td>[{'latitude': -99.17786568559703, 'longitude':...</td>\n      <td>2021-01-27 06:00:00 UTC</td>\n      <td>kO_VUshg6xGXlUHhke6ddw</td>\n      <td>BDMQVshg6xGXlUHhke6ddw</td>\n    </tr>\n    <tr>\n      <th>247734</th>\n      <td>-MS3yFJ5NoOacwMyGxSs</td>\n      <td>kO_VUshg6xGXlUHhke6ddw</td>\n      <td>2021-01-27 17:51:46+00:00</td>\n      <td>2021-01-27 17:51:51+00:00</td>\n      <td>2021-01-27 19:01:00+00:00</td>\n      <td>BrokenTrafficLight</td>\n      <td>Delays</td>\n      <td>⏳ ¡Chin! Hay retrasos por semáforos descompues...</td>\n      <td>false</td>\n      <td>zCy9zG00HEqGeKu4AWZYNQ</td>\n      <td>[{'latitude': -99.17786568559703, 'longitude':...</td>\n      <td>2021-01-27 06:00:00 UTC</td>\n      <td>kO_VUshg6xGXlUHhke6ddw</td>\n      <td>ATMQVshg6xGXlUHhke6ddw</td>\n    </tr>\n    <tr>\n      <th>247735</th>\n      <td>-MS3yFJ5NoOacwMyGxSs</td>\n      <td>kO_VUshg6xGXlUHhke6ddw</td>\n      <td>2021-01-27 17:51:46+00:00</td>\n      <td>2021-01-27 17:51:51+00:00</td>\n      <td>2021-01-27 19:01:00+00:00</td>\n      <td>BrokenTrafficLight</td>\n      <td>Delays</td>\n      <td>⏳ ¡Chin! Hay retrasos por semáforos descompues...</td>\n      <td>false</td>\n      <td>zCy9zG00HEqGeKu4AWZYNQ</td>\n      <td>[{'latitude': -99.17786568559703, 'longitude':...</td>\n      <td>2021-01-27 06:00:00 UTC</td>\n      <td>kO_VUshg6xGXlUHhke6ddw</td>\n      <td>AzMQVshg6xGXlUHhke6ddw</td>\n    </tr>\n    <tr>\n      <th>247736</th>\n      <td>-Md1ulS_9uAaVNQEkBLN</td>\n      <td>UBnDEqjV6xGNWi2nI8j1Cg</td>\n      <td>2021-06-25 11:25:41+00:00</td>\n      <td>2021-06-25 11:25:49+00:00</td>\n      <td>2021-06-25 12:01:01+00:00</td>\n      <td>BrokenTrafficLight</td>\n      <td>Delays</td>\n      <td>⏳🚦 ¡Chin! Retrasos por semáforos descompuestos...</td>\n      <td>false</td>\n      <td>zCy9zG00HEqGeKu4AWZYNQ</td>\n      <td>[{'latitude': -99.15550577331345, 'longitude':...</td>\n      <td>2021-06-25 05:00:00 UTC</td>\n      <td>UBnDEqjV6xGNWi2nI8j1Cg</td>\n      <td>0JSGF6jV6xGNWi2nI8j1Cg</td>\n    </tr>\n    <tr>\n      <th>247737</th>\n      <td>-Md1ulS_9uAaVNQEkBLN</td>\n      <td>UBnDEqjV6xGNWi2nI8j1Cg</td>\n      <td>2021-06-25 11:25:41+00:00</td>\n      <td>2021-06-25 11:25:49+00:00</td>\n      <td>2021-06-25 12:01:01+00:00</td>\n      <td>BrokenTrafficLight</td>\n      <td>Delays</td>\n      <td>⏳🚦 ¡Chin! Retrasos por semáforos descompuestos...</td>\n      <td>false</td>\n      <td>zCy9zG00HEqGeKu4AWZYNQ</td>\n      <td>[{'latitude': -99.15550577331345, 'longitude':...</td>\n      <td>2021-06-25 05:00:00 UTC</td>\n      <td>UBnDEqjV6xGNWi2nI8j1Cg</td>\n      <td>kPiFF6jV6xGNWi2nI8j1Cg</td>\n    </tr>\n  </tbody>\n</table>\n<p>247738 rows × 14 columns</p>\n</div>"
     },
     "metadata": {},
     "execution_count": 124
    }
   ],
   "source": [
    "alert_corazon"
   ]
  },
  {
   "cell_type": "code",
   "execution_count": null,
   "metadata": {},
   "outputs": [],
   "source": [
    "df1.merge(df2,left_on='col_name1', right_on='col_name2').merge(df3,left_on='col_name1', right_on='col_name3').drop(columns=['col_name2', 'col_name3']).rename(columns={'col_name1':'col_name'})"
   ]
  },
  {
   "cell_type": "code",
   "execution_count": 78,
   "metadata": {},
   "outputs": [
    {
     "output_type": "execute_result",
     "data": {
      "text/plain": [
       "True     13448\n",
       "False       94\n",
       "Name: surrogate_id, dtype: int64"
      ]
     },
     "metadata": {},
     "execution_count": 78
    }
   ],
   "source": [
    "alert_df['surrogate_id'].isin(corazon_df['corazon_surrogate_id']).value_counts()"
   ]
  },
  {
   "cell_type": "code",
   "execution_count": 118,
   "metadata": {},
   "outputs": [
    {
     "output_type": "execute_result",
     "data": {
      "text/plain": [
       "(166619, 3)"
      ]
     },
     "metadata": {},
     "execution_count": 118
    }
   ],
   "source": [
    "corazon_df.shape"
   ]
  },
  {
   "cell_type": "code",
   "execution_count": 84,
   "metadata": {},
   "outputs": [
    {
     "output_type": "execute_result",
     "data": {
      "text/plain": [
       "False    2113465\n",
       "True      126095\n",
       "Name: join_key_value, dtype: int64"
      ]
     },
     "metadata": {},
     "execution_count": 84
    }
   ],
   "source": [
    "notification_df['join_key_value'].isin(alert_df['document_id']).value_counts()"
   ]
  },
  {
   "cell_type": "code",
   "execution_count": 101,
   "metadata": {},
   "outputs": [
    {
     "output_type": "execute_result",
     "data": {
      "text/plain": [
       "label      2203067\n",
       "alertId      36493\n",
       "Name: join_field, dtype: int64"
      ]
     },
     "metadata": {},
     "execution_count": 101
    }
   ],
   "source": [
    "notification_df['join_field'].value_counts()"
   ]
  },
  {
   "cell_type": "code",
   "execution_count": 87,
   "metadata": {},
   "outputs": [
    {
     "output_type": "execute_result",
     "data": {
      "text/plain": [
       "True     2100518\n",
       "False     139042\n",
       "Name: join_key_value, dtype: int64"
      ]
     },
     "metadata": {},
     "execution_count": 87
    }
   ],
   "source": [
    "notification_df['join_key_value'].isin(corazon_df['notification_label_id']).value_counts()"
   ]
  },
  {
   "cell_type": "code",
   "execution_count": 76,
   "metadata": {},
   "outputs": [
    {
     "output_type": "execute_result",
     "data": {
      "text/plain": [
       "False    2113465\n",
       "True      126095\n",
       "Name: join_key_value, dtype: int64"
      ]
     },
     "metadata": {},
     "execution_count": 76
    }
   ],
   "source": [
    "notification_df['join_key_value'].isin(alert_df['document_id']).value_counts()"
   ]
  },
  {
   "cell_type": "code",
   "execution_count": 77,
   "metadata": {},
   "outputs": [
    {
     "output_type": "execute_result",
     "data": {
      "text/plain": [
       "False    2239560\n",
       "Name: join_key_value, dtype: int64"
      ]
     },
     "metadata": {},
     "execution_count": 77
    }
   ],
   "source": [
    "notification_df['join_key_value'].isin(alert_df['surrogate_id']).value_counts()"
   ]
  },
  {
   "cell_type": "code",
   "execution_count": null,
   "metadata": {},
   "outputs": [],
   "source": [
    "merged_df.head()"
   ]
  },
  {
   "source": [
    "TESTS FROM BEFORE"
   ],
   "cell_type": "markdown",
   "metadata": {}
  },
  {
   "cell_type": "code",
   "execution_count": 66,
   "metadata": {},
   "outputs": [
    {
     "output_type": "execute_result",
     "data": {
      "text/plain": [
       "False    2113465\n",
       "True      126095\n",
       "Name: join_key_value, dtype: int64"
      ]
     },
     "metadata": {},
     "execution_count": 66
    }
   ],
   "source": [
    "#label_merger.where(label_merger[\"join_key_value\"] == alert_df[\"surrogate_id\"],True, False)\n",
    "notification_df['join_key_value'].isin(alert_df['document_id']).value_counts()\n",
    "\n",
    "#dfAns = df1.merge(df2, on = 'id', how = 'outer').merge(df3, on='id', how='outer').fillna(0)"
   ]
  },
  {
   "cell_type": "code",
   "execution_count": 67,
   "metadata": {},
   "outputs": [
    {
     "output_type": "execute_result",
     "data": {
      "text/plain": [
       "False    2239560\n",
       "Name: join_key_value, dtype: int64"
      ]
     },
     "metadata": {},
     "execution_count": 67
    }
   ],
   "source": [
    "notification_df['join_key_value'].isin(alert_df['surrogate_id']).value_counts()"
   ]
  }
 ]
}