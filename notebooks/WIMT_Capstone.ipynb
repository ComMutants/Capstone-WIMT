{
 "metadata": {
  "language_info": {
   "codemirror_mode": {
    "name": "ipython",
    "version": 3
   },
   "file_extension": ".py",
   "mimetype": "text/x-python",
   "name": "python",
   "nbconvert_exporter": "python",
   "pygments_lexer": "ipython3",
   "version": "3.8.5"
  },
  "orig_nbformat": 4,
  "kernelspec": {
   "name": "python3",
   "display_name": "Python 3.8.5 64-bit ('.venv': venv)"
  },
  "interpreter": {
   "hash": "f7e9aa0a9fe1ceb3c33c5aa0b358d6952771ff9c315b2715a747dc81bd71c7e9"
  }
 },
 "nbformat": 4,
 "nbformat_minor": 2,
 "cells": [
  {
   "cell_type": "code",
   "execution_count": 1,
   "metadata": {},
   "outputs": [],
   "source": [
    "import sys\n",
    "# adding to the path variables the one folder higher (locally, not changing system variables)\n",
    "sys.path.append(\"..\")\n",
    "import pandas as pd\n",
    "import numpy as np\n",
    "import warnings\n",
    "import mlflow\n",
    "from modeling.config import TRACKING_URI, EXPERIMENT_NAME\n",
    "from pandas_profiling import ProfileReport\n",
    "import torch"
   ]
  },
  {
   "cell_type": "code",
   "execution_count": 2,
   "metadata": {},
   "outputs": [],
   "source": [
    "alert_df=pd.read_json(\"/Users/fortes/neuefische/Capstone-WIMT/data/alerts.json\")"
   ]
  },
  {
   "cell_type": "code",
   "execution_count": 3,
   "metadata": {},
   "outputs": [],
   "source": [
    "notification_df=pd.read_json(\"/Users/fortes/neuefische/Capstone-WIMT/data/notifications.json\")"
   ]
  },
  {
   "cell_type": "code",
   "execution_count": 4,
   "metadata": {},
   "outputs": [
    {
     "output_type": "execute_result",
     "data": {
      "text/plain": [
       "         event_date   event_timestamp            event_name user_id  \\\n",
       "0          20210529  1622251203899000  notification_receive   283a1   \n",
       "1          20210529  1622257988561000  notification_receive   283a1   \n",
       "2          20210529  1622258235184001  notification_receive   283a1   \n",
       "3          20210529  1622260301025000  notification_receive   283a1   \n",
       "4          20210529  1622293962198000  notification_receive   283a1   \n",
       "...             ...               ...                   ...     ...   \n",
       "2278146    20210210  1612909178334000  notification_receive   fff18   \n",
       "2278147    20210210  1612969431222000  notification_receive   fff18   \n",
       "2278148    20210210  1612978431552000  notification_receive   fff18   \n",
       "2278149    20210210  1612985245425000  notification_receive   fff18   \n",
       "2278150    20210210  1612994120482000  notification_receive   fff18   \n",
       "\n",
       "        join_field          join_key_value  \n",
       "0            label    -Maph6wn8GA3SjPIc9HA  \n",
       "1            label    -Maq63vqDUxQRawQ_3Au  \n",
       "2            label    -Maq7-D7bhcEaFBU1LDW  \n",
       "3            label    -MaqEsbKAqlxGG-RupjR  \n",
       "4            label    -MasFHCt_lTuNt_x16dH  \n",
       "...            ...                     ...  \n",
       "2278146      label  0NbaiCRr6xGFd2035-Gdlw  \n",
       "2278147      label  EMDjKLFr6xGRbrsa0gDjhg  \n",
       "2278148      label  YE2VDMZr6xGRbrsa0gDjhg  \n",
       "2278149      label  YBu-7NVr6xGRbrsa0gDjhg  \n",
       "2278150      label  YBIdVepr6xGRbrsa0gDjhg  \n",
       "\n",
       "[2278151 rows x 6 columns]"
      ],
      "text/html": "<div>\n<style scoped>\n    .dataframe tbody tr th:only-of-type {\n        vertical-align: middle;\n    }\n\n    .dataframe tbody tr th {\n        vertical-align: top;\n    }\n\n    .dataframe thead th {\n        text-align: right;\n    }\n</style>\n<table border=\"1\" class=\"dataframe\">\n  <thead>\n    <tr style=\"text-align: right;\">\n      <th></th>\n      <th>event_date</th>\n      <th>event_timestamp</th>\n      <th>event_name</th>\n      <th>user_id</th>\n      <th>join_field</th>\n      <th>join_key_value</th>\n    </tr>\n  </thead>\n  <tbody>\n    <tr>\n      <th>0</th>\n      <td>20210529</td>\n      <td>1622251203899000</td>\n      <td>notification_receive</td>\n      <td>283a1</td>\n      <td>label</td>\n      <td>-Maph6wn8GA3SjPIc9HA</td>\n    </tr>\n    <tr>\n      <th>1</th>\n      <td>20210529</td>\n      <td>1622257988561000</td>\n      <td>notification_receive</td>\n      <td>283a1</td>\n      <td>label</td>\n      <td>-Maq63vqDUxQRawQ_3Au</td>\n    </tr>\n    <tr>\n      <th>2</th>\n      <td>20210529</td>\n      <td>1622258235184001</td>\n      <td>notification_receive</td>\n      <td>283a1</td>\n      <td>label</td>\n      <td>-Maq7-D7bhcEaFBU1LDW</td>\n    </tr>\n    <tr>\n      <th>3</th>\n      <td>20210529</td>\n      <td>1622260301025000</td>\n      <td>notification_receive</td>\n      <td>283a1</td>\n      <td>label</td>\n      <td>-MaqEsbKAqlxGG-RupjR</td>\n    </tr>\n    <tr>\n      <th>4</th>\n      <td>20210529</td>\n      <td>1622293962198000</td>\n      <td>notification_receive</td>\n      <td>283a1</td>\n      <td>label</td>\n      <td>-MasFHCt_lTuNt_x16dH</td>\n    </tr>\n    <tr>\n      <th>...</th>\n      <td>...</td>\n      <td>...</td>\n      <td>...</td>\n      <td>...</td>\n      <td>...</td>\n      <td>...</td>\n    </tr>\n    <tr>\n      <th>2278146</th>\n      <td>20210210</td>\n      <td>1612909178334000</td>\n      <td>notification_receive</td>\n      <td>fff18</td>\n      <td>label</td>\n      <td>0NbaiCRr6xGFd2035-Gdlw</td>\n    </tr>\n    <tr>\n      <th>2278147</th>\n      <td>20210210</td>\n      <td>1612969431222000</td>\n      <td>notification_receive</td>\n      <td>fff18</td>\n      <td>label</td>\n      <td>EMDjKLFr6xGRbrsa0gDjhg</td>\n    </tr>\n    <tr>\n      <th>2278148</th>\n      <td>20210210</td>\n      <td>1612978431552000</td>\n      <td>notification_receive</td>\n      <td>fff18</td>\n      <td>label</td>\n      <td>YE2VDMZr6xGRbrsa0gDjhg</td>\n    </tr>\n    <tr>\n      <th>2278149</th>\n      <td>20210210</td>\n      <td>1612985245425000</td>\n      <td>notification_receive</td>\n      <td>fff18</td>\n      <td>label</td>\n      <td>YBu-7NVr6xGRbrsa0gDjhg</td>\n    </tr>\n    <tr>\n      <th>2278150</th>\n      <td>20210210</td>\n      <td>1612994120482000</td>\n      <td>notification_receive</td>\n      <td>fff18</td>\n      <td>label</td>\n      <td>YBIdVepr6xGRbrsa0gDjhg</td>\n    </tr>\n  </tbody>\n</table>\n<p>2278151 rows × 6 columns</p>\n</div>"
     },
     "metadata": {},
     "execution_count": 4
    }
   ],
   "source": [
    "notification_df"
   ]
  },
  {
   "cell_type": "code",
   "execution_count": 5,
   "metadata": {},
   "outputs": [],
   "source": [
    "#!pip3 install transformers --no-input"
   ]
  },
  {
   "source": [
    "from transformers import pipeline\n",
    "\n",
    "nlp_pos_syntax = pipeline(\n",
    "    \"ner\",\n",
    "    model=\"mrm8488/bert-spanish-cased-finetuned-pos-syntax\",\n",
    "    tokenizer=\"mrm8488/bert-spanish-cased-finetuned-pos-syntax\"\n",
    ")\n",
    "\n",
    "text = 'Considera retrasos por servicios de emergencia atendiendo incendio en Mesones y Av. 20 de Noviembre.'\n",
    "\n",
    "nlp_pos_syntax(text)[1:len(nlp_pos_syntax(text))-1]"
   ],
   "cell_type": "markdown",
   "metadata": {}
  },
  {
   "cell_type": "code",
   "execution_count": 6,
   "metadata": {},
   "outputs": [],
   "source": [
    "cause_effect_table= pd.pivot_table(alert_df, index=['cause'], columns='effect',aggfunc='count',fill_value=0,values=\"is_global\", margins=True, margins_name= 'Total')"
   ]
  },
  {
   "cell_type": "code",
   "execution_count": 7,
   "metadata": {},
   "outputs": [
    {
     "output_type": "execute_result",
     "data": {
      "text/plain": [
       "effect                  CirculationRestored  CirculationShutdown  Delays  \\\n",
       "cause                                                                      \n",
       "BrokenTrafficLight   0                    0                    0      23   \n",
       "BrokenVehicle        0                    0                    4     390   \n",
       "COVID19              0                    0                    7       1   \n",
       "Counterflow          0                    0                    0       2   \n",
       "CycleRide            0                    0                    4       3   \n",
       "Demonstration        1                  321                 1896     166   \n",
       "EmergencyServices    2                    1                   20     860   \n",
       "Event                0                    2                    4       0   \n",
       "Explosion            0                    0                    0       0   \n",
       "FallenTree           0                    0                    3      46   \n",
       "Fire                 0                    3                    4      98   \n",
       "Flood                2                    4                    1      24   \n",
       "GasLeak              0                    3                    4      14   \n",
       "HeavyTraffic         0                    1                    0      20   \n",
       "Incident             4                   24                   92     452   \n",
       "Landslide            0                    0                    0       0   \n",
       "Leak                 0                    0                    2      52   \n",
       "Maintenance          0                    1                    3       9   \n",
       "March                0                   12                  202      34   \n",
       "Overturn             0                    0                    1     155   \n",
       "Pilgrimage           0                    0                    0       0   \n",
       "ProtestCamp          0                    0                    2       0   \n",
       "Rain                 0                    5                    0      57   \n",
       "Reopening            0                    4                    0       0   \n",
       "Sinkhole             0                    2                    3       3   \n",
       "StreetWorks          2                    2                  114     104   \n",
       "VehicularAccident    5                    1                   17    5115   \n",
       "Waterlogging         0                    0                    4      57   \n",
       "Total               16                  386                 2387    7685   \n",
       "\n",
       "effect              Evacuation  FullCapacity  HighWaitingTime  InterimService  \\\n",
       "cause                                                                           \n",
       "BrokenTrafficLight           0             0                0               0   \n",
       "BrokenVehicle                0             0                0               0   \n",
       "COVID19                      0             5                0               0   \n",
       "Counterflow                  0             0                0               0   \n",
       "CycleRide                    0             0                0               0   \n",
       "Demonstration                0             0                0              65   \n",
       "EmergencyServices            0             0                0               0   \n",
       "Event                        0             0                0               0   \n",
       "Explosion                    0             0                0               0   \n",
       "FallenTree                   0             0                0               0   \n",
       "Fire                         0             1                2               6   \n",
       "Flood                        0             0                0               4   \n",
       "GasLeak                      0             0                0               1   \n",
       "HeavyTraffic                 0             0                0               0   \n",
       "Incident                     1             0               92              27   \n",
       "Landslide                    0             0                0               0   \n",
       "Leak                         0             0                0               0   \n",
       "Maintenance                  0             0                1               4   \n",
       "March                        0             0                0               3   \n",
       "Overturn                     0             0                0               0   \n",
       "Pilgrimage                   0             0                0               0   \n",
       "ProtestCamp                  0             0                0               0   \n",
       "Rain                         0             0                1               3   \n",
       "Reopening                    0             0                0               0   \n",
       "Sinkhole                     0             0                0               0   \n",
       "StreetWorks                  1             0                0               3   \n",
       "VehicularAccident            0             0                2               0   \n",
       "Waterlogging                 0             0                0               2   \n",
       "Total                        2             6               98             118   \n",
       "\n",
       "effect              LaneReduction  RouteDetour  SecuritySpeed  \\\n",
       "cause                                                           \n",
       "BrokenTrafficLight              2            0              0   \n",
       "BrokenVehicle                  39            0              0   \n",
       "COVID19                         0            0              0   \n",
       "Counterflow                     0            0              0   \n",
       "CycleRide                       0            0              0   \n",
       "Demonstration                  54            5              6   \n",
       "EmergencyServices             208            0              0   \n",
       "Event                           2            0              3   \n",
       "Explosion                       0            0              0   \n",
       "FallenTree                     25            0              0   \n",
       "Fire                           10            0              1   \n",
       "Flood                           1            0              0   \n",
       "GasLeak                         4            0              0   \n",
       "HeavyTraffic                    0            0              8   \n",
       "Incident                        6            0            168   \n",
       "Landslide                       0            0              0   \n",
       "Leak                            9            0              0   \n",
       "Maintenance                     2            0              0   \n",
       "March                           0            0              0   \n",
       "Overturn                       35            0              1   \n",
       "Pilgrimage                      0            0              0   \n",
       "ProtestCamp                     0            0              0   \n",
       "Rain                            0            0             23   \n",
       "Reopening                       0            0              0   \n",
       "Sinkhole                        5            0              0   \n",
       "StreetWorks                    97            2              3   \n",
       "VehicularAccident             284            0              0   \n",
       "Waterlogging                    8            0              0   \n",
       "Total                         791            7            213   \n",
       "\n",
       "effect              SuspensionOfService  TrafficImpact  Total  \n",
       "cause                                                          \n",
       "BrokenTrafficLight                    0             22     47  \n",
       "BrokenVehicle                        12             55    500  \n",
       "COVID19                              18              1     32  \n",
       "Counterflow                           0              2      4  \n",
       "CycleRide                             0             16     23  \n",
       "Demonstration                       251            226   2991  \n",
       "EmergencyServices                     4            253   1348  \n",
       "Event                                 5              0     16  \n",
       "Explosion                             0              1      1  \n",
       "FallenTree                            2             21     97  \n",
       "Fire                                 11             26    162  \n",
       "Flood                                 5             26     67  \n",
       "GasLeak                               2              5     33  \n",
       "HeavyTraffic                          1              3     33  \n",
       "Incident                             62             32    960  \n",
       "Landslide                             0              2      2  \n",
       "Leak                                  0             10     73  \n",
       "Maintenance                          36              5     61  \n",
       "March                                 2            126    379  \n",
       "Overturn                              0             20    212  \n",
       "Pilgrimage                            0              2      2  \n",
       "ProtestCamp                           0              0      2  \n",
       "Rain                                 13              3    105  \n",
       "Reopening                             0              0      4  \n",
       "Sinkhole                              0              0     13  \n",
       "StreetWorks                           1             56    385  \n",
       "VehicularAccident                     0            447   5871  \n",
       "Waterlogging                          0             48    119  \n",
       "Total                               425           1408  13542  "
      ],
      "text/html": "<div>\n<style scoped>\n    .dataframe tbody tr th:only-of-type {\n        vertical-align: middle;\n    }\n\n    .dataframe tbody tr th {\n        vertical-align: top;\n    }\n\n    .dataframe thead th {\n        text-align: right;\n    }\n</style>\n<table border=\"1\" class=\"dataframe\">\n  <thead>\n    <tr style=\"text-align: right;\">\n      <th>effect</th>\n      <th></th>\n      <th>CirculationRestored</th>\n      <th>CirculationShutdown</th>\n      <th>Delays</th>\n      <th>Evacuation</th>\n      <th>FullCapacity</th>\n      <th>HighWaitingTime</th>\n      <th>InterimService</th>\n      <th>LaneReduction</th>\n      <th>RouteDetour</th>\n      <th>SecuritySpeed</th>\n      <th>SuspensionOfService</th>\n      <th>TrafficImpact</th>\n      <th>Total</th>\n    </tr>\n    <tr>\n      <th>cause</th>\n      <th></th>\n      <th></th>\n      <th></th>\n      <th></th>\n      <th></th>\n      <th></th>\n      <th></th>\n      <th></th>\n      <th></th>\n      <th></th>\n      <th></th>\n      <th></th>\n      <th></th>\n      <th></th>\n    </tr>\n  </thead>\n  <tbody>\n    <tr>\n      <th>BrokenTrafficLight</th>\n      <td>0</td>\n      <td>0</td>\n      <td>0</td>\n      <td>23</td>\n      <td>0</td>\n      <td>0</td>\n      <td>0</td>\n      <td>0</td>\n      <td>2</td>\n      <td>0</td>\n      <td>0</td>\n      <td>0</td>\n      <td>22</td>\n      <td>47</td>\n    </tr>\n    <tr>\n      <th>BrokenVehicle</th>\n      <td>0</td>\n      <td>0</td>\n      <td>4</td>\n      <td>390</td>\n      <td>0</td>\n      <td>0</td>\n      <td>0</td>\n      <td>0</td>\n      <td>39</td>\n      <td>0</td>\n      <td>0</td>\n      <td>12</td>\n      <td>55</td>\n      <td>500</td>\n    </tr>\n    <tr>\n      <th>COVID19</th>\n      <td>0</td>\n      <td>0</td>\n      <td>7</td>\n      <td>1</td>\n      <td>0</td>\n      <td>5</td>\n      <td>0</td>\n      <td>0</td>\n      <td>0</td>\n      <td>0</td>\n      <td>0</td>\n      <td>18</td>\n      <td>1</td>\n      <td>32</td>\n    </tr>\n    <tr>\n      <th>Counterflow</th>\n      <td>0</td>\n      <td>0</td>\n      <td>0</td>\n      <td>2</td>\n      <td>0</td>\n      <td>0</td>\n      <td>0</td>\n      <td>0</td>\n      <td>0</td>\n      <td>0</td>\n      <td>0</td>\n      <td>0</td>\n      <td>2</td>\n      <td>4</td>\n    </tr>\n    <tr>\n      <th>CycleRide</th>\n      <td>0</td>\n      <td>0</td>\n      <td>4</td>\n      <td>3</td>\n      <td>0</td>\n      <td>0</td>\n      <td>0</td>\n      <td>0</td>\n      <td>0</td>\n      <td>0</td>\n      <td>0</td>\n      <td>0</td>\n      <td>16</td>\n      <td>23</td>\n    </tr>\n    <tr>\n      <th>Demonstration</th>\n      <td>1</td>\n      <td>321</td>\n      <td>1896</td>\n      <td>166</td>\n      <td>0</td>\n      <td>0</td>\n      <td>0</td>\n      <td>65</td>\n      <td>54</td>\n      <td>5</td>\n      <td>6</td>\n      <td>251</td>\n      <td>226</td>\n      <td>2991</td>\n    </tr>\n    <tr>\n      <th>EmergencyServices</th>\n      <td>2</td>\n      <td>1</td>\n      <td>20</td>\n      <td>860</td>\n      <td>0</td>\n      <td>0</td>\n      <td>0</td>\n      <td>0</td>\n      <td>208</td>\n      <td>0</td>\n      <td>0</td>\n      <td>4</td>\n      <td>253</td>\n      <td>1348</td>\n    </tr>\n    <tr>\n      <th>Event</th>\n      <td>0</td>\n      <td>2</td>\n      <td>4</td>\n      <td>0</td>\n      <td>0</td>\n      <td>0</td>\n      <td>0</td>\n      <td>0</td>\n      <td>2</td>\n      <td>0</td>\n      <td>3</td>\n      <td>5</td>\n      <td>0</td>\n      <td>16</td>\n    </tr>\n    <tr>\n      <th>Explosion</th>\n      <td>0</td>\n      <td>0</td>\n      <td>0</td>\n      <td>0</td>\n      <td>0</td>\n      <td>0</td>\n      <td>0</td>\n      <td>0</td>\n      <td>0</td>\n      <td>0</td>\n      <td>0</td>\n      <td>0</td>\n      <td>1</td>\n      <td>1</td>\n    </tr>\n    <tr>\n      <th>FallenTree</th>\n      <td>0</td>\n      <td>0</td>\n      <td>3</td>\n      <td>46</td>\n      <td>0</td>\n      <td>0</td>\n      <td>0</td>\n      <td>0</td>\n      <td>25</td>\n      <td>0</td>\n      <td>0</td>\n      <td>2</td>\n      <td>21</td>\n      <td>97</td>\n    </tr>\n    <tr>\n      <th>Fire</th>\n      <td>0</td>\n      <td>3</td>\n      <td>4</td>\n      <td>98</td>\n      <td>0</td>\n      <td>1</td>\n      <td>2</td>\n      <td>6</td>\n      <td>10</td>\n      <td>0</td>\n      <td>1</td>\n      <td>11</td>\n      <td>26</td>\n      <td>162</td>\n    </tr>\n    <tr>\n      <th>Flood</th>\n      <td>2</td>\n      <td>4</td>\n      <td>1</td>\n      <td>24</td>\n      <td>0</td>\n      <td>0</td>\n      <td>0</td>\n      <td>4</td>\n      <td>1</td>\n      <td>0</td>\n      <td>0</td>\n      <td>5</td>\n      <td>26</td>\n      <td>67</td>\n    </tr>\n    <tr>\n      <th>GasLeak</th>\n      <td>0</td>\n      <td>3</td>\n      <td>4</td>\n      <td>14</td>\n      <td>0</td>\n      <td>0</td>\n      <td>0</td>\n      <td>1</td>\n      <td>4</td>\n      <td>0</td>\n      <td>0</td>\n      <td>2</td>\n      <td>5</td>\n      <td>33</td>\n    </tr>\n    <tr>\n      <th>HeavyTraffic</th>\n      <td>0</td>\n      <td>1</td>\n      <td>0</td>\n      <td>20</td>\n      <td>0</td>\n      <td>0</td>\n      <td>0</td>\n      <td>0</td>\n      <td>0</td>\n      <td>0</td>\n      <td>8</td>\n      <td>1</td>\n      <td>3</td>\n      <td>33</td>\n    </tr>\n    <tr>\n      <th>Incident</th>\n      <td>4</td>\n      <td>24</td>\n      <td>92</td>\n      <td>452</td>\n      <td>1</td>\n      <td>0</td>\n      <td>92</td>\n      <td>27</td>\n      <td>6</td>\n      <td>0</td>\n      <td>168</td>\n      <td>62</td>\n      <td>32</td>\n      <td>960</td>\n    </tr>\n    <tr>\n      <th>Landslide</th>\n      <td>0</td>\n      <td>0</td>\n      <td>0</td>\n      <td>0</td>\n      <td>0</td>\n      <td>0</td>\n      <td>0</td>\n      <td>0</td>\n      <td>0</td>\n      <td>0</td>\n      <td>0</td>\n      <td>0</td>\n      <td>2</td>\n      <td>2</td>\n    </tr>\n    <tr>\n      <th>Leak</th>\n      <td>0</td>\n      <td>0</td>\n      <td>2</td>\n      <td>52</td>\n      <td>0</td>\n      <td>0</td>\n      <td>0</td>\n      <td>0</td>\n      <td>9</td>\n      <td>0</td>\n      <td>0</td>\n      <td>0</td>\n      <td>10</td>\n      <td>73</td>\n    </tr>\n    <tr>\n      <th>Maintenance</th>\n      <td>0</td>\n      <td>1</td>\n      <td>3</td>\n      <td>9</td>\n      <td>0</td>\n      <td>0</td>\n      <td>1</td>\n      <td>4</td>\n      <td>2</td>\n      <td>0</td>\n      <td>0</td>\n      <td>36</td>\n      <td>5</td>\n      <td>61</td>\n    </tr>\n    <tr>\n      <th>March</th>\n      <td>0</td>\n      <td>12</td>\n      <td>202</td>\n      <td>34</td>\n      <td>0</td>\n      <td>0</td>\n      <td>0</td>\n      <td>3</td>\n      <td>0</td>\n      <td>0</td>\n      <td>0</td>\n      <td>2</td>\n      <td>126</td>\n      <td>379</td>\n    </tr>\n    <tr>\n      <th>Overturn</th>\n      <td>0</td>\n      <td>0</td>\n      <td>1</td>\n      <td>155</td>\n      <td>0</td>\n      <td>0</td>\n      <td>0</td>\n      <td>0</td>\n      <td>35</td>\n      <td>0</td>\n      <td>1</td>\n      <td>0</td>\n      <td>20</td>\n      <td>212</td>\n    </tr>\n    <tr>\n      <th>Pilgrimage</th>\n      <td>0</td>\n      <td>0</td>\n      <td>0</td>\n      <td>0</td>\n      <td>0</td>\n      <td>0</td>\n      <td>0</td>\n      <td>0</td>\n      <td>0</td>\n      <td>0</td>\n      <td>0</td>\n      <td>0</td>\n      <td>2</td>\n      <td>2</td>\n    </tr>\n    <tr>\n      <th>ProtestCamp</th>\n      <td>0</td>\n      <td>0</td>\n      <td>2</td>\n      <td>0</td>\n      <td>0</td>\n      <td>0</td>\n      <td>0</td>\n      <td>0</td>\n      <td>0</td>\n      <td>0</td>\n      <td>0</td>\n      <td>0</td>\n      <td>0</td>\n      <td>2</td>\n    </tr>\n    <tr>\n      <th>Rain</th>\n      <td>0</td>\n      <td>5</td>\n      <td>0</td>\n      <td>57</td>\n      <td>0</td>\n      <td>0</td>\n      <td>1</td>\n      <td>3</td>\n      <td>0</td>\n      <td>0</td>\n      <td>23</td>\n      <td>13</td>\n      <td>3</td>\n      <td>105</td>\n    </tr>\n    <tr>\n      <th>Reopening</th>\n      <td>0</td>\n      <td>4</td>\n      <td>0</td>\n      <td>0</td>\n      <td>0</td>\n      <td>0</td>\n      <td>0</td>\n      <td>0</td>\n      <td>0</td>\n      <td>0</td>\n      <td>0</td>\n      <td>0</td>\n      <td>0</td>\n      <td>4</td>\n    </tr>\n    <tr>\n      <th>Sinkhole</th>\n      <td>0</td>\n      <td>2</td>\n      <td>3</td>\n      <td>3</td>\n      <td>0</td>\n      <td>0</td>\n      <td>0</td>\n      <td>0</td>\n      <td>5</td>\n      <td>0</td>\n      <td>0</td>\n      <td>0</td>\n      <td>0</td>\n      <td>13</td>\n    </tr>\n    <tr>\n      <th>StreetWorks</th>\n      <td>2</td>\n      <td>2</td>\n      <td>114</td>\n      <td>104</td>\n      <td>1</td>\n      <td>0</td>\n      <td>0</td>\n      <td>3</td>\n      <td>97</td>\n      <td>2</td>\n      <td>3</td>\n      <td>1</td>\n      <td>56</td>\n      <td>385</td>\n    </tr>\n    <tr>\n      <th>VehicularAccident</th>\n      <td>5</td>\n      <td>1</td>\n      <td>17</td>\n      <td>5115</td>\n      <td>0</td>\n      <td>0</td>\n      <td>2</td>\n      <td>0</td>\n      <td>284</td>\n      <td>0</td>\n      <td>0</td>\n      <td>0</td>\n      <td>447</td>\n      <td>5871</td>\n    </tr>\n    <tr>\n      <th>Waterlogging</th>\n      <td>0</td>\n      <td>0</td>\n      <td>4</td>\n      <td>57</td>\n      <td>0</td>\n      <td>0</td>\n      <td>0</td>\n      <td>2</td>\n      <td>8</td>\n      <td>0</td>\n      <td>0</td>\n      <td>0</td>\n      <td>48</td>\n      <td>119</td>\n    </tr>\n    <tr>\n      <th>Total</th>\n      <td>16</td>\n      <td>386</td>\n      <td>2387</td>\n      <td>7685</td>\n      <td>2</td>\n      <td>6</td>\n      <td>98</td>\n      <td>118</td>\n      <td>791</td>\n      <td>7</td>\n      <td>213</td>\n      <td>425</td>\n      <td>1408</td>\n      <td>13542</td>\n    </tr>\n  </tbody>\n</table>\n</div>"
     },
     "metadata": {},
     "execution_count": 7
    }
   ],
   "source": [
    "cause_effect_table"
   ]
  },
  {
   "source": [
    "Dropping the rows that contain source in join_field"
   ],
   "cell_type": "markdown",
   "metadata": {}
  },
  {
   "cell_type": "code",
   "execution_count": 8,
   "metadata": {},
   "outputs": [],
   "source": [
    "source_purge= notification_df[(notification_df[\"join_field\"]==\"source\")].index\n",
    "notification_df.drop(source_purge, axis=0, inplace=True)"
   ]
  },
  {
   "source": [
    "Fixing the event_name column:"
   ],
   "cell_type": "markdown",
   "metadata": {}
  },
  {
   "cell_type": "code",
   "execution_count": 9,
   "metadata": {},
   "outputs": [],
   "source": [
    "notification_df[\"event_name\"].replace(\"notification_receive\",\"notification_received\", inplace=True)"
   ]
  },
  {
   "cell_type": "code",
   "execution_count": 10,
   "metadata": {},
   "outputs": [],
   "source": [
    "notification_df[\"event_name\"].replace(\"notification_open\",\"notification_opened\", inplace=True)"
   ]
  },
  {
   "cell_type": "code",
   "execution_count": 56,
   "metadata": {},
   "outputs": [],
   "source": [
    "merged_df= pd.merge(notification_df, alert_df, left_on=\"join_key_value\", right_on=\"document_id\", how=\"outer\")"
   ]
  },
  {
   "cell_type": "code",
   "execution_count": null,
   "metadata": {},
   "outputs": [],
   "source": [
    "print (notification_df.shape())\n",
    "print (alert_df.shape())"
   ]
  },
  {
   "cell_type": "code",
   "execution_count": null,
   "metadata": {},
   "outputs": [],
   "source": [
    "merged_df.head()"
   ]
  },
  {
   "cell_type": "code",
   "execution_count": 11,
   "metadata": {},
   "outputs": [],
   "source": [
    "label_merger= notification_df.query(\"join_field == 'label'\")\n",
    "alert_id_merger= notification_df.query(\"join_field == 'alertId'\")"
   ]
  },
  {
   "cell_type": "code",
   "execution_count": 39,
   "metadata": {},
   "outputs": [
    {
     "output_type": "execute_result",
     "data": {
      "text/plain": [
       "   event_date   event_timestamp             event_name user_id join_field  \\\n",
       "0    20210529  1622251203899000  notification_received   283a1      label   \n",
       "1    20210529  1622257988561000  notification_received   283a1      label   \n",
       "2    20210529  1622258235184001  notification_received   283a1      label   \n",
       "3    20210529  1622260301025000  notification_received   283a1      label   \n",
       "4    20210529  1622293962198000  notification_received   283a1      label   \n",
       "\n",
       "         join_key_value  \n",
       "0  -Maph6wn8GA3SjPIc9HA  \n",
       "1  -Maq63vqDUxQRawQ_3Au  \n",
       "2  -Maq7-D7bhcEaFBU1LDW  \n",
       "3  -MaqEsbKAqlxGG-RupjR  \n",
       "4  -MasFHCt_lTuNt_x16dH  "
      ],
      "text/html": "<div>\n<style scoped>\n    .dataframe tbody tr th:only-of-type {\n        vertical-align: middle;\n    }\n\n    .dataframe tbody tr th {\n        vertical-align: top;\n    }\n\n    .dataframe thead th {\n        text-align: right;\n    }\n</style>\n<table border=\"1\" class=\"dataframe\">\n  <thead>\n    <tr style=\"text-align: right;\">\n      <th></th>\n      <th>event_date</th>\n      <th>event_timestamp</th>\n      <th>event_name</th>\n      <th>user_id</th>\n      <th>join_field</th>\n      <th>join_key_value</th>\n    </tr>\n  </thead>\n  <tbody>\n    <tr>\n      <th>0</th>\n      <td>20210529</td>\n      <td>1622251203899000</td>\n      <td>notification_received</td>\n      <td>283a1</td>\n      <td>label</td>\n      <td>-Maph6wn8GA3SjPIc9HA</td>\n    </tr>\n    <tr>\n      <th>1</th>\n      <td>20210529</td>\n      <td>1622257988561000</td>\n      <td>notification_received</td>\n      <td>283a1</td>\n      <td>label</td>\n      <td>-Maq63vqDUxQRawQ_3Au</td>\n    </tr>\n    <tr>\n      <th>2</th>\n      <td>20210529</td>\n      <td>1622258235184001</td>\n      <td>notification_received</td>\n      <td>283a1</td>\n      <td>label</td>\n      <td>-Maq7-D7bhcEaFBU1LDW</td>\n    </tr>\n    <tr>\n      <th>3</th>\n      <td>20210529</td>\n      <td>1622260301025000</td>\n      <td>notification_received</td>\n      <td>283a1</td>\n      <td>label</td>\n      <td>-MaqEsbKAqlxGG-RupjR</td>\n    </tr>\n    <tr>\n      <th>4</th>\n      <td>20210529</td>\n      <td>1622293962198000</td>\n      <td>notification_received</td>\n      <td>283a1</td>\n      <td>label</td>\n      <td>-MasFHCt_lTuNt_x16dH</td>\n    </tr>\n  </tbody>\n</table>\n</div>"
     },
     "metadata": {},
     "execution_count": 39
    }
   ],
   "source": [
    "label_merger.head()"
   ]
  },
  {
   "cell_type": "code",
   "execution_count": 49,
   "metadata": {},
   "outputs": [],
   "source": [
    "merged_df_1= pd.merge(label_merger, alert_df, left_on=\"join_key_value\", right_on=\"document_id\", how=\"outer\")\n",
    "merged_df_2= pd.merge(alert_id_merger, alert_df, left_on=\"join_key_value\", right_on=\"document_id\", how=\"outer\")"
   ]
  },
  {
   "cell_type": "code",
   "execution_count": 47,
   "metadata": {},
   "outputs": [
    {
     "output_type": "execute_result",
     "data": {
      "text/plain": [
       "False    2109155\n",
       "True       93912\n",
       "Name: join_key_value, dtype: int64"
      ]
     },
     "metadata": {},
     "execution_count": 47
    }
   ],
   "source": [
    "#label_merger.where(label_merger[\"join_key_value\"] == alert_df[\"surrogate_id\"],True, False)\n",
    "label_merger['join_key_value'].isin(alert_df['document_id']).value_counts()\n",
    "\n",
    "#dfAns = df1.merge(df2, on = 'id', how = 'outer').merge(df3, on='id', how='outer').fillna(0)"
   ]
  },
  {
   "cell_type": "code",
   "execution_count": 51,
   "metadata": {},
   "outputs": [
    {
     "output_type": "execute_result",
     "data": {
      "text/plain": [
       "True     32183\n",
       "False     4310\n",
       "Name: join_key_value, dtype: int64"
      ]
     },
     "metadata": {},
     "execution_count": 51
    }
   ],
   "source": [
    "alert_id_merger['join_key_value'].isin(alert_df['document_id']).value_counts()"
   ]
  },
  {
   "cell_type": "code",
   "execution_count": 54,
   "metadata": {},
   "outputs": [
    {
     "output_type": "execute_result",
     "data": {
      "text/plain": [
       "False    2203067\n",
       "Name: join_key_value, dtype: int64"
      ]
     },
     "metadata": {},
     "execution_count": 54
    }
   ],
   "source": [
    "label_merger['join_key_value'].isin(alert_df['surrogate_id']).value_counts()"
   ]
  },
  {
   "cell_type": "code",
   "execution_count": 55,
   "metadata": {},
   "outputs": [
    {
     "output_type": "execute_result",
     "data": {
      "text/plain": [
       "False    36493\n",
       "Name: join_key_value, dtype: int64"
      ]
     },
     "metadata": {},
     "execution_count": 55
    }
   ],
   "source": [
    "alert_id_merger['join_key_value'].isin(alert_df['surrogate_id']).value_counts()"
   ]
  },
  {
   "cell_type": "code",
   "execution_count": 37,
   "metadata": {},
   "outputs": [
    {
     "output_type": "execute_result",
     "data": {
      "text/plain": [
       "(2203067, 6)"
      ]
     },
     "metadata": {},
     "execution_count": 37
    }
   ],
   "source": [
    "label_merger.shape"
   ]
  },
  {
   "cell_type": "code",
   "execution_count": 38,
   "metadata": {},
   "outputs": [
    {
     "output_type": "execute_result",
     "data": {
      "text/plain": [
       "(36493, 6)"
      ]
     },
     "metadata": {},
     "execution_count": 38
    }
   ],
   "source": [
    "alert_id_merger.shape"
   ]
  },
  {
   "cell_type": "code",
   "execution_count": 25,
   "metadata": {},
   "outputs": [],
   "source": [
    "merged_df= pd.concat([merged_df_1, merged_df_2], axis=0)"
   ]
  },
  {
   "cell_type": "code",
   "execution_count": 35,
   "metadata": {},
   "outputs": [
    {
     "output_type": "execute_result",
     "data": {
      "text/plain": [
       "2203067"
      ]
     },
     "metadata": {},
     "execution_count": 35
    }
   ],
   "source": [
    "merged_df_1[\"agency\"].isnull().count()"
   ]
  },
  {
   "cell_type": "code",
   "execution_count": 26,
   "metadata": {},
   "outputs": [
    {
     "output_type": "stream",
     "name": "stdout",
     "text": [
      "0\n"
     ]
    }
   ],
   "source": [
    "print(merged_df.shape[0]- merged_df_1.shape[0]-merged_df_2.shape[0])"
   ]
  },
  {
   "cell_type": "code",
   "execution_count": 32,
   "metadata": {},
   "outputs": [
    {
     "output_type": "execute_result",
     "data": {
      "text/plain": [
       "         event_date   event_timestamp             event_name user_id  \\\n",
       "0          20210529  1622251203899000  notification_received   283a1   \n",
       "1          20210529  1622257988561000  notification_received   283a1   \n",
       "2          20210529  1622258235184001  notification_received   283a1   \n",
       "3          20210529  1622260301025000  notification_received   283a1   \n",
       "4          20210529  1622293962198000  notification_received   283a1   \n",
       "...             ...               ...                    ...     ...   \n",
       "2203062    20210210  1612909178334000  notification_received   fff18   \n",
       "2203063    20210210  1612969431222000  notification_received   fff18   \n",
       "2203064    20210210  1612978431552000  notification_received   fff18   \n",
       "2203065    20210210  1612985245425000  notification_received   fff18   \n",
       "2203066    20210210  1612994120482000  notification_received   fff18   \n",
       "\n",
       "        join_field          join_key_value document_id surrogate_id  \\\n",
       "0            label    -Maph6wn8GA3SjPIc9HA         NaN          NaN   \n",
       "1            label    -Maq63vqDUxQRawQ_3Au         NaN          NaN   \n",
       "2            label    -Maq7-D7bhcEaFBU1LDW         NaN          NaN   \n",
       "3            label    -MaqEsbKAqlxGG-RupjR         NaN          NaN   \n",
       "4            label    -MasFHCt_lTuNt_x16dH         NaN          NaN   \n",
       "...            ...                     ...         ...          ...   \n",
       "2203062      label  0NbaiCRr6xGFd2035-Gdlw         NaN          NaN   \n",
       "2203063      label  EMDjKLFr6xGRbrsa0gDjhg         NaN          NaN   \n",
       "2203064      label  YE2VDMZr6xGRbrsa0gDjhg         NaN          NaN   \n",
       "2203065      label  YBu-7NVr6xGRbrsa0gDjhg         NaN          NaN   \n",
       "2203066      label  YBIdVepr6xGRbrsa0gDjhg         NaN          NaN   \n",
       "\n",
       "        created_at published_at closed_at cause effect description is_global  \\\n",
       "0              NaT          NaT       NaT   NaN    NaN         NaN       NaN   \n",
       "1              NaT          NaT       NaT   NaN    NaN         NaN       NaN   \n",
       "2              NaT          NaT       NaT   NaN    NaN         NaN       NaN   \n",
       "3              NaT          NaT       NaT   NaN    NaN         NaN       NaN   \n",
       "4              NaT          NaT       NaT   NaN    NaN         NaN       NaN   \n",
       "...            ...          ...       ...   ...    ...         ...       ...   \n",
       "2203062        NaT          NaT       NaT   NaN    NaN         NaN       NaN   \n",
       "2203063        NaT          NaT       NaT   NaN    NaN         NaN       NaN   \n",
       "2203064        NaT          NaT       NaT   NaN    NaN         NaN       NaN   \n",
       "2203065        NaT          NaT       NaT   NaN    NaN         NaN       NaN   \n",
       "2203066        NaT          NaT       NaT   NaN    NaN         NaN       NaN   \n",
       "\n",
       "        agency area_of_effect_coordinates  \n",
       "0          NaN                        NaN  \n",
       "1          NaN                        NaN  \n",
       "2          NaN                        NaN  \n",
       "3          NaN                        NaN  \n",
       "4          NaN                        NaN  \n",
       "...        ...                        ...  \n",
       "2203062    NaN                        NaN  \n",
       "2203063    NaN                        NaN  \n",
       "2203064    NaN                        NaN  \n",
       "2203065    NaN                        NaN  \n",
       "2203066    NaN                        NaN  \n",
       "\n",
       "[2203067 rows x 17 columns]"
      ],
      "text/html": "<div>\n<style scoped>\n    .dataframe tbody tr th:only-of-type {\n        vertical-align: middle;\n    }\n\n    .dataframe tbody tr th {\n        vertical-align: top;\n    }\n\n    .dataframe thead th {\n        text-align: right;\n    }\n</style>\n<table border=\"1\" class=\"dataframe\">\n  <thead>\n    <tr style=\"text-align: right;\">\n      <th></th>\n      <th>event_date</th>\n      <th>event_timestamp</th>\n      <th>event_name</th>\n      <th>user_id</th>\n      <th>join_field</th>\n      <th>join_key_value</th>\n      <th>document_id</th>\n      <th>surrogate_id</th>\n      <th>created_at</th>\n      <th>published_at</th>\n      <th>closed_at</th>\n      <th>cause</th>\n      <th>effect</th>\n      <th>description</th>\n      <th>is_global</th>\n      <th>agency</th>\n      <th>area_of_effect_coordinates</th>\n    </tr>\n  </thead>\n  <tbody>\n    <tr>\n      <th>0</th>\n      <td>20210529</td>\n      <td>1622251203899000</td>\n      <td>notification_received</td>\n      <td>283a1</td>\n      <td>label</td>\n      <td>-Maph6wn8GA3SjPIc9HA</td>\n      <td>NaN</td>\n      <td>NaN</td>\n      <td>NaT</td>\n      <td>NaT</td>\n      <td>NaT</td>\n      <td>NaN</td>\n      <td>NaN</td>\n      <td>NaN</td>\n      <td>NaN</td>\n      <td>NaN</td>\n      <td>NaN</td>\n    </tr>\n    <tr>\n      <th>1</th>\n      <td>20210529</td>\n      <td>1622257988561000</td>\n      <td>notification_received</td>\n      <td>283a1</td>\n      <td>label</td>\n      <td>-Maq63vqDUxQRawQ_3Au</td>\n      <td>NaN</td>\n      <td>NaN</td>\n      <td>NaT</td>\n      <td>NaT</td>\n      <td>NaT</td>\n      <td>NaN</td>\n      <td>NaN</td>\n      <td>NaN</td>\n      <td>NaN</td>\n      <td>NaN</td>\n      <td>NaN</td>\n    </tr>\n    <tr>\n      <th>2</th>\n      <td>20210529</td>\n      <td>1622258235184001</td>\n      <td>notification_received</td>\n      <td>283a1</td>\n      <td>label</td>\n      <td>-Maq7-D7bhcEaFBU1LDW</td>\n      <td>NaN</td>\n      <td>NaN</td>\n      <td>NaT</td>\n      <td>NaT</td>\n      <td>NaT</td>\n      <td>NaN</td>\n      <td>NaN</td>\n      <td>NaN</td>\n      <td>NaN</td>\n      <td>NaN</td>\n      <td>NaN</td>\n    </tr>\n    <tr>\n      <th>3</th>\n      <td>20210529</td>\n      <td>1622260301025000</td>\n      <td>notification_received</td>\n      <td>283a1</td>\n      <td>label</td>\n      <td>-MaqEsbKAqlxGG-RupjR</td>\n      <td>NaN</td>\n      <td>NaN</td>\n      <td>NaT</td>\n      <td>NaT</td>\n      <td>NaT</td>\n      <td>NaN</td>\n      <td>NaN</td>\n      <td>NaN</td>\n      <td>NaN</td>\n      <td>NaN</td>\n      <td>NaN</td>\n    </tr>\n    <tr>\n      <th>4</th>\n      <td>20210529</td>\n      <td>1622293962198000</td>\n      <td>notification_received</td>\n      <td>283a1</td>\n      <td>label</td>\n      <td>-MasFHCt_lTuNt_x16dH</td>\n      <td>NaN</td>\n      <td>NaN</td>\n      <td>NaT</td>\n      <td>NaT</td>\n      <td>NaT</td>\n      <td>NaN</td>\n      <td>NaN</td>\n      <td>NaN</td>\n      <td>NaN</td>\n      <td>NaN</td>\n      <td>NaN</td>\n    </tr>\n    <tr>\n      <th>...</th>\n      <td>...</td>\n      <td>...</td>\n      <td>...</td>\n      <td>...</td>\n      <td>...</td>\n      <td>...</td>\n      <td>...</td>\n      <td>...</td>\n      <td>...</td>\n      <td>...</td>\n      <td>...</td>\n      <td>...</td>\n      <td>...</td>\n      <td>...</td>\n      <td>...</td>\n      <td>...</td>\n      <td>...</td>\n    </tr>\n    <tr>\n      <th>2203062</th>\n      <td>20210210</td>\n      <td>1612909178334000</td>\n      <td>notification_received</td>\n      <td>fff18</td>\n      <td>label</td>\n      <td>0NbaiCRr6xGFd2035-Gdlw</td>\n      <td>NaN</td>\n      <td>NaN</td>\n      <td>NaT</td>\n      <td>NaT</td>\n      <td>NaT</td>\n      <td>NaN</td>\n      <td>NaN</td>\n      <td>NaN</td>\n      <td>NaN</td>\n      <td>NaN</td>\n      <td>NaN</td>\n    </tr>\n    <tr>\n      <th>2203063</th>\n      <td>20210210</td>\n      <td>1612969431222000</td>\n      <td>notification_received</td>\n      <td>fff18</td>\n      <td>label</td>\n      <td>EMDjKLFr6xGRbrsa0gDjhg</td>\n      <td>NaN</td>\n      <td>NaN</td>\n      <td>NaT</td>\n      <td>NaT</td>\n      <td>NaT</td>\n      <td>NaN</td>\n      <td>NaN</td>\n      <td>NaN</td>\n      <td>NaN</td>\n      <td>NaN</td>\n      <td>NaN</td>\n    </tr>\n    <tr>\n      <th>2203064</th>\n      <td>20210210</td>\n      <td>1612978431552000</td>\n      <td>notification_received</td>\n      <td>fff18</td>\n      <td>label</td>\n      <td>YE2VDMZr6xGRbrsa0gDjhg</td>\n      <td>NaN</td>\n      <td>NaN</td>\n      <td>NaT</td>\n      <td>NaT</td>\n      <td>NaT</td>\n      <td>NaN</td>\n      <td>NaN</td>\n      <td>NaN</td>\n      <td>NaN</td>\n      <td>NaN</td>\n      <td>NaN</td>\n    </tr>\n    <tr>\n      <th>2203065</th>\n      <td>20210210</td>\n      <td>1612985245425000</td>\n      <td>notification_received</td>\n      <td>fff18</td>\n      <td>label</td>\n      <td>YBu-7NVr6xGRbrsa0gDjhg</td>\n      <td>NaN</td>\n      <td>NaN</td>\n      <td>NaT</td>\n      <td>NaT</td>\n      <td>NaT</td>\n      <td>NaN</td>\n      <td>NaN</td>\n      <td>NaN</td>\n      <td>NaN</td>\n      <td>NaN</td>\n      <td>NaN</td>\n    </tr>\n    <tr>\n      <th>2203066</th>\n      <td>20210210</td>\n      <td>1612994120482000</td>\n      <td>notification_received</td>\n      <td>fff18</td>\n      <td>label</td>\n      <td>YBIdVepr6xGRbrsa0gDjhg</td>\n      <td>NaN</td>\n      <td>NaN</td>\n      <td>NaT</td>\n      <td>NaT</td>\n      <td>NaT</td>\n      <td>NaN</td>\n      <td>NaN</td>\n      <td>NaN</td>\n      <td>NaN</td>\n      <td>NaN</td>\n      <td>NaN</td>\n    </tr>\n  </tbody>\n</table>\n<p>2203067 rows × 17 columns</p>\n</div>"
     },
     "metadata": {},
     "execution_count": 32
    }
   ],
   "source": [
    "merged_df_1"
   ]
  },
  {
   "cell_type": "code",
   "execution_count": 33,
   "metadata": {},
   "outputs": [
    {
     "output_type": "execute_result",
     "data": {
      "text/plain": [
       "       event_date   event_timestamp             event_name user_id join_field  \\\n",
       "0        20210529  1622254038809000  notification_received   0f737    alertId   \n",
       "1        20210529  1622260302438000  notification_received   0f737    alertId   \n",
       "2        20210529  1622260302438000  notification_received   0f737    alertId   \n",
       "3        20210529  1622260302438000  notification_received   0f737    alertId   \n",
       "4        20210529  1622254036776000  notification_received   baafe    alertId   \n",
       "...           ...               ...                    ...     ...        ...   \n",
       "50040    20210706  1625581262819000  notification_received   e0b4d    alertId   \n",
       "50041    20210706  1625584900674000  notification_received   e0b4d    alertId   \n",
       "50042    20210706  1625587521801000  notification_received   e0b4d    alertId   \n",
       "50043    20210706  1625528529057001  notification_received   427c1    alertId   \n",
       "50044    20210706  1625569119343000  notification_received   427c1    alertId   \n",
       "\n",
       "             join_key_value           document_id            surrogate_id  \\\n",
       "0      -Maps-egC8fFLZM4HR5g  -Maps-egC8fFLZM4HR5g  wB4ikyLA6xGpKOFIXMTiIg   \n",
       "1      -MaqEsbKAqlxGG-RupjR  -MaqEsbKAqlxGG-RupjR  UFB5JTHA6xGpKOFIXMTiIg   \n",
       "2      -MaqEsbKAqlxGG-RupjR  -MaqEsbKAqlxGG-RupjR  UFB5JTHA6xGpKOFIXMTiIg   \n",
       "3      -MaqEsbKAqlxGG-RupjR  -MaqEsbKAqlxGG-RupjR  UFB5JTHA6xGpKOFIXMTiIg   \n",
       "4      -Maps-egC8fFLZM4HR5g  -Maps-egC8fFLZM4HR5g  wB4ikyLA6xGpKOFIXMTiIg   \n",
       "...                     ...                   ...                     ...   \n",
       "50040  -MdwBMI8mNXadCw7GwTc  -MdwBMI8mNXadCw7GwTc  kCtjX2Xe6xGa3QeEZ-Zg-g   \n",
       "50041  -MdwPCoa1U3j5wMZ8J99  -MdwPCoa1U3j5wMZ8J99  YNy_023e6xGa3QeEZ-Zg-g   \n",
       "50042  -MdwZE8hMtqpcYoaNhzM  -MdwZE8hMtqpcYoaNhzM  0AF_8XPe6xGa3QeEZ-Zg-g   \n",
       "50043  -Mdt2BT-2y05YXyJctt2  -Mdt2BT-2y05YXyJctt2  ADiylurd6xGf17VsriRlgg   \n",
       "50044  -MdvT00Ih682ZROXWv-n  -MdvT00Ih682ZROXWv-n  MOp-FUne6xGEdyPHk--PKA   \n",
       "\n",
       "                     created_at              published_at  \\\n",
       "0     2021-05-29 02:07:09+00:00 2021-05-29 02:07:12+00:00   \n",
       "1     2021-05-29 03:51:27+00:00 2021-05-29 03:51:33+00:00   \n",
       "2     2021-05-29 03:51:27+00:00 2021-05-29 03:51:33+00:00   \n",
       "3     2021-05-29 03:51:27+00:00 2021-05-29 03:51:33+00:00   \n",
       "4     2021-05-29 02:07:09+00:00 2021-05-29 02:07:12+00:00   \n",
       "...                         ...                       ...   \n",
       "50040 2021-07-06 14:20:53+00:00 2021-07-06 14:20:59+00:00   \n",
       "50041 2021-07-06 15:21:25+00:00 2021-07-06 15:21:36+00:00   \n",
       "50042 2021-07-06 16:05:11+00:00 2021-07-06 16:05:16+00:00   \n",
       "50043 2021-07-05 23:41:58+00:00 2021-07-05 23:42:01+00:00   \n",
       "50044 2021-07-06 10:58:23+00:00 2021-07-06 10:58:26+00:00   \n",
       "\n",
       "                      closed_at              cause               effect  \\\n",
       "0     2021-05-29 03:01:00+00:00  VehicularAccident               Delays   \n",
       "1     2021-05-29 04:37:00+00:00      Demonstration  CirculationRestored   \n",
       "2     2021-05-29 04:37:00+00:00      Demonstration  CirculationRestored   \n",
       "3     2021-05-29 04:37:00+00:00      Demonstration  CirculationRestored   \n",
       "4     2021-05-29 03:01:00+00:00  VehicularAccident               Delays   \n",
       "...                         ...                ...                  ...   \n",
       "50040 2021-07-06 15:21:33+00:00      Demonstration  SuspensionOfService   \n",
       "50041 2021-07-06 20:46:48+00:00      Demonstration  SuspensionOfService   \n",
       "50042 2021-07-06 17:37:59+00:00      Demonstration  SuspensionOfService   \n",
       "50043 2021-07-06 02:00:01+00:00               Rain               Delays   \n",
       "50044 2021-07-06 12:00:00+00:00           Incident               Delays   \n",
       "\n",
       "                                             description is_global  \\\n",
       "0      ⌛  ¡No de nuevo! Hay retrasos por accidente ve...     false   \n",
       "1      ✋ ¡Mucho ojo! Se restablece la circulación de ...     false   \n",
       "2      ✋ ¡Mucho ojo! Se restablece la circulación de ...     false   \n",
       "3      ✋ ¡Mucho ojo! Se restablece la circulación de ...     false   \n",
       "4      ⌛  ¡No de nuevo! Hay retrasos por accidente ve...     false   \n",
       "...                                                  ...       ...   \n",
       "50040  🚫 ¡Que no te agarre en curva! Hay suspensión d...     false   \n",
       "50041  🚫 ¡Ah jijo! Hay suspensión del servicio por ma...     false   \n",
       "50042  🚫 ¡Changos! Hay suspensión del servicio por ma...     false   \n",
       "50043  ⏳ ¿Un cafecito con pan o qué? Debido a lluvias...     false   \n",
       "50044  ⏳ ¡Changos! Usuarios informan retrasos de más ...     false   \n",
       "\n",
       "                       agency  \\\n",
       "0      JfA8Bw8Zp024Kqu4AXiSpQ   \n",
       "1      JfA8Bw8Zp024Kqu4AXiSpQ   \n",
       "2      jLjibFoim0iwWau4AWoEdQ   \n",
       "3      zCy9zG00HEqGeKu4AWZYNQ   \n",
       "4      JfA8Bw8Zp024Kqu4AXiSpQ   \n",
       "...                       ...   \n",
       "50040  JfA8Bw8Zp024Kqu4AXiSpQ   \n",
       "50041  JfA8Bw8Zp024Kqu4AXiSpQ   \n",
       "50042  JfA8Bw8Zp024Kqu4AXiSpQ   \n",
       "50043  JUR9bFXmVkWDHqu4AXaY0g   \n",
       "50044  JUR9bFXmVkWDHqu4AXaY0g   \n",
       "\n",
       "                              area_of_effect_coordinates  \n",
       "0      [{'latitude': -99.17095221364039, 'longitude':...  \n",
       "1      [{'latitude': -99.15240583806413, 'longitude':...  \n",
       "2      [{'latitude': -99.15240583806413, 'longitude':...  \n",
       "3      [{'latitude': -99.15240583806413, 'longitude':...  \n",
       "4      [{'latitude': -99.17095221364039, 'longitude':...  \n",
       "...                                                  ...  \n",
       "50040                                               [{}]  \n",
       "50041                                               [{}]  \n",
       "50042                                               [{}]  \n",
       "50043                                               [{}]  \n",
       "50044                                               [{}]  \n",
       "\n",
       "[50045 rows x 17 columns]"
      ],
      "text/html": "<div>\n<style scoped>\n    .dataframe tbody tr th:only-of-type {\n        vertical-align: middle;\n    }\n\n    .dataframe tbody tr th {\n        vertical-align: top;\n    }\n\n    .dataframe thead th {\n        text-align: right;\n    }\n</style>\n<table border=\"1\" class=\"dataframe\">\n  <thead>\n    <tr style=\"text-align: right;\">\n      <th></th>\n      <th>event_date</th>\n      <th>event_timestamp</th>\n      <th>event_name</th>\n      <th>user_id</th>\n      <th>join_field</th>\n      <th>join_key_value</th>\n      <th>document_id</th>\n      <th>surrogate_id</th>\n      <th>created_at</th>\n      <th>published_at</th>\n      <th>closed_at</th>\n      <th>cause</th>\n      <th>effect</th>\n      <th>description</th>\n      <th>is_global</th>\n      <th>agency</th>\n      <th>area_of_effect_coordinates</th>\n    </tr>\n  </thead>\n  <tbody>\n    <tr>\n      <th>0</th>\n      <td>20210529</td>\n      <td>1622254038809000</td>\n      <td>notification_received</td>\n      <td>0f737</td>\n      <td>alertId</td>\n      <td>-Maps-egC8fFLZM4HR5g</td>\n      <td>-Maps-egC8fFLZM4HR5g</td>\n      <td>wB4ikyLA6xGpKOFIXMTiIg</td>\n      <td>2021-05-29 02:07:09+00:00</td>\n      <td>2021-05-29 02:07:12+00:00</td>\n      <td>2021-05-29 03:01:00+00:00</td>\n      <td>VehicularAccident</td>\n      <td>Delays</td>\n      <td>⌛  ¡No de nuevo! Hay retrasos por accidente ve...</td>\n      <td>false</td>\n      <td>JfA8Bw8Zp024Kqu4AXiSpQ</td>\n      <td>[{'latitude': -99.17095221364039, 'longitude':...</td>\n    </tr>\n    <tr>\n      <th>1</th>\n      <td>20210529</td>\n      <td>1622260302438000</td>\n      <td>notification_received</td>\n      <td>0f737</td>\n      <td>alertId</td>\n      <td>-MaqEsbKAqlxGG-RupjR</td>\n      <td>-MaqEsbKAqlxGG-RupjR</td>\n      <td>UFB5JTHA6xGpKOFIXMTiIg</td>\n      <td>2021-05-29 03:51:27+00:00</td>\n      <td>2021-05-29 03:51:33+00:00</td>\n      <td>2021-05-29 04:37:00+00:00</td>\n      <td>Demonstration</td>\n      <td>CirculationRestored</td>\n      <td>✋ ¡Mucho ojo! Se restablece la circulación de ...</td>\n      <td>false</td>\n      <td>JfA8Bw8Zp024Kqu4AXiSpQ</td>\n      <td>[{'latitude': -99.15240583806413, 'longitude':...</td>\n    </tr>\n    <tr>\n      <th>2</th>\n      <td>20210529</td>\n      <td>1622260302438000</td>\n      <td>notification_received</td>\n      <td>0f737</td>\n      <td>alertId</td>\n      <td>-MaqEsbKAqlxGG-RupjR</td>\n      <td>-MaqEsbKAqlxGG-RupjR</td>\n      <td>UFB5JTHA6xGpKOFIXMTiIg</td>\n      <td>2021-05-29 03:51:27+00:00</td>\n      <td>2021-05-29 03:51:33+00:00</td>\n      <td>2021-05-29 04:37:00+00:00</td>\n      <td>Demonstration</td>\n      <td>CirculationRestored</td>\n      <td>✋ ¡Mucho ojo! Se restablece la circulación de ...</td>\n      <td>false</td>\n      <td>jLjibFoim0iwWau4AWoEdQ</td>\n      <td>[{'latitude': -99.15240583806413, 'longitude':...</td>\n    </tr>\n    <tr>\n      <th>3</th>\n      <td>20210529</td>\n      <td>1622260302438000</td>\n      <td>notification_received</td>\n      <td>0f737</td>\n      <td>alertId</td>\n      <td>-MaqEsbKAqlxGG-RupjR</td>\n      <td>-MaqEsbKAqlxGG-RupjR</td>\n      <td>UFB5JTHA6xGpKOFIXMTiIg</td>\n      <td>2021-05-29 03:51:27+00:00</td>\n      <td>2021-05-29 03:51:33+00:00</td>\n      <td>2021-05-29 04:37:00+00:00</td>\n      <td>Demonstration</td>\n      <td>CirculationRestored</td>\n      <td>✋ ¡Mucho ojo! Se restablece la circulación de ...</td>\n      <td>false</td>\n      <td>zCy9zG00HEqGeKu4AWZYNQ</td>\n      <td>[{'latitude': -99.15240583806413, 'longitude':...</td>\n    </tr>\n    <tr>\n      <th>4</th>\n      <td>20210529</td>\n      <td>1622254036776000</td>\n      <td>notification_received</td>\n      <td>baafe</td>\n      <td>alertId</td>\n      <td>-Maps-egC8fFLZM4HR5g</td>\n      <td>-Maps-egC8fFLZM4HR5g</td>\n      <td>wB4ikyLA6xGpKOFIXMTiIg</td>\n      <td>2021-05-29 02:07:09+00:00</td>\n      <td>2021-05-29 02:07:12+00:00</td>\n      <td>2021-05-29 03:01:00+00:00</td>\n      <td>VehicularAccident</td>\n      <td>Delays</td>\n      <td>⌛  ¡No de nuevo! Hay retrasos por accidente ve...</td>\n      <td>false</td>\n      <td>JfA8Bw8Zp024Kqu4AXiSpQ</td>\n      <td>[{'latitude': -99.17095221364039, 'longitude':...</td>\n    </tr>\n    <tr>\n      <th>...</th>\n      <td>...</td>\n      <td>...</td>\n      <td>...</td>\n      <td>...</td>\n      <td>...</td>\n      <td>...</td>\n      <td>...</td>\n      <td>...</td>\n      <td>...</td>\n      <td>...</td>\n      <td>...</td>\n      <td>...</td>\n      <td>...</td>\n      <td>...</td>\n      <td>...</td>\n      <td>...</td>\n      <td>...</td>\n    </tr>\n    <tr>\n      <th>50040</th>\n      <td>20210706</td>\n      <td>1625581262819000</td>\n      <td>notification_received</td>\n      <td>e0b4d</td>\n      <td>alertId</td>\n      <td>-MdwBMI8mNXadCw7GwTc</td>\n      <td>-MdwBMI8mNXadCw7GwTc</td>\n      <td>kCtjX2Xe6xGa3QeEZ-Zg-g</td>\n      <td>2021-07-06 14:20:53+00:00</td>\n      <td>2021-07-06 14:20:59+00:00</td>\n      <td>2021-07-06 15:21:33+00:00</td>\n      <td>Demonstration</td>\n      <td>SuspensionOfService</td>\n      <td>🚫 ¡Que no te agarre en curva! Hay suspensión d...</td>\n      <td>false</td>\n      <td>JfA8Bw8Zp024Kqu4AXiSpQ</td>\n      <td>[{}]</td>\n    </tr>\n    <tr>\n      <th>50041</th>\n      <td>20210706</td>\n      <td>1625584900674000</td>\n      <td>notification_received</td>\n      <td>e0b4d</td>\n      <td>alertId</td>\n      <td>-MdwPCoa1U3j5wMZ8J99</td>\n      <td>-MdwPCoa1U3j5wMZ8J99</td>\n      <td>YNy_023e6xGa3QeEZ-Zg-g</td>\n      <td>2021-07-06 15:21:25+00:00</td>\n      <td>2021-07-06 15:21:36+00:00</td>\n      <td>2021-07-06 20:46:48+00:00</td>\n      <td>Demonstration</td>\n      <td>SuspensionOfService</td>\n      <td>🚫 ¡Ah jijo! Hay suspensión del servicio por ma...</td>\n      <td>false</td>\n      <td>JfA8Bw8Zp024Kqu4AXiSpQ</td>\n      <td>[{}]</td>\n    </tr>\n    <tr>\n      <th>50042</th>\n      <td>20210706</td>\n      <td>1625587521801000</td>\n      <td>notification_received</td>\n      <td>e0b4d</td>\n      <td>alertId</td>\n      <td>-MdwZE8hMtqpcYoaNhzM</td>\n      <td>-MdwZE8hMtqpcYoaNhzM</td>\n      <td>0AF_8XPe6xGa3QeEZ-Zg-g</td>\n      <td>2021-07-06 16:05:11+00:00</td>\n      <td>2021-07-06 16:05:16+00:00</td>\n      <td>2021-07-06 17:37:59+00:00</td>\n      <td>Demonstration</td>\n      <td>SuspensionOfService</td>\n      <td>🚫 ¡Changos! Hay suspensión del servicio por ma...</td>\n      <td>false</td>\n      <td>JfA8Bw8Zp024Kqu4AXiSpQ</td>\n      <td>[{}]</td>\n    </tr>\n    <tr>\n      <th>50043</th>\n      <td>20210706</td>\n      <td>1625528529057001</td>\n      <td>notification_received</td>\n      <td>427c1</td>\n      <td>alertId</td>\n      <td>-Mdt2BT-2y05YXyJctt2</td>\n      <td>-Mdt2BT-2y05YXyJctt2</td>\n      <td>ADiylurd6xGf17VsriRlgg</td>\n      <td>2021-07-05 23:41:58+00:00</td>\n      <td>2021-07-05 23:42:01+00:00</td>\n      <td>2021-07-06 02:00:01+00:00</td>\n      <td>Rain</td>\n      <td>Delays</td>\n      <td>⏳ ¿Un cafecito con pan o qué? Debido a lluvias...</td>\n      <td>false</td>\n      <td>JUR9bFXmVkWDHqu4AXaY0g</td>\n      <td>[{}]</td>\n    </tr>\n    <tr>\n      <th>50044</th>\n      <td>20210706</td>\n      <td>1625569119343000</td>\n      <td>notification_received</td>\n      <td>427c1</td>\n      <td>alertId</td>\n      <td>-MdvT00Ih682ZROXWv-n</td>\n      <td>-MdvT00Ih682ZROXWv-n</td>\n      <td>MOp-FUne6xGEdyPHk--PKA</td>\n      <td>2021-07-06 10:58:23+00:00</td>\n      <td>2021-07-06 10:58:26+00:00</td>\n      <td>2021-07-06 12:00:00+00:00</td>\n      <td>Incident</td>\n      <td>Delays</td>\n      <td>⏳ ¡Changos! Usuarios informan retrasos de más ...</td>\n      <td>false</td>\n      <td>JUR9bFXmVkWDHqu4AXaY0g</td>\n      <td>[{}]</td>\n    </tr>\n  </tbody>\n</table>\n<p>50045 rows × 17 columns</p>\n</div>"
     },
     "metadata": {},
     "execution_count": 33
    }
   ],
   "source": [
    "merged_df_2"
   ]
  },
  {
   "cell_type": "code",
   "execution_count": 17,
   "metadata": {},
   "outputs": [
    {
     "output_type": "execute_result",
     "data": {
      "text/plain": [
       "       event_date   event_timestamp             event_name user_id join_field  \\\n",
       "0        20210529  1622251203899000  notification_received   283a1      label   \n",
       "1        20210529  1622257988561000  notification_received   283a1      label   \n",
       "2        20210529  1622258235184001  notification_received   283a1      label   \n",
       "3        20210529  1622260301025000  notification_received   283a1      label   \n",
       "4        20210529  1622293962198000  notification_received   283a1      label   \n",
       "...           ...               ...                    ...     ...        ...   \n",
       "36488    20210706  1625581262819000  notification_received   e0b4d    alertId   \n",
       "36489    20210706  1625584900674000  notification_received   e0b4d    alertId   \n",
       "36490    20210706  1625587521801000  notification_received   e0b4d    alertId   \n",
       "36491    20210706  1625528529057001  notification_received   427c1    alertId   \n",
       "36492    20210706  1625569119343000  notification_received   427c1    alertId   \n",
       "\n",
       "             join_key_value document_id surrogate_id created_at published_at  \\\n",
       "0      -Maph6wn8GA3SjPIc9HA         NaN          NaN        NaT          NaT   \n",
       "1      -Maq63vqDUxQRawQ_3Au         NaN          NaN        NaT          NaT   \n",
       "2      -Maq7-D7bhcEaFBU1LDW         NaN          NaN        NaT          NaT   \n",
       "3      -MaqEsbKAqlxGG-RupjR         NaN          NaN        NaT          NaT   \n",
       "4      -MasFHCt_lTuNt_x16dH         NaN          NaN        NaT          NaT   \n",
       "...                     ...         ...          ...        ...          ...   \n",
       "36488  -MdwBMI8mNXadCw7GwTc         NaN          NaN        NaT          NaT   \n",
       "36489  -MdwPCoa1U3j5wMZ8J99         NaN          NaN        NaT          NaT   \n",
       "36490  -MdwZE8hMtqpcYoaNhzM         NaN          NaN        NaT          NaT   \n",
       "36491  -Mdt2BT-2y05YXyJctt2         NaN          NaN        NaT          NaT   \n",
       "36492  -MdvT00Ih682ZROXWv-n         NaN          NaN        NaT          NaT   \n",
       "\n",
       "      closed_at cause effect description is_global agency  \\\n",
       "0           NaT   NaN    NaN         NaN       NaN    NaN   \n",
       "1           NaT   NaN    NaN         NaN       NaN    NaN   \n",
       "2           NaT   NaN    NaN         NaN       NaN    NaN   \n",
       "3           NaT   NaN    NaN         NaN       NaN    NaN   \n",
       "4           NaT   NaN    NaN         NaN       NaN    NaN   \n",
       "...         ...   ...    ...         ...       ...    ...   \n",
       "36488       NaT   NaN    NaN         NaN       NaN    NaN   \n",
       "36489       NaT   NaN    NaN         NaN       NaN    NaN   \n",
       "36490       NaT   NaN    NaN         NaN       NaN    NaN   \n",
       "36491       NaT   NaN    NaN         NaN       NaN    NaN   \n",
       "36492       NaT   NaN    NaN         NaN       NaN    NaN   \n",
       "\n",
       "      area_of_effect_coordinates  \n",
       "0                            NaN  \n",
       "1                            NaN  \n",
       "2                            NaN  \n",
       "3                            NaN  \n",
       "4                            NaN  \n",
       "...                          ...  \n",
       "36488                        NaN  \n",
       "36489                        NaN  \n",
       "36490                        NaN  \n",
       "36491                        NaN  \n",
       "36492                        NaN  \n",
       "\n",
       "[2239560 rows x 17 columns]"
      ],
      "text/html": "<div>\n<style scoped>\n    .dataframe tbody tr th:only-of-type {\n        vertical-align: middle;\n    }\n\n    .dataframe tbody tr th {\n        vertical-align: top;\n    }\n\n    .dataframe thead th {\n        text-align: right;\n    }\n</style>\n<table border=\"1\" class=\"dataframe\">\n  <thead>\n    <tr style=\"text-align: right;\">\n      <th></th>\n      <th>event_date</th>\n      <th>event_timestamp</th>\n      <th>event_name</th>\n      <th>user_id</th>\n      <th>join_field</th>\n      <th>join_key_value</th>\n      <th>document_id</th>\n      <th>surrogate_id</th>\n      <th>created_at</th>\n      <th>published_at</th>\n      <th>closed_at</th>\n      <th>cause</th>\n      <th>effect</th>\n      <th>description</th>\n      <th>is_global</th>\n      <th>agency</th>\n      <th>area_of_effect_coordinates</th>\n    </tr>\n  </thead>\n  <tbody>\n    <tr>\n      <th>0</th>\n      <td>20210529</td>\n      <td>1622251203899000</td>\n      <td>notification_received</td>\n      <td>283a1</td>\n      <td>label</td>\n      <td>-Maph6wn8GA3SjPIc9HA</td>\n      <td>NaN</td>\n      <td>NaN</td>\n      <td>NaT</td>\n      <td>NaT</td>\n      <td>NaT</td>\n      <td>NaN</td>\n      <td>NaN</td>\n      <td>NaN</td>\n      <td>NaN</td>\n      <td>NaN</td>\n      <td>NaN</td>\n    </tr>\n    <tr>\n      <th>1</th>\n      <td>20210529</td>\n      <td>1622257988561000</td>\n      <td>notification_received</td>\n      <td>283a1</td>\n      <td>label</td>\n      <td>-Maq63vqDUxQRawQ_3Au</td>\n      <td>NaN</td>\n      <td>NaN</td>\n      <td>NaT</td>\n      <td>NaT</td>\n      <td>NaT</td>\n      <td>NaN</td>\n      <td>NaN</td>\n      <td>NaN</td>\n      <td>NaN</td>\n      <td>NaN</td>\n      <td>NaN</td>\n    </tr>\n    <tr>\n      <th>2</th>\n      <td>20210529</td>\n      <td>1622258235184001</td>\n      <td>notification_received</td>\n      <td>283a1</td>\n      <td>label</td>\n      <td>-Maq7-D7bhcEaFBU1LDW</td>\n      <td>NaN</td>\n      <td>NaN</td>\n      <td>NaT</td>\n      <td>NaT</td>\n      <td>NaT</td>\n      <td>NaN</td>\n      <td>NaN</td>\n      <td>NaN</td>\n      <td>NaN</td>\n      <td>NaN</td>\n      <td>NaN</td>\n    </tr>\n    <tr>\n      <th>3</th>\n      <td>20210529</td>\n      <td>1622260301025000</td>\n      <td>notification_received</td>\n      <td>283a1</td>\n      <td>label</td>\n      <td>-MaqEsbKAqlxGG-RupjR</td>\n      <td>NaN</td>\n      <td>NaN</td>\n      <td>NaT</td>\n      <td>NaT</td>\n      <td>NaT</td>\n      <td>NaN</td>\n      <td>NaN</td>\n      <td>NaN</td>\n      <td>NaN</td>\n      <td>NaN</td>\n      <td>NaN</td>\n    </tr>\n    <tr>\n      <th>4</th>\n      <td>20210529</td>\n      <td>1622293962198000</td>\n      <td>notification_received</td>\n      <td>283a1</td>\n      <td>label</td>\n      <td>-MasFHCt_lTuNt_x16dH</td>\n      <td>NaN</td>\n      <td>NaN</td>\n      <td>NaT</td>\n      <td>NaT</td>\n      <td>NaT</td>\n      <td>NaN</td>\n      <td>NaN</td>\n      <td>NaN</td>\n      <td>NaN</td>\n      <td>NaN</td>\n      <td>NaN</td>\n    </tr>\n    <tr>\n      <th>...</th>\n      <td>...</td>\n      <td>...</td>\n      <td>...</td>\n      <td>...</td>\n      <td>...</td>\n      <td>...</td>\n      <td>...</td>\n      <td>...</td>\n      <td>...</td>\n      <td>...</td>\n      <td>...</td>\n      <td>...</td>\n      <td>...</td>\n      <td>...</td>\n      <td>...</td>\n      <td>...</td>\n      <td>...</td>\n    </tr>\n    <tr>\n      <th>36488</th>\n      <td>20210706</td>\n      <td>1625581262819000</td>\n      <td>notification_received</td>\n      <td>e0b4d</td>\n      <td>alertId</td>\n      <td>-MdwBMI8mNXadCw7GwTc</td>\n      <td>NaN</td>\n      <td>NaN</td>\n      <td>NaT</td>\n      <td>NaT</td>\n      <td>NaT</td>\n      <td>NaN</td>\n      <td>NaN</td>\n      <td>NaN</td>\n      <td>NaN</td>\n      <td>NaN</td>\n      <td>NaN</td>\n    </tr>\n    <tr>\n      <th>36489</th>\n      <td>20210706</td>\n      <td>1625584900674000</td>\n      <td>notification_received</td>\n      <td>e0b4d</td>\n      <td>alertId</td>\n      <td>-MdwPCoa1U3j5wMZ8J99</td>\n      <td>NaN</td>\n      <td>NaN</td>\n      <td>NaT</td>\n      <td>NaT</td>\n      <td>NaT</td>\n      <td>NaN</td>\n      <td>NaN</td>\n      <td>NaN</td>\n      <td>NaN</td>\n      <td>NaN</td>\n      <td>NaN</td>\n    </tr>\n    <tr>\n      <th>36490</th>\n      <td>20210706</td>\n      <td>1625587521801000</td>\n      <td>notification_received</td>\n      <td>e0b4d</td>\n      <td>alertId</td>\n      <td>-MdwZE8hMtqpcYoaNhzM</td>\n      <td>NaN</td>\n      <td>NaN</td>\n      <td>NaT</td>\n      <td>NaT</td>\n      <td>NaT</td>\n      <td>NaN</td>\n      <td>NaN</td>\n      <td>NaN</td>\n      <td>NaN</td>\n      <td>NaN</td>\n      <td>NaN</td>\n    </tr>\n    <tr>\n      <th>36491</th>\n      <td>20210706</td>\n      <td>1625528529057001</td>\n      <td>notification_received</td>\n      <td>427c1</td>\n      <td>alertId</td>\n      <td>-Mdt2BT-2y05YXyJctt2</td>\n      <td>NaN</td>\n      <td>NaN</td>\n      <td>NaT</td>\n      <td>NaT</td>\n      <td>NaT</td>\n      <td>NaN</td>\n      <td>NaN</td>\n      <td>NaN</td>\n      <td>NaN</td>\n      <td>NaN</td>\n      <td>NaN</td>\n    </tr>\n    <tr>\n      <th>36492</th>\n      <td>20210706</td>\n      <td>1625569119343000</td>\n      <td>notification_received</td>\n      <td>427c1</td>\n      <td>alertId</td>\n      <td>-MdvT00Ih682ZROXWv-n</td>\n      <td>NaN</td>\n      <td>NaN</td>\n      <td>NaT</td>\n      <td>NaT</td>\n      <td>NaT</td>\n      <td>NaN</td>\n      <td>NaN</td>\n      <td>NaN</td>\n      <td>NaN</td>\n      <td>NaN</td>\n      <td>NaN</td>\n    </tr>\n  </tbody>\n</table>\n<p>2239560 rows × 17 columns</p>\n</div>"
     },
     "metadata": {},
     "execution_count": 17
    }
   ],
   "source": [
    "merged_df"
   ]
  },
  {
   "cell_type": "code",
   "execution_count": 18,
   "metadata": {},
   "outputs": [
    {
     "output_type": "execute_result",
     "data": {
      "text/plain": [
       "         event_date   event_timestamp             event_name user_id  \\\n",
       "0          20210529  1622251203899000  notification_received   283a1   \n",
       "1          20210529  1622257988561000  notification_received   283a1   \n",
       "2          20210529  1622258235184001  notification_received   283a1   \n",
       "3          20210529  1622260301025000  notification_received   283a1   \n",
       "4          20210529  1622293962198000  notification_received   283a1   \n",
       "...             ...               ...                    ...     ...   \n",
       "2203062    20210210  1612909178334000  notification_received   fff18   \n",
       "2203063    20210210  1612969431222000  notification_received   fff18   \n",
       "2203064    20210210  1612978431552000  notification_received   fff18   \n",
       "2203065    20210210  1612985245425000  notification_received   fff18   \n",
       "2203066    20210210  1612994120482000  notification_received   fff18   \n",
       "\n",
       "        join_field          join_key_value document_id surrogate_id  \\\n",
       "0            label    -Maph6wn8GA3SjPIc9HA         NaN          NaN   \n",
       "1            label    -Maq63vqDUxQRawQ_3Au         NaN          NaN   \n",
       "2            label    -Maq7-D7bhcEaFBU1LDW         NaN          NaN   \n",
       "3            label    -MaqEsbKAqlxGG-RupjR         NaN          NaN   \n",
       "4            label    -MasFHCt_lTuNt_x16dH         NaN          NaN   \n",
       "...            ...                     ...         ...          ...   \n",
       "2203062      label  0NbaiCRr6xGFd2035-Gdlw         NaN          NaN   \n",
       "2203063      label  EMDjKLFr6xGRbrsa0gDjhg         NaN          NaN   \n",
       "2203064      label  YE2VDMZr6xGRbrsa0gDjhg         NaN          NaN   \n",
       "2203065      label  YBu-7NVr6xGRbrsa0gDjhg         NaN          NaN   \n",
       "2203066      label  YBIdVepr6xGRbrsa0gDjhg         NaN          NaN   \n",
       "\n",
       "        created_at published_at closed_at cause effect description is_global  \\\n",
       "0              NaT          NaT       NaT   NaN    NaN         NaN       NaN   \n",
       "1              NaT          NaT       NaT   NaN    NaN         NaN       NaN   \n",
       "2              NaT          NaT       NaT   NaN    NaN         NaN       NaN   \n",
       "3              NaT          NaT       NaT   NaN    NaN         NaN       NaN   \n",
       "4              NaT          NaT       NaT   NaN    NaN         NaN       NaN   \n",
       "...            ...          ...       ...   ...    ...         ...       ...   \n",
       "2203062        NaT          NaT       NaT   NaN    NaN         NaN       NaN   \n",
       "2203063        NaT          NaT       NaT   NaN    NaN         NaN       NaN   \n",
       "2203064        NaT          NaT       NaT   NaN    NaN         NaN       NaN   \n",
       "2203065        NaT          NaT       NaT   NaN    NaN         NaN       NaN   \n",
       "2203066        NaT          NaT       NaT   NaN    NaN         NaN       NaN   \n",
       "\n",
       "        agency area_of_effect_coordinates  \n",
       "0          NaN                        NaN  \n",
       "1          NaN                        NaN  \n",
       "2          NaN                        NaN  \n",
       "3          NaN                        NaN  \n",
       "4          NaN                        NaN  \n",
       "...        ...                        ...  \n",
       "2203062    NaN                        NaN  \n",
       "2203063    NaN                        NaN  \n",
       "2203064    NaN                        NaN  \n",
       "2203065    NaN                        NaN  \n",
       "2203066    NaN                        NaN  \n",
       "\n",
       "[2203067 rows x 17 columns]"
      ],
      "text/html": "<div>\n<style scoped>\n    .dataframe tbody tr th:only-of-type {\n        vertical-align: middle;\n    }\n\n    .dataframe tbody tr th {\n        vertical-align: top;\n    }\n\n    .dataframe thead th {\n        text-align: right;\n    }\n</style>\n<table border=\"1\" class=\"dataframe\">\n  <thead>\n    <tr style=\"text-align: right;\">\n      <th></th>\n      <th>event_date</th>\n      <th>event_timestamp</th>\n      <th>event_name</th>\n      <th>user_id</th>\n      <th>join_field</th>\n      <th>join_key_value</th>\n      <th>document_id</th>\n      <th>surrogate_id</th>\n      <th>created_at</th>\n      <th>published_at</th>\n      <th>closed_at</th>\n      <th>cause</th>\n      <th>effect</th>\n      <th>description</th>\n      <th>is_global</th>\n      <th>agency</th>\n      <th>area_of_effect_coordinates</th>\n    </tr>\n  </thead>\n  <tbody>\n    <tr>\n      <th>0</th>\n      <td>20210529</td>\n      <td>1622251203899000</td>\n      <td>notification_received</td>\n      <td>283a1</td>\n      <td>label</td>\n      <td>-Maph6wn8GA3SjPIc9HA</td>\n      <td>NaN</td>\n      <td>NaN</td>\n      <td>NaT</td>\n      <td>NaT</td>\n      <td>NaT</td>\n      <td>NaN</td>\n      <td>NaN</td>\n      <td>NaN</td>\n      <td>NaN</td>\n      <td>NaN</td>\n      <td>NaN</td>\n    </tr>\n    <tr>\n      <th>1</th>\n      <td>20210529</td>\n      <td>1622257988561000</td>\n      <td>notification_received</td>\n      <td>283a1</td>\n      <td>label</td>\n      <td>-Maq63vqDUxQRawQ_3Au</td>\n      <td>NaN</td>\n      <td>NaN</td>\n      <td>NaT</td>\n      <td>NaT</td>\n      <td>NaT</td>\n      <td>NaN</td>\n      <td>NaN</td>\n      <td>NaN</td>\n      <td>NaN</td>\n      <td>NaN</td>\n      <td>NaN</td>\n    </tr>\n    <tr>\n      <th>2</th>\n      <td>20210529</td>\n      <td>1622258235184001</td>\n      <td>notification_received</td>\n      <td>283a1</td>\n      <td>label</td>\n      <td>-Maq7-D7bhcEaFBU1LDW</td>\n      <td>NaN</td>\n      <td>NaN</td>\n      <td>NaT</td>\n      <td>NaT</td>\n      <td>NaT</td>\n      <td>NaN</td>\n      <td>NaN</td>\n      <td>NaN</td>\n      <td>NaN</td>\n      <td>NaN</td>\n      <td>NaN</td>\n    </tr>\n    <tr>\n      <th>3</th>\n      <td>20210529</td>\n      <td>1622260301025000</td>\n      <td>notification_received</td>\n      <td>283a1</td>\n      <td>label</td>\n      <td>-MaqEsbKAqlxGG-RupjR</td>\n      <td>NaN</td>\n      <td>NaN</td>\n      <td>NaT</td>\n      <td>NaT</td>\n      <td>NaT</td>\n      <td>NaN</td>\n      <td>NaN</td>\n      <td>NaN</td>\n      <td>NaN</td>\n      <td>NaN</td>\n      <td>NaN</td>\n    </tr>\n    <tr>\n      <th>4</th>\n      <td>20210529</td>\n      <td>1622293962198000</td>\n      <td>notification_received</td>\n      <td>283a1</td>\n      <td>label</td>\n      <td>-MasFHCt_lTuNt_x16dH</td>\n      <td>NaN</td>\n      <td>NaN</td>\n      <td>NaT</td>\n      <td>NaT</td>\n      <td>NaT</td>\n      <td>NaN</td>\n      <td>NaN</td>\n      <td>NaN</td>\n      <td>NaN</td>\n      <td>NaN</td>\n      <td>NaN</td>\n    </tr>\n    <tr>\n      <th>...</th>\n      <td>...</td>\n      <td>...</td>\n      <td>...</td>\n      <td>...</td>\n      <td>...</td>\n      <td>...</td>\n      <td>...</td>\n      <td>...</td>\n      <td>...</td>\n      <td>...</td>\n      <td>...</td>\n      <td>...</td>\n      <td>...</td>\n      <td>...</td>\n      <td>...</td>\n      <td>...</td>\n      <td>...</td>\n    </tr>\n    <tr>\n      <th>2203062</th>\n      <td>20210210</td>\n      <td>1612909178334000</td>\n      <td>notification_received</td>\n      <td>fff18</td>\n      <td>label</td>\n      <td>0NbaiCRr6xGFd2035-Gdlw</td>\n      <td>NaN</td>\n      <td>NaN</td>\n      <td>NaT</td>\n      <td>NaT</td>\n      <td>NaT</td>\n      <td>NaN</td>\n      <td>NaN</td>\n      <td>NaN</td>\n      <td>NaN</td>\n      <td>NaN</td>\n      <td>NaN</td>\n    </tr>\n    <tr>\n      <th>2203063</th>\n      <td>20210210</td>\n      <td>1612969431222000</td>\n      <td>notification_received</td>\n      <td>fff18</td>\n      <td>label</td>\n      <td>EMDjKLFr6xGRbrsa0gDjhg</td>\n      <td>NaN</td>\n      <td>NaN</td>\n      <td>NaT</td>\n      <td>NaT</td>\n      <td>NaT</td>\n      <td>NaN</td>\n      <td>NaN</td>\n      <td>NaN</td>\n      <td>NaN</td>\n      <td>NaN</td>\n      <td>NaN</td>\n    </tr>\n    <tr>\n      <th>2203064</th>\n      <td>20210210</td>\n      <td>1612978431552000</td>\n      <td>notification_received</td>\n      <td>fff18</td>\n      <td>label</td>\n      <td>YE2VDMZr6xGRbrsa0gDjhg</td>\n      <td>NaN</td>\n      <td>NaN</td>\n      <td>NaT</td>\n      <td>NaT</td>\n      <td>NaT</td>\n      <td>NaN</td>\n      <td>NaN</td>\n      <td>NaN</td>\n      <td>NaN</td>\n      <td>NaN</td>\n      <td>NaN</td>\n    </tr>\n    <tr>\n      <th>2203065</th>\n      <td>20210210</td>\n      <td>1612985245425000</td>\n      <td>notification_received</td>\n      <td>fff18</td>\n      <td>label</td>\n      <td>YBu-7NVr6xGRbrsa0gDjhg</td>\n      <td>NaN</td>\n      <td>NaN</td>\n      <td>NaT</td>\n      <td>NaT</td>\n      <td>NaT</td>\n      <td>NaN</td>\n      <td>NaN</td>\n      <td>NaN</td>\n      <td>NaN</td>\n      <td>NaN</td>\n      <td>NaN</td>\n    </tr>\n    <tr>\n      <th>2203066</th>\n      <td>20210210</td>\n      <td>1612994120482000</td>\n      <td>notification_received</td>\n      <td>fff18</td>\n      <td>label</td>\n      <td>YBIdVepr6xGRbrsa0gDjhg</td>\n      <td>NaN</td>\n      <td>NaN</td>\n      <td>NaT</td>\n      <td>NaT</td>\n      <td>NaT</td>\n      <td>NaN</td>\n      <td>NaN</td>\n      <td>NaN</td>\n      <td>NaN</td>\n      <td>NaN</td>\n      <td>NaN</td>\n    </tr>\n  </tbody>\n</table>\n<p>2203067 rows × 17 columns</p>\n</div>"
     },
     "metadata": {},
     "execution_count": 18
    }
   ],
   "source": [
    "merged_df_1"
   ]
  },
  {
   "cell_type": "code",
   "execution_count": 20,
   "metadata": {},
   "outputs": [
    {
     "output_type": "execute_result",
     "data": {
      "text/plain": [
       "2239560"
      ]
     },
     "metadata": {},
     "execution_count": 20
    }
   ],
   "source": [
    "merged_df[\"created_at\"].isnull().count()"
   ]
  },
  {
   "cell_type": "code",
   "execution_count": 21,
   "metadata": {},
   "outputs": [
    {
     "output_type": "execute_result",
     "data": {
      "text/plain": [
       "(2239560, 17)"
      ]
     },
     "metadata": {},
     "execution_count": 21
    }
   ],
   "source": [
    "merged_df.shape"
   ]
  },
  {
   "cell_type": "code",
   "execution_count": null,
   "metadata": {},
   "outputs": [],
   "source": []
  }
 ]
}