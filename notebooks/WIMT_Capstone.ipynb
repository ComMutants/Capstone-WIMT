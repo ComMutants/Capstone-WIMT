{
 "metadata": {
  "language_info": {
   "codemirror_mode": {
    "name": "ipython",
    "version": 3
   },
   "file_extension": ".py",
   "mimetype": "text/x-python",
   "name": "python",
   "nbconvert_exporter": "python",
   "pygments_lexer": "ipython3",
   "version": "3.8.5"
  },
  "orig_nbformat": 4,
  "kernelspec": {
   "name": "python3",
   "display_name": "Python 3.8.5 64-bit ('.venv': venv)"
  },
  "interpreter": {
   "hash": "f7e9aa0a9fe1ceb3c33c5aa0b358d6952771ff9c315b2715a747dc81bd71c7e9"
  }
 },
 "nbformat": 4,
 "nbformat_minor": 2,
 "cells": [
  {
   "cell_type": "code",
   "execution_count": 96,
   "metadata": {},
   "outputs": [],
   "source": [
    "import sys\n",
    "# adding to the path variables the one folder higher (locally, not changing system variables)\n",
    "sys.path.append(\"..\")\n",
    "import pandas as pd\n",
    "import numpy as np\n",
    "import warnings\n",
    "import mlflow\n",
    "from modeling.config import TRACKING_URI, EXPERIMENT_NAME\n",
    "from pandas_profiling import ProfileReport\n",
    "import torch"
   ]
  },
  {
   "cell_type": "code",
   "execution_count": 97,
   "metadata": {},
   "outputs": [],
   "source": [
    "alert_df=pd.read_json(\"/Users/fortes/neuefische/Capstone-WIMT/data/alerts.json\")"
   ]
  },
  {
   "cell_type": "code",
   "execution_count": 98,
   "metadata": {},
   "outputs": [],
   "source": [
    "notification_df=pd.read_json(\"/Users/fortes/neuefische/Capstone-WIMT/data/notifications.json\")"
   ]
  },
  {
   "cell_type": "code",
   "execution_count": 100,
   "metadata": {},
   "outputs": [
    {
     "output_type": "execute_result",
     "data": {
      "text/plain": [
       "         event_date   event_timestamp            event_name user_id  \\\n",
       "0          20210529  1622251203899000  notification_receive   283a1   \n",
       "1          20210529  1622257988561000  notification_receive   283a1   \n",
       "2          20210529  1622258235184001  notification_receive   283a1   \n",
       "3          20210529  1622260301025000  notification_receive   283a1   \n",
       "4          20210529  1622293962198000  notification_receive   283a1   \n",
       "...             ...               ...                   ...     ...   \n",
       "2278146    20210210  1612909178334000  notification_receive   fff18   \n",
       "2278147    20210210  1612969431222000  notification_receive   fff18   \n",
       "2278148    20210210  1612978431552000  notification_receive   fff18   \n",
       "2278149    20210210  1612985245425000  notification_receive   fff18   \n",
       "2278150    20210210  1612994120482000  notification_receive   fff18   \n",
       "\n",
       "        join_field          join_key_value  \n",
       "0            label    -Maph6wn8GA3SjPIc9HA  \n",
       "1            label    -Maq63vqDUxQRawQ_3Au  \n",
       "2            label    -Maq7-D7bhcEaFBU1LDW  \n",
       "3            label    -MaqEsbKAqlxGG-RupjR  \n",
       "4            label    -MasFHCt_lTuNt_x16dH  \n",
       "...            ...                     ...  \n",
       "2278146      label  0NbaiCRr6xGFd2035-Gdlw  \n",
       "2278147      label  EMDjKLFr6xGRbrsa0gDjhg  \n",
       "2278148      label  YE2VDMZr6xGRbrsa0gDjhg  \n",
       "2278149      label  YBu-7NVr6xGRbrsa0gDjhg  \n",
       "2278150      label  YBIdVepr6xGRbrsa0gDjhg  \n",
       "\n",
       "[2278151 rows x 6 columns]"
      ],
      "text/html": "<div>\n<style scoped>\n    .dataframe tbody tr th:only-of-type {\n        vertical-align: middle;\n    }\n\n    .dataframe tbody tr th {\n        vertical-align: top;\n    }\n\n    .dataframe thead th {\n        text-align: right;\n    }\n</style>\n<table border=\"1\" class=\"dataframe\">\n  <thead>\n    <tr style=\"text-align: right;\">\n      <th></th>\n      <th>event_date</th>\n      <th>event_timestamp</th>\n      <th>event_name</th>\n      <th>user_id</th>\n      <th>join_field</th>\n      <th>join_key_value</th>\n    </tr>\n  </thead>\n  <tbody>\n    <tr>\n      <th>0</th>\n      <td>20210529</td>\n      <td>1622251203899000</td>\n      <td>notification_receive</td>\n      <td>283a1</td>\n      <td>label</td>\n      <td>-Maph6wn8GA3SjPIc9HA</td>\n    </tr>\n    <tr>\n      <th>1</th>\n      <td>20210529</td>\n      <td>1622257988561000</td>\n      <td>notification_receive</td>\n      <td>283a1</td>\n      <td>label</td>\n      <td>-Maq63vqDUxQRawQ_3Au</td>\n    </tr>\n    <tr>\n      <th>2</th>\n      <td>20210529</td>\n      <td>1622258235184001</td>\n      <td>notification_receive</td>\n      <td>283a1</td>\n      <td>label</td>\n      <td>-Maq7-D7bhcEaFBU1LDW</td>\n    </tr>\n    <tr>\n      <th>3</th>\n      <td>20210529</td>\n      <td>1622260301025000</td>\n      <td>notification_receive</td>\n      <td>283a1</td>\n      <td>label</td>\n      <td>-MaqEsbKAqlxGG-RupjR</td>\n    </tr>\n    <tr>\n      <th>4</th>\n      <td>20210529</td>\n      <td>1622293962198000</td>\n      <td>notification_receive</td>\n      <td>283a1</td>\n      <td>label</td>\n      <td>-MasFHCt_lTuNt_x16dH</td>\n    </tr>\n    <tr>\n      <th>...</th>\n      <td>...</td>\n      <td>...</td>\n      <td>...</td>\n      <td>...</td>\n      <td>...</td>\n      <td>...</td>\n    </tr>\n    <tr>\n      <th>2278146</th>\n      <td>20210210</td>\n      <td>1612909178334000</td>\n      <td>notification_receive</td>\n      <td>fff18</td>\n      <td>label</td>\n      <td>0NbaiCRr6xGFd2035-Gdlw</td>\n    </tr>\n    <tr>\n      <th>2278147</th>\n      <td>20210210</td>\n      <td>1612969431222000</td>\n      <td>notification_receive</td>\n      <td>fff18</td>\n      <td>label</td>\n      <td>EMDjKLFr6xGRbrsa0gDjhg</td>\n    </tr>\n    <tr>\n      <th>2278148</th>\n      <td>20210210</td>\n      <td>1612978431552000</td>\n      <td>notification_receive</td>\n      <td>fff18</td>\n      <td>label</td>\n      <td>YE2VDMZr6xGRbrsa0gDjhg</td>\n    </tr>\n    <tr>\n      <th>2278149</th>\n      <td>20210210</td>\n      <td>1612985245425000</td>\n      <td>notification_receive</td>\n      <td>fff18</td>\n      <td>label</td>\n      <td>YBu-7NVr6xGRbrsa0gDjhg</td>\n    </tr>\n    <tr>\n      <th>2278150</th>\n      <td>20210210</td>\n      <td>1612994120482000</td>\n      <td>notification_receive</td>\n      <td>fff18</td>\n      <td>label</td>\n      <td>YBIdVepr6xGRbrsa0gDjhg</td>\n    </tr>\n  </tbody>\n</table>\n<p>2278151 rows × 6 columns</p>\n</div>"
     },
     "metadata": {},
     "execution_count": 100
    }
   ],
   "source": [
    "notification_df"
   ]
  },
  {
   "cell_type": "code",
   "execution_count": 101,
   "metadata": {},
   "outputs": [
    {
     "output_type": "execute_result",
     "data": {
      "text/plain": [
       "         event_date   event_timestamp           event_name user_id join_field  \\\n",
       "256        20210529  1622258577858000  notification_opened   e8300     source   \n",
       "257        20210529  1622258577858000  notification_opened   e8300    alertId   \n",
       "597        20210529  1622254709611002  notification_opened   496f0    alertId   \n",
       "598        20210529  1622254709611002  notification_opened   496f0     source   \n",
       "861        20210529  1622265938357003  notification_opened   8bb77     source   \n",
       "...             ...               ...                  ...     ...        ...   \n",
       "2256035    20210706  1625581302874003  notification_opened   59258     source   \n",
       "2256047    20210706  1625599828309000  notification_opened   59258     source   \n",
       "2256048    20210706  1625599829755002  notification_opened   59258     source   \n",
       "2256052    20210706  1625605040167003  notification_opened   59258     source   \n",
       "2256053    20210706  1625605908072001  notification_opened   59258     source   \n",
       "\n",
       "            join_key_value  \n",
       "256      notification_open  \n",
       "257                   null  \n",
       "597                   null  \n",
       "598      notification_open  \n",
       "861      notification_open  \n",
       "...                    ...  \n",
       "2256035  notification_open  \n",
       "2256047  notification_open  \n",
       "2256048  notification_open  \n",
       "2256052  notification_open  \n",
       "2256053  notification_open  \n",
       "\n",
       "[8947 rows x 6 columns]"
      ],
      "text/html": "<div>\n<style scoped>\n    .dataframe tbody tr th:only-of-type {\n        vertical-align: middle;\n    }\n\n    .dataframe tbody tr th {\n        vertical-align: top;\n    }\n\n    .dataframe thead th {\n        text-align: right;\n    }\n</style>\n<table border=\"1\" class=\"dataframe\">\n  <thead>\n    <tr style=\"text-align: right;\">\n      <th></th>\n      <th>event_date</th>\n      <th>event_timestamp</th>\n      <th>event_name</th>\n      <th>user_id</th>\n      <th>join_field</th>\n      <th>join_key_value</th>\n    </tr>\n  </thead>\n  <tbody>\n    <tr>\n      <th>256</th>\n      <td>20210529</td>\n      <td>1622258577858000</td>\n      <td>notification_opened</td>\n      <td>e8300</td>\n      <td>source</td>\n      <td>notification_open</td>\n    </tr>\n    <tr>\n      <th>257</th>\n      <td>20210529</td>\n      <td>1622258577858000</td>\n      <td>notification_opened</td>\n      <td>e8300</td>\n      <td>alertId</td>\n      <td>null</td>\n    </tr>\n    <tr>\n      <th>597</th>\n      <td>20210529</td>\n      <td>1622254709611002</td>\n      <td>notification_opened</td>\n      <td>496f0</td>\n      <td>alertId</td>\n      <td>null</td>\n    </tr>\n    <tr>\n      <th>598</th>\n      <td>20210529</td>\n      <td>1622254709611002</td>\n      <td>notification_opened</td>\n      <td>496f0</td>\n      <td>source</td>\n      <td>notification_open</td>\n    </tr>\n    <tr>\n      <th>861</th>\n      <td>20210529</td>\n      <td>1622265938357003</td>\n      <td>notification_opened</td>\n      <td>8bb77</td>\n      <td>source</td>\n      <td>notification_open</td>\n    </tr>\n    <tr>\n      <th>...</th>\n      <td>...</td>\n      <td>...</td>\n      <td>...</td>\n      <td>...</td>\n      <td>...</td>\n      <td>...</td>\n    </tr>\n    <tr>\n      <th>2256035</th>\n      <td>20210706</td>\n      <td>1625581302874003</td>\n      <td>notification_opened</td>\n      <td>59258</td>\n      <td>source</td>\n      <td>notification_open</td>\n    </tr>\n    <tr>\n      <th>2256047</th>\n      <td>20210706</td>\n      <td>1625599828309000</td>\n      <td>notification_opened</td>\n      <td>59258</td>\n      <td>source</td>\n      <td>notification_open</td>\n    </tr>\n    <tr>\n      <th>2256048</th>\n      <td>20210706</td>\n      <td>1625599829755002</td>\n      <td>notification_opened</td>\n      <td>59258</td>\n      <td>source</td>\n      <td>notification_open</td>\n    </tr>\n    <tr>\n      <th>2256052</th>\n      <td>20210706</td>\n      <td>1625605040167003</td>\n      <td>notification_opened</td>\n      <td>59258</td>\n      <td>source</td>\n      <td>notification_open</td>\n    </tr>\n    <tr>\n      <th>2256053</th>\n      <td>20210706</td>\n      <td>1625605908072001</td>\n      <td>notification_opened</td>\n      <td>59258</td>\n      <td>source</td>\n      <td>notification_open</td>\n    </tr>\n  </tbody>\n</table>\n<p>8947 rows × 6 columns</p>\n</div>"
     },
     "metadata": {},
     "execution_count": 101
    }
   ],
   "source": [
    "notification_df.query(\"event_name == 'notification_opened'\")"
   ]
  },
  {
   "cell_type": "code",
   "execution_count": 102,
   "metadata": {},
   "outputs": [],
   "source": [
    "#Look for what happened on these days."
   ]
  },
  {
   "cell_type": "code",
   "execution_count": 109,
   "metadata": {},
   "outputs": [],
   "source": [
    "#!pip3 install transformers --no-input"
   ]
  },
  {
   "source": [
    "from transformers import pipeline\n",
    "\n",
    "nlp_pos_syntax = pipeline(\n",
    "    \"ner\",\n",
    "    model=\"mrm8488/bert-spanish-cased-finetuned-pos-syntax\",\n",
    "    tokenizer=\"mrm8488/bert-spanish-cased-finetuned-pos-syntax\"\n",
    ")\n",
    "\n",
    "text = 'Considera retrasos por servicios de emergencia atendiendo incendio en Mesones y Av. 20 de Noviembre.'\n",
    "\n",
    "nlp_pos_syntax(text)[1:len(nlp_pos_syntax(text))-1]"
   ],
   "cell_type": "markdown",
   "metadata": {}
  },
  {
   "cell_type": "code",
   "execution_count": 125,
   "metadata": {},
   "outputs": [],
   "source": [
    "cause_effect_table= pd.pivot_table(alert_df, index=['cause'], columns='effect',aggfunc='count',fill_value=0,values=\"is_global\", margins=True, margins_name= 'Total')"
   ]
  },
  {
   "cell_type": "code",
   "execution_count": 126,
   "metadata": {},
   "outputs": [
    {
     "output_type": "execute_result",
     "data": {
      "text/plain": [
       "effect                  CirculationRestored  CirculationShutdown  Delays  \\\n",
       "cause                                                                      \n",
       "BrokenTrafficLight   0                    0                    0      23   \n",
       "BrokenVehicle        0                    0                    4     390   \n",
       "COVID19              0                    0                    7       1   \n",
       "Counterflow          0                    0                    0       2   \n",
       "CycleRide            0                    0                    4       3   \n",
       "Demonstration        1                  321                 1896     166   \n",
       "EmergencyServices    2                    1                   20     860   \n",
       "Event                0                    2                    4       0   \n",
       "Explosion            0                    0                    0       0   \n",
       "FallenTree           0                    0                    3      46   \n",
       "Fire                 0                    3                    4      98   \n",
       "Flood                2                    4                    1      24   \n",
       "GasLeak              0                    3                    4      14   \n",
       "HeavyTraffic         0                    1                    0      20   \n",
       "Incident             4                   24                   92     452   \n",
       "Landslide            0                    0                    0       0   \n",
       "Leak                 0                    0                    2      52   \n",
       "Maintenance          0                    1                    3       9   \n",
       "March                0                   12                  202      34   \n",
       "Overturn             0                    0                    1     155   \n",
       "Pilgrimage           0                    0                    0       0   \n",
       "ProtestCamp          0                    0                    2       0   \n",
       "Rain                 0                    5                    0      57   \n",
       "Reopening            0                    4                    0       0   \n",
       "Sinkhole             0                    2                    3       3   \n",
       "StreetWorks          2                    2                  114     104   \n",
       "VehicularAccident    5                    1                   17    5115   \n",
       "Waterlogging         0                    0                    4      57   \n",
       "Total               16                  386                 2387    7685   \n",
       "\n",
       "effect              Evacuation  FullCapacity  HighWaitingTime  InterimService  \\\n",
       "cause                                                                           \n",
       "BrokenTrafficLight           0             0                0               0   \n",
       "BrokenVehicle                0             0                0               0   \n",
       "COVID19                      0             5                0               0   \n",
       "Counterflow                  0             0                0               0   \n",
       "CycleRide                    0             0                0               0   \n",
       "Demonstration                0             0                0              65   \n",
       "EmergencyServices            0             0                0               0   \n",
       "Event                        0             0                0               0   \n",
       "Explosion                    0             0                0               0   \n",
       "FallenTree                   0             0                0               0   \n",
       "Fire                         0             1                2               6   \n",
       "Flood                        0             0                0               4   \n",
       "GasLeak                      0             0                0               1   \n",
       "HeavyTraffic                 0             0                0               0   \n",
       "Incident                     1             0               92              27   \n",
       "Landslide                    0             0                0               0   \n",
       "Leak                         0             0                0               0   \n",
       "Maintenance                  0             0                1               4   \n",
       "March                        0             0                0               3   \n",
       "Overturn                     0             0                0               0   \n",
       "Pilgrimage                   0             0                0               0   \n",
       "ProtestCamp                  0             0                0               0   \n",
       "Rain                         0             0                1               3   \n",
       "Reopening                    0             0                0               0   \n",
       "Sinkhole                     0             0                0               0   \n",
       "StreetWorks                  1             0                0               3   \n",
       "VehicularAccident            0             0                2               0   \n",
       "Waterlogging                 0             0                0               2   \n",
       "Total                        2             6               98             118   \n",
       "\n",
       "effect              LaneReduction  RouteDetour  SecuritySpeed  \\\n",
       "cause                                                           \n",
       "BrokenTrafficLight              2            0              0   \n",
       "BrokenVehicle                  39            0              0   \n",
       "COVID19                         0            0              0   \n",
       "Counterflow                     0            0              0   \n",
       "CycleRide                       0            0              0   \n",
       "Demonstration                  54            5              6   \n",
       "EmergencyServices             208            0              0   \n",
       "Event                           2            0              3   \n",
       "Explosion                       0            0              0   \n",
       "FallenTree                     25            0              0   \n",
       "Fire                           10            0              1   \n",
       "Flood                           1            0              0   \n",
       "GasLeak                         4            0              0   \n",
       "HeavyTraffic                    0            0              8   \n",
       "Incident                        6            0            168   \n",
       "Landslide                       0            0              0   \n",
       "Leak                            9            0              0   \n",
       "Maintenance                     2            0              0   \n",
       "March                           0            0              0   \n",
       "Overturn                       35            0              1   \n",
       "Pilgrimage                      0            0              0   \n",
       "ProtestCamp                     0            0              0   \n",
       "Rain                            0            0             23   \n",
       "Reopening                       0            0              0   \n",
       "Sinkhole                        5            0              0   \n",
       "StreetWorks                    97            2              3   \n",
       "VehicularAccident             284            0              0   \n",
       "Waterlogging                    8            0              0   \n",
       "Total                         791            7            213   \n",
       "\n",
       "effect              SuspensionOfService  TrafficImpact  Total  \n",
       "cause                                                          \n",
       "BrokenTrafficLight                    0             22     47  \n",
       "BrokenVehicle                        12             55    500  \n",
       "COVID19                              18              1     32  \n",
       "Counterflow                           0              2      4  \n",
       "CycleRide                             0             16     23  \n",
       "Demonstration                       251            226   2991  \n",
       "EmergencyServices                     4            253   1348  \n",
       "Event                                 5              0     16  \n",
       "Explosion                             0              1      1  \n",
       "FallenTree                            2             21     97  \n",
       "Fire                                 11             26    162  \n",
       "Flood                                 5             26     67  \n",
       "GasLeak                               2              5     33  \n",
       "HeavyTraffic                          1              3     33  \n",
       "Incident                             62             32    960  \n",
       "Landslide                             0              2      2  \n",
       "Leak                                  0             10     73  \n",
       "Maintenance                          36              5     61  \n",
       "March                                 2            126    379  \n",
       "Overturn                              0             20    212  \n",
       "Pilgrimage                            0              2      2  \n",
       "ProtestCamp                           0              0      2  \n",
       "Rain                                 13              3    105  \n",
       "Reopening                             0              0      4  \n",
       "Sinkhole                              0              0     13  \n",
       "StreetWorks                           1             56    385  \n",
       "VehicularAccident                     0            447   5871  \n",
       "Waterlogging                          0             48    119  \n",
       "Total                               425           1408  13542  "
      ],
      "text/html": "<div>\n<style scoped>\n    .dataframe tbody tr th:only-of-type {\n        vertical-align: middle;\n    }\n\n    .dataframe tbody tr th {\n        vertical-align: top;\n    }\n\n    .dataframe thead th {\n        text-align: right;\n    }\n</style>\n<table border=\"1\" class=\"dataframe\">\n  <thead>\n    <tr style=\"text-align: right;\">\n      <th>effect</th>\n      <th></th>\n      <th>CirculationRestored</th>\n      <th>CirculationShutdown</th>\n      <th>Delays</th>\n      <th>Evacuation</th>\n      <th>FullCapacity</th>\n      <th>HighWaitingTime</th>\n      <th>InterimService</th>\n      <th>LaneReduction</th>\n      <th>RouteDetour</th>\n      <th>SecuritySpeed</th>\n      <th>SuspensionOfService</th>\n      <th>TrafficImpact</th>\n      <th>Total</th>\n    </tr>\n    <tr>\n      <th>cause</th>\n      <th></th>\n      <th></th>\n      <th></th>\n      <th></th>\n      <th></th>\n      <th></th>\n      <th></th>\n      <th></th>\n      <th></th>\n      <th></th>\n      <th></th>\n      <th></th>\n      <th></th>\n      <th></th>\n    </tr>\n  </thead>\n  <tbody>\n    <tr>\n      <th>BrokenTrafficLight</th>\n      <td>0</td>\n      <td>0</td>\n      <td>0</td>\n      <td>23</td>\n      <td>0</td>\n      <td>0</td>\n      <td>0</td>\n      <td>0</td>\n      <td>2</td>\n      <td>0</td>\n      <td>0</td>\n      <td>0</td>\n      <td>22</td>\n      <td>47</td>\n    </tr>\n    <tr>\n      <th>BrokenVehicle</th>\n      <td>0</td>\n      <td>0</td>\n      <td>4</td>\n      <td>390</td>\n      <td>0</td>\n      <td>0</td>\n      <td>0</td>\n      <td>0</td>\n      <td>39</td>\n      <td>0</td>\n      <td>0</td>\n      <td>12</td>\n      <td>55</td>\n      <td>500</td>\n    </tr>\n    <tr>\n      <th>COVID19</th>\n      <td>0</td>\n      <td>0</td>\n      <td>7</td>\n      <td>1</td>\n      <td>0</td>\n      <td>5</td>\n      <td>0</td>\n      <td>0</td>\n      <td>0</td>\n      <td>0</td>\n      <td>0</td>\n      <td>18</td>\n      <td>1</td>\n      <td>32</td>\n    </tr>\n    <tr>\n      <th>Counterflow</th>\n      <td>0</td>\n      <td>0</td>\n      <td>0</td>\n      <td>2</td>\n      <td>0</td>\n      <td>0</td>\n      <td>0</td>\n      <td>0</td>\n      <td>0</td>\n      <td>0</td>\n      <td>0</td>\n      <td>0</td>\n      <td>2</td>\n      <td>4</td>\n    </tr>\n    <tr>\n      <th>CycleRide</th>\n      <td>0</td>\n      <td>0</td>\n      <td>4</td>\n      <td>3</td>\n      <td>0</td>\n      <td>0</td>\n      <td>0</td>\n      <td>0</td>\n      <td>0</td>\n      <td>0</td>\n      <td>0</td>\n      <td>0</td>\n      <td>16</td>\n      <td>23</td>\n    </tr>\n    <tr>\n      <th>Demonstration</th>\n      <td>1</td>\n      <td>321</td>\n      <td>1896</td>\n      <td>166</td>\n      <td>0</td>\n      <td>0</td>\n      <td>0</td>\n      <td>65</td>\n      <td>54</td>\n      <td>5</td>\n      <td>6</td>\n      <td>251</td>\n      <td>226</td>\n      <td>2991</td>\n    </tr>\n    <tr>\n      <th>EmergencyServices</th>\n      <td>2</td>\n      <td>1</td>\n      <td>20</td>\n      <td>860</td>\n      <td>0</td>\n      <td>0</td>\n      <td>0</td>\n      <td>0</td>\n      <td>208</td>\n      <td>0</td>\n      <td>0</td>\n      <td>4</td>\n      <td>253</td>\n      <td>1348</td>\n    </tr>\n    <tr>\n      <th>Event</th>\n      <td>0</td>\n      <td>2</td>\n      <td>4</td>\n      <td>0</td>\n      <td>0</td>\n      <td>0</td>\n      <td>0</td>\n      <td>0</td>\n      <td>2</td>\n      <td>0</td>\n      <td>3</td>\n      <td>5</td>\n      <td>0</td>\n      <td>16</td>\n    </tr>\n    <tr>\n      <th>Explosion</th>\n      <td>0</td>\n      <td>0</td>\n      <td>0</td>\n      <td>0</td>\n      <td>0</td>\n      <td>0</td>\n      <td>0</td>\n      <td>0</td>\n      <td>0</td>\n      <td>0</td>\n      <td>0</td>\n      <td>0</td>\n      <td>1</td>\n      <td>1</td>\n    </tr>\n    <tr>\n      <th>FallenTree</th>\n      <td>0</td>\n      <td>0</td>\n      <td>3</td>\n      <td>46</td>\n      <td>0</td>\n      <td>0</td>\n      <td>0</td>\n      <td>0</td>\n      <td>25</td>\n      <td>0</td>\n      <td>0</td>\n      <td>2</td>\n      <td>21</td>\n      <td>97</td>\n    </tr>\n    <tr>\n      <th>Fire</th>\n      <td>0</td>\n      <td>3</td>\n      <td>4</td>\n      <td>98</td>\n      <td>0</td>\n      <td>1</td>\n      <td>2</td>\n      <td>6</td>\n      <td>10</td>\n      <td>0</td>\n      <td>1</td>\n      <td>11</td>\n      <td>26</td>\n      <td>162</td>\n    </tr>\n    <tr>\n      <th>Flood</th>\n      <td>2</td>\n      <td>4</td>\n      <td>1</td>\n      <td>24</td>\n      <td>0</td>\n      <td>0</td>\n      <td>0</td>\n      <td>4</td>\n      <td>1</td>\n      <td>0</td>\n      <td>0</td>\n      <td>5</td>\n      <td>26</td>\n      <td>67</td>\n    </tr>\n    <tr>\n      <th>GasLeak</th>\n      <td>0</td>\n      <td>3</td>\n      <td>4</td>\n      <td>14</td>\n      <td>0</td>\n      <td>0</td>\n      <td>0</td>\n      <td>1</td>\n      <td>4</td>\n      <td>0</td>\n      <td>0</td>\n      <td>2</td>\n      <td>5</td>\n      <td>33</td>\n    </tr>\n    <tr>\n      <th>HeavyTraffic</th>\n      <td>0</td>\n      <td>1</td>\n      <td>0</td>\n      <td>20</td>\n      <td>0</td>\n      <td>0</td>\n      <td>0</td>\n      <td>0</td>\n      <td>0</td>\n      <td>0</td>\n      <td>8</td>\n      <td>1</td>\n      <td>3</td>\n      <td>33</td>\n    </tr>\n    <tr>\n      <th>Incident</th>\n      <td>4</td>\n      <td>24</td>\n      <td>92</td>\n      <td>452</td>\n      <td>1</td>\n      <td>0</td>\n      <td>92</td>\n      <td>27</td>\n      <td>6</td>\n      <td>0</td>\n      <td>168</td>\n      <td>62</td>\n      <td>32</td>\n      <td>960</td>\n    </tr>\n    <tr>\n      <th>Landslide</th>\n      <td>0</td>\n      <td>0</td>\n      <td>0</td>\n      <td>0</td>\n      <td>0</td>\n      <td>0</td>\n      <td>0</td>\n      <td>0</td>\n      <td>0</td>\n      <td>0</td>\n      <td>0</td>\n      <td>0</td>\n      <td>2</td>\n      <td>2</td>\n    </tr>\n    <tr>\n      <th>Leak</th>\n      <td>0</td>\n      <td>0</td>\n      <td>2</td>\n      <td>52</td>\n      <td>0</td>\n      <td>0</td>\n      <td>0</td>\n      <td>0</td>\n      <td>9</td>\n      <td>0</td>\n      <td>0</td>\n      <td>0</td>\n      <td>10</td>\n      <td>73</td>\n    </tr>\n    <tr>\n      <th>Maintenance</th>\n      <td>0</td>\n      <td>1</td>\n      <td>3</td>\n      <td>9</td>\n      <td>0</td>\n      <td>0</td>\n      <td>1</td>\n      <td>4</td>\n      <td>2</td>\n      <td>0</td>\n      <td>0</td>\n      <td>36</td>\n      <td>5</td>\n      <td>61</td>\n    </tr>\n    <tr>\n      <th>March</th>\n      <td>0</td>\n      <td>12</td>\n      <td>202</td>\n      <td>34</td>\n      <td>0</td>\n      <td>0</td>\n      <td>0</td>\n      <td>3</td>\n      <td>0</td>\n      <td>0</td>\n      <td>0</td>\n      <td>2</td>\n      <td>126</td>\n      <td>379</td>\n    </tr>\n    <tr>\n      <th>Overturn</th>\n      <td>0</td>\n      <td>0</td>\n      <td>1</td>\n      <td>155</td>\n      <td>0</td>\n      <td>0</td>\n      <td>0</td>\n      <td>0</td>\n      <td>35</td>\n      <td>0</td>\n      <td>1</td>\n      <td>0</td>\n      <td>20</td>\n      <td>212</td>\n    </tr>\n    <tr>\n      <th>Pilgrimage</th>\n      <td>0</td>\n      <td>0</td>\n      <td>0</td>\n      <td>0</td>\n      <td>0</td>\n      <td>0</td>\n      <td>0</td>\n      <td>0</td>\n      <td>0</td>\n      <td>0</td>\n      <td>0</td>\n      <td>0</td>\n      <td>2</td>\n      <td>2</td>\n    </tr>\n    <tr>\n      <th>ProtestCamp</th>\n      <td>0</td>\n      <td>0</td>\n      <td>2</td>\n      <td>0</td>\n      <td>0</td>\n      <td>0</td>\n      <td>0</td>\n      <td>0</td>\n      <td>0</td>\n      <td>0</td>\n      <td>0</td>\n      <td>0</td>\n      <td>0</td>\n      <td>2</td>\n    </tr>\n    <tr>\n      <th>Rain</th>\n      <td>0</td>\n      <td>5</td>\n      <td>0</td>\n      <td>57</td>\n      <td>0</td>\n      <td>0</td>\n      <td>1</td>\n      <td>3</td>\n      <td>0</td>\n      <td>0</td>\n      <td>23</td>\n      <td>13</td>\n      <td>3</td>\n      <td>105</td>\n    </tr>\n    <tr>\n      <th>Reopening</th>\n      <td>0</td>\n      <td>4</td>\n      <td>0</td>\n      <td>0</td>\n      <td>0</td>\n      <td>0</td>\n      <td>0</td>\n      <td>0</td>\n      <td>0</td>\n      <td>0</td>\n      <td>0</td>\n      <td>0</td>\n      <td>0</td>\n      <td>4</td>\n    </tr>\n    <tr>\n      <th>Sinkhole</th>\n      <td>0</td>\n      <td>2</td>\n      <td>3</td>\n      <td>3</td>\n      <td>0</td>\n      <td>0</td>\n      <td>0</td>\n      <td>0</td>\n      <td>5</td>\n      <td>0</td>\n      <td>0</td>\n      <td>0</td>\n      <td>0</td>\n      <td>13</td>\n    </tr>\n    <tr>\n      <th>StreetWorks</th>\n      <td>2</td>\n      <td>2</td>\n      <td>114</td>\n      <td>104</td>\n      <td>1</td>\n      <td>0</td>\n      <td>0</td>\n      <td>3</td>\n      <td>97</td>\n      <td>2</td>\n      <td>3</td>\n      <td>1</td>\n      <td>56</td>\n      <td>385</td>\n    </tr>\n    <tr>\n      <th>VehicularAccident</th>\n      <td>5</td>\n      <td>1</td>\n      <td>17</td>\n      <td>5115</td>\n      <td>0</td>\n      <td>0</td>\n      <td>2</td>\n      <td>0</td>\n      <td>284</td>\n      <td>0</td>\n      <td>0</td>\n      <td>0</td>\n      <td>447</td>\n      <td>5871</td>\n    </tr>\n    <tr>\n      <th>Waterlogging</th>\n      <td>0</td>\n      <td>0</td>\n      <td>4</td>\n      <td>57</td>\n      <td>0</td>\n      <td>0</td>\n      <td>0</td>\n      <td>2</td>\n      <td>8</td>\n      <td>0</td>\n      <td>0</td>\n      <td>0</td>\n      <td>48</td>\n      <td>119</td>\n    </tr>\n    <tr>\n      <th>Total</th>\n      <td>16</td>\n      <td>386</td>\n      <td>2387</td>\n      <td>7685</td>\n      <td>2</td>\n      <td>6</td>\n      <td>98</td>\n      <td>118</td>\n      <td>791</td>\n      <td>7</td>\n      <td>213</td>\n      <td>425</td>\n      <td>1408</td>\n      <td>13542</td>\n    </tr>\n  </tbody>\n</table>\n</div>"
     },
     "metadata": {},
     "execution_count": 126
    }
   ],
   "source": [
    "cause_effect_table"
   ]
  },
  {
   "cell_type": "code",
   "execution_count": 127,
   "metadata": {},
   "outputs": [
    {
     "output_type": "execute_result",
     "data": {
      "text/plain": [
       "array(['notification_receive', 'notification_dismiss',\n",
       "       'notification_received', 'notification_open',\n",
       "       'notification_opened', 'notification_share',\n",
       "       'notification_view_alternatives'], dtype=object)"
      ]
     },
     "metadata": {},
     "execution_count": 127
    }
   ],
   "source": [
    "notification_df[\"event_name\"].unique()"
   ]
  },
  {
   "cell_type": "code",
   "execution_count": null,
   "metadata": {},
   "outputs": [],
   "source": [
    "#Rename elements on event name: receive and open]\n",
    "[]"
   ]
  },
  {
   "cell_type": "code",
   "execution_count": 138,
   "metadata": {},
   "outputs": [
    {
     "output_type": "execute_result",
     "data": {
      "text/plain": [
       "array(['notification', 'notification_open', 'line_status_detail_screen',\n",
       "       'my_city_screen', 'locate_me_tab', 'notification_share',\n",
       "       'notification_view_alternatives', 'travel_new_details_screen',\n",
       "       'static_map_screen', 'journey_planner_itinerary_details_screen',\n",
       "       'line_status_list_screen', 'settings_home_screen', 'my_city_tab',\n",
       "       'alternative_journey_options_screen'], dtype=object)"
      ]
     },
     "metadata": {},
     "execution_count": 138
    }
   ],
   "source": [
    "weird_table=notification_df.loc[(notification_df[\"join_field\"]==\"source\")]\n",
    "weird_table[\"join_key_value\"].unique()"
   ]
  },
  {
   "cell_type": "code",
   "execution_count": 139,
   "metadata": {},
   "outputs": [
    {
     "output_type": "execute_result",
     "data": {
      "text/plain": [
       "         event_date   event_timestamp             event_name user_id  \\\n",
       "24         20210529  1622254038809000  notification_received   0f737   \n",
       "29         20210529  1622260302438000  notification_received   0f737   \n",
       "82         20210529  1622254036776000  notification_received   baafe   \n",
       "254        20210529  1622258237428000  notification_received   e8300   \n",
       "256        20210529  1622258577858000    notification_opened   e8300   \n",
       "...             ...               ...                    ...     ...   \n",
       "2256251    20210706  1625581262819000  notification_received   e0b4d   \n",
       "2256257    20210706  1625584900674000  notification_received   e0b4d   \n",
       "2256263    20210706  1625587521801000  notification_received   e0b4d   \n",
       "2256278    20210706  1625528529057001  notification_received   427c1   \n",
       "2256286    20210706  1625569119343000  notification_received   427c1   \n",
       "\n",
       "        join_field     join_key_value  \n",
       "24          source       notification  \n",
       "29          source       notification  \n",
       "82          source       notification  \n",
       "254         source       notification  \n",
       "256         source  notification_open  \n",
       "...            ...                ...  \n",
       "2256251     source       notification  \n",
       "2256257     source       notification  \n",
       "2256263     source       notification  \n",
       "2256278     source       notification  \n",
       "2256286     source       notification  \n",
       "\n",
       "[38591 rows x 6 columns]"
      ],
      "text/html": "<div>\n<style scoped>\n    .dataframe tbody tr th:only-of-type {\n        vertical-align: middle;\n    }\n\n    .dataframe tbody tr th {\n        vertical-align: top;\n    }\n\n    .dataframe thead th {\n        text-align: right;\n    }\n</style>\n<table border=\"1\" class=\"dataframe\">\n  <thead>\n    <tr style=\"text-align: right;\">\n      <th></th>\n      <th>event_date</th>\n      <th>event_timestamp</th>\n      <th>event_name</th>\n      <th>user_id</th>\n      <th>join_field</th>\n      <th>join_key_value</th>\n    </tr>\n  </thead>\n  <tbody>\n    <tr>\n      <th>24</th>\n      <td>20210529</td>\n      <td>1622254038809000</td>\n      <td>notification_received</td>\n      <td>0f737</td>\n      <td>source</td>\n      <td>notification</td>\n    </tr>\n    <tr>\n      <th>29</th>\n      <td>20210529</td>\n      <td>1622260302438000</td>\n      <td>notification_received</td>\n      <td>0f737</td>\n      <td>source</td>\n      <td>notification</td>\n    </tr>\n    <tr>\n      <th>82</th>\n      <td>20210529</td>\n      <td>1622254036776000</td>\n      <td>notification_received</td>\n      <td>baafe</td>\n      <td>source</td>\n      <td>notification</td>\n    </tr>\n    <tr>\n      <th>254</th>\n      <td>20210529</td>\n      <td>1622258237428000</td>\n      <td>notification_received</td>\n      <td>e8300</td>\n      <td>source</td>\n      <td>notification</td>\n    </tr>\n    <tr>\n      <th>256</th>\n      <td>20210529</td>\n      <td>1622258577858000</td>\n      <td>notification_opened</td>\n      <td>e8300</td>\n      <td>source</td>\n      <td>notification_open</td>\n    </tr>\n    <tr>\n      <th>...</th>\n      <td>...</td>\n      <td>...</td>\n      <td>...</td>\n      <td>...</td>\n      <td>...</td>\n      <td>...</td>\n    </tr>\n    <tr>\n      <th>2256251</th>\n      <td>20210706</td>\n      <td>1625581262819000</td>\n      <td>notification_received</td>\n      <td>e0b4d</td>\n      <td>source</td>\n      <td>notification</td>\n    </tr>\n    <tr>\n      <th>2256257</th>\n      <td>20210706</td>\n      <td>1625584900674000</td>\n      <td>notification_received</td>\n      <td>e0b4d</td>\n      <td>source</td>\n      <td>notification</td>\n    </tr>\n    <tr>\n      <th>2256263</th>\n      <td>20210706</td>\n      <td>1625587521801000</td>\n      <td>notification_received</td>\n      <td>e0b4d</td>\n      <td>source</td>\n      <td>notification</td>\n    </tr>\n    <tr>\n      <th>2256278</th>\n      <td>20210706</td>\n      <td>1625528529057001</td>\n      <td>notification_received</td>\n      <td>427c1</td>\n      <td>source</td>\n      <td>notification</td>\n    </tr>\n    <tr>\n      <th>2256286</th>\n      <td>20210706</td>\n      <td>1625569119343000</td>\n      <td>notification_received</td>\n      <td>427c1</td>\n      <td>source</td>\n      <td>notification</td>\n    </tr>\n  </tbody>\n</table>\n<p>38591 rows × 6 columns</p>\n</div>"
     },
     "metadata": {},
     "execution_count": 139
    }
   ],
   "source": [
    "weird_table"
   ]
  },
  {
   "cell_type": "code",
   "execution_count": 132,
   "metadata": {},
   "outputs": [
    {
     "output_type": "execute_result",
     "data": {
      "text/plain": [
       "array(['-Maph6wn8GA3SjPIc9HA', '-Maq63vqDUxQRawQ_3Au',\n",
       "       '-Maq7-D7bhcEaFBU1LDW', ..., 'VOZ8CMNr6xGRbrsa0gDjhg',\n",
       "       '-QlfRa5r6xG1Dgex_M6_YA', 'WSvP595q6xGtKn2p0d1yrA'], dtype=object)"
      ]
     },
     "metadata": {},
     "execution_count": 132
    }
   ],
   "source": [
    "weird_table=notification_df.loc[(notification_df[\"join_field\"]==\"label\")]\n",
    "weird_table[\"join_key_value\"].unique()"
   ]
  },
  {
   "cell_type": "code",
   "execution_count": 137,
   "metadata": {},
   "outputs": [
    {
     "output_type": "execute_result",
     "data": {
      "text/plain": [
       "array(['-Maps-egC8fFLZM4HR5g', '-MaqEsbKAqlxGG-RupjR',\n",
       "       '-Maq7-D7bhcEaFBU1LDW', ..., '-MdwYlzEEpRz31WrIpn5',\n",
       "       '-MdwtPkCNIMmog9CCVcK', '-Mdxnjnltl0wZSXhawOz'], dtype=object)"
      ]
     },
     "metadata": {},
     "execution_count": 137
    }
   ],
   "source": [
    "weird_table=notification_df.loc[(notification_df[\"join_field\"]==\"alertId\")]\n",
    "weird_table[\"join_key_value\"].unique()"
   ]
  }
 ]
}