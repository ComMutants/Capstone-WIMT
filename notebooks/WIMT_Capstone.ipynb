{
 "metadata": {
  "language_info": {
   "codemirror_mode": {
    "name": "ipython",
    "version": 3
   },
   "file_extension": ".py",
   "mimetype": "text/x-python",
   "name": "python",
   "nbconvert_exporter": "python",
   "pygments_lexer": "ipython3",
   "version": "3.8.5"
  },
  "orig_nbformat": 4,
  "kernelspec": {
   "name": "python3",
   "display_name": "Python 3.8.5 64-bit ('.venv': venv)"
  },
  "interpreter": {
   "hash": "f7e9aa0a9fe1ceb3c33c5aa0b358d6952771ff9c315b2715a747dc81bd71c7e9"
  }
 },
 "nbformat": 4,
 "nbformat_minor": 2,
 "cells": [
  {
   "cell_type": "code",
   "execution_count": 1,
   "metadata": {},
   "outputs": [],
   "source": [
    "import sys\n",
    "# adding to the path variables the one folder higher (locally, not changing system variables)\n",
    "sys.path.append(\"..\")\n",
    "import pandas as pd\n",
    "import numpy as np\n",
    "import warnings\n",
    "import mlflow\n",
    "from modeling.config import TRACKING_URI, EXPERIMENT_NAME\n",
    "from pandas_profiling import ProfileReport\n",
    "# import torch"
   ]
  },
  {
   "source": [
    "# Read json files"
   ],
   "cell_type": "markdown",
   "metadata": {}
  },
  {
   "cell_type": "code",
   "execution_count": 2,
   "metadata": {},
   "outputs": [],
   "source": [
    "alert_df=pd.read_json(\"../data/alerts_cleaned.json\")"
   ]
  },
  {
   "cell_type": "code",
   "execution_count": 3,
   "metadata": {},
   "outputs": [],
   "source": [
    "corazon_df= pd.read_json(\"../data/notification-labels-to-alert-surrogate-ids.json\")"
   ]
  },
  {
   "cell_type": "code",
   "execution_count": 4,
   "metadata": {},
   "outputs": [],
   "source": [
    "notification_df=pd.read_json(\"../data/notifications.json\")"
   ]
  },
  {
   "source": [
    "# Data Frame Cleaning"
   ],
   "cell_type": "markdown",
   "metadata": {}
  },
  {
   "source": [
    "## Merging alert df with agency dummy variables"
   ],
   "cell_type": "markdown",
   "metadata": {}
  },
  {
   "cell_type": "code",
   "execution_count": 5,
   "metadata": {},
   "outputs": [],
   "source": [
    "alert2= alert_df[['surrogate_id','agency']].set_index('surrogate_id')\n",
    "alert2= pd.get_dummies(alert2)\n",
    "grouped_alert= alert2.groupby(by='surrogate_id').sum()\n",
    "alert_df.drop(['agency'], axis=1, inplace=True)\n",
    "alert_df.drop_duplicates(subset='surrogate_id',inplace=True,ignore_index=True)\n",
    "alert_df= pd.merge(alert_df,grouped_alert, on='surrogate_id')"
   ]
  },
  {
   "source": [
    "## Merging notification df with corazon df"
   ],
   "cell_type": "markdown",
   "metadata": {}
  },
  {
   "cell_type": "code",
   "execution_count": 6,
   "metadata": {},
   "outputs": [],
   "source": [
    "notification_df.drop_duplicates(inplace=True,ignore_index=True)\n",
    "corazon_df.drop(['day'], axis=1, inplace=True)\n",
    "corazon_df.drop_duplicates(inplace=True, ignore_index=True)\n",
    "real_merge= notification_df.merge(corazon_df, how=\"left\", left_on=\"join_key_value\", right_on=\"notification_label_id\")"
   ]
  },
  {
   "source": [
    "## Merging all df together"
   ],
   "cell_type": "markdown",
   "metadata": {}
  },
  {
   "cell_type": "code",
   "execution_count": 7,
   "metadata": {},
   "outputs": [
    {
     "output_type": "execute_result",
     "data": {
      "text/plain": [
       "(2274889, 8)"
      ]
     },
     "metadata": {},
     "execution_count": 7
    }
   ],
   "source": [
    "real_merge.shape"
   ]
  },
  {
   "cell_type": "code",
   "execution_count": 8,
   "metadata": {},
   "outputs": [],
   "source": [
    "#Queried df for proper merging\n",
    "label_merger= real_merge.query(\"join_field == 'label'\")\n",
    "alert_id_merger= real_merge.query(\"join_field == 'alertId'\")"
   ]
  },
  {
   "cell_type": "code",
   "execution_count": 9,
   "metadata": {},
   "outputs": [],
   "source": [
    "clean_df=label_merger.merge(alert_df, how=\"left\",left_on=\"corazon_surrogate_id\", right_on=\"surrogate_id\")"
   ]
  },
  {
   "cell_type": "code",
   "execution_count": 10,
   "metadata": {},
   "outputs": [],
   "source": [
    "clean_df_3=alert_id_merger.merge(alert_df, how=\"left\",left_on=\"join_key_value\", right_on=\"document_id\")"
   ]
  },
  {
   "cell_type": "code",
   "execution_count": 11,
   "metadata": {},
   "outputs": [],
   "source": [
    "clean_df_2=clean_df[clean_df['description'].isnull()]\n",
    "clean_df.dropna(subset=['description'],inplace=True)\n",
    "clean_df_2=clean_df_2[[\"event_date\",\"event_timestamp\", \"event_name\",\"user_id\",\"join_field\",\"join_key_value\"]]\n",
    "clean_df_4=clean_df_2.merge(alert_df, how=\"left\",left_on=\"join_key_value\", right_on=\"document_id\")\n",
    "clean_df_4.dropna(subset=['created_at'],inplace=True)\n",
    "\n",
    "#Error! Notification open cant be related to any alerts. Ask"
   ]
  },
  {
   "cell_type": "code",
   "execution_count": 13,
   "metadata": {},
   "outputs": [],
   "source": [
    "# Finding more problems"
   ]
  },
  {
   "cell_type": "code",
   "execution_count": 14,
   "metadata": {},
   "outputs": [
    {
     "output_type": "execute_result",
     "data": {
      "text/plain": [
       "null                    484\n",
       "-MddArdZ4i8kL5p7wG0H    466\n",
       "-MdYiDEUKL6_4QGni-7o    421\n",
       "-Me5bbxeM43sR8EbuLd2    386\n",
       "-Mdt2BT-2y05YXyJctt2    371\n",
       "                       ... \n",
       "-Mde9L0oTy1vODzHW294      1\n",
       "-Mb2OcjgCicoGbENOVIQ      1\n",
       "-McEmQIbv558V8RxXBIU      1\n",
       "-Me1JV-RKQX-qj-_7QU8      1\n",
       "-Ma9-5EDz-3vPh4VZOSb      1\n",
       "Name: join_key_value, Length: 2289, dtype: int64"
      ]
     },
     "metadata": {},
     "execution_count": 14
    }
   ],
   "source": [
    "clean_df_3[\"join_key_value\"].value_counts()"
   ]
  },
  {
   "cell_type": "code",
   "execution_count": 15,
   "metadata": {},
   "outputs": [
    {
     "output_type": "execute_result",
     "data": {
      "text/plain": [
       "False    2826\n",
       "True      673\n",
       "Name: description, dtype: int64"
      ]
     },
     "metadata": {},
     "execution_count": 15
    }
   ],
   "source": [
    "clean_df_3.query(\"event_name == 'notification_opened'\")[\"description\"].isnull().value_counts()\n",
    "# Ask Ellen, 700 are gone"
   ]
  },
  {
   "cell_type": "code",
   "execution_count": 16,
   "metadata": {},
   "outputs": [],
   "source": [
    "#Another merge"
   ]
  },
  {
   "cell_type": "code",
   "execution_count": 17,
   "metadata": {},
   "outputs": [
    {
     "output_type": "execute_result",
     "data": {
      "text/plain": [
       "False    32180\n",
       "True      4308\n",
       "Name: description, dtype: int64"
      ]
     },
     "metadata": {},
     "execution_count": 17
    }
   ],
   "source": [
    "clean_df_3[\"description\"].isnull().value_counts()"
   ]
  },
  {
   "cell_type": "code",
   "execution_count": 18,
   "metadata": {},
   "outputs": [],
   "source": [
    "clean_df_3.dropna(subset=['description'],inplace=True)"
   ]
  },
  {
   "cell_type": "code",
   "execution_count": 19,
   "metadata": {},
   "outputs": [],
   "source": [
    "almost_finished_df= pd.concat([clean_df,clean_df_4], axis=0)\n",
    "finished_df= pd.concat([almost_finished_df,clean_df_3], axis=0)"
   ]
  },
  {
   "cell_type": "code",
   "execution_count": 20,
   "metadata": {},
   "outputs": [
    {
     "output_type": "execute_result",
     "data": {
      "text/plain": [
       "    event_date   event_timestamp            event_name user_id join_field  \\\n",
       "5     20210529  1622240527928000  notification_receive   ac6d3      label   \n",
       "6     20210529  1622240959952000  notification_dismiss   ac6d3      label   \n",
       "7     20210529  1622248553374000  notification_receive   ac6d3      label   \n",
       "8     20210529  1622248568285001  notification_dismiss   ac6d3      label   \n",
       "10    20210529  1622258011584001  notification_receive   ac6d3      label   \n",
       "\n",
       "            join_key_value    corazon_surrogate_id   notification_label_id  \\\n",
       "5   o3RXFQPA6xGpKOFIXMTiIg  4Np4EQPA6xGpKOFIXMTiIg  o3RXFQPA6xGpKOFIXMTiIg   \n",
       "6   o3RXFQPA6xGpKOFIXMTiIg  4Np4EQPA6xGpKOFIXMTiIg  o3RXFQPA6xGpKOFIXMTiIg   \n",
       "7   M1Mb7hDA6xGpKOFIXMTiIg  kGA96xDA6xGpKOFIXMTiIg  M1Mb7hDA6xGpKOFIXMTiIg   \n",
       "8   M1Mb7hDA6xGpKOFIXMTiIg  kGA96xDA6xGpKOFIXMTiIg  M1Mb7hDA6xGpKOFIXMTiIg   \n",
       "10  E4TxyCvA6xGpKOFIXMTiIg  YKlNxSvA6xGpKOFIXMTiIg  E4TxyCvA6xGpKOFIXMTiIg   \n",
       "\n",
       "             document_id            surrogate_id  ...  \\\n",
       "5   -Map3NyDNGaNwnfF6F0B  4Np4EQPA6xGpKOFIXMTiIg  ...   \n",
       "6   -Map3NyDNGaNwnfF6F0B  4Np4EQPA6xGpKOFIXMTiIg  ...   \n",
       "7   -MapQ4JNaTLEWbF2EG-b  kGA96xDA6xGpKOFIXMTiIg  ...   \n",
       "8   -MapQ4JNaTLEWbF2EG-b  kGA96xDA6xGpKOFIXMTiIg  ...   \n",
       "10  -Maq63vqDUxQRawQ_3Au  YKlNxSvA6xGpKOFIXMTiIg  ...   \n",
       "\n",
       "   agency_GtvOEQAFZ0GtU6u4AXwvPg agency_HE59N3RXM0q5vKu4AXlQZg  \\\n",
       "5                            1.0                           0.0   \n",
       "6                            1.0                           0.0   \n",
       "7                            1.0                           0.0   \n",
       "8                            1.0                           0.0   \n",
       "10                           0.0                           0.0   \n",
       "\n",
       "   agency_JUR9bFXmVkWDHqu4AXaY0g agency_JfA8Bw8Zp024Kqu4AXiSpQ  \\\n",
       "5                            0.0                           0.0   \n",
       "6                            0.0                           0.0   \n",
       "7                            0.0                           0.0   \n",
       "8                            0.0                           0.0   \n",
       "10                           0.0                           1.0   \n",
       "\n",
       "   agency_MgUq5b9mOEunx6u4AXt_BA agency_NuuRQ2I1Q0a50Kv-AVKlLA  \\\n",
       "5                            0.0                           0.0   \n",
       "6                            0.0                           0.0   \n",
       "7                            0.0                           0.0   \n",
       "8                            0.0                           0.0   \n",
       "10                           0.0                           0.0   \n",
       "\n",
       "   agency_V2AIQQKgmUO3VazvAOA-Cw  agency_jLjibFoim0iwWau4AWoEdQ  \\\n",
       "5                            0.0                            0.0   \n",
       "6                            0.0                            0.0   \n",
       "7                            0.0                            0.0   \n",
       "8                            0.0                            0.0   \n",
       "10                           0.0                            0.0   \n",
       "\n",
       "    agency_pky7jovXYkaw-awAAMrQ3g  agency_zCy9zG00HEqGeKu4AWZYNQ  \n",
       "5                             0.0                            1.0  \n",
       "6                             0.0                            1.0  \n",
       "7                             0.0                            1.0  \n",
       "8                             0.0                            1.0  \n",
       "10                            0.0                            1.0  \n",
       "\n",
       "[5 rows x 30 columns]"
      ],
      "text/html": "<div>\n<style scoped>\n    .dataframe tbody tr th:only-of-type {\n        vertical-align: middle;\n    }\n\n    .dataframe tbody tr th {\n        vertical-align: top;\n    }\n\n    .dataframe thead th {\n        text-align: right;\n    }\n</style>\n<table border=\"1\" class=\"dataframe\">\n  <thead>\n    <tr style=\"text-align: right;\">\n      <th></th>\n      <th>event_date</th>\n      <th>event_timestamp</th>\n      <th>event_name</th>\n      <th>user_id</th>\n      <th>join_field</th>\n      <th>join_key_value</th>\n      <th>corazon_surrogate_id</th>\n      <th>notification_label_id</th>\n      <th>document_id</th>\n      <th>surrogate_id</th>\n      <th>...</th>\n      <th>agency_GtvOEQAFZ0GtU6u4AXwvPg</th>\n      <th>agency_HE59N3RXM0q5vKu4AXlQZg</th>\n      <th>agency_JUR9bFXmVkWDHqu4AXaY0g</th>\n      <th>agency_JfA8Bw8Zp024Kqu4AXiSpQ</th>\n      <th>agency_MgUq5b9mOEunx6u4AXt_BA</th>\n      <th>agency_NuuRQ2I1Q0a50Kv-AVKlLA</th>\n      <th>agency_V2AIQQKgmUO3VazvAOA-Cw</th>\n      <th>agency_jLjibFoim0iwWau4AWoEdQ</th>\n      <th>agency_pky7jovXYkaw-awAAMrQ3g</th>\n      <th>agency_zCy9zG00HEqGeKu4AWZYNQ</th>\n    </tr>\n  </thead>\n  <tbody>\n    <tr>\n      <th>5</th>\n      <td>20210529</td>\n      <td>1622240527928000</td>\n      <td>notification_receive</td>\n      <td>ac6d3</td>\n      <td>label</td>\n      <td>o3RXFQPA6xGpKOFIXMTiIg</td>\n      <td>4Np4EQPA6xGpKOFIXMTiIg</td>\n      <td>o3RXFQPA6xGpKOFIXMTiIg</td>\n      <td>-Map3NyDNGaNwnfF6F0B</td>\n      <td>4Np4EQPA6xGpKOFIXMTiIg</td>\n      <td>...</td>\n      <td>1.0</td>\n      <td>0.0</td>\n      <td>0.0</td>\n      <td>0.0</td>\n      <td>0.0</td>\n      <td>0.0</td>\n      <td>0.0</td>\n      <td>0.0</td>\n      <td>0.0</td>\n      <td>1.0</td>\n    </tr>\n    <tr>\n      <th>6</th>\n      <td>20210529</td>\n      <td>1622240959952000</td>\n      <td>notification_dismiss</td>\n      <td>ac6d3</td>\n      <td>label</td>\n      <td>o3RXFQPA6xGpKOFIXMTiIg</td>\n      <td>4Np4EQPA6xGpKOFIXMTiIg</td>\n      <td>o3RXFQPA6xGpKOFIXMTiIg</td>\n      <td>-Map3NyDNGaNwnfF6F0B</td>\n      <td>4Np4EQPA6xGpKOFIXMTiIg</td>\n      <td>...</td>\n      <td>1.0</td>\n      <td>0.0</td>\n      <td>0.0</td>\n      <td>0.0</td>\n      <td>0.0</td>\n      <td>0.0</td>\n      <td>0.0</td>\n      <td>0.0</td>\n      <td>0.0</td>\n      <td>1.0</td>\n    </tr>\n    <tr>\n      <th>7</th>\n      <td>20210529</td>\n      <td>1622248553374000</td>\n      <td>notification_receive</td>\n      <td>ac6d3</td>\n      <td>label</td>\n      <td>M1Mb7hDA6xGpKOFIXMTiIg</td>\n      <td>kGA96xDA6xGpKOFIXMTiIg</td>\n      <td>M1Mb7hDA6xGpKOFIXMTiIg</td>\n      <td>-MapQ4JNaTLEWbF2EG-b</td>\n      <td>kGA96xDA6xGpKOFIXMTiIg</td>\n      <td>...</td>\n      <td>1.0</td>\n      <td>0.0</td>\n      <td>0.0</td>\n      <td>0.0</td>\n      <td>0.0</td>\n      <td>0.0</td>\n      <td>0.0</td>\n      <td>0.0</td>\n      <td>0.0</td>\n      <td>1.0</td>\n    </tr>\n    <tr>\n      <th>8</th>\n      <td>20210529</td>\n      <td>1622248568285001</td>\n      <td>notification_dismiss</td>\n      <td>ac6d3</td>\n      <td>label</td>\n      <td>M1Mb7hDA6xGpKOFIXMTiIg</td>\n      <td>kGA96xDA6xGpKOFIXMTiIg</td>\n      <td>M1Mb7hDA6xGpKOFIXMTiIg</td>\n      <td>-MapQ4JNaTLEWbF2EG-b</td>\n      <td>kGA96xDA6xGpKOFIXMTiIg</td>\n      <td>...</td>\n      <td>1.0</td>\n      <td>0.0</td>\n      <td>0.0</td>\n      <td>0.0</td>\n      <td>0.0</td>\n      <td>0.0</td>\n      <td>0.0</td>\n      <td>0.0</td>\n      <td>0.0</td>\n      <td>1.0</td>\n    </tr>\n    <tr>\n      <th>10</th>\n      <td>20210529</td>\n      <td>1622258011584001</td>\n      <td>notification_receive</td>\n      <td>ac6d3</td>\n      <td>label</td>\n      <td>E4TxyCvA6xGpKOFIXMTiIg</td>\n      <td>YKlNxSvA6xGpKOFIXMTiIg</td>\n      <td>E4TxyCvA6xGpKOFIXMTiIg</td>\n      <td>-Maq63vqDUxQRawQ_3Au</td>\n      <td>YKlNxSvA6xGpKOFIXMTiIg</td>\n      <td>...</td>\n      <td>0.0</td>\n      <td>0.0</td>\n      <td>0.0</td>\n      <td>1.0</td>\n      <td>0.0</td>\n      <td>0.0</td>\n      <td>0.0</td>\n      <td>0.0</td>\n      <td>0.0</td>\n      <td>1.0</td>\n    </tr>\n  </tbody>\n</table>\n<p>5 rows × 30 columns</p>\n</div>"
     },
     "metadata": {},
     "execution_count": 20
    }
   ],
   "source": [
    "finished_df.head()"
   ]
  },
  {
   "cell_type": "code",
   "execution_count": 21,
   "metadata": {},
   "outputs": [
    {
     "output_type": "execute_result",
     "data": {
      "text/plain": [
       "Index(['event_date', 'event_timestamp', 'event_name', 'user_id', 'join_field',\n",
       "       'join_key_value', 'corazon_surrogate_id', 'notification_label_id',\n",
       "       'document_id', 'surrogate_id', 'created_at', 'published_at',\n",
       "       'closed_at', 'cause', 'effect', 'description', 'is_global',\n",
       "       'area_of_effect_coordinates_latitude',\n",
       "       'area_of_effect_coordinates_longitude', 'agency_GewRJAw5tUmC4Ku4AX1-SQ',\n",
       "       'agency_GtvOEQAFZ0GtU6u4AXwvPg', 'agency_HE59N3RXM0q5vKu4AXlQZg',\n",
       "       'agency_JUR9bFXmVkWDHqu4AXaY0g', 'agency_JfA8Bw8Zp024Kqu4AXiSpQ',\n",
       "       'agency_MgUq5b9mOEunx6u4AXt_BA', 'agency_NuuRQ2I1Q0a50Kv-AVKlLA',\n",
       "       'agency_V2AIQQKgmUO3VazvAOA-Cw', 'agency_jLjibFoim0iwWau4AWoEdQ',\n",
       "       'agency_pky7jovXYkaw-awAAMrQ3g', 'agency_zCy9zG00HEqGeKu4AWZYNQ'],\n",
       "      dtype='object')"
      ]
     },
     "metadata": {},
     "execution_count": 21
    }
   ],
   "source": [
    "finished_df.columns"
   ]
  },
  {
   "source": [
    "## Dropping irrelevant columns"
   ],
   "cell_type": "markdown",
   "metadata": {}
  },
  {
   "cell_type": "code",
   "execution_count": 22,
   "metadata": {},
   "outputs": [],
   "source": [
    "export_df=finished_df.drop(['event_date','join_field','join_key_value','is_global','corazon_surrogate_id','notification_label_id'], axis=1)"
   ]
  },
  {
   "source": [
    "## Fixing the event_name column:"
   ],
   "cell_type": "markdown",
   "metadata": {}
  },
  {
   "cell_type": "code",
   "execution_count": 23,
   "metadata": {},
   "outputs": [],
   "source": [
    "export_df[\"event_name\"].replace(\"notification_receive\",\"notification_received\", inplace=True)"
   ]
  },
  {
   "cell_type": "code",
   "execution_count": 24,
   "metadata": {},
   "outputs": [],
   "source": [
    "export_df[\"event_name\"].replace(\"notification_open\",\"notification_opened\", inplace=True)"
   ]
  },
  {
   "source": [
    "## Exporting the df to a json file, so it is easier to deal without the cleaning part."
   ],
   "cell_type": "markdown",
   "metadata": {}
  },
  {
   "cell_type": "code",
   "execution_count": 25,
   "metadata": {},
   "outputs": [],
   "source": [
    "export_df.reset_index(inplace=True, drop=True)"
   ]
  },
  {
   "cell_type": "code",
   "execution_count": 26,
   "metadata": {},
   "outputs": [],
   "source": [
    "export_df.to_json(\"../data/cleaned_data.json\",orient='columns')"
   ]
  },
  {
   "cell_type": "code",
   "execution_count": 27,
   "metadata": {},
   "outputs": [
    {
     "output_type": "stream",
     "name": "stdout",
     "text": [
      "Requirement already satisfied: pyarrow in /Users/fortes/neuefische/Capstone-WIMT/.venv/lib/python3.8/site-packages (4.0.1)\nRequirement already satisfied: numpy>=1.16.6 in /Users/fortes/neuefische/Capstone-WIMT/.venv/lib/python3.8/site-packages (from pyarrow) (1.21.0)\n"
     ]
    }
   ],
   "source": [
    "!pip3 install pyarrow\n",
    "import pyarrow.feather as feather\n",
    "feather.write_feather(export_df, \"../data/cleaned_data.feather\")"
   ]
  },
  {
   "cell_type": "code",
   "execution_count": 28,
   "metadata": {},
   "outputs": [],
   "source": [
    "export_df = feather.read_feather(\"../data/cleaned_data.feather\")"
   ]
  }
 ]
}