{
 "cells": [
  {
   "cell_type": "code",
   "execution_count": null,
   "source": [
    "from sklearn.ensemble import RandomForestClassifier\n",
    "\n",
    "# Create the model with 100 trees\n",
    "model = RandomForestClassifier(\n",
    "n_estimators=100,\n",
    "class_weight='balanced','None'\n",
    "max_features='sqrt','log'\n",
    "'max_depth': [5,10,25,50,'None'],\n",
    "'min_samples_leaf':[50,200,500]\n",
    "random_state=RSEED, \n",
    "max_features = 'sqrt',\n",
    "n_jobs=-1, verbose = 10,\n",
    "\n"
   ],
   "outputs": [],
   "metadata": {}
  },
  {
   "cell_type": "code",
   "execution_count": null,
   "source": [
    "other_params={\"num_boost_round\":50000000,\n",
    "              \"early_stopping_rounds\":50,\n",
    "              \"verbose_eval\":1000,\n",
    "}\n",
    "lgbm_params = {\n",
    "    \"bagging_fraction\": 0.8,\n",
    "    \"bagging_freq\": 2,\n",
    "    \"boosting_type\": \"gbdt\",\n",
    "    \"feature_fraction\": 0.8,\n",
    "    \"learning_rate\": 0.01,\n",
    "    \"max_depth\": 8,\n",
    "    \"num_threads\": 16,\n",
    "    \"objective\": \"regression\",\n",
    "    \"metric\": \"rmse\",\n",
    "    \"seed\": 2020,\n",
    "}"
   ],
   "outputs": [],
   "metadata": {}
  }
 ],
 "metadata": {
  "orig_nbformat": 4,
  "language_info": {
   "name": "python"
  }
 },
 "nbformat": 4,
 "nbformat_minor": 2
}