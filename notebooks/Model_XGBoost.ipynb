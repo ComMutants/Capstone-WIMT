{
 "metadata": {
  "language_info": {
   "codemirror_mode": {
    "name": "ipython",
    "version": 3
   },
   "file_extension": ".py",
   "mimetype": "text/x-python",
   "name": "python",
   "nbconvert_exporter": "python",
   "pygments_lexer": "ipython3",
   "version": "3.8.5"
  },
  "orig_nbformat": 4,
  "kernelspec": {
   "name": "python3",
   "display_name": "Python 3.8.5 64-bit ('.venv': venv)"
  },
  "interpreter": {
   "hash": "f7e9aa0a9fe1ceb3c33c5aa0b358d6952771ff9c315b2715a747dc81bd71c7e9"
  }
 },
 "nbformat": 4,
 "nbformat_minor": 2,
 "cells": [
  {
   "cell_type": "code",
   "execution_count": null,
   "source": [
    "import numpy as np  \n",
    "import pandas as pd  \n",
    "from sklearn.model_selection import RepeatedStratifiedKFold\n",
    "!pip install xgboost\n",
    "from xgboost import XGBClassifier\n",
    "import pyarrow.feather as feather\n",
    "from sklearn.model_selection import GridSearchCV\n",
    "from sklearn.metrics import balanced_accuracy_score, confusion_matrix,classification_report\n",
    "from sklearn.model_selection import train_test_split\n",
    "import shap\n",
    "import warnings\n",
    "import shap\n",
    "warnings.filterwarnings('ignore')\n",
    "RSEED= 12"
   ],
   "outputs": [],
   "metadata": {}
  },
  {
   "cell_type": "markdown",
   "source": [
    "# Exporting dataframe\n",
    "### Changing the format of a column that was causing problems"
   ],
   "metadata": {}
  },
  {
   "cell_type": "code",
   "execution_count": null,
   "source": [
    "export_df = feather.read_feather(\"../data/cleaned_data.feather\")\n",
    "export_df['lenght']=[row.astype(int) for row in export_df['lenght']]"
   ],
   "outputs": [],
   "metadata": {}
  },
  {
   "cell_type": "markdown",
   "source": [
    "# Functions for running XGBoost"
   ],
   "metadata": {}
  },
  {
   "cell_type": "code",
   "execution_count": null,
   "source": [
    "# Function to split the dataset \n",
    "def splitdataset(df):\n",
    "    ''' \n",
    "    Function for spliting the dataset, aiming four our target and stratifying the data.\n",
    "    Return train and test variables.\n",
    "    '''\n",
    "    y=export_df[\"interesting_message\"]\n",
    "    X=export_df.drop(\"interesting_message\",axis=1)\n",
    "    X_train, X_test, y_train, y_test = train_test_split(X,y, stratify = y, test_size = 0.2,random_state = RSEED)\n",
    "    print(y_train.dtypes)\n",
    "    return X_train, X_test, y_train, y_test"
   ],
   "outputs": [],
   "metadata": {}
  },
  {
   "cell_type": "code",
   "execution_count": null,
   "source": [
    "def train_xgb(X_train, X_test, y_train):\n",
    "    '''\n",
    "    Function for training xgboost, it includes hyperparameter tuning and cross validation.\n",
    "    Returns best model achieved.\n",
    "    '''\n",
    "    \n",
    "    # Creating the classifier object \n",
    "    xgb_class = XGBClassifier(use_label_encoder=False,eval_metric= \"logloss\")\n",
    "    xgb_parametering= {'scale_pos_weight': [4]}\n",
    "    cv = RepeatedStratifiedKFold(n_splits=5, n_repeats=3, random_state=1)\n",
    "    xgb_grid = GridSearchCV(estimator=xgb_class, param_grid=xgb_parametering, cv=cv,scoring='balanced_accuracy',\n",
    "    verbose=10, n_jobs=-1)\n",
    "    grid_result=xgb_grid.fit(X_train,y_train)\n",
    "    best_model=grid_result.best_estimator_\n",
    "    # report the best configuration\n",
    "    print(\"Best: %f using %s\" % (grid_result.best_score_, grid_result.best_params_))\n",
    "    return best_model"
   ],
   "outputs": [],
   "metadata": {}
  },
  {
   "cell_type": "code",
   "execution_count": null,
   "source": [
    "# Function to make predictions \n",
    "def prediction(X_test, model):\n",
    "    '''\n",
    "    Function for predicting classification with input model.\n",
    "    Return prediction values.\n",
    "    ''' \n",
    "    y_pred = model.predict(X_test)\n",
    "    return y_pred "
   ],
   "outputs": [],
   "metadata": {}
  },
  {
   "cell_type": "code",
   "execution_count": null,
   "source": [
    "# Function to calculate accuracy \n",
    "def class_metrics(y_test, y_pred): \n",
    "    '''\n",
    "    Function to evaluate results achieved on prediction.\n",
    "    Returns confusion matrix and balanced accuracy.\n",
    "    '''\n",
    "    accuracy = balanced_accuracy_score(y_test, y_pred)\n",
    "    cm = confusion_matrix(y_test, y_pred).round()\n",
    "    print(\"Predicted values:\\n\", y_pred) \n",
    "    print(\"Confusion Matrix: \\n\", cm) \n",
    "    print(\"Balanced Accuracy: %.4f%%\" % (accuracy * 100.0))\n",
    "    print(\"Report : \\n\", classification_report(y_test, y_pred))\n",
    "    return cm, accuracy"
   ],
   "outputs": [],
   "metadata": {}
  },
  {
   "cell_type": "code",
   "execution_count": null,
   "source": [
    "def plot_importance (model,X_train):\n",
    "    '''\n",
    "    Function for plotting the shap values (importance of features) of the given model.\n",
    "    It plots the most important values, and returns theses values and the explainer model.\n",
    "    '''\n",
    "    explainer=shap.TreeExplainer(model,data=X_train)\n",
    "    shap_values = explainer.shap_values(X_train)\n",
    "    shap.summary_plot(shap_values, X_train, plot_type=\"bar\")\n",
    "    return shap_values,explainer"
   ],
   "outputs": [],
   "metadata": {}
  },
  {
   "cell_type": "code",
   "execution_count": null,
   "source": [
    "def get_importances (shap_values):\n",
    "    '''\n",
    "    Function for getting the shap values (importance of features).\n",
    "    Prints the head of these values and returns the values in descending order of importance.\n",
    "    '''\n",
    "    vals= np.abs(shap_values).mean(0)\n",
    "    feature_importance = pd.DataFrame(list(zip(X_train.columns,vals)),columns=['col_name','feature_importance_vals'])\n",
    "    feature_importance.sort_values(by=['feature_importance_vals'],ascending=False,inplace=True)\n",
    "    feature_importance.head()\n",
    "    return feature_importance"
   ],
   "outputs": [],
   "metadata": {}
  },
  {
   "cell_type": "code",
   "execution_count": null,
   "source": [
    "# Driver code \n",
    "def main():\n",
    "    '''\n",
    "    Main for running the xgboost modeling.\n",
    "    Returns base model, prediction, confusion matrix, balanced accuracy and the features split for the importance analysis.\n",
    "    '''\n",
    "    # Building Phase \n",
    "    X_train, X_test, y_train, y_test = splitdataset(export_df) \n",
    "    basemodel = train_xgb(X_train, X_test, y_train)\n",
    "    # Operational Phase \n",
    "    print(\"-----\"*15)\n",
    "    print(\"Results:\\n\")\n",
    "    # Prediction\n",
    "    y_pred = prediction(X_test, basemodel) \n",
    "    cm,accuracy=class_metrics(y_test, y_pred)\n",
    "    return basemodel,y_pred,cm,accuracy,X_train"
   ],
   "outputs": [],
   "metadata": {}
  },
  {
   "cell_type": "markdown",
   "source": [
    "# Running XGBoost model"
   ],
   "metadata": {}
  },
  {
   "cell_type": "code",
   "execution_count": null,
   "source": [
    "basemodel,y_pred,cm,accuracy,X_train=main()"
   ],
   "outputs": [],
   "metadata": {
    "tags": []
   }
  },
  {
   "cell_type": "markdown",
   "source": [
    "### Getting the importance of the features"
   ],
   "metadata": {}
  },
  {
   "cell_type": "code",
   "execution_count": null,
   "source": [
    "shap_values,explainer=plot_importance (basemodel,X_train)"
   ],
   "outputs": [],
   "metadata": {}
  },
  {
   "cell_type": "markdown",
   "source": [
    "### Getting the importance of features in 4 different example, one for each case (TN,TP,FP,FN)"
   ],
   "metadata": {}
  },
  {
   "cell_type": "code",
   "execution_count": null,
   "source": [
    "X_train, X_test, y_train, y_test=splitdataset(export_df)\n",
    "data_for_prediction = X_test.iloc[0:1,:].values.astype('float')\n",
    "background = X_train.iloc[0:100,:].values.astype('float')"
   ],
   "outputs": [],
   "metadata": {}
  },
  {
   "cell_type": "code",
   "execution_count": null,
   "source": [
    "#TRUE NEGATIVE\n",
    "shap.initjs()\n",
    "shap.force_plot(explainer.expected_value,shap_values[0],data_for_prediction, feature_names=X_test.columns)"
   ],
   "outputs": [],
   "metadata": {}
  },
  {
   "cell_type": "code",
   "execution_count": null,
   "source": [
    "#FALSE NEGATIVE\n",
    "shap.force_plot(explainer.expected_value,shap_values[1],data_for_prediction, feature_names=X_test.columns)"
   ],
   "outputs": [],
   "metadata": {}
  },
  {
   "cell_type": "code",
   "execution_count": null,
   "source": [
    "shap.initjs()\n",
    "#TRUE POSITIVE\n",
    "shap.force_plot(explainer.expected_value,shap_values[5],data_for_prediction, feature_names=X_test.columns)"
   ],
   "outputs": [],
   "metadata": {}
  },
  {
   "cell_type": "code",
   "execution_count": null,
   "source": [
    "shap.initjs()\n",
    "#FALSE POSITIVE\n",
    "shap.force_plot(explainer.expected_value,shap_values[10],data_for_prediction, feature_names=X_test.columns)"
   ],
   "outputs": [],
   "metadata": {}
  },
  {
   "cell_type": "markdown",
   "source": [
    "### Saving some of the values of our model on a txt file"
   ],
   "metadata": {}
  },
  {
   "cell_type": "code",
   "execution_count": null,
   "source": [
    "f = open('ml-log_xgboost.txt', 'a')\n",
    "f.write('Base model: XGBoost\\n Predicted values:\\n {}\\n Confusion Matrix:\\n {}\\n Balanced Accuracy:\\n {} \\n Model: {}'.format(y_pred,cm,accuracy,basemodel))\n",
    "f.close()"
   ],
   "outputs": [],
   "metadata": {}
  },
  {
   "cell_type": "markdown",
   "source": [],
   "metadata": {}
  }
 ]
}